{
 "cells": [
  {
   "cell_type": "code",
   "execution_count": 1,
   "id": "b3f8b1a1",
   "metadata": {},
   "outputs": [
    {
     "name": "stdout",
     "output_type": "stream",
     "text": [
      "Collecting selenium\n",
      "  Downloading selenium-3.141.0-py2.py3-none-any.whl (904 kB)\n",
      "Requirement already satisfied: urllib3 in c:\\users\\lee\\anaconda3\\lib\\site-packages (from selenium) (1.26.4)\n",
      "Installing collected packages: selenium\n",
      "Successfully installed selenium-3.141.0\n"
     ]
    }
   ],
   "source": [
    "# !pip install selenium"
   ]
  },
  {
   "cell_type": "code",
   "execution_count": 12,
   "id": "39b5df51",
   "metadata": {},
   "outputs": [
    {
     "ename": "ElementClickInterceptedException",
     "evalue": "Message: element click intercepted: Element <img src=\"data:image/jpeg;base64,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\" data-deferred=\"1\" class=\"rg_i Q4LuWd\" jsname=\"Q4LuWd\" width=\"216\" height=\"216\" alt=\"아이유, 청담동 아파트 130억원에 분양...전액 현금 납부 - 조선일보\" data-iml=\"639.6999999880791\" data-atf=\"true\"> is not clickable at point (128, 844). Other element would receive the click: <div jsname=\"r5xl4\" class=\"islrc\" style=\"width: 444px;\">...</div>\n  (Session info: chrome=92.0.4515.107)\n",
     "output_type": "error",
     "traceback": [
      "\u001b[1;31m---------------------------------------------------------------------------\u001b[0m",
      "\u001b[1;31mElementClickInterceptedException\u001b[0m          Traceback (most recent call last)",
      "\u001b[1;32m<ipython-input-12-2d31bf56d90b>\u001b[0m in \u001b[0;36m<module>\u001b[1;34m\u001b[0m\n\u001b[0;32m     14\u001b[0m \u001b[1;33m\u001b[0m\u001b[0m\n\u001b[0;32m     15\u001b[0m \u001b[1;32mfor\u001b[0m \u001b[0mimage\u001b[0m \u001b[1;32min\u001b[0m \u001b[0mimages\u001b[0m\u001b[1;33m:\u001b[0m\u001b[1;33m\u001b[0m\u001b[1;33m\u001b[0m\u001b[0m\n\u001b[1;32m---> 16\u001b[1;33m     \u001b[0mimage\u001b[0m\u001b[1;33m.\u001b[0m\u001b[0mclick\u001b[0m\u001b[1;33m(\u001b[0m\u001b[1;33m)\u001b[0m\u001b[1;33m\u001b[0m\u001b[1;33m\u001b[0m\u001b[0m\n\u001b[0m\u001b[0;32m     17\u001b[0m     \u001b[0mtime\u001b[0m\u001b[1;33m.\u001b[0m\u001b[0msleep\u001b[0m\u001b[1;33m(\u001b[0m\u001b[1;36m2\u001b[0m\u001b[1;33m)\u001b[0m\u001b[1;33m\u001b[0m\u001b[1;33m\u001b[0m\u001b[0m\n\u001b[0;32m     18\u001b[0m     \u001b[0mimgUrl\u001b[0m \u001b[1;33m=\u001b[0m \u001b[0mdriver\u001b[0m\u001b[1;33m.\u001b[0m\u001b[0mfind_element_by_css_selector\u001b[0m\u001b[1;33m(\u001b[0m\u001b[1;34m'.n3VNCb'\u001b[0m\u001b[1;33m)\u001b[0m\u001b[1;33m.\u001b[0m\u001b[0mget_attribute\u001b[0m\u001b[1;33m(\u001b[0m\u001b[1;34m\"src\"\u001b[0m\u001b[1;33m)\u001b[0m\u001b[1;33m\u001b[0m\u001b[1;33m\u001b[0m\u001b[0m\n",
      "\u001b[1;32m~\\anaconda3\\lib\\site-packages\\selenium\\webdriver\\remote\\webelement.py\u001b[0m in \u001b[0;36mclick\u001b[1;34m(self)\u001b[0m\n\u001b[0;32m     78\u001b[0m     \u001b[1;32mdef\u001b[0m \u001b[0mclick\u001b[0m\u001b[1;33m(\u001b[0m\u001b[0mself\u001b[0m\u001b[1;33m)\u001b[0m\u001b[1;33m:\u001b[0m\u001b[1;33m\u001b[0m\u001b[1;33m\u001b[0m\u001b[0m\n\u001b[0;32m     79\u001b[0m         \u001b[1;34m\"\"\"Clicks the element.\"\"\"\u001b[0m\u001b[1;33m\u001b[0m\u001b[1;33m\u001b[0m\u001b[0m\n\u001b[1;32m---> 80\u001b[1;33m         \u001b[0mself\u001b[0m\u001b[1;33m.\u001b[0m\u001b[0m_execute\u001b[0m\u001b[1;33m(\u001b[0m\u001b[0mCommand\u001b[0m\u001b[1;33m.\u001b[0m\u001b[0mCLICK_ELEMENT\u001b[0m\u001b[1;33m)\u001b[0m\u001b[1;33m\u001b[0m\u001b[1;33m\u001b[0m\u001b[0m\n\u001b[0m\u001b[0;32m     81\u001b[0m \u001b[1;33m\u001b[0m\u001b[0m\n\u001b[0;32m     82\u001b[0m     \u001b[1;32mdef\u001b[0m \u001b[0msubmit\u001b[0m\u001b[1;33m(\u001b[0m\u001b[0mself\u001b[0m\u001b[1;33m)\u001b[0m\u001b[1;33m:\u001b[0m\u001b[1;33m\u001b[0m\u001b[1;33m\u001b[0m\u001b[0m\n",
      "\u001b[1;32m~\\anaconda3\\lib\\site-packages\\selenium\\webdriver\\remote\\webelement.py\u001b[0m in \u001b[0;36m_execute\u001b[1;34m(self, command, params)\u001b[0m\n\u001b[0;32m    631\u001b[0m             \u001b[0mparams\u001b[0m \u001b[1;33m=\u001b[0m \u001b[1;33m{\u001b[0m\u001b[1;33m}\u001b[0m\u001b[1;33m\u001b[0m\u001b[1;33m\u001b[0m\u001b[0m\n\u001b[0;32m    632\u001b[0m         \u001b[0mparams\u001b[0m\u001b[1;33m[\u001b[0m\u001b[1;34m'id'\u001b[0m\u001b[1;33m]\u001b[0m \u001b[1;33m=\u001b[0m \u001b[0mself\u001b[0m\u001b[1;33m.\u001b[0m\u001b[0m_id\u001b[0m\u001b[1;33m\u001b[0m\u001b[1;33m\u001b[0m\u001b[0m\n\u001b[1;32m--> 633\u001b[1;33m         \u001b[1;32mreturn\u001b[0m \u001b[0mself\u001b[0m\u001b[1;33m.\u001b[0m\u001b[0m_parent\u001b[0m\u001b[1;33m.\u001b[0m\u001b[0mexecute\u001b[0m\u001b[1;33m(\u001b[0m\u001b[0mcommand\u001b[0m\u001b[1;33m,\u001b[0m \u001b[0mparams\u001b[0m\u001b[1;33m)\u001b[0m\u001b[1;33m\u001b[0m\u001b[1;33m\u001b[0m\u001b[0m\n\u001b[0m\u001b[0;32m    634\u001b[0m \u001b[1;33m\u001b[0m\u001b[0m\n\u001b[0;32m    635\u001b[0m     \u001b[1;32mdef\u001b[0m \u001b[0mfind_element\u001b[0m\u001b[1;33m(\u001b[0m\u001b[0mself\u001b[0m\u001b[1;33m,\u001b[0m \u001b[0mby\u001b[0m\u001b[1;33m=\u001b[0m\u001b[0mBy\u001b[0m\u001b[1;33m.\u001b[0m\u001b[0mID\u001b[0m\u001b[1;33m,\u001b[0m \u001b[0mvalue\u001b[0m\u001b[1;33m=\u001b[0m\u001b[1;32mNone\u001b[0m\u001b[1;33m)\u001b[0m\u001b[1;33m:\u001b[0m\u001b[1;33m\u001b[0m\u001b[1;33m\u001b[0m\u001b[0m\n",
      "\u001b[1;32m~\\anaconda3\\lib\\site-packages\\selenium\\webdriver\\remote\\webdriver.py\u001b[0m in \u001b[0;36mexecute\u001b[1;34m(self, driver_command, params)\u001b[0m\n\u001b[0;32m    319\u001b[0m         \u001b[0mresponse\u001b[0m \u001b[1;33m=\u001b[0m \u001b[0mself\u001b[0m\u001b[1;33m.\u001b[0m\u001b[0mcommand_executor\u001b[0m\u001b[1;33m.\u001b[0m\u001b[0mexecute\u001b[0m\u001b[1;33m(\u001b[0m\u001b[0mdriver_command\u001b[0m\u001b[1;33m,\u001b[0m \u001b[0mparams\u001b[0m\u001b[1;33m)\u001b[0m\u001b[1;33m\u001b[0m\u001b[1;33m\u001b[0m\u001b[0m\n\u001b[0;32m    320\u001b[0m         \u001b[1;32mif\u001b[0m \u001b[0mresponse\u001b[0m\u001b[1;33m:\u001b[0m\u001b[1;33m\u001b[0m\u001b[1;33m\u001b[0m\u001b[0m\n\u001b[1;32m--> 321\u001b[1;33m             \u001b[0mself\u001b[0m\u001b[1;33m.\u001b[0m\u001b[0merror_handler\u001b[0m\u001b[1;33m.\u001b[0m\u001b[0mcheck_response\u001b[0m\u001b[1;33m(\u001b[0m\u001b[0mresponse\u001b[0m\u001b[1;33m)\u001b[0m\u001b[1;33m\u001b[0m\u001b[1;33m\u001b[0m\u001b[0m\n\u001b[0m\u001b[0;32m    322\u001b[0m             response['value'] = self._unwrap_value(\n\u001b[0;32m    323\u001b[0m                 response.get('value', None))\n",
      "\u001b[1;32m~\\anaconda3\\lib\\site-packages\\selenium\\webdriver\\remote\\errorhandler.py\u001b[0m in \u001b[0;36mcheck_response\u001b[1;34m(self, response)\u001b[0m\n\u001b[0;32m    240\u001b[0m                 \u001b[0malert_text\u001b[0m \u001b[1;33m=\u001b[0m \u001b[0mvalue\u001b[0m\u001b[1;33m[\u001b[0m\u001b[1;34m'alert'\u001b[0m\u001b[1;33m]\u001b[0m\u001b[1;33m.\u001b[0m\u001b[0mget\u001b[0m\u001b[1;33m(\u001b[0m\u001b[1;34m'text'\u001b[0m\u001b[1;33m)\u001b[0m\u001b[1;33m\u001b[0m\u001b[1;33m\u001b[0m\u001b[0m\n\u001b[0;32m    241\u001b[0m             \u001b[1;32mraise\u001b[0m \u001b[0mexception_class\u001b[0m\u001b[1;33m(\u001b[0m\u001b[0mmessage\u001b[0m\u001b[1;33m,\u001b[0m \u001b[0mscreen\u001b[0m\u001b[1;33m,\u001b[0m \u001b[0mstacktrace\u001b[0m\u001b[1;33m,\u001b[0m \u001b[0malert_text\u001b[0m\u001b[1;33m)\u001b[0m\u001b[1;33m\u001b[0m\u001b[1;33m\u001b[0m\u001b[0m\n\u001b[1;32m--> 242\u001b[1;33m         \u001b[1;32mraise\u001b[0m \u001b[0mexception_class\u001b[0m\u001b[1;33m(\u001b[0m\u001b[0mmessage\u001b[0m\u001b[1;33m,\u001b[0m \u001b[0mscreen\u001b[0m\u001b[1;33m,\u001b[0m \u001b[0mstacktrace\u001b[0m\u001b[1;33m)\u001b[0m\u001b[1;33m\u001b[0m\u001b[1;33m\u001b[0m\u001b[0m\n\u001b[0m\u001b[0;32m    243\u001b[0m \u001b[1;33m\u001b[0m\u001b[0m\n\u001b[0;32m    244\u001b[0m     \u001b[1;32mdef\u001b[0m \u001b[0m_value_or_default\u001b[0m\u001b[1;33m(\u001b[0m\u001b[0mself\u001b[0m\u001b[1;33m,\u001b[0m \u001b[0mobj\u001b[0m\u001b[1;33m,\u001b[0m \u001b[0mkey\u001b[0m\u001b[1;33m,\u001b[0m \u001b[0mdefault\u001b[0m\u001b[1;33m)\u001b[0m\u001b[1;33m:\u001b[0m\u001b[1;33m\u001b[0m\u001b[1;33m\u001b[0m\u001b[0m\n",
      "\u001b[1;31mElementClickInterceptedException\u001b[0m: Message: element click intercepted: Element <img src=\"data:image/jpeg;base64,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\" data-deferred=\"1\" class=\"rg_i Q4LuWd\" jsname=\"Q4LuWd\" width=\"216\" height=\"216\" alt=\"아이유, 청담동 아파트 130억원에 분양...전액 현금 납부 - 조선일보\" data-iml=\"639.6999999880791\" data-atf=\"true\"> is not clickable at point (128, 844). Other element would receive the click: <div jsname=\"r5xl4\" class=\"islrc\" style=\"width: 444px;\">...</div>\n  (Session info: chrome=92.0.4515.107)\n"
     ]
    }
   ],
   "source": [
    "from selenium import webdriver\n",
    "from selenium.webdriver.common.keys import Keys\n",
    "import urllib.request\n",
    "import time\n",
    "\n",
    "\n",
    "driver = webdriver.Chrome()\n",
    "driver.get(\"https://www.google.co.kr/imghp?hl=en&ogbl\")\n",
    "elem = driver.find_element_by_name(\"q\")\n",
    "elem.send_keys(\"아이유\")\n",
    "elem.send_keys(Keys.RETURN)\n",
    "images = driver.find_elements_by_css_selector('.rg_i.Q4LuWd')\n",
    "count = 1\n",
    "\n",
    "for image in images:\n",
    "    image.click()\n",
    "    time.sleep(2)\n",
    "    imgUrl = driver.find_element_by_css_selector('.n3VNCb').get_attribute(\"src\")\n",
    "    urllib.request.urlretrieve(imgUrl, str(count) + '.jpg')\n",
    "    count = count + 1\n",
    "\n",
    "\n",
    "#imgUrl = driver.find_element_by_css_selector('.n3VNCb').get_attribute(\"src\")\n",
    "\n",
    "#urllib.request.urlretrieve(imgUrl,'test.jpg')\n",
    "#driver.close()\n",
    "\n",
    "\n",
    "#assert \"Python\" in driver.title\n",
    "#elem = driver.find_element_by_name(\"q\")\n",
    "#elem.clear()\n",
    "#elem.send_keys(\"pycon\")\n",
    "#elem.send_keys(Keys.RETURN)\n",
    "#assert \"No results found.\" not in driver.page_source\n",
    "#driver.close()"
   ]
  },
  {
   "cell_type": "code",
   "execution_count": null,
   "id": "6623a50f",
   "metadata": {},
   "outputs": [],
   "source": []
  },
  {
   "cell_type": "code",
   "execution_count": null,
   "id": "7d0b748b",
   "metadata": {},
   "outputs": [],
   "source": []
  },
  {
   "cell_type": "code",
   "execution_count": null,
   "id": "36b4fb3e",
   "metadata": {},
   "outputs": [],
   "source": []
  },
  {
   "cell_type": "code",
   "execution_count": null,
   "id": "e6389e4b",
   "metadata": {},
   "outputs": [],
   "source": []
  },
  {
   "cell_type": "code",
   "execution_count": null,
   "id": "8e8545bf",
   "metadata": {},
   "outputs": [],
   "source": []
  },
  {
   "cell_type": "code",
   "execution_count": null,
   "id": "191bcbfd",
   "metadata": {},
   "outputs": [],
   "source": []
  },
  {
   "cell_type": "code",
   "execution_count": null,
   "id": "c580193f",
   "metadata": {},
   "outputs": [],
   "source": []
  },
  {
   "cell_type": "code",
   "execution_count": null,
   "id": "84a4543a",
   "metadata": {},
   "outputs": [],
   "source": []
  },
  {
   "cell_type": "code",
   "execution_count": null,
   "id": "2f040b40",
   "metadata": {},
   "outputs": [],
   "source": []
  }
 ],
 "metadata": {
  "kernelspec": {
   "display_name": "Python 3",
   "language": "python",
   "name": "python3"
  },
  "language_info": {
   "codemirror_mode": {
    "name": "ipython",
    "version": 3
   },
   "file_extension": ".py",
   "mimetype": "text/x-python",
   "name": "python",
   "nbconvert_exporter": "python",
   "pygments_lexer": "ipython3",
   "version": "3.8.8"
  }
 },
 "nbformat": 4,
 "nbformat_minor": 5
}
