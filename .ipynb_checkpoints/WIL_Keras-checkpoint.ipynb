{
 "cells": [
  {
   "cell_type": "markdown",
   "id": "9ff20e3c",
   "metadata": {},
   "source": [
    "# 케라스(Keras) 기초부터 모델 생성까지\n",
    "\n",
    "<img src=\"https://s3.amazonaws.com/keras.io/img/keras-logo-2018-large-1200.png\">\n",
    "\n",
    "- 파이썬으로 작성된 고수준 신경망 API로 TensorFlow, CNTK, 혹은 Theano와 함께 사용 가능\n",
    "- 사용자 친화성, 모듈성, 확장성을 통해 빠르고 간편한 프로토타이핑 가능\n",
    "- 컨볼루션 신경망, 순환 신경망, 그리고 둘의 조합까지 모두 지원\n",
    "- CPU와 GPU에서 매끄럽게 실행"
   ]
  },
  {
   "cell_type": "code",
   "execution_count": 1,
   "id": "3be34efb",
   "metadata": {},
   "outputs": [
    {
     "data": {
      "text/plain": [
       "'2.6.0'"
      ]
     },
     "execution_count": 1,
     "metadata": {},
     "output_type": "execute_result"
    }
   ],
   "source": [
    "import numpy as np\n",
    "import tensorflow as tf\n",
    "\n",
    "tf.__version__"
   ]
  },
  {
   "cell_type": "markdown",
   "id": "3db8ed4d",
   "metadata": {},
   "source": [
    "레이어들을 import하는 방식 (1)\n",
    "- 일일이 import 하지 않아도 됨\n",
    "\n",
    "- 코드가 다소 길어질 수 있음"
   ]
  },
  {
   "cell_type": "code",
   "execution_count": 2,
   "id": "782b6374",
   "metadata": {},
   "outputs": [
    {
     "data": {
      "text/plain": [
       "'2.6.0'"
      ]
     },
     "execution_count": 2,
     "metadata": {},
     "output_type": "execute_result"
    }
   ],
   "source": [
    "from tensorflow import keras\n",
    "\n",
    "keras.__version__"
   ]
  },
  {
   "cell_type": "code",
   "execution_count": 3,
   "id": "efdda559",
   "metadata": {},
   "outputs": [
    {
     "data": {
      "text/plain": [
       "<keras.layers.core.Dense at 0x1bd3b836cd0>"
      ]
     },
     "execution_count": 3,
     "metadata": {},
     "output_type": "execute_result"
    }
   ],
   "source": [
    "keras.layers.Dense(10, activation = 'sigmoid')"
   ]
  },
  {
   "cell_type": "code",
   "execution_count": 4,
   "id": "b9bf56e0",
   "metadata": {},
   "outputs": [
    {
     "data": {
      "text/plain": [
       "<keras.engine.training.Model at 0x1bd3b865340>"
      ]
     },
     "execution_count": 4,
     "metadata": {},
     "output_type": "execute_result"
    }
   ],
   "source": [
    "keras.Model()"
   ]
  },
  {
   "cell_type": "code",
   "execution_count": 5,
   "id": "94f24050",
   "metadata": {},
   "outputs": [
    {
     "data": {
      "text/plain": [
       "<keras.engine.sequential.Sequential at 0x1bd3b865a00>"
      ]
     },
     "execution_count": 5,
     "metadata": {},
     "output_type": "execute_result"
    }
   ],
   "source": [
    "keras.models.Sequential()"
   ]
  },
  {
   "cell_type": "markdown",
   "id": "6e3d431d",
   "metadata": {},
   "source": [
    "레이어들을 import하는 방식 (2)\n",
    "- 일일이 import 해야함\n",
    "- 코드가 간결"
   ]
  },
  {
   "cell_type": "code",
   "execution_count": 6,
   "id": "1b0b8bdc",
   "metadata": {},
   "outputs": [],
   "source": [
    "from tensorflow.keras.layers import Dense, Input, Flatten, Activation\n",
    "from tensorflow.keras.models import Sequential\n",
    "from tensorflow.keras import Model"
   ]
  },
  {
   "cell_type": "code",
   "execution_count": 7,
   "id": "8355812b",
   "metadata": {},
   "outputs": [
    {
     "data": {
      "text/plain": [
       "<keras.layers.core.Dense at 0x1bd3b865280>"
      ]
     },
     "execution_count": 7,
     "metadata": {},
     "output_type": "execute_result"
    }
   ],
   "source": [
    "Dense(units = 10, activation = 'relu')"
   ]
  },
  {
   "cell_type": "code",
   "execution_count": 8,
   "id": "a92971b8",
   "metadata": {},
   "outputs": [
    {
     "data": {
      "text/plain": [
       "<keras.layers.core.Flatten at 0x1bd3b865c70>"
      ]
     },
     "execution_count": 8,
     "metadata": {},
     "output_type": "execute_result"
    }
   ],
   "source": [
    "Flatten(input_shape = [28, 28])"
   ]
  },
  {
   "cell_type": "code",
   "execution_count": 9,
   "id": "ab8bd724",
   "metadata": {},
   "outputs": [
    {
     "data": {
      "text/plain": [
       "<KerasTensor: shape=(None, 2) dtype=float32 (created by layer 'input_1')>"
      ]
     },
     "execution_count": 9,
     "metadata": {},
     "output_type": "execute_result"
    }
   ],
   "source": [
    "X_train = np.random.randn(5500, 2)\n",
    "\n",
    "Input(shape = X_train.shape[1:])"
   ]
  },
  {
   "cell_type": "markdown",
   "id": "dd045639",
   "metadata": {},
   "source": [
    "## 주요 레이어"
   ]
  },
  {
   "cell_type": "markdown",
   "id": "2d19ba3e",
   "metadata": {},
   "source": [
    "### Dense\n",
    "- Fully-Connected Layer\n",
    "\n",
    "- 노드수(유닛수), 활성화 함수 등을 지정\n",
    "\n",
    "- name을 통한 레이어간 구분 가능\n",
    "\n",
    "- 기본적으로  \n",
    "  'Glorot_uniform'(Xavier 분포 초기화) 가중치, zeros bias로 초기화\n",
    "  - kernel_initializer 인자를 통해 다른 가중치 초기화를 진행할 수 있음"
   ]
  },
  {
   "cell_type": "code",
   "execution_count": 10,
   "id": "e3356909",
   "metadata": {},
   "outputs": [],
   "source": [
    "dense = Dense(units = 10, activation = 'relu', name = 'Dense Layer')"
   ]
  },
  {
   "cell_type": "code",
   "execution_count": 11,
   "id": "df01136a",
   "metadata": {},
   "outputs": [
    {
     "data": {
      "text/plain": [
       "<keras.layers.core.Dense at 0x1bd3b912580>"
      ]
     },
     "execution_count": 11,
     "metadata": {},
     "output_type": "execute_result"
    }
   ],
   "source": [
    "dense"
   ]
  },
  {
   "cell_type": "code",
   "execution_count": 12,
   "id": "c7b3dda8",
   "metadata": {},
   "outputs": [],
   "source": [
    "dense2 = Dense(units = 15, activation = 'softmax')"
   ]
  },
  {
   "cell_type": "code",
   "execution_count": 13,
   "id": "5539c5e2",
   "metadata": {},
   "outputs": [
    {
     "data": {
      "text/plain": [
       "<keras.layers.core.Dense at 0x1bd3b912af0>"
      ]
     },
     "execution_count": 13,
     "metadata": {},
     "output_type": "execute_result"
    }
   ],
   "source": [
    "dense2"
   ]
  },
  {
   "cell_type": "markdown",
   "id": "a99146d5",
   "metadata": {},
   "source": [
    "### Activation\n",
    "- Dense layer에서 미리 활성화함수를 지정할 수도 있지만 때에 따라서 따로 레이어를 만들어줄 수 있음"
   ]
  },
  {
   "cell_type": "code",
   "execution_count": 14,
   "id": "3f259d03",
   "metadata": {},
   "outputs": [
    {
     "data": {
      "text/plain": [
       "<keras.layers.core.Activation at 0x1bd3b912c10>"
      ]
     },
     "execution_count": 14,
     "metadata": {},
     "output_type": "execute_result"
    }
   ],
   "source": [
    "dense = Dense(units = 10, kernel_initializer = 'he_normal', name = 'Dense Layer')\n",
    "dense = Activation(dense)\n",
    "dense"
   ]
  },
  {
   "cell_type": "markdown",
   "id": "5ed49652",
   "metadata": {},
   "source": [
    "### Flatten\n",
    "- 배치 크기(또는 데이터 크기)를 제외하고 데이터를 1차원으로 쭉 펼치는 작업\n",
    "\n",
    "- 예시)\n",
    "        (128, 3, 2, 2) ---> (128, 12)\n",
    "      "
   ]
  },
  {
   "cell_type": "code",
   "execution_count": 15,
   "id": "21a80bda",
   "metadata": {},
   "outputs": [
    {
     "data": {
      "text/plain": [
       "<keras.layers.core.Flatten at 0x1bd3b9124f0>"
      ]
     },
     "execution_count": 15,
     "metadata": {},
     "output_type": "execute_result"
    }
   ],
   "source": [
    "Flatten(input_shape = (28, 28))"
   ]
  },
  {
   "cell_type": "markdown",
   "id": "0f3bcd44",
   "metadata": {},
   "source": [
    "### Input \n",
    "- 모델의 입력을 정의\n",
    "\n",
    "- shape, dtype을 포함\n",
    "\n",
    "- 하나의 모델은 여러 개의 입력을 가질 수 있음\n",
    "\n",
    "- `summary()` 메소드를 통해서는 보이지 않음"
   ]
  },
  {
   "cell_type": "code",
   "execution_count": 16,
   "id": "4e7c40c4",
   "metadata": {},
   "outputs": [],
   "source": [
    "input_1 = Input(shape = (28, 28), dtype = tf.float32)\n",
    "input_2 = Input(shape = (8, ), dtype = tf.int32)"
   ]
  },
  {
   "cell_type": "code",
   "execution_count": 17,
   "id": "7ff515bf",
   "metadata": {},
   "outputs": [
    {
     "data": {
      "text/plain": [
       "<KerasTensor: shape=(None, 28, 28) dtype=float32 (created by layer 'input_2')>"
      ]
     },
     "execution_count": 17,
     "metadata": {},
     "output_type": "execute_result"
    }
   ],
   "source": [
    "input_1"
   ]
  },
  {
   "cell_type": "code",
   "execution_count": 18,
   "id": "38119091",
   "metadata": {},
   "outputs": [
    {
     "data": {
      "text/plain": [
       "<KerasTensor: shape=(None, 8) dtype=int32 (created by layer 'input_3')>"
      ]
     },
     "execution_count": 18,
     "metadata": {},
     "output_type": "execute_result"
    }
   ],
   "source": [
    "input_2"
   ]
  },
  {
   "cell_type": "markdown",
   "id": "f9d08a63",
   "metadata": {},
   "source": [
    "## 모델 구성 방법\n",
    "- Sequential()\n",
    "\n",
    "- 서브클래싱(Subclassing)\n",
    "\n",
    "- 함수형 API"
   ]
  },
  {
   "cell_type": "markdown",
   "id": "29f53d07",
   "metadata": {},
   "source": [
    "### Sequential()\n",
    "\n",
    "- 모델이 순차적으로 진행할 때 사용\n",
    "\n",
    "- 간단한 방법\n",
    "  - Sequential 객체 생성 후, **add**를 통한 방법\n",
    "  \n",
    "  - Sequential 인자에 한번에 추가\n",
    "\n",
    "- 다중 입력 및 출력이 존재하는 등의 복잡한 모델을 구성할 수 없음\n"
   ]
  },
  {
   "cell_type": "code",
   "execution_count": 19,
   "id": "83a7d3f9",
   "metadata": {},
   "outputs": [],
   "source": [
    "from tensorflow.keras.layers import Dense, Input, Flatten\n",
    "from tensorflow.keras.models import Sequential, Model\n",
    "from tensorflow.keras.utils import plot_model"
   ]
  },
  {
   "cell_type": "code",
   "execution_count": 20,
   "id": "3bd4bff5",
   "metadata": {},
   "outputs": [],
   "source": [
    "model = Sequential()\n",
    "model.add(Input(shape = (28, 28)))\n",
    "model.add(Dense(units = 300, activation = 'relu'))\n",
    "model.add(Dense(units = 100, activation = 'relu'))\n",
    "# 최종결과 확인, Mnist 결과라고 가정 // 다중분류문제할땐 주로 softmax 함수 사용\n",
    "model.add(Dense(units = 10, activation = 'softmax'))"
   ]
  },
  {
   "cell_type": "markdown",
   "id": "95972f3f",
   "metadata": {},
   "source": [
    "모델 구조 확인\n",
    "- model 객체의 **summary()** 이용"
   ]
  },
  {
   "cell_type": "code",
   "execution_count": 21,
   "id": "977d2a39",
   "metadata": {},
   "outputs": [
    {
     "name": "stdout",
     "output_type": "stream",
     "text": [
      "Model: \"sequential_1\"\n",
      "_________________________________________________________________\n",
      "Layer (type)                 Output Shape              Param #   \n",
      "=================================================================\n",
      "dense_3 (Dense)              (None, 28, 300)           8700      \n",
      "_________________________________________________________________\n",
      "dense_4 (Dense)              (None, 28, 100)           30100     \n",
      "_________________________________________________________________\n",
      "dense_5 (Dense)              (None, 28, 10)            1010      \n",
      "=================================================================\n",
      "Total params: 39,810\n",
      "Trainable params: 39,810\n",
      "Non-trainable params: 0\n",
      "_________________________________________________________________\n"
     ]
    }
   ],
   "source": [
    "model.summary()"
   ]
  },
  {
   "cell_type": "code",
   "execution_count": 24,
   "id": "e3ee14d8",
   "metadata": {},
   "outputs": [
    {
     "name": "stdout",
     "output_type": "stream",
     "text": [
      "Collecting pydot\n",
      "  Downloading pydot-1.4.2-py2.py3-none-any.whl (21 kB)\n",
      "Requirement already satisfied: pyparsing>=2.1.4 in c:\\users\\lee\\anaconda3\\lib\\site-packages (from pydot) (2.4.7)\n",
      "Installing collected packages: pydot\n",
      "Successfully installed pydot-1.4.2\n"
     ]
    }
   ],
   "source": [
    "#!pip install pydot"
   ]
  },
  {
   "cell_type": "code",
   "execution_count": 22,
   "id": "73eda4c6",
   "metadata": {},
   "outputs": [
    {
     "data": {
      "image/png": "[encoded data removed]",
      "text/plain": [
       "<IPython.core.display.Image object>"
      ]
     },
     "execution_count": 22,
     "metadata": {},
     "output_type": "execute_result"
    }
   ],
   "source": [
    "plot_model(model)"
   ]
  },
  {
   "cell_type": "code",
   "execution_count": 24,
   "id": "2392edb9",
   "metadata": {},
   "outputs": [
    {
     "data": {
      "image/png": "[encoded data removed]",
      "text/plain": [
       "<IPython.core.display.Image object>"
      ]
     },
     "execution_count": 24,
     "metadata": {},
     "output_type": "execute_result"
    }
   ],
   "source": [
    "plot_model(model, to_file = 'model1.png')"
   ]
  },
  {
   "cell_type": "code",
   "execution_count": 25,
   "id": "b9312e45",
   "metadata": {},
   "outputs": [],
   "source": [
    "model = Sequential([Input(shape = (28, 28), name = 'Input'),\n",
    "                   Dense(300, activation = 'relu', name = 'Dense1'),\n",
    "                   Dense(100, activation = 'relu', name = 'Dense2'),\n",
    "                   Dense(10, activation = 'softmax', name = 'Output')])"
   ]
  },
  {
   "cell_type": "code",
   "execution_count": 26,
   "id": "33a10ab7",
   "metadata": {},
   "outputs": [
    {
     "name": "stdout",
     "output_type": "stream",
     "text": [
      "Model: \"sequential_2\"\n",
      "_________________________________________________________________\n",
      "Layer (type)                 Output Shape              Param #   \n",
      "=================================================================\n",
      "Dense1 (Dense)               (None, 28, 300)           8700      \n",
      "_________________________________________________________________\n",
      "Dense2 (Dense)               (None, 28, 100)           30100     \n",
      "_________________________________________________________________\n",
      "Output (Dense)               (None, 28, 10)            1010      \n",
      "=================================================================\n",
      "Total params: 39,810\n",
      "Trainable params: 39,810\n",
      "Non-trainable params: 0\n",
      "_________________________________________________________________\n"
     ]
    }
   ],
   "source": [
    "model.summary()"
   ]
  },
  {
   "cell_type": "code",
   "execution_count": 27,
   "id": "2ab3e1db",
   "metadata": {},
   "outputs": [
    {
     "data": {
      "image/png": "[encoded data removed]",
      "text/plain": [
       "<IPython.core.display.Image object>"
      ]
     },
     "execution_count": 27,
     "metadata": {},
     "output_type": "execute_result"
    }
   ],
   "source": [
    "plot_model(model)"
   ]
  },
  {
   "cell_type": "code",
   "execution_count": 28,
   "id": "e847c247",
   "metadata": {},
   "outputs": [
    {
     "data": {
      "image/png": "[encoded data removed]",
      "text/plain": [
       "<IPython.core.display.Image object>"
      ]
     },
     "execution_count": 28,
     "metadata": {},
     "output_type": "execute_result"
    }
   ],
   "source": [
    "plot_model(model, to_file = 'model2.png')"
   ]
  },
  {
   "cell_type": "markdown",
   "id": "39ee6faa",
   "metadata": {},
   "source": [
    "### 함수형 API\n",
    "\n",
    "- 가장 권장되는 방법\n",
    "\n",
    "- 모델을 복잡하고, 유연하게 구성 가능\n",
    "\n",
    "- 다중 입출력을 다룰 수 있음"
   ]
  },
  {
   "cell_type": "code",
   "execution_count": 30,
   "id": "d5be2685",
   "metadata": {},
   "outputs": [],
   "source": [
    "from tensorflow.keras.models import Model\n",
    "from tensorflow.keras.layers import Input, Flatten, Dense\n",
    "from tensorflow.keras.utils import plot_model"
   ]
  },
  {
   "cell_type": "code",
   "execution_count": 31,
   "id": "184536bd",
   "metadata": {},
   "outputs": [],
   "source": [
    "inputs = Input(shape = (28, 28, 1))\n",
    "\n",
    "x = Flatten(input_shape = (28, 28, 1))(inputs)\n",
    "x = Dense(300, activation = 'relu')(x)\n",
    "x = Dense(100, activation = 'relu')(x)\n",
    "x = Dense(10, activation = 'softmax')(x)"
   ]
  },
  {
   "cell_type": "code",
   "execution_count": 32,
   "id": "2babd0ff",
   "metadata": {},
   "outputs": [],
   "source": [
    "model = Model(inputs = inputs, outputs = x)"
   ]
  },
  {
   "cell_type": "code",
   "execution_count": 33,
   "id": "b5c6fb4e",
   "metadata": {},
   "outputs": [
    {
     "name": "stdout",
     "output_type": "stream",
     "text": [
      "Model: \"model_1\"\n",
      "_________________________________________________________________\n",
      "Layer (type)                 Output Shape              Param #   \n",
      "=================================================================\n",
      "input_5 (InputLayer)         [(None, 28, 28, 1)]       0         \n",
      "_________________________________________________________________\n",
      "flatten_2 (Flatten)          (None, 784)               0         \n",
      "_________________________________________________________________\n",
      "dense_6 (Dense)              (None, 300)               235500    \n",
      "_________________________________________________________________\n",
      "dense_7 (Dense)              (None, 100)               30100     \n",
      "_________________________________________________________________\n",
      "dense_8 (Dense)              (None, 10)                1010      \n",
      "=================================================================\n",
      "Total params: 266,610\n",
      "Trainable params: 266,610\n",
      "Non-trainable params: 0\n",
      "_________________________________________________________________\n"
     ]
    }
   ],
   "source": [
    "model.summary()"
   ]
  },
  {
   "cell_type": "code",
   "execution_count": 34,
   "id": "bda57b37",
   "metadata": {},
   "outputs": [
    {
     "data": {
      "image/png": "[encoded data removed]",
      "text/plain": [
       "<IPython.core.display.Image object>"
      ]
     },
     "execution_count": 34,
     "metadata": {},
     "output_type": "execute_result"
    }
   ],
   "source": [
    "plot_model(model)"
   ]
  },
  {
   "cell_type": "code",
   "execution_count": 35,
   "id": "c2383a04",
   "metadata": {},
   "outputs": [
    {
     "data": {
      "image/png": "[encoded data removed]",
      "text/plain": [
       "<IPython.core.display.Image object>"
      ]
     },
     "execution_count": 35,
     "metadata": {},
     "output_type": "execute_result"
    }
   ],
   "source": [
    "plot_model(model, to_file = 'model3.png')"
   ]
  },
  {
   "cell_type": "code",
   "execution_count": 37,
   "id": "cd352910",
   "metadata": {},
   "outputs": [],
   "source": [
    "from tensorflow.keras.layers import Concatenate\n",
    "\n",
    "# widen deep\n",
    "input_layer = Input(shape = (28, 28))\n",
    "hidden1 = Dense(100, activation = 'relu')(input_layer)\n",
    "hidden2 = Dense(30, activation = 'relu')(hidden1)\n",
    "concat = Concatenate()([input_layer, hidden2])\n",
    "output = Dense(1)(concat)\n",
    "\n",
    "model = Model(inputs = [input_layer], outputs = [output])"
   ]
  },
  {
   "cell_type": "code",
   "execution_count": 38,
   "id": "76bcea01",
   "metadata": {},
   "outputs": [
    {
     "name": "stdout",
     "output_type": "stream",
     "text": [
      "Model: \"model_2\"\n",
      "__________________________________________________________________________________________________\n",
      "Layer (type)                    Output Shape         Param #     Connected to                     \n",
      "==================================================================================================\n",
      "input_7 (InputLayer)            [(None, 28, 28)]     0                                            \n",
      "__________________________________________________________________________________________________\n",
      "dense_12 (Dense)                (None, 28, 100)      2900        input_7[0][0]                    \n",
      "__________________________________________________________________________________________________\n",
      "dense_13 (Dense)                (None, 28, 30)       3030        dense_12[0][0]                   \n",
      "__________________________________________________________________________________________________\n",
      "concatenate_1 (Concatenate)     (None, 28, 58)       0           input_7[0][0]                    \n",
      "                                                                 dense_13[0][0]                   \n",
      "__________________________________________________________________________________________________\n",
      "dense_14 (Dense)                (None, 28, 1)        59          concatenate_1[0][0]              \n",
      "==================================================================================================\n",
      "Total params: 5,989\n",
      "Trainable params: 5,989\n",
      "Non-trainable params: 0\n",
      "__________________________________________________________________________________________________\n"
     ]
    }
   ],
   "source": [
    "model.summary()"
   ]
  },
  {
   "cell_type": "code",
   "execution_count": 39,
   "id": "9302fff0",
   "metadata": {},
   "outputs": [
    {
     "data": {
      "image/png": "[encoded data removed]",
      "text/plain": [
       "<IPython.core.display.Image object>"
      ]
     },
     "execution_count": 39,
     "metadata": {},
     "output_type": "execute_result"
    }
   ],
   "source": [
    "plot_model(model)"
   ]
  },
  {
   "cell_type": "code",
   "execution_count": 42,
   "id": "aaedee9d",
   "metadata": {},
   "outputs": [],
   "source": [
    "# 다중레이어 (여러개의 입력값) >> input_layer가 2개 이상\n",
    "input_1 = Input(shape = (10, 10), name = 'input_1')\n",
    "input_2 = Input(shape = (10, 28), name = 'input_2')\n",
    "\n",
    "# wide layer, deep layer 구분 >> 다중레이어 생성\n",
    "hidden1 = Dense(100, activation = 'relu')(input_2)\n",
    "hidden2 = Dense(10, activation = 'relu')(hidden1)\n",
    "concat = Concatenate()([input_1, hidden2])\n",
    "output = Dense(1, activation = 'sigmoid', name = 'output')(concat)\n",
    "\n",
    "model = Model(inputs = [input_1, input_2], outputs = [output])"
   ]
  },
  {
   "cell_type": "code",
   "execution_count": 43,
   "id": "da581900",
   "metadata": {},
   "outputs": [
    {
     "name": "stdout",
     "output_type": "stream",
     "text": [
      "Model: \"model_3\"\n",
      "__________________________________________________________________________________________________\n",
      "Layer (type)                    Output Shape         Param #     Connected to                     \n",
      "==================================================================================================\n",
      "input_2 (InputLayer)            [(None, 10, 28)]     0                                            \n",
      "__________________________________________________________________________________________________\n",
      "dense_19 (Dense)                (None, 10, 100)      2900        input_2[0][0]                    \n",
      "__________________________________________________________________________________________________\n",
      "input_1 (InputLayer)            [(None, 10, 10)]     0                                            \n",
      "__________________________________________________________________________________________________\n",
      "dense_20 (Dense)                (None, 10, 10)       1010        dense_19[0][0]                   \n",
      "__________________________________________________________________________________________________\n",
      "concatenate_4 (Concatenate)     (None, 10, 20)       0           input_1[0][0]                    \n",
      "                                                                 dense_20[0][0]                   \n",
      "__________________________________________________________________________________________________\n",
      "output (Dense)                  (None, 10, 1)        21          concatenate_4[0][0]              \n",
      "==================================================================================================\n",
      "Total params: 3,931\n",
      "Trainable params: 3,931\n",
      "Non-trainable params: 0\n",
      "__________________________________________________________________________________________________\n"
     ]
    }
   ],
   "source": [
    "model.summary()"
   ]
  },
  {
   "cell_type": "code",
   "execution_count": 44,
   "id": "340a8a80",
   "metadata": {},
   "outputs": [
    {
     "data": {
      "image/png": "[encoded data removed]",
      "text/plain": [
       "<IPython.core.display.Image object>"
      ]
     },
     "execution_count": 44,
     "metadata": {},
     "output_type": "execute_result"
    }
   ],
   "source": [
    "plot_model(model, to_file = 'model5.png')"
   ]
  },
  {
   "cell_type": "code",
   "execution_count": 46,
   "id": "f6adb2a6",
   "metadata": {},
   "outputs": [],
   "source": [
    "# 다중출력\n",
    "input_ = Input(shape = (10, 10), name = 'input_')\n",
    "\n",
    "hidden1 = Dense(100, activation = 'relu')(input_)\n",
    "hidden2 = Dense(10, activation = 'relu')(hidden1)\n",
    "\n",
    "output = Dense(1, activation = 'sigmoid', name = 'main_output')(hidden2)\n",
    "sub_out = Dense(1, name = 'sum_output')(hidden2)\n",
    "\n",
    "model = Model(inputs = [input_], outputs = [output, sub_out])"
   ]
  },
  {
   "cell_type": "code",
   "execution_count": 47,
   "id": "eece918f",
   "metadata": {},
   "outputs": [
    {
     "name": "stdout",
     "output_type": "stream",
     "text": [
      "Model: \"model_5\"\n",
      "__________________________________________________________________________________________________\n",
      "Layer (type)                    Output Shape         Param #     Connected to                     \n",
      "==================================================================================================\n",
      "input_ (InputLayer)             [(None, 10, 10)]     0                                            \n",
      "__________________________________________________________________________________________________\n",
      "dense_23 (Dense)                (None, 10, 100)      1100        input_[0][0]                     \n",
      "__________________________________________________________________________________________________\n",
      "dense_24 (Dense)                (None, 10, 10)       1010        dense_23[0][0]                   \n",
      "__________________________________________________________________________________________________\n",
      "main_output (Dense)             (None, 10, 1)        11          dense_24[0][0]                   \n",
      "__________________________________________________________________________________________________\n",
      "sum_output (Dense)              (None, 10, 1)        11          dense_24[0][0]                   \n",
      "==================================================================================================\n",
      "Total params: 2,132\n",
      "Trainable params: 2,132\n",
      "Non-trainable params: 0\n",
      "__________________________________________________________________________________________________\n"
     ]
    }
   ],
   "source": [
    "model.summary()"
   ]
  },
  {
   "cell_type": "code",
   "execution_count": 48,
   "id": "a38825dc",
   "metadata": {
    "scrolled": true
   },
   "outputs": [
    {
     "data": {
      "image/png": "[encoded data removed]",
      "text/plain": [
       "<IPython.core.display.Image object>"
      ]
     },
     "execution_count": 48,
     "metadata": {},
     "output_type": "execute_result"
    }
   ],
   "source": [
    "plot_model(model, to_file = 'model6.png')"
   ]
  },
  {
   "cell_type": "code",
   "execution_count": null,
   "id": "c26a5fd6",
   "metadata": {},
   "outputs": [],
   "source": []
  },
  {
   "cell_type": "code",
   "execution_count": null,
   "id": "e60b257c",
   "metadata": {},
   "outputs": [],
   "source": []
  },
  {
   "cell_type": "code",
   "execution_count": null,
   "id": "05aad112",
   "metadata": {},
   "outputs": [],
   "source": []
  },
  {
   "cell_type": "code",
   "execution_count": null,
   "id": "a7bb9695",
   "metadata": {},
   "outputs": [],
   "source": []
  },
  {
   "cell_type": "markdown",
   "id": "031b16e7",
   "metadata": {},
   "source": [
    "### 서브클래싱(Subclassing)\n",
    "- 커스터마이징에 최적화된 방법\n",
    "\n",
    "- Model 클래스를 상속받아 Model이 포함하는 기능을 사용할 수 있음  \n",
    "  - `fit()`, `evaluate()`, `predict()`\n",
    "  - `save()`, `load()`\n",
    "\n",
    "- 주로 `call()` 메소드안에서 원하는 계산 가능\n",
    "  - for, if, 저수준 연산 등\n",
    "\n",
    "- 권장되는 방법은 아니지만 어떤 모델의 구현 코드를 참고할 때  \n",
    "  해석할 수 있어야함"
   ]
  },
  {
   "cell_type": "code",
   "execution_count": null,
   "id": "6ab3fd1d",
   "metadata": {},
   "outputs": [],
   "source": []
  },
  {
   "cell_type": "code",
   "execution_count": null,
   "id": "fda0e18a",
   "metadata": {},
   "outputs": [],
   "source": []
  },
  {
   "cell_type": "markdown",
   "id": "6b0f2c35",
   "metadata": {},
   "source": [
    "## 모델 가중치 확인"
   ]
  },
  {
   "cell_type": "code",
   "execution_count": null,
   "id": "ebc1b447",
   "metadata": {},
   "outputs": [],
   "source": []
  },
  {
   "cell_type": "code",
   "execution_count": null,
   "id": "d25528f1",
   "metadata": {},
   "outputs": [],
   "source": []
  },
  {
   "cell_type": "code",
   "execution_count": null,
   "id": "6a6e2722",
   "metadata": {},
   "outputs": [],
   "source": []
  },
  {
   "cell_type": "markdown",
   "id": "2d0adf05",
   "metadata": {},
   "source": [
    "모델의 레이어들이 리스트로 표현됨"
   ]
  },
  {
   "cell_type": "code",
   "execution_count": null,
   "id": "f27160e1",
   "metadata": {},
   "outputs": [],
   "source": []
  },
  {
   "cell_type": "code",
   "execution_count": null,
   "id": "61ee259d",
   "metadata": {},
   "outputs": [],
   "source": []
  },
  {
   "cell_type": "markdown",
   "id": "d455509d",
   "metadata": {},
   "source": [
    "위의 layer name 참고"
   ]
  },
  {
   "cell_type": "code",
   "execution_count": null,
   "id": "5427d9b2",
   "metadata": {},
   "outputs": [],
   "source": []
  },
  {
   "cell_type": "code",
   "execution_count": null,
   "id": "ec342f34",
   "metadata": {},
   "outputs": [],
   "source": []
  },
  {
   "cell_type": "code",
   "execution_count": null,
   "id": "73e447a3",
   "metadata": {},
   "outputs": [],
   "source": []
  },
  {
   "cell_type": "code",
   "execution_count": null,
   "id": "f5d12740",
   "metadata": {},
   "outputs": [],
   "source": []
  },
  {
   "cell_type": "code",
   "execution_count": null,
   "id": "645d5e2e",
   "metadata": {},
   "outputs": [],
   "source": []
  },
  {
   "cell_type": "markdown",
   "id": "6fbdfd3a",
   "metadata": {},
   "source": [
    "## 모델 컴파일(compile)\n",
    "\n",
    "- 모델을 구성한 후, 사용할 손실함수(loss), 옵티마이저(optimizer)를 지정\n"
   ]
  },
  {
   "cell_type": "code",
   "execution_count": null,
   "id": "cd566b7a",
   "metadata": {},
   "outputs": [],
   "source": []
  },
  {
   "cell_type": "markdown",
   "id": "2ba71846",
   "metadata": {},
   "source": [
    "### 참고1\n",
    "\n",
    "#### loss\n",
    "- `keras.losses.sparse_categorical_crossentropy` 등과 같이 지정 가능\n",
    "  - `sparse_categorical_crossentropy`  \n",
    "    클래스가 배타적, 즉 MNIST 예제에서 (0, 1, 2, ..., 9)와 같은 방식으로 구분되어 있을 때 사용\n",
    "\n",
    "  - `categorical_cross_entropy`\n",
    "    클래스가 원-핫 인코딩 방식으로 되어 있을 때 사용\n",
    "\n",
    "  - `binary_crossentropy`\n",
    "  이진 분류를 수행할 때 사용\n",
    "\n",
    "\n",
    "#### optimizer\n",
    "- `keras.optimizer.SGD()` 등과 같이 사용 가능\n",
    "  - 보통 옵티마이저의 튜닝을 위해 따로 객체를 생성하여 컴파일    \n",
    "        optimizer = keras.optimizer.SGD(learning_rate=1e-5)  \n",
    "        model.compile(...,\n",
    "                      optimizer=optimzer,\n",
    "                      ...)\n",
    "\n",
    "- `keras.optimizer.Adam()` 도 많이 사용\n",
    "\n",
    "#### metrics\n",
    "- 모니터링할 지표\n",
    "\n",
    "- 주로 'accuracy', 'acc'로도 가능\n"
   ]
  },
  {
   "cell_type": "markdown",
   "id": "89993bf7",
   "metadata": {},
   "source": [
    "### 참고2 - 컴파일 설정 예시\n",
    "- 평균 제곱 오차 회귀 문제  \n",
    "      model.compile(loss = 'mse',  \n",
    "                    optimizer = RMSprop(),  \n",
    "                    metrics=['mae'])\n",
    "\n",
    "- 이진 분류\n",
    "      model.compile(loss = 'binary_crossentropy',  \n",
    "                    optimizer = RMSprop(),  \n",
    "                    metrics=['accuracy])\n",
    "\n",
    "\n",
    "\n",
    "- 다항 분류\n",
    "      model.compile(loss = 'categorical_crossentropy',  \n",
    "                    optimizer = RMSprop(),  \n",
    "                    metrics=['accuracy])\n",
    " \n"
   ]
  },
  {
   "cell_type": "markdown",
   "id": "b7aa3387",
   "metadata": {},
   "source": [
    "## 모델 훈련, 평가 및 예측\n",
    "- `fit()` 함수\n",
    "\n",
    "  - train_data(학습 데이터), train_label(데이터의 정답)\n",
    "  \n",
    "  - epochs\n",
    "  \n",
    "  - batch_size\n",
    "  \n",
    "  - validation_data\n",
    "\n",
    "- `evaluate()` 함수\n",
    "  - 테스트 데이터\n",
    "\n",
    "\n",
    "- `predict()`\n",
    "  임의의 데이터를 인자로 넣어 예측 가능"
   ]
  },
  {
   "cell_type": "markdown",
   "id": "5b5e3e4d",
   "metadata": {},
   "source": [
    "## MNIST 예제를 통해 모델 구성하기\n",
    "\n",
    "- keras.datasets 에 포함되어 있는 데이터셋\n",
    "\n",
    "  <img src=\"https://storage.googleapis.com/tfds-data/visualization/fig/mnist-3.0.1.png\" width=\"400\">\n",
    "\n",
    "  <sub>출처: https://www.tensorflow.org/datasets/catalog/mnist</sub>"
   ]
  },
  {
   "cell_type": "markdown",
   "id": "fdf2896e",
   "metadata": {},
   "source": [
    "### modules import"
   ]
  },
  {
   "cell_type": "code",
   "execution_count": null,
   "id": "b08baa99",
   "metadata": {},
   "outputs": [],
   "source": []
  },
  {
   "cell_type": "code",
   "execution_count": null,
   "id": "0d938dde",
   "metadata": {},
   "outputs": [],
   "source": []
  },
  {
   "cell_type": "code",
   "execution_count": null,
   "id": "0960f31c",
   "metadata": {},
   "outputs": [],
   "source": []
  },
  {
   "cell_type": "code",
   "execution_count": null,
   "id": "314fcb89",
   "metadata": {},
   "outputs": [],
   "source": []
  },
  {
   "cell_type": "code",
   "execution_count": null,
   "id": "8f086be3",
   "metadata": {},
   "outputs": [],
   "source": []
  },
  {
   "cell_type": "code",
   "execution_count": null,
   "id": "b32bfc36",
   "metadata": {},
   "outputs": [],
   "source": []
  },
  {
   "cell_type": "code",
   "execution_count": null,
   "id": "76dd92f0",
   "metadata": {},
   "outputs": [],
   "source": []
  },
  {
   "cell_type": "code",
   "execution_count": null,
   "id": "78cee524",
   "metadata": {},
   "outputs": [],
   "source": []
  },
  {
   "cell_type": "code",
   "execution_count": null,
   "id": "987c13c4",
   "metadata": {},
   "outputs": [],
   "source": []
  },
  {
   "cell_type": "code",
   "execution_count": null,
   "id": "36f597b1",
   "metadata": {},
   "outputs": [],
   "source": []
  },
  {
   "cell_type": "code",
   "execution_count": null,
   "id": "5a583238",
   "metadata": {},
   "outputs": [],
   "source": []
  },
  {
   "cell_type": "code",
   "execution_count": null,
   "id": "f1a826be",
   "metadata": {},
   "outputs": [],
   "source": []
  },
  {
   "cell_type": "code",
   "execution_count": null,
   "id": "7eb898ba",
   "metadata": {},
   "outputs": [],
   "source": []
  },
  {
   "cell_type": "code",
   "execution_count": null,
   "id": "49592eef",
   "metadata": {},
   "outputs": [],
   "source": []
  },
  {
   "cell_type": "code",
   "execution_count": null,
   "id": "0bb5fd45",
   "metadata": {},
   "outputs": [],
   "source": []
  },
  {
   "cell_type": "code",
   "execution_count": null,
   "id": "478796a4",
   "metadata": {},
   "outputs": [],
   "source": []
  },
  {
   "cell_type": "code",
   "execution_count": null,
   "id": "f0d4bacb",
   "metadata": {},
   "outputs": [],
   "source": []
  }
 ],
 "metadata": {
  "kernelspec": {
   "display_name": "Python 3",
   "language": "python",
   "name": "python3"
  },
  "language_info": {
   "codemirror_mode": {
    "name": "ipython",
    "version": 3
   },
   "file_extension": ".py",
   "mimetype": "text/x-python",
   "name": "python",
   "nbconvert_exporter": "python",
   "pygments_lexer": "ipython3",
   "version": "3.8.8"
  }
 },
 "nbformat": 4,
 "nbformat_minor": 5
}
