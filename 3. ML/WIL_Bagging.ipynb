{
 "cells": [
  {
   "cell_type": "code",
   "execution_count": 2,
   "id": "2328c8a6",
   "metadata": {},
   "outputs": [],
   "source": [
    "import pandas as pd"
   ]
  },
  {
   "cell_type": "markdown",
   "id": "23df27a0",
   "metadata": {},
   "source": [
    "Data read : \"wine.csv\""
   ]
  },
  {
   "cell_type": "code",
   "execution_count": 3,
   "id": "b63553a7",
   "metadata": {
    "scrolled": true
   },
   "outputs": [
    {
     "name": "stdout",
     "output_type": "stream",
     "text": [
      "     Class label  Alcohol  Malic acid   Ash  Alcalinity of ash  Magnesium  \\\n",
      "0              1    14.23        1.71  2.43               15.6        127   \n",
      "1              1    13.20        1.78  2.14               11.2        100   \n",
      "2              1    13.16        2.36  2.67               18.6        101   \n",
      "3              1    14.37        1.95  2.50               16.8        113   \n",
      "4              1    13.24        2.59  2.87               21.0        118   \n",
      "..           ...      ...         ...   ...                ...        ...   \n",
      "173            3    13.71        5.65  2.45               20.5         95   \n",
      "174            3    13.40        3.91  2.48               23.0        102   \n",
      "175            3    13.27        4.28  2.26               20.0        120   \n",
      "176            3    13.17        2.59  2.37               20.0        120   \n",
      "177            3    14.13        4.10  2.74               24.5         96   \n",
      "\n",
      "     Total phenols  Flavanoids  Nonflavanoid phenols  Proanthocyanins  \\\n",
      "0             2.80        3.06                  0.28             2.29   \n",
      "1             2.65        2.76                  0.26             1.28   \n",
      "2             2.80        3.24                  0.30             2.81   \n",
      "3             3.85        3.49                  0.24             2.18   \n",
      "4             2.80        2.69                  0.39             1.82   \n",
      "..             ...         ...                   ...              ...   \n",
      "173           1.68        0.61                  0.52             1.06   \n",
      "174           1.80        0.75                  0.43             1.41   \n",
      "175           1.59        0.69                  0.43             1.35   \n",
      "176           1.65        0.68                  0.53             1.46   \n",
      "177           2.05        0.76                  0.56             1.35   \n",
      "\n",
      "     Color intensity   Hue  OD280/OD315 of diluted wines  Proline  \n",
      "0               5.64  1.04                          3.92     1065  \n",
      "1               4.38  1.05                          3.40     1050  \n",
      "2               5.68  1.03                          3.17     1185  \n",
      "3               7.80  0.86                          3.45     1480  \n",
      "4               4.32  1.04                          2.93      735  \n",
      "..               ...   ...                           ...      ...  \n",
      "173             7.70  0.64                          1.74      740  \n",
      "174             7.30  0.70                          1.56      750  \n",
      "175            10.20  0.59                          1.56      835  \n",
      "176             9.30  0.60                          1.62      840  \n",
      "177             9.20  0.61                          1.60      560  \n",
      "\n",
      "[178 rows x 14 columns]\n"
     ]
    }
   ],
   "source": [
    "wine = pd.read_csv('data/wine.csv')\n",
    "print(wine)"
   ]
  },
  {
   "cell_type": "markdown",
   "id": "4ccd5944",
   "metadata": {},
   "source": [
    "Data selection : excep for \"Class label 1\""
   ]
  },
  {
   "cell_type": "code",
   "execution_count": 5,
   "id": "4444380e",
   "metadata": {},
   "outputs": [
    {
     "name": "stdout",
     "output_type": "stream",
     "text": [
      "     Class label  Alcohol  Malic acid   Ash  Alcalinity of ash  Magnesium  \\\n",
      "59             2    12.37        0.94  1.36               10.6         88   \n",
      "60             2    12.33        1.10  2.28               16.0        101   \n",
      "61             2    12.64        1.36  2.02               16.8        100   \n",
      "62             2    13.67        1.25  1.92               18.0         94   \n",
      "63             2    12.37        1.13  2.16               19.0         87   \n",
      "..           ...      ...         ...   ...                ...        ...   \n",
      "173            3    13.71        5.65  2.45               20.5         95   \n",
      "174            3    13.40        3.91  2.48               23.0        102   \n",
      "175            3    13.27        4.28  2.26               20.0        120   \n",
      "176            3    13.17        2.59  2.37               20.0        120   \n",
      "177            3    14.13        4.10  2.74               24.5         96   \n",
      "\n",
      "     Total phenols  Flavanoids  Nonflavanoid phenols  Proanthocyanins  \\\n",
      "59            1.98        0.57                  0.28             0.42   \n",
      "60            2.05        1.09                  0.63             0.41   \n",
      "61            2.02        1.41                  0.53             0.62   \n",
      "62            2.10        1.79                  0.32             0.73   \n",
      "63            3.50        3.10                  0.19             1.87   \n",
      "..             ...         ...                   ...              ...   \n",
      "173           1.68        0.61                  0.52             1.06   \n",
      "174           1.80        0.75                  0.43             1.41   \n",
      "175           1.59        0.69                  0.43             1.35   \n",
      "176           1.65        0.68                  0.53             1.46   \n",
      "177           2.05        0.76                  0.56             1.35   \n",
      "\n",
      "     Color intensity   Hue  OD280/OD315 of diluted wines  Proline  \n",
      "59              1.95  1.05                          1.82      520  \n",
      "60              3.27  1.25                          1.67      680  \n",
      "61              5.75  0.98                          1.59      450  \n",
      "62              3.80  1.23                          2.46      630  \n",
      "63              4.45  1.22                          2.87      420  \n",
      "..               ...   ...                           ...      ...  \n",
      "173             7.70  0.64                          1.74      740  \n",
      "174             7.30  0.70                          1.56      750  \n",
      "175            10.20  0.59                          1.56      835  \n",
      "176             9.30  0.60                          1.62      840  \n",
      "177             9.20  0.61                          1.60      560  \n",
      "\n",
      "[119 rows x 14 columns]\n"
     ]
    }
   ],
   "source": [
    "df_wine = wine[wine['Class label'] != 1]\n",
    "print(df_wine)"
   ]
  },
  {
   "cell_type": "markdown",
   "id": "499e67f2",
   "metadata": {},
   "source": [
    "Feature select : two features(Alcohol and Hue) of Wine classes 2 and 3"
   ]
  },
  {
   "cell_type": "code",
   "execution_count": 8,
   "id": "43e1705e",
   "metadata": {
    "scrolled": true
   },
   "outputs": [],
   "source": [
    "X = df_wine[['Alcohol', 'Ash']].values\n",
    "y = df_wine['Class label'].values"
   ]
  },
  {
   "cell_type": "markdown",
   "id": "52cba95d",
   "metadata": {},
   "source": [
    "Next, we encode the class labels into binary format"
   ]
  },
  {
   "cell_type": "code",
   "execution_count": 9,
   "id": "098c4bf6",
   "metadata": {},
   "outputs": [
    {
     "name": "stdout",
     "output_type": "stream",
     "text": [
      "[0 0 0 0 0 0 0 0 0 0 0 0 0 0 0 0 0 0 0 0 0 0 0 0 0 0 0 0 0 0 0 0 0 0 0 0 0\n",
      " 0 0 0 0 0 0 0 0 0 0 0 0 0 0 0 0 0 0 0 0 0 0 0 0 0 0 0 0 0 0 0 0 0 0 1 1 1\n",
      " 1 1 1 1 1 1 1 1 1 1 1 1 1 1 1 1 1 1 1 1 1 1 1 1 1 1 1 1 1 1 1 1 1 1 1 1 1\n",
      " 1 1 1 1 1 1 1 1]\n"
     ]
    }
   ],
   "source": [
    "from sklearn.preprocessing import LabelEncoder\n",
    "le = LabelEncoder()\n",
    "y = le.fit_transform(y)\n",
    "print(y)"
   ]
  },
  {
   "cell_type": "markdown",
   "id": "56d62724",
   "metadata": {},
   "source": [
    "spilt the dataset : 70% OOB and 30% test set"
   ]
  },
  {
   "cell_type": "code",
   "execution_count": 10,
   "id": "b42a9502",
   "metadata": {
    "scrolled": true
   },
   "outputs": [
    {
     "name": "stdout",
     "output_type": "stream",
     "text": [
      "X_train \n",
      " [[12.    2.42]\n",
      " [12.2   2.32]\n",
      " [12.29  1.98]\n",
      " [12.33  1.95]\n",
      " [14.13  2.74]\n",
      " [12.16  2.31]\n",
      " [12.47  2.2 ]\n",
      " [13.4   2.86]\n",
      " [12.37  2.1 ]\n",
      " [13.11  2.75]\n",
      " [12.87  2.48]\n",
      " [14.34  2.7 ]\n",
      " [12.29  2.21]\n",
      " [12.08  2.5 ]\n",
      " [11.87  2.39]\n",
      " [13.5   2.62]\n",
      " [12.08  2.51]\n",
      " [12.29  2.22]\n",
      " [12.25  2.54]\n",
      " [12.96  2.35]\n",
      " [12.37  2.16]\n",
      " [12.93  2.7 ]\n",
      " [11.96  2.3 ]\n",
      " [13.48  2.64]\n",
      " [12.08  1.7 ]\n",
      " [11.46  1.82]\n",
      " [12.51  1.98]\n",
      " [13.58  2.69]\n",
      " [12.52  2.17]\n",
      " [12.67  2.24]\n",
      " [12.34  2.46]\n",
      " [13.05  2.32]\n",
      " [12.81  2.4 ]\n",
      " [13.52  2.72]\n",
      " [12.22  1.94]\n",
      " [12.    2.  ]\n",
      " [12.04  2.38]\n",
      " [13.67  1.92]\n",
      " [13.73  2.26]\n",
      " [12.08  2.3 ]\n",
      " [13.4   2.48]\n",
      " [12.25  2.12]\n",
      " [13.32  2.38]\n",
      " [12.37  1.92]\n",
      " [12.    2.  ]\n",
      " [12.37  1.36]\n",
      " [12.82  2.3 ]\n",
      " [11.82  1.99]\n",
      " [12.72  2.2 ]\n",
      " [11.45  2.42]\n",
      " [12.42  2.73]\n",
      " [13.11  1.7 ]\n",
      " [13.71  2.45]\n",
      " [13.49  2.24]\n",
      " [13.16  2.15]\n",
      " [12.79  2.48]\n",
      " [13.88  2.23]\n",
      " [11.79  2.78]\n",
      " [12.85  2.58]\n",
      " [12.99  2.6 ]\n",
      " [11.64  2.46]\n",
      " [11.65  2.62]\n",
      " [12.29  2.21]\n",
      " [13.62  2.35]\n",
      " [11.84  2.23]\n",
      " [12.36  2.38]\n",
      " [12.7   2.4 ]\n",
      " [11.61  2.7 ]\n",
      " [11.84  2.58]\n",
      " [12.37  2.56]\n",
      " [12.86  2.32]\n",
      " [12.6   2.2 ]\n",
      " [12.33  2.28]\n",
      " [11.66  1.92]\n",
      " [13.05  2.13]\n",
      " [13.49  2.19]\n",
      " [12.17  2.53]\n",
      " [12.51  2.25]\n",
      " [13.34  2.36]\n",
      " [12.88  2.4 ]\n",
      " [13.86  2.67]\n",
      " [13.45  2.6 ]\n",
      " [11.81  2.74]]\n",
      "y_train \n",
      " [0 1 0 0 1 0 0 1 0 1 1 1 0 0 0 1 0 0 1 1 0 1 0 1 0 0 0 1 0 0 0 0 1 1 0 0 0\n",
      " 0 1 0 1 0 1 0 0 0 1 0 0 0 0 0 1 0 1 1 1 0 1 0 0 0 0 1 0 1 0 0 0 0 1 1 0 0\n",
      " 0 1 0 1 0 1 0 1 0]\n"
     ]
    }
   ],
   "source": [
    "from sklearn.model_selection import cross_val_score, train_test_split\n",
    "X_train , X_test, y_train, y_test = train_test_split(X, y, test_size = .3, random_state = 1)\n",
    "print('X_train \\n', X_train)\n",
    "print('y_train \\n', y_train)"
   ]
  },
  {
   "cell_type": "markdown",
   "id": "fdbd3b34",
   "metadata": {},
   "source": [
    "BaggingClassifier algorithm : scikit-learn Decision Tree : an ensemble of 500 decision trees fitted on different bootstrap samples of the training dataset"
   ]
  },
  {
   "cell_type": "code",
   "execution_count": 11,
   "id": "bc2d535e",
   "metadata": {},
   "outputs": [],
   "source": [
    "from sklearn.tree import DecisionTreeClassifier\n",
    "from sklearn.ensemble import BaggingClassifier\n",
    "\n",
    "# DT Classifier\n",
    "tree = DecisionTreeClassifier(criterion = 'entropy', max_depth = None)\n",
    "# Bagging Classifier\n",
    "bag = BaggingClassifier(base_estimator = tree, n_estimators = 500, max_samples = 1.0,\n",
    "                       max_features = 1.0, bootstrap = True, bootstrap_features = False, n_jobs = 1, \n",
    "                       random_state = 0)"
   ]
  },
  {
   "cell_type": "markdown",
   "id": "f13cbabd",
   "metadata": {},
   "source": [
    "Compare Decision Tree with Bagging Classifier"
   ]
  },
  {
   "cell_type": "code",
   "execution_count": 15,
   "id": "7315e7a3",
   "metadata": {},
   "outputs": [
    {
     "data": {
      "image/png": "[encoded data removed]",
      "text/plain": [
       "<Figure size 792x288 with 2 Axes>"
      ]
     },
     "metadata": {
      "needs_background": "light"
     },
     "output_type": "display_data"
    }
   ],
   "source": [
    "import numpy as np\n",
    "import matplotlib.pyplot as plt\n",
    "\n",
    "x_min = X_train[:, 0].min() -1\n",
    "x_max = X_train[:, 0].max() +1\n",
    "y_min = X_train[:, 1].min() -1\n",
    "y_max = X_train[:, 1].max() +1\n",
    "xx, yy = np.meshgrid(np.arange(x_min, x_max, 0.15), np.arange(y_min, y_max, 0.15))\n",
    "f, axarr = plt.subplots(nrows = 1, ncols = 2, sharex = 'col', sharey = 'row', figsize = (11, 4))\n",
    "for idx, clf, tt in zip([0, 1], [tree, bag], ['Decision Tree', 'Bagging']):\n",
    "    clf.fit(X_train, y_train)\n",
    "    Z = clf.predict(np.c_[xx.ravel(), yy.ravel()])\n",
    "    Z = Z.reshape(xx.shape)\n",
    "    axarr[idx].contourf(xx, yy, Z, alpha = .3)\n",
    "    axarr[idx].scatter(X_train[y_train == 0, 0], X_train[y_train == 0, 1], c = 'blue', marker = '*')\n",
    "    axarr[idx].scatter(X_train[y_train == 1, 0], X_train[y_train == 1, 1], c = 'red', marker = '+')\n",
    "    axarr[idx].set_title(tt)\n",
    "axarr[0].set_ylabel('Alcohol', fontsize = 12)\n",
    "plt.text(10.2, -1.2, s = 'Ash', ha = 'center', va = 'center', fontsize = 12)\n",
    "plt.show()"
   ]
  },
  {
   "cell_type": "markdown",
   "id": "8802eb00",
   "metadata": {},
   "source": [
    "Accuracy score : Decision Tree VS Bagging Classifier"
   ]
  },
  {
   "cell_type": "code",
   "execution_count": 17,
   "id": "d3279107",
   "metadata": {},
   "outputs": [
    {
     "name": "stdout",
     "output_type": "stream",
     "text": [
      "Decision Tree \n",
      "Accuracies 0.639\n",
      "Bagging \n",
      "Accuracies 0.722\n"
     ]
    }
   ],
   "source": [
    "from sklearn.metrics import accuracy_score\n",
    "\n",
    "tree = tree.fit(X_train, y_train)\n",
    "y_test_pred_tree = tree.predict(X_test)\n",
    "tree_test = accuracy_score(y_test, y_test_pred_tree)\n",
    "\n",
    "bag = bag.fit(X_train, y_train)\n",
    "y_test_pred_bag = bag.predict(X_test)\n",
    "bag_test = accuracy_score(y_test, y_test_pred_bag)\n",
    "\n",
    "print('Decision Tree \\nAccuracies %.3f' % (tree_test))\n",
    "print('Bagging \\nAccuracies %.3f' % (bag_test))"
   ]
  },
  {
   "cell_type": "code",
   "execution_count": null,
   "id": "a79e8443",
   "metadata": {},
   "outputs": [],
   "source": []
  }
 ],
 "metadata": {
  "kernelspec": {
   "display_name": "Python 3 (ipykernel)",
   "language": "python",
   "name": "python3"
  },
  "language_info": {
   "codemirror_mode": {
    "name": "ipython",
    "version": 3
   },
   "file_extension": ".py",
   "mimetype": "text/x-python",
   "name": "python",
   "nbconvert_exporter": "python",
   "pygments_lexer": "ipython3",
   "version": "3.8.11"
  }
 },
 "nbformat": 4,
 "nbformat_minor": 5
}
