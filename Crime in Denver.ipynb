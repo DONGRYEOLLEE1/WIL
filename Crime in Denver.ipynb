{
 "cells": [
  {
   "cell_type": "code",
   "execution_count": 3,
   "id": "f72ebec0",
   "metadata": {},
   "outputs": [],
   "source": [
    "import numpy as np\n",
    "import pandas as pd\n",
    "import geopandas as gpd\n",
    "import os\n",
    "import seaborn as sns\n",
    "import matplotlib.pyplot as plt\n",
    "import datetime\n",
    "import math\n",
    "\n",
    "import folium\n",
    "from folium import plugins"
   ]
  },
  {
   "cell_type": "code",
   "execution_count": 10,
   "id": "69cc01fe",
   "metadata": {},
   "outputs": [
    {
     "name": "stderr",
     "output_type": "stream",
     "text": [
      "C:\\Users\\User\\anaconda3\\envs\\geopandas\\lib\\site-packages\\geopandas\\geodataframe.py:35: ShapelyDeprecationWarning: The array interface is deprecated and will no longer work in Shapely 2.0. Convert the '.coords' to a numpy array instead.\n",
      "  out = from_shapely(data)\n"
     ]
    }
   ],
   "source": [
    "denver_gpd = gpd.read_file('Data/Denver_crime_data/crime.shp')"
   ]
  },
  {
   "cell_type": "code",
   "execution_count": 4,
   "id": "d8e5985b",
   "metadata": {},
   "outputs": [
    {
     "data": {
      "text/html": [
       "<div>\n",
       "<style scoped>\n",
       "    .dataframe tbody tr th:only-of-type {\n",
       "        vertical-align: middle;\n",
       "    }\n",
       "\n",
       "    .dataframe tbody tr th {\n",
       "        vertical-align: top;\n",
       "    }\n",
       "\n",
       "    .dataframe thead th {\n",
       "        text-align: right;\n",
       "    }\n",
       "</style>\n",
       "<table border=\"1\" class=\"dataframe\">\n",
       "  <thead>\n",
       "    <tr style=\"text-align: right;\">\n",
       "      <th></th>\n",
       "      <th>INCIDENT_ID</th>\n",
       "      <th>OFFENSE_ID</th>\n",
       "      <th>OFFENSE_CODE</th>\n",
       "      <th>OFFENSE_CODE_EXTENSION</th>\n",
       "      <th>OFFENSE_TYPE_ID</th>\n",
       "      <th>OFFENSE_CATEGORY_ID</th>\n",
       "      <th>FIRST_OCCURRENCE_DATE</th>\n",
       "      <th>LAST_OCCURRENCE_DATE</th>\n",
       "      <th>REPORTED_DATE</th>\n",
       "      <th>INCIDENT_ADDRESS</th>\n",
       "      <th>GEO_X</th>\n",
       "      <th>GEO_Y</th>\n",
       "      <th>GEO_LON</th>\n",
       "      <th>GEO_LAT</th>\n",
       "      <th>DISTRICT_ID</th>\n",
       "      <th>PRECINCT_ID</th>\n",
       "      <th>NEIGHBORHOOD_ID</th>\n",
       "      <th>IS_CRIME</th>\n",
       "      <th>IS_TRAFFIC</th>\n",
       "    </tr>\n",
       "  </thead>\n",
       "  <tbody>\n",
       "    <tr>\n",
       "      <th>0</th>\n",
       "      <td>20206002576</td>\n",
       "      <td>20206002576230500</td>\n",
       "      <td>2305</td>\n",
       "      <td>0</td>\n",
       "      <td>theft-items-from-vehicle</td>\n",
       "      <td>theft-from-motor-vehicle</td>\n",
       "      <td>3/11/2020 10:00:00 PM</td>\n",
       "      <td>3/12/2020 7:00:00 AM</td>\n",
       "      <td>3/12/2020 9:47:00 AM</td>\n",
       "      <td>410 N ACOMA ST</td>\n",
       "      <td>3143822.0</td>\n",
       "      <td>1688642.0</td>\n",
       "      <td>-104.988703</td>\n",
       "      <td>39.723014</td>\n",
       "      <td>3.0</td>\n",
       "      <td>311.0</td>\n",
       "      <td>baker</td>\n",
       "      <td>1</td>\n",
       "      <td>0</td>\n",
       "    </tr>\n",
       "    <tr>\n",
       "      <th>1</th>\n",
       "      <td>20166006518</td>\n",
       "      <td>20166006518230500</td>\n",
       "      <td>2305</td>\n",
       "      <td>0</td>\n",
       "      <td>theft-items-from-vehicle</td>\n",
       "      <td>theft-from-motor-vehicle</td>\n",
       "      <td>7/6/2016 1:15:00 AM</td>\n",
       "      <td>7/6/2016 4:15:00 AM</td>\n",
       "      <td>7/6/2016 8:23:00 AM</td>\n",
       "      <td>5571 N HANNIBAL CT</td>\n",
       "      <td>3194359.0</td>\n",
       "      <td>1716094.0</td>\n",
       "      <td>-104.808304</td>\n",
       "      <td>39.797455</td>\n",
       "      <td>5.0</td>\n",
       "      <td>522.0</td>\n",
       "      <td>gateway-green-valley-ranch</td>\n",
       "      <td>1</td>\n",
       "      <td>0</td>\n",
       "    </tr>\n",
       "    <tr>\n",
       "      <th>2</th>\n",
       "      <td>2021174815</td>\n",
       "      <td>2021174815299900</td>\n",
       "      <td>2999</td>\n",
       "      <td>0</td>\n",
       "      <td>criminal-mischief-other</td>\n",
       "      <td>public-disorder</td>\n",
       "      <td>3/27/2021 12:20:00 AM</td>\n",
       "      <td>NaN</td>\n",
       "      <td>3/27/2021 8:59:00 PM</td>\n",
       "      <td>2101 MARKET ST</td>\n",
       "      <td>3142826.0</td>\n",
       "      <td>1700311.0</td>\n",
       "      <td>-104.992012</td>\n",
       "      <td>39.755063</td>\n",
       "      <td>6.0</td>\n",
       "      <td>612.0</td>\n",
       "      <td>five-points</td>\n",
       "      <td>1</td>\n",
       "      <td>0</td>\n",
       "    </tr>\n",
       "    <tr>\n",
       "      <th>3</th>\n",
       "      <td>2017139511</td>\n",
       "      <td>2017139511549900</td>\n",
       "      <td>5499</td>\n",
       "      <td>0</td>\n",
       "      <td>traf-other</td>\n",
       "      <td>all-other-crimes</td>\n",
       "      <td>3/1/2017 3:05:00 PM</td>\n",
       "      <td>NaN</td>\n",
       "      <td>3/1/2017 4:05:00 PM</td>\n",
       "      <td>12300 BLOCK E ALBROOK DR</td>\n",
       "      <td>3183998.0</td>\n",
       "      <td>1710284.0</td>\n",
       "      <td>-104.845325</td>\n",
       "      <td>39.781717</td>\n",
       "      <td>5.0</td>\n",
       "      <td>521.0</td>\n",
       "      <td>montbello</td>\n",
       "      <td>1</td>\n",
       "      <td>0</td>\n",
       "    </tr>\n",
       "    <tr>\n",
       "      <th>4</th>\n",
       "      <td>202138020</td>\n",
       "      <td>202138020220300</td>\n",
       "      <td>2203</td>\n",
       "      <td>0</td>\n",
       "      <td>burglary-business-by-force</td>\n",
       "      <td>burglary</td>\n",
       "      <td>1/19/2021 6:50:00 PM</td>\n",
       "      <td>1/19/2021 7:20:00 PM</td>\n",
       "      <td>1/19/2021 8:24:00 PM</td>\n",
       "      <td>2500 S COLORADO BLVD</td>\n",
       "      <td>3157863.0</td>\n",
       "      <td>1669614.0</td>\n",
       "      <td>-104.939205</td>\n",
       "      <td>39.670550</td>\n",
       "      <td>3.0</td>\n",
       "      <td>314.0</td>\n",
       "      <td>university-hills</td>\n",
       "      <td>1</td>\n",
       "      <td>0</td>\n",
       "    </tr>\n",
       "  </tbody>\n",
       "</table>\n",
       "</div>"
      ],
      "text/plain": [
       "   INCIDENT_ID         OFFENSE_ID  OFFENSE_CODE  OFFENSE_CODE_EXTENSION  \\\n",
       "0  20206002576  20206002576230500          2305                       0   \n",
       "1  20166006518  20166006518230500          2305                       0   \n",
       "2   2021174815   2021174815299900          2999                       0   \n",
       "3   2017139511   2017139511549900          5499                       0   \n",
       "4    202138020    202138020220300          2203                       0   \n",
       "\n",
       "              OFFENSE_TYPE_ID       OFFENSE_CATEGORY_ID  \\\n",
       "0    theft-items-from-vehicle  theft-from-motor-vehicle   \n",
       "1    theft-items-from-vehicle  theft-from-motor-vehicle   \n",
       "2     criminal-mischief-other           public-disorder   \n",
       "3                  traf-other          all-other-crimes   \n",
       "4  burglary-business-by-force                  burglary   \n",
       "\n",
       "   FIRST_OCCURRENCE_DATE  LAST_OCCURRENCE_DATE         REPORTED_DATE  \\\n",
       "0  3/11/2020 10:00:00 PM  3/12/2020 7:00:00 AM  3/12/2020 9:47:00 AM   \n",
       "1    7/6/2016 1:15:00 AM   7/6/2016 4:15:00 AM   7/6/2016 8:23:00 AM   \n",
       "2  3/27/2021 12:20:00 AM                   NaN  3/27/2021 8:59:00 PM   \n",
       "3    3/1/2017 3:05:00 PM                   NaN   3/1/2017 4:05:00 PM   \n",
       "4   1/19/2021 6:50:00 PM  1/19/2021 7:20:00 PM  1/19/2021 8:24:00 PM   \n",
       "\n",
       "           INCIDENT_ADDRESS      GEO_X      GEO_Y     GEO_LON    GEO_LAT  \\\n",
       "0            410 N ACOMA ST  3143822.0  1688642.0 -104.988703  39.723014   \n",
       "1        5571 N HANNIBAL CT  3194359.0  1716094.0 -104.808304  39.797455   \n",
       "2            2101 MARKET ST  3142826.0  1700311.0 -104.992012  39.755063   \n",
       "3  12300 BLOCK E ALBROOK DR  3183998.0  1710284.0 -104.845325  39.781717   \n",
       "4      2500 S COLORADO BLVD  3157863.0  1669614.0 -104.939205  39.670550   \n",
       "\n",
       "   DISTRICT_ID  PRECINCT_ID             NEIGHBORHOOD_ID  IS_CRIME  IS_TRAFFIC  \n",
       "0          3.0        311.0                       baker         1           0  \n",
       "1          5.0        522.0  gateway-green-valley-ranch         1           0  \n",
       "2          6.0        612.0                 five-points         1           0  \n",
       "3          5.0        521.0                   montbello         1           0  \n",
       "4          3.0        314.0            university-hills         1           0  "
      ]
     },
     "execution_count": 4,
     "metadata": {},
     "output_type": "execute_result"
    }
   ],
   "source": [
    "df = pd.read_csv('Data/Denver_crime_data/crime.csv')\n",
    "df[:5]"
   ]
  },
  {
   "cell_type": "code",
   "execution_count": 12,
   "id": "b346a0f9",
   "metadata": {
    "scrolled": true
   },
   "outputs": [
    {
     "data": {
      "text/plain": [
       "INCIDENT_ID                    0\n",
       "OFFENSE_ID                     0\n",
       "OFFENSE_CODE                   0\n",
       "OFFENSE_CODE_EXTENSION         0\n",
       "OFFENSE_TYPE_ID                0\n",
       "OFFENSE_CATEGORY_ID            0\n",
       "FIRST_OCCURRENCE_DATE          0\n",
       "LAST_OCCURRENCE_DATE      344836\n",
       "REPORTED_DATE                  0\n",
       "INCIDENT_ADDRESS           45601\n",
       "GEO_X                       4585\n",
       "GEO_Y                       4585\n",
       "GEO_LON                     4586\n",
       "GEO_LAT                     4586\n",
       "DISTRICT_ID                    1\n",
       "PRECINCT_ID                    1\n",
       "NEIGHBORHOOD_ID                1\n",
       "IS_CRIME                       0\n",
       "IS_TRAFFIC                     0\n",
       "dtype: int64"
      ]
     },
     "execution_count": 12,
     "metadata": {},
     "output_type": "execute_result"
    }
   ],
   "source": [
    "df.isna().sum()"
   ]
  },
  {
   "cell_type": "code",
   "execution_count": 16,
   "id": "94597108",
   "metadata": {},
   "outputs": [
    {
     "name": "stderr",
     "output_type": "stream",
     "text": [
      "C:\\Users\\User\\anaconda3\\envs\\geopandas\\lib\\site-packages\\seaborn\\_decorators.py:36: FutureWarning: Pass the following variables as keyword args: x, y. From version 0.12, the only valid positional argument will be `data`, and passing other arguments without an explicit keyword will result in an error or misinterpretation.\n",
      "  warnings.warn(\n"
     ]
    },
    {
     "data": {
      "text/plain": [
       "Text(0.5, 1.0, 'Counts of Missing Value')"
      ]
     },
     "execution_count": 16,
     "metadata": {},
     "output_type": "execute_result"
    },
    {
     "data": {
      "image/png": "[encoded data removed]",
      "text/plain": [
       "<Figure size 576x576 with 1 Axes>"
      ]
     },
     "metadata": {
      "needs_background": "light"
     },
     "output_type": "display_data"
    }
   ],
   "source": [
    "y = df.isnull().sum().sort_values(ascending = False)[:6].index\n",
    "x = df.isnull().sum().sort_values(ascending = False)[:6]\n",
    "\n",
    "plt.figure(figsize = (8, 8))\n",
    "sns.barplot(x, y)\n",
    "plt.title('Counts of Missing Value', size = 20)"
   ]
  },
  {
   "cell_type": "code",
   "execution_count": 17,
   "id": "78ea6915",
   "metadata": {},
   "outputs": [
    {
     "data": {
      "text/plain": [
       "INCIDENT_ID                    0\n",
       "OFFENSE_ID                     0\n",
       "OFFENSE_CODE                   0\n",
       "OFFENSE_CODE_EXTENSION         0\n",
       "OFFENSE_TYPE_ID                0\n",
       "OFFENSE_CATEGORY_ID            0\n",
       "FIRST_OCCURRENCE_DATE          0\n",
       "LAST_OCCURRENCE_DATE      342778\n",
       "REPORTED_DATE                  0\n",
       "INCIDENT_ADDRESS           41016\n",
       "GEO_X                          0\n",
       "GEO_Y                          0\n",
       "GEO_LON                        0\n",
       "GEO_LAT                        0\n",
       "DISTRICT_ID                    0\n",
       "PRECINCT_ID                    0\n",
       "NEIGHBORHOOD_ID                0\n",
       "IS_CRIME                       0\n",
       "IS_TRAFFIC                     0\n",
       "dtype: int64"
      ]
     },
     "execution_count": 17,
     "metadata": {},
     "output_type": "execute_result"
    }
   ],
   "source": [
    "df = df.dropna(subset = ['GEO_LAT', 'GEO_LON'])\n",
    "df.isnull().sum()"
   ]
  },
  {
   "cell_type": "code",
   "execution_count": 20,
   "id": "5c27f519",
   "metadata": {},
   "outputs": [
    {
     "name": "stdout",
     "output_type": "stream",
     "text": [
      "<class 'pandas.core.frame.DataFrame'>\n",
      "Int64Index: 531769 entries, 0 to 536354\n",
      "Data columns (total 19 columns):\n",
      " #   Column                  Non-Null Count   Dtype         \n",
      "---  ------                  --------------   -----         \n",
      " 0   INCIDENT_ID             531769 non-null  int64         \n",
      " 1   OFFENSE_ID              531769 non-null  int64         \n",
      " 2   OFFENSE_CODE            531769 non-null  int64         \n",
      " 3   OFFENSE_CODE_EXTENSION  531769 non-null  int64         \n",
      " 4   OFFENSE_TYPE_ID         531769 non-null  object        \n",
      " 5   OFFENSE_CATEGORY_ID     531769 non-null  object        \n",
      " 6   FIRST_OCCURRENCE_DATE   531769 non-null  object        \n",
      " 7   LAST_OCCURRENCE_DATE    188991 non-null  object        \n",
      " 8   REPORTED_DATE           531769 non-null  datetime64[ns]\n",
      " 9   INCIDENT_ADDRESS        490753 non-null  object        \n",
      " 10  GEO_X                   531769 non-null  float64       \n",
      " 11  GEO_Y                   531769 non-null  float64       \n",
      " 12  GEO_LON                 531769 non-null  float64       \n",
      " 13  GEO_LAT                 531769 non-null  float64       \n",
      " 14  DISTRICT_ID             531769 non-null  float64       \n",
      " 15  PRECINCT_ID             531769 non-null  float64       \n",
      " 16  NEIGHBORHOOD_ID         531769 non-null  object        \n",
      " 17  IS_CRIME                531769 non-null  int64         \n",
      " 18  IS_TRAFFIC              531769 non-null  int64         \n",
      "dtypes: datetime64[ns](1), float64(6), int64(6), object(6)\n",
      "memory usage: 81.1+ MB\n"
     ]
    }
   ],
   "source": [
    "df['REPORTED_DATE'] = pd.to_datetime(df['REPORTED_DATE'])"
   ]
  },
  {
   "cell_type": "code",
   "execution_count": 24,
   "id": "cb766efc",
   "metadata": {},
   "outputs": [
    {
     "ename": "AttributeError",
     "evalue": "'Series' object has no attribute 'dayofweek'",
     "output_type": "error",
     "traceback": [
      "\u001b[1;31m---------------------------------------------------------------------------\u001b[0m",
      "\u001b[1;31mAttributeError\u001b[0m                            Traceback (most recent call last)",
      "\u001b[1;32m~\\AppData\\Local\\Temp/ipykernel_12104/29356473.py\u001b[0m in \u001b[0;36m<module>\u001b[1;34m\u001b[0m\n\u001b[1;32m----> 1\u001b[1;33m \u001b[0mdf\u001b[0m\u001b[1;33m[\u001b[0m\u001b[1;34m'REPORTED_DATE'\u001b[0m\u001b[1;33m]\u001b[0m\u001b[1;33m.\u001b[0m\u001b[0mdayofweek\u001b[0m\u001b[1;33m\u001b[0m\u001b[1;33m\u001b[0m\u001b[0m\n\u001b[0m",
      "\u001b[1;32m~\\anaconda3\\envs\\geopandas\\lib\\site-packages\\pandas\\core\\generic.py\u001b[0m in \u001b[0;36m__getattr__\u001b[1;34m(self, name)\u001b[0m\n\u001b[0;32m   5485\u001b[0m         ):\n\u001b[0;32m   5486\u001b[0m             \u001b[1;32mreturn\u001b[0m \u001b[0mself\u001b[0m\u001b[1;33m[\u001b[0m\u001b[0mname\u001b[0m\u001b[1;33m]\u001b[0m\u001b[1;33m\u001b[0m\u001b[1;33m\u001b[0m\u001b[0m\n\u001b[1;32m-> 5487\u001b[1;33m         \u001b[1;32mreturn\u001b[0m \u001b[0mobject\u001b[0m\u001b[1;33m.\u001b[0m\u001b[0m__getattribute__\u001b[0m\u001b[1;33m(\u001b[0m\u001b[0mself\u001b[0m\u001b[1;33m,\u001b[0m \u001b[0mname\u001b[0m\u001b[1;33m)\u001b[0m\u001b[1;33m\u001b[0m\u001b[1;33m\u001b[0m\u001b[0m\n\u001b[0m\u001b[0;32m   5488\u001b[0m \u001b[1;33m\u001b[0m\u001b[0m\n\u001b[0;32m   5489\u001b[0m     \u001b[1;32mdef\u001b[0m \u001b[0m__setattr__\u001b[0m\u001b[1;33m(\u001b[0m\u001b[0mself\u001b[0m\u001b[1;33m,\u001b[0m \u001b[0mname\u001b[0m\u001b[1;33m:\u001b[0m \u001b[0mstr\u001b[0m\u001b[1;33m,\u001b[0m \u001b[0mvalue\u001b[0m\u001b[1;33m)\u001b[0m \u001b[1;33m->\u001b[0m \u001b[1;32mNone\u001b[0m\u001b[1;33m:\u001b[0m\u001b[1;33m\u001b[0m\u001b[1;33m\u001b[0m\u001b[0m\n",
      "\u001b[1;31mAttributeError\u001b[0m: 'Series' object has no attribute 'dayofweek'"
     ]
    }
   ],
   "source": [
    "df['REPORTED_DATE'].dayofweek"
   ]
  },
  {
   "cell_type": "code",
   "execution_count": null,
   "id": "9df48697",
   "metadata": {},
   "outputs": [],
   "source": [
    "df['REPORTED_DATE'] = df['REPORTED_DATE'].strftime('%Y-%m-%d')\n"
   ]
  },
  {
   "cell_type": "code",
   "execution_count": null,
   "id": "4768dbf7",
   "metadata": {},
   "outputs": [],
   "source": []
  },
  {
   "cell_type": "code",
   "execution_count": null,
   "id": "2425eb57",
   "metadata": {},
   "outputs": [],
   "source": []
  },
  {
   "cell_type": "code",
   "execution_count": null,
   "id": "f66b364c",
   "metadata": {},
   "outputs": [],
   "source": []
  },
  {
   "cell_type": "code",
   "execution_count": null,
   "id": "8e28ec64",
   "metadata": {},
   "outputs": [],
   "source": []
  },
  {
   "cell_type": "code",
   "execution_count": null,
   "id": "1b1c4ac1",
   "metadata": {},
   "outputs": [],
   "source": []
  }
 ],
 "metadata": {
  "kernelspec": {
   "display_name": "Python 3 (ipykernel)",
   "language": "python",
   "name": "python3"
  },
  "language_info": {
   "codemirror_mode": {
    "name": "ipython",
    "version": 3
   },
   "file_extension": ".py",
   "mimetype": "text/x-python",
   "name": "python",
   "nbconvert_exporter": "python",
   "pygments_lexer": "ipython3",
   "version": "3.8.12"
  },
  "toc": {
   "base_numbering": 1,
   "nav_menu": {},
   "number_sections": true,
   "sideBar": true,
   "skip_h1_title": false,
   "title_cell": "Table of Contents",
   "title_sidebar": "Contents",
   "toc_cell": false,
   "toc_position": {},
   "toc_section_display": true,
   "toc_window_display": false
  },
  "varInspector": {
   "cols": {
    "lenName": 16,
    "lenType": 16,
    "lenVar": 40
   },
   "kernels_config": {
    "python": {
     "delete_cmd_postfix": "",
     "delete_cmd_prefix": "del ",
     "library": "var_list.py",
     "varRefreshCmd": "print(var_dic_list())"
    },
    "r": {
     "delete_cmd_postfix": ") ",
     "delete_cmd_prefix": "rm(",
     "library": "var_list.r",
     "varRefreshCmd": "cat(var_dic_list()) "
    }
   },
   "types_to_exclude": [
    "module",
    "function",
    "builtin_function_or_method",
    "instance",
    "_Feature"
   ],
   "window_display": false
  }
 },
 "nbformat": 4,
 "nbformat_minor": 5
}
