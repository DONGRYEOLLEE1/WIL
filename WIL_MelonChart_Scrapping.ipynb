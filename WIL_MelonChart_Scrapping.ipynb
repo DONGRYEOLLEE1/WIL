{
 "cells": [
  {
   "cell_type": "markdown",
   "id": "ca74df6a",
   "metadata": {},
   "source": [
    "## Melon Chart"
   ]
  },
  {
   "cell_type": "code",
   "execution_count": 1,
   "id": "11e6c48d",
   "metadata": {},
   "outputs": [],
   "source": [
    "import urllib.request\n",
    "from bs4 import BeautifulSoup\n",
    "import csv"
   ]
  },
  {
   "cell_type": "code",
   "execution_count": 20,
   "id": "9e088cb9",
   "metadata": {},
   "outputs": [],
   "source": [
    "hdr = { 'User-Agent' : 'Moziila/5.0'}\n",
    "url = 'https://www.melon.com/chart/index.htm'\n",
    "\n",
    "req = urllib.request.Request(url, headers = hdr)\n",
    "html = urllib.request.urlopen(req).read()\n",
    "soup = BeautifulSoup(html, 'html.parser')\n",
    "\n",
    "lst50 = soup.select('tbody > tr')\n",
    "\n",
    "\n",
    "melonList = []\n",
    "for i in lst50:\n",
    "    temp = []\n",
    "    temp.append(i.select_one('.ellipsis.rank01').a.text)\n",
    "    temp.append(i.select_one('.ellipsis.rank02').a.text)\n",
    "    temp.append(i.select_one('.ellipsis.rank03').a.text)\n",
    "    melonList.append(temp)\n",
    "    \n",
    "with open('melon24H.csv', 'w', encoding = 'utf-8', newline = '') as f:\n",
    "    writer = csv.writer(f)\n",
    "    writer.writerow(['곡명', '아티스트', '앨범명'])\n",
    "    writer.writerows(melonList)"
   ]
  },
  {
   "cell_type": "code",
   "execution_count": null,
   "id": "828ca5bd",
   "metadata": {},
   "outputs": [],
   "source": []
  },
  {
   "cell_type": "code",
   "execution_count": null,
   "id": "95d3a78b",
   "metadata": {},
   "outputs": [],
   "source": []
  },
  {
   "cell_type": "code",
   "execution_count": null,
   "id": "8cacb40d",
   "metadata": {},
   "outputs": [],
   "source": []
  },
  {
   "cell_type": "code",
   "execution_count": null,
   "id": "49cf5173",
   "metadata": {},
   "outputs": [],
   "source": []
  }
 ],
 "metadata": {
  "kernelspec": {
   "display_name": "Python 3",
   "language": "python",
   "name": "python3"
  },
  "language_info": {
   "codemirror_mode": {
    "name": "ipython",
    "version": 3
   },
   "file_extension": ".py",
   "mimetype": "text/x-python",
   "name": "python",
   "nbconvert_exporter": "python",
   "pygments_lexer": "ipython3",
   "version": "3.8.8"
  }
 },
 "nbformat": 4,
 "nbformat_minor": 5
}
