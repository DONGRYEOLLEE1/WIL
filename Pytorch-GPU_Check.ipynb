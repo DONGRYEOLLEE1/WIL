{
 "cells": [
  {
   "cell_type": "markdown",
   "id": "547116db",
   "metadata": {},
   "source": [
    "## Pytorch GPU Setting\n",
    "    - 참고 : https://chancoding.tistory.com/90#google_vignette"
   ]
  },
  {
   "cell_type": "markdown",
   "id": "71663461",
   "metadata": {},
   "source": [
    "### 설치 순서\n",
    "0. VS > Cuda > CuDNN\n",
    "1. Anaconda Prompt > `pip3 install torch==1.10.0+cu113 torchvision==0.11.1+cu113 torchaudio===0.10.0+cu113 -f https://download.pytorch.org/whl/cu113/torch_stable.html`\n",
    "각 cuda환경에 맞는 버젼 설치해줄것"
   ]
  },
  {
   "cell_type": "markdown",
   "id": "6c812dbf",
   "metadata": {},
   "source": [
    "### Pytorch 불러오기"
   ]
  },
  {
   "cell_type": "code",
   "execution_count": 1,
   "id": "6362cb9b",
   "metadata": {},
   "outputs": [],
   "source": [
    "import torch"
   ]
  },
  {
   "cell_type": "code",
   "execution_count": 6,
   "id": "a677caea",
   "metadata": {},
   "outputs": [
    {
     "data": {
      "text/plain": [
       "'1.10.0+cu113'"
      ]
     },
     "execution_count": 6,
     "metadata": {},
     "output_type": "execute_result"
    }
   ],
   "source": [
    "# pytorch 버젼 확인 ( 1.xx.x + cuxxx  또는 1.xx.x + cpu)\n",
    "torch.__version__"
   ]
  },
  {
   "cell_type": "markdown",
   "id": "1adf0e5a",
   "metadata": {},
   "source": [
    "### Torch <> Cuda 연결되었는지 확인"
   ]
  },
  {
   "cell_type": "code",
   "execution_count": 5,
   "id": "e1cab3db",
   "metadata": {},
   "outputs": [
    {
     "data": {
      "text/plain": [
       "True"
      ]
     },
     "execution_count": 5,
     "metadata": {},
     "output_type": "execute_result"
    }
   ],
   "source": [
    "torch.cuda.is_available()"
   ]
  }
 ],
 "metadata": {
  "kernelspec": {
   "display_name": "Python 3",
   "language": "python",
   "name": "python3"
  },
  "language_info": {
   "codemirror_mode": {
    "name": "ipython",
    "version": 3
   },
   "file_extension": ".py",
   "mimetype": "text/x-python",
   "name": "python",
   "nbconvert_exporter": "python",
   "pygments_lexer": "ipython3",
   "version": "3.8.8"
  }
 },
 "nbformat": 4,
 "nbformat_minor": 5
}
