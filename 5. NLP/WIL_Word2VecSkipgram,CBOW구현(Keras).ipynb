{
 "cells": [
  {
   "cell_type": "markdown",
   "id": "164dfc6e",
   "metadata": {},
   "source": [
    "# 케라스 Word2Vec 구현\n",
    "\n",
    "* 참고: https://wikidocs.net/69141"
   ]
  },
  {
   "cell_type": "markdown",
   "id": "41957d45",
   "metadata": {},
   "source": [
    "### 전처리"
   ]
  },
  {
   "cell_type": "code",
   "execution_count": 6,
   "id": "4368fecc",
   "metadata": {},
   "outputs": [
    {
     "name": "stdout",
     "output_type": "stream",
     "text": [
      "11314\n"
     ]
    },
    {
     "data": {
      "text/plain": [
       "\"\\n\\n\\n\\n\\n\\n\\nYeah, do you expect people to read the FAQ, etc. and actually accept hard\\natheism?  No, you need a little leap of faith, Jimmy.  Your logic runs out\\nof steam!\\n\\n\\n\\n\\n\\n\\n\\nJim,\\n\\nSorry I can't pity you, Jim.  And I'm sorry that you have these feelings of\\ndenial about the faith you need to get by.  Oh well, just pretend that it will\\nall end happily ever after anyway.  Maybe if you start a new newsgroup,\\nalt.atheist.hard, you won't be bummin' so much?\\n\\n\\n\\n\\n\\n\\nBye-Bye, Big Jim.  Don't forget your Flintstone's Chewables!  :) \\n--\\nBake Timmons, III\""
      ]
     },
     "execution_count": 6,
     "metadata": {},
     "output_type": "execute_result"
    }
   ],
   "source": [
    "from sklearn.datasets import fetch_20newsgroups\n",
    "\n",
    "dataset = fetch_20newsgroups(shuffle = True,\n",
    "                            random_state = 1,\n",
    "                            remove = ('headers', 'footers', 'quotes'))\n",
    "\n",
    "documents = dataset.data\n",
    "\n",
    "print(len(documents))\n",
    "documents[1]"
   ]
  },
  {
   "cell_type": "code",
   "execution_count": 7,
   "id": "174c3ba2",
   "metadata": {},
   "outputs": [
    {
     "name": "stderr",
     "output_type": "stream",
     "text": [
      "[nltk_data] Downloading package stopwords to\n",
      "[nltk_data]     C:\\Users\\User\\AppData\\Roaming\\nltk_data...\n",
      "[nltk_data]   Package stopwords is already up-to-date!\n",
      "[nltk_data] Downloading package punkt to\n",
      "[nltk_data]     C:\\Users\\User\\AppData\\Roaming\\nltk_data...\n",
      "[nltk_data]   Package punkt is already up-to-date!\n"
     ]
    }
   ],
   "source": [
    "import re\n",
    "import nltk\n",
    "\n",
    "from nltk.corpus import stopwords\n",
    "from nltk.tokenize import word_tokenize\n",
    "\n",
    "nltk.download('stopwords')\n",
    "nltk.download('punkt')\n",
    "\n",
    "def clean_text(d):\n",
    "    pattern = r'[^a-zA-Z\\s]'\n",
    "    text = re.sub(pattern, '', d)\n",
    "    return text\n",
    "\n",
    "def clean_stopword(d):\n",
    "    stop_words = stopwords.words('english')\n",
    "    return ' '.join([w.lower() for w in d.split() if w.lower() not in stop_words and len(w) > 3])\n",
    "\n",
    "def tokenize(d):\n",
    "    return word_tokenize(d)"
   ]
  },
  {
   "cell_type": "code",
   "execution_count": 8,
   "id": "b45b1d79",
   "metadata": {},
   "outputs": [
    {
     "data": {
      "text/plain": [
       "11314"
      ]
     },
     "execution_count": 8,
     "metadata": {},
     "output_type": "execute_result"
    }
   ],
   "source": [
    "import pandas as pd\n",
    "\n",
    "news_df = pd.DataFrame({'article' : documents})\n",
    "len(news_df)"
   ]
  },
  {
   "cell_type": "code",
   "execution_count": 9,
   "id": "55e987c4",
   "metadata": {},
   "outputs": [
    {
     "data": {
      "text/plain": [
       "11096"
      ]
     },
     "execution_count": 9,
     "metadata": {},
     "output_type": "execute_result"
    }
   ],
   "source": [
    "news_df.replace(\"\", float(\"NaN\"), inplace = True)\n",
    "news_df.dropna(inplace = True)\n",
    "len(news_df)"
   ]
  },
  {
   "cell_type": "code",
   "execution_count": 10,
   "id": "5f3f116f",
   "metadata": {},
   "outputs": [
    {
     "data": {
      "text/plain": [
       "0        Well im not sure about the story nad it did se...\n",
       "1        \\n\\n\\n\\n\\n\\n\\nYeah do you expect people to rea...\n",
       "2        Although I realize that principle is not one o...\n",
       "3        Notwithstanding all the legitimate fuss about ...\n",
       "4        Well I will have to change the scoring on my p...\n",
       "                               ...                        \n",
       "11309    Danny Rubenstein an Israeli journalist will be...\n",
       "11310                                                   \\n\n",
       "11311    \\nI agree  Home runs off Clemens are always me...\n",
       "11312    I used HP DeskJet with Orange Micros Grappler ...\n",
       "11313                                          \\nNo arg...\n",
       "Name: article, Length: 11096, dtype: object"
      ]
     },
     "execution_count": 10,
     "metadata": {},
     "output_type": "execute_result"
    }
   ],
   "source": [
    "news_df['article'] = news_df['article'].apply(clean_text)\n",
    "news_df['article']"
   ]
  },
  {
   "cell_type": "code",
   "execution_count": 11,
   "id": "121c94b7",
   "metadata": {},
   "outputs": [
    {
     "data": {
      "text/plain": [
       "0        well sure story seem biased disagree statement...\n",
       "1        yeah expect people read actually accept hard a...\n",
       "2        although realize principle strongest points wo...\n",
       "3        notwithstanding legitimate fuss proposal much ...\n",
       "4        well change scoring playoff pool unfortunately...\n",
       "                               ...                        \n",
       "11309    danny rubenstein israeli journalist speaking t...\n",
       "11310                                                     \n",
       "11311    agree home runs clemens always memorable kinda...\n",
       "11312    used deskjet orange micros grappler system upd...\n",
       "11313    argument murphy scared hell came last year han...\n",
       "Name: article, Length: 11096, dtype: object"
      ]
     },
     "execution_count": 11,
     "metadata": {},
     "output_type": "execute_result"
    }
   ],
   "source": [
    "news_df['article'] = news_df['article'].apply(clean_stopword)\n",
    "news_df['article']"
   ]
  },
  {
   "cell_type": "code",
   "execution_count": 12,
   "id": "4e60c4c4",
   "metadata": {},
   "outputs": [],
   "source": [
    "tokenized_news = news_df['article'].apply(tokenize)\n",
    "tokenized_news = tokenized_news.to_list()"
   ]
  },
  {
   "cell_type": "code",
   "execution_count": 13,
   "id": "2c808dd4",
   "metadata": {},
   "outputs": [
    {
     "name": "stdout",
     "output_type": "stream",
     "text": [
      "10939\n"
     ]
    },
    {
     "name": "stderr",
     "output_type": "stream",
     "text": [
      "C:\\Users\\User\\anaconda3\\lib\\site-packages\\numpy\\core\\_asarray.py:102: VisibleDeprecationWarning: Creating an ndarray from ragged nested sequences (which is a list-or-tuple of lists-or-tuples-or ndarrays with different lengths or shapes) is deprecated. If you meant to do this, you must specify 'dtype=object' when creating the ndarray.\n",
      "  return array(a, dtype, copy=False, order=order)\n"
     ]
    }
   ],
   "source": [
    "import numpy as np\n",
    "\n",
    "drop_news = [index for index, sentence in enumerate(tokenized_news) if len(sentence) <= 1]\n",
    "news_texts = np.delete(tokenized_news, drop_news, axis= 0)\n",
    "print(len(news_texts))"
   ]
  },
  {
   "cell_type": "code",
   "execution_count": 14,
   "id": "6c1ce3d5",
   "metadata": {},
   "outputs": [],
   "source": [
    "from tensorflow.keras.preprocessing.text import Tokenizer\n",
    "\n",
    "news_2000 = news_texts[:2000]\n",
    "\n",
    "tokenizer = Tokenizer()\n",
    "tokenizer.fit_on_texts(news_2000)\n",
    "\n",
    "idx2word = {value:key for key, value in tokenizer.word_index.items()}\n",
    "sequences = tokenizer.texts_to_sequences(news_2000)"
   ]
  },
  {
   "cell_type": "code",
   "execution_count": 15,
   "id": "3fc3b068",
   "metadata": {},
   "outputs": [
    {
     "name": "stdout",
     "output_type": "stream",
     "text": [
      "29706\n"
     ]
    }
   ],
   "source": [
    "vocab_size = len(tokenizer.word_index) + 1\n",
    "print(vocab_size)"
   ]
  },
  {
   "cell_type": "code",
   "execution_count": 16,
   "id": "6a314a05",
   "metadata": {},
   "outputs": [
    {
     "name": "stdout",
     "output_type": "stream",
     "text": [
      "[1232, 443, 2, 56, 113, 405, 57, 1342, 20, 65, 3454, 384, 6822, 1142, 360, 2217, 444, 55, 12419, 444, 1862, 3804, 384, 20, 9, 4279, 8694, 171, 291, 130, 148, 648, 12420, 304, 12421, 14, 12422, 4, 770, 12423, 12424, 4870, 8695]\n"
     ]
    }
   ],
   "source": [
    "print(sequences[1])"
   ]
  },
  {
   "cell_type": "markdown",
   "id": "57b6940e",
   "metadata": {},
   "source": [
    "### Skipgram"
   ]
  },
  {
   "cell_type": "markdown",
   "id": "5b450aa3",
   "metadata": {},
   "source": [
    "#### Skipgram 전처리"
   ]
  },
  {
   "cell_type": "markdown",
   "id": "29d61ccc",
   "metadata": {},
   "source": [
    "* 네거티브 샘플링(Negative Sampling)\n",
    "\n",
    "  + Word2Vec은 출력층이 내놓는 값에 소프트맥스 함수를 적용해 확률값으로 변환한 후 이를 정답과 비교해 역전파(backpropagation)\n",
    "  + 소프트맥스를 적용하려면 분모에 해당하는 값, 즉 중심단어와 나머지 모든 단어의 내적을 한 뒤, 이를 다시 exp 계산을 하는데 전체 단어가 많을 경우 엄청난 계산량 발생\n",
    "  + 네거티브 샘플링은 소프트맥스 확률을 구할 때 전체 단어를 대상으로 구하지 않고, 일부 단어만 뽑아서 계산을 하는 방식\n",
    "  + 네거티브 샘플링 동작은 사용자가 지정한 윈도우 사이즈 내에 등장하지 않는 단어(negative sample)를 5~20개 정도 뽑고, 이를 정답단어와 합쳐 전체 단어처럼 소프트맥스 확률을 계산하여 파라미터 업데이트"
   ]
  },
  {
   "cell_type": "code",
   "execution_count": 17,
   "id": "9f5bd902",
   "metadata": {},
   "outputs": [],
   "source": [
    "from tensorflow.keras.preprocessing.sequence import skipgrams\n",
    "\n",
    "skip_grams = [skipgrams(sample, vocabulary_size = vocab_size, window_size = 10) for sample in sequences[:10]]"
   ]
  },
  {
   "cell_type": "code",
   "execution_count": 19,
   "id": "1008e072",
   "metadata": {},
   "outputs": [
    {
     "name": "stdout",
     "output_type": "stream",
     "text": [
      "report(611), degree(1397) -> 1\n",
      "rediculous(12416), world(120) -> 1\n",
      "guilt(6821), received(374) -> 1\n",
      "existance(2704), report(611) -> 1\n",
      "israels(3452), clearly(564) -> 1\n"
     ]
    }
   ],
   "source": [
    "pairs, labels = skip_grams[0][0], skip_grams[0][1]\n",
    "for i in range(5):\n",
    "    print(\"{:s}({:d}), {:s}({:d}) -> {:d}\".format(\n",
    "    idx2word[pairs[i][0]], pairs[i][0],\n",
    "    idx2word[pairs[i][1]], pairs[i][1],\n",
    "    labels[i]))"
   ]
  },
  {
   "cell_type": "code",
   "execution_count": 20,
   "id": "b1c10b4a",
   "metadata": {},
   "outputs": [
    {
     "name": "stdout",
     "output_type": "stream",
     "text": [
      "10\n",
      "2220\n",
      "2220\n"
     ]
    }
   ],
   "source": [
    "print(len(skip_grams))\n",
    "print(len(pairs))\n",
    "print(len(labels))"
   ]
  },
  {
   "cell_type": "code",
   "execution_count": 23,
   "id": "f70a10c9",
   "metadata": {},
   "outputs": [],
   "source": [
    "skip_grams = [skipgrams(seq, vocabulary_size = vocab_size, window_size = 10) for seq in sequences]"
   ]
  },
  {
   "cell_type": "markdown",
   "id": "5dcd0fff",
   "metadata": {},
   "source": [
    "#### Skipgram 모델 구성"
   ]
  },
  {
   "cell_type": "code",
   "execution_count": 24,
   "id": "2e8367e3",
   "metadata": {},
   "outputs": [],
   "source": [
    "from tensorflow.keras.models import Sequential, Model\n",
    "from tensorflow.keras.layers import Embedding, Reshape, Activation, Input, Dot\n",
    "from tensorflow.keras.utils import plot_model"
   ]
  },
  {
   "cell_type": "code",
   "execution_count": 25,
   "id": "9976a971",
   "metadata": {},
   "outputs": [],
   "source": [
    "embed_size = 50"
   ]
  },
  {
   "cell_type": "code",
   "execution_count": 26,
   "id": "9cbe9648",
   "metadata": {},
   "outputs": [],
   "source": [
    "def word2vec():\n",
    "    target_inputs = Input(shape = (1, ), dtype = 'int32')\n",
    "    target_embedding = Embedding(vocab_size, embed_size)(target_inputs)\n",
    "    \n",
    "    context_inputs = Input(shape = (1, ), dtype = 'int32')\n",
    "    context_embedding = Embedding(vocab_size, embed_size)(context_inputs)\n",
    "    \n",
    "    dot_product = Dot(axes = 2)([target_embedding, context_embedding])\n",
    "    dot_product = Reshape((1, ), input_shape = (1, 1))(dot_product)\n",
    "    \n",
    "    output = Activation('sigmoid')(dot_product)\n",
    "    \n",
    "    model = Model(inputs = [target_inputs, context_inputs], outputs = output)\n",
    "    model.compile(loss = 'binary_crossentropy', optimizer = 'adam')\n",
    "    \n",
    "    return model"
   ]
  },
  {
   "cell_type": "code",
   "execution_count": 27,
   "id": "743f851b",
   "metadata": {},
   "outputs": [
    {
     "name": "stdout",
     "output_type": "stream",
     "text": [
      "Model: \"model\"\n",
      "__________________________________________________________________________________________________\n",
      " Layer (type)                   Output Shape         Param #     Connected to                     \n",
      "==================================================================================================\n",
      " input_1 (InputLayer)           [(None, 1)]          0           []                               \n",
      "                                                                                                  \n",
      " input_2 (InputLayer)           [(None, 1)]          0           []                               \n",
      "                                                                                                  \n",
      " embedding (Embedding)          (None, 1, 50)        1485300     ['input_1[0][0]']                \n",
      "                                                                                                  \n",
      " embedding_1 (Embedding)        (None, 1, 50)        1485300     ['input_2[0][0]']                \n",
      "                                                                                                  \n",
      " dot (Dot)                      (None, 1, 1)         0           ['embedding[0][0]',              \n",
      "                                                                  'embedding_1[0][0]']            \n",
      "                                                                                                  \n",
      " reshape (Reshape)              (None, 1)            0           ['dot[0][0]']                    \n",
      "                                                                                                  \n",
      " activation (Activation)        (None, 1)            0           ['reshape[0][0]']                \n",
      "                                                                                                  \n",
      "==================================================================================================\n",
      "Total params: 2,970,600\n",
      "Trainable params: 2,970,600\n",
      "Non-trainable params: 0\n",
      "__________________________________________________________________________________________________\n"
     ]
    },
    {
     "data": {
      "image/png": "[encoded data removed]",
      "text/plain": [
       "<IPython.core.display.Image object>"
      ]
     },
     "execution_count": 27,
     "metadata": {},
     "output_type": "execute_result"
    }
   ],
   "source": [
    "model = word2vec()\n",
    "model.summary()\n",
    "\n",
    "plot_model(model, show_shapes = True, show_layer_names = True)"
   ]
  },
  {
   "cell_type": "code",
   "execution_count": 30,
   "id": "e9d9a72a",
   "metadata": {},
   "outputs": [
    {
     "name": "stdout",
     "output_type": "stream",
     "text": [
      "Epoch : 1 Loss :  811.4669769480824\n",
      "Epoch : 2 Loss :  773.7185002863407\n",
      "Epoch : 3 Loss :  750.709062345326\n",
      "Epoch : 4 Loss :  731.0355218723416\n",
      "Epoch : 5 Loss :  709.7694019973278\n",
      "Epoch : 6 Loss :  684.1306872814894\n",
      "Epoch : 7 Loss :  653.4292636029422\n",
      "Epoch : 8 Loss :  617.8150816485286\n",
      "Epoch : 9 Loss :  579.2076210267842\n",
      "Epoch : 10 Loss :  539.41495630797\n"
     ]
    }
   ],
   "source": [
    "for epoch in range(1, 11):\n",
    "    loss = 0\n",
    "    for _, elem in enumerate(skip_grams):\n",
    "        first_elem = np.array(list(zip(*elem[0]))[0], dtype = 'int32')\n",
    "        second_elem = np.array(list(zip(*elem[0]))[1], dtype = 'int32')\n",
    "        labels = np.array(elem[1], dtype = 'int32')\n",
    "        \n",
    "        X = [first_elem, second_elem]\n",
    "        Y = labels\n",
    "        loss += model.train_on_batch(X, Y)\n",
    "        \n",
    "    print('Epoch :', epoch, \"Loss : \", loss)"
   ]
  },
  {
   "cell_type": "code",
   "execution_count": 32,
   "id": "2de4c2f0",
   "metadata": {},
   "outputs": [],
   "source": [
    "import gensim\n",
    "\n",
    "f = open('skipgram.txt', 'w')\n",
    "f.write('{} {}\\n'.format(vocab_size-1, embed_size))\n",
    "vectors = model.get_weights()[0]\n",
    "for word, i in tokenizer.word_index.items():\n",
    "    f.write('{} {}\\n'.format(word, ' '.join(map(str, list(vectors[i, :])))))\n",
    "f.close()\n",
    "\n",
    "skipgram = gensim.models.KeyedVectors.load_word2vec_format('skipgram.txt', binary = False)"
   ]
  },
  {
   "cell_type": "code",
   "execution_count": 34,
   "id": "6c38402d",
   "metadata": {},
   "outputs": [
    {
     "data": {
      "text/plain": [
       "[('israeli', 0.7680589556694031),\n",
       " ('antitank', 0.7186837792396545),\n",
       " ('harbour', 0.7152042388916016),\n",
       " ('mujahid', 0.7087348699569702),\n",
       " ('anas', 0.7047474384307861),\n",
       " ('villages', 0.7023931741714478),\n",
       " ('leat', 0.6978276968002319),\n",
       " ('missile', 0.6824685335159302),\n",
       " ('terrorist', 0.6796078681945801),\n",
       " ('hamza', 0.678581714630127)]"
      ]
     },
     "execution_count": 34,
     "metadata": {},
     "output_type": "execute_result"
    }
   ],
   "source": [
    "skipgram.most_similar(positive = ['soldiers'])"
   ]
  },
  {
   "cell_type": "code",
   "execution_count": 35,
   "id": "218aec6d",
   "metadata": {},
   "outputs": [
    {
     "data": {
      "text/plain": [
       "[('helpless', 0.6484566926956177),\n",
       " ('dryden', 0.5852359533309937),\n",
       " ('adultery', 0.5605142116546631),\n",
       " ('vietnam', 0.5543088316917419),\n",
       " ('paraphrasing', 0.5493255853652954),\n",
       " ('shrinking', 0.543603777885437),\n",
       " ('shotguns', 0.5398781299591064),\n",
       " ('imposition', 0.5327735543251038),\n",
       " ('sandgravel', 0.5314401984214783),\n",
       " ('proposal', 0.5309888124465942)]"
      ]
     },
     "execution_count": 35,
     "metadata": {},
     "output_type": "execute_result"
    }
   ],
   "source": [
    "skipgram.most_similar(positive = ['world'])"
   ]
  },
  {
   "cell_type": "markdown",
   "id": "2d960878",
   "metadata": {},
   "source": [
    "### CBOW\n"
   ]
  },
  {
   "cell_type": "markdown",
   "id": "2e5a312c",
   "metadata": {},
   "source": [
    "#### CBOW 전처리"
   ]
  },
  {
   "cell_type": "code",
   "execution_count": 38,
   "id": "8abb6dba",
   "metadata": {},
   "outputs": [],
   "source": [
    "def skipgram2cbow(skipgrams):\n",
    "    cbows = []\n",
    "    flag = 0\n",
    "    for n in skip_grams:\n",
    "        temp1 = []\n",
    "        for t in n:\n",
    "            if flag == 1:\n",
    "                flag = 0\n",
    "                temp1.append(t)\n",
    "            else:\n",
    "                flag = 1\n",
    "                temp2 = []\n",
    "                for x in t:\n",
    "                    temp2.append([x[1], x[0]])\n",
    "                temp1.append(temp2)\n",
    "        cbows.append(temp1)\n",
    "        \n",
    "    return cbows"
   ]
  },
  {
   "cell_type": "code",
   "execution_count": 39,
   "id": "e7f27e42",
   "metadata": {},
   "outputs": [],
   "source": [
    "cbows = skipgram2cbow(skip_grams)"
   ]
  },
  {
   "cell_type": "code",
   "execution_count": 40,
   "id": "ac990a4f",
   "metadata": {},
   "outputs": [
    {
     "name": "stdout",
     "output_type": "stream",
     "text": [
      "described(1231), media(483) -> 1\n",
      "israels(3452), incidences(8690) -> 1\n",
      "israels(3452), might(37) -> 1\n",
      "approxmiately(20698), inhuman(8692) -> 0\n",
      "sigmaerich(12675), blessing(12418) -> 0\n"
     ]
    }
   ],
   "source": [
    "pairs, labels = cbows[0][0], cbows[0][1]\n",
    "for i in range(5):\n",
    "    print(\"{:s}({:d}), {:s}({:d}) -> {:d}\".format(\n",
    "    idx2word[pairs[i][0]], pairs[i][0],\n",
    "    idx2word[pairs[i][1]], pairs[i][1],\n",
    "    labels[i]))"
   ]
  },
  {
   "cell_type": "code",
   "execution_count": 41,
   "id": "8a14806c",
   "metadata": {},
   "outputs": [
    {
     "name": "stdout",
     "output_type": "stream",
     "text": [
      "2000\n",
      "2220\n",
      "2220\n"
     ]
    }
   ],
   "source": [
    "print(len(cbows))\n",
    "print(len(pairs))\n",
    "print(len(labels))"
   ]
  },
  {
   "cell_type": "markdown",
   "id": "ffc9b2c4",
   "metadata": {},
   "source": [
    "#### CBOW 모델 구성"
   ]
  },
  {
   "cell_type": "code",
   "execution_count": 42,
   "id": "c7cc52f3",
   "metadata": {},
   "outputs": [
    {
     "name": "stdout",
     "output_type": "stream",
     "text": [
      "Model: \"model_1\"\n",
      "__________________________________________________________________________________________________\n",
      " Layer (type)                   Output Shape         Param #     Connected to                     \n",
      "==================================================================================================\n",
      " input_3 (InputLayer)           [(None, 1)]          0           []                               \n",
      "                                                                                                  \n",
      " input_4 (InputLayer)           [(None, 1)]          0           []                               \n",
      "                                                                                                  \n",
      " embedding_2 (Embedding)        (None, 1, 50)        1485300     ['input_3[0][0]']                \n",
      "                                                                                                  \n",
      " embedding_3 (Embedding)        (None, 1, 50)        1485300     ['input_4[0][0]']                \n",
      "                                                                                                  \n",
      " dot_1 (Dot)                    (None, 1, 1)         0           ['embedding_2[0][0]',            \n",
      "                                                                  'embedding_3[0][0]']            \n",
      "                                                                                                  \n",
      " reshape_1 (Reshape)            (None, 1)            0           ['dot_1[0][0]']                  \n",
      "                                                                                                  \n",
      " activation_1 (Activation)      (None, 1)            0           ['reshape_1[0][0]']              \n",
      "                                                                                                  \n",
      "==================================================================================================\n",
      "Total params: 2,970,600\n",
      "Trainable params: 2,970,600\n",
      "Non-trainable params: 0\n",
      "__________________________________________________________________________________________________\n"
     ]
    },
    {
     "data": {
      "image/png": "[encoded data removed]",
      "text/plain": [
       "<IPython.core.display.Image object>"
      ]
     },
     "execution_count": 42,
     "metadata": {},
     "output_type": "execute_result"
    }
   ],
   "source": [
    "model = word2vec()\n",
    "model.summary()\n",
    "\n",
    "plot_model(model, show_shapes = True, show_layer_names = True)"
   ]
  },
  {
   "cell_type": "code",
   "execution_count": null,
   "id": "4c27f95b",
   "metadata": {},
   "outputs": [],
   "source": [
    "for epoch in range(1, 11):\n",
    "    loss = 0\n",
    "    for _, elem in enumerate(skip_grams):\n",
    "        first_elem = np.array(list(zip(*elem[0]))[0], dtype = 'int32')\n",
    "        second_elem = np.array(list(zip(*elem[0]))[1], dtype = 'int32')\n",
    "        labels = np.array(elem[1], dtype = 'int32')\n",
    "        \n",
    "        X = [first_elem, second_elem]\n",
    "        Y = labels\n",
    "        loss += model.train_on_batch(X, Y)\n",
    "        \n",
    "    print('Epoch :', epoch, \"Loss : \", loss)"
   ]
  },
  {
   "cell_type": "code",
   "execution_count": null,
   "id": "444adaf0",
   "metadata": {},
   "outputs": [],
   "source": []
  },
  {
   "cell_type": "code",
   "execution_count": null,
   "id": "2f8fc117",
   "metadata": {},
   "outputs": [],
   "source": []
  },
  {
   "cell_type": "code",
   "execution_count": null,
   "id": "3fd6bff3",
   "metadata": {},
   "outputs": [],
   "source": []
  }
 ],
 "metadata": {
  "kernelspec": {
   "display_name": "Python 3 (ipykernel)",
   "language": "python",
   "name": "python3"
  },
  "language_info": {
   "codemirror_mode": {
    "name": "ipython",
    "version": 3
   },
   "file_extension": ".py",
   "mimetype": "text/x-python",
   "name": "python",
   "nbconvert_exporter": "python",
   "pygments_lexer": "ipython3",
   "version": "3.9.7"
  },
  "toc": {
   "base_numbering": 1,
   "nav_menu": {},
   "number_sections": true,
   "sideBar": true,
   "skip_h1_title": false,
   "title_cell": "Table of Contents",
   "title_sidebar": "Contents",
   "toc_cell": false,
   "toc_position": {},
   "toc_section_display": true,
   "toc_window_display": false
  },
  "varInspector": {
   "cols": {
    "lenName": 16,
    "lenType": 16,
    "lenVar": 40
   },
   "kernels_config": {
    "python": {
     "delete_cmd_postfix": "",
     "delete_cmd_prefix": "del ",
     "library": "var_list.py",
     "varRefreshCmd": "print(var_dic_list())"
    },
    "r": {
     "delete_cmd_postfix": ") ",
     "delete_cmd_prefix": "rm(",
     "library": "var_list.r",
     "varRefreshCmd": "cat(var_dic_list()) "
    }
   },
   "types_to_exclude": [
    "module",
    "function",
    "builtin_function_or_method",
    "instance",
    "_Feature"
   ],
   "window_display": false
  }
 },
 "nbformat": 4,
 "nbformat_minor": 5
}
