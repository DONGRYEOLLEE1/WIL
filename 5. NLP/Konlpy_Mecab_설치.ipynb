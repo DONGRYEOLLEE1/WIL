{
 "cells": [
  {
   "cell_type": "markdown",
   "id": "3a3d479a",
   "metadata": {},
   "source": [
    "# Konlpy 설치\n",
    "\n",
    "\n",
    "- 설치 순서\n",
    "    1. Java 설치 \n",
    "    2. `JAVA_HOME` 환경변수 경로설정 (시스템변수)\n",
    "        - Java 설치된 경로 설정\n",
    "        - 확인 코드 : `java -version` , `javac -version`\n",
    "    3. JPype 설치\n",
    "        - `pip install -upgrade pip` 후, 설치\n",
    "    4. Konlpy 설치<br></br>\n",
    "    \n",
    "\n",
    "- Konlpy 모듈 Import 오류\n",
    "\n",
    "> module 'tweepy' has no attribute 'StreamListener'\n",
    "- `tweepy` 패키지 버젼 충돌 오류로, `pip install tweepy==3.10.0` 실행 후, 다시 konlpy 코드 돌리기\n",
    "\n",
    "> ImportError: DLL load failed while importing _jpype: DLL 초기화 루틴을 실행할 수 없습니다.\n",
    "\n",
    "- `Jpype` 패키지 삭제 후, Prompt에서 `pip install JPype1-py3` 코드 실행\n",
    "\n",
    "> TypeError: startJVM() got an unexpected keyword argument 'convertStrings' \n",
    "\n",
    "- 이후, 해당 오류시 경로에 나타난 `jvm.py` 파일에 들어가, 64번째 줄에 있는 `convertStrings = True` 코드 삭제\n",
    "\n",
    "> from konlpy.tag import Kkma, Hannanum, Komoran, Mecab, Okt \n",
    "\n",
    "- 모듈 IMPORT 확인 코드 실행<br></br>\n",
    "\n",
    "* Source : https://youngwonhan-family.tistory.com/66, https://doitgrow.com/27"
   ]
  },
  {
   "cell_type": "markdown",
   "id": "25572f46",
   "metadata": {},
   "source": [
    "# Mecab 설치\n",
    "* Source : https://cleancode-ws.tistory.com/97\n",
    "\n",
    "- 현재 `python wheel` 설치시, 버젼 제한이 존재함 ( 2.7 <= ver <= 3.8 )"
   ]
  },
  {
   "cell_type": "code",
   "execution_count": 1,
   "id": "9346073a",
   "metadata": {},
   "outputs": [
    {
     "data": {
      "text/plain": [
       "'3.9.7 (default, Sep 16 2021, 16:59:28) [MSC v.1916 64 bit (AMD64)]'"
      ]
     },
     "execution_count": 1,
     "metadata": {},
     "output_type": "execute_result"
    }
   ],
   "source": [
    "# JPype 설치시  파이썬버젼, bit확인\n",
    "import sys\n",
    "sys.version"
   ]
  },
  {
   "cell_type": "code",
   "execution_count": 1,
   "id": "6315dcdf",
   "metadata": {},
   "outputs": [
    {
     "name": "stdout",
     "output_type": "stream",
     "text": [
      "['에이', '비식스', '이대', '휘', '1월', '최애', '돌', '기부', '요정']\n"
     ]
    }
   ],
   "source": [
    "from konlpy.tag import Kkma, Hannanum, Komoran, Mecab, Okt\n",
    "from konlpy.utils import pprint\n",
    "\n",
    "tokenizer = Okt()\n",
    "print(tokenizer.morphs('에이비식스 이대휘 1월 최애돌 기부 요정'))"
   ]
  },
  {
   "cell_type": "code",
   "execution_count": 3,
   "id": "4054c809",
   "metadata": {},
   "outputs": [
    {
     "name": "stdout",
     "output_type": "stream",
     "text": [
      "['설치', '중', '오류', '발생', ',', '실행', '이', '잘', '되', '기', '를', '바라', 'ㄴ다', '.']\n"
     ]
    }
   ],
   "source": [
    "from konlpy.tag import Kkma\n",
    "\n",
    "kkma = Kkma()\n",
    "\n",
    "print(kkma.morphs('설치 중 오류 발생, 실행이 잘 되길 바란다.'))"
   ]
  },
  {
   "cell_type": "code",
   "execution_count": 2,
   "id": "d74ee6c5",
   "metadata": {},
   "outputs": [
    {
     "data": {
      "text/plain": [
       "['아버지', '가', '방', '에', '들어가', '신다']"
      ]
     },
     "execution_count": 2,
     "metadata": {},
     "output_type": "execute_result"
    }
   ],
   "source": [
    "from konlpy.tag import Mecab\n",
    "\n",
    "mecab = Mecab(dicpath = r\"C:/mecab/mecab-ko-dic\")\n",
    "\n",
    "mecab.morphs(\"아버지가방에들어가신다\")"
   ]
  },
  {
   "cell_type": "code",
   "execution_count": null,
   "id": "e85bd1f5",
   "metadata": {},
   "outputs": [],
   "source": []
  }
 ],
 "metadata": {
  "kernelspec": {
   "display_name": "Python 3 (ipykernel)",
   "language": "python",
   "name": "python3"
  },
  "language_info": {
   "codemirror_mode": {
    "name": "ipython",
    "version": 3
   },
   "file_extension": ".py",
   "mimetype": "text/x-python",
   "name": "python",
   "nbconvert_exporter": "python",
   "pygments_lexer": "ipython3",
   "version": "3.9.7"
  },
  "toc": {
   "base_numbering": 1,
   "nav_menu": {},
   "number_sections": true,
   "sideBar": true,
   "skip_h1_title": false,
   "title_cell": "Table of Contents",
   "title_sidebar": "Contents",
   "toc_cell": false,
   "toc_position": {},
   "toc_section_display": true,
   "toc_window_display": false
  },
  "varInspector": {
   "cols": {
    "lenName": 16,
    "lenType": 16,
    "lenVar": 40
   },
   "kernels_config": {
    "python": {
     "delete_cmd_postfix": "",
     "delete_cmd_prefix": "del ",
     "library": "var_list.py",
     "varRefreshCmd": "print(var_dic_list())"
    },
    "r": {
     "delete_cmd_postfix": ") ",
     "delete_cmd_prefix": "rm(",
     "library": "var_list.r",
     "varRefreshCmd": "cat(var_dic_list()) "
    }
   },
   "types_to_exclude": [
    "module",
    "function",
    "builtin_function_or_method",
    "instance",
    "_Feature"
   ],
   "window_display": false
  }
 },
 "nbformat": 4,
 "nbformat_minor": 5
}
