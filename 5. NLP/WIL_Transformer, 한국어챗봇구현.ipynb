{
 "cells": [
  {
   "cell_type": "markdown",
   "id": "1aa63625",
   "metadata": {},
   "source": [
    "# 트랜스포머(Transformer)\n",
    "- Soruce : https://wikidocs.net/31379\n",
    "- 트랜스포머는 2017년 구글이 발표한 논문인 'Attention is all you need'에서 나온 모델로 기존의 seq2seq의 구조인 인코더-디코더를 따르면서도, 논문의 이름처럼 어텐션Attention만으로 구현한 모델이다. 이 모델은 RNN을 사용하지 않고, 인코더-디코더 구조를 설계하였음에도 성능도 RNN보다 우수하다는 특징을 가지고있다.\n",
    "- Paper Source : https://arxiv.org/abs/1706.03762 (Attetnion Is All You Need, \tarXiv:1706.03762 )"
   ]
  },
  {
   "cell_type": "markdown",
   "id": "f85309be",
   "metadata": {},
   "source": [
    "## 기존의 seq2seq 모델의 한계\n",
    "- 기존의 seq2seq 모델은 인-디코더 구조로 구성되어있다. 여기서 인코더는 입력시퀀스를 하나의 벡터표현으로 압축하고, 디코더는 이 벡터표현을 통해서 출력시퀀스를 만들어냈다.\n",
    "- 하지만, 이런 구조는 인코더가 입력시퀀스를 하나의 벡터로 압축하는 과정에서 입력시퀀스의 정보가 일부 손실된다는 단점이 있었고, 이를 보정하기 위해 어텐션이 사용되었다. 그런데 어텐션을 RNN의 보정을 위한 용도가 아니라 아예 어텐션으로 인코더와 디코더를 만들어보면 어떨까?"
   ]
  },
  {
   "cell_type": "markdown",
   "id": "00c302de",
   "metadata": {},
   "source": [
    "## 트랜스포머의 주요 하이퍼파라미터\n",
    "- $d_{model} = 512 $\n",
    "    - 트랜스포머와 인코더와 디코더에서의 정해진 입력과 출력의 크기를 의미한다.\n",
    "    - 임베딩벡터의 차원 또한 dmodel 이며, 각 인코더와 디코더가 다음 층의 인코더와 디코더로 값을 보낼때에도 이 차원을 유지한다. 논문에서는 512값으로 지정해줬다.\n",
    "- num_layers = 6\n",
    "    - 하나의 인코더와 디코더를 층으로 생각했을때, 트랜스포머모델에서 인코더와 디코더가 총 몇 층으로 구성되었는지를 의미한다.\n",
    "    - 논문에서는 인-디코더를 각각 총 6개씩 쌓았다.\n",
    "- num_heads = 8\n",
    "    - 트랜스포머에서는 어텐션을 사용할때, 1번 하는 것보다 여러개로 분할해서 병렬로 어텐션을 수행하고 결과값을 다시 하나로 합치는 방식을 택했다. 이때 이 병렬의 개수를 의미한다.\n",
    "- <div style=\"text-align: left\">  $d_{ff} = 2048$ </div>\n",
    "    - 트랜스포머 내부에는 피드포워드신경망(Feed Forward Neural Network)이 존재하며 해당 신경망의 은닉층의 크기를 의미한다.\n",
    "    - 피드포워드신경망의 입력층과 출력층의 크기는 $d_{model}$이다."
   ]
  },
  {
   "cell_type": "markdown",
   "id": "9c73ef37",
   "metadata": {},
   "source": [
    "## 트랜스포머Transformer\n",
    "<img src = \"https://wikidocs.net/images/page/31379/transformer1.PNG\"><br></br>\n",
    "- 트랜스포머는 RNN을 사용하지 않지만 기존의 seq2seq처럼 인코더에서 입력시퀀스를 입력받고, 디코더에서 출력시퀀스를 출력하는 인-디코더 구조를 유지하고있다.\n",
    "- 다만 다른점은 인코더와 디코더라는 단위가 N개가 존재할 수 있다는 점이다.<br>\n",
    "- seq2seq 구조에서는 인코더와 디코더에서 각각 하나의 RNN이 t개의 시점(time-step)을 가지는 구조였다면 이번에는 인코더와 디코더라는 단위가 N개로 구성되는 구조이다.\n",
    "\n",
    "<img src = 'https://wikidocs.net/images/page/31379/transformer2.PNG'>\n",
    "<br><br>\n",
    "</br>\n",
    "\n",
    "<img src = 'https://wikidocs.net/images/page/31379/transformer4_final_final_final.PNG'>\n",
    "<br>\n",
    "</br>\n",
    "- 위 그림은 인코더로부터 정보를 전달받아 디코더가 출력결과를 만들어내는 트랜스포머 구조를 보여준다. 디코더는 마치 기존의 seq2seq 구조처럼 시작 심볼  \"SOS\"를 입력으로 받아 종료 심볼 \"EOS\"가 나올때까지 연산을 진행한다. 이는 RNN은 사용되지 않지만 여전히 인코더-디코더의 구조는 유지되고 있음을 보여준다.\n",
    "<br>\n",
    "- 트랜스포머의 인코더와 디코더는 단순히 각 단어의 임베딩벡터들을 입력받는 것이 아니라 임베딩벡터에서 조정된 값을 입력받는데 이에 대해서 알아보기 위해 입력을 부분을 확대해보자."
   ]
  },
  {
   "cell_type": "markdown",
   "id": "bc485af1",
   "metadata": {},
   "source": [
    "## 포지셔널 인코딩 Positional Encoding\n",
    "- 트랜스포머의 내부를 이해하기전에 **트랜스포머의 입력**에 대해 알아보자.\n",
    "- RNN이 자연어처리에서 유용했던 이유는 단어위 위치에 따라 단어를 순차적으로 입력받아서 처리하는 RNN의 특성으로 인해 각 단어의 위치정보position information을 가질 수 있다는 점에 있었다.\n",
    "- 하지만, 트랜스포머는 단어 입력을 순차적으로 받는 방식이 아니므로 단어의 위치정보를 다른 방식으로 알려줄 필요가 있다.\n",
    "- 트랜스포머는 단어의 위치정보를 얻기 위해서 각 단어의 임베딩벡터에 위치정보들을 더하여 모델의 입력으로 사용하는데, 이를 ***포지셔널 인코딩Positional Encoding***이라고 한다.\n",
    "\n",
    "![pe](https://wikidocs.net/images/page/31379/transformer5_final_final.PNG)\n",
    "- 위의 그림은 입력으로 사용되는 임베딩 벡터들이 트랜스포머의 입력으로 사용되기 전에 포시셔널 인코딩값이 더해지는것을 보여준다.\n",
    "- 임베딩벡터가 인코더의 입력으로 사용되기 전에, 포지셔널 인코딩값이 더해지는 과정을 시각화하면 아래와 같다.\n",
    "![viz](https://wikidocs.net/images/page/31379/transformer6_final.PNG)\n",
    "\n",
    "- 트랜스포머의 위치정보를 가진 값을 만들기 위해서는 아래의 두개의 함수를 사용한다.\n",
    "$$ PE_{(pos,\\ 2i)}=sin(pos/10000^{2i/d_{model}}) $$\n",
    "$$ PE_{(pos,\\ 2i+1)}=cos(pos/10000^{2i/d_{model}}) $$\n",
    "    - 사인함수와 코사인 함수의 값을 임베딩벡터에 더해줌으로써 단어의 순서정보를 더하여 준다.\n",
    "- 그런데 위의 두 함수에는 $pos, i, d_{model} $ 등의 생소한 변수들이 있는데, 이를 이해하기 위해선 위에서 본 임베딩벡터와 포지셔널인코딩의 덧셈은 사실 임베딩벡터가 모여 만들어진 문장벡터행렬과 포지셔널인코딩행렬의 덧셈연산을 통해 이루어진다는 점을 이해해야한다.\n",
    "\n",
    "![ㅇㅇ](https://wikidocs.net/images/page/31379/transformer7.PNG)\n",
    "- $pos$는 입력문장에서의 임베딩벡터의 위치를 나타낸다.\n",
    "- $i$는 임베딩벡터내의 차원의 인덱스를 의미한다. \n",
    "- 위 식에 따르면 임베딩벡터 내의 각 차원의 인덱스가 짝수인 경우에는 사인함수의 값을 사용하고 홀수인 경우에는 코사인함수의 값을 사용한다.\n",
    "    - 위 수식에서 $(pos, 2i)$일 때는 사인함수를 사용하고, $(pos, 2i+1)$일 때는 코사인함수를 사용하고있다.\n",
    "- $d_{model}$은 트랜스포머의 모든 층의 출력차원을 의미하는 트랜스포머의 하이퍼파라미터이다. 이는 앞으로 매우 자주 등장할 예정.\n",
    "- 임베딩벡터 또한 $d_{model}$의 차원을 가지는데 위의 그림에서는 마치 4로 표현되어있찌만 실제 논문에서는 512의 값을 가진다.\n",
    "\n",
    "- 위와 같은 포지셔널인코딩 방법을 사용하면 순서정보가 보존되는데, 예를들어 각 임베딩벡터에 포지셔널 인코딩값을 더하면 같은 단어라고 하더라도 문장내의 위치에 따라서 트랜스포머의 입력으로 들어가는 임베딩벡터의 값이 달라진다. 결국, 트랜스포머의 입력은 순서정보가 고려된 임베딩벡터이다. "
   ]
  },
  {
   "cell_type": "code",
   "execution_count": 1,
   "id": "8d118527",
   "metadata": {},
   "outputs": [],
   "source": [
    "import pandas as pd\n",
    "import numpy as np\n",
    "import matplotlib.pyplot as plt\n",
    "\n",
    "import tensorflow as tf"
   ]
  },
  {
   "cell_type": "code",
   "execution_count": 2,
   "id": "cafbfe9a",
   "metadata": {},
   "outputs": [],
   "source": [
    "class PositionalEncoding(tf.keras.layers.Layer):\n",
    "    def __init__(self, position, d_model):\n",
    "        super(PositionalEncoding, self).__init__()\n",
    "        self.pos_encoding = self.positional_encoding(position, d_model)\n",
    "        \n",
    "    def get_angles(self, position, i, d_model):\n",
    "        angles = 1 / tf.pow(10000, (2 * (i // 2)) / tf.cast(d_model, tf.float32))\n",
    "        return position * angles\n",
    "    \n",
    "    def positional_encoding(self, position, d_model):\n",
    "        angle_rads = self.get_angles(\n",
    "        position = tf.range(position, dtype = tf.float32)[:, tf.newaxis],\n",
    "        i = tf.range(d_model, dtype = tf.float32)[tf.newaxis, :],\n",
    "        d_model = d_model)\n",
    "        \n",
    "        # 배열의 짝수 인덱스(2i)에는 사인함수 적용\n",
    "        sines = tf.math.sin(angle_rads[:, 0::2])\n",
    "        \n",
    "        # 배열의 홀수 인덱스(2i+1)에는 코사인함수 적용\n",
    "        cosines = tf.math.cos(angle_rads[:, 1::2])\n",
    "        \n",
    "        angle_rads = np.zeros(angle_rads.shape)\n",
    "        angle_rads[:, 0::2] = sines\n",
    "        angle_rads[:, 1::2] = cosines\n",
    "        pos_encoding = tf.constant(angle_rads)\n",
    "        pos_encoding = pos_encoding[tf.newaxis, ...]\n",
    "\n",
    "        print(pos_encoding.shape)\n",
    "        return tf.cast(pos_encoding, tf.float32)\n",
    "    \n",
    "    def call(self, inputs):\n",
    "        return inputs + self.pos_encoding[:, :tf.shape(inputs)[1], :]"
   ]
  },
  {
   "cell_type": "markdown",
   "id": "bfae1758",
   "metadata": {},
   "source": [
    "- 50 x 128의 크기를 가지는 포지셔널 인코딩행렬을 시각화하여 어떤 형태를 가지는지 확인해보자. \n",
    "- 이는 입력문장의 단어가 50개이면서, 각 단어가 128차원의 임베딩벡터를 가질 때 사용 할 수 있는 행렬이다."
   ]
  },
  {
   "cell_type": "code",
   "execution_count": 3,
   "id": "d778e78f",
   "metadata": {},
   "outputs": [
    {
     "name": "stdout",
     "output_type": "stream",
     "text": [
      "(1, 50, 128)\n"
     ]
    },
    {
     "data": {
      "image/png": "[encoded data removed]",
      "text/plain": [
       "<Figure size 432x288 with 2 Axes>"
      ]
     },
     "metadata": {
      "needs_background": "light"
     },
     "output_type": "display_data"
    }
   ],
   "source": [
    "# 문장의 길이 50, 임베딩 벡터의 차원 128\n",
    "sample_pos_encoding = PositionalEncoding(50, 128)\n",
    "\n",
    "plt.pcolormesh(sample_pos_encoding.pos_encoding.numpy()[0], cmap='RdBu')\n",
    "plt.xlabel('Depth')\n",
    "plt.xlim((0, 128))\n",
    "plt.ylabel('Position')\n",
    "plt.colorbar()\n",
    "plt.show()"
   ]
  },
  {
   "cell_type": "markdown",
   "id": "ff06049a",
   "metadata": {},
   "source": [
    "## 어텐션Attention\n",
    "- 트랜스포머에 사용되는 Attention에  대해 3가지로 간단히 정리해보자.\n",
    "\n",
    "![ㅇㅇㅇ](https://wikidocs.net/images/page/31379/attention.PNG)\n",
    "\n",
    "- 첫번째 그림인 셀프 어텐션은 인코더에서 이루어지지만, 두번째 그림인 셀프 어텐션과 세번째 그림인 인코더-디코더 어텐션은 디코더에서 이루어진다. \n",
    "- 셀프어텐션은 본질적으로 Query, Key, Value가 동일한 경우를 말한다.\n",
    "- 반면, 세번째 그림인 인코더-디코더 어텐션에서는 Query가 디코더의 벡터인 반면에 Key와 Value가 인코더의 벡터이므로 셀프어텐션이라고 부르지 않는다.\n",
    "    - 여기서 주의할 점은 Query, Key 등이 같다는 것은 벡터의 값이 같다는 것이 아니라 벡터의출처가 같다는 의미이다.\n",
    "- 정리\n",
    "> 인코더의 셀프 어텐션 : Query = Key = Value \\\n",
    "> 디코더의 마스크드 셀프 어텐션 : Query = Key = Value \\\n",
    "> 디코더의 인코더-디코더 어텐션 : Query : 디코어 벡터 / Key = Value : 인코더 벡터\n",
    "\n",
    "![ㄴㄴㄴ](https://wikidocs.net/images/page/31379/transformer_attention_overview.PNG)\n",
    "\n",
    "- 위 그림은 트랜스포머의 아키텍쳐에서 3가지 어텐션이 각각 어디에서 이루어지는지를 보여준다.\n",
    "- 3개의 어텐션에 추가적으로 '멀티헤드'라는 이름이 붙어있다. 이는, 트랜스포머가 어텐션을 병렬적으로 수행하는 방법을 의미한다."
   ]
  },
  {
   "cell_type": "markdown",
   "id": "6beef947",
   "metadata": {},
   "source": [
    "## 인코더Encoder\n",
    "- 구조\n",
    "![인코더구조](https://wikidocs.net/images/page/31379/transformer9_final_ver.PNG)\n",
    "\n",
    "- 트랜스포머는 하이퍼파라미터인 `num_layers` 개수의 인코더 층을 쌓는다.\n",
    "- 논문에선 총 6개의 인코더층을 사용하였다. \n",
    "- 인코더를 하나의 층이라는 개념으로 생각한다면, 하나의 인코더층을 크게 총 2개의 서브층sublayer으로 나뉜다.\n",
    "- 바로 **셀프 어텐션** 과 **피드포워드신경망**이다. \n",
    "- 위 그림에서는 멀티 헤드 셀프 어텐션과 포지션 와이즈 피드 포워드 신경망이라고 적혀있지만, 멀티 헤드 셀프 어텐션은 셀프 어텐션을 병렬적으로 사용하였다는 의미고, 포지션 와이드 피드 포워드 신경망은 일반적인 피드포워드신경망이다."
   ]
  },
  {
   "cell_type": "markdown",
   "id": "68efd8dd",
   "metadata": {},
   "source": [
    "## 인코더의 셀프 어텐션\n",
    "- 트랜스포머에서는 셀프어텐션이라는 어텐션기법이 등장하는데 앞서 배웠던 어텐션함수에 대해 복습하고, 셀프어텐션이 앞서 배웠던 어텐셔과 무엇이 다른지 이해해보자\n"
   ]
  },
  {
   "cell_type": "markdown",
   "id": "39eb7196",
   "metadata": {},
   "source": [
    "### 셀프 어텐션의 의미와 이점\n",
    "- 어텐션 함수는 주어진 쿼리Query에 대해서 모든 키Key와의 유사도를 각각 구한다. 그리고 구해낸 이 유사도를 가중치로 하여 키와 맵핑되어있는 각각의 값Value에 반영해준다. 그리고 유사도가 반영된 값Value을 모두 가중합하여 리턴한다.\n",
    "![ㅇㅇ](https://wikidocs.net/images/page/22893/%EC%BF%BC%EB%A6%AC.PNG)\n",
    "\n",
    "- 셀프 어텐션self-attention\n",
    "    - 그냥 어텐션을 자기 자신에게 수행한다는 의미\n",
    "    - seq2seq에서 어텐션을 사용할 경우의 Q, K, V의 정의를 다시 보자\n",
    "        - Q = Query : t시점의 디코더 셀에서의 은닉상태\n",
    "        - K = Keys : 모든 시점의 인코더 셀의 은닉 상태들\n",
    "        - V = Values : 모든 시점의 인코더 셀의 은닉 상태들\n",
    "    - 그런데 t 시점이라는 것은 계속 변화하면서 반복적으로 쿼리를 수행하므로 결국 전체시점에 대해서 일반화를 할 수도 있다.\n",
    "        - Q = Query : 모든 시점의 디코더 셀에서의 은닉상태\n",
    "        - K = Keys : 모든 시점의 인코더 셀의 은닉 상태들\n",
    "        - V = Values : 모든 시점의 인코더 셀의 은닉 상태들\n",
    "    - 이처럼 기존에는 디코더셀의 은닉상태가 Q이고 인코더셀의 은닉상태가 K라는 점에서 Q와 K가 서로 다른 값을 가지고 있었다.\n",
    "    - 그런데, Self-Attention에서는 Q K V 값이 전부 동일하다. 트랜스포머의 셀프어텐션에서의 Q, K, V는 아래와 같다\n",
    "        - Q = 입력 문장의 모든 단어 벡터들\n",
    "        - K = 입력 문장의 모든 단어 벡터들\n",
    "        - V = 입력 문장의 모든 단어 벡터들\n",
    "    - 효과\n",
    "        ![효과](https://wikidocs.net/images/page/31379/transformer10.png)\n",
    "        - 해석하자면 \" 그 동물은 길을 건너지 않았다. 왜냐하면 그것은 너무 피곤하였기 때문이다. \" 라는 의미가 된다.\n",
    "        - 그런데 그것(it)에 해당하는 것은 길(street)일까?? >> 우리는 피곤한 주체가 동물이라는 것을 아주 쉽게 알지만 기계는 그렇지 않다. 하지만, self-attention은 입력문장내의 단어들끼리 유사도를 구함으로써 그것(it)이 동물(animal)과 연관되었을 확률이 높다는 것을 찾아낼 수 있다.\n",
    "        \n",
    "- Transformer에서의 Self-Attention의 동작 메커니즘을 알아보자."
   ]
  },
  {
   "cell_type": "markdown",
   "id": "3b5e2095",
   "metadata": {},
   "source": [
    "### Q, K, V 벡터 얻기\n",
    "- 사실, 셀프어텐션은 인코더의 초기입력인 $d_{model}$의 차원을 가지는 단어벡터들을 사용해 셀프어텐션을 수행하는것이 아니라 우선 각 단어 벡터들로부터 Q벡터, K벡터, V벡터를 얻는 작업을 거친다.\n",
    "- 이때, Q, K, V벡터들은 초긱 입력인 $d_{model}$의 차원을 가지는 단어벡터들보다 더 작은 차원을 가지는데, 논문에서는 512차원을 가졌던 각 단어 벡터들을 64의 차원을 가지는 Q, K, V벡터로 변환하였다.\n",
    "- 64라는 값은 트랜스포머의 `num_heads`로 인해 결정되는데, 트랜스포머는 $d_{model}$을 `num_heads`로 나눈 값을 각 Q, K, V벡터의 차원으로 결정한다.  ( 논문에서는 num_heads를 8로 설정 )\n",
    "- 다음은 student라는 단어 벡터들 Q, K, V의 벡터로 변환하는 과정이다\n",
    "![qkv](https://wikidocs.net/images/page/31379/transformer11.PNG)\n",
    "\n",
    "- 기존의 벡터로부터 더 작은 벡터는 가중치 행렬을 곱함으로써 완성된다.\n",
    "- 각 가중치 행렬은 $d_{model} × (d_{model}\\text{/num_heads})$의 크기를 가진다. 이 가중치 행렬은 훈련과정에서 학습된다.\n",
    "- 즉, 논문과 같이 $d_{model}$ = 512이고, `num_heads = 8`라면, 각 벡터에 3개의 서로 다른 가중치 행렬을 곱하고 64의 크기를 가지는 Q, K, V벡터를 얻어낸다.\n",
    "- 위 그림은 단어 벡터중 student벡터로부터 Q, K, V벡터를 얻어내는 모습이고, 모든 단어벡터에 위와 같은 과정을 거치면 I, am, a, student는 각각의 Q, K, V 벡터를 얻는다."
   ]
  },
  {
   "cell_type": "markdown",
   "id": "0e610852",
   "metadata": {},
   "source": [
    "### 스케일드 닷-프로덕트 어텐션 Scaled dot-product Attention\n",
    "- Q, K, V벡터를 얻은 후, 지금부터는 기존의 어텐션 메커니즘과 동일하다. 각 Q벡터는 모든 K벡터에 대해서 스코어를 구한 후, 분포를 구한 뒤에 이를 사용하여 모든 V벡터를 가중합하여 어텐션 값 또는 컨텍스트 벡터를 구하게 된다. 그리고 이를 모든 Q벡터에 대해서 반복한다.\n",
    "\n",
    "- 어텐션 함수의 종류는 다양함\n",
    "- 어텐션을 닷-프로덕트 어텐션에서 값을 스케일링하는 것을 추가하였다고 하여 **스케일드 닷-프로덕트 어텐션Scaled dot-product Attention**이라고 한다.\n",
    "![sdpa](https://wikidocs.net/images/page/31379/transformer13.PNG)\n",
    "\n",
    "- 단어 \"I\"에 대한 Q벡터가 모든 K벡터에 대해 스코어를 구하는 것을 보여준다. (위의 128과 32는 임의로 가정한 수치임)\n",
    "- 스코어는 각각 단어 'I'가 단어 'I', 'am', 'a', 'student'와 얼마나 연관되어 있는지를 보여주는 수치다.\n",
    "- 트랜스포머에서는 두 벡터의 내적값을 스케일링하는 값으로 K벡터의 차원을 나타내는 $d_{k}$에 루트를 씌운 $\\sqrt{d_{k}}$ 사용하는 것을 택했다.\n",
    "\n",
    "![sdpa1](https://wikidocs.net/images/page/31379/transformer14_final.PNG)\n",
    "\n",
    "- 이제 스코어에 소프트맥스함수를 사용해 어텐션 분포Attention Distribution을 구하고, 각 V벡터와 가중합하여 어텐션값Attention Value을 구한다.\n",
    "- 단어 'I'에 대한 어텐션값 또는 단어 'I'에 대한 컨텍스트 벡터context vector라고도 부른다.\n",
    "- 'am'에 대한 Q벡터, 'a'에 대한 Q벡터, 'student'에 대한 Q벡터에 대해서도 모두 동일한 과정을 반복해 각각에 대한 어텐션값을 구한다.\n",
    "\n",
    "> **그런데, 굳이 이렇게 각 Q벡터마다 일일히 따로 연산할 필요가 있을까??**"
   ]
  },
  {
   "cell_type": "markdown",
   "id": "a092e1b7",
   "metadata": {},
   "source": [
    "### 행렬 연산으로 일괄 처리하기\n",
    "- 사실 각 단어에 대한 Q, K, V 벡터를 구하고 스케일드 닷-프로덕트 어텐션을 수행하였던 위의 과정들은 벡터 연산이 아니라 행렬 연산을 사용하면 일괄 계산이 가능하다.\n",
    "- 벡터가 아닌 행렬연산으로 이해해보자 >> 각 단어벡터마다 일일히 가중치행렬을 곱하는것이 아니라 문장행렬에 가중치행렬을 곱하여 Q행렬, K행렬, V행렬을 구한다.\n",
    "![dd](https://wikidocs.net/images/page/31379/transformer12.PNG)\n",
    "- Q 행렬을 K 행렬을 전치한 행렬과 곱 >> 각각의 단어의 Q벡터와 K벡터의 내적이 각 행렬의 원소가 되는 행렬이 결과로 나온다.\n",
    "![ㅇㄴ](https://wikidocs.net/images/page/31379/transformer15.PNG)\n",
    "\n",
    "- 다시말해, 위 그림의 결과 행렬의 값에 전체적으로 $\\sqrt{d_{k}}$ 를 나누어주면 이는 각 행과 열이 어텐션스코어값을 가지는 행렬이된다.\n",
    "- 어텐션스코어행렬을 구하기 -> 어텐션분포 -> 이를 사용해 모든 단어에 대한 어텐션 값을 구하기\n",
    "- 이는 간단하게 어텐션스코어행렬에 소프트맥스 함수를 사용하고, V행렬을 곱하는것으로 간단화 가능\n",
    "\n",
    "![ㅇㄴㄴ](https://wikidocs.net/images/page/31379/transformer16.PNG)\n",
    "\n",
    "> $Attention(Q, K, V) = softmax({QK^T\\over{\\sqrt{d_k}}})V$"
   ]
  },
  {
   "cell_type": "markdown",
   "id": "4f2caf33",
   "metadata": {},
   "source": [
    "### 스케일드 닷-프로덕트 어텐션 구하기"
   ]
  },
  {
   "cell_type": "code",
   "execution_count": 4,
   "id": "da73e940",
   "metadata": {},
   "outputs": [],
   "source": [
    "def scaled_dot_product_attention(query, key, value, mask):\n",
    "    \n",
    "    # Q와 K의 곱 = 어텐션 스코어 행렬\n",
    "    matmul_qk = tf.matmul(query, key, transpose_b = True)\n",
    "    \n",
    "    # 스케일링 >> dk의 루트값으로 나눠주기\n",
    "    depth = tf.cast(tf.shape(key)[-1], tf.float32)\n",
    "    logits = matmul_qk / tf.math.sqrt(depth)\n",
    "    \n",
    "    # 마스킹 : 어텐션 스코어행렬의 마스킹 할 위치에 매우 작은 음수값을 넣어준다.\n",
    "    # 매우 작은 값이므로, 소프트맥스함수를 지나면 행렬의 해당 위치의 값은 0이 된다.\n",
    "    if mask is not None:\n",
    "        logits += (mask * -1e9)\n",
    "        \n",
    "    # 소프트맥스 함수는 마지막 차원인 key의 문장 길이 방향으로 수행된다.\n",
    "    # attention_weight = (batch_size, num_heads, query의 문장 길이, key의 문장 길이)\n",
    "    attention_weights = tf.nn.softmax(logits, axis = -1)\n",
    "    \n",
    "    # output = (batch_size, num_heads, query의 문장길이, d_model / num_heads)\n",
    "    output = tf.matmul(attention_weights, value)\n",
    "    \n",
    "    return output, attention_weights"
   ]
  },
  {
   "cell_type": "markdown",
   "id": "a7cd65ec",
   "metadata": {},
   "source": [
    "- 전치한 Q행렬, K행렬을 곱 -> 소프트맥스함수 사용해 '어텐션분포행렬' -> V 행렬과 곱"
   ]
  },
  {
   "cell_type": "code",
   "execution_count": 5,
   "id": "deb8b546",
   "metadata": {},
   "outputs": [],
   "source": [
    "# 임의의 Qeury, Key, Value인 Q, K, V 행렬 생성\n",
    "np.set_printoptions(suppress = True)\n",
    "\n",
    "# (4, 3)\n",
    "temp_k = tf.constant([[10, 0, 0],\n",
    "                     [0, 10, 0],\n",
    "                    [0, 0, 10],\n",
    "                      [0, 0, 10]], dtype = tf.float32)\n",
    "\n",
    "# (4, 2)\n",
    "temp_v = tf.constant([[1, 0],\n",
    "                     [10, 0],\n",
    "                     [100, 5],\n",
    "                     [1000, 6]], dtype = tf.float32)\n",
    "\n",
    "# (1, 3)\n",
    "temp_q = tf.constant([[0, 10, 0]], dtype = tf.float32)"
   ]
  },
  {
   "cell_type": "markdown",
   "id": "1376e8cf",
   "metadata": {},
   "source": [
    "- temp_q (Query)의 값 [0, 10, 0] = temp_k (Key)의 두번째 값 [0, 10, 0]"
   ]
  },
  {
   "cell_type": "code",
   "execution_count": 6,
   "id": "6d54139c",
   "metadata": {},
   "outputs": [
    {
     "name": "stdout",
     "output_type": "stream",
     "text": [
      "tf.Tensor([[0. 1. 0. 0.]], shape=(1, 4), dtype=float32)\n",
      "tf.Tensor([[10.  0.]], shape=(1, 2), dtype=float32)\n"
     ]
    }
   ],
   "source": [
    "temp_out, temp_attn = scaled_dot_product_attention(temp_q, temp_k, temp_v, None)\n",
    "print(temp_attn)\n",
    "print(temp_out)"
   ]
  },
  {
   "cell_type": "markdown",
   "id": "c791c521",
   "metadata": {},
   "source": [
    "### 멀티헤드어텐션Multi-head Attention\n",
    "\n",
    "![dd](https://wikidocs.net/images/page/31379/transformer17.PNG)\n",
    "\n",
    "- 트랜스포머연구진은 한 번의 어텐션을 하는 것보다 여러번의 어텐션을 병렬로 사용하는 것이 더 효과적이라고 판단\n",
    "- 그래서 $d_{model}$의 차원을 `num_heads`개로 나누어 $d_{model} / $ num_heads의 차원을 가지는 Q, K, V에 대해 `num_heads`개의 병렬 어텐션을 수행\n",
    "    - 논문에선 `num_heads`의 값을 8로 지정, 8개의 **병렬 어텐션**이 이루어진다.\n",
    "    - 다시말해, 어텐션이 8개로 병렬로 이루어지게되는데, 이때 각각의 어텐션 값 행렬을 ***어텐션 헤드*** 라고 부른다.\n",
    "    - 이때 가중치 행렬 $W^{Q}$, $W^{K}$, $W^{V}$의 값은 8개의 어텐션헤드마다 전부 다르다.\n",
    "    \n",
    "- 효과\n",
    "    - 어텐션을 병렬로 수행해 다른 시각으로 정보들을 수집\n",
    "    \n",
    "![ㅇㄴㄴ](https://wikidocs.net/images/page/31379/transformer18_final.PNG)\n",
    "- 병렬 어텐션을 모두 수행했다면 모든 어텐션 헤드를 연결(concatenate)한다. \n",
    "- 모두 연결된 어텐션 헤드 행렬의 크기는 (seq_len, $d_{model}$)이 된다.\n",
    "\n",
    "![ㅇㄴ](https://wikidocs.net/images/page/31379/transformer19.PNG)\n",
    "- 어텐션 헤드를 모두 연결한 행렬은 또 다른 가중치 행렬 $W^{o}$을 곱하게 되는데, 이렇게 나온 결과 행렬이 멀티-헤드 어텐션의 최종 결과물\n",
    "- 위의 그림은 어텐션 헤드를 모두 연결한 행렬이 가중치 행렬 $W^{o}$과 곱해지는 과정을 보여줍니다. 이때 결과물인 멀티-헤드 어텐션 행렬은 인코더의 입력이었던 문장 행렬의 (seq_len, $d_{model}$) 크기와 동일<br></br>\n",
    "\n",
    "- 즉, 인코더의 첫번째 sublayer인 멀티-헤드 어텐션 단계를 끝마쳤을 때, 인코더의 입력으로 들어왔던 행렬의 크기가 아직 유지되고 있다!!\n",
    "- 첫번째 서브층인 멀티-헤드 어텐션과 두번째 서브층인 포지션 와이즈 피드 포워드 신경망을 지나면서 인코더의 입력으로 들어올 때의 행렬의 크기는 계속 유지되어야 한다.\n",
    "- 트랜스포머는 다수의 인코더를 쌓은 형태인데, 인코더에서의 입력의 크기가 출력에서도 동일 크기로 계쏙 유지되어야만 다음 인코더에서도 다시 입력이 될 수 있기 때문이다."
   ]
  },
  {
   "cell_type": "markdown",
   "id": "2eef1323",
   "metadata": {},
   "source": [
    "### 멀티 헤드 어텐션Multi-head Attention 구현\n",
    "- 멀티 헤드 어텐션에서는 크 게 두 종류의 가중치 행렬이 나왔다.\n",
    "    - Q, K, V 행렬을 만들기 위한 가중치 행렬인 **WQ, WK, WV**\n",
    "    - 어텐션 헤드들을 연결(concat) 후에 곱해주는 **WO** \n",
    "    \n",
    "- 가중치 행렬을 곱하는 것을 구현 상에서는 입력을 Dense layer를 지나게 함으로써 구현한다 <br></br>\n",
    "\n",
    "- Multi-head Attention의 구현은 크게 다섯 가지 파트로 구성\n",
    "    1. WQ, WK, WV에 해당하는 d_model 크기의 Dense Layer를 지나게한다.\n",
    "    2. 지정된 헤드수(num_heads)만큼 나눈다\n",
    "    3. Scaled dot-product Attention\n",
    "    4. 나눠졌든 헤드들을 연결(concat)한다\n",
    "    5. WO에 해당하는 Dense Layer를 지나게한다"
   ]
  },
  {
   "cell_type": "code",
   "execution_count": 7,
   "id": "e8d1f725",
   "metadata": {},
   "outputs": [],
   "source": [
    "class MultiHeadAttention(tf.keras.layers.Layer):\n",
    "\n",
    "  def __init__(self, d_model, num_heads, name=\"multi_head_attention\"):\n",
    "    super(MultiHeadAttention, self).__init__(name=name)\n",
    "    self.num_heads = num_heads\n",
    "    self.d_model = d_model\n",
    "\n",
    "    assert d_model % self.num_heads == 0\n",
    "\n",
    "    # d_model을 num_heads로 나눈 값.\n",
    "    # 논문 기준 : 64\n",
    "    self.depth = d_model // self.num_heads\n",
    "\n",
    "    # WQ, WK, WV에 해당하는 밀집층 정의\n",
    "    self.query_dense = tf.keras.layers.Dense(units=d_model)\n",
    "    self.key_dense = tf.keras.layers.Dense(units=d_model)\n",
    "    self.value_dense = tf.keras.layers.Dense(units=d_model)\n",
    "\n",
    "    # WO에 해당하는 밀집층 정의\n",
    "    self.dense = tf.keras.layers.Dense(units=d_model)\n",
    "\n",
    "  # num_heads 개수만큼 q, k, v를 split하는 함수\n",
    "  def split_heads(self, inputs, batch_size):\n",
    "    inputs = tf.reshape(\n",
    "        inputs, shape=(batch_size, -1, self.num_heads, self.depth))\n",
    "    return tf.transpose(inputs, perm=[0, 2, 1, 3])\n",
    "\n",
    "  def call(self, inputs):\n",
    "    query, key, value, mask = inputs['query'], inputs['key'], inputs[\n",
    "        'value'], inputs['mask']\n",
    "    batch_size = tf.shape(query)[0]\n",
    "\n",
    "    # 1. WQ, WK, WV에 해당하는 밀집층 지나기\n",
    "    # q : (batch_size, query의 문장 길이, d_model)\n",
    "    # k : (batch_size, key의 문장 길이, d_model)\n",
    "    # v : (batch_size, value의 문장 길이, d_model)\n",
    "    # 참고) 인코더(k, v)-디코더(q) 어텐션에서는 query 길이와 key, value의 길이는 다를 수 있다.\n",
    "    query = self.query_dense(query)\n",
    "    key = self.key_dense(key)\n",
    "    value = self.value_dense(value)\n",
    "\n",
    "    # 2. 헤드 나누기\n",
    "    # q : (batch_size, num_heads, query의 문장 길이, d_model/num_heads)\n",
    "    # k : (batch_size, num_heads, key의 문장 길이, d_model/num_heads)\n",
    "    # v : (batch_size, num_heads, value의 문장 길이, d_model/num_heads)\n",
    "    query = self.split_heads(query, batch_size)\n",
    "    key = self.split_heads(key, batch_size)\n",
    "    value = self.split_heads(value, batch_size)\n",
    "\n",
    "    # 3. 스케일드 닷 프로덕트 어텐션. 앞서 구현한 함수 사용.\n",
    "    # (batch_size, num_heads, query의 문장 길이, d_model/num_heads)\n",
    "    scaled_attention, _ = scaled_dot_product_attention(query, key, value, mask)\n",
    "    # (batch_size, query의 문장 길이, num_heads, d_model/num_heads)\n",
    "    scaled_attention = tf.transpose(scaled_attention, perm=[0, 2, 1, 3])\n",
    "\n",
    "    # 4. 헤드 연결(concatenate)하기\n",
    "    # (batch_size, query의 문장 길이, d_model)\n",
    "    concat_attention = tf.reshape(scaled_attention,\n",
    "                                  (batch_size, -1, self.d_model))\n",
    "\n",
    "    # 5. WO에 해당하는 밀집층 지나기\n",
    "    # (batch_size, query의 문장 길이, d_model)\n",
    "    outputs = self.dense(concat_attention)\n",
    "\n",
    "    return outputs"
   ]
  },
  {
   "cell_type": "markdown",
   "id": "a150f5f0",
   "metadata": {},
   "source": [
    "### 패딩 마스크Padding Mask\n",
    "- Scaled dot-product attention함수 내부를 보면 `mask`값에 -1e9라는 아주 작은 음수값을 곱한 후, 어텐션 스코어 행렬에 더해줬다.\n",
    "    - 이는 입력 문장에 `<PAD>` 토큰이 있을 경우, 어텐션에서 사실상 제외하기 위한 연산이다.\n",
    "    - 예를 들어, `<PAD>`가 포함된 입력 문장의 셀프어텐션의 예제를 보자\n",
    "    \n",
    "![dd](https://wikidocs.net/images/page/31379/pad_masking11.PNG)\n",
    "- 단어 `<PAD>`의 경우에 실질적인 의미를 가진 단어 x, 트랜스포머에서 Key의 경우에 pad토큰이 존재한다면 이에 대해서는 유사도를 구하지 않도록 마스킹Masking(어텐션에서 제외하기 위해 값을 가린다는 뜻)을 해주기로 했다. \n",
    "- 어텐션스코어행렬에서 행에 해당하는 문장은 Query이고, 열에 해당하는 문장은 Key이다. 그리고 Key에 `<PAD>`가 있는 경우에는 해당 열 전체를 마스킹해준다.\n",
    "![dddd](https://wikidocs.net/images/page/31379/pad_masking2.PNG)\n",
    "\n",
    "- 방법\n",
    "    - 어텐션 스코어 행렬의 마스킹 위치에 '매우 작은 음수값'을 넣어주는 것이다.\n",
    "    - 현재 어텐션 스코어 함수는 소프트맥스함수를 지나지 않은 상태, 현재 마스킹 위치에 매우 작은 음수값이 들어가 있으므로 어텐션 스코어 행렬이 소프트맥스 함수를 지난 후에는 해당 위치의 값은 0에 굉장히 가까운 값이 되어 단어간 유사도를 구하는 일에 `<PAD>`토큰이 반영되지 않게 된다.\n",
    "    \n",
    "![ㅇㅇㅇ](https://wikidocs.net/images/page/31379/softmax.PNG)\n",
    "\n",
    "- 소프트맥스함수를 지나면 각 행의 어텐션 가중치의 총 합은 1이 되는데, 단어 `<PAD>`의 경우에는 0이 되어 어떤 유의미한 값을 가지고 있지 않음.\n",
    "\n",
    "- 패딩마스크를 구현하는 방법은 입력된 정수시퀀스에서 패딩토큰의 인덱스인지, 아닌지를 판별하는 함수를 구현하는것이다"
   ]
  },
  {
   "cell_type": "code",
   "execution_count": 8,
   "id": "23b84900",
   "metadata": {},
   "outputs": [],
   "source": [
    "# 정수시퀀스에서 0인 경우에는 1로 변환하고, 그렇지 않은 경우에는 0으로 변환\n",
    "def create_padding_mask(x):\n",
    "  mask = tf.cast(tf.math.equal(x, 0), tf.float32)\n",
    "  # (batch_size, 1, 1, key의 문장 길이)\n",
    "  return mask[:, tf.newaxis, tf.newaxis, :]"
   ]
  },
  {
   "cell_type": "code",
   "execution_count": 9,
   "id": "584fd7e4",
   "metadata": {},
   "outputs": [
    {
     "name": "stdout",
     "output_type": "stream",
     "text": [
      "tf.Tensor([[[[0. 0. 0. 1. 1.]]]], shape=(1, 1, 1, 5), dtype=float32)\n"
     ]
    }
   ],
   "source": [
    "print(create_padding_mask(tf.constant([[1, 21, 777, 0, 0]])))"
   ]
  },
  {
   "cell_type": "markdown",
   "id": "633d1f6f",
   "metadata": {},
   "source": [
    "- 결과값을 통해, 1의 값을 가진 위치의 열을 어텐션 스코어 행렬에서 마스킹하는 용도로 사용 가능\n",
    "- scaled dot-product attention의 인자로 전달하면, scaled dot-product attention에서는 위 벡터에다가 매우 작음 음수값인 `-1e9`를 곱하고, 이를 행렬에 더해주어 해당 열을 전부 마스킹"
   ]
  },
  {
   "cell_type": "markdown",
   "id": "3f308f1f",
   "metadata": {},
   "source": [
    "- 첫번재 서브층인 멀티헤드어텐션을 구현 완료\n",
    "- 두번째 서브층인 포지션-와이즈 피드 포워드 신경망에 대해 알아보자"
   ]
  },
  {
   "cell_type": "markdown",
   "id": "8b085d8f",
   "metadata": {},
   "source": [
    "### 포지션-와이즈 피드포워드신경망Position-wise FFNN"
   ]
  },
  {
   "cell_type": "markdown",
   "id": "ddc22f00",
   "metadata": {},
   "source": [
    "- Position-wise FFNN은 인코더와 디코더에서 공통적으로 가지고 있는 서브층\n",
    "- 이는 간단히 말해서, 완전연결FFNN이라고 해석할 수 있다.\n",
    "- 인공신경망은 벡터와 행렬연산으로 표현<br></br>\n",
    "- 수식\n",
    "$$FFNN(x) = MAX(0, x{W_{1}} + b_{1}){W_2} + b_2$$\n",
    "![dd](https://wikidocs.net/images/page/31379/positionwiseffnn.PNG)\n",
    "\n",
    "- 여기서 x는 앞서 멀티헤드어텐션의 결과로 (seq_len, $d_{model}$)의 크기를 가지는 행렬\n",
    "- 가중치행렬인 $W_{1}$은 ($d_{model}$, $d_{ff}$)의 크기를 가짐\n",
    "- 가중치행렬 $W_{2}$은 ($d_{ff}$, $d_{model}$)의 크기를 가짐\n",
    "- 은닉층의 크기인 $d_{ff}$는 앞서 파라미터정의할때 언급했듯이 2048의 크기를 가진다<br></br>\n",
    "\n",
    "- 매개변수 $W_{1}$, $b_{1}$, $W_{2}$, $b_{2}$는 하나의 인코더 층 내에서는 다른 문장, 다른 단어들마다 정확하게 동일하게 사용된다\n",
    "- 하지만 인코더 층마다는 다른 값을 가진다<br></br>\n",
    "\n",
    "![dddd](https://wikidocs.net/images/page/31379/transformer20.PNG)\n",
    "\n",
    "- 입력을 벡터단위로 봤을 때, 각 벡터들이 멀티헤드어텐션 층이라는 인코더 내 첫번째 서브층을 지나 FFNN을 통과 >> 두번째 서브층인 Position-wise FFNN을 의미\n",
    "- 하나의 인코더층을 지난 이 행렬은 다음 인코더 층으로 전달되고, 다음 층에서도 동일한 인코더 연산이 반복된다"
   ]
  },
  {
   "cell_type": "markdown",
   "id": "cd938b80",
   "metadata": {},
   "source": [
    "### Residual Connection & Layer Normalization\n",
    "![ㅇㅇ](https://wikidocs.net/images/page/31379/transformer21.PNG)"
   ]
  },
  {
   "cell_type": "markdown",
   "id": "e1b2f0c8",
   "metadata": {},
   "source": [
    "#### Residual Connection\n",
    "- $H(x) = x + F(x)$\n",
    "![ds](https://wikidocs.net/images/page/31379/transformer22.PNG)\n",
    "\n",
    "- 위의 $F(x)$가 트랜스포머에서는 sub-layer에 해당. 다시말해, Residual Connection은 sub-layer의 입력과 출력을 더하는것을 말한다.\n",
    "- 트랜스포머에서 sub-layer의 입력과 출력을 동일한 차원을 갖고 있으므로, sub-layer의 입력과 출력은 덧셈연산을 할 수 있다.\n",
    "- 이것이 바로 인코더 그림에서 각 화살표가 입력에서 출력으로 향하도록 그러졌던 이유다.\n",
    "- Residual Connection은 컴퓨터비젼분야에서 주로 사용되는 모델의 학습을 돕는 기법이다.<br></br>\n",
    "\n",
    "- 이를 식으로 표현하면 $x + Sublayer(x)$라고  할 수 있다.<br></br>\n",
    "- 가령, sub-layer가 Multi-head Attention이었다면 Residual Connection 연산은 다음과 같다\n",
    "    - $H(x) = x + Multi-head Attention(x)$\n",
    "    \n",
    "![dsd](https://wikidocs.net/images/page/31379/residual_connection.PNG)"
   ]
  },
  {
   "cell_type": "markdown",
   "id": "5c9b2b0b",
   "metadata": {},
   "source": [
    "#### Layer Normalization\n",
    "- Residual Connection을 거친 결과는 이어서 Layer Normalization을 거치게된다. \n",
    "- 잔차연결의 입력을 $x$, 잔차연결과 층 정규화 두 가지 연산을 모두 수행한 후의 결과 행렬을 $LN$이라고 하였을때, 잔차연결 후 층 정규화 연산 수식을 표현하면 다음과 같다.\n",
    "$ LN = LayerNorm(x+Sublayer(x)) $\n",
    "\n",
    "- 층 정규화는 ***텐서의 마지막 차원***에 대해서 평균과 분산을 구하고, 이를 가지고 어떤 수식을 통해 값을 정규화하여 학습을 돕는다.\n",
    "- 여기서 텐서의 마지막 차원이란 것은 트랜스포머에서는 $d_{model}$ 차원을 의미한다. 아래 그림은 $d_{model}$ 차원의 방향을 화살표로 표현한 그림이다.\n",
    "\n",
    "![ㅇㄴㅇ](https://wikidocs.net/images/page/31379/layer_norm_new_1_final.PNG)\n",
    "- 층 정규화를 위해서 우선, 화살표 방향으로 각각 평균 $μ$과 분산 $σ^{2}$을 구한다. 각 화살표 방향의 벡터를 $x_{i}$ 라고 명명해보자.\n",
    "\n",
    "![ㅇㄴㄹㄴ](https://wikidocs.net/images/page/31379/layer_norm_new_2_final.PNG)\n",
    "\n",
    "- 층 정규화를 수행한 후에는 벡터 $x_{i}$ 는 $ln_{i}$ 라는 벡터로 정규화가 된다.\n",
    "\n",
    "$$ ln_{i} = LayerNorm(x_{i}) $$\n"
   ]
  },
  {
   "cell_type": "code",
   "execution_count": 59,
   "id": "12228f69",
   "metadata": {},
   "outputs": [],
   "source": [
    "def encoder_layer(dff, d_model, num_heads, dropout, name=\"encoder_layer\"):\n",
    "  inputs = tf.keras.Input(shape=(None, d_model), name=\"inputs\")\n",
    "\n",
    "  # 인코더는 패딩 마스크 사용\n",
    "  padding_mask = tf.keras.Input(shape=(1, 1, None), name=\"padding_mask\")\n",
    "\n",
    "  # 멀티-헤드 어텐션 (첫번째 서브층 / 셀프 어텐션)\n",
    "  attention = MultiHeadAttention(\n",
    "      d_model, num_heads, name=\"attention\")({\n",
    "          'query': inputs, 'key': inputs, 'value': inputs, # Q = K = V\n",
    "          'mask': padding_mask # 패딩 마스크 사용\n",
    "      })\n",
    "\n",
    "  # 드롭아웃 + 잔차 연결과 층 정규화\n",
    "  attention = tf.keras.layers.Dropout(rate=dropout)(attention)\n",
    "  attention = tf.keras.layers.LayerNormalization(\n",
    "      epsilon=1e-6)(inputs + attention)\n",
    "\n",
    "  # 포지션 와이즈 피드 포워드 신경망 (두번째 서브층)\n",
    "  outputs = tf.keras.layers.Dense(units=dff, activation='relu')(attention)\n",
    "  outputs = tf.keras.layers.Dense(units=d_model)(outputs)\n",
    "\n",
    "  # 드롭아웃 + 잔차 연결과 층 정규화\n",
    "  outputs = tf.keras.layers.Dropout(rate=dropout)(outputs)\n",
    "  outputs = tf.keras.layers.LayerNormalization(\n",
    "      epsilon=1e-6)(attention + outputs)\n",
    "\n",
    "  return tf.keras.Model(\n",
    "      inputs=[inputs, padding_mask], outputs=outputs, name=name)"
   ]
  },
  {
   "cell_type": "markdown",
   "id": "4a7340a5",
   "metadata": {},
   "source": [
    "- "
   ]
  },
  {
   "cell_type": "markdown",
   "id": "d25c332c",
   "metadata": {},
   "source": [
    "### 인코더 쌓기"
   ]
  },
  {
   "cell_type": "code",
   "execution_count": 60,
   "id": "89b0b6f8",
   "metadata": {},
   "outputs": [],
   "source": [
    "def encoder(vocab_size, num_layers, dff,\n",
    "            d_model, num_heads, dropout,\n",
    "            name=\"encoder\"):\n",
    "  inputs = tf.keras.Input(shape=(None,), name=\"inputs\")\n",
    "\n",
    "  # 인코더는 패딩 마스크 사용\n",
    "  padding_mask = tf.keras.Input(shape=(1, 1, None), name=\"padding_mask\")\n",
    "\n",
    "  # 포지셔널 인코딩 + 드롭아웃\n",
    "  embeddings = tf.keras.layers.Embedding(vocab_size, d_model)(inputs)\n",
    "  embeddings *= tf.math.sqrt(tf.cast(d_model, tf.float32))\n",
    "  embeddings = PositionalEncoding(vocab_size, d_model)(embeddings)\n",
    "  outputs = tf.keras.layers.Dropout(rate=dropout)(embeddings)\n",
    "\n",
    "  # 인코더를 num_layers개 쌓기\n",
    "  for i in range(num_layers):\n",
    "    outputs = encoder_layer(dff=dff, d_model=d_model, num_heads=num_heads,\n",
    "        dropout=dropout, name=\"encoder_layer_{}\".format(i),\n",
    "    )([outputs, padding_mask])\n",
    "\n",
    "  return tf.keras.Model(\n",
    "      inputs=[inputs, padding_mask], outputs=outputs, name=name)"
   ]
  },
  {
   "cell_type": "markdown",
   "id": "4694e4e2",
   "metadata": {},
   "source": [
    "### 인코더에서 디코더로\n",
    "![ㅇㄴ](https://wikidocs.net/images/page/31379/transformer_from_encoder_to_decoder.PNG)\n",
    "\n",
    "- 총 num_layers만큼의 층 연산을 순차적으로 한후에 마지막 층의 인코더의 출력을 디코더에게 전달한다. 인코더 연산이 끝났으므로 이제 디코더연산이 시작되어 디코더 또한 총 num_layers만큼의 연산을 하는데, 이때마다 인코더가 보낸 출력을 각 디코더 층 연산에 사용된다"
   ]
  },
  {
   "cell_type": "markdown",
   "id": "b27d01f7",
   "metadata": {},
   "source": [
    "### 디코더의 첫번째 sub-layer : Self-attention, Look-Ahead Mask\n",
    "\n",
    "![sdfs](https://wikidocs.net/images/page/31379/decoder.PNG)\n",
    "\n",
    "- 디코더도 인코더와 동일하게 임베딩층과 포지셔널인코딩을 거친 후, 문장행렬이 입력된다.\n",
    "- 트랜스포머 또한 seq2seq와 마찬가지로 Teaching Forcing을 사용해 훈련되므로 학습과정에서 디코더는 번역할 문장에 해당되는 $<sos>$  je suis etudiant의 문장행렬을 한 번에 입력받는다. 그리고 디코더는 이 문장행렬로부터 각 시점의 단어를 예측하도록 훈련된다.\n",
    "\n",
    "- 문제점 : seq2seq의 디코더에 사용되는 RNN계열의 신경망은 입력다나어를 매 시점마다 순차적으로 받으므로 다음 단어 예측에 현재시점이전 이전에 입력된 단어들만 참고할 수 있다. 반면, 트랜스포머는 문장행렬로 입력을 한 번에 받으므로 현재시점의 단어를 예측하고자 할 때, 입력문장행렬로부터 미래시점의 단어까지도 참고할 수 있는 현상이 발생한다.\n",
    "\n",
    "- 이를 위해 트랜스포머의 디코더에서는 현재시점의 예측에서 현재시점보다 미래에 있는 단어들을 참고하지 못하도록 look-ahead mask를 도입했다.\n",
    "\n",
    "![ㅇㄴㄹ](https://wikidocs.net/images/page/31379/%EB%94%94%EC%BD%94%EB%8D%94.PNG)\n",
    "\n",
    "- Look-ahead Mask는 디코더의 첫번째 sub-layer에서 이루어진다. 디코더의 첫번째 sub-layer인 multi-head attention층은 인코더의 첫번째 sub-layer인 multi-head self-attention 층과 동일한 연산을 수행한다. \n",
    "- 다른점은 어텐션스코어행렬에서 마스킹을 적용한다는 점만 다르다.\n",
    "- 우선, 다음과 같이 self-attention을 통해 어텐션 스코어 행렬을 얻는다.\n",
    "\n",
    "![ㄴㅇㄻ](https://wikidocs.net/images/page/31379/decoder_attention_score_matrix.PNG)\n",
    "\n",
    "- 이제 자기 자신보다 미래에 있는 단어들은 참고하지 못하도록 다음과 같이 마스킹한다.\n",
    "\n",
    "![ㄴㅁㅁ](https://wikidocs.net/images/page/31379/%EB%A3%A9%EC%96%B4%ED%97%A4%EB%93%9C%EB%A7%88%EC%8A%A4%ED%81%AC.PNG)\n",
    "\n",
    "- 마스킹 된 후의 어텐션스코어행렬의 각 행을 보면 자기 자신과 그 이전단어들만을 참고할 수 있음을 볼 수 있다.\n",
    "- 그 외에는 근본적으로 self-attention이라는 점과, multi-head attention을 수행한다는 점에서 인코더의 첫번째 sub-layer와 같다\n",
    "\n",
    "\n",
    "- Look-Ahead Mask는 padding mask와 마찬가지로 앞서 구현한 scaled dot-product attention 함수에 mask라는 인자로 전달된다.\n",
    "- padding mask를 써야하는 경우에는 scaled dot-product attention 함수에 padding mask를 전달하고, Look-ahead masking을 써야하는 경우에는  scaled dot-product attention에 Look-ahead mask를 전달하게 된다."
   ]
  },
  {
   "cell_type": "markdown",
   "id": "b342bb3f",
   "metadata": {},
   "source": [
    "- 트랜스포머에는 총 3가지의 어텐션이 존재하며, 모두 Multi-head attention을 수행하고 해당함수 내부에서 scaled dot-product attention 함수를 호출하는데 각 attention 시 함수에 전달하는 마스킹은 다음과 같다.\n",
    "    - 인코더의 self-attention : padding mask를 전달\n",
    "    - 디코더의 첫번째 sub-layer인 masked self-attention : Look-ahead mask를 전달\n",
    "    - 디코더의 두번째 sub-layer인 Encoder-Decoder Attention : padding mask를 전달\n",
    "    \n",
    "- 이때, Look-ahead mask를 한다고해서 padding mask가 불필요한 것이 아니므로 padding mask를 포함하도록 구현한다.\n",
    "- 구현방법은 padding mask때와 마찬가지로 마스킹하고자 하는 위치에는 1을, 마스킹을 하지 않는 위치에는 0을 리턴"
   ]
  },
  {
   "cell_type": "code",
   "execution_count": 61,
   "id": "90a25fe9",
   "metadata": {},
   "outputs": [],
   "source": [
    "def create_look_ahead_mask(x):\n",
    "  seq_len = tf.shape(x)[1]\n",
    "  look_ahead_mask = 1 - tf.linalg.band_part(tf.ones((seq_len, seq_len)), -1, 0)\n",
    "  padding_mask = create_padding_mask(x) # 패딩 마스크도 포함\n",
    "  return tf.maximum(look_ahead_mask, padding_mask)"
   ]
  },
  {
   "cell_type": "code",
   "execution_count": null,
   "id": "5e6cfea1",
   "metadata": {},
   "outputs": [],
   "source": [
    "print(create_look_ahead_mask(tf.constant([[1, 2, 0, 4, 5]])))"
   ]
  },
  {
   "cell_type": "markdown",
   "id": "bbe42bac",
   "metadata": {},
   "source": [
    "- Look-ahead mask 이므로 삼각형 모양의 마스킹이 형성되면서, padding mask가 포함되어져 있으므로 세번째 열이 마스킹되어있다."
   ]
  },
  {
   "cell_type": "markdown",
   "id": "71a5f298",
   "metadata": {},
   "source": [
    "### 디코더의 두번째 sub-layer : Encoder-Decoder Attention\n",
    "- 디코더의 두번째 sub-layer은 Multi-head attention을 수행한다는 점에서 이전의 attention들과 같지만, self-attention은 아니다.\n",
    "- self-attention은 Query, Key, Value가 같은 경우를 말하는데, encoder-decoder attention은 Query가 디코더인 행렬인 반면, Key와 Value는 인코더행렬이기 때문이다. \n",
    "\n",
    "- 디코더의 두번째 sub-laery를 확대해보면, 다음과 같이 인코더로부터 두 개의 화살표가 그러져있다.\n",
    "![ㄴㅇㄹ](https://wikidocs.net/images/page/31379/%EB%94%94%EC%BD%94%EB%8D%94%EB%91%90%EB%B2%88%EC%A7%B8%EC%84%9C%EB%B8%8C%EC%B8%B5.PNG)\n",
    "- 두 개의 화살표는 각각 Key와 Value를 의미하며, 이는 인코더의 마지막층에서 온 행렬로부터 얻는다.\n",
    "- 반면, Query는 디코더의 첫번째 sub-layer의 결과행렬로부터 얻는다는 점이 다르다. Query가 디코더행렬, Key가 인코더행렬일 때, 어텐션스코어행렬을 구하는 과정은 다음과 같다.\n",
    "\n",
    "![ㄴㅇㄹㄴㅇㄹ](https://wikidocs.net/images/page/31379/%EB%94%94%EC%BD%94%EB%8D%94%EB%91%90%EB%B2%88%EC%A7%B8%EC%84%9C%EB%B8%8C%EC%B8%B5%EC%9D%98%EC%96%B4%ED%85%90%EC%85%98%EC%8A%A4%EC%BD%94%EC%96%B4%ED%96%89%EB%A0%AC_final.PNG)\n",
    "\n"
   ]
  },
  {
   "cell_type": "markdown",
   "id": "075588c6",
   "metadata": {},
   "source": [
    "### 디코더 구현하기"
   ]
  },
  {
   "cell_type": "code",
   "execution_count": 62,
   "id": "a4963108",
   "metadata": {},
   "outputs": [],
   "source": [
    "def decoder_layer(dff, d_model, num_heads, dropout, name=\"decoder_layer\"):\n",
    "  inputs = tf.keras.Input(shape=(None, d_model), name=\"inputs\")\n",
    "  enc_outputs = tf.keras.Input(shape=(None, d_model), name=\"encoder_outputs\")\n",
    "\n",
    "  # 룩어헤드 마스크(첫번째 서브층)\n",
    "  look_ahead_mask = tf.keras.Input(\n",
    "      shape=(1, None, None), name=\"look_ahead_mask\")\n",
    "\n",
    "  # 패딩 마스크(두번째 서브층)\n",
    "  padding_mask = tf.keras.Input(shape=(1, 1, None), name='padding_mask')\n",
    "\n",
    "  # 멀티-헤드 어텐션 (첫번째 서브층 / 마스크드 셀프 어텐션)\n",
    "  attention1 = MultiHeadAttention(\n",
    "      d_model, num_heads, name=\"attention_1\")(inputs={\n",
    "          'query': inputs, 'key': inputs, 'value': inputs, # Q = K = V\n",
    "          'mask': look_ahead_mask # 룩어헤드 마스크\n",
    "      })\n",
    "\n",
    "  # 잔차 연결과 층 정규화\n",
    "  attention1 = tf.keras.layers.LayerNormalization(\n",
    "      epsilon=1e-6)(attention1 + inputs)\n",
    "\n",
    "  # 멀티-헤드 어텐션 (두번째 서브층 / 디코더-인코더 어텐션)\n",
    "  attention2 = MultiHeadAttention(\n",
    "      d_model, num_heads, name=\"attention_2\")(inputs={\n",
    "          'query': attention1, 'key': enc_outputs, 'value': enc_outputs, # Q != K = V\n",
    "          'mask': padding_mask # 패딩 마스크\n",
    "      })\n",
    "\n",
    "  # 드롭아웃 + 잔차 연결과 층 정규화\n",
    "  attention2 = tf.keras.layers.Dropout(rate=dropout)(attention2)\n",
    "  attention2 = tf.keras.layers.LayerNormalization(\n",
    "      epsilon=1e-6)(attention2 + attention1)\n",
    "\n",
    "  # 포지션 와이즈 피드 포워드 신경망 (세번째 서브층)\n",
    "  outputs = tf.keras.layers.Dense(units=dff, activation='relu')(attention2)\n",
    "  outputs = tf.keras.layers.Dense(units=d_model)(outputs)\n",
    "\n",
    "  # 드롭아웃 + 잔차 연결과 층 정규화\n",
    "  outputs = tf.keras.layers.Dropout(rate=dropout)(outputs)\n",
    "  outputs = tf.keras.layers.LayerNormalization(\n",
    "      epsilon=1e-6)(outputs + attention2)\n",
    "\n",
    "  return tf.keras.Model(\n",
    "      inputs=[inputs, enc_outputs, look_ahead_mask, padding_mask],\n",
    "      outputs=outputs,\n",
    "      name=name)"
   ]
  },
  {
   "cell_type": "markdown",
   "id": "63fbd758",
   "metadata": {},
   "source": [
    "- 디코더는 총 세개의 sub-layer로 구성되어있다. \n",
    "    - 첫번째, 두번째 모두 multi-head attention이지만, 첫번째 sub layer는 mask의 인자값으로 look_ahead_mask가 들어가는 반면, 두번째 sub layer는 mask의 인자값으로 padding_mask가 들어간다.\n",
    "- 3개의 sub-layer 모두 연산 후에는 dropout, residual connection, layer normalization이 수행되는 것을 확인할 수 있다."
   ]
  },
  {
   "cell_type": "markdown",
   "id": "e5435e74",
   "metadata": {},
   "source": [
    "### 디코더 쌓기"
   ]
  },
  {
   "cell_type": "code",
   "execution_count": 63,
   "id": "7e0fdf30",
   "metadata": {},
   "outputs": [],
   "source": [
    "def decoder(vocab_size, num_layers, dff,\n",
    "            d_model, num_heads, dropout,\n",
    "            name='decoder'):\n",
    "  inputs = tf.keras.Input(shape=(None,), name='inputs')\n",
    "  enc_outputs = tf.keras.Input(shape=(None, d_model), name='encoder_outputs')\n",
    "\n",
    "  # 디코더는 룩어헤드 마스크(첫번째 서브층)와 패딩 마스크(두번째 서브층) 둘 다 사용.\n",
    "  look_ahead_mask = tf.keras.Input(\n",
    "      shape=(1, None, None), name='look_ahead_mask')\n",
    "  padding_mask = tf.keras.Input(shape=(1, 1, None), name='padding_mask')\n",
    "\n",
    "  # 포지셔널 인코딩 + 드롭아웃\n",
    "  embeddings = tf.keras.layers.Embedding(vocab_size, d_model)(inputs)\n",
    "  embeddings *= tf.math.sqrt(tf.cast(d_model, tf.float32))\n",
    "  embeddings = PositionalEncoding(vocab_size, d_model)(embeddings)\n",
    "  outputs = tf.keras.layers.Dropout(rate=dropout)(embeddings)\n",
    "\n",
    "  # 디코더를 num_layers개 쌓기\n",
    "  for i in range(num_layers):\n",
    "    outputs = decoder_layer(dff=dff, d_model=d_model, num_heads=num_heads,\n",
    "        dropout=dropout, name='decoder_layer_{}'.format(i),\n",
    "    )(inputs=[outputs, enc_outputs, look_ahead_mask, padding_mask])\n",
    "\n",
    "  return tf.keras.Model(\n",
    "      inputs=[inputs, enc_outputs, look_ahead_mask, padding_mask],\n",
    "      outputs=outputs,\n",
    "      name=name)"
   ]
  },
  {
   "cell_type": "markdown",
   "id": "ff0b2510",
   "metadata": {},
   "source": [
    "### 트랜스포머 구현하기\n",
    "- 인코더의 출력은 디코더에서 encoder-decoder attention에서 사용되기위해 디코더로 전달해준다. 그리고 디코더의 끝단에는 다중클래스분류 문제를 풀 수 있도록, vocab_size 만큼의 뉴런을 가지는 신경망을 추가해준다."
   ]
  },
  {
   "cell_type": "code",
   "execution_count": 64,
   "id": "d963a389",
   "metadata": {},
   "outputs": [],
   "source": [
    "def transformer(vocab_size, num_layers, dff,\n",
    "                d_model, num_heads, dropout,\n",
    "                name=\"transformer\"):\n",
    "\n",
    "  # 인코더의 입력\n",
    "  inputs = tf.keras.Input(shape=(None,), name=\"inputs\")\n",
    "\n",
    "  # 디코더의 입력\n",
    "  dec_inputs = tf.keras.Input(shape=(None,), name=\"dec_inputs\")\n",
    "\n",
    "  # 인코더의 패딩 마스크\n",
    "  enc_padding_mask = tf.keras.layers.Lambda(\n",
    "      create_padding_mask, output_shape=(1, 1, None),\n",
    "      name='enc_padding_mask')(inputs)\n",
    "\n",
    "  # 디코더의 룩어헤드 마스크(첫번째 서브층)\n",
    "  look_ahead_mask = tf.keras.layers.Lambda(\n",
    "      create_look_ahead_mask, output_shape=(1, None, None),\n",
    "      name='look_ahead_mask')(dec_inputs)\n",
    "\n",
    "  # 디코더의 패딩 마스크(두번째 서브층)\n",
    "  dec_padding_mask = tf.keras.layers.Lambda(\n",
    "      create_padding_mask, output_shape=(1, 1, None),\n",
    "      name='dec_padding_mask')(inputs)\n",
    "\n",
    "  # 인코더의 출력은 enc_outputs. 디코더로 전달된다.\n",
    "  enc_outputs = encoder(vocab_size=vocab_size, num_layers=num_layers, dff=dff,\n",
    "      d_model=d_model, num_heads=num_heads, dropout=dropout,\n",
    "  )(inputs=[inputs, enc_padding_mask]) # 인코더의 입력은 입력 문장과 패딩 마스크\n",
    "\n",
    "  # 디코더의 출력은 dec_outputs. 출력층으로 전달된다.\n",
    "  dec_outputs = decoder(vocab_size=vocab_size, num_layers=num_layers, dff=dff,\n",
    "      d_model=d_model, num_heads=num_heads, dropout=dropout,\n",
    "  )(inputs=[dec_inputs, enc_outputs, look_ahead_mask, dec_padding_mask])\n",
    "\n",
    "  # 다음 단어 예측을 위한 출력층\n",
    "  outputs = tf.keras.layers.Dense(units=vocab_size, name=\"outputs\")(dec_outputs)\n",
    "\n",
    "  return tf.keras.Model(inputs=[inputs, dec_inputs], outputs=outputs, name=name)"
   ]
  },
  {
   "cell_type": "markdown",
   "id": "534a4459",
   "metadata": {},
   "source": [
    "### 트랜스포머 하이퍼파라미터 정하기"
   ]
  },
  {
   "cell_type": "code",
   "execution_count": 65,
   "id": "e7766cff",
   "metadata": {},
   "outputs": [
    {
     "name": "stdout",
     "output_type": "stream",
     "text": [
      "(1, 9000, 128)\n",
      "(1, 9000, 128)\n"
     ]
    },
    {
     "data": {
      "image/png": "[encoded data removed]",
      "text/plain": [
       "<IPython.core.display.Image object>"
      ]
     },
     "execution_count": 65,
     "metadata": {},
     "output_type": "execute_result"
    }
   ],
   "source": [
    "small_transformer = transformer(\n",
    "    vocab_size = 9000,\n",
    "    num_layers = 4,\n",
    "    dff = 512,\n",
    "    d_model = 128,\n",
    "    num_heads = 4,\n",
    "    dropout = 0.3,\n",
    "    name=\"small_transformer\")\n",
    "\n",
    "tf.keras.utils.plot_model(\n",
    "    small_transformer, to_file='small_transformer.png', show_shapes=True)"
   ]
  },
  {
   "cell_type": "markdown",
   "id": "26516eb1",
   "metadata": {},
   "source": [
    "### 손실함수 정의"
   ]
  },
  {
   "cell_type": "code",
   "execution_count": 66,
   "id": "10ce1042",
   "metadata": {},
   "outputs": [],
   "source": [
    "def loss_function(y_true, y_pred):\n",
    "  y_true = tf.reshape(y_true, shape=(-1, MAX_LENGTH - 1))\n",
    "\n",
    "  loss = tf.keras.losses.SparseCategoricalCrossentropy(\n",
    "      from_logits=True, reduction='none')(y_true, y_pred)\n",
    "\n",
    "  mask = tf.cast(tf.not_equal(y_true, 0), tf.float32)\n",
    "  loss = tf.multiply(loss, mask)\n",
    "\n",
    "  return tf.reduce_mean(loss)"
   ]
  },
  {
   "cell_type": "markdown",
   "id": "49dee8f2",
   "metadata": {},
   "source": [
    "### 학습률\n",
    "- 트랜스포머의 경우 학습률은 고정된 값을 유지하는 것이 아니라, 학습경과에 따라 변하도록 설계하였다.\n",
    "\n",
    "$$\\Large{lrate = d_{model}^{-0.5} × min(\\text{step_num}^{-0.5},\\ \\text{step_num} × \\text{warmup_steps}^{-1.5})}$$"
   ]
  },
  {
   "cell_type": "code",
   "execution_count": 67,
   "id": "1e360e74",
   "metadata": {},
   "outputs": [],
   "source": [
    "class CustomSchedule(tf.keras.optimizers.schedules.LearningRateSchedule):\n",
    "\n",
    "  def __init__(self, d_model, warmup_steps=4000):\n",
    "    super(CustomSchedule, self).__init__()\n",
    "    self.d_model = d_model\n",
    "    self.d_model = tf.cast(self.d_model, tf.float32)\n",
    "    self.warmup_steps = warmup_steps\n",
    "\n",
    "  def __call__(self, step):\n",
    "    arg1 = tf.math.rsqrt(step)\n",
    "    arg2 = step * (self.warmup_steps**-1.5)\n",
    "\n",
    "    return tf.math.rsqrt(self.d_model) * tf.math.minimum(arg1, arg2)"
   ]
  },
  {
   "cell_type": "code",
   "execution_count": 68,
   "id": "afdc4a8b",
   "metadata": {},
   "outputs": [
    {
     "data": {
      "text/plain": [
       "Text(0.5, 0, 'Train Step')"
      ]
     },
     "execution_count": 68,
     "metadata": {},
     "output_type": "execute_result"
    },
    {
     "data": {
      "image/png": "[encoded data removed]",
      "text/plain": [
       "<Figure size 432x288 with 1 Axes>"
      ]
     },
     "metadata": {
      "needs_background": "light"
     },
     "output_type": "display_data"
    }
   ],
   "source": [
    "sample_learning_rate = CustomSchedule(d_model=128)\n",
    "\n",
    "plt.plot(sample_learning_rate(tf.range(200000, dtype=tf.float32)))\n",
    "plt.ylabel(\"Learning Rate\")\n",
    "plt.xlabel(\"Train Step\")"
   ]
  },
  {
   "cell_type": "code",
   "execution_count": null,
   "id": "4d687c1d",
   "metadata": {},
   "outputs": [],
   "source": []
  },
  {
   "cell_type": "markdown",
   "id": "470214ca",
   "metadata": {},
   "source": [
    "# 트랜스포머를 이용한 한국어 챗봇"
   ]
  },
  {
   "cell_type": "code",
   "execution_count": 23,
   "id": "79dd6942",
   "metadata": {},
   "outputs": [],
   "source": [
    "import pandas as pd\n",
    "import numpy as np\n",
    "import matplotlib.pyplot as plt\n",
    "import re\n",
    "import time\n",
    "import tensorflow_datasets as tfds\n",
    "import tensorflow as tf"
   ]
  },
  {
   "cell_type": "markdown",
   "id": "13cd12d8",
   "metadata": {},
   "source": [
    "## 데이터 로드"
   ]
  },
  {
   "cell_type": "code",
   "execution_count": 24,
   "id": "cb4f3712",
   "metadata": {},
   "outputs": [
    {
     "data": {
      "text/html": [
       "<div>\n",
       "<style scoped>\n",
       "    .dataframe tbody tr th:only-of-type {\n",
       "        vertical-align: middle;\n",
       "    }\n",
       "\n",
       "    .dataframe tbody tr th {\n",
       "        vertical-align: top;\n",
       "    }\n",
       "\n",
       "    .dataframe thead th {\n",
       "        text-align: right;\n",
       "    }\n",
       "</style>\n",
       "<table border=\"1\" class=\"dataframe\">\n",
       "  <thead>\n",
       "    <tr style=\"text-align: right;\">\n",
       "      <th></th>\n",
       "      <th>Q</th>\n",
       "      <th>A</th>\n",
       "      <th>label</th>\n",
       "    </tr>\n",
       "  </thead>\n",
       "  <tbody>\n",
       "    <tr>\n",
       "      <th>0</th>\n",
       "      <td>12시 땡!</td>\n",
       "      <td>하루가 또 가네요.</td>\n",
       "      <td>0</td>\n",
       "    </tr>\n",
       "    <tr>\n",
       "      <th>1</th>\n",
       "      <td>1지망 학교 떨어졌어</td>\n",
       "      <td>위로해 드립니다.</td>\n",
       "      <td>0</td>\n",
       "    </tr>\n",
       "    <tr>\n",
       "      <th>2</th>\n",
       "      <td>3박4일 놀러가고 싶다</td>\n",
       "      <td>여행은 언제나 좋죠.</td>\n",
       "      <td>0</td>\n",
       "    </tr>\n",
       "    <tr>\n",
       "      <th>3</th>\n",
       "      <td>3박4일 정도 놀러가고 싶다</td>\n",
       "      <td>여행은 언제나 좋죠.</td>\n",
       "      <td>0</td>\n",
       "    </tr>\n",
       "    <tr>\n",
       "      <th>4</th>\n",
       "      <td>PPL 심하네</td>\n",
       "      <td>눈살이 찌푸려지죠.</td>\n",
       "      <td>0</td>\n",
       "    </tr>\n",
       "  </tbody>\n",
       "</table>\n",
       "</div>"
      ],
      "text/plain": [
       "                 Q            A  label\n",
       "0           12시 땡!   하루가 또 가네요.      0\n",
       "1      1지망 학교 떨어졌어    위로해 드립니다.      0\n",
       "2     3박4일 놀러가고 싶다  여행은 언제나 좋죠.      0\n",
       "3  3박4일 정도 놀러가고 싶다  여행은 언제나 좋죠.      0\n",
       "4          PPL 심하네   눈살이 찌푸려지죠.      0"
      ]
     },
     "execution_count": 24,
     "metadata": {},
     "output_type": "execute_result"
    }
   ],
   "source": [
    "train_data = pd.read_csv('C:/workspace/Data/ChatBotData.csv')\n",
    "train_data.head()"
   ]
  },
  {
   "cell_type": "code",
   "execution_count": 25,
   "id": "ae625ef7",
   "metadata": {},
   "outputs": [
    {
     "name": "stdout",
     "output_type": "stream",
     "text": [
      "챗봇 샘플의 개수: 11823\n"
     ]
    }
   ],
   "source": [
    "print('챗봇 샘플의 개수: {}'.format(len(train_data)))"
   ]
  },
  {
   "cell_type": "code",
   "execution_count": 26,
   "id": "026ca0ce",
   "metadata": {},
   "outputs": [
    {
     "data": {
      "text/plain": [
       "Q        0\n",
       "A        0\n",
       "label    0\n",
       "dtype: int64"
      ]
     },
     "execution_count": 26,
     "metadata": {},
     "output_type": "execute_result"
    }
   ],
   "source": [
    "# Missing Value 확인\n",
    "train_data.isna().sum()"
   ]
  },
  {
   "cell_type": "markdown",
   "id": "24f8315d",
   "metadata": {},
   "source": [
    "- 형태소 분석기를 사용하지 않고, 다른 방법인 학습 기반의 토크나이저를 사용\n",
    "- 그래서 원 데이터에서 ?, ., ! 와 같은 구두점을 미리 처리해두어야 하는데, 구두점들을 단순히 제거할 수도 있지만, 여기서는 구두점 앞에 공백. 즉, 띄어쓰기를 추가하여 다른 문자들과 구분"
   ]
  },
  {
   "cell_type": "code",
   "execution_count": 27,
   "id": "e8751fbe",
   "metadata": {},
   "outputs": [],
   "source": [
    "questions = []\n",
    "\n",
    "for sentence in train_data['Q']:\n",
    "    # 구두점에 대해서 띄어쓰기\n",
    "    # ex) 12시 땡! >> 12시 땡 !\n",
    "    sentence = re.sub(r\"([?.!,])\", r\" \\1 \", sentence)\n",
    "    sentence = sentence.strip()\n",
    "    questions.append(sentence)"
   ]
  },
  {
   "cell_type": "code",
   "execution_count": 28,
   "id": "758dc0a3",
   "metadata": {},
   "outputs": [],
   "source": [
    "answers = []\n",
    "\n",
    "for sentence in train_data['A']:\n",
    "    # 구두점에 대해서 띄어쓰기\n",
    "    # ex) 12시 땡! >> 12시 땡 !\n",
    "    sentence = re.sub(r\"([?.!,])\", r\" \\1 \", sentence)\n",
    "    sentence = sentence.strip()\n",
    "    answers.append(sentence)"
   ]
  },
  {
   "cell_type": "code",
   "execution_count": 29,
   "id": "ab2696a7",
   "metadata": {},
   "outputs": [
    {
     "name": "stdout",
     "output_type": "stream",
     "text": [
      "['12시 땡 !', '1지망 학교 떨어졌어', '3박4일 놀러가고 싶다', '3박4일 정도 놀러가고 싶다', 'PPL 심하네']\n",
      "['하루가 또 가네요 .', '위로해 드립니다 .', '여행은 언제나 좋죠 .', '여행은 언제나 좋죠 .', '눈살이 찌푸려지죠 .']\n"
     ]
    }
   ],
   "source": [
    "# 구두점들이 띄어쓰기를 통해 분리되었는지 확인\n",
    "\n",
    "print(questions[:5])\n",
    "print(answers[:5])"
   ]
  },
  {
   "cell_type": "markdown",
   "id": "80add098",
   "metadata": {},
   "source": [
    "## 단어 집합 생성\n",
    "- 서브워드텍스트인코더 사용\n",
    "    - 학습데이터로부터 학습하여 서브워드로 구성된 단어집합을 생성한다"
   ]
  },
  {
   "cell_type": "code",
   "execution_count": 30,
   "id": "e35851b8",
   "metadata": {},
   "outputs": [],
   "source": [
    "# 서브워드텍스트인코더를 사용하여 질문, 답변 데이터로부터 단어집합 생성\n",
    "tokenizer = tfds.deprecated.text.SubwordTextEncoder.build_from_corpus(questions + answers, target_vocab_size = 2**13)"
   ]
  },
  {
   "cell_type": "markdown",
   "id": "fa91861c",
   "metadata": {},
   "source": [
    "- 인코더-디코더 모델계열에는 디코더의 입력으로 사용할 시작을 의미하는 SOS와 종료토큰 EOS 또한 존재한다. 해당 토큰들도 단어 집합에 포함시킬 필요가 있으므로 이 두 토큰에 정수를 부여해주자"
   ]
  },
  {
   "cell_type": "code",
   "execution_count": 31,
   "id": "f5bb9bce",
   "metadata": {},
   "outputs": [],
   "source": [
    "# 시작토큰과 종료토큰에 대한 정수부여\n",
    "START_TOKEN, END_TOKEN = [tokenizer.vocab_size], [tokenizer.vocab_size + 1]\n",
    "\n",
    "# 시작토큰과 종료토큰을 고려하여 단어 집합의 크기를 + 2\n",
    "VOCAB_SIZE = tokenizer.vocab_size + 2"
   ]
  },
  {
   "cell_type": "code",
   "execution_count": 32,
   "id": "bcce7149",
   "metadata": {},
   "outputs": [
    {
     "name": "stdout",
     "output_type": "stream",
     "text": [
      "시작 토큰 번호 :  [8178]\n",
      "종료 토큰 번호 :  [8179]\n",
      "단어 집합의 크기 :  8180\n"
     ]
    }
   ],
   "source": [
    "print('시작 토큰 번호 : ', START_TOKEN)\n",
    "print('종료 토큰 번호 : ', END_TOKEN)\n",
    "print('단어 집합의 크기 : ', VOCAB_SIZE)"
   ]
  },
  {
   "cell_type": "markdown",
   "id": "43e18646",
   "metadata": {},
   "source": [
    "## 정수 인코딩과 패딩\n",
    "- 단어집합을 생성한 후에는 서브워드텍스트인코더의 토크나이저로 정수인코딩을 진행할 수 있다. \n",
    "- 이는 토크나이저의 `.encode()`를 사용하여 가능하다.\n",
    "- 우선 임의로 선택한 20번 질문 샘플, 즉 questions[20]을 가지고 정수인코딩을 진행해보자\n",
    "- 반대로 `decode()`를 사용하여 기존의 텍스트시퀀스로 복원할 수도 있다"
   ]
  },
  {
   "cell_type": "code",
   "execution_count": 33,
   "id": "86d37480",
   "metadata": {},
   "outputs": [
    {
     "name": "stdout",
     "output_type": "stream",
     "text": [
      "임의의 질문 샘플을 정수인코딩 : [5766, 611, 3509, 141, 685, 3747, 849]\n"
     ]
    }
   ],
   "source": [
    "print('임의의 질문 샘플을 정수인코딩 : {}'.format(tokenizer.encode(questions[20])))"
   ]
  },
  {
   "cell_type": "code",
   "execution_count": 34,
   "id": "c7396afd",
   "metadata": {
    "scrolled": true
   },
   "outputs": [
    {
     "name": "stdout",
     "output_type": "stream",
     "text": [
      "정수 인코딩 후의 문장: [5766, 611, 3509, 141, 685, 3747, 849]\n",
      "기존 문장: 가스비 비싼데 감기 걸리겠어\n"
     ]
    }
   ],
   "source": [
    "# 임의의 입력 문장을 sample_string에 저장\n",
    "sample_string = questions[20]\n",
    "\n",
    "# encode() : 텍스트시퀀스 >> 정수시퀀스\n",
    "tokenized_string = tokenizer.encode(sample_string)\n",
    "print('정수 인코딩 후의 문장: {}'.format(tokenized_string))\n",
    "\n",
    "# decode() : 정수시퀀스 >> 텍스트시퀀스\n",
    "original_string = tokenizer.decode(tokenized_string)\n",
    "print('기존 문장: {}'.format(original_string))"
   ]
  },
  {
   "cell_type": "markdown",
   "id": "2e99d228",
   "metadata": {},
   "source": [
    "- `decode()`하면 서브워드들까지 다시 붙여서 기존 단어로 복워해준다."
   ]
  },
  {
   "cell_type": "code",
   "execution_count": 35,
   "id": "23f2379b",
   "metadata": {},
   "outputs": [
    {
     "name": "stdout",
     "output_type": "stream",
     "text": [
      "5766 ----> 가스\n",
      "611 ----> 비 \n",
      "3509 ----> 비싼\n",
      "141 ----> 데 \n",
      "685 ----> 감기 \n",
      "3747 ----> 걸리\n",
      "849 ----> 겠어\n"
     ]
    }
   ],
   "source": [
    "# 각 정수는 각 단어와 어떻게 mapping되는지 벙렬로 출력\n",
    "# 서브워드텍스트인코더는 의미있는 단위의 서브워드로 토크나이징한다. 띄어쓰기 단위x 형태소분석단위x\n",
    "\n",
    "for ts in tokenized_string:\n",
    "    print('{} ----> {}'.format(ts, tokenizer.decode([ts])))"
   ]
  },
  {
   "cell_type": "markdown",
   "id": "a2635f76",
   "metadata": {},
   "source": [
    "- 이번에는 전체데이터에 대해서 정수인코딩과 패딩을 진행\n",
    "    - 패딩 길이는 40으로 셋팅"
   ]
  },
  {
   "cell_type": "code",
   "execution_count": 36,
   "id": "bcf8086c",
   "metadata": {},
   "outputs": [],
   "source": [
    "MAX_LENGTH = 40\n",
    "\n",
    "# 토큰화 / 정수인코딩 / 시작토큰과 종료토큰 추가 / 패딩\n",
    "def tokenize_and_filter(inputs, outputs):\n",
    "    tokenized_inputs, tokenized_outputs = [], []\n",
    "    \n",
    "    for (sentence1, sentence2) in zip(inputs, outputs):\n",
    "        # encode(토큰화 + 정수인코딩), 시작토큰과 종료토큰 추가\n",
    "        sentence1 = START_TOKEN + tokenizer.encode(sentence1) + END_TOKEN\n",
    "        sentence2 = START_TOKEN + tokenizer.encode(sentence2) + END_TOKEN\n",
    "        \n",
    "        tokenized_inputs.append(sentence1)\n",
    "        tokenized_outputs.append(sentence2)\n",
    "        \n",
    "    # 패딩\n",
    "    tokenized_inputs = tf.keras.preprocessing.sequence.pad_sequences(tokenized_inputs, maxlen = MAX_LENGTH, padding = 'post')\n",
    "    tokenized_outputs = tf.keras.preprocessing.sequence.pad_sequences(tokenized_outputs, maxlen = MAX_LENGTH, padding = 'post')\n",
    "    \n",
    "    return tokenized_inputs, tokenized_outputs"
   ]
  },
  {
   "cell_type": "code",
   "execution_count": 37,
   "id": "a4d4d3d3",
   "metadata": {},
   "outputs": [],
   "source": [
    "questions, answers = tokenize_and_filter(questions, answers)"
   ]
  },
  {
   "cell_type": "code",
   "execution_count": 38,
   "id": "0d2bee66",
   "metadata": {},
   "outputs": [
    {
     "name": "stdout",
     "output_type": "stream",
     "text": [
      "질문 데이터의 크기(shape) :  (11823, 40)\n",
      "답변 데이터의 크기(shape):  (11823, 40)\n"
     ]
    }
   ],
   "source": [
    "# 정수인코딩과 패딩이 진행된 후의 데이터 크기 확인\n",
    "\n",
    "print('질문 데이터의 크기(shape) : ', questions.shape)\n",
    "print('답변 데이터의 크기(shape): ', answers.shape)"
   ]
  },
  {
   "cell_type": "code",
   "execution_count": 39,
   "id": "6ce6889a",
   "metadata": {},
   "outputs": [
    {
     "name": "stdout",
     "output_type": "stream",
     "text": [
      "[8178 7915 4207 3060   41 8179    0    0    0    0    0    0    0    0\n",
      "    0    0    0    0    0    0    0    0    0    0    0    0    0    0\n",
      "    0    0    0    0    0    0    0    0    0    0    0    0]\n",
      "[8178 3844   74 7894    1 8179    0    0    0    0    0    0    0    0\n",
      "    0    0    0    0    0    0    0    0    0    0    0    0    0    0\n",
      "    0    0    0    0    0    0    0    0    0    0    0    0]\n"
     ]
    }
   ],
   "source": [
    "# 임의로 0번 샘플을 출력해보자\n",
    "\n",
    "print(questions[0])\n",
    "print(answers[0])\n",
    "\n",
    "## 길이를 40으로 맞추기 위해 0으로 패딩한 결과를 확인할 수 있다"
   ]
  },
  {
   "cell_type": "markdown",
   "id": "00753bcc",
   "metadata": {},
   "source": [
    "## 인코더와 디코더의 입력, 그리고 레이블 만들기"
   ]
  },
  {
   "cell_type": "markdown",
   "id": "b95d26b7",
   "metadata": {},
   "source": [
    "- `tf.data.Dataset`을 사용해 데이터를 배치단위로 불러올 수 있다."
   ]
  },
  {
   "cell_type": "code",
   "execution_count": 40,
   "id": "e0ce9f25",
   "metadata": {},
   "outputs": [],
   "source": [
    "# TF의 dataset을 이용해 셔플(shuffle)을 수행하되, 배치크기로 데이터를 묶는다.\n",
    "# 또한 이 과정에서 교사강요(teaching enforcing)을 사용하기 위해 디코더의 입력과 실제값 시퀀스를 구성한다.\n",
    "BATCH_SIZE = 64\n",
    "BUFFER_SIZE = 20000\n",
    "\n",
    "# 디코더의 실제값 시퀀스에서는 시작토큰을 제거해야 한다.\n",
    "dataset = tf.data.Dataset.from_tensor_slices((\n",
    "{\n",
    "    'inputs' : questions,\n",
    "    'dec_inputs' : answers[:, :-1] # 디코더의 입력. 마지막 패딩토큰이 제거된다\n",
    "},\n",
    "{\n",
    "    'outputs' : answers[:, 1:] # 시작토큰이 제거된다\n",
    "},))\n",
    "\n",
    "dataset = dataset.cache()\n",
    "dataset = dataset.shuffle(BUFFER_SIZE)\n",
    "dataset = dataset.batch(BATCH_SIZE)\n",
    "dataset = dataset.prefetch(tf.data.experimental.AUTOTUNE)"
   ]
  },
  {
   "cell_type": "code",
   "execution_count": 41,
   "id": "4cfd574f",
   "metadata": {},
   "outputs": [
    {
     "name": "stdout",
     "output_type": "stream",
     "text": [
      "[8178 3844   74 7894    1 8179    0    0    0    0    0    0    0    0\n",
      "    0    0    0    0    0    0    0    0    0    0    0    0    0    0\n",
      "    0    0    0    0    0    0    0    0    0    0    0    0]\n",
      "[[8178 3844   74 7894    1 8179    0    0    0    0    0    0    0    0\n",
      "     0    0    0    0    0    0    0    0    0    0    0    0    0    0\n",
      "     0    0    0    0    0    0    0    0    0    0    0]]\n",
      "[[3844   74 7894    1 8179    0    0    0    0    0    0    0    0    0\n",
      "     0    0    0    0    0    0    0    0    0    0    0    0    0    0\n",
      "     0    0    0    0    0    0    0    0    0    0    0]]\n"
     ]
    }
   ],
   "source": [
    "print(answers[0]) # 기존샘플\n",
    "print(answers[:1][:, :-1]) # 마지막 패딩토큰 제거하면서 길이가 39\n",
    "print(answers[:1][:, 1:]) # 시작토큰 제거. 길이는 역시 39"
   ]
  },
  {
   "cell_type": "markdown",
   "id": "5b9fa820",
   "metadata": {},
   "source": [
    "## 트랜스포머 만들기"
   ]
  },
  {
   "cell_type": "code",
   "execution_count": 69,
   "id": "b6c49212",
   "metadata": {},
   "outputs": [
    {
     "name": "stdout",
     "output_type": "stream",
     "text": [
      "(1, 8180, 256)\n",
      "(1, 8180, 256)\n"
     ]
    }
   ],
   "source": [
    "tf.keras.backend.clear_session()\n",
    "\n",
    "# hyperparameter\n",
    "D_MODEL = 256\n",
    "NUM_LAYERS = 2\n",
    "NUM_HEADS = 8\n",
    "DFF = 512\n",
    "DROPOUT = 0.1\n",
    "\n",
    "model = transformer(vocab_size = VOCAB_SIZE,\n",
    "                   num_layers = NUM_LAYERS,\n",
    "                   dff = DFF,\n",
    "                   d_model = D_MODEL,\n",
    "                   num_heads = NUM_HEADS,\n",
    "                   dropout = DROPOUT)"
   ]
  },
  {
   "cell_type": "code",
   "execution_count": 71,
   "id": "11210e25",
   "metadata": {},
   "outputs": [],
   "source": [
    "# 학습률, Optimizer 정의, model compile\n",
    "\n",
    "learning_rate = CustomSchedule(D_MODEL)\n",
    "\n",
    "optimizer = tf.keras.optimizers.Adam(learning_rate, beta_1 = .9, beta_2 = .98, epsilon = 1e-9)\n",
    "\n",
    "def accuracy(y_true, y_pred):\n",
    "    # 레이블의 크기는 (batch_size, MAX_LENGTH - 1)\n",
    "    y_true = tf.reshape(y_true, shape = (-1, MAX_LENGTH - 1))\n",
    "    return tf.keras.metrics.sparse_categorical_accuracy(y_true, y_pred)\n",
    "\n",
    "model.compile(optimizer = optimizer, loss = loss_function, metrics = [accuracy])"
   ]
  },
  {
   "cell_type": "code",
   "execution_count": 73,
   "id": "7c243f05",
   "metadata": {
    "scrolled": true
   },
   "outputs": [
    {
     "name": "stdout",
     "output_type": "stream",
     "text": [
      "Epoch 1/50\n",
      "185/185 [==============================] - 10s 53ms/step - loss: 0.9847 - accuracy: 0.0513\n",
      "Epoch 2/50\n",
      "185/185 [==============================] - 10s 53ms/step - loss: 0.9161 - accuracy: 0.0551\n",
      "Epoch 3/50\n",
      "185/185 [==============================] - 10s 53ms/step - loss: 0.8570 - accuracy: 0.0584\n",
      "Epoch 4/50\n",
      "185/185 [==============================] - 10s 52ms/step - loss: 0.7949 - accuracy: 0.0633\n",
      "Epoch 5/50\n",
      "185/185 [==============================] - 10s 53ms/step - loss: 0.7267 - accuracy: 0.0698\n",
      "Epoch 6/50\n",
      "185/185 [==============================] - 10s 53ms/step - loss: 0.6522 - accuracy: 0.0779\n",
      "Epoch 7/50\n",
      "185/185 [==============================] - 10s 53ms/step - loss: 0.5725 - accuracy: 0.0865\n",
      "Epoch 8/50\n",
      "185/185 [==============================] - 10s 52ms/step - loss: 0.4896 - accuracy: 0.0964\n",
      "Epoch 9/50\n",
      "185/185 [==============================] - 10s 52ms/step - loss: 0.4074 - accuracy: 0.1065\n",
      "Epoch 10/50\n",
      "185/185 [==============================] - 10s 52ms/step - loss: 0.3277 - accuracy: 0.1175\n",
      "Epoch 11/50\n",
      "185/185 [==============================] - 10s 52ms/step - loss: 0.2552 - accuracy: 0.1283\n",
      "Epoch 12/50\n",
      "185/185 [==============================] - 10s 52ms/step - loss: 0.1934 - accuracy: 0.1381\n",
      "Epoch 13/50\n",
      "185/185 [==============================] - 10s 52ms/step - loss: 0.1407 - accuracy: 0.1473\n",
      "Epoch 14/50\n",
      "185/185 [==============================] - 10s 53ms/step - loss: 0.1020 - accuracy: 0.1545\n",
      "Epoch 15/50\n",
      "185/185 [==============================] - 10s 53ms/step - loss: 0.0754 - accuracy: 0.1592\n",
      "Epoch 16/50\n",
      "185/185 [==============================] - 10s 53ms/step - loss: 0.0586 - accuracy: 0.1623\n",
      "Epoch 17/50\n",
      "185/185 [==============================] - 10s 53ms/step - loss: 0.0504 - accuracy: 0.1635\n",
      "Epoch 18/50\n",
      "185/185 [==============================] - 10s 53ms/step - loss: 0.0449 - accuracy: 0.1645\n",
      "Epoch 19/50\n",
      "185/185 [==============================] - 10s 53ms/step - loss: 0.0409 - accuracy: 0.1653\n",
      "Epoch 20/50\n",
      "185/185 [==============================] - 10s 53ms/step - loss: 0.0396 - accuracy: 0.1655\n",
      "Epoch 21/50\n",
      "185/185 [==============================] - 10s 53ms/step - loss: 0.0351 - accuracy: 0.1664\n",
      "Epoch 22/50\n",
      "185/185 [==============================] - 10s 53ms/step - loss: 0.0301 - accuracy: 0.1675\n",
      "Epoch 23/50\n",
      "185/185 [==============================] - 10s 53ms/step - loss: 0.0271 - accuracy: 0.1684\n",
      "Epoch 24/50\n",
      "185/185 [==============================] - 10s 53ms/step - loss: 0.0235 - accuracy: 0.1693\n",
      "Epoch 25/50\n",
      "185/185 [==============================] - 10s 53ms/step - loss: 0.0209 - accuracy: 0.1699\n",
      "Epoch 26/50\n",
      "185/185 [==============================] - 10s 53ms/step - loss: 0.0198 - accuracy: 0.1702\n",
      "Epoch 27/50\n",
      "185/185 [==============================] - 10s 53ms/step - loss: 0.0173 - accuracy: 0.1709\n",
      "Epoch 28/50\n",
      "185/185 [==============================] - 10s 53ms/step - loss: 0.0158 - accuracy: 0.1712\n",
      "Epoch 29/50\n",
      "185/185 [==============================] - 10s 53ms/step - loss: 0.0150 - accuracy: 0.1714\n",
      "Epoch 30/50\n",
      "185/185 [==============================] - 10s 53ms/step - loss: 0.0139 - accuracy: 0.1716\n",
      "Epoch 31/50\n",
      "185/185 [==============================] - 10s 53ms/step - loss: 0.0128 - accuracy: 0.1720\n",
      "Epoch 32/50\n",
      "185/185 [==============================] - 10s 53ms/step - loss: 0.0117 - accuracy: 0.1722\n",
      "Epoch 33/50\n",
      "185/185 [==============================] - 10s 53ms/step - loss: 0.0115 - accuracy: 0.1724\n",
      "Epoch 34/50\n",
      "185/185 [==============================] - 10s 53ms/step - loss: 0.0103 - accuracy: 0.1726\n",
      "Epoch 35/50\n",
      "185/185 [==============================] - 10s 52ms/step - loss: 0.0099 - accuracy: 0.1727\n",
      "Epoch 36/50\n",
      "185/185 [==============================] - 10s 53ms/step - loss: 0.0091 - accuracy: 0.1729\n",
      "Epoch 37/50\n",
      "185/185 [==============================] - 10s 53ms/step - loss: 0.0091 - accuracy: 0.1729\n",
      "Epoch 38/50\n",
      "185/185 [==============================] - 10s 53ms/step - loss: 0.0085 - accuracy: 0.1730\n",
      "Epoch 39/50\n",
      "185/185 [==============================] - 10s 52ms/step - loss: 0.0076 - accuracy: 0.1733\n",
      "Epoch 40/50\n",
      "185/185 [==============================] - 10s 52ms/step - loss: 0.0074 - accuracy: 0.1733\n",
      "Epoch 41/50\n",
      "185/185 [==============================] - 10s 53ms/step - loss: 0.0072 - accuracy: 0.1734\n",
      "Epoch 42/50\n",
      "185/185 [==============================] - 10s 53ms/step - loss: 0.0067 - accuracy: 0.1735\n",
      "Epoch 43/50\n",
      "185/185 [==============================] - 10s 53ms/step - loss: 0.0069 - accuracy: 0.1735\n",
      "Epoch 44/50\n",
      "185/185 [==============================] - 10s 53ms/step - loss: 0.0066 - accuracy: 0.1735\n",
      "Epoch 45/50\n",
      "185/185 [==============================] - 10s 52ms/step - loss: 0.0062 - accuracy: 0.1736\n",
      "Epoch 46/50\n",
      "185/185 [==============================] - 10s 53ms/step - loss: 0.0063 - accuracy: 0.1735\n",
      "Epoch 47/50\n",
      "185/185 [==============================] - 10s 53ms/step - loss: 0.0059 - accuracy: 0.1737\n",
      "Epoch 48/50\n",
      "185/185 [==============================] - 10s 53ms/step - loss: 0.0054 - accuracy: 0.1738\n",
      "Epoch 49/50\n",
      "185/185 [==============================] - 10s 53ms/step - loss: 0.0053 - accuracy: 0.1739\n",
      "Epoch 50/50\n",
      "185/185 [==============================] - 10s 52ms/step - loss: 0.0051 - accuracy: 0.1739\n"
     ]
    },
    {
     "data": {
      "text/plain": [
       "<keras.callbacks.History at 0x2696b1862b0>"
      ]
     },
     "execution_count": 73,
     "metadata": {},
     "output_type": "execute_result"
    }
   ],
   "source": [
    "EPOCHS = 50\n",
    "\n",
    "model.fit(dataset, epochs = EPOCHS)"
   ]
  },
  {
   "cell_type": "markdown",
   "id": "6ed9e34f",
   "metadata": {},
   "source": [
    "## 챗봇 평가하기\n",
    "- 3개의 함수 구현\n",
    "    - predict > evaluate > preprocess_sentence \n",
    "        1. 입력값 들어오면 `preprocess_sentence`함수에서 문자열에 대한 전처리 수행 (해당 전처리는 학습 전 질문데이터와 답변데이터에서 했던 전처리와 동일함)\n",
    "        2. 전처리가 진행된 문자열에 대해 `evaluate`는 트랜스포머 모델에 전처리가 진행된 입력값을 전달\n",
    "        3. 디코더를 통해 계속해서 현재 시점의 예측, 즉, 챗봇의 대답에 해당하는 단어를 순차적으로 예측한다 (여기서 예측된 단어들은 문자열이 아니라 정수인 상태이므로, evaluate함수가 리턴하는 것은 결과적으로 상수시퀀스다)\n",
    "        4. `predict`함수는 `evaluate`함수로부터 전달받은 챗봇의 대답에 해당하는 정수시퀀스를 문자열로 다시 디코딩\n",
    "        5. 사용자에게 챗봇의 대답 출력"
   ]
  },
  {
   "cell_type": "code",
   "execution_count": 74,
   "id": "e033cc0d",
   "metadata": {},
   "outputs": [],
   "source": [
    "def preprocess_sentence(sentence):\n",
    "    # 단어와 구두점 사이에 공백 추가.\n",
    "    sentence = re.sub(r\"([?.!,])\", r\" \\1 \", sentence)\n",
    "    sentence = sentence.strip()\n",
    "    return sentence"
   ]
  },
  {
   "cell_type": "code",
   "execution_count": 75,
   "id": "6585e7e4",
   "metadata": {},
   "outputs": [],
   "source": [
    "def evaluate(sentence):\n",
    "    # 입력문장 전처리\n",
    "    sentence = preprocess_sentence(sentence)\n",
    "    \n",
    "    # 입력문장에 시작토큰과 종료토큰 추가\n",
    "    sentence = tf.expand_dims(START_TOKEN + tokenizer.encode(sentence) + END_TOKEN, axis = 0)\n",
    "    \n",
    "    output = tf.expand_dims(START_TOKEN, 0)\n",
    "    \n",
    "    # 디코더의 예측시작\n",
    "    for i in range(MAX_LENGTH):\n",
    "        predictions = model(inputs = [sentence, output], training = False)\n",
    "        \n",
    "        # 현재시점의 예측단어를 받아오기\n",
    "        predictions = predictions[:, -1:, :]\n",
    "        predicted_id = tf.cast(tf.argmax(predictions, axis = -1), tf.int32)\n",
    "        \n",
    "        # 만약 현재시점의 예측단어가 종료토큰이라면 예측을 중단\n",
    "        if tf.equal(predicted_id, END_TOKEN[0]):\n",
    "            break\n",
    "            \n",
    "        # 현재시점의 예측단어를 output에 연결\n",
    "        # output은 for문의 다음루프에서 디코더의 입력이 될것.\n",
    "        output = tf.concat([output, predicted_id], axis = -1)\n",
    "        \n",
    "    # 단어의 예측이 모두 끝났다면, output을 리턴\n",
    "    return tf.squeeze(output, axis = 0)"
   ]
  },
  {
   "cell_type": "code",
   "execution_count": 76,
   "id": "4d6a3165",
   "metadata": {},
   "outputs": [],
   "source": [
    "def predict(sentence):\n",
    "    prediction = evaluate(sentence)\n",
    "    \n",
    "    # prediction == 디코더가 리턴한 챗봇의 대답에 해당하는 정수시퀀스\n",
    "    # tokenizer.decode()를 통해 정수 시퀀스를 문자열로 디코딩.\n",
    "    predicted_sentence = tokenizer.decode([i for i in prediction if i < tokenizer.vocab_size])\n",
    "    \n",
    "    print('Input : {}'.format(sentence))\n",
    "    print('Output : {}'.format(predicted_sentence))\n",
    "    \n",
    "    return predicted_sentence"
   ]
  },
  {
   "cell_type": "code",
   "execution_count": 77,
   "id": "b330ff19",
   "metadata": {},
   "outputs": [
    {
     "name": "stdout",
     "output_type": "stream",
     "text": [
      "Input : 영화 볼래?\n",
      "Output : 최신 영화가 좋을 것 같아요 .\n"
     ]
    }
   ],
   "source": [
    "output = predict(\"영화 볼래?\")"
   ]
  },
  {
   "cell_type": "code",
   "execution_count": 78,
   "id": "a34cc402",
   "metadata": {},
   "outputs": [
    {
     "name": "stdout",
     "output_type": "stream",
     "text": [
      "Input : 오늘 날씨가 너무 추워\n",
      "Output : 집밖에 나가기가 힘들것 같아요 .\n"
     ]
    }
   ],
   "source": [
    "output = predict('오늘 날씨가 너무 추워')"
   ]
  },
  {
   "cell_type": "code",
   "execution_count": 80,
   "id": "095f7feb",
   "metadata": {},
   "outputs": [
    {
     "name": "stdout",
     "output_type": "stream",
     "text": [
      "Input : 게임하고싶다\n",
      "Output : 저도요 !\n"
     ]
    }
   ],
   "source": [
    "output = predict('게임하고싶다')"
   ]
  },
  {
   "cell_type": "code",
   "execution_count": 81,
   "id": "0fd99084",
   "metadata": {},
   "outputs": [
    {
     "name": "stdout",
     "output_type": "stream",
     "text": [
      "Input : 나랑 게임하자!\n",
      "Output : 게임하세요 !\n"
     ]
    }
   ],
   "source": [
    "output = predict('나랑 게임하자!')"
   ]
  },
  {
   "cell_type": "code",
   "execution_count": 82,
   "id": "89b12808",
   "metadata": {},
   "outputs": [
    {
     "name": "stdout",
     "output_type": "stream",
     "text": [
      "Input : 밥 먹었어?\n",
      "Output : 저는 배터리가 밥이예요 .\n"
     ]
    }
   ],
   "source": [
    "output = predict('밥 먹었어?')"
   ]
  },
  {
   "cell_type": "code",
   "execution_count": 84,
   "id": "f69fa174",
   "metadata": {},
   "outputs": [
    {
     "name": "stdout",
     "output_type": "stream",
     "text": [
      "Input : 오늘 하루 어땠어?\n",
      "Output : 오늘도 이렇게 이겨냈어요 .\n"
     ]
    }
   ],
   "source": [
    "output = predict('오늘 하루 어땠어?')"
   ]
  },
  {
   "cell_type": "code",
   "execution_count": 85,
   "id": "4b083999",
   "metadata": {},
   "outputs": [
    {
     "name": "stdout",
     "output_type": "stream",
     "text": [
      "Input : 하루종일 누워있고싶다\n",
      "Output : 쉬운 일이 아니죠 .\n"
     ]
    }
   ],
   "source": [
    "output = predict('하루종일 누워있고싶다')"
   ]
  },
  {
   "cell_type": "code",
   "execution_count": 89,
   "id": "2a3f8e9f",
   "metadata": {
    "scrolled": true
   },
   "outputs": [
    {
     "name": "stdout",
     "output_type": "stream",
     "text": [
      "Input : 너 되게 똑똑하다!\n",
      "Output : 지금도 충분해요 .\n"
     ]
    }
   ],
   "source": [
    "output = predict('너 되게 똑똑하다!')"
   ]
  },
  {
   "cell_type": "code",
   "execution_count": 91,
   "id": "481439c3",
   "metadata": {},
   "outputs": [
    {
     "name": "stdout",
     "output_type": "stream",
     "text": [
      "Input : 1 더하기 1은 뭘까?\n",
      "Output : 1은 알게 해야죠 .\n"
     ]
    }
   ],
   "source": [
    "output = predict('1 더하기 1은 뭘까?')"
   ]
  },
  {
   "cell_type": "code",
   "execution_count": null,
   "id": "19d573ba",
   "metadata": {},
   "outputs": [],
   "source": []
  },
  {
   "cell_type": "code",
   "execution_count": null,
   "id": "50827477",
   "metadata": {},
   "outputs": [],
   "source": []
  },
  {
   "cell_type": "markdown",
   "id": "7545c5b7",
   "metadata": {},
   "source": [
    "# Multi-head Self Attention for Text Classification\n",
    "- 트랜스포머의 인코더는 셀프어텐션이라는 메커니즘을 통해 문장을 이해한다.\n",
    "- RNN과 그 동작 방식은 다르지만, RNN이 텍스트분류나 개체명인식과 같은 다양한 자연어처리 태스크에 쓰일 수 있다면 트랜스포머의 인코더 또한 가능할 것이다.\n",
    "- 실제로 트랜스포머의 인코더는 다양한 분야의 자연어처리 태스크에서 사용될 수 있었고, 이 아이디어는 후에 BERT라는 모델로 이어지게된다."
   ]
  },
  {
   "cell_type": "markdown",
   "id": "1a30e3c5",
   "metadata": {},
   "source": [
    "## 멀티헤드어텐션"
   ]
  },
  {
   "cell_type": "code",
   "execution_count": 1,
   "id": "25310507",
   "metadata": {},
   "outputs": [],
   "source": [
    "import tensorflow as tf"
   ]
  },
  {
   "cell_type": "code",
   "execution_count": 2,
   "id": "03ed0321",
   "metadata": {},
   "outputs": [],
   "source": [
    "class MultiHeadAttention(tf.keras.layers.Layer):\n",
    "    def __init__(self, embedding_dim, num_heads = 8):\n",
    "        super(MultiHeadAttention, self).__init__()\n",
    "        self.embedding_dim = embedding_dim   # d_model\n",
    "        self.num_heads = num_heads\n",
    "        \n",
    "        assert embedding_dim % self.num_heads == 0\n",
    "        \n",
    "        self.projection_dim = embedding_dim // num_heads\n",
    "        self.query_dense = tf.keras.layers.Dense(embedding_dim)\n",
    "        self.key_dense = tf.keras.layers.Dense(embedding_dim)\n",
    "        self.value_dense = tf.keras.layers.Dense(embedding_dim)\n",
    "        self.dense = tf.keras.layers.Dense(embedding_dim)\n",
    "        \n",
    "    def scaled_dot_product_attention(self, query, key, value):\n",
    "        matmul_qk = tf.matmul(query, key, transpose_b = True)\n",
    "        depth = tf.cast(tf.shape(key)[-1], tf.float32)\n",
    "        logits = matmul_qk / tf.math.sqrt(depth)\n",
    "        attention_weights = tf.nn.softmax(logits, axis = -1)\n",
    "        output = tf.matmul(attention_weights, value)\n",
    "        return output, attention_weights\n",
    "    \n",
    "    def split_heads(self, x, batch_size):\n",
    "        x = tf.reshape(x, (batch_size, -1, self.num_heads, self.projection_dim))\n",
    "        return tf.transpose(x, perm = [0, 2, 1, 3])\n",
    "    \n",
    "    def call(self, inputs):\n",
    "        batch_size = tf.shape(inputs)[0]\n",
    "        \n",
    "        query = self.query_dense(inputs)\n",
    "        key = self.key_dense(inputs)\n",
    "        value = self.value_dense(inputs)\n",
    "        \n",
    "        query = self.split_heads(query, batch_size)\n",
    "        key = self.split_heads(key, batch_size)\n",
    "        value = self.split_heads(value, batch_size)\n",
    "        \n",
    "        scaled_attention, _ = self.scaled_dot_product_attention(query, key, value)\n",
    "        \n",
    "        scaled_attention = tf.transpose(scaled_attention, perm = [0, 2, 1, 3])\n",
    "        \n",
    "        concat_attention = tf.reshape(scaled_attention, (batch_size, -1, self.embedding_dim))\n",
    "        outputs = self.dense(concat_attention)\n",
    "        return outputs"
   ]
  },
  {
   "cell_type": "markdown",
   "id": "6003d133",
   "metadata": {},
   "source": [
    "## 인코더 설계하기\n",
    "- 멀티헤드어텐션에 두번째 서브층인 position-wise feed forward neural network를 추가해 인코더 클래스를 설계한다."
   ]
  },
  {
   "cell_type": "code",
   "execution_count": 3,
   "id": "c539b1ba",
   "metadata": {},
   "outputs": [],
   "source": [
    "class TransformerBlock(tf.keras.layers.Layer):\n",
    "    def __init__(self, embedding_dim, num_heads, dff, rate=0.1):\n",
    "        super(TransformerBlock, self).__init__()\n",
    "        self.att = MultiHeadAttention(embedding_dim, num_heads)\n",
    "        self.ffn = tf.keras.Sequential(\n",
    "            [tf.keras.layers.Dense(dff, activation=\"relu\"),\n",
    "             tf.keras.layers.Dense(embedding_dim),]\n",
    "        )\n",
    "        self.layernorm1 = tf.keras.layers.LayerNormalization(epsilon=1e-6)\n",
    "        self.layernorm2 = tf.keras.layers.LayerNormalization(epsilon=1e-6)\n",
    "        self.dropout1 = tf.keras.layers.Dropout(rate)\n",
    "        self.dropout2 = tf.keras.layers.Dropout(rate)\n",
    "\n",
    "    def call(self, inputs, training):\n",
    "        attn_output = self.att(inputs) # 첫번째 서브층 : 멀티 헤드 어텐션\n",
    "        attn_output = self.dropout1(attn_output, training=training)\n",
    "        out1 = self.layernorm1(inputs + attn_output) # Add & Norm\n",
    "        ffn_output = self.ffn(out1) # 두번째 서브층 : 포지션 와이즈 피드 포워드 신경망\n",
    "        ffn_output = self.dropout2(ffn_output, training=training)\n",
    "        return self.layernorm2(out1 + ffn_output) # Add & Norm"
   ]
  },
  {
   "cell_type": "markdown",
   "id": "5529a32e",
   "metadata": {},
   "source": [
    "## 포지션 임베딩\n",
    "- 위치정보 자체를 학습을 하도록하는포지션임베딩이라는 방법을 사용하자.\n",
    "- 이는 BERT에서 사용하는 방법이기도하다.\n",
    "- 포지션 임베딩은 임베딩 층을 사용하되, 위치벡터를 학습하도록하므로 임베딩 층의 첫번째 인자로 단어 집합의 크기가 아니라 문장의 최대 길이를 넣어준다."
   ]
  },
  {
   "cell_type": "code",
   "execution_count": 4,
   "id": "47728db0",
   "metadata": {},
   "outputs": [],
   "source": [
    "class TokenAndPositionEmbedding(tf.keras.layers.Layer):\n",
    "    def __init__(self, max_len, vocab_size, embedding_dim):\n",
    "        super(TokenAndPositionEmbedding, self).__init__()\n",
    "        self.token_emb = tf.keras.layers.Embedding(vocab_size, embedding_dim)\n",
    "        self.pos_emb = tf.keras.layers.Embedding(max_len, embedding_dim)\n",
    "        \n",
    "    def call(self, x):\n",
    "        max_len = tf.shape(x)[-1]\n",
    "        positions = tf.range(start = 0, limit = max_len, delta = 1)\n",
    "        positions = self.pos_emb(positions)\n",
    "        x = self.token_emb(x)\n",
    "        return x + positions"
   ]
  },
  {
   "cell_type": "markdown",
   "id": "631581d7",
   "metadata": {},
   "source": [
    "## 데이터 로드 및 전처리"
   ]
  },
  {
   "cell_type": "code",
   "execution_count": 5,
   "id": "683497a1",
   "metadata": {},
   "outputs": [
    {
     "name": "stdout",
     "output_type": "stream",
     "text": [
      "25000\n",
      "25000\n"
     ]
    }
   ],
   "source": [
    "vocab_size = 20000\n",
    "max_len = 200\n",
    "\n",
    "(x_train, y_train), (x_test, y_test) = tf.keras.datasets.imdb.load_data(num_words = vocab_size)\n",
    "print(len(x_train))\n",
    "print(len(x_test))"
   ]
  },
  {
   "cell_type": "code",
   "execution_count": 6,
   "id": "a1b05525",
   "metadata": {},
   "outputs": [],
   "source": [
    "# 전처리\n",
    "x_train = tf.keras.preprocessing.sequence.pad_sequences(x_train, maxlen = max_len)\n",
    "x_test = tf.keras.preprocessing.sequence.pad_sequences(x_test, maxlen = max_len)"
   ]
  },
  {
   "cell_type": "markdown",
   "id": "ddf00d66",
   "metadata": {},
   "source": [
    "## 트랜스포머를 이용한 IMDB 리뷰 분류"
   ]
  },
  {
   "cell_type": "code",
   "execution_count": 7,
   "id": "bbaa882d",
   "metadata": {},
   "outputs": [
    {
     "name": "stdout",
     "output_type": "stream",
     "text": [
      "Epoch 1/2\n",
      "782/782 [==============================] - 13s 14ms/step - loss: 0.3722 - acc: 0.8298 - val_loss: 0.2892 - val_acc: 0.8762\n",
      "Epoch 2/2\n",
      "782/782 [==============================] - 11s 14ms/step - loss: 0.1999 - acc: 0.9246 - val_loss: 0.3524 - val_acc: 0.8491\n"
     ]
    }
   ],
   "source": [
    "embedding_dim = 32  ## 각 단어의 임베딩 벡터의 차원\n",
    "num_heads = 2  ## 어텐션 헤드의 수\n",
    "dff = 32  ## 포지션 와이즈 피드 포워드 신경망의 은닉층의 크기\n",
    "\n",
    "inputs = tf.keras.layers.Input(shape = (max_len, ))\n",
    "embedding_layer = TokenAndPositionEmbedding(max_len, vocab_size, embedding_dim)\n",
    "x = embedding_layer(inputs)\n",
    "transformer_block = TransformerBlock(embedding_dim, num_heads, dff)\n",
    "\n",
    "x = transformer_block(x)\n",
    "x = tf.keras.layers.GlobalAveragePooling1D()(x)\n",
    "x = tf.keras.layers.Dropout(0.1)(x)\n",
    "x = tf.keras.layers.Dense(20, activation = 'relu')(x)\n",
    "x = tf.keras.layers.Dropout(0.1)(x)\n",
    "outputs = tf.keras.layers.Dense(2, activation = 'softmax')(x)\n",
    "\n",
    "model = tf.keras.Model(inputs = inputs, outputs = outputs)\n",
    "\n",
    "model.compile(\"adam\", \"sparse_categorical_crossentropy\", metrics = ['acc'])\n",
    "hist = model.fit(x_train, y_train, batch_size = 32, epochs = 2, validation_data = (x_test, y_test))"
   ]
  },
  {
   "cell_type": "code",
   "execution_count": 10,
   "id": "ffdee930",
   "metadata": {},
   "outputs": [
    {
     "name": "stdout",
     "output_type": "stream",
     "text": [
      "782/782 [==============================] - 4s 4ms/step - loss: 0.3524 - acc: 0.8491\n",
      "테스트 정확도 : 0.8490800261497498\n"
     ]
    }
   ],
   "source": [
    "print('테스트 정확도 : {}'.format(model.evaluate(x_test, y_test)[1]))"
   ]
  },
  {
   "cell_type": "code",
   "execution_count": null,
   "id": "5746ba56",
   "metadata": {},
   "outputs": [],
   "source": []
  }
 ],
 "metadata": {
  "kernelspec": {
   "display_name": "Python 3",
   "language": "python",
   "name": "python3"
  },
  "language_info": {
   "codemirror_mode": {
    "name": "ipython",
    "version": 3
   },
   "file_extension": ".py",
   "mimetype": "text/x-python",
   "name": "python",
   "nbconvert_exporter": "python",
   "pygments_lexer": "ipython3",
   "version": "3.8.8"
  },
  "toc": {
   "base_numbering": 1,
   "nav_menu": {},
   "number_sections": true,
   "sideBar": true,
   "skip_h1_title": false,
   "title_cell": "Table of Contents",
   "title_sidebar": "Contents",
   "toc_cell": false,
   "toc_position": {
    "height": "calc(100% - 180px)",
    "left": "10px",
    "top": "150px",
    "width": "255.865px"
   },
   "toc_section_display": true,
   "toc_window_display": true
  },
  "varInspector": {
   "cols": {
    "lenName": 16,
    "lenType": 16,
    "lenVar": 40
   },
   "kernels_config": {
    "python": {
     "delete_cmd_postfix": "",
     "delete_cmd_prefix": "del ",
     "library": "var_list.py",
     "varRefreshCmd": "print(var_dic_list())"
    },
    "r": {
     "delete_cmd_postfix": ") ",
     "delete_cmd_prefix": "rm(",
     "library": "var_list.r",
     "varRefreshCmd": "cat(var_dic_list()) "
    }
   },
   "types_to_exclude": [
    "module",
    "function",
    "builtin_function_or_method",
    "instance",
    "_Feature"
   ],
   "window_display": false
  }
 },
 "nbformat": 4,
 "nbformat_minor": 5
}
