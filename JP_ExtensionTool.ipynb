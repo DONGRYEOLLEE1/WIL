{
 "cells": [
  {
   "cell_type": "markdown",
   "id": "f5ffc86e",
   "metadata": {},
   "source": [
    "# Jupyter notebook Extensions\n",
    "- Documentation : 'https://jupyter-contrib-nbextensions.readthedocs.io/en/latest/'"
   ]
  },
  {
   "cell_type": "markdown",
   "id": "0f481b73",
   "metadata": {},
   "source": [
    "## Installation\n",
    "    1. Anaconda Prompt > pip install jupyter_contrib_nbextensions\n",
    "    2. Anaconda Prompt > jupyter contrib nbextension install --user"
   ]
  },
  {
   "cell_type": "markdown",
   "id": "0cdaf3cb",
   "metadata": {},
   "source": [
    "## 자주사용하는 확장기능\n",
    "*  `Table of Contents` : 목차\n",
    "*  `hinterland` : 자동완성\n",
    "*  `Codefolding` : 코드 접기\n",
    "*  `Collapsible Headings` : 섹션 접기\n",
    "* `ExececuteTime` : 코드 실행 시간"
   ]
  }
 ],
 "metadata": {
  "kernelspec": {
   "display_name": "Python 3 (ipykernel)",
   "language": "python",
   "name": "python3"
  },
  "language_info": {
   "codemirror_mode": {
    "name": "ipython",
    "version": 3
   },
   "file_extension": ".py",
   "mimetype": "text/x-python",
   "name": "python",
   "nbconvert_exporter": "python",
   "pygments_lexer": "ipython3",
   "version": "3.9.7"
  },
  "toc": {
   "base_numbering": 1,
   "nav_menu": {},
   "number_sections": true,
   "sideBar": true,
   "skip_h1_title": false,
   "title_cell": "Table of Contents",
   "title_sidebar": "Contents",
   "toc_cell": false,
   "toc_position": {
    "height": "calc(100% - 180px)",
    "left": "10px",
    "top": "150px",
    "width": "232.604px"
   },
   "toc_section_display": true,
   "toc_window_display": true
  },
  "varInspector": {
   "cols": {
    "lenName": 16,
    "lenType": 16,
    "lenVar": 40
   },
   "kernels_config": {
    "python": {
     "delete_cmd_postfix": "",
     "delete_cmd_prefix": "del ",
     "library": "var_list.py",
     "varRefreshCmd": "print(var_dic_list())"
    },
    "r": {
     "delete_cmd_postfix": ") ",
     "delete_cmd_prefix": "rm(",
     "library": "var_list.r",
     "varRefreshCmd": "cat(var_dic_list()) "
    }
   },
   "types_to_exclude": [
    "module",
    "function",
    "builtin_function_or_method",
    "instance",
    "_Feature"
   ],
   "window_display": false
  }
 },
 "nbformat": 4,
 "nbformat_minor": 5
}
