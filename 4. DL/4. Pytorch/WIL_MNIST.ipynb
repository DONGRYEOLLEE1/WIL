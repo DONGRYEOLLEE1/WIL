{
 "cells": [
  {
   "cell_type": "markdown",
   "id": "a2c78a7b",
   "metadata": {},
   "source": [
    "# 파이토치 MNIST 모델"
   ]
  },
  {
   "cell_type": "markdown",
   "id": "9d37b6fd",
   "metadata": {},
   "source": [
    "## modules import "
   ]
  },
  {
   "cell_type": "code",
   "execution_count": 1,
   "id": "92a64e41",
   "metadata": {},
   "outputs": [],
   "source": [
    "import torch\n",
    "import torch.nn as nn\n",
    "import torch.nn.functional as F\n",
    "import torch.optim as optim\n",
    "from torch.utils.data import Dataset, DataLoader\n",
    "\n",
    "import torchvision\n",
    "import torchvision.datasets\n",
    "import torchvision.transforms as transforms\n",
    "\n",
    "import numpy as np\n",
    "import matplotlib.pyplot as plt\n",
    "plt.style.use('seaborn-white')\n",
    "\n",
    "import os\n",
    "os.environ['KMP_DUPLICATE_LIB_OK']='True'"
   ]
  },
  {
   "cell_type": "markdown",
   "id": "da0f6d11",
   "metadata": {},
   "source": [
    "## 전처리 설정\n",
    "- `transform.Compose`"
   ]
  },
  {
   "cell_type": "code",
   "execution_count": 2,
   "id": "1c9e097d",
   "metadata": {},
   "outputs": [],
   "source": [
    "transform = transforms.Compose([transforms.ToTensor(),\n",
    "                               transforms.Normalize((0.5, ), (0.5, ))])"
   ]
  },
  {
   "cell_type": "markdown",
   "id": "1550533e",
   "metadata": {},
   "source": [
    "## 데이터 로드 및 데이터 확인"
   ]
  },
  {
   "cell_type": "code",
   "execution_count": 3,
   "id": "fbc58a64",
   "metadata": {},
   "outputs": [],
   "source": [
    "trainset = torchvision.datasets.MNIST(root = '',\n",
    "                                     train = True,\n",
    "                                     download = True,\n",
    "                                     transform = transform)\n",
    "\n",
    "testset = torchvision.datasets.MNIST(root = '',\n",
    "                                     train = False,\n",
    "                                     download = True,\n",
    "                                     transform = transform)"
   ]
  },
  {
   "cell_type": "code",
   "execution_count": 5,
   "id": "f63e67d9",
   "metadata": {},
   "outputs": [],
   "source": [
    "train_loader = DataLoader(trainset,\n",
    "                         batch_size = 128,\n",
    "                         shuffle = True,\n",
    "                         num_workers = 2)\n",
    "\n",
    "test_loader = DataLoader(testset,\n",
    "                        batch_size = 128,\n",
    "                        shuffle = False,\n",
    "                        num_workers = 2)"
   ]
  },
  {
   "cell_type": "code",
   "execution_count": 6,
   "id": "06d81d49",
   "metadata": {},
   "outputs": [],
   "source": [
    "image, label = next(iter(train_loader))"
   ]
  },
  {
   "cell_type": "code",
   "execution_count": 7,
   "id": "547054f4",
   "metadata": {},
   "outputs": [
    {
     "data": {
      "text/plain": [
       "(torch.Size([128, 1, 28, 28]), torch.Size([128]))"
      ]
     },
     "execution_count": 7,
     "metadata": {},
     "output_type": "execute_result"
    }
   ],
   "source": [
    "image.shape, label.shape\n",
    "\n",
    "# 128 : Batch_size\n",
    "# 1 : RGB (gray_scale)\n",
    "# 28, 28 : Image Size"
   ]
  },
  {
   "cell_type": "code",
   "execution_count": 8,
   "id": "311f630b",
   "metadata": {},
   "outputs": [],
   "source": [
    "def imshow(img):\n",
    "    img = img / 2 + 0.5\n",
    "    npimg = img.numpy()\n",
    "    fig = plt.figure(figsize = (10, 5))\n",
    "    plt.imshow(np.transpose(npimg, (1, 2, 0)))\n",
    "    plt.show()"
   ]
  },
  {
   "cell_type": "code",
   "execution_count": 10,
   "id": "7d030294",
   "metadata": {},
   "outputs": [
    {
     "data": {
      "image/png": "[encoded data removed]",
      "text/plain": [
       "<Figure size 720x360 with 1 Axes>"
      ]
     },
     "metadata": {},
     "output_type": "display_data"
    }
   ],
   "source": [
    "dataiter = iter(train_loader)\n",
    "images, labels = dataiter.next()\n",
    "imshow(torchvision.utils.make_grid(images[:4]))"
   ]
  },
  {
   "cell_type": "markdown",
   "id": "a559ca2e",
   "metadata": {},
   "source": [
    "## 신경망 구성"
   ]
  },
  {
   "cell_type": "code",
   "execution_count": 13,
   "id": "339d9784",
   "metadata": {},
   "outputs": [
    {
     "name": "stdout",
     "output_type": "stream",
     "text": [
      "Net(\n",
      "  (conv1): Conv2d(1, 6, kernel_size=(3, 3), stride=(1, 1))\n",
      "  (conv2): Conv2d(6, 16, kernel_size=(3, 3), stride=(1, 1))\n",
      "  (fc1): Linear(in_features=400, out_features=120, bias=True)\n",
      "  (fc2): Linear(in_features=120, out_features=84, bias=True)\n",
      "  (fc3): Linear(in_features=84, out_features=10, bias=True)\n",
      ")\n"
     ]
    }
   ],
   "source": [
    "class Net(nn.Module):\n",
    "    \n",
    "    def __init__(self):\n",
    "        super(Net, self).__init__()\n",
    "        \n",
    "        # 신경망구조(아키텍처) 정의\n",
    "        self.conv1 = nn.Conv2d(1, 6, 3)\n",
    "        self.conv2 = nn.Conv2d(6, 16, 3)\n",
    "        self.fc1 = nn.Linear(16 * 5 * 5, 120)\n",
    "        self.fc2 = nn.Linear(120, 84)\n",
    "        ## 최종 output은 10\n",
    "        self.fc3 = nn.Linear(84, 10)\n",
    "        \n",
    "    def forward(self, x):\n",
    "        # Pooling 두번 거치기\n",
    "        x = F.max_pool2d(F.relu(self.conv1(x)), (2, 2))\n",
    "        x = F.max_pool2d(F.relu(self.conv2(x)), 2)\n",
    "        # Flatten으로 모양바꿔주기\n",
    "        x = x.view(-1, self.num_flat_features(x))\n",
    "        x = F.relu(self.fc1(x))\n",
    "        x = F.relu(self.fc2(x))\n",
    "        x = self.fc3(x)\n",
    "        return x\n",
    "    \n",
    "    def num_flat_features(self, x):\n",
    "        size = x.size()[1:]\n",
    "        num_features = 1\n",
    "        for s in size:\n",
    "            num_features *= s\n",
    "        \n",
    "        return num_features\n",
    "    \n",
    "net = Net()\n",
    "print(net)"
   ]
  },
  {
   "cell_type": "markdown",
   "id": "8b0aaf92",
   "metadata": {},
   "source": [
    "- `.parameters()` "
   ]
  },
  {
   "cell_type": "code",
   "execution_count": 14,
   "id": "957238cd",
   "metadata": {},
   "outputs": [
    {
     "name": "stdout",
     "output_type": "stream",
     "text": [
      "10\n",
      "torch.Size([6, 1, 3, 3])\n"
     ]
    }
   ],
   "source": [
    "params = list(net.parameters())\n",
    "print(len(params))\n",
    "print(params[0].size())"
   ]
  },
  {
   "cell_type": "markdown",
   "id": "bde27e97",
   "metadata": {},
   "source": [
    "임의의 값을 넣어 forward값 확인"
   ]
  },
  {
   "cell_type": "code",
   "execution_count": 15,
   "id": "1f22694a",
   "metadata": {
    "scrolled": true
   },
   "outputs": [
    {
     "name": "stdout",
     "output_type": "stream",
     "text": [
      "tensor([[ 0.0473, -0.0055,  0.0644,  0.0894, -0.0903,  0.0756,  0.0812,  0.0202,\n",
      "          0.0237, -0.1663]], grad_fn=<AddmmBackward0>)\n"
     ]
    }
   ],
   "source": [
    "input = torch.randn(1,1, 28, 28)\n",
    "out = net(input)\n",
    "print(out)"
   ]
  },
  {
   "cell_type": "markdown",
   "id": "dff4b793",
   "metadata": {},
   "source": [
    "## 손실함수와 옵티마이저"
   ]
  },
  {
   "cell_type": "code",
   "execution_count": 16,
   "id": "d1b63f03",
   "metadata": {},
   "outputs": [],
   "source": [
    "criterion = nn.CrossEntropyLoss()\n",
    "optimizer = optim.SGD(net.parameters(), lr = 0.001, momentum = 0.9)"
   ]
  },
  {
   "cell_type": "markdown",
   "id": "97af9ab4",
   "metadata": {},
   "source": [
    "## 모델 학습\n",
    "\n",
    "- `optimizer.zero_grad` : 가중치의 그래디언트 초기화\n",
    "\n",
    "- loss 계산\n",
    "\n",
    "- `loss.backward()`\n",
    "\n",
    "- `optmizer.step()` : 업데이트"
   ]
  },
  {
   "cell_type": "markdown",
   "id": "804fcdd2",
   "metadata": {},
   "source": [
    "- 배치수 확인"
   ]
  },
  {
   "cell_type": "code",
   "execution_count": 17,
   "id": "3c780831",
   "metadata": {},
   "outputs": [
    {
     "name": "stdout",
     "output_type": "stream",
     "text": [
      "469\n"
     ]
    }
   ],
   "source": [
    "total_batch = len(train_loader)\n",
    "print(total_batch)"
   ]
  },
  {
   "cell_type": "markdown",
   "id": "63c22a32",
   "metadata": {},
   "source": [
    "- 설명을 위해 `epochs=2`로 지정"
   ]
  },
  {
   "cell_type": "code",
   "execution_count": 19,
   "id": "8efcccb6",
   "metadata": {},
   "outputs": [
    {
     "name": "stdout",
     "output_type": "stream",
     "text": [
      "Epoch: 1, Iter: 100, Loss: 2.284232244491577\n",
      "Epoch: 1, Iter: 200, Loss: 2.268396441936493\n",
      "Epoch: 1, Iter: 300, Loss: 2.2407712292671205\n",
      "Epoch: 1, Iter: 400, Loss: 2.1737748312950136\n",
      "Epoch: 2, Iter: 100, Loss: 1.6765574073791505\n",
      "Epoch: 2, Iter: 200, Loss: 1.009032227396965\n",
      "Epoch: 2, Iter: 300, Loss: 0.7072046357393265\n",
      "Epoch: 2, Iter: 400, Loss: 0.5746664389967918\n"
     ]
    }
   ],
   "source": [
    "for epoch in range(2):\n",
    "    \n",
    "    running_loss = 0.0\n",
    "    for i, data in enumerate(train_loader, 0):\n",
    "        inputs, labels = data\n",
    "        \n",
    "        optimizer.zero_grad()\n",
    "        \n",
    "        outputs = net(inputs)\n",
    "        loss = criterion(outputs, labels)\n",
    "        loss.backward()\n",
    "        optimizer.step()\n",
    "        \n",
    "        running_loss += loss.item()\n",
    "        if i % 100 == 99:\n",
    "            print('Epoch: {}, Iter: {}, Loss: {}'.format(epoch + 1, i + 1, running_loss / 100))\n",
    "            running_loss = 0.0"
   ]
  },
  {
   "cell_type": "markdown",
   "id": "44c60714",
   "metadata": {},
   "source": [
    "## 모델의 저장 및 로드\n",
    "\n",
    "- `torch.save`\n",
    "  - `net.state_dict()`를 저장\n",
    "\n",
    "- `torch.load`\n",
    "  - `load_state_dict`로 모델을 로드"
   ]
  },
  {
   "cell_type": "code",
   "execution_count": 20,
   "id": "4c2dae89",
   "metadata": {},
   "outputs": [],
   "source": [
    "PATH = './mnist_net.pth'\n",
    "torch.save(net.state_dict(), PATH)"
   ]
  },
  {
   "cell_type": "code",
   "execution_count": 21,
   "id": "be447f42",
   "metadata": {},
   "outputs": [
    {
     "data": {
      "text/plain": [
       "<All keys matched successfully>"
      ]
     },
     "execution_count": 21,
     "metadata": {},
     "output_type": "execute_result"
    }
   ],
   "source": [
    "net = Net()\n",
    "net.load_state_dict(torch.load(PATH))"
   ]
  },
  {
   "cell_type": "code",
   "execution_count": 22,
   "id": "c86f42cb",
   "metadata": {},
   "outputs": [
    {
     "data": {
      "text/plain": [
       "<bound method Module.parameters of Net(\n",
       "  (conv1): Conv2d(1, 6, kernel_size=(3, 3), stride=(1, 1))\n",
       "  (conv2): Conv2d(6, 16, kernel_size=(3, 3), stride=(1, 1))\n",
       "  (fc1): Linear(in_features=400, out_features=120, bias=True)\n",
       "  (fc2): Linear(in_features=120, out_features=84, bias=True)\n",
       "  (fc3): Linear(in_features=84, out_features=10, bias=True)\n",
       ")>"
      ]
     },
     "execution_count": 22,
     "metadata": {},
     "output_type": "execute_result"
    }
   ],
   "source": [
    "net.parameters"
   ]
  },
  {
   "cell_type": "markdown",
   "id": "e1a9b6c4",
   "metadata": {},
   "source": [
    "## 모델 테스트"
   ]
  },
  {
   "cell_type": "code",
   "execution_count": 23,
   "id": "430a74e5",
   "metadata": {},
   "outputs": [
    {
     "data": {
      "image/png": "[encoded data removed]",
      "text/plain": [
       "<Figure size 720x360 with 1 Axes>"
      ]
     },
     "metadata": {},
     "output_type": "display_data"
    }
   ],
   "source": [
    "dataiter = iter(test_loader)\n",
    "images, labels = dataiter.next()\n",
    "\n",
    "imshow(torchvision.utils.make_grid(images[:4]))"
   ]
  },
  {
   "cell_type": "code",
   "execution_count": 24,
   "id": "5fea364e",
   "metadata": {},
   "outputs": [],
   "source": [
    "outputs = net(images)"
   ]
  },
  {
   "cell_type": "code",
   "execution_count": 25,
   "id": "328e7f70",
   "metadata": {},
   "outputs": [
    {
     "name": "stdout",
     "output_type": "stream",
     "text": [
      "tensor([7, 2, 1, 0, 4, 1, 4, 9, 6, 9, 0, 8, 9, 0, 1, 5, 9, 7, 3, 4, 7, 6, 6, 5,\n",
      "        4, 0, 7, 4, 0, 1, 3, 1, 3, 6, 7, 2, 7, 1, 2, 1, 1, 7, 4, 2, 3, 5, 3, 2,\n",
      "        4, 4, 6, 3, 5, 5, 6, 5, 4, 1, 9, 5, 7, 8, 4, 3, 7, 4, 2, 4, 3, 0, 7, 0,\n",
      "        2, 8, 1, 7, 3, 7, 9, 7, 7, 6, 2, 7, 8, 4, 7, 5, 6, 1, 3, 6, 4, 3, 1, 4,\n",
      "        1, 7, 6, 9, 6, 0, 5, 4, 9, 4, 2, 1, 9, 4, 3, 1, 3, 9, 9, 4, 4, 4, 4, 8,\n",
      "        5, 4, 7, 6, 9, 9, 0, 5])\n"
     ]
    }
   ],
   "source": [
    "_, predicted = torch.max(outputs, 1)\n",
    "print(predicted)"
   ]
  },
  {
   "cell_type": "code",
   "execution_count": 27,
   "id": "b1174913",
   "metadata": {},
   "outputs": [
    {
     "name": "stdout",
     "output_type": "stream",
     "text": [
      "7\t2\t1\t0\t\n"
     ]
    }
   ],
   "source": [
    "print(''.join('{}\\t'.format(str(predicted[j].numpy())) for j in range(4)))"
   ]
  },
  {
   "cell_type": "code",
   "execution_count": 28,
   "id": "fc303487",
   "metadata": {},
   "outputs": [
    {
     "name": "stdout",
     "output_type": "stream",
     "text": [
      "86.17\n"
     ]
    }
   ],
   "source": [
    "correct = 0\n",
    "total = 0\n",
    "\n",
    "with torch.no_grad():\n",
    "    for data in test_loader:\n",
    "        images, labels = data\n",
    "        outputs = net(images)\n",
    "        _, predicted = torch.max(outputs.data, 1)\n",
    "        total += labels.size(0)\n",
    "        correct += (predicted == labels).sum().item()\n",
    "        \n",
    "        \n",
    "print(100 * correct / total)"
   ]
  },
  {
   "cell_type": "markdown",
   "id": "57be0b5d",
   "metadata": {},
   "source": [
    "## GPU 설정 후 학습\n",
    "- 설정 후, 모델과 데이터에 `to`로 GPU를 사용 가능한 형태로 변환 해줘야 한다.\n",
    "\n",
    "- `.cuda()` 로도 가능"
   ]
  },
  {
   "cell_type": "markdown",
   "id": "664d71ee",
   "metadata": {},
   "source": [
    "- 현재 GPU 설정"
   ]
  },
  {
   "cell_type": "code",
   "execution_count": 29,
   "id": "1fae7f62",
   "metadata": {},
   "outputs": [
    {
     "data": {
      "text/plain": [
       "True"
      ]
     },
     "execution_count": 29,
     "metadata": {},
     "output_type": "execute_result"
    }
   ],
   "source": [
    "torch.cuda.is_available()"
   ]
  },
  {
   "cell_type": "code",
   "execution_count": 30,
   "id": "68fa83e8",
   "metadata": {},
   "outputs": [],
   "source": [
    "use_cuda = torch.cuda.is_available()\n",
    "device = torch.device('cuda' if use_cuda else \"cpu\")"
   ]
  },
  {
   "cell_type": "code",
   "execution_count": 31,
   "id": "cfbfafc0",
   "metadata": {},
   "outputs": [
    {
     "data": {
      "text/plain": [
       "device(type='cuda')"
      ]
     },
     "execution_count": 31,
     "metadata": {},
     "output_type": "execute_result"
    }
   ],
   "source": [
    "device"
   ]
  },
  {
   "cell_type": "markdown",
   "id": "da449cd2",
   "metadata": {},
   "source": [
    "- 데이터 로드\n"
   ]
  },
  {
   "cell_type": "code",
   "execution_count": 44,
   "id": "cc66e8d9",
   "metadata": {},
   "outputs": [],
   "source": [
    "transform = transforms.Compose([transforms.ToTensor(),\n",
    "                               transforms.Normalize((0.5, ), (0.5, ))])\n",
    "\n",
    "trainset = torchvision.datasets.MNIST(root = '',\n",
    "                                     train = True,\n",
    "                                     download = True,\n",
    "                                     transform = transform)\n",
    "\n",
    "testset = torchvision.datasets.MNIST(root = '',\n",
    "                                     train = False,\n",
    "                                     download = True,\n",
    "                                     transform = transform)\n",
    "\n",
    "train_loader = DataLoader(trainset,\n",
    "                         batch_size = 128,\n",
    "                         shuffle = True,\n",
    "                         num_workers = 2)\n",
    "\n",
    "test_loader = DataLoader(testset,\n",
    "                        batch_size = 128,\n",
    "                        shuffle = False,\n",
    "                        num_workers = 2)"
   ]
  },
  {
   "cell_type": "markdown",
   "id": "53bdf5ba",
   "metadata": {},
   "source": [
    "- 모델 생성"
   ]
  },
  {
   "cell_type": "code",
   "execution_count": 45,
   "id": "9a4d2890",
   "metadata": {},
   "outputs": [
    {
     "name": "stdout",
     "output_type": "stream",
     "text": [
      "Net(\n",
      "  (conv1): Conv2d(1, 6, kernel_size=(3, 3), stride=(1, 1))\n",
      "  (conv2): Conv2d(6, 16, kernel_size=(3, 3), stride=(1, 1))\n",
      "  (fc1): Linear(in_features=400, out_features=120, bias=True)\n",
      "  (fc2): Linear(in_features=120, out_features=84, bias=True)\n",
      "  (fc3): Linear(in_features=84, out_features=10, bias=True)\n",
      ")\n"
     ]
    }
   ],
   "source": [
    "class Net(nn.Module):\n",
    "    \n",
    "    def __init__(self):\n",
    "        super(Net, self).__init__()\n",
    "        \n",
    "        # 신경망구조(아키텍처) 정의\n",
    "        self.conv1 = nn.Conv2d(1, 6, 3)\n",
    "        self.conv2 = nn.Conv2d(6, 16, 3)\n",
    "        self.fc1 = nn.Linear(16 * 5 * 5, 120)\n",
    "        self.fc2 = nn.Linear(120, 84)\n",
    "        ## 최종 output은 10\n",
    "        self.fc3 = nn.Linear(84, 10)\n",
    "        \n",
    "    def forward(self, x):\n",
    "        # Pooling 두번 거치기\n",
    "        x = F.max_pool2d(F.relu(self.conv1(x)), (2, 2))\n",
    "        x = F.max_pool2d(F.relu(self.conv2(x)), 2)\n",
    "        # Flatten으로 모양바꿔주기\n",
    "        x = x.view(-1, self.num_flat_features(x))\n",
    "        x = F.relu(self.fc1(x))\n",
    "        x = F.relu(self.fc2(x))\n",
    "        x = self.fc3(x)\n",
    "        return x\n",
    "    \n",
    "    def num_flat_features(self, x):\n",
    "        size = x.size()[1:]\n",
    "        num_features = 1\n",
    "        for s in size:\n",
    "            num_features *= s\n",
    "        \n",
    "        return num_features\n",
    "    \n",
    "net = Net()\n",
    "print(net)"
   ]
  },
  {
   "cell_type": "code",
   "execution_count": 46,
   "id": "f3df0977",
   "metadata": {},
   "outputs": [],
   "source": [
    "# 만든모델을 cuda(gpu)로 보내기\n",
    "net = Net().to(device)"
   ]
  },
  {
   "cell_type": "code",
   "execution_count": 47,
   "id": "86cc06e7",
   "metadata": {},
   "outputs": [],
   "source": [
    "criterion = nn.CrossEntropyLoss()\n",
    "optimizer = optim.SGD(net.parameters(), lr = 0.001, momentum = 0.9)"
   ]
  },
  {
   "cell_type": "code",
   "execution_count": 48,
   "id": "b115181e",
   "metadata": {},
   "outputs": [
    {
     "name": "stdout",
     "output_type": "stream",
     "text": [
      "Epoch: 1, Iter: 100, Loss: 2.2988278126716613\n",
      "Epoch: 1, Iter: 200, Loss: 2.286623167991638\n",
      "Epoch: 1, Iter: 300, Loss: 2.269572925567627\n",
      "Epoch: 1, Iter: 400, Loss: 2.2338986825942992\n",
      "Epoch: 2, Iter: 100, Loss: 2.0165594565868377\n",
      "Epoch: 2, Iter: 200, Loss: 1.5438083732128143\n",
      "Epoch: 2, Iter: 300, Loss: 0.9885885012149811\n",
      "Epoch: 2, Iter: 400, Loss: 0.7045341050624847\n",
      "Epoch: 3, Iter: 100, Loss: 0.522680375277996\n",
      "Epoch: 3, Iter: 200, Loss: 0.4560423120856285\n",
      "Epoch: 3, Iter: 300, Loss: 0.4288595649600029\n",
      "Epoch: 3, Iter: 400, Loss: 0.3808559240400791\n",
      "Epoch: 4, Iter: 100, Loss: 0.3543462686240673\n",
      "Epoch: 4, Iter: 200, Loss: 0.3274016021192074\n",
      "Epoch: 4, Iter: 300, Loss: 0.2966358356177807\n",
      "Epoch: 4, Iter: 400, Loss: 0.29431433483958247\n",
      "Epoch: 5, Iter: 100, Loss: 0.2671714493632317\n",
      "Epoch: 5, Iter: 200, Loss: 0.24713702209293842\n",
      "Epoch: 5, Iter: 300, Loss: 0.2436513452231884\n",
      "Epoch: 5, Iter: 400, Loss: 0.22823494471609593\n",
      "Epoch: 6, Iter: 100, Loss: 0.21019356690347193\n",
      "Epoch: 6, Iter: 200, Loss: 0.19730507008731366\n",
      "Epoch: 6, Iter: 300, Loss: 0.19998041093349456\n",
      "Epoch: 6, Iter: 400, Loss: 0.17987936422228812\n",
      "Epoch: 7, Iter: 100, Loss: 0.16908475887030364\n",
      "Epoch: 7, Iter: 200, Loss: 0.1696279902011156\n",
      "Epoch: 7, Iter: 300, Loss: 0.15516258142888545\n",
      "Epoch: 7, Iter: 400, Loss: 0.15791917324066163\n",
      "Epoch: 8, Iter: 100, Loss: 0.15823208160698413\n",
      "Epoch: 8, Iter: 200, Loss: 0.13938376303762198\n",
      "Epoch: 8, Iter: 300, Loss: 0.14661525625735522\n",
      "Epoch: 8, Iter: 400, Loss: 0.12255394030362368\n",
      "Epoch: 9, Iter: 100, Loss: 0.1342633482441306\n",
      "Epoch: 9, Iter: 200, Loss: 0.13124461390078068\n",
      "Epoch: 9, Iter: 300, Loss: 0.12023309521377086\n",
      "Epoch: 9, Iter: 400, Loss: 0.11814942762255669\n",
      "Epoch: 10, Iter: 100, Loss: 0.11664587397128344\n",
      "Epoch: 10, Iter: 200, Loss: 0.11076727567240596\n",
      "Epoch: 10, Iter: 300, Loss: 0.11518176123499871\n",
      "Epoch: 10, Iter: 400, Loss: 0.11527605781331658\n"
     ]
    }
   ],
   "source": [
    "for epoch in range(10):\n",
    "    \n",
    "    running_loss = 0.0\n",
    "    for i, data in enumerate(train_loader, 0):\n",
    "        inputs, labels = data[0].to(device), data[1].to(device)\n",
    "        \n",
    "        optimizer.zero_grad()\n",
    "        \n",
    "        outputs = net(inputs)\n",
    "        loss = criterion(outputs, labels)\n",
    "        loss.backward()\n",
    "        optimizer.step()\n",
    "        \n",
    "        running_loss += loss.item()\n",
    "        if i % 100 == 99:\n",
    "            print('Epoch: {}, Iter: {}, Loss: {}'.format(epoch + 1, i + 1, running_loss / 100))\n",
    "            running_loss = 0.0"
   ]
  },
  {
   "cell_type": "code",
   "execution_count": 49,
   "id": "731cd936",
   "metadata": {},
   "outputs": [
    {
     "name": "stdout",
     "output_type": "stream",
     "text": [
      "96.7\n"
     ]
    }
   ],
   "source": [
    "correct = 0\n",
    "total = 0\n",
    "\n",
    "with torch.no_grad():\n",
    "    for data in test_loader:\n",
    "        images, labels = data[0].to(device), data[1].to(device)\n",
    "        outputs = net(images)\n",
    "        _, predicted = torch.max(outputs.data, 1)\n",
    "        total += labels.size(0)\n",
    "        correct += (predicted == labels).sum().item()\n",
    "        \n",
    "        \n",
    "print(100 * correct / total)"
   ]
  },
  {
   "cell_type": "code",
   "execution_count": null,
   "id": "9fd8cf90",
   "metadata": {},
   "outputs": [],
   "source": []
  },
  {
   "cell_type": "code",
   "execution_count": null,
   "id": "809bdcea",
   "metadata": {},
   "outputs": [],
   "source": []
  }
 ],
 "metadata": {
  "kernelspec": {
   "display_name": "Python 3 (ipykernel)",
   "language": "python",
   "name": "python3"
  },
  "language_info": {
   "codemirror_mode": {
    "name": "ipython",
    "version": 3
   },
   "file_extension": ".py",
   "mimetype": "text/x-python",
   "name": "python",
   "nbconvert_exporter": "python",
   "pygments_lexer": "ipython3",
   "version": "3.9.7"
  },
  "toc": {
   "base_numbering": 1,
   "nav_menu": {},
   "number_sections": true,
   "sideBar": true,
   "skip_h1_title": false,
   "title_cell": "Table of Contents",
   "title_sidebar": "Contents",
   "toc_cell": false,
   "toc_position": {
    "height": "calc(100% - 180px)",
    "left": "10px",
    "top": "150px",
    "width": "232.604px"
   },
   "toc_section_display": true,
   "toc_window_display": true
  },
  "varInspector": {
   "cols": {
    "lenName": 16,
    "lenType": 16,
    "lenVar": 40
   },
   "kernels_config": {
    "python": {
     "delete_cmd_postfix": "",
     "delete_cmd_prefix": "del ",
     "library": "var_list.py",
     "varRefreshCmd": "print(var_dic_list())"
    },
    "r": {
     "delete_cmd_postfix": ") ",
     "delete_cmd_prefix": "rm(",
     "library": "var_list.r",
     "varRefreshCmd": "cat(var_dic_list()) "
    }
   },
   "types_to_exclude": [
    "module",
    "function",
    "builtin_function_or_method",
    "instance",
    "_Feature"
   ],
   "window_display": false
  }
 },
 "nbformat": 4,
 "nbformat_minor": 5
}
