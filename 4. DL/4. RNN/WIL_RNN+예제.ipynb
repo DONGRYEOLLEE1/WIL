{
 "cells": [
  {
   "cell_type": "code",
   "execution_count": 61,
   "id": "3ee4741b",
   "metadata": {},
   "outputs": [],
   "source": [
    "import numpy as np\n",
    "import tensorflow as tf\n",
    "\n",
    "from tensorflow import keras\n",
    "from tensorflow.keras import layers\n",
    "from tensorflow.keras.utils import plot_model\n",
    "from tensorflow.keras.models import Sequential\n",
    "from tensorflow.keras.layers import Bidirectional, Dense, LSTM, Embedding, GRU, SimpleRNN, LSTMCell, BatchNormalization, RNN"
   ]
  },
  {
   "cell_type": "markdown",
   "id": "dc88a45d",
   "metadata": {},
   "source": [
    "## 내장 RNN레이어"
   ]
  },
  {
   "cell_type": "code",
   "execution_count": 5,
   "id": "5eff2830",
   "metadata": {},
   "outputs": [
    {
     "name": "stdout",
     "output_type": "stream",
     "text": [
      "Model: \"sequential_3\"\n",
      "_________________________________________________________________\n",
      " Layer (type)                Output Shape              Param #   \n",
      "=================================================================\n",
      " embedding_3 (Embedding)     (None, None, 64)          64000     \n",
      "                                                                 \n",
      " lstm_2 (LSTM)               (None, 128)               98816     \n",
      "                                                                 \n",
      " dense_1 (Dense)             (None, 10)                1290      \n",
      "                                                                 \n",
      "=================================================================\n",
      "Total params: 164,106\n",
      "Trainable params: 164,106\n",
      "Non-trainable params: 0\n",
      "_________________________________________________________________\n"
     ]
    }
   ],
   "source": [
    "model = keras.Sequential()\n",
    "# input vocab of size 1000\n",
    "model.add(layers.Embedding(input_dim = 1000, output_dim = 64))\n",
    "# 128 internal units\n",
    "model.add(layers.LSTM(128))\n",
    "model.add(layers.Dense(10))\n",
    "model.summary()"
   ]
  },
  {
   "cell_type": "markdown",
   "id": "fb71fffe",
   "metadata": {},
   "source": [
    "## 출력과 상태\n",
    "- `return_sequences=True`를 설정하면 RNN 레이어가 각 샘플(샘플 및 타임스텝당 하나의 벡터)에 대한 전체 출력 시퀀스도 반환 가능"
   ]
  },
  {
   "cell_type": "code",
   "execution_count": 7,
   "id": "57a16f03",
   "metadata": {},
   "outputs": [
    {
     "name": "stdout",
     "output_type": "stream",
     "text": [
      "Model: \"sequential_5\"\n",
      "_________________________________________________________________\n",
      " Layer (type)                Output Shape              Param #   \n",
      "=================================================================\n",
      " embedding_5 (Embedding)     (None, None, 64)          64000     \n",
      "                                                                 \n",
      " gru (GRU)                   (None, None, 256)         247296    \n",
      "                                                                 \n",
      " simple_rnn (SimpleRNN)      (None, 128)               49280     \n",
      "                                                                 \n",
      " dense_2 (Dense)             (None, 10)                1290      \n",
      "                                                                 \n",
      "=================================================================\n",
      "Total params: 361,866\n",
      "Trainable params: 361,866\n",
      "Non-trainable params: 0\n",
      "_________________________________________________________________\n"
     ]
    }
   ],
   "source": [
    "model = keras.Sequential()\n",
    "model.add(layers.Embedding(input_dim = 1000, output_dim = 64))\n",
    "# output_dim will be a 3D Tensor >> (batch_size, timesteps, 256)\n",
    "model.add(layers.GRU(256, return_sequences = True))\n",
    "# output_dim will be a 2D Tensor >> (batch_size, 128)\n",
    "model.add(layers.SimpleRNN(128))\n",
    "model.add(layers.Dense(10))\n",
    "model.summary()"
   ]
  },
  {
   "cell_type": "markdown",
   "id": "8ab8540c",
   "metadata": {},
   "source": [
    "1.\n",
    "- 최종 내부 상태를 반환 할 수 있음, 나중에 RNN 실행을 재개하거나 다른 RNN을 초기화하는데 사용될 수 있다\n",
    "- 이 설정은 인코더의 최종 상태가 디코더의 초기 상태로 사용되는 인코더-디코더 시퀀스-시퀀스 모델에서 일반적으로 사용됩니다\n",
    "2.\n",
    "- 내부 상태를 반환하도록 RNN레이어를 구성하려면 레이어를 생성할 때, `return_state` 매개변수를 `True`로 설정한다.\n",
    "- 참고로 `LSTM`에는 두 개의 상태 텐서가 있지만 `GRU`에는 하나만 있다\n",
    "3.\n",
    "- 레이어의 초기 상태를 구성하려면 추가 키워드 인수 `initial_state`로 레이어를 호출하면 된다.]\n",
    "- 상태의 형상은 아래 예와 같이 레이어의 단위 크기와 일치해야한다."
   ]
  },
  {
   "cell_type": "code",
   "execution_count": 9,
   "id": "899ac9da",
   "metadata": {},
   "outputs": [
    {
     "name": "stdout",
     "output_type": "stream",
     "text": [
      "Model: \"model\"\n",
      "__________________________________________________________________________________________________\n",
      " Layer (type)                   Output Shape         Param #     Connected to                     \n",
      "==================================================================================================\n",
      " input_2 (InputLayer)           [(None, None)]       0           []                               \n",
      "                                                                                                  \n",
      " input_3 (InputLayer)           [(None, None)]       0           []                               \n",
      "                                                                                                  \n",
      " embedding_6 (Embedding)        (None, None, 64)     64000       ['input_2[0][0]']                \n",
      "                                                                                                  \n",
      " embedding_7 (Embedding)        (None, None, 64)     128000      ['input_3[0][0]']                \n",
      "                                                                                                  \n",
      " Encoder (LSTM)                 [(None, 64),         33024       ['embedding_6[0][0]']            \n",
      "                                 (None, 64),                                                      \n",
      "                                 (None, 64)]                                                      \n",
      "                                                                                                  \n",
      " Decoder (LSTM)                 (None, 64)           33024       ['embedding_7[0][0]',            \n",
      "                                                                  'Encoder[0][1]',                \n",
      "                                                                  'Encoder[0][2]']                \n",
      "                                                                                                  \n",
      " dense_3 (Dense)                (None, 10)           650         ['Decoder[0][0]']                \n",
      "                                                                                                  \n",
      "==================================================================================================\n",
      "Total params: 258,698\n",
      "Trainable params: 258,698\n",
      "Non-trainable params: 0\n",
      "__________________________________________________________________________________________________\n"
     ]
    }
   ],
   "source": [
    "ENCODER_VOCAB = 1000\n",
    "DECODER_VOCAB = 2000\n",
    "\n",
    "encoder_input = layers.Input(shape = (None, ))\n",
    "encoder_embedded = layers.Embedding(input_dim = ENCODER_VOCAB, output_dim = 64)(encoder_input)\n",
    "\n",
    "# output에 내부 상태 반환시키기 ( return_state )\n",
    "output, state_h, state_c = layers.LSTM(64, return_state = True, name = 'Encoder')(encoder_embedded)\n",
    "encoder_state = [state_h, state_c]\n",
    "\n",
    "decoder_input = layers.Input(shape = (None, ))\n",
    "decoder_embedded = layers.Embedding(input_dim = DECODER_VOCAB, output_dim = 64)(decoder_input)\n",
    "\n",
    "# 새로운 LSTM레이어에 두개의 state를 통과시키자\n",
    "decoder_output = layers.LSTM(64, name = 'Decoder')(decoder_embedded, initial_state = encoder_state)\n",
    "output = layers.Dense(10)(decoder_output)\n",
    "\n",
    "model = keras.Model([encoder_input, decoder_input], output)\n",
    "model.summary()"
   ]
  },
  {
   "cell_type": "code",
   "execution_count": 14,
   "id": "5d604d81",
   "metadata": {
    "scrolled": false
   },
   "outputs": [
    {
     "data": {
      "image/png": "[encoded data removed]",
      "text/plain": [
       "<IPython.core.display.Image object>"
      ]
     },
     "execution_count": 14,
     "metadata": {},
     "output_type": "execute_result"
    }
   ],
   "source": [
    "plot_model(model, dpi = 200, to_file = 'RNN_basic.png')"
   ]
  },
  {
   "cell_type": "markdown",
   "id": "3e291c75",
   "metadata": {},
   "source": [
    "## RNN레이어 및 RNN셀\n",
    "- 입력 시퀀스의 전체 배치를 처리하는 RNN레이어와 달리 RNN셀은 단일 타임스텝만 처리한다\n",
    "- "
   ]
  },
  {
   "cell_type": "markdown",
   "id": "600edd04",
   "metadata": {},
   "source": [
    "## 크로스배치 상태 저장\n",
    "- 무한할 수도 있는 매우 긴 시퀀스를 처리할 때 크로스 배치 상태 저장 패턴을 사용할 수 있다\n",
    "- 시퀀스가 매우 긴 경우, 시퀀스를 더 짧은 시퀀스로 나눈 다음 레이어의 상태를 재설정하지 않고 이 짧은 시퀀스를 RNN 레이어에 순차적으로 공급하는 것이 좋다\n",
    "- 이렇게 하면 레이어가 한 번에 하나의 하위 시퀀스만 받더라도 시퀀스 전체에 대한 정보를 유지할 수 있다\n",
    "- 생성자에서 `stateful = True`를 설정하여 이 작업을 수행 할 수 있다"
   ]
  },
  {
   "cell_type": "code",
   "execution_count": 15,
   "id": "b81deadd",
   "metadata": {},
   "outputs": [],
   "source": [
    "paragraph1 = np.random.random((20, 10, 50)).astype(np.float32)\n",
    "paragraph2 = np.random.random((20, 10, 50)).astype(np.float32)\n",
    "paragraph3 = np.random.random((20, 10, 50)).astype(np.float32)\n",
    "\n",
    "lstm_layer = layers.LSTM(64, stateful = True)\n",
    "output = lstm_layer(paragraph1)\n",
    "output = lstm_layer(paragraph2)\n",
    "output = lstm_layer(paragraph3)\n",
    "\n",
    "# 'reset_state()'는 original initial_state에 축적되어있는 상태를 reset할 것\n",
    "# 만약 initial_state가 제공되지않는다면, zero-state가 default 값임\n",
    "lstm_layer.reset_states()"
   ]
  },
  {
   "cell_type": "markdown",
   "id": "b4996bac",
   "metadata": {},
   "source": [
    "## RNN상태 재사용\n",
    "- RNN레이어의 기록된 상태는 `layer.weights()`에 포함되지 않는다. 재사용하려면 `layers.state`로 상태 값을 가져오고 `new_layer(inputs, initial_state = layer.state)` 또는 모델 하위 클래싱과 같은 Keras functional API를 통해 이를 새 레이어의 초기 상태로 사용 할 수 있다\n",
    "\n",
    "- 순차 모델은 하나의 입력 및 출력이 있는 레이어만 지원하여 초기 상태가 추가로 입력되면 사용이 불가능하므로 이 경우에 사용할 수 없다\n",
    "- weights값 불러오기 느낌"
   ]
  },
  {
   "cell_type": "code",
   "execution_count": 19,
   "id": "5a38ee96",
   "metadata": {},
   "outputs": [],
   "source": [
    "paragraph1 = np.random.random((20, 10, 50)).astype(np.float32)\n",
    "paragraph2 = np.random.random((20, 10, 50)).astype(np.float32)\n",
    "paragraph3 = np.random.random((20, 10, 50)).astype(np.float32)\n",
    "\n",
    "lstm_layer = layers.LSTM(64, stateful = True)\n",
    "output = lstm_layer(paragraph1)\n",
    "output = lstm_layer(paragraph2)\n",
    "\n",
    "# paragraph1, paragraph2에 담긴 정보를 'existing_state'에 담고\n",
    "existing_state = lstm_layer.states\n",
    "\n",
    "new_lstm_layer = layers.LSTM(64)\n",
    "# 'existing_state'로부터 시작하는 레이어를 하나 더 만들기\n",
    "new_output = new_lstm_layer(paragraph3, initial_state = existing_state)"
   ]
  },
  {
   "cell_type": "markdown",
   "id": "bd8b47d3",
   "metadata": {},
   "source": [
    "## 양방향 RNN\n",
    "- 시계열 이외의 시퀀스(예: 텍스트)의 경우, RNN 모델이 시퀀스를 처음부터 끝까지 처리할 뿐만 아니라 ***역방향***으로도 처리하면 성능이 더 좋아지는 경우가 종종 있니다\n",
    "- 예를들어, 문장에서 다음 단어를 예측하려면 단어 앞에 오는 단어뿐만 아니라 단어 주변의 컨텍스트까지 있으면 유용한 경우가 많다\n",
    "\n",
    "- Keras는 `keras.layers.Bidirectional` wrapper와 같은 이러한 **양방향RNN**을 쉽게 구축할 수 있는 API를 제공한다"
   ]
  },
  {
   "cell_type": "code",
   "execution_count": 25,
   "id": "03253ace",
   "metadata": {},
   "outputs": [
    {
     "name": "stdout",
     "output_type": "stream",
     "text": [
      "Model: \"sequential_6\"\n",
      "_________________________________________________________________\n",
      " Layer (type)                Output Shape              Param #   \n",
      "=================================================================\n",
      " bidirectional (Bidirectiona  (None, 5, 128)           38400     \n",
      " l)                                                              \n",
      "                                                                 \n",
      " bidirectional_1 (Bidirectio  (None, 64)               41216     \n",
      " nal)                                                            \n",
      "                                                                 \n",
      " dense_4 (Dense)             (None, 10)                650       \n",
      "                                                                 \n",
      "=================================================================\n",
      "Total params: 80,266\n",
      "Trainable params: 80,266\n",
      "Non-trainable params: 0\n",
      "_________________________________________________________________\n"
     ]
    }
   ],
   "source": [
    "model = Sequential()\n",
    "model.add(Bidirectional(LSTM(64, return_sequences = True), input_shape = (5, 10)))\n",
    "model.add(Bidirectional(LSTM(32)))\n",
    "model.add(Dense(10))\n",
    "\n",
    "model.summary()"
   ]
  },
  {
   "cell_type": "markdown",
   "id": "486e2095",
   "metadata": {},
   "source": [
    "`Bidirectional`은 전달된 RNN 레이어를 복사하고 새로 복사된 레이어의 `go_backwards` 필드를 뒤집어 입력을 역순으로 처리한다\n",
    "`Bidirectional` RNN의 출력은 기본적으로, 정뱡향 레이어 출력과 역방향 레이어 출력이 합산된 것입니다. 연결과 같은 다른 병합 동작이 필요한 경우 `Bidirectional` wrapper 생성자에서 `merge_mode` 매개변수를 변경합니다"
   ]
  },
  {
   "cell_type": "markdown",
   "id": "a425879d",
   "metadata": {},
   "source": [
    "## CuDNN 커널 사용\n",
    "- Mnist데이터를 통해 LSTM과 CuDNN 커널을 사용했을때의 성능 차이를 확인해보자"
   ]
  },
  {
   "cell_type": "code",
   "execution_count": 29,
   "id": "14a67d18",
   "metadata": {},
   "outputs": [],
   "source": [
    "BATCH_SIZE = 64\n",
    "# Mnist's shape => Tensor of shape (batch_size, 28, 28)\n",
    "INPUT_DIM = 28\n",
    "UNITS = 64\n",
    "# class는 10가지임\n",
    "OUTPUT_SIZE = 10"
   ]
  },
  {
   "cell_type": "code",
   "execution_count": 62,
   "id": "5854efc0",
   "metadata": {},
   "outputs": [],
   "source": [
    "def build_model(allow_cudnn_kernel = True):\n",
    "    # CuDNN은 layer단위에서만 사용가능하며, cell단위에선 불가\n",
    "    # 즉, 'LSTM(units)' 는 CuDNN kernel을 사용할것임 ( 사용o )\n",
    "    # 반면에 RNN(LSTMCell(units))은 non-CuDNN kernel 상태일것임 ( 사용x )\n",
    "    if allow_cudnn_kernel:\n",
    "        # LSTM의 default값이 CuDNN사용\n",
    "        lstm_layer = LSTM(UNITS, input_shape = (None, INPUT_DIM))\n",
    "    else:\n",
    "        # 래핑된 RNN layer안에서의 LSTMCell은 CuDNN 사용불가\n",
    "        lstm_layer = RNN(\n",
    "            LSTMCell(UNITS), input_shape = (None, INPUT_DIM))\n",
    "    \n",
    "    model = Sequential([\n",
    "        lstm_layer,\n",
    "        BatchNormalization(),\n",
    "        Dense(OUTPUT_SIZE)\n",
    "    ])\n",
    "    \n",
    "    return model"
   ]
  },
  {
   "cell_type": "code",
   "execution_count": 63,
   "id": "36b1b35b",
   "metadata": {},
   "outputs": [],
   "source": [
    "mnist = keras.datasets.mnist\n",
    "\n",
    "(x_train, y_train), (x_test, y_test) = mnist.load_data()\n",
    "x_train, x_test = x_train / 255.0, x_test / 255.0\n",
    "sample, sample_label = x_train[0], y_train[0]"
   ]
  },
  {
   "cell_type": "markdown",
   "id": "307b8951",
   "metadata": {},
   "source": [
    "* loss `sparse_categorical_crossentropy`\n",
    "* 모델의 목표는 정수 벡터이고 각 정수는 0에서 9 사이의 범위에 있다"
   ]
  },
  {
   "cell_type": "code",
   "execution_count": 64,
   "id": "2b409661",
   "metadata": {},
   "outputs": [],
   "source": [
    "model = build_model(allow_cudnn_kernel = True)"
   ]
  },
  {
   "cell_type": "code",
   "execution_count": 65,
   "id": "c43cd645",
   "metadata": {},
   "outputs": [
    {
     "name": "stdout",
     "output_type": "stream",
     "text": [
      "938/938 [==============================] - 5s 5ms/step - loss: 0.9170 - acc: 0.7121 - val_loss: 0.6298 - val_acc: 0.7860\n"
     ]
    }
   ],
   "source": [
    "model.compile(loss = keras.losses.SparseCategoricalCrossentropy(from_logits = True),\n",
    "              optimizer = 'sgd',\n",
    "              metrics = ['acc']\n",
    "             )\n",
    "\n",
    "hist = model.fit(x_train, y_train, validation_data = (x_test, y_test), batch_size = BATCH_SIZE, epochs = 1)"
   ]
  },
  {
   "cell_type": "code",
   "execution_count": 66,
   "id": "06d3fe96",
   "metadata": {},
   "outputs": [
    {
     "name": "stdout",
     "output_type": "stream",
     "text": [
      "938/938 [==============================] - 55s 58ms/step - loss: 0.3760 - acc: 0.8877 - val_loss: 0.2540 - val_acc: 0.9224\n"
     ]
    },
    {
     "data": {
      "text/plain": [
       "<keras.callbacks.History at 0x1e30df4d2e0>"
      ]
     },
     "execution_count": 66,
     "metadata": {},
     "output_type": "execute_result"
    }
   ],
   "source": [
    "noncudnn_model = build_model(allow_cudnn_kernel = False)\n",
    "noncudnn_model.set_weights(model.get_weights())\n",
    "\n",
    "noncudnn_model.compile(loss = keras.losses.SparseCategoricalCrossentropy(from_logits = True),\n",
    "                      optimizer = 'sgd',\n",
    "                      metrics = ['acc'])\n",
    "\n",
    "noncudnn_model.fit(x_train, y_train, validation_data = (x_test, y_test), batch_size = BATCH_SIZE, epochs = 1)"
   ]
  },
  {
   "cell_type": "code",
   "execution_count": 67,
   "id": "a7f79010",
   "metadata": {},
   "outputs": [
    {
     "name": "stdout",
     "output_type": "stream",
     "text": [
      "Predicted result is: [7], target result is: 5\n"
     ]
    },
    {
     "data": {
      "text/plain": [
       "<matplotlib.image.AxesImage at 0x1e317f292e0>"
      ]
     },
     "execution_count": 67,
     "metadata": {},
     "output_type": "execute_result"
    },
    {
     "data": {
      "image/png": "[encoded data removed]",
      "text/plain": [
       "<Figure size 432x288 with 1 Axes>"
      ]
     },
     "metadata": {
      "needs_background": "light"
     },
     "output_type": "display_data"
    }
   ],
   "source": [
    "import matplotlib.pyplot as plt\n",
    "\n",
    "model = build_model(allow_cudnn_kernel = True)\n",
    "model.set_weights(model.get_weights())\n",
    "result = tf.argmax(model.predict_on_batch(tf.expand_dims(sample, 0)), axis = 1)\n",
    "print(\"Predicted result is: %s, target result is: %s\" % (result.numpy(), sample_label))\n",
    "plt.imshow(sample, cmap = plt.get_cmap(\"gray\"))"
   ]
  },
  {
   "cell_type": "code",
   "execution_count": null,
   "id": "f0993a41",
   "metadata": {},
   "outputs": [],
   "source": []
  },
  {
   "cell_type": "markdown",
   "id": "cc351e82",
   "metadata": {},
   "source": [
    "# 예제"
   ]
  },
  {
   "cell_type": "markdown",
   "id": "71fa866e",
   "metadata": {},
   "source": [
    "## Module Import"
   ]
  },
  {
   "cell_type": "code",
   "execution_count": 209,
   "id": "ca684a95",
   "metadata": {},
   "outputs": [],
   "source": [
    "import pandas as pd\n",
    "import numpy as np\n",
    "import matplotlib.pyplot as plt\n",
    "plt.style.use('seaborn-white')\n",
    "import seaborn as sns\n",
    "\n",
    "from sklearn.model_selection import train_test_split\n",
    "\n",
    "import tensorflow as tf\n",
    "from tensorflow.keras.models import Sequential\n",
    "from tensorflow.keras.layers import Dense, Flatten, RNN, LSTM, SimpleRNN, Dropout"
   ]
  },
  {
   "cell_type": "markdown",
   "id": "ac602df8",
   "metadata": {},
   "source": [
    "## 데이터\n",
    "- 동산 개별 실거래가는 매달에 맞춰 거래가 일어나지 않기 때문에 일단 한국감정원에서 배포하는 전국주택가격지수 중에서 강남구의 아파트 거래가격 지수를 사용"
   ]
  },
  {
   "cell_type": "code",
   "execution_count": 176,
   "id": "d30e6e4e",
   "metadata": {
    "collapsed": true
   },
   "outputs": [
    {
     "name": "stdout",
     "output_type": "stream",
     "text": [
      "Collecting finance-datareader\n",
      "  Downloading finance_datareader-0.9.31-py3-none-any.whl (17 kB)\n",
      "Requirement already satisfied: lxml in c:\\users\\user\\anaconda3\\lib\\site-packages (from finance-datareader) (4.6.3)\n",
      "Requirement already satisfied: requests>=2.3.0 in c:\\users\\user\\anaconda3\\lib\\site-packages (from finance-datareader) (2.26.0)\n",
      "Requirement already satisfied: tqdm in c:\\users\\user\\anaconda3\\lib\\site-packages (from finance-datareader) (4.62.3)\n",
      "Collecting requests-file\n",
      "  Downloading requests_file-1.5.1-py2.py3-none-any.whl (3.7 kB)\n",
      "Requirement already satisfied: pandas>=0.19.2 in c:\\users\\user\\anaconda3\\lib\\site-packages (from finance-datareader) (1.3.4)\n",
      "Requirement already satisfied: numpy>=1.17.3 in c:\\users\\user\\anaconda3\\lib\\site-packages (from pandas>=0.19.2->finance-datareader) (1.20.3)\n",
      "Requirement already satisfied: pytz>=2017.3 in c:\\users\\user\\anaconda3\\lib\\site-packages (from pandas>=0.19.2->finance-datareader) (2021.3)\n",
      "Requirement already satisfied: python-dateutil>=2.7.3 in c:\\users\\user\\anaconda3\\lib\\site-packages (from pandas>=0.19.2->finance-datareader) (2.8.2)\n",
      "Requirement already satisfied: six>=1.5 in c:\\users\\user\\anaconda3\\lib\\site-packages (from python-dateutil>=2.7.3->pandas>=0.19.2->finance-datareader) (1.16.0)\n",
      "Requirement already satisfied: charset-normalizer~=2.0.0 in c:\\users\\user\\anaconda3\\lib\\site-packages (from requests>=2.3.0->finance-datareader) (2.0.4)\n",
      "Requirement already satisfied: certifi>=2017.4.17 in c:\\users\\user\\anaconda3\\lib\\site-packages (from requests>=2.3.0->finance-datareader) (2021.10.8)\n",
      "Requirement already satisfied: urllib3<1.27,>=1.21.1 in c:\\users\\user\\anaconda3\\lib\\site-packages (from requests>=2.3.0->finance-datareader) (1.26.7)\n",
      "Requirement already satisfied: idna<4,>=2.5 in c:\\users\\user\\anaconda3\\lib\\site-packages (from requests>=2.3.0->finance-datareader) (3.2)\n",
      "Requirement already satisfied: colorama in c:\\users\\user\\anaconda3\\lib\\site-packages (from tqdm->finance-datareader) (0.4.4)\n",
      "Installing collected packages: requests-file, finance-datareader\n",
      "Successfully installed finance-datareader-0.9.31 requests-file-1.5.1\n"
     ]
    }
   ],
   "source": [
    "#!pip install finance-datareader"
   ]
  },
  {
   "cell_type": "code",
   "execution_count": 177,
   "id": "1c491cb1",
   "metadata": {},
   "outputs": [],
   "source": [
    "import FinanceDataReader as fdr"
   ]
  },
  {
   "cell_type": "code",
   "execution_count": 178,
   "id": "e57614b2",
   "metadata": {},
   "outputs": [],
   "source": [
    "samsung = fdr.DataReader('005930')"
   ]
  },
  {
   "cell_type": "code",
   "execution_count": 179,
   "id": "b163f0e0",
   "metadata": {},
   "outputs": [
    {
     "data": {
      "text/html": [
       "<div>\n",
       "<style scoped>\n",
       "    .dataframe tbody tr th:only-of-type {\n",
       "        vertical-align: middle;\n",
       "    }\n",
       "\n",
       "    .dataframe tbody tr th {\n",
       "        vertical-align: top;\n",
       "    }\n",
       "\n",
       "    .dataframe thead th {\n",
       "        text-align: right;\n",
       "    }\n",
       "</style>\n",
       "<table border=\"1\" class=\"dataframe\">\n",
       "  <thead>\n",
       "    <tr style=\"text-align: right;\">\n",
       "      <th></th>\n",
       "      <th>Open</th>\n",
       "      <th>High</th>\n",
       "      <th>Low</th>\n",
       "      <th>Close</th>\n",
       "      <th>Volume</th>\n",
       "      <th>Change</th>\n",
       "    </tr>\n",
       "    <tr>\n",
       "      <th>Date</th>\n",
       "      <th></th>\n",
       "      <th></th>\n",
       "      <th></th>\n",
       "      <th></th>\n",
       "      <th></th>\n",
       "      <th></th>\n",
       "    </tr>\n",
       "  </thead>\n",
       "  <tbody>\n",
       "    <tr>\n",
       "      <th>2021-11-25</th>\n",
       "      <td>75100</td>\n",
       "      <td>75100</td>\n",
       "      <td>73600</td>\n",
       "      <td>73700</td>\n",
       "      <td>12559258</td>\n",
       "      <td>-0.014706</td>\n",
       "    </tr>\n",
       "    <tr>\n",
       "      <th>2021-11-26</th>\n",
       "      <td>73500</td>\n",
       "      <td>74100</td>\n",
       "      <td>72000</td>\n",
       "      <td>72300</td>\n",
       "      <td>13002242</td>\n",
       "      <td>-0.018996</td>\n",
       "    </tr>\n",
       "    <tr>\n",
       "      <th>2021-11-29</th>\n",
       "      <td>71700</td>\n",
       "      <td>73000</td>\n",
       "      <td>71400</td>\n",
       "      <td>72300</td>\n",
       "      <td>16682559</td>\n",
       "      <td>0.000000</td>\n",
       "    </tr>\n",
       "    <tr>\n",
       "      <th>2021-11-30</th>\n",
       "      <td>73200</td>\n",
       "      <td>73900</td>\n",
       "      <td>70500</td>\n",
       "      <td>71300</td>\n",
       "      <td>30364841</td>\n",
       "      <td>-0.013831</td>\n",
       "    </tr>\n",
       "    <tr>\n",
       "      <th>2021-12-01</th>\n",
       "      <td>72000</td>\n",
       "      <td>74800</td>\n",
       "      <td>71600</td>\n",
       "      <td>74300</td>\n",
       "      <td>18459042</td>\n",
       "      <td>0.042076</td>\n",
       "    </tr>\n",
       "  </tbody>\n",
       "</table>\n",
       "</div>"
      ],
      "text/plain": [
       "             Open   High    Low  Close    Volume    Change\n",
       "Date                                                      \n",
       "2021-11-25  75100  75100  73600  73700  12559258 -0.014706\n",
       "2021-11-26  73500  74100  72000  72300  13002242 -0.018996\n",
       "2021-11-29  71700  73000  71400  72300  16682559  0.000000\n",
       "2021-11-30  73200  73900  70500  71300  30364841 -0.013831\n",
       "2021-12-01  72000  74800  71600  74300  18459042  0.042076"
      ]
     },
     "execution_count": 179,
     "metadata": {},
     "output_type": "execute_result"
    }
   ],
   "source": [
    "samsung.tail()"
   ]
  },
  {
   "cell_type": "code",
   "execution_count": 249,
   "id": "85397cc3",
   "metadata": {},
   "outputs": [],
   "source": [
    "teslr = fdr.DataReader('TSLA')"
   ]
  },
  {
   "cell_type": "code",
   "execution_count": 250,
   "id": "b7829e21",
   "metadata": {},
   "outputs": [
    {
     "data": {
      "text/html": [
       "<div>\n",
       "<style scoped>\n",
       "    .dataframe tbody tr th:only-of-type {\n",
       "        vertical-align: middle;\n",
       "    }\n",
       "\n",
       "    .dataframe tbody tr th {\n",
       "        vertical-align: top;\n",
       "    }\n",
       "\n",
       "    .dataframe thead th {\n",
       "        text-align: right;\n",
       "    }\n",
       "</style>\n",
       "<table border=\"1\" class=\"dataframe\">\n",
       "  <thead>\n",
       "    <tr style=\"text-align: right;\">\n",
       "      <th></th>\n",
       "      <th>Close</th>\n",
       "      <th>Open</th>\n",
       "      <th>High</th>\n",
       "      <th>Low</th>\n",
       "      <th>Volume</th>\n",
       "      <th>Change</th>\n",
       "    </tr>\n",
       "    <tr>\n",
       "      <th>Date</th>\n",
       "      <th></th>\n",
       "      <th></th>\n",
       "      <th></th>\n",
       "      <th></th>\n",
       "      <th></th>\n",
       "      <th></th>\n",
       "    </tr>\n",
       "  </thead>\n",
       "  <tbody>\n",
       "    <tr>\n",
       "      <th>2010-06-30</th>\n",
       "      <td>4.77</td>\n",
       "      <td>5.16</td>\n",
       "      <td>6.08</td>\n",
       "      <td>4.66</td>\n",
       "      <td>85970000.0</td>\n",
       "      <td>-0.0021</td>\n",
       "    </tr>\n",
       "    <tr>\n",
       "      <th>2010-07-01</th>\n",
       "      <td>4.39</td>\n",
       "      <td>5.00</td>\n",
       "      <td>5.18</td>\n",
       "      <td>4.05</td>\n",
       "      <td>41150000.0</td>\n",
       "      <td>-0.0797</td>\n",
       "    </tr>\n",
       "    <tr>\n",
       "      <th>2010-07-02</th>\n",
       "      <td>3.84</td>\n",
       "      <td>4.60</td>\n",
       "      <td>4.62</td>\n",
       "      <td>3.74</td>\n",
       "      <td>25710000.0</td>\n",
       "      <td>-0.1253</td>\n",
       "    </tr>\n",
       "    <tr>\n",
       "      <th>2010-07-06</th>\n",
       "      <td>3.22</td>\n",
       "      <td>4.00</td>\n",
       "      <td>4.00</td>\n",
       "      <td>3.17</td>\n",
       "      <td>34400000.0</td>\n",
       "      <td>-0.1615</td>\n",
       "    </tr>\n",
       "    <tr>\n",
       "      <th>2010-07-07</th>\n",
       "      <td>3.16</td>\n",
       "      <td>3.28</td>\n",
       "      <td>3.33</td>\n",
       "      <td>3.00</td>\n",
       "      <td>34620000.0</td>\n",
       "      <td>-0.0186</td>\n",
       "    </tr>\n",
       "  </tbody>\n",
       "</table>\n",
       "</div>"
      ],
      "text/plain": [
       "            Close  Open  High   Low      Volume  Change\n",
       "Date                                                   \n",
       "2010-06-30   4.77  5.16  6.08  4.66  85970000.0 -0.0021\n",
       "2010-07-01   4.39  5.00  5.18  4.05  41150000.0 -0.0797\n",
       "2010-07-02   3.84  4.60  4.62  3.74  25710000.0 -0.1253\n",
       "2010-07-06   3.22  4.00  4.00  3.17  34400000.0 -0.1615\n",
       "2010-07-07   3.16  3.28  3.33  3.00  34620000.0 -0.0186"
      ]
     },
     "execution_count": 250,
     "metadata": {},
     "output_type": "execute_result"
    }
   ],
   "source": [
    "teslr.head()"
   ]
  },
  {
   "cell_type": "code",
   "execution_count": 251,
   "id": "89953605",
   "metadata": {},
   "outputs": [
    {
     "data": {
      "text/plain": [
       "DatetimeIndex(['2010-06-30', '2010-07-01', '2010-07-02', '2010-07-06',\n",
       "               '2010-07-07', '2010-07-08', '2010-07-09', '2010-07-12',\n",
       "               '2010-07-13', '2010-07-14',\n",
       "               ...\n",
       "               '2021-11-16', '2021-11-17', '2021-11-18', '2021-11-19',\n",
       "               '2021-11-22', '2021-11-23', '2021-11-24', '2021-11-26',\n",
       "               '2021-11-29', '2021-11-30'],\n",
       "              dtype='datetime64[ns]', name='Date', length=2877, freq=None)"
      ]
     },
     "execution_count": 251,
     "metadata": {},
     "output_type": "execute_result"
    }
   ],
   "source": [
    "teslr.index"
   ]
  },
  {
   "cell_type": "code",
   "execution_count": 252,
   "id": "41bec5a0",
   "metadata": {},
   "outputs": [],
   "source": [
    "## 월별, 연도별로 구분해주기\n",
    "\n",
    "teslr['Year'] = teslr.index.year\n",
    "teslr['Month'] = teslr.index.month\n",
    "teslr['Day'] = teslr.index.day"
   ]
  },
  {
   "cell_type": "code",
   "execution_count": 253,
   "id": "6237eac0",
   "metadata": {},
   "outputs": [
    {
     "data": {
      "text/html": [
       "<div>\n",
       "<style scoped>\n",
       "    .dataframe tbody tr th:only-of-type {\n",
       "        vertical-align: middle;\n",
       "    }\n",
       "\n",
       "    .dataframe tbody tr th {\n",
       "        vertical-align: top;\n",
       "    }\n",
       "\n",
       "    .dataframe thead th {\n",
       "        text-align: right;\n",
       "    }\n",
       "</style>\n",
       "<table border=\"1\" class=\"dataframe\">\n",
       "  <thead>\n",
       "    <tr style=\"text-align: right;\">\n",
       "      <th></th>\n",
       "      <th>Close</th>\n",
       "      <th>Open</th>\n",
       "      <th>High</th>\n",
       "      <th>Low</th>\n",
       "      <th>Volume</th>\n",
       "      <th>Change</th>\n",
       "      <th>Year</th>\n",
       "      <th>Month</th>\n",
       "      <th>Day</th>\n",
       "    </tr>\n",
       "    <tr>\n",
       "      <th>Date</th>\n",
       "      <th></th>\n",
       "      <th></th>\n",
       "      <th></th>\n",
       "      <th></th>\n",
       "      <th></th>\n",
       "      <th></th>\n",
       "      <th></th>\n",
       "      <th></th>\n",
       "      <th></th>\n",
       "    </tr>\n",
       "  </thead>\n",
       "  <tbody>\n",
       "    <tr>\n",
       "      <th>2010-06-30</th>\n",
       "      <td>4.77</td>\n",
       "      <td>5.16</td>\n",
       "      <td>6.08</td>\n",
       "      <td>4.66</td>\n",
       "      <td>85970000.0</td>\n",
       "      <td>-0.0021</td>\n",
       "      <td>2010</td>\n",
       "      <td>6</td>\n",
       "      <td>30</td>\n",
       "    </tr>\n",
       "    <tr>\n",
       "      <th>2010-07-01</th>\n",
       "      <td>4.39</td>\n",
       "      <td>5.00</td>\n",
       "      <td>5.18</td>\n",
       "      <td>4.05</td>\n",
       "      <td>41150000.0</td>\n",
       "      <td>-0.0797</td>\n",
       "      <td>2010</td>\n",
       "      <td>7</td>\n",
       "      <td>1</td>\n",
       "    </tr>\n",
       "    <tr>\n",
       "      <th>2010-07-02</th>\n",
       "      <td>3.84</td>\n",
       "      <td>4.60</td>\n",
       "      <td>4.62</td>\n",
       "      <td>3.74</td>\n",
       "      <td>25710000.0</td>\n",
       "      <td>-0.1253</td>\n",
       "      <td>2010</td>\n",
       "      <td>7</td>\n",
       "      <td>2</td>\n",
       "    </tr>\n",
       "    <tr>\n",
       "      <th>2010-07-06</th>\n",
       "      <td>3.22</td>\n",
       "      <td>4.00</td>\n",
       "      <td>4.00</td>\n",
       "      <td>3.17</td>\n",
       "      <td>34400000.0</td>\n",
       "      <td>-0.1615</td>\n",
       "      <td>2010</td>\n",
       "      <td>7</td>\n",
       "      <td>6</td>\n",
       "    </tr>\n",
       "    <tr>\n",
       "      <th>2010-07-07</th>\n",
       "      <td>3.16</td>\n",
       "      <td>3.28</td>\n",
       "      <td>3.33</td>\n",
       "      <td>3.00</td>\n",
       "      <td>34620000.0</td>\n",
       "      <td>-0.0186</td>\n",
       "      <td>2010</td>\n",
       "      <td>7</td>\n",
       "      <td>7</td>\n",
       "    </tr>\n",
       "  </tbody>\n",
       "</table>\n",
       "</div>"
      ],
      "text/plain": [
       "            Close  Open  High   Low      Volume  Change  Year  Month  Day\n",
       "Date                                                                     \n",
       "2010-06-30   4.77  5.16  6.08  4.66  85970000.0 -0.0021  2010      6   30\n",
       "2010-07-01   4.39  5.00  5.18  4.05  41150000.0 -0.0797  2010      7    1\n",
       "2010-07-02   3.84  4.60  4.62  3.74  25710000.0 -0.1253  2010      7    2\n",
       "2010-07-06   3.22  4.00  4.00  3.17  34400000.0 -0.1615  2010      7    6\n",
       "2010-07-07   3.16  3.28  3.33  3.00  34620000.0 -0.0186  2010      7    7"
      ]
     },
     "execution_count": 253,
     "metadata": {},
     "output_type": "execute_result"
    }
   ],
   "source": [
    "teslr.head()"
   ]
  },
  {
   "cell_type": "code",
   "execution_count": 254,
   "id": "a7e1d975",
   "metadata": {},
   "outputs": [
    {
     "data": {
      "text/plain": [
       "Text(0, 0.5, 'price')"
      ]
     },
     "execution_count": 254,
     "metadata": {},
     "output_type": "execute_result"
    },
    {
     "data": {
      "image/png": "[encoded data removed]",
      "text/plain": [
       "<Figure size 720x576 with 1 Axes>"
      ]
     },
     "metadata": {},
     "output_type": "display_data"
    }
   ],
   "source": [
    "plt.figure(figsize = (10, 8))\n",
    "\n",
    "teslr['Close'].plot()\n",
    "plt.xlabel('time')\n",
    "plt.ylabel('price')"
   ]
  },
  {
   "cell_type": "code",
   "execution_count": 255,
   "id": "70640455",
   "metadata": {},
   "outputs": [
    {
     "data": {
      "image/png": "[encoded data removed]",
      "text/plain": [
       "<Figure size 1152x648 with 4 Axes>"
      ]
     },
     "metadata": {},
     "output_type": "display_data"
    }
   ],
   "source": [
    "time_step = [['2010', '2013'],\n",
    "            ['2013', '2016'],\n",
    "            ['2016', '2018'],\n",
    "            ['2018', '2021']]\n",
    "\n",
    "fig, axes = plt.subplots(2, 2)\n",
    "fig.set_size_inches(16, 9)\n",
    "\n",
    "for i in range(4):\n",
    "    ax = axes[i//2, i%2]\n",
    "    df = teslr.loc[(teslr.index > time_step[i][0]) & (teslr.index < time_step[i][1])]\n",
    "    sns.lineplot(y = df['Close'], x = df.index, ax = ax)\n",
    "    ax.set_title(f'{time_step[i][0]} ~ {time_step[i][1]}')\n",
    "    ax.set_xlabel('time')\n",
    "    ax.set_ylabel('price')\n",
    "    \n",
    "plt.tight_layout()\n",
    "plt.show()"
   ]
  },
  {
   "cell_type": "code",
   "execution_count": 256,
   "id": "7b899932",
   "metadata": {},
   "outputs": [
    {
     "data": {
      "text/plain": [
       "array([[1.56760181e-03, 2.21745581e-03, 1.36738056e-03, 1.31241084e-03,\n",
       "        2.80755646e-01],\n",
       "       [1.43764519e-03, 1.49174300e-03, 8.64909390e-04, 1.00264928e-03,\n",
       "        1.33368430e-01],\n",
       "       [1.11275362e-03, 1.04018836e-03, 6.09555189e-04, 5.54310169e-04,\n",
       "        8.25951449e-02],\n",
       "       ...,\n",
       "       [8.90397830e-01, 8.91376919e-01, 8.87973641e-01, 8.79364174e-01,\n",
       "        3.64256555e-02],\n",
       "       [8.91632418e-01, 9.18704038e-01, 9.03780890e-01, 9.24255146e-01,\n",
       "        6.11546128e-02],\n",
       "       [9.26866908e-01, 9.39128822e-01, 9.18451400e-01, 9.30588955e-01,\n",
       "        8.52258850e-02]])"
      ]
     },
     "execution_count": 256,
     "metadata": {},
     "output_type": "execute_result"
    }
   ],
   "source": [
    "## 전처리\n",
    "\n",
    "scaler = MinMaxScaler()\n",
    "# 스케일할 column 정의\n",
    "scale_cols = ['Open', 'High', 'Low', 'Close', 'Volume']\n",
    "# 스케일 후, column\n",
    "scaled = scaler.fit_transform(teslr[scale_cols])\n",
    "scaled"
   ]
  },
  {
   "cell_type": "code",
   "execution_count": 257,
   "id": "56356036",
   "metadata": {},
   "outputs": [
    {
     "data": {
      "text/html": [
       "<div>\n",
       "<style scoped>\n",
       "    .dataframe tbody tr th:only-of-type {\n",
       "        vertical-align: middle;\n",
       "    }\n",
       "\n",
       "    .dataframe tbody tr th {\n",
       "        vertical-align: top;\n",
       "    }\n",
       "\n",
       "    .dataframe thead th {\n",
       "        text-align: right;\n",
       "    }\n",
       "</style>\n",
       "<table border=\"1\" class=\"dataframe\">\n",
       "  <thead>\n",
       "    <tr style=\"text-align: right;\">\n",
       "      <th></th>\n",
       "      <th>Open</th>\n",
       "      <th>High</th>\n",
       "      <th>Low</th>\n",
       "      <th>Close</th>\n",
       "      <th>Volume</th>\n",
       "    </tr>\n",
       "  </thead>\n",
       "  <tbody>\n",
       "    <tr>\n",
       "      <th>0</th>\n",
       "      <td>0.001568</td>\n",
       "      <td>0.002217</td>\n",
       "      <td>0.001367</td>\n",
       "      <td>0.001312</td>\n",
       "      <td>0.280756</td>\n",
       "    </tr>\n",
       "    <tr>\n",
       "      <th>1</th>\n",
       "      <td>0.001438</td>\n",
       "      <td>0.001492</td>\n",
       "      <td>0.000865</td>\n",
       "      <td>0.001003</td>\n",
       "      <td>0.133368</td>\n",
       "    </tr>\n",
       "    <tr>\n",
       "      <th>2</th>\n",
       "      <td>0.001113</td>\n",
       "      <td>0.001040</td>\n",
       "      <td>0.000610</td>\n",
       "      <td>0.000554</td>\n",
       "      <td>0.082595</td>\n",
       "    </tr>\n",
       "    <tr>\n",
       "      <th>3</th>\n",
       "      <td>0.000625</td>\n",
       "      <td>0.000540</td>\n",
       "      <td>0.000140</td>\n",
       "      <td>0.000049</td>\n",
       "      <td>0.111172</td>\n",
       "    </tr>\n",
       "    <tr>\n",
       "      <th>4</th>\n",
       "      <td>0.000041</td>\n",
       "      <td>0.000000</td>\n",
       "      <td>0.000000</td>\n",
       "      <td>0.000000</td>\n",
       "      <td>0.111895</td>\n",
       "    </tr>\n",
       "    <tr>\n",
       "      <th>...</th>\n",
       "      <td>...</td>\n",
       "      <td>...</td>\n",
       "      <td>...</td>\n",
       "      <td>...</td>\n",
       "      <td>...</td>\n",
       "    </tr>\n",
       "    <tr>\n",
       "      <th>2872</th>\n",
       "      <td>0.945662</td>\n",
       "      <td>0.949208</td>\n",
       "      <td>0.872900</td>\n",
       "      <td>0.901463</td>\n",
       "      <td>0.116400</td>\n",
       "    </tr>\n",
       "    <tr>\n",
       "      <th>2873</th>\n",
       "      <td>0.874901</td>\n",
       "      <td>0.910721</td>\n",
       "      <td>0.872323</td>\n",
       "      <td>0.907145</td>\n",
       "      <td>0.072237</td>\n",
       "    </tr>\n",
       "    <tr>\n",
       "      <th>2874</th>\n",
       "      <td>0.890398</td>\n",
       "      <td>0.891377</td>\n",
       "      <td>0.887974</td>\n",
       "      <td>0.879364</td>\n",
       "      <td>0.036426</td>\n",
       "    </tr>\n",
       "    <tr>\n",
       "      <th>2875</th>\n",
       "      <td>0.891632</td>\n",
       "      <td>0.918704</td>\n",
       "      <td>0.903781</td>\n",
       "      <td>0.924255</td>\n",
       "      <td>0.061155</td>\n",
       "    </tr>\n",
       "    <tr>\n",
       "      <th>2876</th>\n",
       "      <td>0.926867</td>\n",
       "      <td>0.939129</td>\n",
       "      <td>0.918451</td>\n",
       "      <td>0.930589</td>\n",
       "      <td>0.085226</td>\n",
       "    </tr>\n",
       "  </tbody>\n",
       "</table>\n",
       "<p>2877 rows × 5 columns</p>\n",
       "</div>"
      ],
      "text/plain": [
       "          Open      High       Low     Close    Volume\n",
       "0     0.001568  0.002217  0.001367  0.001312  0.280756\n",
       "1     0.001438  0.001492  0.000865  0.001003  0.133368\n",
       "2     0.001113  0.001040  0.000610  0.000554  0.082595\n",
       "3     0.000625  0.000540  0.000140  0.000049  0.111172\n",
       "4     0.000041  0.000000  0.000000  0.000000  0.111895\n",
       "...        ...       ...       ...       ...       ...\n",
       "2872  0.945662  0.949208  0.872900  0.901463  0.116400\n",
       "2873  0.874901  0.910721  0.872323  0.907145  0.072237\n",
       "2874  0.890398  0.891377  0.887974  0.879364  0.036426\n",
       "2875  0.891632  0.918704  0.903781  0.924255  0.061155\n",
       "2876  0.926867  0.939129  0.918451  0.930589  0.085226\n",
       "\n",
       "[2877 rows x 5 columns]"
      ]
     },
     "execution_count": 257,
     "metadata": {},
     "output_type": "execute_result"
    }
   ],
   "source": [
    "## 새로운 데이터프레임 정의\n",
    "\n",
    "df = pd.DataFrame(scaled, columns = scale_cols)\n",
    "df"
   ]
  },
  {
   "cell_type": "code",
   "execution_count": 290,
   "id": "36b48d85",
   "metadata": {},
   "outputs": [
    {
     "name": "stdout",
     "output_type": "stream",
     "text": [
      "(2301, 4) (2301,)\n",
      "(576, 4) (576,)\n"
     ]
    },
    {
     "name": "stderr",
     "output_type": "stream",
     "text": [
      "C:\\Users\\User\\AppData\\Local\\Temp/ipykernel_9980/297293286.py:3: FutureWarning: In a future version of pandas all arguments of DataFrame.drop except for the argument 'labels' will be keyword-only\n",
      "  x_train, x_test, y_train, y_test = train_test_split(df.drop('Close', 1), df['Close'], test_size = .2, random_state = 0, shuffle = False)\n"
     ]
    }
   ],
   "source": [
    "## train/test 분할\n",
    "\n",
    "x_train, x_test, y_train, y_test = train_test_split(df.drop('Close', 1), df['Close'], test_size = .2, random_state = 0, shuffle = False)\n",
    "\n",
    "print(x_train.shape, y_train.shape)\n",
    "print(x_test.shape, y_test.shape)"
   ]
  },
  {
   "cell_type": "code",
   "execution_count": 291,
   "id": "b44120f0",
   "metadata": {},
   "outputs": [],
   "source": [
    "def windowed_dataset(series, window_size, batch_size, shuffle):\n",
    "    series = tf.expand_dims(series, axis=-1)\n",
    "    ds = tf.data.Dataset.from_tensor_slices(series)\n",
    "    ds = ds.window(window_size + 1, shift=1, drop_remainder=True)\n",
    "    ds = ds.flat_map(lambda w: w.batch(window_size + 1))\n",
    "    if shuffle:\n",
    "        ds = ds.shuffle(1000)\n",
    "    ds = ds.map(lambda w: (w[:-1], w[-1]))\n",
    "    return ds.batch(batch_size).prefetch(1)"
   ]
  },
  {
   "cell_type": "code",
   "execution_count": 292,
   "id": "dc3327ab",
   "metadata": {},
   "outputs": [
    {
     "name": "stdout",
     "output_type": "stream",
     "text": [
      "데이터셋(X) 구성(batch_size, window_size, feature갯수): (32, 20, 1)\n",
      "데이터셋(Y) 구성(batch_size, window_size, feature갯수): (32, 1)\n"
     ]
    }
   ],
   "source": [
    "WINDOW_SIZE=20\n",
    "BATCH_SIZE=32\n",
    "\n",
    "# trian_data는 학습용 데이터셋, test_data는 검증용 데이터셋 입니다.\n",
    "train_data = windowed_dataset(y_train, WINDOW_SIZE, BATCH_SIZE, True)\n",
    "test_data = windowed_dataset(y_test, WINDOW_SIZE, BATCH_SIZE, False)\n",
    "\n",
    "for data in train_data.take(1):\n",
    "    print(f'데이터셋(X) 구성(batch_size, window_size, feature갯수): {data[0].shape}')\n",
    "    print(f'데이터셋(Y) 구성(batch_size, window_size, feature갯수): {data[1].shape}')"
   ]
  },
  {
   "cell_type": "code",
   "execution_count": 293,
   "id": "0bbb6963",
   "metadata": {},
   "outputs": [],
   "source": [
    "from tensorflow.keras.models import Sequential\n",
    "from tensorflow.keras.layers import Dense, LSTM, Conv1D, Lambda\n",
    "from tensorflow.keras.losses import Huber\n",
    "from tensorflow.keras.optimizers import Adam\n",
    "from tensorflow.keras.callbacks import EarlyStopping, ModelCheckpoint\n",
    "\n",
    "\n",
    "model = Sequential([\n",
    "    # 1차원 feature map 생성\n",
    "    Conv1D(filters=32, kernel_size=5,\n",
    "           padding=\"causal\",\n",
    "           activation=\"relu\",\n",
    "           input_shape=[WINDOW_SIZE, 1]),\n",
    "    # LSTM\n",
    "    LSTM(16, activation='tanh'),\n",
    "    Dense(16, activation=\"relu\"),\n",
    "    Dense(1),\n",
    "])\n",
    "\n",
    "# Sequence 학습에 비교적 좋은 퍼포먼스를 내는 Huber()를 사용합니다.\n",
    "loss = Huber()\n",
    "optimizer = Adam(0.0005)\n",
    "model.compile(loss=Huber(), optimizer=optimizer, metrics=['mse'])"
   ]
  },
  {
   "cell_type": "code",
   "execution_count": 294,
   "id": "3a2162a4",
   "metadata": {},
   "outputs": [],
   "source": [
    "# earlystopping은 10번 epoch통안 val_loss 개선이 없다면 학습을 멈춥니다.\n",
    "earlystopping = EarlyStopping(monitor='val_loss', patience=10)\n",
    "# val_loss 기준 체크포인터도 생성합니다.\n",
    "filename = os.path.join('tmp', 'ckeckpointer.ckpt')\n",
    "checkpoint = ModelCheckpoint(filename, \n",
    "                             save_weights_only=True, \n",
    "                             save_best_only=True, \n",
    "                             monitor='val_loss', \n",
    "                             verbose=1)"
   ]
  },
  {
   "cell_type": "code",
   "execution_count": 295,
   "id": "7ae0b142",
   "metadata": {},
   "outputs": [
    {
     "name": "stdout",
     "output_type": "stream",
     "text": [
      "Epoch 1/50\n",
      "     61/Unknown - 1s 8ms/step - loss: 5.1652e-05 - mse: 1.0330e-04\n",
      "Epoch 00001: val_loss improved from inf to 0.01244, saving model to tmp\\ckeckpointer.ckpt\n",
      "72/72 [==============================] - 2s 12ms/step - loss: 4.4678e-05 - mse: 8.9356e-05 - val_loss: 0.0124 - val_mse: 0.0249\n",
      "Epoch 2/50\n",
      "65/72 [==========================>...] - ETA: 0s - loss: 6.7720e-06 - mse: 1.3544e-05\n",
      "Epoch 00002: val_loss improved from 0.01244 to 0.01191, saving model to tmp\\ckeckpointer.ckpt\n",
      "72/72 [==============================] - 0s 5ms/step - loss: 6.4782e-06 - mse: 1.2956e-05 - val_loss: 0.0119 - val_mse: 0.0238\n",
      "Epoch 3/50\n",
      "65/72 [==========================>...] - ETA: 0s - loss: 6.5713e-06 - mse: 1.3143e-05\n",
      "Epoch 00003: val_loss did not improve from 0.01191\n",
      "72/72 [==============================] - 0s 5ms/step - loss: 6.3176e-06 - mse: 1.2635e-05 - val_loss: 0.0120 - val_mse: 0.0240\n",
      "Epoch 4/50\n",
      "63/72 [=========================>....] - ETA: 0s - loss: 6.8089e-06 - mse: 1.3618e-05\n",
      "Epoch 00004: val_loss improved from 0.01191 to 0.01145, saving model to tmp\\ckeckpointer.ckpt\n",
      "72/72 [==============================] - 0s 5ms/step - loss: 6.4673e-06 - mse: 1.2935e-05 - val_loss: 0.0114 - val_mse: 0.0229\n",
      "Epoch 5/50\n",
      "68/72 [===========================>..] - ETA: 0s - loss: 6.5179e-06 - mse: 1.3036e-05\n",
      "Epoch 00005: val_loss did not improve from 0.01145\n",
      "72/72 [==============================] - 0s 6ms/step - loss: 6.4065e-06 - mse: 1.2813e-05 - val_loss: 0.0124 - val_mse: 0.0249\n",
      "Epoch 6/50\n",
      "67/72 [==========================>...] - ETA: 0s - loss: 6.2884e-06 - mse: 1.2577e-05\n",
      "Epoch 00006: val_loss did not improve from 0.01145\n",
      "72/72 [==============================] - 0s 6ms/step - loss: 6.1045e-06 - mse: 1.2209e-05 - val_loss: 0.0132 - val_mse: 0.0263\n",
      "Epoch 7/50\n",
      "66/72 [==========================>...] - ETA: 0s - loss: 6.2027e-06 - mse: 1.2405e-05\n",
      "Epoch 00007: val_loss did not improve from 0.01145\n",
      "72/72 [==============================] - 0s 6ms/step - loss: 6.0126e-06 - mse: 1.2025e-05 - val_loss: 0.0134 - val_mse: 0.0267\n",
      "Epoch 8/50\n",
      "66/72 [==========================>...] - ETA: 0s - loss: 6.1191e-06 - mse: 1.2238e-05\n",
      "Epoch 00008: val_loss did not improve from 0.01145\n",
      "72/72 [==============================] - 0s 6ms/step - loss: 5.8792e-06 - mse: 1.1758e-05 - val_loss: 0.0139 - val_mse: 0.0279\n",
      "Epoch 9/50\n",
      "72/72 [==============================] - ETA: 0s - loss: 5.9699e-06 - mse: 1.1940e-05\n",
      "Epoch 00009: val_loss did not improve from 0.01145\n",
      "72/72 [==============================] - 0s 6ms/step - loss: 5.9699e-06 - mse: 1.1940e-05 - val_loss: 0.0136 - val_mse: 0.0272\n",
      "Epoch 10/50\n",
      "64/72 [=========================>....] - ETA: 0s - loss: 6.0444e-06 - mse: 1.2089e-05\n",
      "Epoch 00010: val_loss did not improve from 0.01145\n",
      "72/72 [==============================] - 0s 6ms/step - loss: 5.7729e-06 - mse: 1.1546e-05 - val_loss: 0.0139 - val_mse: 0.0278\n",
      "Epoch 11/50\n",
      "66/72 [==========================>...] - ETA: 0s - loss: 6.1570e-06 - mse: 1.2314e-05\n",
      "Epoch 00011: val_loss did not improve from 0.01145\n",
      "72/72 [==============================] - 1s 7ms/step - loss: 5.9334e-06 - mse: 1.1867e-05 - val_loss: 0.0137 - val_mse: 0.0273\n",
      "Epoch 12/50\n",
      "65/72 [==========================>...] - ETA: 0s - loss: 6.0473e-06 - mse: 1.2095e-05\n",
      "Epoch 00012: val_loss did not improve from 0.01145\n",
      "72/72 [==============================] - 1s 7ms/step - loss: 5.8798e-06 - mse: 1.1760e-05 - val_loss: 0.0127 - val_mse: 0.0254\n",
      "Epoch 13/50\n",
      "66/72 [==========================>...] - ETA: 0s - loss: 2.2777e-06 - mse: 4.5553e-06\n",
      "Epoch 00013: val_loss did not improve from 0.01145\n",
      "72/72 [==============================] - 0s 6ms/step - loss: 5.8133e-06 - mse: 1.1627e-05 - val_loss: 0.0136 - val_mse: 0.0273\n",
      "Epoch 14/50\n",
      "65/72 [==========================>...] - ETA: 0s - loss: 6.8545e-06 - mse: 1.3709e-05\n",
      "Epoch 00014: val_loss did not improve from 0.01145\n",
      "72/72 [==============================] - 0s 6ms/step - loss: 6.4759e-06 - mse: 1.2952e-05 - val_loss: 0.0143 - val_mse: 0.0286\n"
     ]
    }
   ],
   "source": [
    "history = model.fit(train_data, \n",
    "                    validation_data=(test_data), \n",
    "                    epochs=50, \n",
    "                    callbacks=[checkpoint, earlystopping])"
   ]
  },
  {
   "cell_type": "code",
   "execution_count": 296,
   "id": "9f69264d",
   "metadata": {},
   "outputs": [
    {
     "data": {
      "text/plain": [
       "<tensorflow.python.training.tracking.util.CheckpointLoadStatus at 0x1e313551fa0>"
      ]
     },
     "execution_count": 296,
     "metadata": {},
     "output_type": "execute_result"
    }
   ],
   "source": [
    "model.load_weights(filename)"
   ]
  },
  {
   "cell_type": "code",
   "execution_count": 297,
   "id": "7653370e",
   "metadata": {},
   "outputs": [],
   "source": [
    "pred = model.predict(test_data)"
   ]
  },
  {
   "cell_type": "code",
   "execution_count": 298,
   "id": "8471bdab",
   "metadata": {},
   "outputs": [
    {
     "data": {
      "text/plain": [
       "(556, 1)"
      ]
     },
     "execution_count": 298,
     "metadata": {},
     "output_type": "execute_result"
    }
   ],
   "source": [
    "pred.shape"
   ]
  },
  {
   "cell_type": "markdown",
   "id": "00cc0f9e",
   "metadata": {},
   "source": [
    "## 예측 데이터 시각화"
   ]
  },
  {
   "cell_type": "code",
   "execution_count": 299,
   "id": "5f4c7891",
   "metadata": {
    "scrolled": false
   },
   "outputs": [
    {
     "data": {
      "image/png": "[encoded data removed]",
      "text/plain": [
       "<Figure size 864x648 with 1 Axes>"
      ]
     },
     "metadata": {},
     "output_type": "display_data"
    }
   ],
   "source": [
    "plt.figure(figsize = (12, 9))\n",
    "plt.plot(np.array(y_test)[20:], label = 'True')\n",
    "plt.plot(pred, label = 'Prediction')\n",
    "plt.legend()\n",
    "plt.show()"
   ]
  },
  {
   "cell_type": "code",
   "execution_count": 303,
   "id": "d3da6fec",
   "metadata": {},
   "outputs": [
    {
     "data": {
      "image/png": "[encoded data removed]",
      "text/plain": [
       "<Figure size 864x576 with 2 Axes>"
      ]
     },
     "metadata": {},
     "output_type": "display_data"
    }
   ],
   "source": [
    "plt.figure(figsize = (12, 8))\n",
    "\n",
    "plt.subplot(1, 2, 1)\n",
    "plt.plot(history.history['mse'], label = 'Training MSE')\n",
    "plt.plot(history.history['val_mse'], label = 'Validation MSE')\n",
    "plt.xlabel('EPOCH')\n",
    "plt.ylabel('MSE')\n",
    "plt.legend()\n",
    "plt.grid()\n",
    "\n",
    "plt.subplot(1, 2, 2)\n",
    "plt.plot(history.history['loss'], label = 'Training Loss')\n",
    "plt.plot(history.history['val_loss'], label = 'Validation Loss')\n",
    "plt.xlabel('EPOCH')\n",
    "plt.ylabel('Loss')\n",
    "plt.legend()\n",
    "plt.grid()\n",
    "\n",
    "plt.show()"
   ]
  },
  {
   "cell_type": "code",
   "execution_count": null,
   "id": "86f4653b",
   "metadata": {},
   "outputs": [],
   "source": []
  },
  {
   "cell_type": "code",
   "execution_count": null,
   "id": "6791a0cb",
   "metadata": {},
   "outputs": [],
   "source": []
  },
  {
   "cell_type": "code",
   "execution_count": null,
   "id": "27b20dc8",
   "metadata": {},
   "outputs": [],
   "source": []
  },
  {
   "cell_type": "code",
   "execution_count": null,
   "id": "e33b115e",
   "metadata": {},
   "outputs": [],
   "source": []
  },
  {
   "cell_type": "code",
   "execution_count": null,
   "id": "eb8b9ea8",
   "metadata": {},
   "outputs": [],
   "source": []
  },
  {
   "cell_type": "code",
   "execution_count": null,
   "id": "392c6f20",
   "metadata": {},
   "outputs": [],
   "source": []
  },
  {
   "cell_type": "code",
   "execution_count": null,
   "id": "baa596f1",
   "metadata": {},
   "outputs": [],
   "source": []
  }
 ],
 "metadata": {
  "kernelspec": {
   "display_name": "Python 3 (ipykernel)",
   "language": "python",
   "name": "python3"
  },
  "language_info": {
   "codemirror_mode": {
    "name": "ipython",
    "version": 3
   },
   "file_extension": ".py",
   "mimetype": "text/x-python",
   "name": "python",
   "nbconvert_exporter": "python",
   "pygments_lexer": "ipython3",
   "version": "3.9.7"
  },
  "toc": {
   "base_numbering": 1,
   "nav_menu": {},
   "number_sections": true,
   "sideBar": true,
   "skip_h1_title": false,
   "title_cell": "Table of Contents",
   "title_sidebar": "Contents",
   "toc_cell": false,
   "toc_position": {
    "height": "calc(100% - 180px)",
    "left": "10px",
    "top": "150px",
    "width": "255.865px"
   },
   "toc_section_display": true,
   "toc_window_display": false
  },
  "varInspector": {
   "cols": {
    "lenName": 16,
    "lenType": 16,
    "lenVar": 40
   },
   "kernels_config": {
    "python": {
     "delete_cmd_postfix": "",
     "delete_cmd_prefix": "del ",
     "library": "var_list.py",
     "varRefreshCmd": "print(var_dic_list())"
    },
    "r": {
     "delete_cmd_postfix": ") ",
     "delete_cmd_prefix": "rm(",
     "library": "var_list.r",
     "varRefreshCmd": "cat(var_dic_list()) "
    }
   },
   "types_to_exclude": [
    "module",
    "function",
    "builtin_function_or_method",
    "instance",
    "_Feature"
   ],
   "window_display": false
  }
 },
 "nbformat": 4,
 "nbformat_minor": 5
}
