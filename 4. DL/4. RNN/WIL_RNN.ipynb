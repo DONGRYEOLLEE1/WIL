{
 "cells": [
  {
   "cell_type": "markdown",
   "id": "d75c91cb",
   "metadata": {},
   "source": [
    "# 순환 신경망 (Recurrent Neural Network, RNN)\n",
    "\n",
    "- **순서가 있는 데이터**를 입력으로 받음\n",
    "\n",
    "- 변화하는 입력에 대한 출력을 얻음\n",
    "\n",
    "- 시계열(날씨, 주가 등), 자연어와 같이 **시간의 흐름에 따라 변화하고, 그 변화가 의미를 갖는 데이터** "
   ]
  },
  {
   "cell_type": "markdown",
   "id": "34acdef6",
   "metadata": {},
   "source": [
    "## Feed Forward Network vs Recurrent Network\n",
    "\n",
    "- Feed Forward Net (앞먹임 구조)\n",
    "  - 일반적인 구조의 신경망\n",
    "\n",
    "  - 입력 → 은닉 → 출력층 으로 이어지는 단방향 구조\n",
    "\n",
    "  - 이전 스텝의 출력의 영향을 받지 않음\n",
    "\n",
    "- Recurrent Net (되먹임 구조)\n",
    "  - 이전 층(Layer), 또는 스텝의 출력이 다시 입력으로 연결되는 신경망 구조\n",
    "\n",
    "  - 각 스텝마다 이전 상태를 기억 시스템(Memory System)  \n",
    "\n",
    "  - 현재 상태가 이전 상태에 종속\n",
    "\n",
    "  <br>\n",
    "\n",
    "  <img src=\"https://www.researchgate.net/profile/Engin_Pekel/publication/315111480/figure/fig1/AS:472548166115333@1489675670530/Feed-forward-and-recurrent-ANN-architecture.png\">\n",
    "\n",
    "  <sub>출처: https://www.researchgate.net/figure/Feed-forward-and-recurrent-ANN-architecture_fig1_315111480</sub>\n",
    "\n"
   ]
  },
  {
   "cell_type": "markdown",
   "id": "0ecd53c2",
   "metadata": {},
   "source": [
    "## 순환 신경망 구조\n",
    "\n",
    "<img src=\"https://colah.github.io/posts/2015-08-Understanding-LSTMs/img/RNN-unrolled.png\" width=\"700\">\n",
    "\n",
    "<br>\n",
    "\n",
    "- 입력 $x_t$에서 $t$는 시각을 뜻함\n",
    "\n",
    "- $X_0$에 대한 출력 $Y_0$이 다음 레이어에 전달\n",
    "\n",
    "- 각각의 입력에 대해 출력은 해당 레이어대로 출력값을 반환"
   ]
  },
  {
   "cell_type": "markdown",
   "id": "e4e3b00c",
   "metadata": {},
   "source": [
    "## 순환 신경망의 다양한 구조\n",
    "\n",
    "<img src=\"https://static.packt-cdn.com/products/9781789346640/graphics/2d4a64ef-9cf9-4b4a-9049-cb9de7a07f89.png\">\n",
    "  \n",
    "  <sub>출처: https://subscription.packtpub.com/book/big_data_and_business_intelligence/9781789346640/11/ch11lvl1sec80/introduction</sub>\n",
    "\n",
    "- one to one\n",
    "  - RNN\n",
    "\n",
    "- one to many\n",
    "  - Image Captioning \n",
    "\n",
    "  - 이미지에 대한 설명 생성\n",
    "\n",
    "- many to one\n",
    "  - Sentiment Classification\n",
    "\n",
    "  - 문장의 긍정/부정을 판단하는 감정 분석\n",
    "\n",
    "- many to many\n",
    "  - Machine Translation\n",
    "\n",
    "  - 하나의 언어를 다른 언어로 번역하는 기계 번역\n",
    "\n",
    "- many to many\n",
    "  - Video Classification(Frame Level)\n",
    "\n",
    "\n"
   ]
  },
  {
   "cell_type": "markdown",
   "id": "6102ed54",
   "metadata": {},
   "source": [
    "## 두 가지 정보(현재 입력, 이전 시각의 출력)을 처리하는 수식\n",
    "$\\qquad h_t = tanh ( \\ h_{t-1} W_h \\ + \\ x_t W_x + b) $\n",
    "\n",
    "- $W_x$ : 입력 $x$를 출력 $h$로 변환하기 위한 가중치\n",
    "\n",
    "- $W_h$ : 다음 시각의 출력으로 변환하기 위한 가중치\n",
    "\n",
    "- $h$는 '상태'를 기억\n",
    "\n",
    "- $h_t \\ $를 은닉 상태(hidden state) 또는 은닉 상태 벡터(hidden state vector)라고도 불림\n",
    "\n",
    "  <sub>출처: https://colah.github.io/posts/2015-08-Understanding-LSTMs/</sub>"
   ]
  },
  {
   "cell_type": "markdown",
   "id": "14b4527f",
   "metadata": {},
   "source": [
    "## 순환 신경망 레이어 (RNN Layer)\n",
    "\n",
    "- 입력: `(timesteps, input_features)`\n",
    "\n",
    "- 출력: `(timesteps, output_features)`"
   ]
  },
  {
   "cell_type": "code",
   "execution_count": 1,
   "id": "48de2c55",
   "metadata": {},
   "outputs": [],
   "source": [
    "import numpy as np"
   ]
  },
  {
   "cell_type": "code",
   "execution_count": 6,
   "id": "7ef08dd7",
   "metadata": {},
   "outputs": [],
   "source": [
    "timesteps = 100\n",
    "input_features = 32\n",
    "output_features = 64\n",
    "\n",
    "inputs = np.random.random((timesteps, input_features))\n",
    "\n",
    "state_t = np.zeros((output_features, ))\n",
    "\n",
    "W = np.random.random((output_features, input_features))\n",
    "U = np.random.random((output_features, output_features))\n",
    "b = np.random.random((output_features, ))\n",
    "\n",
    "succesive_outputs = []\n",
    "\n",
    "for input_t in inputs:\n",
    "    output_t = np.tanh(np.dot(W, input_t) + np.dot(U, state_t) + b)\n",
    "    succesive_outputs.append(output_t)\n",
    "    state_t = output_t\n",
    "    \n",
    "final_output_sequence = np.stack(succesive_outputs, axis = 0)"
   ]
  },
  {
   "cell_type": "markdown",
   "id": "dbe585b0",
   "metadata": {},
   "source": [
    "## 케라스의 순환층\n",
    "- `SimpleRNN` layer\n",
    "\n",
    "- 입력: `(batch_size, timesteps, input_features)`\n",
    "\n",
    "- 출력\n",
    "  - `return_sequences`로 결정할 수 있음\n",
    "  \n",
    "  - 3D 텐서\n",
    "    - 타임스텝의 출력을 모은 전체 시퀀스를 반환\n",
    "\n",
    "    - `(batch_size, timesteps, output_features)`\n",
    "\n",
    "  - 2D 텐서\n",
    "    - 입력 시퀀스에 대한 마지막 출력만 반환\n",
    "\n",
    "    - `(batch_size, output_features)`\n"
   ]
  },
  {
   "cell_type": "code",
   "execution_count": 7,
   "id": "edfe938a",
   "metadata": {},
   "outputs": [],
   "source": [
    "from tensorflow.keras.layers import SimpleRNN, Embedding\n",
    "from tensorflow.keras.models import Sequential"
   ]
  },
  {
   "cell_type": "code",
   "execution_count": 8,
   "id": "969ca464",
   "metadata": {},
   "outputs": [
    {
     "name": "stdout",
     "output_type": "stream",
     "text": [
      "Model: \"sequential\"\n",
      "_________________________________________________________________\n",
      " Layer (type)                Output Shape              Param #   \n",
      "=================================================================\n",
      " embedding (Embedding)       (None, None, 32)          320000    \n",
      "                                                                 \n",
      " simple_rnn (SimpleRNN)      (None, 32)                2080      \n",
      "                                                                 \n",
      "=================================================================\n",
      "Total params: 322,080\n",
      "Trainable params: 322,080\n",
      "Non-trainable params: 0\n",
      "_________________________________________________________________\n"
     ]
    }
   ],
   "source": [
    "model = Sequential()\n",
    "model.add(Embedding(10000, 32))\n",
    "model.add(SimpleRNN(32))\n",
    "model.summary()"
   ]
  },
  {
   "cell_type": "code",
   "execution_count": 10,
   "id": "e600deb0",
   "metadata": {},
   "outputs": [
    {
     "name": "stdout",
     "output_type": "stream",
     "text": [
      "Model: \"sequential_2\"\n",
      "_________________________________________________________________\n",
      " Layer (type)                Output Shape              Param #   \n",
      "=================================================================\n",
      " embedding_2 (Embedding)     (None, None, 32)          320000    \n",
      "                                                                 \n",
      " simple_rnn_2 (SimpleRNN)    (None, None, 32)          2080      \n",
      "                                                                 \n",
      " simple_rnn_3 (SimpleRNN)    (None, 16)                784       \n",
      "                                                                 \n",
      "=================================================================\n",
      "Total params: 322,864\n",
      "Trainable params: 322,864\n",
      "Non-trainable params: 0\n",
      "_________________________________________________________________\n"
     ]
    }
   ],
   "source": [
    "model = Sequential()\n",
    "model.add(Embedding(10000, 32))\n",
    "model.add(SimpleRNN(32, return_sequences = True))\n",
    "model.add(SimpleRNN(16))\n",
    "model.summary()"
   ]
  },
  {
   "cell_type": "markdown",
   "id": "d2fb75bf",
   "metadata": {},
   "source": [
    "- 네트워크의 표현력을 증가시키기 위해 여러 개의 순환층을 차례대로 쌓는 것이 유용할 때가 있음\n",
    "\n",
    "  - 이런 설정에서는 중간층들이 전체 출력 시퀀스를 반환하도록 설정"
   ]
  },
  {
   "cell_type": "code",
   "execution_count": 11,
   "id": "f751e724",
   "metadata": {},
   "outputs": [
    {
     "name": "stdout",
     "output_type": "stream",
     "text": [
      "Model: \"sequential_3\"\n",
      "_________________________________________________________________\n",
      " Layer (type)                Output Shape              Param #   \n",
      "=================================================================\n",
      " embedding_3 (Embedding)     (None, None, 32)          320000    \n",
      "                                                                 \n",
      " simple_rnn_4 (SimpleRNN)    (None, None, 32)          2080      \n",
      "                                                                 \n",
      " simple_rnn_5 (SimpleRNN)    (None, None, 32)          2080      \n",
      "                                                                 \n",
      " simple_rnn_6 (SimpleRNN)    (None, None, 32)          2080      \n",
      "                                                                 \n",
      " simple_rnn_7 (SimpleRNN)    (None, 32)                2080      \n",
      "                                                                 \n",
      "=================================================================\n",
      "Total params: 328,320\n",
      "Trainable params: 328,320\n",
      "Non-trainable params: 0\n",
      "_________________________________________________________________\n"
     ]
    }
   ],
   "source": [
    "model = Sequential()\n",
    "model.add(Embedding(10000, 32))\n",
    "model.add(SimpleRNN(32, return_sequences = True))\n",
    "model.add(SimpleRNN(32, return_sequences = True))\n",
    "model.add(SimpleRNN(32, return_sequences = True))\n",
    "model.add(SimpleRNN(32))\n",
    "\n",
    "model.summary()"
   ]
  },
  {
   "cell_type": "markdown",
   "id": "436ded2d",
   "metadata": {},
   "source": [
    "## IMDB 데이터 적용"
   ]
  },
  {
   "cell_type": "markdown",
   "id": "07caaeaf",
   "metadata": {},
   "source": [
    "### 데이터 로드"
   ]
  },
  {
   "cell_type": "code",
   "execution_count": 12,
   "id": "4031729d",
   "metadata": {},
   "outputs": [],
   "source": [
    "from tensorflow.keras.datasets import imdb\n",
    "from tensorflow.keras.preprocessing import sequence"
   ]
  },
  {
   "cell_type": "code",
   "execution_count": 14,
   "id": "ead843ea",
   "metadata": {},
   "outputs": [
    {
     "name": "stdout",
     "output_type": "stream",
     "text": [
      "25000\n",
      "25000\n",
      "(25000, 500)\n",
      "(25000, 500)\n"
     ]
    }
   ],
   "source": [
    "num_words = 10000\n",
    "max_len = 500\n",
    "batch_size = 32\n",
    "\n",
    "(input_train, y_train), (input_test, y_test) = imdb.load_data(num_words = num_words)\n",
    "print(len(input_train))\n",
    "print(len(input_test))\n",
    "\n",
    "## maxlen만큼 공간을 만든뒤 채움\n",
    "input_train = sequence.pad_sequences(input_train, maxlen = max_len)\n",
    "input_test = sequence.pad_sequences(input_test, maxlen = max_len)\n",
    "\n",
    "print(input_train.shape)\n",
    "print(input_test.shape)"
   ]
  },
  {
   "cell_type": "markdown",
   "id": "08410033",
   "metadata": {},
   "source": [
    "### 모델 구성"
   ]
  },
  {
   "cell_type": "code",
   "execution_count": 15,
   "id": "023fd0b6",
   "metadata": {},
   "outputs": [],
   "source": [
    "from tensorflow.keras.layers import Dense"
   ]
  },
  {
   "cell_type": "code",
   "execution_count": 36,
   "id": "c0bc9290",
   "metadata": {},
   "outputs": [
    {
     "name": "stdout",
     "output_type": "stream",
     "text": [
      "Model: \"sequential_8\"\n",
      "_________________________________________________________________\n",
      " Layer (type)                Output Shape              Param #   \n",
      "=================================================================\n",
      " embedding_8 (Embedding)     (None, None, 32)          320000    \n",
      "                                                                 \n",
      " simple_rnn_11 (SimpleRNN)   (None, 32)                2080      \n",
      "                                                                 \n",
      " dense_4 (Dense)             (None, 1)                 33        \n",
      "                                                                 \n",
      "=================================================================\n",
      "Total params: 322,113\n",
      "Trainable params: 322,113\n",
      "Non-trainable params: 0\n",
      "_________________________________________________________________\n"
     ]
    }
   ],
   "source": [
    "model = Sequential()\n",
    "model.add(Embedding(num_words, 32))\n",
    "model.add(SimpleRNN(32, activation = 'relu'))\n",
    "model.add(Dense(1, activation = 'sigmoid'))\n",
    "\n",
    "model.compile(optimizer = 'rmsprop', \n",
    "             loss = 'binary_crossentropy', \n",
    "             metrics = ['acc'])\n",
    "\n",
    "model.summary()"
   ]
  },
  {
   "cell_type": "markdown",
   "id": "dbb96ec6",
   "metadata": {},
   "source": [
    "### 모델 학습"
   ]
  },
  {
   "cell_type": "code",
   "execution_count": 37,
   "id": "140b3ee5",
   "metadata": {},
   "outputs": [
    {
     "name": "stdout",
     "output_type": "stream",
     "text": [
      "Epoch 1/10\n",
      "157/157 [==============================] - 76s 483ms/step - loss: 22.9759 - acc: 0.5805 - val_loss: 0.6775 - val_acc: 0.6120\n",
      "Epoch 2/10\n",
      "157/157 [==============================] - 74s 470ms/step - loss: 0.6359 - acc: 0.6900 - val_loss: 0.6085 - val_acc: 0.7064\n",
      "Epoch 3/10\n",
      "157/157 [==============================] - 74s 470ms/step - loss: 0.5635 - acc: 0.7763 - val_loss: 0.4217 - val_acc: 0.8200\n",
      "Epoch 4/10\n",
      "157/157 [==============================] - 75s 480ms/step - loss: 0.5683 - acc: 0.8532 - val_loss: 0.4236 - val_acc: 0.8084\n",
      "Epoch 5/10\n",
      "157/157 [==============================] - 73s 464ms/step - loss: 0.3607 - acc: 0.8739 - val_loss: 0.3188 - val_acc: 0.8690\n",
      "Epoch 6/10\n",
      "157/157 [==============================] - 73s 468ms/step - loss: 2.6936 - acc: 0.8888 - val_loss: 0.3081 - val_acc: 0.8670\n",
      "Epoch 7/10\n",
      "157/157 [==============================] - 75s 475ms/step - loss: 0.2523 - acc: 0.9071 - val_loss: 0.3353 - val_acc: 0.8566\n",
      "Epoch 8/10\n",
      "157/157 [==============================] - 74s 475ms/step - loss: 0.3147 - acc: 0.9192 - val_loss: 0.3454 - val_acc: 0.8532\n",
      "Epoch 9/10\n",
      "157/157 [==============================] - 72s 460ms/step - loss: 0.2015 - acc: 0.9247 - val_loss: 0.3748 - val_acc: 0.8432\n",
      "Epoch 10/10\n",
      "157/157 [==============================] - 74s 474ms/step - loss: 0.1903 - acc: 0.9347 - val_loss: 0.3770 - val_acc: 0.8438\n"
     ]
    }
   ],
   "source": [
    "hist = model.fit(input_train, y_train, epochs = 10, batch_size = 128, validation_split = .2)"
   ]
  },
  {
   "cell_type": "markdown",
   "id": "d9c0efd0",
   "metadata": {},
   "source": [
    "### 시각화"
   ]
  },
  {
   "cell_type": "code",
   "execution_count": 21,
   "id": "875947a0",
   "metadata": {},
   "outputs": [],
   "source": [
    "import matplotlib.pyplot as plt"
   ]
  },
  {
   "cell_type": "code",
   "execution_count": 26,
   "id": "665487e1",
   "metadata": {},
   "outputs": [
    {
     "data": {
      "image/png": "[encoded data removed]",
      "text/plain": [
       "<Figure size 1080x576 with 2 Axes>"
      ]
     },
     "metadata": {
      "needs_background": "light"
     },
     "output_type": "display_data"
    }
   ],
   "source": [
    "plt.figure(figsize = (15, 8))\n",
    "\n",
    "plt.subplot(1, 2, 1)\n",
    "plt.plot(hist.history['loss'], 'b--', label = 'Training Loss')\n",
    "plt.plot(hist.history['val_loss'], 'r--', label = 'Validation Loss')\n",
    "plt.grid()\n",
    "plt.legend()\n",
    "\n",
    "plt.subplot(1, 2, 2)\n",
    "plt.plot(hist.history['acc'], 'b--', label = 'Training Accuracy')\n",
    "plt.plot(hist.history['val_acc'], 'r--', label = 'Validation Accuracy')\n",
    "plt.grid()\n",
    "plt.legend()\n",
    "\n",
    "plt.show()"
   ]
  },
  {
   "cell_type": "code",
   "execution_count": 27,
   "id": "a6e15c78",
   "metadata": {},
   "outputs": [
    {
     "name": "stdout",
     "output_type": "stream",
     "text": [
      "782/782 [==============================] - 50s 64ms/step - loss: 0.6050 - acc: 0.8342\n"
     ]
    },
    {
     "data": {
      "text/plain": [
       "[0.6049996614456177, 0.8341599702835083]"
      ]
     },
     "execution_count": 27,
     "metadata": {},
     "output_type": "execute_result"
    }
   ],
   "source": [
    "model.evaluate(input_test, y_test)"
   ]
  },
  {
   "cell_type": "markdown",
   "id": "24f0619c",
   "metadata": {},
   "source": [
    "- 전체 시퀀스가 아니라 순서대로 500개의 단어만 입력했기 때문에 성능이 낮게 나옴\n",
    "\n",
    "- SimpleRNN은 긴 시퀀스를 처리하는데 적합하지 않음\n",
    "\n",
    "- SimpleRNN은 실전에 사용하기엔 너무 단순\n",
    "\n",
    "- SimpleRNN은 이론적으로 시간 $t$ 에서 이전의 모든 타임스텝의 정보를 유지할 수 있지만, 실제로는 긴 시간에 걸친 의존성은 학습할 수 없음\n",
    "\n",
    "- 그래디언트 소실 문제(vanishing gradient problem)\n",
    "  - 이를 방지하기 위해 LSTM, GRU 같은 레이어 등장\n"
   ]
  },
  {
   "cell_type": "markdown",
   "id": "d25f1699",
   "metadata": {},
   "source": [
    "# LSTM(Long Short-Term Memory)\n",
    "- 장단기 메모리 알고리즘\n",
    "\n",
    "- 나중을 위해 정보를 저장함으로써 오래된 시그널이 점차 소실되는 것을 막아줌\n",
    "\n",
    "  <img src=\"https://colah.github.io/posts/2015-08-Understanding-LSTMs/img/LSTM3-chain.png\">\n",
    "\n",
    "  <sub>출처: https://colah.github.io/posts/2015-08-Understanding-LSTMs/</sub>"
   ]
  },
  {
   "cell_type": "markdown",
   "id": "6c4799d2",
   "metadata": {},
   "source": [
    "## IMDB 데이터"
   ]
  },
  {
   "cell_type": "markdown",
   "id": "de227579",
   "metadata": {},
   "source": [
    "### 데이터 로드"
   ]
  },
  {
   "cell_type": "code",
   "execution_count": 29,
   "id": "32237c2c",
   "metadata": {},
   "outputs": [],
   "source": [
    "from tensorflow.keras.datasets import imdb\n",
    "from tensorflow.keras.preprocessing.sequence import pad_sequences"
   ]
  },
  {
   "cell_type": "code",
   "execution_count": 30,
   "id": "369f80ec",
   "metadata": {},
   "outputs": [
    {
     "name": "stdout",
     "output_type": "stream",
     "text": [
      "25000\n",
      "25000\n",
      "(25000, 500)\n",
      "(25000, 500)\n"
     ]
    }
   ],
   "source": [
    "num_words = 10000\n",
    "max_len = 500\n",
    "batch_size = 32\n",
    "\n",
    "(input_train, y_train), (input_test, y_test) = imdb.load_data(num_words = num_words)\n",
    "print(len(input_train))\n",
    "print(len(input_test))\n",
    "\n",
    "## maxlen만큼 공간을 만든뒤 채움\n",
    "input_train = sequence.pad_sequences(input_train, maxlen = max_len)\n",
    "input_test = sequence.pad_sequences(input_test, maxlen = max_len)\n",
    "\n",
    "print(input_train.shape)\n",
    "print(input_test.shape)"
   ]
  },
  {
   "cell_type": "markdown",
   "id": "86076652",
   "metadata": {},
   "source": [
    "### 모델 구성"
   ]
  },
  {
   "cell_type": "code",
   "execution_count": 31,
   "id": "89010c75",
   "metadata": {},
   "outputs": [],
   "source": [
    "from tensorflow.keras.models import Sequential\n",
    "from tensorflow.keras.layers import LSTM, Dense, GRU, Embedding"
   ]
  },
  {
   "cell_type": "code",
   "execution_count": 32,
   "id": "1b0692b8",
   "metadata": {},
   "outputs": [
    {
     "name": "stdout",
     "output_type": "stream",
     "text": [
      "Model: \"sequential_7\"\n",
      "_________________________________________________________________\n",
      " Layer (type)                Output Shape              Param #   \n",
      "=================================================================\n",
      " embedding_7 (Embedding)     (None, None, 32)          320000    \n",
      "                                                                 \n",
      " lstm (LSTM)                 (None, 32)                8320      \n",
      "                                                                 \n",
      " dense_3 (Dense)             (None, 1)                 33        \n",
      "                                                                 \n",
      "=================================================================\n",
      "Total params: 328,353\n",
      "Trainable params: 328,353\n",
      "Non-trainable params: 0\n",
      "_________________________________________________________________\n"
     ]
    }
   ],
   "source": [
    "model = Sequential()\n",
    "model.add(Embedding(num_words, 32))\n",
    "model.add(LSTM(32))\n",
    "model.add(Dense(1, activation = 'sigmoid'))\n",
    "\n",
    "model.compile(optimizer = 'rmsprop',\n",
    "             loss = 'binary_crossentropy',\n",
    "             metrics = ['acc'])\n",
    "\n",
    "model.summary()"
   ]
  },
  {
   "cell_type": "markdown",
   "id": "670f58af",
   "metadata": {},
   "source": [
    "### 모델 학습"
   ]
  },
  {
   "cell_type": "code",
   "execution_count": 33,
   "id": "acb1fa23",
   "metadata": {},
   "outputs": [
    {
     "name": "stdout",
     "output_type": "stream",
     "text": [
      "Epoch 1/10\n",
      "157/157 [==============================] - 6s 23ms/step - loss: 0.5107 - acc: 0.7484 - val_loss: 0.3677 - val_acc: 0.8592\n",
      "Epoch 2/10\n",
      "157/157 [==============================] - 4s 22ms/step - loss: 0.2956 - acc: 0.8855 - val_loss: 0.4605 - val_acc: 0.8370\n",
      "Epoch 3/10\n",
      "157/157 [==============================] - 3s 22ms/step - loss: 0.2377 - acc: 0.9118 - val_loss: 0.3753 - val_acc: 0.8630\n",
      "Epoch 4/10\n",
      "157/157 [==============================] - 4s 23ms/step - loss: 0.2013 - acc: 0.9241 - val_loss: 0.3456 - val_acc: 0.8582\n",
      "Epoch 5/10\n",
      "157/157 [==============================] - 3s 22ms/step - loss: 0.1799 - acc: 0.9341 - val_loss: 0.3421 - val_acc: 0.8838\n",
      "Epoch 6/10\n",
      "157/157 [==============================] - 4s 23ms/step - loss: 0.1618 - acc: 0.9422 - val_loss: 0.2961 - val_acc: 0.8854\n",
      "Epoch 7/10\n",
      "157/157 [==============================] - 3s 22ms/step - loss: 0.1424 - acc: 0.9499 - val_loss: 0.3115 - val_acc: 0.8690\n",
      "Epoch 8/10\n",
      "157/157 [==============================] - 3s 21ms/step - loss: 0.1289 - acc: 0.9554 - val_loss: 0.3562 - val_acc: 0.8750\n",
      "Epoch 9/10\n",
      "157/157 [==============================] - 3s 21ms/step - loss: 0.1148 - acc: 0.9618 - val_loss: 0.3253 - val_acc: 0.8776\n",
      "Epoch 10/10\n",
      "157/157 [==============================] - 3s 21ms/step - loss: 0.1116 - acc: 0.9604 - val_loss: 0.3980 - val_acc: 0.8780\n"
     ]
    }
   ],
   "source": [
    "hist2 = model.fit(input_train, y_train, epochs = 10, batch_size = 128, validation_split = .2)"
   ]
  },
  {
   "cell_type": "markdown",
   "id": "5797f03e",
   "metadata": {},
   "source": [
    "### 시각화"
   ]
  },
  {
   "cell_type": "code",
   "execution_count": 34,
   "id": "ac898fef",
   "metadata": {},
   "outputs": [
    {
     "data": {
      "image/png": "[encoded data removed]",
      "text/plain": [
       "<Figure size 1080x576 with 2 Axes>"
      ]
     },
     "metadata": {
      "needs_background": "light"
     },
     "output_type": "display_data"
    }
   ],
   "source": [
    "plt.figure(figsize = (15, 8))\n",
    "\n",
    "plt.subplot(1, 2, 1)\n",
    "plt.plot(hist2.history['loss'], 'b--', label = 'Training Loss')\n",
    "plt.plot(hist2.history['val_loss'], 'r--', label = 'Validation Loss')\n",
    "plt.grid()\n",
    "plt.legend()\n",
    "\n",
    "plt.subplot(1, 2, 2)\n",
    "plt.plot(hist2.history['acc'], 'b--', label = 'Training Accuracy')\n",
    "plt.plot(hist2.history['val_acc'], 'r--', label = 'Validation Accuracy')\n",
    "plt.grid()\n",
    "plt.legend()\n",
    "\n",
    "plt.show()"
   ]
  },
  {
   "cell_type": "code",
   "execution_count": 35,
   "id": "8f87b64f",
   "metadata": {},
   "outputs": [
    {
     "name": "stdout",
     "output_type": "stream",
     "text": [
      "782/782 [==============================] - 7s 8ms/step - loss: 0.4688 - acc: 0.8562\n"
     ]
    },
    {
     "data": {
      "text/plain": [
       "[0.46875303983688354, 0.8562399744987488]"
      ]
     },
     "execution_count": 35,
     "metadata": {},
     "output_type": "execute_result"
    }
   ],
   "source": [
    "model.evaluate(input_test, y_test)"
   ]
  },
  {
   "cell_type": "markdown",
   "id": "4f7b8231",
   "metadata": {},
   "source": [
    "# GRU (Gated Recurrent Unit)\n",
    "- LSTM을 더 단순하게 만든 구조\n",
    "\n",
    "- 기억 셀은 없고, 시간방향으로 전파하는 것은 은닉 상태만 있음\n",
    "\n",
    "- reset gate\n",
    "  - 과거의 은닉 상태를 얼마나 무시할지 결정\n",
    "\n",
    "  - $r$ 값이 결정\n",
    "\n",
    "- update gate\n",
    "  -  은닉 상태를 갱신하는 게이트  \n",
    "\n",
    "  - LSTM의 forget, input gate 역할을 동시에 함\n",
    "  \n",
    "  <img src=\"https://miro.medium.com/max/1400/1*jhi5uOm9PvZfmxvfaCektw.png\" width=\"500\">\n",
    "\n",
    "<sub>출처: https://towardsdatascience.com/illustrated-guide-to-lstms-and-gru-s-a-step-by-step-explanation-44e9eb85bf21</sub>\n",
    "\n",
    "  ### $\\qquad z = \\sigma (x_t W^{(z)}_x + h_{t-1} W^{(z)}_h + b^{(z)} \\\\ \n",
    "  \\qquad r = \\sigma (x_t W^{(r)}_x + h_{t-1} W^{(r)}_h + b^{(r)}) \\\\\n",
    "  \\qquad \\tilde{i} = tanh (x_t W^{(i)}_x + (r \\odot h_{t-1}) W^{(i)}_h + b ) \\\\\n",
    "  \\qquad h_t = (1 - z) \\odot h_{t-1} + z \\odot \\tilde{h}$\n"
   ]
  },
  {
   "cell_type": "markdown",
   "id": "a2fff887",
   "metadata": {},
   "source": [
    "## Reuters 데이터\n",
    "\n",
    "- IMDB와 유사한 데이터셋(텍스트 데이터)\n",
    "\n",
    "- 46개의 상호 배타적인 토픽으로 이루어진 데이터셋 \n",
    "  - 다중 분류 문제\n"
   ]
  },
  {
   "cell_type": "markdown",
   "id": "392df7ba",
   "metadata": {},
   "source": [
    "### 데이터셋 로드"
   ]
  },
  {
   "cell_type": "code",
   "execution_count": 38,
   "id": "5be3b41c",
   "metadata": {},
   "outputs": [],
   "source": [
    "from tensorflow.keras.datasets import reuters"
   ]
  },
  {
   "cell_type": "code",
   "execution_count": 39,
   "id": "a06af628",
   "metadata": {},
   "outputs": [
    {
     "name": "stdout",
     "output_type": "stream",
     "text": [
      "Downloading data from https://storage.googleapis.com/tensorflow/tf-keras-datasets/reuters.npz\n",
      "2113536/2110848 [==============================] - 0s 0us/step\n",
      "2121728/2110848 [==============================] - 0s 0us/step\n",
      "(8982,)\n",
      "(8982,)\n",
      "(2246,)\n",
      "(2246,)\n"
     ]
    }
   ],
   "source": [
    "num_words = 10000\n",
    "(x_train, y_train), (x_test, y_test) = reuters.load_data(num_words = num_words)\n",
    "\n",
    "print(x_train.shape)\n",
    "print(y_train.shape)\n",
    "\n",
    "print(x_test.shape)\n",
    "print(y_test.shape)"
   ]
  },
  {
   "cell_type": "markdown",
   "id": "76f087bb",
   "metadata": {},
   "source": [
    "### 데이터 전처리 및 확인"
   ]
  },
  {
   "cell_type": "code",
   "execution_count": 40,
   "id": "cf1e85eb",
   "metadata": {},
   "outputs": [],
   "source": [
    "from tensorflow.keras.preprocessing.sequence import pad_sequences"
   ]
  },
  {
   "cell_type": "code",
   "execution_count": 41,
   "id": "747ad997",
   "metadata": {},
   "outputs": [],
   "source": [
    "max_len = 300"
   ]
  },
  {
   "cell_type": "code",
   "execution_count": 43,
   "id": "26760f99",
   "metadata": {},
   "outputs": [
    {
     "name": "stdout",
     "output_type": "stream",
     "text": [
      "300\n"
     ]
    }
   ],
   "source": [
    "pad_x_train = pad_sequences(x_train, maxlen = max_len)\n",
    "pad_x_test = pad_sequences(x_test, maxlen = max_len)\n",
    "\n",
    "print(len(pad_x_train[0]))"
   ]
  },
  {
   "cell_type": "code",
   "execution_count": 44,
   "id": "e22728e9",
   "metadata": {},
   "outputs": [
    {
     "data": {
      "text/plain": [
       "array([   0,    0,    0,    0,    0,    0,    0,    0,    0,    0,    0,\n",
       "          0,    0,    0,    0,    0,    0,    0,    0,    0,    0,    0,\n",
       "          0,    0,    0,    0,    0,    0,    0,    0,    0,    0,    0,\n",
       "          0,    0,    0,    0,    0,    0,    0,    0,    0,    0,    0,\n",
       "          0,    0,    0,    0,    0,    0,    0,    0,    0,    0,    0,\n",
       "          0,    0,    0,    0,    0,    0,    0,    0,    0,    0,    0,\n",
       "          0,    0,    0,    0,    0,    0,    0,    0,    0,    0,    0,\n",
       "          0,    0,    0,    0,    0,    0,    0,    0,    0,    0,    0,\n",
       "          0,    0,    0,    0,    0,    0,    0,    0,    0,    0,    0,\n",
       "          0,    0,    0,    0,    0,    0,    0,    0,    0,    0,    0,\n",
       "          0,    0,    0,    0,    0,    0,    0,    0,    0,    0,    0,\n",
       "          0,    0,    0,    0,    0,    0,    0,    0,    0,    0,    0,\n",
       "          0,    0,    0,    0,    0,    0,    0,    0,    0,    0,    0,\n",
       "          0,    0,    0,    0,    0,    0,    0,    0,    0,    0,    0,\n",
       "          0,    0,    0,    0,    0,    0,    0,    0,    0,    0,    0,\n",
       "          0,    0,    0,    0,    0,    0,    0,    0,    0,    0,    0,\n",
       "          0,    0,    0,    0,    0,    0,    0,    0,    1,    4,   37,\n",
       "         38,  309,  213,  349, 1632,   48,  193,  229,  463,   28,  156,\n",
       "        635,   11,   82,   14,  156,  635,   11,   82,   54,  139,   16,\n",
       "        349,  105,  462,  311,   28,  296,  147,   11,   82,   14,  296,\n",
       "        147,   11,   54,  139,  342,   48,  193, 3234,  361,  122,   23,\n",
       "       1332,   28,  318,  942,   11,   82,   14,  318,  942,   11,   82,\n",
       "         54,  139,  122,    7,  105,  462,   23,  349,   28,  296,  767,\n",
       "         11,   82,   14,  296,  767,   11,   54,  139,  342,  229,  162,\n",
       "          7,   48,  193,   55,  408,   28,  258,  557,   11,   82,   14,\n",
       "        196,  557,   11,   82,   54,  139,  162,    7,  105,  462,   55,\n",
       "        349,   28,  191,  968,   11,   82,   14,  191,  785,   11,   54,\n",
       "        139,   17,   12])"
      ]
     },
     "execution_count": 44,
     "metadata": {},
     "output_type": "execute_result"
    }
   ],
   "source": [
    "pad_x_train[5]"
   ]
  },
  {
   "cell_type": "markdown",
   "id": "c9c6073b",
   "metadata": {},
   "source": [
    "### 모델 구성\n",
    "- LSTM 레이어도 SimpleRNN과 같이 `return_sequences` 인자 사용가능"
   ]
  },
  {
   "cell_type": "code",
   "execution_count": 45,
   "id": "05e19dd6",
   "metadata": {},
   "outputs": [],
   "source": [
    "from tensorflow.keras.models import Sequential\n",
    "from tensorflow.keras.layers import GRU, Dense, Embedding"
   ]
  },
  {
   "cell_type": "code",
   "execution_count": 49,
   "id": "bf772205",
   "metadata": {},
   "outputs": [
    {
     "name": "stdout",
     "output_type": "stream",
     "text": [
      "Model: \"sequential_10\"\n",
      "_________________________________________________________________\n",
      " Layer (type)                Output Shape              Param #   \n",
      "=================================================================\n",
      " embedding_10 (Embedding)    (None, None, 256)         2560000   \n",
      "                                                                 \n",
      " gru_2 (GRU)                 (None, None, 256)         394752    \n",
      "                                                                 \n",
      " gru_3 (GRU)                 (None, 128)               148224    \n",
      "                                                                 \n",
      " dense_6 (Dense)             (None, 46)                5934      \n",
      "                                                                 \n",
      "=================================================================\n",
      "Total params: 3,108,910\n",
      "Trainable params: 3,108,910\n",
      "Non-trainable params: 0\n",
      "_________________________________________________________________\n"
     ]
    }
   ],
   "source": [
    "model = Sequential()\n",
    "model.add(Embedding(input_dim = num_words, output_dim = 256))\n",
    "model.add(GRU(256, return_sequences = True))\n",
    "model.add(GRU(128))\n",
    "model.add(Dense(46, activation = 'softmax'))\n",
    "\n",
    "model.compile(optimizer = 'adam',\n",
    "             loss = 'sparse_categorical_crossentropy',\n",
    "             metrics = ['acc'])\n",
    "\n",
    "model.summary()"
   ]
  },
  {
   "cell_type": "markdown",
   "id": "60614e45",
   "metadata": {},
   "source": [
    "### 모델 학습"
   ]
  },
  {
   "cell_type": "code",
   "execution_count": 50,
   "id": "36c5aee9",
   "metadata": {},
   "outputs": [
    {
     "name": "stdout",
     "output_type": "stream",
     "text": [
      "Epoch 1/20\n",
      "225/225 [==============================] - 10s 37ms/step - loss: 2.0151 - acc: 0.4775 - val_loss: 1.7373 - val_acc: 0.5342\n",
      "Epoch 2/20\n",
      "225/225 [==============================] - 8s 37ms/step - loss: 1.5082 - acc: 0.6102 - val_loss: 1.4025 - val_acc: 0.6583\n",
      "Epoch 3/20\n",
      "225/225 [==============================] - 8s 34ms/step - loss: 1.1304 - acc: 0.7061 - val_loss: 1.2703 - val_acc: 0.6934\n",
      "Epoch 4/20\n",
      "225/225 [==============================] - 8s 35ms/step - loss: 0.8709 - acc: 0.7756 - val_loss: 1.2790 - val_acc: 0.7006\n",
      "Epoch 5/20\n",
      "225/225 [==============================] - 8s 35ms/step - loss: 0.6665 - acc: 0.8252 - val_loss: 1.3023 - val_acc: 0.7073\n",
      "Epoch 6/20\n",
      "225/225 [==============================] - 8s 37ms/step - loss: 0.5129 - acc: 0.8689 - val_loss: 1.3246 - val_acc: 0.7040\n",
      "Epoch 7/20\n",
      "225/225 [==============================] - 9s 39ms/step - loss: 0.4084 - acc: 0.8955 - val_loss: 1.3371 - val_acc: 0.7123\n",
      "Epoch 8/20\n",
      "225/225 [==============================] - 8s 36ms/step - loss: 0.3265 - acc: 0.9170 - val_loss: 1.3930 - val_acc: 0.7151\n",
      "Epoch 9/20\n",
      "225/225 [==============================] - 8s 36ms/step - loss: 0.2483 - acc: 0.9354 - val_loss: 1.4813 - val_acc: 0.7062\n",
      "Epoch 10/20\n",
      "225/225 [==============================] - 8s 35ms/step - loss: 0.1969 - acc: 0.9477 - val_loss: 1.4788 - val_acc: 0.7206\n",
      "Epoch 11/20\n",
      "225/225 [==============================] - 8s 36ms/step - loss: 0.1703 - acc: 0.9506 - val_loss: 1.5173 - val_acc: 0.7229\n",
      "Epoch 12/20\n",
      "225/225 [==============================] - 8s 35ms/step - loss: 0.1499 - acc: 0.9541 - val_loss: 1.5846 - val_acc: 0.7140\n",
      "Epoch 13/20\n",
      "225/225 [==============================] - 8s 35ms/step - loss: 0.1323 - acc: 0.9580 - val_loss: 1.6303 - val_acc: 0.7056\n",
      "Epoch 14/20\n",
      "225/225 [==============================] - 8s 35ms/step - loss: 0.1252 - acc: 0.9585 - val_loss: 1.6407 - val_acc: 0.7012\n",
      "Epoch 15/20\n",
      "225/225 [==============================] - 8s 37ms/step - loss: 0.1278 - acc: 0.9589 - val_loss: 1.6550 - val_acc: 0.7067\n",
      "Epoch 16/20\n",
      "225/225 [==============================] - 8s 36ms/step - loss: 0.1156 - acc: 0.9571 - val_loss: 1.7002 - val_acc: 0.7090\n",
      "Epoch 17/20\n",
      "225/225 [==============================] - 8s 35ms/step - loss: 0.1029 - acc: 0.9602 - val_loss: 1.7604 - val_acc: 0.6945\n",
      "Epoch 18/20\n",
      "225/225 [==============================] - 8s 34ms/step - loss: 0.0935 - acc: 0.9630 - val_loss: 1.7425 - val_acc: 0.7084\n",
      "Epoch 19/20\n",
      "225/225 [==============================] - 7s 33ms/step - loss: 0.0924 - acc: 0.9599 - val_loss: 1.8168 - val_acc: 0.7034\n",
      "Epoch 20/20\n",
      "225/225 [==============================] - 8s 35ms/step - loss: 0.0833 - acc: 0.9626 - val_loss: 1.7828 - val_acc: 0.7084\n"
     ]
    }
   ],
   "source": [
    "hist = model.fit(pad_x_train, y_train, batch_size = 32, epochs = 20, validation_split = .2)"
   ]
  },
  {
   "cell_type": "markdown",
   "id": "8a26f247",
   "metadata": {},
   "source": [
    "### 시각화"
   ]
  },
  {
   "cell_type": "code",
   "execution_count": 51,
   "id": "168b9c62",
   "metadata": {},
   "outputs": [
    {
     "data": {
      "image/png": "[encoded data removed]",
      "text/plain": [
       "<Figure size 1080x576 with 2 Axes>"
      ]
     },
     "metadata": {
      "needs_background": "light"
     },
     "output_type": "display_data"
    }
   ],
   "source": [
    "plt.figure(figsize = (15, 8))\n",
    "\n",
    "plt.subplot(1, 2, 1)\n",
    "plt.plot(hist.history['loss'], 'b--', label = 'Training Loss')\n",
    "plt.plot(hist.history['val_loss'], 'r--', label = 'Validation Loss')\n",
    "plt.grid()\n",
    "plt.legend()\n",
    "\n",
    "plt.subplot(1, 2, 2)\n",
    "plt.plot(hist.history['acc'], 'b--', label = 'Training Accuracy')\n",
    "plt.plot(hist.history['val_acc'], 'r--', label = 'Validation Accuracy')\n",
    "plt.grid()\n",
    "plt.legend()\n",
    "\n",
    "plt.show()"
   ]
  },
  {
   "cell_type": "markdown",
   "id": "e72bf05c",
   "metadata": {},
   "source": [
    "### 모델 평가\n"
   ]
  },
  {
   "cell_type": "code",
   "execution_count": 52,
   "id": "1d7fb4be",
   "metadata": {},
   "outputs": [
    {
     "name": "stdout",
     "output_type": "stream",
     "text": [
      "71/71 [==============================] - 1s 11ms/step - loss: 1.9789 - acc: 0.6870\n"
     ]
    },
    {
     "data": {
      "text/plain": [
       "[1.978898525238037, 0.6869990825653076]"
      ]
     },
     "execution_count": 52,
     "metadata": {},
     "output_type": "execute_result"
    }
   ],
   "source": [
    "model.evaluate(pad_x_test, y_test)"
   ]
  },
  {
   "cell_type": "code",
   "execution_count": null,
   "id": "23862cfb",
   "metadata": {},
   "outputs": [],
   "source": []
  }
 ],
 "metadata": {
  "kernelspec": {
   "display_name": "Python 3 (ipykernel)",
   "language": "python",
   "name": "python3"
  },
  "language_info": {
   "codemirror_mode": {
    "name": "ipython",
    "version": 3
   },
   "file_extension": ".py",
   "mimetype": "text/x-python",
   "name": "python",
   "nbconvert_exporter": "python",
   "pygments_lexer": "ipython3",
   "version": "3.9.7"
  },
  "toc": {
   "base_numbering": 1,
   "nav_menu": {},
   "number_sections": true,
   "sideBar": true,
   "skip_h1_title": false,
   "title_cell": "Table of Contents",
   "title_sidebar": "Contents",
   "toc_cell": false,
   "toc_position": {},
   "toc_section_display": true,
   "toc_window_display": false
  },
  "varInspector": {
   "cols": {
    "lenName": 16,
    "lenType": 16,
    "lenVar": 40
   },
   "kernels_config": {
    "python": {
     "delete_cmd_postfix": "",
     "delete_cmd_prefix": "del ",
     "library": "var_list.py",
     "varRefreshCmd": "print(var_dic_list())"
    },
    "r": {
     "delete_cmd_postfix": ") ",
     "delete_cmd_prefix": "rm(",
     "library": "var_list.r",
     "varRefreshCmd": "cat(var_dic_list()) "
    }
   },
   "types_to_exclude": [
    "module",
    "function",
    "builtin_function_or_method",
    "instance",
    "_Feature"
   ],
   "window_display": false
  }
 },
 "nbformat": 4,
 "nbformat_minor": 5
}
