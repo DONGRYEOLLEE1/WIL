{
 "cells": [
  {
   "cell_type": "markdown",
   "id": "d3c5299e",
   "metadata": {},
   "source": [
    "# 케라스 텍스트 처리 및 임베딩\n",
    "\n",
    "- 코드 참조: 케라스 창시자에게 배우는 딥러닝\n",
    "\n"
   ]
  },
  {
   "cell_type": "markdown",
   "id": "d92f734c",
   "metadata": {},
   "source": [
    "## 용어 설명\n",
    "\n",
    "- `토큰(token)`\n",
    "  - 텍스트를 나누는 단위\n",
    "\n",
    "  - 토큰화(tokenization): 토큰으로 나누는 작업\n",
    "\n",
    "- `n-gram`\n",
    "  - 문장에서 추출한 N개(또는 그 이하)의 연속된 단어 그룹\n",
    "\n",
    "  - 같은 개념이 '문자'에도 적용가능\n",
    "\n",
    "  <img src=\"https://www.sqlservercentral.com/wp-content/uploads/legacy/0bf6a2bd621db172dba029ce3c712280a3f6aab3/29444.jpg\">\n",
    "\n",
    "  <sub>출처: https://www.sqlservercentral.com/articles/nasty-fast-n-grams-part-1-character-level-unigrams</sub>"
   ]
  },
  {
   "cell_type": "markdown",
   "id": "8511b37e",
   "metadata": {},
   "source": [
    "## 문자 수준 원-핫 인코딩"
   ]
  },
  {
   "cell_type": "code",
   "execution_count": 1,
   "id": "9ba20337",
   "metadata": {},
   "outputs": [],
   "source": [
    "import numpy as np"
   ]
  },
  {
   "cell_type": "code",
   "execution_count": 2,
   "id": "00833f56",
   "metadata": {},
   "outputs": [],
   "source": [
    "samples = ['The cat sat on the mat.',\n",
    "          'The dog ate my homeworks.']\n",
    "\n",
    "token_index = {}"
   ]
  },
  {
   "cell_type": "code",
   "execution_count": 3,
   "id": "b442a0ed",
   "metadata": {},
   "outputs": [],
   "source": [
    "for sample in samples:\n",
    "    for word in sample.split():\n",
    "        if word not in token_index:\n",
    "            token_index[word] = len(token_index) + 1\n",
    "\n",
    "max_len = 10\n",
    "results = np.zeros(shape = (len(samples), max_len,\n",
    "                           max(token_index.values()) + 1))"
   ]
  },
  {
   "cell_type": "code",
   "execution_count": 4,
   "id": "013af004",
   "metadata": {},
   "outputs": [
    {
     "data": {
      "text/plain": [
       "array([[[0., 1., 0., 0., 0., 0., 0., 0., 0., 0., 0.],\n",
       "        [0., 0., 1., 0., 0., 0., 0., 0., 0., 0., 0.],\n",
       "        [0., 0., 0., 1., 0., 0., 0., 0., 0., 0., 0.],\n",
       "        [0., 0., 0., 0., 1., 0., 0., 0., 0., 0., 0.],\n",
       "        [0., 0., 0., 0., 0., 1., 0., 0., 0., 0., 0.],\n",
       "        [0., 0., 0., 0., 0., 0., 1., 0., 0., 0., 0.],\n",
       "        [0., 0., 0., 0., 0., 0., 0., 0., 0., 0., 0.],\n",
       "        [0., 0., 0., 0., 0., 0., 0., 0., 0., 0., 0.],\n",
       "        [0., 0., 0., 0., 0., 0., 0., 0., 0., 0., 0.],\n",
       "        [0., 0., 0., 0., 0., 0., 0., 0., 0., 0., 0.]],\n",
       "\n",
       "       [[0., 1., 0., 0., 0., 0., 0., 0., 0., 0., 0.],\n",
       "        [0., 0., 0., 0., 0., 0., 0., 1., 0., 0., 0.],\n",
       "        [0., 0., 0., 0., 0., 0., 0., 0., 1., 0., 0.],\n",
       "        [0., 0., 0., 0., 0., 0., 0., 0., 0., 1., 0.],\n",
       "        [0., 0., 0., 0., 0., 0., 0., 0., 0., 0., 1.],\n",
       "        [0., 0., 0., 0., 0., 0., 0., 0., 0., 0., 0.],\n",
       "        [0., 0., 0., 0., 0., 0., 0., 0., 0., 0., 0.],\n",
       "        [0., 0., 0., 0., 0., 0., 0., 0., 0., 0., 0.],\n",
       "        [0., 0., 0., 0., 0., 0., 0., 0., 0., 0., 0.],\n",
       "        [0., 0., 0., 0., 0., 0., 0., 0., 0., 0., 0.]]])"
      ]
     },
     "execution_count": 4,
     "metadata": {},
     "output_type": "execute_result"
    }
   ],
   "source": [
    "for i, sample in enumerate(samples):\n",
    "    for j, word in list(enumerate(sample.split()))[:max_len]:\n",
    "        index = token_index.get(word)\n",
    "        results[i, j, index] = 1.\n",
    "        \n",
    "results"
   ]
  },
  {
   "cell_type": "markdown",
   "id": "defbd55a",
   "metadata": {},
   "source": [
    "## 케라스를 사용한 단어 수준 원-핫 인코딩\n",
    "\n",
    "- `fit_on_texts()`\n",
    "\n",
    "- `texts_to_sequences()`\n",
    "\n",
    "- `texts_to_matrix()`"
   ]
  },
  {
   "cell_type": "code",
   "execution_count": 6,
   "id": "d49d3060",
   "metadata": {},
   "outputs": [],
   "source": [
    "import tensorflow as tf\n",
    "from tensorflow.keras.preprocessing.text import Tokenizer"
   ]
  },
  {
   "cell_type": "code",
   "execution_count": 7,
   "id": "a0148542",
   "metadata": {},
   "outputs": [
    {
     "name": "stdout",
     "output_type": "stream",
     "text": [
      "9\n"
     ]
    }
   ],
   "source": [
    "samples = ['The cat sat on the mat.',\n",
    "          'The dog ate my homeworks.']\n",
    "\n",
    "tokenizer = Tokenizer(num_words = 1000)\n",
    "tokenizer.fit_on_texts(samples)\n",
    "\n",
    "# 텍스트를 sequence형태로 변환\n",
    "sequences = tokenizer.texts_to_sequences(samples)\n",
    "\n",
    "# one-hot\n",
    "ohe_results = tokenizer.texts_to_matrix(samples, mode = 'binary')\n",
    "\n",
    "word_index = tokenizer.word_index\n",
    "print(len(word_index))"
   ]
  },
  {
   "cell_type": "code",
   "execution_count": 8,
   "id": "9f878eb2",
   "metadata": {},
   "outputs": [
    {
     "data": {
      "text/plain": [
       "[[1, 2, 3, 4, 1, 5], [1, 6, 7, 8, 9]]"
      ]
     },
     "execution_count": 8,
     "metadata": {},
     "output_type": "execute_result"
    }
   ],
   "source": [
    "sequences"
   ]
  },
  {
   "cell_type": "code",
   "execution_count": 11,
   "id": "2dd54fdc",
   "metadata": {},
   "outputs": [
    {
     "name": "stdout",
     "output_type": "stream",
     "text": [
      "(2, 1000)\n",
      "[[0. 1. 1. ... 0. 0. 0.]\n",
      " [0. 1. 0. ... 0. 0. 0.]]\n"
     ]
    }
   ],
   "source": [
    "print(ohe_results.shape)\n",
    "print(ohe_results)"
   ]
  },
  {
   "cell_type": "code",
   "execution_count": 10,
   "id": "4d0e12bb",
   "metadata": {},
   "outputs": [
    {
     "data": {
      "text/plain": [
       "{'the': 1,\n",
       " 'cat': 2,\n",
       " 'sat': 3,\n",
       " 'on': 4,\n",
       " 'mat': 5,\n",
       " 'dog': 6,\n",
       " 'ate': 7,\n",
       " 'my': 8,\n",
       " 'homeworks': 9}"
      ]
     },
     "execution_count": 10,
     "metadata": {},
     "output_type": "execute_result"
    }
   ],
   "source": [
    "word_index"
   ]
  },
  {
   "cell_type": "markdown",
   "id": "5e459d80",
   "metadata": {},
   "source": [
    "### 토큰화 예제\n",
    "\n",
    "- `OOV` : Out of Vocabulary\n",
    "  - 새로운 문장에서 기존에 토큰화한 문장에 존재하지 않으면 OOV로 대체됨"
   ]
  },
  {
   "cell_type": "code",
   "execution_count": 12,
   "id": "91f23824",
   "metadata": {},
   "outputs": [],
   "source": [
    "from tensorflow.keras.preprocessing.text import Tokenizer"
   ]
  },
  {
   "cell_type": "code",
   "execution_count": 13,
   "id": "67f20f24",
   "metadata": {},
   "outputs": [
    {
     "name": "stdout",
     "output_type": "stream",
     "text": [
      "{'<OOV>': 1, \"i'm\": 2, 'the': 3, 'student': 4, 'smartest': 5, 'best': 6}\n"
     ]
    }
   ],
   "source": [
    "samples = [\"I'm the smartest student.\",\n",
    "          \"I'm the best student.\"]\n",
    "\n",
    "tokenizer = Tokenizer(num_words = 10, oov_token = '<OOV>')\n",
    "tokenizer.fit_on_texts(samples)\n",
    "\n",
    "sequences = tokenizer.texts_to_sequences(samples)\n",
    "\n",
    "binary_results = tokenizer.texts_to_matrix(samples, mode = 'binary')\n",
    "\n",
    "print(tokenizer.word_index)"
   ]
  },
  {
   "cell_type": "code",
   "execution_count": 14,
   "id": "4fa84c86",
   "metadata": {},
   "outputs": [
    {
     "data": {
      "text/plain": [
       "array([[0., 0., 1., 1., 1., 1., 0., 0., 0., 0.],\n",
       "       [0., 0., 1., 1., 1., 0., 1., 0., 0., 0.]])"
      ]
     },
     "execution_count": 14,
     "metadata": {},
     "output_type": "execute_result"
    }
   ],
   "source": [
    "binary_results"
   ]
  },
  {
   "cell_type": "markdown",
   "id": "1f63dda5",
   "metadata": {},
   "source": [
    "테스트"
   ]
  },
  {
   "cell_type": "code",
   "execution_count": 15,
   "id": "3248eb26",
   "metadata": {},
   "outputs": [],
   "source": [
    "test = [\"I'm the fastest student.\"]\n",
    "test_seq = tokenizer.texts_to_sequences(test)"
   ]
  },
  {
   "cell_type": "code",
   "execution_count": 16,
   "id": "49078ce0",
   "metadata": {},
   "outputs": [
    {
     "name": "stdout",
     "output_type": "stream",
     "text": [
      "word_index: {'<OOV>': 1, \"i'm\": 2, 'the': 3, 'student': 4, 'smartest': 5, 'best': 6}\n",
      "Test Text: [\"I'm the fastest student.\"]\n",
      "Test Sequence: [[2, 3, 1, 4]]\n"
     ]
    }
   ],
   "source": [
    "print(\"word_index:\", tokenizer.word_index)\n",
    "print(\"Test Text:\", test)\n",
    "print(\"Test Sequence:\", test_seq)"
   ]
  },
  {
   "cell_type": "markdown",
   "id": "6f548f3d",
   "metadata": {},
   "source": [
    "## 원-핫 단어 벡터와 단어 임베딩\n",
    "\n",
    "- `원-핫 단어 벡터`\n",
    "  - 데이터가 희소(sparse)\n",
    "\n",
    "  - 고차원\n",
    "\n",
    "- `단어 임베딩`\n",
    "  - 밀집(dense)\n",
    "\n",
    "  - 저차원\n",
    "\n",
    "  <img src=\"https://freecontent.manning.com/wp-content/uploads/Chollet_DLfT_02.png\" width=\"400\">\n",
    "\n",
    "  <sub>출처: https://freecontent.manning.com/deep-learning-for-text/</sub>"
   ]
  },
  {
   "cell_type": "markdown",
   "id": "f3e479f6",
   "metadata": {},
   "source": [
    "## 단어 임베딩\n",
    "- 단어간 벡터사이의 **거리가 가까운**, 즉 비슷한 단어들끼리 임베딩\n",
    "\n",
    "- 거리 외에 임베딩 공간의 특정 방향도 의미를 가질 수 있음\n",
    "\n",
    "- 거리에 기반하여 단어간의 관계를 찾아낼 수 있음 >> 이 관계를 학습하는데 사용\n",
    "\n",
    "\n",
    "<img src=\"https://miro.medium.com/max/3010/1*OEmWDt4eztOcm5pr2QbxfA.png\">\n",
    "\n",
    "<sub>출처: https://towardsdatascience.com/creating-word-embeddings-coding-the-word2vec-algorithm-in-python-using-deep-learning-b337d0ba17a8</sub>\n"
   ]
  },
  {
   "cell_type": "markdown",
   "id": "24a8f11c",
   "metadata": {},
   "source": [
    "## Embedding Layer\n",
    "\n",
    "- 특정 단어를 나타내는 정수 인덱스를 밀집 벡터(dense vector)로 매핑하는 딕셔너리 레이어\n",
    "\n",
    "- 입력: `(samples, sequence_length)`\n",
    "\n",
    "- 출력: `(samples, sequnece_length, dim)`"
   ]
  },
  {
   "cell_type": "code",
   "execution_count": 17,
   "id": "8baacd14",
   "metadata": {},
   "outputs": [],
   "source": [
    "from tensorflow.keras.layers import Embedding"
   ]
  },
  {
   "cell_type": "code",
   "execution_count": 18,
   "id": "cdc76d77",
   "metadata": {},
   "outputs": [
    {
     "data": {
      "text/plain": [
       "<keras.layers.embeddings.Embedding at 0x1ccfa3f7d30>"
      ]
     },
     "execution_count": 18,
     "metadata": {},
     "output_type": "execute_result"
    }
   ],
   "source": [
    "embedding_layer = Embedding(1000, 64)\n",
    "embedding_layer"
   ]
  },
  {
   "cell_type": "markdown",
   "id": "71d11175",
   "metadata": {},
   "source": [
    "## 예제 : IMDB 데이터\n",
    "\n",
    "- 인터넷 영화 데이터베이스(Internet Movie Database)\n",
    "\n",
    "- 양극단의 리뷰 5만개로 이루어진 데이터셋\n",
    "  - 훈련데이터: 25,000개\n",
    "  - 테스트데이터 : 25,000개\n",
    "\n",
    "  <img src=\"https://encrypted-tbn0.gstatic.com/images?q=tbn%3AANd9GcQlk-f2SHB6-Vs3RWwIugMctsyEn2QVZWC5KQ&usqp=CAU\">\n",
    "\n",
    "- https://www.imdb.com/interfaces/"
   ]
  },
  {
   "cell_type": "markdown",
   "id": "ddc27cfd",
   "metadata": {},
   "source": [
    "### module import"
   ]
  },
  {
   "cell_type": "code",
   "execution_count": 19,
   "id": "2dd6373b",
   "metadata": {},
   "outputs": [],
   "source": [
    "from tensorflow.keras.datasets import imdb\n",
    "from tensorflow.keras.models import Sequential\n",
    "from tensorflow.keras.layers import Embedding, Dense, Flatten"
   ]
  },
  {
   "cell_type": "markdown",
   "id": "e96b3d91",
   "metadata": {},
   "source": [
    "### 데이터 로드"
   ]
  },
  {
   "cell_type": "code",
   "execution_count": 20,
   "id": "92205a7e",
   "metadata": {},
   "outputs": [],
   "source": [
    "num_words = 1000\n",
    "max_len = 20\n",
    "\n",
    "(x_train, y_train), (x_test, y_test) = imdb.load_data(num_words = num_words)"
   ]
  },
  {
   "cell_type": "code",
   "execution_count": 21,
   "id": "2501251e",
   "metadata": {},
   "outputs": [
    {
     "name": "stdout",
     "output_type": "stream",
     "text": [
      "(25000,)\n",
      "(25000,)\n",
      "(25000,)\n",
      "(25000,)\n"
     ]
    }
   ],
   "source": [
    "print(x_train.shape)\n",
    "print(y_train.shape)\n",
    "print(x_test.shape)\n",
    "print(y_test.shape)"
   ]
  },
  {
   "cell_type": "markdown",
   "id": "1acb30b8",
   "metadata": {},
   "source": [
    "### 데이터 확인\n",
    "- 긍정: 1\n",
    "- 부정: 0"
   ]
  },
  {
   "cell_type": "code",
   "execution_count": 22,
   "id": "209c9ce8",
   "metadata": {},
   "outputs": [
    {
     "name": "stdout",
     "output_type": "stream",
     "text": [
      "[1, 14, 22, 16, 43, 530, 973, 2, 2, 65, 458, 2, 66, 2, 4, 173, 36, 256, 5, 25, 100, 43, 838, 112, 50, 670, 2, 9, 35, 480, 284, 5, 150, 4, 172, 112, 167, 2, 336, 385, 39, 4, 172, 2, 2, 17, 546, 38, 13, 447, 4, 192, 50, 16, 6, 147, 2, 19, 14, 22, 4, 2, 2, 469, 4, 22, 71, 87, 12, 16, 43, 530, 38, 76, 15, 13, 2, 4, 22, 17, 515, 17, 12, 16, 626, 18, 2, 5, 62, 386, 12, 8, 316, 8, 106, 5, 4, 2, 2, 16, 480, 66, 2, 33, 4, 130, 12, 16, 38, 619, 5, 25, 124, 51, 36, 135, 48, 25, 2, 33, 6, 22, 12, 215, 28, 77, 52, 5, 14, 407, 16, 82, 2, 8, 4, 107, 117, 2, 15, 256, 4, 2, 7, 2, 5, 723, 36, 71, 43, 530, 476, 26, 400, 317, 46, 7, 4, 2, 2, 13, 104, 88, 4, 381, 15, 297, 98, 32, 2, 56, 26, 141, 6, 194, 2, 18, 4, 226, 22, 21, 134, 476, 26, 480, 5, 144, 30, 2, 18, 51, 36, 28, 224, 92, 25, 104, 4, 226, 65, 16, 38, 2, 88, 12, 16, 283, 5, 16, 2, 113, 103, 32, 15, 16, 2, 19, 178, 32]\n",
      "1\n"
     ]
    }
   ],
   "source": [
    "print(x_train[0])\n",
    "print(y_train[0])"
   ]
  },
  {
   "cell_type": "code",
   "execution_count": 24,
   "id": "f25745ac",
   "metadata": {
    "scrolled": true
   },
   "outputs": [
    {
     "name": "stdout",
     "output_type": "stream",
     "text": [
      "Review Seq: [1, 14, 22, 16, 43, 530, 973, 2, 2, 65, 458, 2, 66, 2, 4, 173, 36, 256, 5, 25, 100, 43, 838, 112, 50, 670, 2, 9, 35, 480, 284, 5, 150, 4, 172, 112, 167, 2, 336, 385, 39, 4, 172, 2, 2, 17, 546, 38, 13, 447, 4, 192, 50, 16, 6, 147, 2, 19, 14, 22, 4, 2, 2, 469, 4, 22, 71, 87, 12, 16, 43, 530, 38, 76, 15, 13, 2, 4, 22, 17, 515, 17, 12, 16, 626, 18, 2, 5, 62, 386, 12, 8, 316, 8, 106, 5, 4, 2, 2, 16, 480, 66, 2, 33, 4, 130, 12, 16, 38, 619, 5, 25, 124, 51, 36, 135, 48, 25, 2, 33, 6, 22, 12, 215, 28, 77, 52, 5, 14, 407, 16, 82, 2, 8, 4, 107, 117, 2, 15, 256, 4, 2, 7, 2, 5, 723, 36, 71, 43, 530, 476, 26, 400, 317, 46, 7, 4, 2, 2, 13, 104, 88, 4, 381, 15, 297, 98, 32, 2, 56, 26, 141, 6, 194, 2, 18, 4, 226, 22, 21, 134, 476, 26, 480, 5, 144, 30, 2, 18, 51, 36, 28, 224, 92, 25, 104, 4, 226, 65, 16, 38, 2, 88, 12, 16, 283, 5, 16, 2, 113, 103, 32, 15, 16, 2, 19, 178, 32]\n",
      "Label: 긍정\n",
      "Review Seq: [1, 194, 2, 194, 2, 78, 228, 5, 6, 2, 2, 2, 134, 26, 4, 715, 8, 118, 2, 14, 394, 20, 13, 119, 954, 189, 102, 5, 207, 110, 2, 21, 14, 69, 188, 8, 30, 23, 7, 4, 249, 126, 93, 4, 114, 9, 2, 2, 5, 647, 4, 116, 9, 35, 2, 4, 229, 9, 340, 2, 4, 118, 9, 4, 130, 2, 19, 4, 2, 5, 89, 29, 952, 46, 37, 4, 455, 9, 45, 43, 38, 2, 2, 398, 4, 2, 26, 2, 5, 163, 11, 2, 2, 4, 2, 9, 194, 775, 7, 2, 2, 349, 2, 148, 605, 2, 2, 15, 123, 125, 68, 2, 2, 15, 349, 165, 2, 98, 5, 4, 228, 9, 43, 2, 2, 15, 299, 120, 5, 120, 174, 11, 220, 175, 136, 50, 9, 2, 228, 2, 5, 2, 656, 245, 2, 5, 4, 2, 131, 152, 491, 18, 2, 32, 2, 2, 14, 9, 6, 371, 78, 22, 625, 64, 2, 9, 8, 168, 145, 23, 4, 2, 15, 16, 4, 2, 5, 28, 6, 52, 154, 462, 33, 89, 78, 285, 16, 145, 95]\n",
      "Label: 부정\n",
      "Review Seq: [1, 14, 47, 8, 30, 31, 7, 4, 249, 108, 7, 4, 2, 54, 61, 369, 13, 71, 149, 14, 22, 112, 4, 2, 311, 12, 16, 2, 33, 75, 43, 2, 296, 4, 86, 320, 35, 534, 19, 263, 2, 2, 4, 2, 33, 89, 78, 12, 66, 16, 4, 360, 7, 4, 58, 316, 334, 11, 4, 2, 43, 645, 662, 8, 257, 85, 2, 42, 2, 2, 83, 68, 2, 15, 36, 165, 2, 278, 36, 69, 2, 780, 8, 106, 14, 2, 2, 18, 6, 22, 12, 215, 28, 610, 40, 6, 87, 326, 23, 2, 21, 23, 22, 12, 272, 40, 57, 31, 11, 4, 22, 47, 6, 2, 51, 9, 170, 23, 595, 116, 595, 2, 13, 191, 79, 638, 89, 2, 14, 9, 8, 106, 607, 624, 35, 534, 6, 227, 7, 129, 113]\n",
      "Label: 부정\n",
      "Review Seq: [1, 4, 2, 2, 33, 2, 4, 2, 432, 111, 153, 103, 4, 2, 13, 70, 131, 67, 11, 61, 2, 744, 35, 2, 761, 61, 2, 452, 2, 4, 985, 7, 2, 59, 166, 4, 105, 216, 2, 41, 2, 9, 15, 7, 35, 744, 2, 31, 8, 4, 687, 23, 4, 2, 2, 6, 2, 42, 38, 39, 121, 59, 456, 10, 10, 7, 265, 12, 575, 111, 153, 159, 59, 16, 2, 21, 25, 586, 482, 39, 4, 96, 59, 716, 12, 4, 172, 65, 9, 579, 11, 2, 4, 2, 5, 2, 7, 2, 17, 13, 2, 12, 19, 6, 464, 31, 314, 11, 2, 6, 719, 605, 11, 8, 202, 27, 310, 4, 2, 2, 8, 2, 58, 10, 10, 537, 2, 180, 40, 14, 413, 173, 7, 263, 112, 37, 152, 377, 4, 537, 263, 846, 579, 178, 54, 75, 71, 476, 36, 413, 263, 2, 182, 5, 17, 75, 2, 922, 36, 279, 131, 2, 17, 2, 42, 17, 35, 921, 2, 192, 5, 2, 2, 19, 2, 217, 2, 2, 537, 2, 2, 5, 736, 10, 10, 61, 403, 9, 2, 40, 61, 2, 5, 27, 2, 159, 90, 263, 2, 2, 309, 8, 178, 5, 82, 2, 4, 65, 15, 2, 145, 143, 2, 12, 2, 537, 746, 537, 537, 15, 2, 4, 2, 594, 7, 2, 94, 2, 2, 2, 11, 2, 4, 538, 7, 2, 246, 2, 9, 2, 11, 635, 14, 9, 51, 408, 12, 94, 318, 2, 12, 47, 6, 2, 936, 5, 2, 2, 19, 49, 7, 4, 2, 2, 2, 25, 80, 126, 842, 10, 10, 2, 2, 2, 27, 2, 11, 2, 2, 159, 27, 341, 29, 2, 19, 2, 173, 7, 90, 2, 8, 30, 11, 4, 2, 86, 2, 8, 2, 46, 11, 2, 21, 29, 9, 2, 23, 4, 2, 2, 793, 6, 2, 2, 2, 10, 10, 246, 50, 9, 6, 2, 2, 746, 90, 29, 2, 8, 124, 4, 882, 4, 882, 496, 27, 2, 2, 537, 121, 127, 2, 130, 5, 29, 494, 8, 124, 4, 882, 496, 4, 341, 7, 27, 846, 10, 10, 29, 9, 2, 8, 97, 6, 236, 2, 2, 8, 4, 2, 7, 31, 7, 2, 91, 2, 2, 70, 4, 882, 30, 579, 42, 9, 12, 32, 11, 537, 10, 10, 11, 14, 65, 44, 537, 75, 2, 2, 2, 2, 2, 4, 2, 7, 154, 5, 4, 518, 53, 2, 2, 7, 2, 882, 11, 399, 38, 75, 257, 2, 19, 2, 17, 29, 456, 4, 65, 7, 27, 205, 113, 10, 10, 2, 4, 2, 2, 9, 242, 4, 91, 2, 2, 5, 2, 307, 22, 7, 2, 126, 93, 40, 2, 13, 188, 2, 2, 19, 4, 2, 7, 2, 537, 23, 53, 537, 21, 82, 40, 2, 13, 2, 14, 280, 13, 219, 4, 2, 431, 758, 859, 4, 953, 2, 2, 7, 2, 5, 94, 40, 25, 238, 60, 2, 4, 2, 804, 2, 7, 4, 2, 132, 8, 67, 6, 22, 15, 9, 283, 8, 2, 14, 31, 9, 242, 955, 48, 25, 279, 2, 23, 12, 2, 195, 25, 238, 60, 796, 2, 4, 671, 7, 2, 5, 4, 559, 154, 888, 7, 726, 50, 26, 49, 2, 15, 566, 30, 579, 21, 64, 2]\n",
      "Label: 긍정\n",
      "Review Seq: [1, 249, 2, 7, 61, 113, 10, 10, 13, 2, 14, 20, 56, 33, 2, 18, 457, 88, 13, 2, 2, 45, 2, 13, 70, 79, 49, 706, 919, 13, 16, 355, 340, 355, 2, 96, 143, 4, 22, 32, 289, 7, 61, 369, 71, 2, 5, 13, 16, 131, 2, 249, 114, 249, 229, 249, 20, 13, 28, 126, 110, 13, 473, 8, 569, 61, 419, 56, 429, 6, 2, 18, 35, 534, 95, 474, 570, 5, 25, 124, 138, 88, 12, 421, 2, 52, 725, 2, 61, 419, 11, 13, 2, 15, 2, 20, 11, 4, 2, 5, 296, 12, 2, 5, 15, 421, 128, 74, 233, 334, 207, 126, 224, 12, 562, 298, 2, 2, 7, 2, 5, 516, 988, 43, 8, 79, 120, 15, 595, 13, 784, 25, 2, 18, 165, 170, 143, 19, 14, 5, 2, 6, 226, 251, 7, 61, 113]\n",
      "Label: 부정\n",
      "Review Seq: [1, 778, 128, 74, 12, 630, 163, 15, 4, 2, 2, 2, 2, 32, 85, 156, 45, 40, 148, 139, 121, 664, 665, 10, 10, 2, 173, 4, 749, 2, 16, 2, 8, 4, 226, 65, 12, 43, 127, 24, 2, 10, 10]\n",
      "Label: 부정\n",
      "Review Seq: [1, 2, 365, 2, 5, 2, 354, 11, 14, 2, 2, 7, 2, 2, 2, 356, 44, 4, 2, 500, 746, 5, 200, 4, 2, 11, 2, 2, 2, 2, 2, 5, 2, 26, 6, 2, 2, 17, 369, 37, 215, 2, 143, 2, 5, 2, 8, 2, 15, 36, 119, 257, 85, 52, 486, 9, 6, 2, 2, 63, 271, 6, 196, 96, 949, 2, 4, 2, 7, 4, 2, 2, 819, 63, 47, 77, 2, 180, 6, 227, 11, 94, 2, 2, 13, 423, 4, 168, 7, 4, 22, 5, 89, 665, 71, 270, 56, 5, 13, 197, 12, 161, 2, 99, 76, 23, 2, 7, 419, 665, 40, 91, 85, 108, 7, 4, 2, 5, 2, 81, 55, 52, 2]\n",
      "Label: 긍정\n",
      "Review Seq: [1, 4, 2, 716, 4, 65, 7, 4, 689, 2, 2, 2, 2, 2, 2, 2, 2, 2, 2, 2, 2, 2, 4, 2, 628, 2, 37, 9, 150, 4, 2, 2, 11, 2, 4, 2, 847, 313, 6, 176, 2, 9, 2, 138, 9, 2, 19, 4, 96, 183, 26, 4, 192, 15, 27, 2, 799, 2, 2, 588, 84, 11, 4, 2, 152, 339, 2, 42, 2, 2, 2, 345, 2, 2, 142, 43, 218, 208, 54, 29, 853, 659, 46, 4, 882, 183, 80, 115, 30, 4, 172, 174, 10, 10, 2, 398, 2, 2, 526, 34, 2, 2, 2, 2, 17, 4, 2, 2, 871, 64, 85, 22, 2, 2, 38, 230, 9, 4, 2, 2, 251, 2, 2, 195, 301, 14, 16, 31, 7, 4, 2, 8, 783, 2, 33, 4, 2, 103, 465, 2, 42, 845, 45, 446, 11, 2, 19, 184, 76, 32, 4, 2, 207, 110, 13, 197, 4, 2, 16, 601, 964, 2, 595, 13, 258, 4, 2, 66, 338, 55, 2, 4, 550, 728, 65, 2, 8, 2, 61, 2, 42, 2, 61, 602, 120, 45, 2, 6, 320, 786, 99, 196, 2, 786, 2, 4, 225, 4, 373, 2, 33, 4, 130, 63, 69, 72, 2, 46, 2, 225, 14, 66, 194, 2, 2, 56, 8, 803, 2, 6, 2, 155, 11, 4, 2, 2, 45, 853, 2, 8, 30, 6, 117, 430, 19, 6, 2, 9, 15, 66, 424, 8, 2, 178, 9, 15, 66, 424, 8, 2, 178, 9, 15, 66, 142, 15, 9, 424, 8, 28, 178, 662, 44, 12, 17, 4, 130, 898, 2, 9, 6, 2, 267, 185, 430, 4, 118, 2, 277, 15, 4, 2, 100, 216, 56, 19, 4, 357, 114, 2, 367, 45, 115, 93, 788, 121, 4, 2, 79, 32, 68, 278, 39, 8, 818, 162, 2, 237, 600, 7, 98, 306, 8, 157, 549, 628, 11, 6, 2, 13, 824, 15, 2, 76, 42, 138, 36, 774, 77, 2, 159, 150, 4, 229, 497, 8, 2, 11, 175, 251, 453, 19, 2, 189, 12, 43, 127, 6, 394, 292, 7, 2, 4, 107, 8, 4, 2, 15, 2, 2, 9, 906, 42, 2, 6, 66, 78, 22, 15, 13, 244, 2, 8, 135, 233, 52, 44, 10, 10, 466, 112, 398, 526, 34, 4, 2, 2, 2, 2, 225, 57, 599, 133, 225, 6, 227, 7, 541, 2, 6, 171, 139, 7, 539, 2, 56, 11, 6, 2, 21, 164, 25, 426, 81, 33, 344, 624, 19, 6, 2, 7, 2, 2, 6, 2, 4, 22, 9, 2, 629, 237, 45, 188, 6, 55, 655, 707, 2, 956, 225, 2, 841, 42, 2, 225, 6, 2, 2, 2, 2, 21, 4, 2, 9, 364, 23, 4, 2, 2, 225, 24, 76, 133, 18, 4, 189, 2, 10, 10, 814, 11, 2, 11, 2, 14, 47, 15, 682, 364, 352, 168, 44, 12, 45, 24, 913, 93, 21, 247, 2, 4, 116, 34, 35, 2, 8, 72, 177, 9, 164, 8, 901, 344, 44, 13, 191, 135, 13, 126, 421, 233, 18, 259, 10, 10, 4, 2, 2, 4, 2, 2, 7, 112, 199, 753, 357, 39, 63, 12, 115, 2, 763, 8, 15, 35, 2, 2, 65, 57, 599, 6, 2, 277, 2, 37, 25, 92, 202, 6, 2, 44, 25, 28, 6, 22, 15, 122, 24, 2, 72, 33, 32]\n",
      "Label: 부정\n",
      "Review Seq: [1, 43, 188, 46, 5, 566, 264, 51, 6, 530, 664, 14, 9, 2, 81, 25, 2, 46, 7, 6, 20, 750, 11, 141, 2, 5, 2, 2, 102, 28, 413, 38, 120, 2, 15, 4, 2, 7, 2, 142, 371, 318, 5, 955, 2, 571, 2, 2, 122, 14, 8, 72, 54, 12, 86, 385, 46, 5, 14, 20, 9, 399, 8, 72, 150, 13, 161, 124, 6, 155, 44, 14, 159, 170, 83, 12, 5, 51, 6, 866, 48, 25, 842, 4, 2, 25, 238, 79, 4, 547, 15, 14, 9, 31, 7, 148, 2, 102, 44, 35, 480, 2, 2, 19, 120, 4, 350, 228, 5, 269, 8, 28, 178, 2, 2, 7, 51, 6, 87, 65, 12, 9, 979, 21, 95, 24, 2, 178, 11, 2, 14, 9, 24, 15, 20, 4, 84, 376, 4, 65, 14, 127, 141, 6, 52, 292, 7, 2, 175, 561, 7, 68, 2, 137, 75, 2, 68, 182, 5, 235, 175, 333, 19, 98, 50, 9, 38, 76, 724, 4, 2, 15, 166, 285, 36, 140, 143, 38, 76, 53, 2, 2, 4, 2, 16, 82, 6, 87, 2, 44, 2, 2, 5, 800, 4, 2, 11, 35, 2, 96, 21, 14, 22, 9, 76, 53, 7, 6, 406, 65, 13, 43, 219, 12, 639, 21, 13, 80, 140, 5, 135, 15, 14, 9, 31, 7, 4, 118, 2, 13, 28, 126, 110]\n",
      "Label: 긍정\n",
      "Review Seq: [1, 14, 20, 47, 111, 439, 2, 19, 12, 15, 166, 12, 216, 125, 40, 6, 364, 352, 707, 2, 39, 294, 11, 22, 396, 13, 28, 8, 202, 12, 2, 23, 94, 2, 151, 111, 211, 469, 4, 20, 13, 258, 546, 2, 2, 12, 16, 38, 78, 33, 211, 15, 12, 16, 2, 63, 93, 12, 6, 253, 106, 10, 10, 48, 335, 267, 18, 6, 364, 2, 2, 20, 19, 6, 2, 7, 2, 189, 5, 6, 2, 7, 2, 2, 95, 2, 6, 2, 7, 2, 2, 49, 369, 120, 5, 28, 49, 253, 10, 10, 13, 2, 19, 85, 795, 15, 4, 481, 9, 55, 78, 807, 9, 375, 8, 2, 8, 794, 76, 7, 4, 58, 5, 4, 816, 9, 243, 7, 43, 50]\n",
      "Label: 부정\n"
     ]
    }
   ],
   "source": [
    "for i in range(10):\n",
    "    if y_train[i] == 0:\n",
    "        label = \"부정\"\n",
    "    else:\n",
    "        label = \"긍정\"\n",
    "        \n",
    "    print(\"Review Seq: {}\\nLabel: {}\".format(x_train[i], label))"
   ]
  },
  {
   "cell_type": "markdown",
   "id": "fc1a7e39",
   "metadata": {},
   "source": [
    "### (참고) IMDB 데이터셋에서 가장 많이 사용된 단어"
   ]
  },
  {
   "cell_type": "code",
   "execution_count": 33,
   "id": "e419a65f",
   "metadata": {},
   "outputs": [
    {
     "name": "stdout",
     "output_type": "stream",
     "text": [
      "Downloading data from https://storage.googleapis.com/tensorflow/tf-keras-datasets/imdb_word_index.json\n",
      "1646592/1641221 [==============================] - 0s 0us/step\n",
      "1654784/1641221 [==============================] - 0s 0us/step\n",
      "the\n",
      "and\n",
      "a\n",
      "of\n",
      "to\n"
     ]
    }
   ],
   "source": [
    "word_index = {}\n",
    "\n",
    "for key, val in imdb.get_word_index().items():\n",
    "    word_index[val] = key\n",
    "    \n",
    "for i in range(1, 6):\n",
    "    print(word_index[i])"
   ]
  },
  {
   "cell_type": "markdown",
   "id": "c4c673f1",
   "metadata": {},
   "source": [
    "### 데이터 전처리\n",
    "- 모든 데이터를 같은 길이로 맞추기\n",
    "\n",
    "  - `pad_sequence()`\n",
    "    - 데이터가 max_len보다 길면 데이터를 자름\n",
    "\n",
    "    - 데이터가 길면 `padding` 설정\n",
    "      - `pre`: 데이터 앞에 0으로 채움\n",
    "      -  `post`: 데이터 뒤에 0으로 채움\n",
    "\n",
    "\n",
    "- 모든 데이터(문장 하나하나)가 같은 길이로 맞추어야 `Embedding` 레이어를 사용할 수 있음"
   ]
  },
  {
   "cell_type": "code",
   "execution_count": 34,
   "id": "6ecf90d0",
   "metadata": {},
   "outputs": [],
   "source": [
    "from tensorflow.keras.preprocessing.sequence import pad_sequences"
   ]
  },
  {
   "cell_type": "code",
   "execution_count": 35,
   "id": "d98f96da",
   "metadata": {},
   "outputs": [],
   "source": [
    "pad_x_train = pad_sequences(x_train, maxlen = max_len, padding = 'pre')\n",
    "pad_x_test = pad_sequences(x_test, maxlen = max_len, padding = 'pre')"
   ]
  },
  {
   "cell_type": "code",
   "execution_count": 36,
   "id": "7045ef60",
   "metadata": {},
   "outputs": [
    {
     "name": "stdout",
     "output_type": "stream",
     "text": [
      "218\n",
      "20\n"
     ]
    }
   ],
   "source": [
    "print(len(x_train[0]))\n",
    "print(len(pad_x_train[0]))\n",
    "\n",
    "## 218길이 >> 20개의 길이로 줄어듦"
   ]
  },
  {
   "cell_type": "code",
   "execution_count": 37,
   "id": "36e2a2a9",
   "metadata": {},
   "outputs": [
    {
     "name": "stdout",
     "output_type": "stream",
     "text": [
      "[1, 14, 22, 16, 43, 530, 973, 2, 2, 65, 458, 2, 66, 2, 4, 173, 36, 256, 5, 25, 100, 43, 838, 112, 50, 670, 2, 9, 35, 480, 284, 5, 150, 4, 172, 112, 167, 2, 336, 385, 39, 4, 172, 2, 2, 17, 546, 38, 13, 447, 4, 192, 50, 16, 6, 147, 2, 19, 14, 22, 4, 2, 2, 469, 4, 22, 71, 87, 12, 16, 43, 530, 38, 76, 15, 13, 2, 4, 22, 17, 515, 17, 12, 16, 626, 18, 2, 5, 62, 386, 12, 8, 316, 8, 106, 5, 4, 2, 2, 16, 480, 66, 2, 33, 4, 130, 12, 16, 38, 619, 5, 25, 124, 51, 36, 135, 48, 25, 2, 33, 6, 22, 12, 215, 28, 77, 52, 5, 14, 407, 16, 82, 2, 8, 4, 107, 117, 2, 15, 256, 4, 2, 7, 2, 5, 723, 36, 71, 43, 530, 476, 26, 400, 317, 46, 7, 4, 2, 2, 13, 104, 88, 4, 381, 15, 297, 98, 32, 2, 56, 26, 141, 6, 194, 2, 18, 4, 226, 22, 21, 134, 476, 26, 480, 5, 144, 30, 2, 18, 51, 36, 28, 224, 92, 25, 104, 4, 226, 65, 16, 38, 2, 88, 12, 16, 283, 5, 16, 2, 113, 103, 32, 15, 16, 2, 19, 178, 32]\n",
      "[ 65  16  38   2  88  12  16 283   5  16   2 113 103  32  15  16   2  19\n",
      " 178  32]\n"
     ]
    }
   ],
   "source": [
    "print(x_train[0])\n",
    "print(pad_x_train[0])"
   ]
  },
  {
   "cell_type": "markdown",
   "id": "5745fafc",
   "metadata": {},
   "source": [
    "### 모델 구성"
   ]
  },
  {
   "cell_type": "code",
   "execution_count": 38,
   "id": "d4c2870e",
   "metadata": {},
   "outputs": [
    {
     "name": "stdout",
     "output_type": "stream",
     "text": [
      "Model: \"sequential\"\n",
      "_________________________________________________________________\n",
      "Layer (type)                 Output Shape              Param #   \n",
      "=================================================================\n",
      "embedding_1 (Embedding)      (None, 20, 32)            32000     \n",
      "_________________________________________________________________\n",
      "flatten (Flatten)            (None, 640)               0         \n",
      "_________________________________________________________________\n",
      "dense (Dense)                (None, 1)                 641       \n",
      "=================================================================\n",
      "Total params: 32,641\n",
      "Trainable params: 32,641\n",
      "Non-trainable params: 0\n",
      "_________________________________________________________________\n"
     ]
    }
   ],
   "source": [
    "model = Sequential()\n",
    "\n",
    "model.add(Embedding(input_dim = num_words, output_dim = 32,\n",
    "                   input_length = max_len))\n",
    "model.add(Flatten())\n",
    "model.add(Dense(1, activation = 'sigmoid'))    ## binary이기대문에 sigmoid 함수\n",
    "\n",
    "model.summary()"
   ]
  },
  {
   "cell_type": "markdown",
   "id": "9fe6cc42",
   "metadata": {},
   "source": [
    "### 모델 컴파일 및 학습"
   ]
  },
  {
   "cell_type": "code",
   "execution_count": 39,
   "id": "9b4b49e1",
   "metadata": {},
   "outputs": [],
   "source": [
    "model.compile(optimizer = 'rmsprop',\n",
    "             loss = 'binary_crossentropy',\n",
    "             metrics = ['acc'])"
   ]
  },
  {
   "cell_type": "code",
   "execution_count": 40,
   "id": "917d8f86",
   "metadata": {},
   "outputs": [
    {
     "name": "stdout",
     "output_type": "stream",
     "text": [
      "Epoch 1/10\n",
      "625/625 [==============================] - 5s 5ms/step - loss: 0.6421 - acc: 0.6438 - val_loss: 0.5668 - val_acc: 0.7010\n",
      "Epoch 2/10\n",
      "625/625 [==============================] - 3s 5ms/step - loss: 0.5135 - acc: 0.7462 - val_loss: 0.5281 - val_acc: 0.7306\n",
      "Epoch 3/10\n",
      "625/625 [==============================] - 3s 5ms/step - loss: 0.4776 - acc: 0.7695 - val_loss: 0.5285 - val_acc: 0.7302\n",
      "Epoch 4/10\n",
      "625/625 [==============================] - 3s 5ms/step - loss: 0.4561 - acc: 0.7794 - val_loss: 0.5321 - val_acc: 0.7336\n",
      "Epoch 5/10\n",
      "625/625 [==============================] - 3s 5ms/step - loss: 0.4349 - acc: 0.7952 - val_loss: 0.5372 - val_acc: 0.7252\n",
      "Epoch 6/10\n",
      "625/625 [==============================] - 3s 5ms/step - loss: 0.4132 - acc: 0.8109 - val_loss: 0.5481 - val_acc: 0.7256\n",
      "Epoch 7/10\n",
      "625/625 [==============================] - 3s 5ms/step - loss: 0.3917 - acc: 0.8261 - val_loss: 0.5629 - val_acc: 0.7186\n",
      "Epoch 8/10\n",
      "625/625 [==============================] - 3s 5ms/step - loss: 0.3714 - acc: 0.8391 - val_loss: 0.5740 - val_acc: 0.7142\n",
      "Epoch 9/10\n",
      "625/625 [==============================] - 3s 5ms/step - loss: 0.3522 - acc: 0.8497 - val_loss: 0.5893 - val_acc: 0.7096\n",
      "Epoch 10/10\n",
      "625/625 [==============================] - 3s 5ms/step - loss: 0.3338 - acc: 0.8616 - val_loss: 0.6034 - val_acc: 0.7058\n"
     ]
    }
   ],
   "source": [
    "history = model.fit(pad_x_train, y_train,\n",
    "                    epochs = 10,\n",
    "                   batch_size = 32,\n",
    "                   validation_split = 0.2)"
   ]
  },
  {
   "cell_type": "markdown",
   "id": "119cb7da",
   "metadata": {},
   "source": [
    "### 시각화"
   ]
  },
  {
   "cell_type": "code",
   "execution_count": 41,
   "id": "b9617347",
   "metadata": {},
   "outputs": [],
   "source": [
    "import matplotlib.pyplot as plt\n",
    "plt.style.use('seaborn-white')"
   ]
  },
  {
   "cell_type": "code",
   "execution_count": 42,
   "id": "eaedcd34",
   "metadata": {},
   "outputs": [
    {
     "data": {
      "text/plain": [
       "dict_keys(['loss', 'acc', 'val_loss', 'val_acc'])"
      ]
     },
     "execution_count": 42,
     "metadata": {},
     "output_type": "execute_result"
    }
   ],
   "source": [
    "hist_dict = history.history\n",
    "hist_dict.keys()"
   ]
  },
  {
   "cell_type": "code",
   "execution_count": 45,
   "id": "d5128bba",
   "metadata": {},
   "outputs": [
    {
     "data": {
      "image/png": "[encoded data removed]",
      "text/plain": [
       "<Figure size 432x288 with 1 Axes>"
      ]
     },
     "metadata": {},
     "output_type": "display_data"
    },
    {
     "data": {
      "image/png": "[encoded data removed]",
      "text/plain": [
       "<Figure size 432x288 with 1 Axes>"
      ]
     },
     "metadata": {},
     "output_type": "display_data"
    }
   ],
   "source": [
    "plt.plot(hist_dict['loss'], 'b-', label = 'Train Loss')\n",
    "plt.plot(hist_dict['val_loss'], 'r--', label = 'Validation Loss')\n",
    "plt.grid()\n",
    "plt.legend()\n",
    "\n",
    "plt.figure()\n",
    "plt.plot(hist_dict['acc'], 'b-', label = 'Train Acc')\n",
    "plt.plot(hist_dict['val_acc'], 'r--', label = 'Validation Acc')\n",
    "plt.grid()\n",
    "plt.legend()\n",
    "\n",
    "plt.show()"
   ]
  },
  {
   "cell_type": "markdown",
   "id": "b3645bfb",
   "metadata": {},
   "source": [
    "### 모델 평가"
   ]
  },
  {
   "cell_type": "code",
   "execution_count": 46,
   "id": "ebc790f9",
   "metadata": {},
   "outputs": [
    {
     "name": "stdout",
     "output_type": "stream",
     "text": [
      "782/782 [==============================] - 2s 2ms/step - loss: 0.6040 - acc: 0.7072\n"
     ]
    },
    {
     "data": {
      "text/plain": [
       "[0.6040081977844238, 0.7072399854660034]"
      ]
     },
     "execution_count": 46,
     "metadata": {},
     "output_type": "execute_result"
    }
   ],
   "source": [
    "model.evaluate(pad_x_test, y_test)"
   ]
  },
  {
   "cell_type": "markdown",
   "id": "0b010e91",
   "metadata": {},
   "source": [
    "### 단어의 수를 늘린 후 재학습"
   ]
  },
  {
   "cell_type": "code",
   "execution_count": 47,
   "id": "b6466c05",
   "metadata": {},
   "outputs": [],
   "source": [
    "num_words = 1000\n",
    "max_len = 500\n",
    "\n",
    "pad_x_train_2 = pad_sequences(x_train, maxlen = max_len, padding = 'pre')\n",
    "pad_x_test_2 = pad_sequences(x_test, maxlen = max_len, padding = 'pre')"
   ]
  },
  {
   "cell_type": "markdown",
   "id": "af494ad1",
   "metadata": {},
   "source": [
    "데이터 확인"
   ]
  },
  {
   "cell_type": "code",
   "execution_count": 49,
   "id": "0095c79f",
   "metadata": {},
   "outputs": [
    {
     "name": "stdout",
     "output_type": "stream",
     "text": [
      "[1, 14, 22, 16, 43, 530, 973, 2, 2, 65, 458, 2, 66, 2, 4, 173, 36, 256, 5, 25, 100, 43, 838, 112, 50, 670, 2, 9, 35, 480, 284, 5, 150, 4, 172, 112, 167, 2, 336, 385, 39, 4, 172, 2, 2, 17, 546, 38, 13, 447, 4, 192, 50, 16, 6, 147, 2, 19, 14, 22, 4, 2, 2, 469, 4, 22, 71, 87, 12, 16, 43, 530, 38, 76, 15, 13, 2, 4, 22, 17, 515, 17, 12, 16, 626, 18, 2, 5, 62, 386, 12, 8, 316, 8, 106, 5, 4, 2, 2, 16, 480, 66, 2, 33, 4, 130, 12, 16, 38, 619, 5, 25, 124, 51, 36, 135, 48, 25, 2, 33, 6, 22, 12, 215, 28, 77, 52, 5, 14, 407, 16, 82, 2, 8, 4, 107, 117, 2, 15, 256, 4, 2, 7, 2, 5, 723, 36, 71, 43, 530, 476, 26, 400, 317, 46, 7, 4, 2, 2, 13, 104, 88, 4, 381, 15, 297, 98, 32, 2, 56, 26, 141, 6, 194, 2, 18, 4, 226, 22, 21, 134, 476, 26, 480, 5, 144, 30, 2, 18, 51, 36, 28, 224, 92, 25, 104, 4, 226, 65, 16, 38, 2, 88, 12, 16, 283, 5, 16, 2, 113, 103, 32, 15, 16, 2, 19, 178, 32]\n",
      "[  0   0   0   0   0   0   0   0   0   0   0   0   0   0   0   0   0   0\n",
      "   0   0   0   0   0   0   0   0   0   0   0   0   0   0   0   0   0   0\n",
      "   0   0   0   0   0   0   0   0   0   0   0   0   0   0   0   0   0   0\n",
      "   0   0   0   0   0   0   0   0   0   0   0   0   0   0   0   0   0   0\n",
      "   0   0   0   0   0   0   0   0   0   0   0   0   0   0   0   0   0   0\n",
      "   0   0   0   0   0   0   0   0   0   0   0   0   0   0   0   0   0   0\n",
      "   0   0   0   0   0   0   0   0   0   0   0   0   0   0   0   0   0   0\n",
      "   0   0   0   0   0   0   0   0   0   0   0   0   0   0   0   0   0   0\n",
      "   0   0   0   0   0   0   0   0   0   0   0   0   0   0   0   0   0   0\n",
      "   0   0   0   0   0   0   0   0   0   0   0   0   0   0   0   0   0   0\n",
      "   0   0   0   0   0   0   0   0   0   0   0   0   0   0   0   0   0   0\n",
      "   0   0   0   0   0   0   0   0   0   0   0   0   0   0   0   0   0   0\n",
      "   0   0   0   0   0   0   0   0   0   0   0   0   0   0   0   0   0   0\n",
      "   0   0   0   0   0   0   0   0   0   0   0   0   0   0   0   0   0   0\n",
      "   0   0   0   0   0   0   0   0   0   0   0   0   0   0   0   0   0   0\n",
      "   0   0   0   0   0   0   0   0   0   0   0   0   1  14  22  16  43 530\n",
      " 973   2   2  65 458   2  66   2   4 173  36 256   5  25 100  43 838 112\n",
      "  50 670   2   9  35 480 284   5 150   4 172 112 167   2 336 385  39   4\n",
      " 172   2   2  17 546  38  13 447   4 192  50  16   6 147   2  19  14  22\n",
      "   4   2   2 469   4  22  71  87  12  16  43 530  38  76  15  13   2   4\n",
      "  22  17 515  17  12  16 626  18   2   5  62 386  12   8 316   8 106   5\n",
      "   4   2   2  16 480  66   2  33   4 130  12  16  38 619   5  25 124  51\n",
      "  36 135  48  25   2  33   6  22  12 215  28  77  52   5  14 407  16  82\n",
      "   2   8   4 107 117   2  15 256   4   2   7   2   5 723  36  71  43 530\n",
      " 476  26 400 317  46   7   4   2   2  13 104  88   4 381  15 297  98  32\n",
      "   2  56  26 141   6 194   2  18   4 226  22  21 134 476  26 480   5 144\n",
      "  30   2  18  51  36  28 224  92  25 104   4 226  65  16  38   2  88  12\n",
      "  16 283   5  16   2 113 103  32  15  16   2  19 178  32]\n"
     ]
    }
   ],
   "source": [
    "print(x_train[0])\n",
    "print(pad_x_train_2[0])\n",
    "\n",
    "## 500을 채우고 나머지공간은 모두 0으로 채워짐"
   ]
  },
  {
   "cell_type": "code",
   "execution_count": 51,
   "id": "bb37e7f0",
   "metadata": {},
   "outputs": [
    {
     "name": "stdout",
     "output_type": "stream",
     "text": [
      "Model: \"sequential_2\"\n",
      "_________________________________________________________________\n",
      "Layer (type)                 Output Shape              Param #   \n",
      "=================================================================\n",
      "embedding_3 (Embedding)      (None, 500, 32)           32000     \n",
      "_________________________________________________________________\n",
      "flatten_2 (Flatten)          (None, 16000)             0         \n",
      "_________________________________________________________________\n",
      "dense_2 (Dense)              (None, 1)                 16001     \n",
      "=================================================================\n",
      "Total params: 48,001\n",
      "Trainable params: 48,001\n",
      "Non-trainable params: 0\n",
      "_________________________________________________________________\n"
     ]
    }
   ],
   "source": [
    "model = Sequential()\n",
    "\n",
    "model.add(Embedding(input_dim = num_words, output_dim = 32,\n",
    "                   input_length = max_len))\n",
    "model.add(Flatten())\n",
    "model.add(Dense(1, activation = 'sigmoid'))    ## binary이기대문에 sigmoid 함수\n",
    "\n",
    "model.summary()\n",
    "\n",
    "model.compile(optimizer = 'rmsprop',\n",
    "             loss = 'binary_crossentropy',\n",
    "             metrics = ['acc'])"
   ]
  },
  {
   "cell_type": "code",
   "execution_count": 52,
   "id": "cb03c8ef",
   "metadata": {},
   "outputs": [
    {
     "name": "stdout",
     "output_type": "stream",
     "text": [
      "Epoch 1/10\n",
      "625/625 [==============================] - 3s 5ms/step - loss: 0.5167 - acc: 0.7368 - val_loss: 0.3601 - val_acc: 0.8490\n",
      "Epoch 2/10\n",
      "625/625 [==============================] - 3s 5ms/step - loss: 0.3119 - acc: 0.8690 - val_loss: 0.3389 - val_acc: 0.8568\n",
      "Epoch 3/10\n",
      "625/625 [==============================] - 3s 5ms/step - loss: 0.2661 - acc: 0.8902 - val_loss: 0.3336 - val_acc: 0.8646\n",
      "Epoch 4/10\n",
      "625/625 [==============================] - 3s 5ms/step - loss: 0.2257 - acc: 0.9104 - val_loss: 0.3540 - val_acc: 0.8580\n",
      "Epoch 5/10\n",
      "625/625 [==============================] - 3s 5ms/step - loss: 0.1880 - acc: 0.9305 - val_loss: 0.3629 - val_acc: 0.8548\n",
      "Epoch 6/10\n",
      "625/625 [==============================] - 3s 5ms/step - loss: 0.1503 - acc: 0.9490 - val_loss: 0.3865 - val_acc: 0.8502\n",
      "Epoch 7/10\n",
      "625/625 [==============================] - 3s 5ms/step - loss: 0.1188 - acc: 0.9636 - val_loss: 0.4213 - val_acc: 0.8434\n",
      "Epoch 8/10\n",
      "625/625 [==============================] - 3s 6ms/step - loss: 0.0906 - acc: 0.9748 - val_loss: 0.4565 - val_acc: 0.8382\n",
      "Epoch 9/10\n",
      "625/625 [==============================] - 3s 5ms/step - loss: 0.0674 - acc: 0.9832 - val_loss: 0.4997 - val_acc: 0.8352\n",
      "Epoch 10/10\n",
      "625/625 [==============================] - 3s 5ms/step - loss: 0.0487 - acc: 0.9901 - val_loss: 0.5387 - val_acc: 0.8322\n"
     ]
    }
   ],
   "source": [
    "history2 = model.fit(pad_x_train_2, y_train, \n",
    "                    epochs = 10,\n",
    "                    batch_size = 32,\n",
    "                    validation_split = 0.2)\n",
    "\n",
    "## OverFitted : 99%(train) -- 83%(val)"
   ]
  },
  {
   "cell_type": "code",
   "execution_count": 54,
   "id": "7a943eec",
   "metadata": {},
   "outputs": [
    {
     "data": {
      "image/png": "[encoded data removed]",
      "text/plain": [
       "<Figure size 864x576 with 2 Axes>"
      ]
     },
     "metadata": {},
     "output_type": "display_data"
    }
   ],
   "source": [
    "plt.figure(figsize = (12, 8))\n",
    "\n",
    "plt.subplot(1, 2, 1)\n",
    "plt.plot(history2.history['loss'], 'b-', label = 'Train Loss')\n",
    "plt.plot(history2.history['val_loss'], 'r--', label = 'Validation Loss')\n",
    "plt.grid()\n",
    "plt.legend()\n",
    "\n",
    "plt.subplot(1, 2, 2)\n",
    "plt.plot(history2.history['acc'], 'b-', label = 'Train Acc')\n",
    "plt.plot(history2.history['val_acc'], 'r--', label = 'Validation Acc')\n",
    "plt.grid()\n",
    "plt.legend()\n",
    "\n",
    "plt.show()"
   ]
  },
  {
   "cell_type": "code",
   "execution_count": 55,
   "id": "120d8d5e",
   "metadata": {},
   "outputs": [
    {
     "name": "stdout",
     "output_type": "stream",
     "text": [
      "782/782 [==============================] - 2s 3ms/step - loss: 0.5175 - acc: 0.8330\n"
     ]
    },
    {
     "data": {
      "text/plain": [
       "[0.5175405144691467, 0.8330399990081787]"
      ]
     },
     "execution_count": 55,
     "metadata": {},
     "output_type": "execute_result"
    }
   ],
   "source": [
    "model.evaluate(pad_x_test_2, y_test)"
   ]
  },
  {
   "cell_type": "markdown",
   "id": "d1fac01e",
   "metadata": {},
   "source": [
    "위의 결과도 나쁘지 않으나 과적합이 되는 이유\n",
    "- 단어간 관계나 문장 구조 등 의미적 연결을 고려하지 않음\n",
    "\n",
    "- 시퀀스 전체를 고려한 특성을 학습하는 것은 `Embedding`층 위에 `RNN`층이나 `1D 합성곱`을 추가하는 것이 좋음\n"
   ]
  },
  {
   "cell_type": "markdown",
   "id": "b462916b",
   "metadata": {},
   "source": [
    "## 단어 임베딩의 종류\n",
    "- LSA\n",
    "\n",
    "- Word2Vec\n",
    "\n",
    "- GloVe\n",
    "\n",
    "- FastText(from Facebook)\n",
    "\n",
    "- etc..\n",
    "\n",
    "<!-- ## 사전 훈련된 모델\n",
    "https://github.com/Hironsan/awesome-embedding-models#pre-trained-word-vectors -->"
   ]
  },
  {
   "cell_type": "markdown",
   "id": "36a95aca",
   "metadata": {},
   "source": [
    "## Word2Vec\n",
    "\n",
    "- 2013년, Mikolov 와 동료들이 제안한 모형\n",
    "\n",
    "- 분류 등과 같이 별도의 레이블이 없이 텍스트 자체만 있어도 학습이 가능\n",
    "\n",
    "- Word2Vec의 방식  \n",
    "  주변 단어의 관계를 이용\n",
    "\n",
    "  - CBOW(continuous bag-of-words)\n",
    "    - 주변단어의 임베딩을 더해서 대상단어를 예측\n",
    "\n",
    "  - Skip-Gram\n",
    "    - 대상 단어의 임베딩으로 주변단어를 예측\n",
    "\n",
    "    - 일반적으로 CBOW보다 성능이 좋은 편\n",
    "\n",
    "    - 한번에 여러 단어를 예측해야하기 때문에 비효율적  \n",
    "      최근에는 **negative sampling**이라는 방법을 사용\n",
    "\n",
    "  <img src=\"https://www.researchgate.net/publication/328160770/figure/fig14/AS:679665089925122@1539056193562/CBOW-and-Skip-Gram-neural-architectures.ppm\">\n",
    "\n",
    "  <sub>출처: https://www.researchgate.net/figure/CBOW-and-Skip-Gram-neural-architectures_fig14_328160770</sub>"
   ]
  },
  {
   "cell_type": "markdown",
   "id": "2434efff",
   "metadata": {},
   "source": [
    "### 구텐베르크 프로젝트 예제\n",
    "- 코드 출처 : http://doc.mindscale.kr/km/unstructured/11.html"
   ]
  },
  {
   "cell_type": "code",
   "execution_count": 56,
   "id": "c1371ef9",
   "metadata": {},
   "outputs": [],
   "source": [
    "import requests\n",
    "import re"
   ]
  },
  {
   "cell_type": "markdown",
   "id": "9b4b42c9",
   "metadata": {},
   "source": [
    "### 데이터 다운로드"
   ]
  },
  {
   "cell_type": "code",
   "execution_count": 62,
   "id": "e7722a8e",
   "metadata": {},
   "outputs": [
    {
     "data": {
      "text/plain": [
       "<Response [200]>"
      ]
     },
     "execution_count": 62,
     "metadata": {},
     "output_type": "execute_result"
    }
   ],
   "source": [
    "res = requests.get('http://www.gutenberg.org/files/2591/2591-0.txt')\n",
    "res"
   ]
  },
  {
   "cell_type": "markdown",
   "id": "0b591319",
   "metadata": {},
   "source": [
    "### 데이터 전처리"
   ]
  },
  {
   "cell_type": "code",
   "execution_count": 63,
   "id": "6771fee0",
   "metadata": {},
   "outputs": [],
   "source": [
    "grimm = res.text[2801:530661]\n",
    "grimm = re.sub(r'[^a-zA-Z\\. ]', ' ', grimm)\n",
    "# 문장 단위로 자르기\n",
    "sentences = grimm.split('. ')\n",
    "data = [s.split() for s in sentences]"
   ]
  },
  {
   "cell_type": "code",
   "execution_count": 64,
   "id": "d17d5077",
   "metadata": {},
   "outputs": [
    {
     "data": {
      "text/plain": [
       "3468"
      ]
     },
     "execution_count": 64,
     "metadata": {},
     "output_type": "execute_result"
    }
   ],
   "source": [
    "len(data)"
   ]
  },
  {
   "cell_type": "code",
   "execution_count": 65,
   "id": "2167988e",
   "metadata": {
    "scrolled": true
   },
   "outputs": [
    {
     "data": {
      "text/plain": [
       "['SECOND',\n",
       " 'STORY',\n",
       " 'THE',\n",
       " 'SALAD',\n",
       " 'THE',\n",
       " 'STORY',\n",
       " 'OF',\n",
       " 'THE',\n",
       " 'YOUTH',\n",
       " 'WHO',\n",
       " 'WENT',\n",
       " 'FORTH',\n",
       " 'TO',\n",
       " 'LEARN',\n",
       " 'WHAT',\n",
       " 'FEAR',\n",
       " 'WAS',\n",
       " 'KING',\n",
       " 'GRISLY',\n",
       " 'BEARD',\n",
       " 'IRON',\n",
       " 'HANS',\n",
       " 'CAT',\n",
       " 'SKIN',\n",
       " 'SNOW',\n",
       " 'WHITE',\n",
       " 'AND',\n",
       " 'ROSE',\n",
       " 'RED',\n",
       " 'THE',\n",
       " 'BROTHERS',\n",
       " 'GRIMM',\n",
       " 'FAIRY',\n",
       " 'TALES',\n",
       " 'THE',\n",
       " 'GOLDEN',\n",
       " 'BIRD',\n",
       " 'A',\n",
       " 'certain',\n",
       " 'king',\n",
       " 'had',\n",
       " 'a',\n",
       " 'beautiful',\n",
       " 'garden',\n",
       " 'and',\n",
       " 'in',\n",
       " 'the',\n",
       " 'garden',\n",
       " 'stood',\n",
       " 'a',\n",
       " 'tree',\n",
       " 'which',\n",
       " 'bore',\n",
       " 'golden',\n",
       " 'apples']"
      ]
     },
     "execution_count": 65,
     "metadata": {},
     "output_type": "execute_result"
    }
   ],
   "source": [
    "data[0]"
   ]
  },
  {
   "cell_type": "markdown",
   "id": "1484b9f4",
   "metadata": {},
   "source": [
    "`gensim` 패키지로부터 WordVec을 불러오기"
   ]
  },
  {
   "cell_type": "code",
   "execution_count": 68,
   "id": "3ee52016",
   "metadata": {
    "collapsed": true
   },
   "outputs": [
    {
     "name": "stdout",
     "output_type": "stream",
     "text": [
      "Requirement already satisfied: pip in c:\\users\\lee\\anaconda3\\lib\\site-packages (21.3)"
     ]
    },
    {
     "name": "stderr",
     "output_type": "stream",
     "text": [
      "ERROR: Could not install packages due to an OSError: [WinError 5] 액세스가 거부되었습니다: 'C:\\\\Users\\\\LEE\\\\AppData\\\\Local\\\\Temp\\\\pip-uninstall-5tqcdl2d\\\\pip.exe'\n",
      "Consider using the `--user` option or check the permissions.\n",
      "\n"
     ]
    },
    {
     "name": "stdout",
     "output_type": "stream",
     "text": [
      "\n",
      "Collecting pip\n",
      "  Downloading pip-21.3.1-py3-none-any.whl (1.7 MB)\n",
      "Installing collected packages: pip\n",
      "  Attempting uninstall: pip\n",
      "    Found existing installation: pip 21.3\n",
      "    Uninstalling pip-21.3:\n",
      "      Successfully uninstalled pip-21.3\n"
     ]
    }
   ],
   "source": [
    "#!pip install --upgrade pip"
   ]
  },
  {
   "cell_type": "code",
   "execution_count": 69,
   "id": "ad65e71b",
   "metadata": {
    "collapsed": true
   },
   "outputs": [
    {
     "name": "stdout",
     "output_type": "stream",
     "text": [
      "Requirement already satisfied: gensim in c:\\users\\lee\\anaconda3\\lib\\site-packages (4.1.2)\n",
      "Requirement already satisfied: Cython==0.29.23 in c:\\users\\lee\\anaconda3\\lib\\site-packages (from gensim) (0.29.23)\n",
      "Requirement already satisfied: scipy>=0.18.1 in c:\\users\\lee\\anaconda3\\lib\\site-packages (from gensim) (1.6.2)\n",
      "Requirement already satisfied: numpy>=1.17.0 in c:\\users\\lee\\anaconda3\\lib\\site-packages (from gensim) (1.19.5)\n",
      "Requirement already satisfied: smart-open>=1.8.1 in c:\\users\\lee\\anaconda3\\lib\\site-packages (from gensim) (5.2.1)\n"
     ]
    }
   ],
   "source": [
    "#!pip install gensim"
   ]
  },
  {
   "cell_type": "code",
   "execution_count": 71,
   "id": "22d9375f",
   "metadata": {},
   "outputs": [],
   "source": [
    "from gensim.models.word2vec import Word2Vec"
   ]
  },
  {
   "cell_type": "markdown",
   "id": "1dbe5509",
   "metadata": {},
   "source": [
    "`sg` 인자에 0을 넘겨주면 CBOW, 1을 넘겨주면 Skip-gram"
   ]
  },
  {
   "cell_type": "code",
   "execution_count": 73,
   "id": "d70fe241",
   "metadata": {},
   "outputs": [],
   "source": [
    "model = Word2Vec(data, sg = 1, vector_size = 100, window = 3, min_count = 3, workers = 4)\n",
    "\n",
    "## 'sg' : 0(CBOW), 1(Skip-gram)\n",
    "## 'window' : 앞뒤 몇개의 단어가지 예측하는데 쓸건지 조정\n",
    "## min_count : 최소 3번 이하의 단어는 무시 >> 3번 초과된 단어들만 사용\n",
    "## 'workers' : 동시 처리 횟수"
   ]
  },
  {
   "cell_type": "markdown",
   "id": "58e34afc",
   "metadata": {},
   "source": [
    "### 모델 저장 및 로드"
   ]
  },
  {
   "cell_type": "code",
   "execution_count": 74,
   "id": "b0cfe2cc",
   "metadata": {},
   "outputs": [],
   "source": [
    "model.save('word2vec.model')"
   ]
  },
  {
   "cell_type": "code",
   "execution_count": 75,
   "id": "2ff6c721",
   "metadata": {},
   "outputs": [],
   "source": [
    "pretrained_model = Word2Vec.load('word2vec.model')"
   ]
  },
  {
   "cell_type": "markdown",
   "id": "e203c3ce",
   "metadata": {},
   "source": [
    "### 단어를 벡터로 변환\n",
    "- `wv`"
   ]
  },
  {
   "cell_type": "code",
   "execution_count": 76,
   "id": "b1a8eb2f",
   "metadata": {},
   "outputs": [
    {
     "data": {
      "text/plain": [
       "array([-0.17938644,  0.1651142 , -0.09136601,  0.10850739, -0.00354104,\n",
       "       -0.3362472 ,  0.12638527,  0.553534  , -0.19540901, -0.20184809,\n",
       "        0.04947436, -0.3052953 , -0.01642939,  0.03951567,  0.14084692,\n",
       "       -0.22325937,  0.08103544, -0.13188986, -0.17941451, -0.19534007,\n",
       "        0.24196246,  0.1931612 ,  0.20227233, -0.13011585,  0.01922222,\n",
       "       -0.06019577, -0.00217846, -0.06328717, -0.1321953 , -0.11397153,\n",
       "        0.07354455, -0.09480114,  0.1451884 , -0.16331854, -0.17631899,\n",
       "        0.19312297, -0.0357474 , -0.0528382 , -0.04491865, -0.12874001,\n",
       "        0.02635536, -0.07540082, -0.05653048,  0.05182102, -0.07219481,\n",
       "        0.03440609, -0.12083279, -0.12216391,  0.14953017,  0.11032823,\n",
       "        0.07769903, -0.07727583, -0.06702896, -0.09410249,  0.17820396,\n",
       "        0.09259465,  0.12824373,  0.00541387, -0.1755523 ,  0.06474736,\n",
       "       -0.09342363,  0.02403091,  0.07626102, -0.21734612, -0.26122004,\n",
       "        0.09939914,  0.04557426,  0.3496707 , -0.22568342,  0.2931842 ,\n",
       "       -0.04041824,  0.03340226,  0.1980448 , -0.08341544,  0.26268545,\n",
       "       -0.06000672,  0.08010786, -0.02836848, -0.04530878, -0.01205546,\n",
       "       -0.26488087,  0.07478056, -0.16227868,  0.19923387, -0.1899064 ,\n",
       "       -0.01809205,  0.03064452,  0.19502619,  0.1212286 , -0.03440825,\n",
       "        0.081633  ,  0.06215651, -0.0398525 ,  0.08721548,  0.2127338 ,\n",
       "        0.18620624, -0.00419267, -0.20188484, -0.14881109, -0.18893845],\n",
       "      dtype=float32)"
      ]
     },
     "execution_count": 76,
     "metadata": {},
     "output_type": "execute_result"
    }
   ],
   "source": [
    "pretrained_model.wv['princess']\n",
    "\n",
    "## 'princess'라는 단어를 vector로 변환한 값"
   ]
  },
  {
   "cell_type": "markdown",
   "id": "577c3016",
   "metadata": {},
   "source": [
    "### 유추 또는 유비(analogy)\n",
    "- `wv.similarity()`에 두 단어를 넘겨주면 코사인 유사도를 구할 수 있음"
   ]
  },
  {
   "cell_type": "code",
   "execution_count": 77,
   "id": "0d4e1a20",
   "metadata": {},
   "outputs": [
    {
     "data": {
      "text/plain": [
       "0.80848557"
      ]
     },
     "execution_count": 77,
     "metadata": {},
     "output_type": "execute_result"
    }
   ],
   "source": [
    "pretrained_model.wv.similarity('king', 'prince')"
   ]
  },
  {
   "cell_type": "code",
   "execution_count": 79,
   "id": "777985fd",
   "metadata": {},
   "outputs": [
    {
     "data": {
      "text/plain": [
       "0.9563001"
      ]
     },
     "execution_count": 79,
     "metadata": {},
     "output_type": "execute_result"
    }
   ],
   "source": [
    "pretrained_model.wv.similarity('man', 'woman')"
   ]
  },
  {
   "cell_type": "markdown",
   "id": "d8c062cf",
   "metadata": {},
   "source": [
    "- `wv.most_similar()`에 단어를 넘겨주면 가장 유사한 단어를 추출할 수 있음"
   ]
  },
  {
   "cell_type": "code",
   "execution_count": 80,
   "id": "e53f0346",
   "metadata": {},
   "outputs": [
    {
     "data": {
      "text/plain": [
       "[('woman', 0.9291746616363525),\n",
       " ('daughter', 0.9238820672035217),\n",
       " ('son', 0.9164251089096069),\n",
       " ('man', 0.9045606851577759),\n",
       " ('wolf', 0.8718977570533752),\n",
       " ('miller', 0.8703897595405579),\n",
       " ('old', 0.865688681602478),\n",
       " ('queen', 0.8626375794410706),\n",
       " ('cook', 0.8610918521881104),\n",
       " ('But', 0.8570988774299622)]"
      ]
     },
     "execution_count": 80,
     "metadata": {},
     "output_type": "execute_result"
    }
   ],
   "source": [
    "pretrained_model.wv.most_similar('king')"
   ]
  },
  {
   "cell_type": "code",
   "execution_count": 81,
   "id": "a51f3afe",
   "metadata": {},
   "outputs": [
    {
     "data": {
      "text/plain": [
       "[('woman', 0.9563001394271851),\n",
       " ('peasant', 0.9350460767745972),\n",
       " ('wolf', 0.9314752817153931),\n",
       " ('poor', 0.9203883409500122),\n",
       " ('cook', 0.9178736805915833),\n",
       " ('miller', 0.9128022789955139),\n",
       " ('cat', 0.9105897545814514),\n",
       " ('witch', 0.9086620211601257),\n",
       " ('boy', 0.9072860479354858),\n",
       " ('young', 0.9060731530189514)]"
      ]
     },
     "execution_count": 81,
     "metadata": {},
     "output_type": "execute_result"
    }
   ],
   "source": [
    "pretrained_model.wv.most_similar('man')"
   ]
  },
  {
   "cell_type": "markdown",
   "id": "2048f686",
   "metadata": {},
   "source": [
    "- `wv_most_similar()`에 `positive`와 `negative`라는 옵션을 넘길 수 있음"
   ]
  },
  {
   "cell_type": "code",
   "execution_count": 82,
   "id": "0f8b51a4",
   "metadata": {},
   "outputs": [
    {
     "data": {
      "text/plain": [
       "[('maid', 0.9651972055435181),\n",
       " ('frog', 0.963900625705719),\n",
       " ('giant', 0.963860034942627),\n",
       " ('eldest', 0.9637537002563477),\n",
       " ('prince', 0.962675154209137),\n",
       " ('apple', 0.9621078372001648),\n",
       " ('steak', 0.9620586037635803),\n",
       " ('gardener', 0.9620299339294434),\n",
       " ('shepherd', 0.9619531035423279),\n",
       " ('fisherman', 0.9613854885101318)]"
      ]
     },
     "execution_count": 82,
     "metadata": {},
     "output_type": "execute_result"
    }
   ],
   "source": [
    "pretrained_model.wv.most_similar(positive = ['man', 'princess'], negative = ['woman'])\n",
    "\n",
    "## '\"woman:princess = man:?\"의 유비(analogy)"
   ]
  },
  {
   "cell_type": "markdown",
   "id": "152d93bb",
   "metadata": {},
   "source": [
    "### gensim으로 학습된 단어 임베딩을 Keras에서 불러오기"
   ]
  },
  {
   "cell_type": "code",
   "execution_count": 83,
   "id": "accdc712",
   "metadata": {},
   "outputs": [],
   "source": [
    "from keras.models import Sequential\n",
    "from keras.layers import Embedding"
   ]
  },
  {
   "cell_type": "code",
   "execution_count": 85,
   "id": "b8941480",
   "metadata": {},
   "outputs": [
    {
     "name": "stdout",
     "output_type": "stream",
     "text": [
      "2446\n",
      "100\n"
     ]
    }
   ],
   "source": [
    "num_words, emb_dim = pretrained_model.wv.vectors.shape\n",
    "\n",
    "print(num_words)\n",
    "print(emb_dim)"
   ]
  },
  {
   "cell_type": "markdown",
   "id": "59f75211",
   "metadata": {},
   "source": [
    "### gensim으로 학습된 단어 임베딩을 케라스의 임베딩 레이어의 가중치로 설정"
   ]
  },
  {
   "cell_type": "code",
   "execution_count": 86,
   "id": "0d43afa1",
   "metadata": {},
   "outputs": [],
   "source": [
    "emb = Embedding(input_dim = num_words, output_dim = emb_dim,\n",
    "               trainable = False, weights = [pretrained_model.wv.vectors])"
   ]
  },
  {
   "cell_type": "code",
   "execution_count": 87,
   "id": "96357211",
   "metadata": {},
   "outputs": [],
   "source": [
    "model = Sequential()\n",
    "model.add(emb)"
   ]
  },
  {
   "cell_type": "code",
   "execution_count": 88,
   "id": "67cb4907",
   "metadata": {},
   "outputs": [
    {
     "name": "stdout",
     "output_type": "stream",
     "text": [
      "Model: \"sequential_3\"\n",
      "_________________________________________________________________\n",
      "Layer (type)                 Output Shape              Param #   \n",
      "=================================================================\n",
      "embedding_4 (Embedding)      (None, None, 100)         244600    \n",
      "=================================================================\n",
      "Total params: 244,600\n",
      "Trainable params: 0\n",
      "Non-trainable params: 244,600\n",
      "_________________________________________________________________\n"
     ]
    }
   ],
   "source": [
    "model.summary()\n",
    "\n",
    "## Word2Vec 모델을 keras에 삽입"
   ]
  },
  {
   "cell_type": "code",
   "execution_count": 90,
   "id": "7b2e11ad",
   "metadata": {},
   "outputs": [],
   "source": [
    "i = pretrained_model.wv.index_to_key.index('princess')\n",
    "\n",
    "\n",
    "\n",
    "#### index2word attribute는 index_to_key로 대체되었음"
   ]
  },
  {
   "cell_type": "code",
   "execution_count": 91,
   "id": "1ba7ac0a",
   "metadata": {},
   "outputs": [
    {
     "data": {
      "text/plain": [
       "array([[[-0.17938644,  0.1651142 , -0.09136601,  0.10850739,\n",
       "         -0.00354104, -0.3362472 ,  0.12638527,  0.553534  ,\n",
       "         -0.19540901, -0.20184809,  0.04947436, -0.3052953 ,\n",
       "         -0.01642939,  0.03951567,  0.14084692, -0.22325937,\n",
       "          0.08103544, -0.13188986, -0.17941451, -0.19534007,\n",
       "          0.24196246,  0.1931612 ,  0.20227233, -0.13011585,\n",
       "          0.01922222, -0.06019577, -0.00217846, -0.06328717,\n",
       "         -0.1321953 , -0.11397153,  0.07354455, -0.09480114,\n",
       "          0.1451884 , -0.16331854, -0.17631899,  0.19312297,\n",
       "         -0.0357474 , -0.0528382 , -0.04491865, -0.12874001,\n",
       "          0.02635536, -0.07540082, -0.05653048,  0.05182102,\n",
       "         -0.07219481,  0.03440609, -0.12083279, -0.12216391,\n",
       "          0.14953017,  0.11032823,  0.07769903, -0.07727583,\n",
       "         -0.06702896, -0.09410249,  0.17820396,  0.09259465,\n",
       "          0.12824373,  0.00541387, -0.1755523 ,  0.06474736,\n",
       "         -0.09342363,  0.02403091,  0.07626102, -0.21734612,\n",
       "         -0.26122004,  0.09939914,  0.04557426,  0.3496707 ,\n",
       "         -0.22568342,  0.2931842 , -0.04041824,  0.03340226,\n",
       "          0.1980448 , -0.08341544,  0.26268545, -0.06000672,\n",
       "          0.08010786, -0.02836848, -0.04530878, -0.01205546,\n",
       "         -0.26488087,  0.07478056, -0.16227868,  0.19923387,\n",
       "         -0.1899064 , -0.01809205,  0.03064452,  0.19502619,\n",
       "          0.1212286 , -0.03440825,  0.081633  ,  0.06215651,\n",
       "         -0.0398525 ,  0.08721548,  0.2127338 ,  0.18620624,\n",
       "         -0.00419267, -0.20188484, -0.14881109, -0.18893845]]],\n",
       "      dtype=float32)"
      ]
     },
     "execution_count": 91,
     "metadata": {},
     "output_type": "execute_result"
    }
   ],
   "source": [
    "model.predict([i])\n",
    "\n",
    "## princess에 대한 벡터 결과"
   ]
  },
  {
   "cell_type": "markdown",
   "id": "3e7cb077",
   "metadata": {},
   "source": [
    "## Keras에서 Word2Vec 직접 학습\n",
    "- 코드 출처 : http://doc.mindscale.kr/km/unstructured/11.html"
   ]
  },
  {
   "cell_type": "markdown",
   "id": "e3cb81e1",
   "metadata": {},
   "source": [
    "### 데이터 준비"
   ]
  },
  {
   "cell_type": "code",
   "execution_count": 92,
   "id": "6d7ccc36",
   "metadata": {},
   "outputs": [],
   "source": [
    "from tensorflow.keras.datasets import imdb"
   ]
  },
  {
   "cell_type": "code",
   "execution_count": 93,
   "id": "af5b0104",
   "metadata": {},
   "outputs": [],
   "source": [
    "(x_train, y_train), (x_test, y_test) = imdb.load_data()"
   ]
  },
  {
   "cell_type": "markdown",
   "id": "c8e0a5c1",
   "metadata": {},
   "source": [
    "- 단어 번호와 단어의 관계를 사전으로 만듦\n",
    "\n",
    "- 1번은 문장의 시작, 2번은 사전에 없는 단어(OOV)로 미리 지정"
   ]
  },
  {
   "cell_type": "code",
   "execution_count": 94,
   "id": "19d8dbdc",
   "metadata": {},
   "outputs": [],
   "source": [
    "word_index = imdb.get_word_index()"
   ]
  },
  {
   "cell_type": "code",
   "execution_count": 95,
   "id": "0009ab78",
   "metadata": {},
   "outputs": [],
   "source": [
    "index_word = {idx + 3: word for word, idx in word_index.items()}"
   ]
  },
  {
   "cell_type": "code",
   "execution_count": 96,
   "id": "2c920eef",
   "metadata": {},
   "outputs": [],
   "source": [
    "index_word[1] = '<START>'\n",
    "index_word[2] = '<UNKNOWN>'"
   ]
  },
  {
   "cell_type": "code",
   "execution_count": 97,
   "id": "566ce4db",
   "metadata": {},
   "outputs": [
    {
     "data": {
      "text/plain": [
       "\"<START> this film was just brilliant casting location scenery story direction everyone's really suited the part they played and you could just imagine being there robert redford's is an amazing actor and now the same being director norman's father came from the same scottish island as myself so i loved the fact there was a real connection with this film the witty remarks throughout the film were great it was just brilliant so much that i bought the film as soon as it was released for retail and would recommend it to everyone to watch and the fly fishing was amazing really cried at the end it was so sad and you know what they say if you cry at a film it must have been good and this definitely was also congratulations to the two little boy's that played the part's of norman and paul they were just brilliant children are often left out of the praising list i think because the stars that play them all grown up are such a big profile for the whole film but these children are amazing and should be praised for what they have done don't you think the whole story was so lovely because it was true and was someone's life after all that was shared with us all\""
      ]
     },
     "execution_count": 97,
     "metadata": {},
     "output_type": "execute_result"
    }
   ],
   "source": [
    "' '.join(index_word[i] for i in x_train[0])"
   ]
  },
  {
   "cell_type": "code",
   "execution_count": 98,
   "id": "06339172",
   "metadata": {},
   "outputs": [],
   "source": [
    "num_words = max(index_word) + 1"
   ]
  },
  {
   "cell_type": "markdown",
   "id": "4e05d85b",
   "metadata": {},
   "source": [
    "### 텍스트를 단어 번호로 바꾸기"
   ]
  },
  {
   "cell_type": "code",
   "execution_count": 99,
   "id": "ec2676a3",
   "metadata": {},
   "outputs": [],
   "source": [
    "texts = []\n",
    "for data in x_train:\n",
    "    text = ' '.join(index_word[i] for i in data)\n",
    "    texts.append(text)"
   ]
  },
  {
   "cell_type": "code",
   "execution_count": 100,
   "id": "0da60a69",
   "metadata": {},
   "outputs": [
    {
     "data": {
      "text/plain": [
       "25000"
      ]
     },
     "execution_count": 100,
     "metadata": {},
     "output_type": "execute_result"
    }
   ],
   "source": [
    "len(texts)"
   ]
  },
  {
   "cell_type": "markdown",
   "id": "ba1b4d12",
   "metadata": {},
   "source": [
    "- `Tokenizer`를 사용해 텍스트를 단어로 바꿈"
   ]
  },
  {
   "cell_type": "code",
   "execution_count": 101,
   "id": "4cd438eb",
   "metadata": {},
   "outputs": [],
   "source": [
    "from keras.preprocessing.text import Tokenizer"
   ]
  },
  {
   "cell_type": "code",
   "execution_count": 102,
   "id": "ad508f81",
   "metadata": {},
   "outputs": [
    {
     "data": {
      "text/plain": [
       "[28, 11, 19, 13, 41, 526, 968, 1618, 1381, 63]"
      ]
     },
     "execution_count": 102,
     "metadata": {},
     "output_type": "execute_result"
    }
   ],
   "source": [
    "tok = Tokenizer()\n",
    "tok.fit_on_texts(texts)\n",
    "\n",
    "new_data = tok.texts_to_sequences(texts)\n",
    "new_data[0][:10]"
   ]
  },
  {
   "cell_type": "code",
   "execution_count": 103,
   "id": "7d770547",
   "metadata": {},
   "outputs": [
    {
     "data": {
      "text/plain": [
       "[1, 14, 22, 16, 43, 530, 973, 1622, 1385, 65]"
      ]
     },
     "execution_count": 103,
     "metadata": {},
     "output_type": "execute_result"
    }
   ],
   "source": [
    "x_train[0][:10]"
   ]
  },
  {
   "cell_type": "markdown",
   "id": "5a5365bc",
   "metadata": {},
   "source": [
    "### 단어쌍 만들기"
   ]
  },
  {
   "cell_type": "code",
   "execution_count": 104,
   "id": "3e9bcd1f",
   "metadata": {},
   "outputs": [],
   "source": [
    "from tensorflow.keras.preprocessing.sequence import make_sampling_table, skipgrams"
   ]
  },
  {
   "cell_type": "code",
   "execution_count": 105,
   "id": "0ef97f31",
   "metadata": {},
   "outputs": [
    {
     "name": "stdout",
     "output_type": "stream",
     "text": [
      "88581\n"
     ]
    }
   ],
   "source": [
    "VOCAB_SIZE = len(tok.word_index)\n",
    "print(VOCAB_SIZE)"
   ]
  },
  {
   "cell_type": "markdown",
   "id": "3dcdd6fd",
   "metadata": {},
   "source": [
    "- 단어를 무작위로 추출하면 자주 나오는 단어가 더 많이 나오게됨\n",
    "\n",
    "- 이를 방지하기위해 단어를 추출할 확률의 균형을 맞춘 샘플링 표를 생성"
   ]
  },
  {
   "cell_type": "code",
   "execution_count": 106,
   "id": "36853a15",
   "metadata": {},
   "outputs": [],
   "source": [
    "table = make_sampling_table(VOCAB_SIZE)"
   ]
  },
  {
   "cell_type": "markdown",
   "id": "ed039a18",
   "metadata": {},
   "source": [
    "- 두 단어씩 뽑아 좌우 2단어(`window_size=2`)안에 들어있는 경우가 있는지 없는지 확인하여 데이터를 생성"
   ]
  },
  {
   "cell_type": "code",
   "execution_count": 107,
   "id": "6a0056bc",
   "metadata": {},
   "outputs": [],
   "source": [
    "couples, labels = skipgrams(sequence = data,\n",
    "                           vocabulary_size = VOCAB_SIZE,\n",
    "                           window_size = 2,\n",
    "                           sampling_table = table)"
   ]
  },
  {
   "cell_type": "code",
   "execution_count": 108,
   "id": "40a4bc28",
   "metadata": {},
   "outputs": [
    {
     "data": {
      "text/plain": [
       "[[14437, 84653], [14437, 5], [19280, 55297], [29043, 17301], [221, 59548]]"
      ]
     },
     "execution_count": 108,
     "metadata": {},
     "output_type": "execute_result"
    }
   ],
   "source": [
    "couples[:5]"
   ]
  },
  {
   "cell_type": "markdown",
   "id": "4e2929b7",
   "metadata": {},
   "source": [
    "- `labels`에는 윈도우 안에 들어있는 경우가 있으면 1, 없으면 0"
   ]
  },
  {
   "cell_type": "code",
   "execution_count": 109,
   "id": "a64dd71a",
   "metadata": {},
   "outputs": [
    {
     "data": {
      "text/plain": [
       "[0, 1, 0, 0, 0]"
      ]
     },
     "execution_count": 109,
     "metadata": {},
     "output_type": "execute_result"
    }
   ],
   "source": [
    "labels[:5]\n",
    "\n",
    "## window에 포함 (1), 미포함(0)"
   ]
  },
  {
   "cell_type": "markdown",
   "id": "8983f4fb",
   "metadata": {},
   "source": [
    "- 대상 단어는 `word_target`으로, 맥락 단어는 `word_context`로 모음"
   ]
  },
  {
   "cell_type": "code",
   "execution_count": 110,
   "id": "43c76e93",
   "metadata": {},
   "outputs": [],
   "source": [
    "word_target, word_context = zip(*couples)\n",
    "\n",
    "## target과 context를 couples에서 빼오기"
   ]
  },
  {
   "cell_type": "markdown",
   "id": "a05052c3",
   "metadata": {},
   "source": [
    "- 배열로 바꾼다."
   ]
  },
  {
   "cell_type": "code",
   "execution_count": 111,
   "id": "1c54e321",
   "metadata": {},
   "outputs": [],
   "source": [
    "word_target = np.asarray(word_target, dtype = 'int32')\n",
    "word_context = np.asarray(word_context, dtype = 'int32')\n",
    "labels = np.asarray(labels, dtype = 'int32')"
   ]
  },
  {
   "cell_type": "code",
   "execution_count": 112,
   "id": "1d9b4ed6",
   "metadata": {},
   "outputs": [
    {
     "data": {
      "text/plain": [
       "(264,)"
      ]
     },
     "execution_count": 112,
     "metadata": {},
     "output_type": "execute_result"
    }
   ],
   "source": [
    "word_target.shape"
   ]
  },
  {
   "cell_type": "code",
   "execution_count": 113,
   "id": "4af5aafc",
   "metadata": {},
   "outputs": [
    {
     "data": {
      "text/plain": [
       "(264,)"
      ]
     },
     "execution_count": 113,
     "metadata": {},
     "output_type": "execute_result"
    }
   ],
   "source": [
    "word_context.shape"
   ]
  },
  {
   "cell_type": "markdown",
   "id": "21713bae",
   "metadata": {},
   "source": [
    "### Skip-gram 모형\n",
    "\n",
    "- Skip-gram 모형은 함수형 API를 사용해야 함"
   ]
  },
  {
   "cell_type": "code",
   "execution_count": 114,
   "id": "d58530a2",
   "metadata": {},
   "outputs": [],
   "source": [
    "from tensorflow.keras.layers import Activation, Dot, Embedding, Flatten, Input, Reshape\n",
    "from tensorflow.keras.models import Model"
   ]
  },
  {
   "cell_type": "code",
   "execution_count": 115,
   "id": "786031c2",
   "metadata": {},
   "outputs": [],
   "source": [
    "def build_model():\n",
    "    input_target = Input(shape = (1, ))\n",
    "    input_context = Input(shape = (1, ))\n",
    "    \n",
    "    emb = Embedding(input_dim = VOCAB_SIZE, output_dim = 8)\n",
    "    target = emb(input_target)\n",
    "    context = emb(input_context)\n",
    "    \n",
    "    dot = Dot(axes = 2)([target, context])\n",
    "    flatten = Reshape((1, ))(dot)\n",
    "    output = Activation('sigmoid')(flatten)\n",
    "    skipgram = Model(inputs = [input_target, input_context], outputs = output)\n",
    "    \n",
    "    return skipgram"
   ]
  },
  {
   "cell_type": "code",
   "execution_count": 116,
   "id": "cf873edf",
   "metadata": {},
   "outputs": [
    {
     "name": "stdout",
     "output_type": "stream",
     "text": [
      "Model: \"model\"\n",
      "__________________________________________________________________________________________________\n",
      "Layer (type)                    Output Shape         Param #     Connected to                     \n",
      "==================================================================================================\n",
      "input_1 (InputLayer)            [(None, 1)]          0                                            \n",
      "__________________________________________________________________________________________________\n",
      "input_2 (InputLayer)            [(None, 1)]          0                                            \n",
      "__________________________________________________________________________________________________\n",
      "embedding_5 (Embedding)         (None, 1, 8)         708648      input_1[0][0]                    \n",
      "                                                                 input_2[0][0]                    \n",
      "__________________________________________________________________________________________________\n",
      "dot (Dot)                       (None, 1, 1)         0           embedding_5[0][0]                \n",
      "                                                                 embedding_5[1][0]                \n",
      "__________________________________________________________________________________________________\n",
      "reshape (Reshape)               (None, 1)            0           dot[0][0]                        \n",
      "__________________________________________________________________________________________________\n",
      "activation (Activation)         (None, 1)            0           reshape[0][0]                    \n",
      "==================================================================================================\n",
      "Total params: 708,648\n",
      "Trainable params: 708,648\n",
      "Non-trainable params: 0\n",
      "__________________________________________________________________________________________________\n"
     ]
    }
   ],
   "source": [
    "model = build_model()\n",
    "model.summary()"
   ]
  },
  {
   "cell_type": "markdown",
   "id": "03163926",
   "metadata": {},
   "source": [
    "### 모델 컴파일 및 학습"
   ]
  },
  {
   "cell_type": "code",
   "execution_count": 117,
   "id": "64477cc7",
   "metadata": {},
   "outputs": [],
   "source": [
    "from tensorflow.keras.optimizers import Adam"
   ]
  },
  {
   "cell_type": "code",
   "execution_count": 118,
   "id": "febf31e4",
   "metadata": {},
   "outputs": [],
   "source": [
    "model.compile(optimizer = Adam(),\n",
    "             loss = 'binary_crossentropy',\n",
    "             metrics = ['acc'])"
   ]
  },
  {
   "cell_type": "code",
   "execution_count": 119,
   "id": "b5a6d7e0",
   "metadata": {
    "scrolled": true
   },
   "outputs": [
    {
     "name": "stdout",
     "output_type": "stream",
     "text": [
      "Epoch 1/30\n",
      "9/9 [==============================] - 0s 5ms/step - loss: 0.6931 - acc: 0.5341\n",
      "Epoch 2/30\n",
      "9/9 [==============================] - 0s 6ms/step - loss: 0.6927 - acc: 0.6515\n",
      "Epoch 3/30\n",
      "9/9 [==============================] - 0s 5ms/step - loss: 0.6923 - acc: 0.7538\n",
      "Epoch 4/30\n",
      "9/9 [==============================] - 0s 5ms/step - loss: 0.6919 - acc: 0.8295\n",
      "Epoch 5/30\n",
      "9/9 [==============================] - 0s 6ms/step - loss: 0.6913 - acc: 0.9015\n",
      "Epoch 6/30\n",
      "9/9 [==============================] - 0s 5ms/step - loss: 0.6907 - acc: 0.9583\n",
      "Epoch 7/30\n",
      "9/9 [==============================] - 0s 6ms/step - loss: 0.6900 - acc: 0.9583\n",
      "Epoch 8/30\n",
      "9/9 [==============================] - 0s 5ms/step - loss: 0.6891 - acc: 0.9659\n",
      "Epoch 9/30\n",
      "9/9 [==============================] - 0s 5ms/step - loss: 0.6880 - acc: 0.9735\n",
      "Epoch 10/30\n",
      "9/9 [==============================] - 0s 5ms/step - loss: 0.6867 - acc: 0.9811\n",
      "Epoch 11/30\n",
      "9/9 [==============================] - 0s 5ms/step - loss: 0.6851 - acc: 0.9886\n",
      "Epoch 12/30\n",
      "9/9 [==============================] - 0s 5ms/step - loss: 0.6833 - acc: 0.9924\n",
      "Epoch 13/30\n",
      "9/9 [==============================] - 0s 6ms/step - loss: 0.6812 - acc: 0.9962\n",
      "Epoch 14/30\n",
      "9/9 [==============================] - 0s 5ms/step - loss: 0.6788 - acc: 0.9962\n",
      "Epoch 15/30\n",
      "9/9 [==============================] - 0s 5ms/step - loss: 0.6760 - acc: 0.9962\n",
      "Epoch 16/30\n",
      "9/9 [==============================] - 0s 5ms/step - loss: 0.6729 - acc: 0.9962\n",
      "Epoch 17/30\n",
      "9/9 [==============================] - 0s 5ms/step - loss: 0.6694 - acc: 0.9962\n",
      "Epoch 18/30\n",
      "9/9 [==============================] - 0s 5ms/step - loss: 0.6656 - acc: 0.9962\n",
      "Epoch 19/30\n",
      "9/9 [==============================] - 0s 5ms/step - loss: 0.6614 - acc: 0.9962\n",
      "Epoch 20/30\n",
      "9/9 [==============================] - 0s 5ms/step - loss: 0.6569 - acc: 0.9962\n",
      "Epoch 21/30\n",
      "9/9 [==============================] - 0s 5ms/step - loss: 0.6520 - acc: 0.9962\n",
      "Epoch 22/30\n",
      "9/9 [==============================] - 0s 5ms/step - loss: 0.6468 - acc: 0.9962\n",
      "Epoch 23/30\n",
      "9/9 [==============================] - 0s 5ms/step - loss: 0.6413 - acc: 0.9962\n",
      "Epoch 24/30\n",
      "9/9 [==============================] - 0s 5ms/step - loss: 0.6354 - acc: 0.9962\n",
      "Epoch 25/30\n",
      "9/9 [==============================] - 0s 6ms/step - loss: 0.6293 - acc: 0.9962\n",
      "Epoch 26/30\n",
      "9/9 [==============================] - 0s 5ms/step - loss: 0.6228 - acc: 0.9962\n",
      "Epoch 27/30\n",
      "9/9 [==============================] - 0s 6ms/step - loss: 0.6160 - acc: 0.9962\n",
      "Epoch 28/30\n",
      "9/9 [==============================] - 0s 5ms/step - loss: 0.6090 - acc: 0.9962\n",
      "Epoch 29/30\n",
      "9/9 [==============================] - 0s 6ms/step - loss: 0.6016 - acc: 0.9962\n",
      "Epoch 30/30\n",
      "9/9 [==============================] - 0s 6ms/step - loss: 0.5940 - acc: 0.9962\n"
     ]
    },
    {
     "data": {
      "text/plain": [
       "<keras.callbacks.History at 0x1cc8845aa30>"
      ]
     },
     "execution_count": 119,
     "metadata": {},
     "output_type": "execute_result"
    }
   ],
   "source": [
    "model.fit([word_target, word_context], labels, epochs = 30)"
   ]
  },
  {
   "cell_type": "markdown",
   "id": "beec7ba5",
   "metadata": {},
   "source": [
    "### 임베딩 레이어 저장 및 로드"
   ]
  },
  {
   "cell_type": "code",
   "execution_count": 120,
   "id": "1560f2b1",
   "metadata": {},
   "outputs": [],
   "source": [
    "emb = model.layers[2]"
   ]
  },
  {
   "cell_type": "code",
   "execution_count": 121,
   "id": "15ee84a9",
   "metadata": {},
   "outputs": [
    {
     "data": {
      "text/plain": [
       "[array([[ 0.04449847, -0.00719588, -0.02119738, ..., -0.02585219,\n",
       "         -0.00509684,  0.02716902],\n",
       "        [ 0.0222956 ,  0.03576836, -0.02833146, ..., -0.03156059,\n",
       "          0.01139271, -0.0286122 ],\n",
       "        [ 0.01451366, -0.02845498, -0.02652795, ..., -0.03504753,\n",
       "         -0.00346408,  0.04199524],\n",
       "        ...,\n",
       "        [-0.02033703,  0.00738136,  0.03092182, ...,  0.02525933,\n",
       "         -0.04312354, -0.04214858],\n",
       "        [-0.02631798, -0.00468551, -0.04530938, ..., -0.01860452,\n",
       "         -0.03038235,  0.01521036],\n",
       "        [-0.02825954, -0.04059639, -0.045327  , ..., -0.0496047 ,\n",
       "          0.04504189,  0.03587116]], dtype=float32)]"
      ]
     },
     "execution_count": 121,
     "metadata": {},
     "output_type": "execute_result"
    }
   ],
   "source": [
    "emb.get_weights()"
   ]
  },
  {
   "cell_type": "code",
   "execution_count": 124,
   "id": "895e51a1",
   "metadata": {},
   "outputs": [],
   "source": [
    "np.save('emb.npy', emb.get_weights()[0])"
   ]
  },
  {
   "cell_type": "markdown",
   "id": "598721dd",
   "metadata": {},
   "source": [
    "- 임베딩 레이어 로드"
   ]
  },
  {
   "cell_type": "code",
   "execution_count": 125,
   "id": "54e06852",
   "metadata": {},
   "outputs": [],
   "source": [
    "w = np.load('emb.npy')"
   ]
  },
  {
   "cell_type": "markdown",
   "id": "7bc2c6cb",
   "metadata": {},
   "source": [
    "- 임베딩 레이어를 추가할때 `trainable`를 `False`로 하면 추가학습이 이루어 지지 않는다."
   ]
  },
  {
   "cell_type": "code",
   "execution_count": 126,
   "id": "1ada9b4a",
   "metadata": {},
   "outputs": [],
   "source": [
    "emb_ff = Embedding(input_dim = num_words, output_dim = 8, input_length = 30,\n",
    "                  weights = [w], trainable = False)"
   ]
  },
  {
   "cell_type": "markdown",
   "id": "7e670527",
   "metadata": {},
   "source": [
    "## 사전 훈련된 단어 임베딩 사용하기 : GloVe 임베딩\n",
    "\n",
    "- 코드 출처: 케라스 창시자에게 배우는 딥러닝"
   ]
  },
  {
   "cell_type": "markdown",
   "id": "4a09c5a7",
   "metadata": {},
   "source": [
    "### 원본 IMDB 텍스트 내려받기\n",
    "- http://mng.bz/0tIo"
   ]
  },
  {
   "cell_type": "code",
   "execution_count": 131,
   "id": "daa1218d",
   "metadata": {
    "collapsed": true
   },
   "outputs": [
    {
     "name": "stdout",
     "output_type": "stream",
     "text": [
      "Collecting wget\n",
      "  Downloading wget-3.2.zip (10 kB)\n",
      "  Preparing metadata (setup.py): started\n",
      "  Preparing metadata (setup.py): finished with status 'done'\n",
      "Building wheels for collected packages: wget\n",
      "  Building wheel for wget (setup.py): started\n",
      "  Building wheel for wget (setup.py): finished with status 'done'\n",
      "  Created wheel for wget: filename=wget-3.2-py3-none-any.whl size=9680 sha256=b970c746572f62470821832ff166e8cc8c46c9066b40977d7407a04e1068d1b0\n",
      "  Stored in directory: c:\\users\\lee\\appdata\\local\\pip\\cache\\wheels\\bd\\a8\\c3\\3cf2c14a1837a4e04bd98631724e81f33f462d86a1d895fae0\n",
      "Successfully built wget\n",
      "Installing collected packages: wget\n",
      "Successfully installed wget-3.2\n"
     ]
    }
   ],
   "source": [
    "#!pip install wget"
   ]
  },
  {
   "cell_type": "code",
   "execution_count": 134,
   "id": "520e9a49",
   "metadata": {},
   "outputs": [
    {
     "name": "stdout",
     "output_type": "stream",
     "text": [
      "100% [........................................................................] 60711700 / 60711700"
     ]
    },
    {
     "data": {
      "text/plain": [
       "'0tIo'"
      ]
     },
     "execution_count": 134,
     "metadata": {},
     "output_type": "execute_result"
    }
   ],
   "source": [
    "import wget\n",
    "\n",
    "url = 'http://mng.bz/0tIo'\n",
    "wget.download(url)"
   ]
  },
  {
   "cell_type": "code",
   "execution_count": 136,
   "id": "ddb8be0b",
   "metadata": {},
   "outputs": [],
   "source": [
    "import os"
   ]
  },
  {
   "cell_type": "code",
   "execution_count": 138,
   "id": "1244ab74",
   "metadata": {},
   "outputs": [],
   "source": [
    "imdb_dir = 'C:/workspace/TIL/Data/aclImdb'\n",
    "train_dir = os.path.join(imdb_dir, 'train')\n",
    "\n",
    "labels = []\n",
    "texts = []\n",
    "for label_type in ['neg', 'pos']:\n",
    "    dir_name = os.path.join(train_dir, label_type)\n",
    "    \n",
    "    for fname in os.listdir(dir_name):\n",
    "        if fname[-4:] == '.txt':\n",
    "            f = open(os.path.join(dir_name, fname), encoding = 'utf8')\n",
    "            texts.append(f.read())\n",
    "            f.close()\n",
    "            \n",
    "            if label_type == 'neg':\n",
    "                labels.append(0)\n",
    "            else:\n",
    "                labels.append(1)"
   ]
  },
  {
   "cell_type": "code",
   "execution_count": 139,
   "id": "526fe081",
   "metadata": {},
   "outputs": [
    {
     "data": {
      "text/plain": [
       "\"Story of a man who has unnatural feelings for a pig. Starts out with a opening scene that is a terrific example of absurd comedy. A formal orchestra audience is turned into an insane, violent mob by the crazy chantings of it's singers. Unfortunately it stays absurd the WHOLE time with no general narrative eventually making it just too off putting. Even those from the era should be turned off. The cryptic dialogue would make Shakespeare seem easy to a third grader. On a technical level it's better than you might think with some good cinematography by future great Vilmos Zsigmond. Future stars Sally Kirkland and Frederic Forrest can be seen briefly.\""
      ]
     },
     "execution_count": 139,
     "metadata": {},
     "output_type": "execute_result"
    }
   ],
   "source": [
    "texts[0]"
   ]
  },
  {
   "cell_type": "code",
   "execution_count": 140,
   "id": "d9d2c751",
   "metadata": {},
   "outputs": [
    {
     "data": {
      "text/plain": [
       "0"
      ]
     },
     "execution_count": 140,
     "metadata": {},
     "output_type": "execute_result"
    }
   ],
   "source": [
    "labels[0]\n",
    "\n",
    "## 부정"
   ]
  },
  {
   "cell_type": "markdown",
   "id": "9276e442",
   "metadata": {},
   "source": [
    "### 데이터 토큰화"
   ]
  },
  {
   "cell_type": "code",
   "execution_count": 141,
   "id": "64cc5044",
   "metadata": {},
   "outputs": [],
   "source": [
    "from tensorflow.keras.preprocessing.text import Tokenizer\n",
    "from tensorflow.keras.preprocessing.sequence import pad_sequences"
   ]
  },
  {
   "cell_type": "code",
   "execution_count": 142,
   "id": "b25ccae5",
   "metadata": {},
   "outputs": [],
   "source": [
    "max_len = 100\n",
    "training_samples = 200\n",
    "validation_samples = 10000\n",
    "max_words = 10000   # 빈도수가 높은 10000개의 단어만 추출해서 사용"
   ]
  },
  {
   "cell_type": "code",
   "execution_count": 143,
   "id": "365e84a2",
   "metadata": {},
   "outputs": [
    {
     "name": "stdout",
     "output_type": "stream",
     "text": [
      "88582\n"
     ]
    }
   ],
   "source": [
    "tokenizer = Tokenizer(num_words = num_words)\n",
    "tokenizer.fit_on_texts(texts)\n",
    "sequences = tokenizer.texts_to_sequences(texts)\n",
    "\n",
    "word_index = tokenizer.word_index\n",
    "print(len(word_index))\n",
    "\n",
    "## 88582개의 token 찾음"
   ]
  },
  {
   "cell_type": "code",
   "execution_count": 144,
   "id": "739455cc",
   "metadata": {},
   "outputs": [
    {
     "name": "stdout",
     "output_type": "stream",
     "text": [
      "(25000, 100)\n",
      "(25000,)\n"
     ]
    }
   ],
   "source": [
    "data = pad_sequences(sequences, maxlen = max_len)\n",
    "labels = np.asarray(labels)\n",
    "\n",
    "print(data.shape)\n",
    "print(labels.shape)"
   ]
  },
  {
   "cell_type": "code",
   "execution_count": 145,
   "id": "260a04fe",
   "metadata": {},
   "outputs": [],
   "source": [
    "indices = np.arange(data.shape[0])\n",
    "np.random.shuffle(indices)\n",
    "data = data[indices]\n",
    "labels = labels[indices]"
   ]
  },
  {
   "cell_type": "code",
   "execution_count": 146,
   "id": "2974e574",
   "metadata": {},
   "outputs": [],
   "source": [
    "x_train = data[:training_samples]\n",
    "y_train = labels[:training_samples]\n",
    "x_val = data[training_samples: training_samples + validation_samples]\n",
    "y_val = labels[training_samples: training_samples + validation_samples]"
   ]
  },
  {
   "cell_type": "code",
   "execution_count": 147,
   "id": "f7ff9d0d",
   "metadata": {},
   "outputs": [
    {
     "name": "stdout",
     "output_type": "stream",
     "text": [
      "(200, 100)\n",
      "(200,)\n",
      "(10000, 100)\n",
      "(10000,)\n"
     ]
    }
   ],
   "source": [
    "print(x_train.shape)\n",
    "print(y_train.shape)\n",
    "\n",
    "print(x_val.shape)\n",
    "print(y_val.shape)"
   ]
  },
  {
   "cell_type": "markdown",
   "id": "3996c203",
   "metadata": {},
   "source": [
    "### GloVe 단어 임베딩 내려받기\n",
    "\n",
    "- https://nlp.stanford.edu/projects/glove\n",
    "\n",
    "- http://nlp.stanford.edu/data/glove.6B.zip\n",
    "\n",
    "- 시간 소요 (5~7m)"
   ]
  },
  {
   "cell_type": "code",
   "execution_count": null,
   "id": "a9c8e4b9",
   "metadata": {},
   "outputs": [],
   "source": [
    "#url = 'http://nlp.stanford.edu/data/glove.6B.zip'\n",
    "#wget.download(url)"
   ]
  },
  {
   "cell_type": "code",
   "execution_count": null,
   "id": "56791f56",
   "metadata": {},
   "outputs": [],
   "source": []
  },
  {
   "cell_type": "markdown",
   "id": "4526882f",
   "metadata": {},
   "source": [
    "### 임베딩 전처리\n",
    "- GloVe 파싱"
   ]
  },
  {
   "cell_type": "code",
   "execution_count": 148,
   "id": "48960eb8",
   "metadata": {},
   "outputs": [
    {
     "name": "stdout",
     "output_type": "stream",
     "text": [
      "400000\n"
     ]
    }
   ],
   "source": [
    "glove_dir = 'C:/workspace/TIL/Data/glove.6B'\n",
    "\n",
    "embeddings_index = {}\n",
    "f = open(os.path.join(glove_dir, 'glove.6B.100d.txt'), encoding = 'utf8')\n",
    "for line in f:\n",
    "    values = line.split()\n",
    "    word = values[0]\n",
    "    coefs = np.asarray(values[1:], dtype = 'float32')\n",
    "    embeddings_index[word] = coefs\n",
    "    \n",
    "f.close()\n",
    "\n",
    "print(len(embeddings_index))"
   ]
  },
  {
   "cell_type": "code",
   "execution_count": 149,
   "id": "02739cb0",
   "metadata": {},
   "outputs": [],
   "source": [
    "embedding_dim = 100\n",
    "\n",
    "embedding_mat = np.zeros((max_words, embedding_dim))\n",
    "for word, i in word_index.items():\n",
    "    if i < max_words:\n",
    "        embedding_vector = embeddings_index.get(word)\n",
    "        if embedding_vector is not None:\n",
    "            embedding_mat[i] = embedding_vector"
   ]
  },
  {
   "cell_type": "code",
   "execution_count": 150,
   "id": "1933590d",
   "metadata": {},
   "outputs": [
    {
     "data": {
      "text/plain": [
       "array([[ 0.        ,  0.        ,  0.        , ...,  0.        ,\n",
       "         0.        ,  0.        ],\n",
       "       [-0.038194  , -0.24487001,  0.72812003, ..., -0.1459    ,\n",
       "         0.82779998,  0.27061999],\n",
       "       [-0.071953  ,  0.23127   ,  0.023731  , ..., -0.71894997,\n",
       "         0.86894   ,  0.19539   ],\n",
       "       ...,\n",
       "       [ 0.13787   , -0.17727   , -0.62436002, ...,  0.35506001,\n",
       "         0.33443999,  0.14436001],\n",
       "       [-0.88968998,  0.55208999, -0.50498998, ..., -0.54351002,\n",
       "        -0.21874   ,  0.51186001],\n",
       "       [-0.17381001, -0.037609  ,  0.068837  , ..., -0.097167  ,\n",
       "         1.08840001,  0.22676   ]])"
      ]
     },
     "execution_count": 150,
     "metadata": {},
     "output_type": "execute_result"
    }
   ],
   "source": [
    "embedding_mat"
   ]
  },
  {
   "cell_type": "markdown",
   "id": "ab4da9c0",
   "metadata": {},
   "source": [
    "### 모델 정의"
   ]
  },
  {
   "cell_type": "code",
   "execution_count": 151,
   "id": "4de694b4",
   "metadata": {},
   "outputs": [],
   "source": [
    "from tensorflow.keras.models import Sequential\n",
    "from tensorflow.keras.layers import Embedding, Flatten, Dense"
   ]
  },
  {
   "cell_type": "code",
   "execution_count": 152,
   "id": "2dae4d3c",
   "metadata": {},
   "outputs": [
    {
     "name": "stdout",
     "output_type": "stream",
     "text": [
      "Model: \"sequential_4\"\n",
      "_________________________________________________________________\n",
      "Layer (type)                 Output Shape              Param #   \n",
      "=================================================================\n",
      "embedding_7 (Embedding)      (None, 100, 100)          1000000   \n",
      "_________________________________________________________________\n",
      "flatten_3 (Flatten)          (None, 10000)             0         \n",
      "_________________________________________________________________\n",
      "dense_3 (Dense)              (None, 32)                320032    \n",
      "_________________________________________________________________\n",
      "dense_4 (Dense)              (None, 1)                 33        \n",
      "=================================================================\n",
      "Total params: 1,320,065\n",
      "Trainable params: 1,320,065\n",
      "Non-trainable params: 0\n",
      "_________________________________________________________________\n"
     ]
    }
   ],
   "source": [
    "model = Sequential()\n",
    "\n",
    "model.add(Embedding(max_words, embedding_dim, input_length = max_len))\n",
    "model.add(Flatten())\n",
    "model.add(Dense(32, activation = 'relu'))\n",
    "model.add(Dense(1, activation = 'sigmoid'))\n",
    "model.summary()"
   ]
  },
  {
   "cell_type": "code",
   "execution_count": 153,
   "id": "d404e476",
   "metadata": {},
   "outputs": [],
   "source": [
    "model.layers[0].set_weights([embedding_mat])   ## glove embedding값을 정의한 model에 넣어주기\n",
    "model.layers[0].trainable = False              ## weight값 학습이 필요없이 때문에 trainable = False"
   ]
  },
  {
   "cell_type": "code",
   "execution_count": 154,
   "id": "64274149",
   "metadata": {},
   "outputs": [],
   "source": [
    "model.compile(optimizer = 'rmsprop',\n",
    "             loss = 'binary_crossentropy',\n",
    "             metrics = ['acc'])"
   ]
  },
  {
   "cell_type": "code",
   "execution_count": 155,
   "id": "64ffdff2",
   "metadata": {},
   "outputs": [
    {
     "name": "stdout",
     "output_type": "stream",
     "text": [
      "Epoch 1/10\n",
      "7/7 [==============================] - 1s 142ms/step - loss: 1.6521 - acc: 0.5050 - val_loss: 0.9223 - val_acc: 0.5004\n",
      "Epoch 2/10\n",
      "7/7 [==============================] - 1s 124ms/step - loss: 0.7077 - acc: 0.5550 - val_loss: 0.6953 - val_acc: 0.5413\n",
      "Epoch 3/10\n",
      "7/7 [==============================] - 1s 119ms/step - loss: 0.4385 - acc: 0.7900 - val_loss: 0.8790 - val_acc: 0.5040\n",
      "Epoch 4/10\n",
      "7/7 [==============================] - 1s 122ms/step - loss: 0.3123 - acc: 0.8950 - val_loss: 0.9817 - val_acc: 0.5013\n",
      "Epoch 5/10\n",
      "7/7 [==============================] - 1s 121ms/step - loss: 0.2456 - acc: 0.9250 - val_loss: 1.2513 - val_acc: 0.5007\n",
      "Epoch 6/10\n",
      "7/7 [==============================] - 1s 124ms/step - loss: 0.2172 - acc: 0.9250 - val_loss: 0.7913 - val_acc: 0.5315\n",
      "Epoch 7/10\n",
      "7/7 [==============================] - 1s 119ms/step - loss: 0.1382 - acc: 0.9850 - val_loss: 0.7632 - val_acc: 0.5380\n",
      "Epoch 8/10\n",
      "7/7 [==============================] - 1s 121ms/step - loss: 0.0581 - acc: 1.0000 - val_loss: 0.7655 - val_acc: 0.5488\n",
      "Epoch 9/10\n",
      "7/7 [==============================] - 1s 125ms/step - loss: 0.0332 - acc: 1.0000 - val_loss: 1.3789 - val_acc: 0.5049\n",
      "Epoch 10/10\n",
      "7/7 [==============================] - 1s 125ms/step - loss: 0.4065 - acc: 0.8350 - val_loss: 0.7629 - val_acc: 0.5574\n"
     ]
    }
   ],
   "source": [
    "history = model.fit(x_train, y_train,\n",
    "                   epochs = 10,\n",
    "                   batch_size = 32,\n",
    "                   validation_data = (x_val, y_val))"
   ]
  },
  {
   "cell_type": "code",
   "execution_count": 157,
   "id": "e764590c",
   "metadata": {},
   "outputs": [],
   "source": [
    "model.save_weights('pre_trained_glove_model.h5')"
   ]
  },
  {
   "cell_type": "markdown",
   "id": "d6568c8b",
   "metadata": {},
   "source": [
    "### 시각화"
   ]
  },
  {
   "cell_type": "code",
   "execution_count": 158,
   "id": "27044361",
   "metadata": {},
   "outputs": [
    {
     "data": {
      "image/png": "[encoded data removed]",
      "text/plain": [
       "<Figure size 432x288 with 1 Axes>"
      ]
     },
     "metadata": {},
     "output_type": "display_data"
    },
    {
     "data": {
      "image/png": "[encoded data removed]",
      "text/plain": [
       "<Figure size 432x288 with 1 Axes>"
      ]
     },
     "metadata": {},
     "output_type": "display_data"
    }
   ],
   "source": [
    "loss = history.history['loss']\n",
    "val_loss = history.history['val_loss']\n",
    "acc = history.history['acc']\n",
    "val_acc = history.history['val_acc']\n",
    "\n",
    "epochs = range(1, len(loss) + 1)\n",
    "\n",
    "plt.plot(epochs, acc, 'b-', label = 'Train Accuracy')\n",
    "plt.plot(epochs, val_acc, 'r--', label = 'Validation Accuracy')\n",
    "plt.grid()\n",
    "plt.legend()\n",
    "\n",
    "plt.figure()\n",
    "plt.plot(epochs, loss, 'b-', label = 'Train Loss')\n",
    "plt.plot(epochs, val_loss, 'r--', label = 'Validation Loss')\n",
    "plt.grid()\n",
    "plt.legend()\n",
    "\n",
    "plt.show()"
   ]
  },
  {
   "cell_type": "markdown",
   "id": "c19a0133",
   "metadata": {},
   "source": [
    "## 사전 훈련된 단어 임베딩을 사용하지 않고 같은 모델 훈련"
   ]
  },
  {
   "cell_type": "code",
   "execution_count": 159,
   "id": "ab8c2080",
   "metadata": {},
   "outputs": [
    {
     "name": "stdout",
     "output_type": "stream",
     "text": [
      "Model: \"sequential_5\"\n",
      "_________________________________________________________________\n",
      "Layer (type)                 Output Shape              Param #   \n",
      "=================================================================\n",
      "embedding_8 (Embedding)      (None, 100, 100)          1000000   \n",
      "_________________________________________________________________\n",
      "flatten_4 (Flatten)          (None, 10000)             0         \n",
      "_________________________________________________________________\n",
      "dense_5 (Dense)              (None, 32)                320032    \n",
      "_________________________________________________________________\n",
      "dense_6 (Dense)              (None, 1)                 33        \n",
      "=================================================================\n",
      "Total params: 1,320,065\n",
      "Trainable params: 1,320,065\n",
      "Non-trainable params: 0\n",
      "_________________________________________________________________\n"
     ]
    }
   ],
   "source": [
    "model2 = Sequential()\n",
    "\n",
    "model2.add(Embedding(max_words, embedding_dim, input_length = max_len))\n",
    "model2.add(Flatten())\n",
    "model2.add(Dense(32, activation = 'relu'))\n",
    "model2.add(Dense(1, activation = 'sigmoid'))\n",
    "model2.summary()"
   ]
  },
  {
   "cell_type": "code",
   "execution_count": 160,
   "id": "f9594ce4",
   "metadata": {},
   "outputs": [
    {
     "name": "stdout",
     "output_type": "stream",
     "text": [
      "Epoch 1/10\n",
      "7/7 [==============================] - 1s 142ms/step - loss: 0.6890 - acc: 0.5050 - val_loss: 0.6958 - val_acc: 0.5078\n",
      "Epoch 2/10\n",
      "7/7 [==============================] - 1s 126ms/step - loss: 0.5156 - acc: 0.9850 - val_loss: 0.7035 - val_acc: 0.5125\n",
      "Epoch 3/10\n",
      "7/7 [==============================] - 1s 123ms/step - loss: 0.3002 - acc: 0.9850 - val_loss: 0.7005 - val_acc: 0.5160\n",
      "Epoch 4/10\n",
      "7/7 [==============================] - 1s 120ms/step - loss: 0.1403 - acc: 1.0000 - val_loss: 0.7175 - val_acc: 0.5118\n",
      "Epoch 5/10\n",
      "7/7 [==============================] - 1s 114ms/step - loss: 0.0682 - acc: 1.0000 - val_loss: 0.7170 - val_acc: 0.5141\n",
      "Epoch 6/10\n",
      "7/7 [==============================] - 1s 123ms/step - loss: 0.0353 - acc: 1.0000 - val_loss: 0.7129 - val_acc: 0.5190\n",
      "Epoch 7/10\n",
      "7/7 [==============================] - 1s 123ms/step - loss: 0.0193 - acc: 1.0000 - val_loss: 0.7466 - val_acc: 0.5135\n",
      "Epoch 8/10\n",
      "7/7 [==============================] - 1s 112ms/step - loss: 0.0112 - acc: 1.0000 - val_loss: 0.7429 - val_acc: 0.5162\n",
      "Epoch 9/10\n",
      "7/7 [==============================] - 1s 121ms/step - loss: 0.0066 - acc: 1.0000 - val_loss: 0.7455 - val_acc: 0.5177\n",
      "Epoch 10/10\n",
      "7/7 [==============================] - 1s 128ms/step - loss: 0.0040 - acc: 1.0000 - val_loss: 0.7584 - val_acc: 0.5167\n"
     ]
    }
   ],
   "source": [
    "model2.compile(optimizer = 'rmsprop',\n",
    "             loss = 'binary_crossentropy',\n",
    "             metrics = ['acc'])\n",
    "\n",
    "history2 = model2.fit(x_train, y_train,\n",
    "                   epochs = 10,\n",
    "                   batch_size = 32,\n",
    "                   validation_data = (x_val, y_val))"
   ]
  },
  {
   "cell_type": "code",
   "execution_count": 161,
   "id": "68ab7b99",
   "metadata": {},
   "outputs": [
    {
     "data": {
      "image/png": "[encoded data removed]",
      "text/plain": [
       "<Figure size 432x288 with 1 Axes>"
      ]
     },
     "metadata": {},
     "output_type": "display_data"
    },
    {
     "data": {
      "image/png": "[encoded data removed]",
      "text/plain": [
       "<Figure size 432x288 with 1 Axes>"
      ]
     },
     "metadata": {},
     "output_type": "display_data"
    }
   ],
   "source": [
    "loss = history2.history['loss']\n",
    "val_loss = history2.history['val_loss']\n",
    "acc = history2.history['acc']\n",
    "val_acc = history2.history['val_acc']\n",
    "\n",
    "epochs = range(1, len(loss) + 1)\n",
    "\n",
    "plt.plot(epochs, acc, 'b-', label = 'Train Accuracy')\n",
    "plt.plot(epochs, val_acc, 'r--', label = 'Validation Accuracy')\n",
    "plt.grid()\n",
    "plt.legend()\n",
    "\n",
    "plt.figure()\n",
    "plt.plot(epochs, loss, 'b-', label = 'Train Loss')\n",
    "plt.plot(epochs, val_loss, 'r--', label = 'Validation Loss')\n",
    "plt.grid()\n",
    "plt.legend()\n",
    "\n",
    "plt.show()\n",
    "\n",
    "\n",
    "### OverFitting"
   ]
  },
  {
   "cell_type": "markdown",
   "id": "da2b1d87",
   "metadata": {},
   "source": [
    "### 테스트 데이터 토큰화"
   ]
  },
  {
   "cell_type": "code",
   "execution_count": 162,
   "id": "22fbe75a",
   "metadata": {},
   "outputs": [],
   "source": [
    "test_dir = os.path.join(imdb_dir, 'test')\n",
    "\n",
    "\n",
    "labels = []\n",
    "texts = []\n",
    "for label_type in ['neg', 'pos']:\n",
    "    dir_name = os.path.join(test_dir, label_type)\n",
    "    \n",
    "    for fname in os.listdir(dir_name):\n",
    "        if fname[-4:] == '.txt':\n",
    "            f = open(os.path.join(dir_name, fname), encoding = 'utf8')\n",
    "            texts.append(f.read())\n",
    "            f.close()\n",
    "            \n",
    "            if label_type == 'neg':\n",
    "                labels.append(0)\n",
    "            else:\n",
    "                labels.append(1)\n",
    "                \n",
    "sequences = tokenizer.texts_to_sequences(texts)\n",
    "x_test = pad_sequences(sequences, maxlen = max_len)\n",
    "y_test = np.asarray(labels)"
   ]
  },
  {
   "cell_type": "code",
   "execution_count": 163,
   "id": "38653d14",
   "metadata": {},
   "outputs": [
    {
     "name": "stdout",
     "output_type": "stream",
     "text": [
      "(25000, 100)\n",
      "(25000,)\n"
     ]
    }
   ],
   "source": [
    "print(x_test.shape)\n",
    "print(y_test.shape)"
   ]
  },
  {
   "cell_type": "code",
   "execution_count": 164,
   "id": "5ba28f6f",
   "metadata": {},
   "outputs": [
    {
     "name": "stdout",
     "output_type": "stream",
     "text": [
      "782/782 [==============================] - 2s 3ms/step - loss: 0.7643 - acc: 0.5534\n"
     ]
    },
    {
     "data": {
      "text/plain": [
       "[0.7643107175827026, 0.5534399747848511]"
      ]
     },
     "execution_count": 164,
     "metadata": {},
     "output_type": "execute_result"
    }
   ],
   "source": [
    "model.load_weights('pre_trained_glove_model.h5')\n",
    "model.evaluate(x_test, y_test)"
   ]
  },
  {
   "cell_type": "code",
   "execution_count": null,
   "id": "e0cdfdf1",
   "metadata": {},
   "outputs": [],
   "source": []
  },
  {
   "cell_type": "code",
   "execution_count": null,
   "id": "f652a01a",
   "metadata": {},
   "outputs": [],
   "source": []
  }
 ],
 "metadata": {
  "kernelspec": {
   "display_name": "Python 3",
   "language": "python",
   "name": "python3"
  },
  "language_info": {
   "codemirror_mode": {
    "name": "ipython",
    "version": 3
   },
   "file_extension": ".py",
   "mimetype": "text/x-python",
   "name": "python",
   "nbconvert_exporter": "python",
   "pygments_lexer": "ipython3",
   "version": "3.8.8"
  }
 },
 "nbformat": 4,
 "nbformat_minor": 5
}
