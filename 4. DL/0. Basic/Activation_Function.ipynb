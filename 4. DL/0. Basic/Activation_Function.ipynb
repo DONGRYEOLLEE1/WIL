{
 "cells": [
  {
   "cell_type": "code",
   "execution_count": 1,
   "id": "359b1902",
   "metadata": {},
   "outputs": [],
   "source": [
    "import tensorflow as tf\n",
    "from tensorflow.keras.layers import RNN\n",
    "from tensorflow.keras.models import Sequential\n",
    "\n",
    "import torch"
   ]
  },
  {
   "cell_type": "code",
   "execution_count": null,
   "id": "d4627e6d",
   "metadata": {},
   "outputs": [],
   "source": [
    "class IRNN(nn.Module):\n",
    "    def __init__(self, input_size, hidden_size, output_size):\n",
    "        super(IRNN, self).__init__()\n",
    "        self.hidden_size = hidden_size\n",
    "        self.rnn = nn.RNN(input_size, hidden_size,\n",
    "                          nonlinearity='relu', batch_first=True, bias=True)\n",
    "        self.output_weights = nn.Linear(hidden_size, output_size)\n",
    "\n",
    "        # Parameters initialization\n",
    "        self.rnn.state_dict()['weight_hh_l0'].copy_(torch.eye(hidden_size))\n",
    "        self.rnn.bias_ih_l0.data.fill_(0)\n",
    "        self.rnn.bias_hh_l0.data.fill_(0)\n",
    "        self.rnn.state_dict()['weight_ih_l0'].copy_(\n",
    "            torch.randn(hidden_size, input_size) / hidden_size)\n",
    "\n",
    "    def forward(self, inp):\n",
    "        _, hnn = self.rnn(inp)\n",
    "        out = self.output_weights(hnn[0])\n",
    "        return out"
   ]
  },
  {
   "cell_type": "code",
   "execution_count": null,
   "id": "072672ac",
   "metadata": {},
   "outputs": [],
   "source": []
  },
  {
   "cell_type": "code",
   "execution_count": null,
   "id": "1dcbd3de",
   "metadata": {},
   "outputs": [],
   "source": [
    "model = Sequential()\n",
    "model.add(RNN())"
   ]
  },
  {
   "cell_type": "markdown",
   "id": "9a475b9c",
   "metadata": {},
   "source": [
    "# Sigmoid"
   ]
  },
  {
   "cell_type": "code",
   "execution_count": 23,
   "id": "a7d50f5c",
   "metadata": {},
   "outputs": [],
   "source": [
    "import numpy as np\n",
    "import matplotlib.pyplot as plt\n",
    "import math"
   ]
  },
  {
   "cell_type": "code",
   "execution_count": 18,
   "id": "bf4e59f9",
   "metadata": {},
   "outputs": [],
   "source": [
    "def sigmoid(x):\n",
    "    return 1 / (1 + np.exp(-x))"
   ]
  },
  {
   "cell_type": "code",
   "execution_count": 22,
   "id": "0edd22ef",
   "metadata": {},
   "outputs": [
    {
     "data": {
      "image/png": "[encoded data removed]",
      "text/plain": [
       "<Figure size 432x288 with 1 Axes>"
      ]
     },
     "metadata": {
      "needs_background": "light"
     },
     "output_type": "display_data"
    }
   ],
   "source": [
    "x = np.arange(-10.0, 10.0, 0.1)\n",
    "y = sigmoid(x)\n",
    "\n",
    "plt.plot(x, y)\n",
    "plt.grid()\n",
    "plt.ylim(-0.1, 1.1)\n",
    "plt.title('Sigmoid')\n",
    "plt.show()"
   ]
  },
  {
   "cell_type": "markdown",
   "id": "e88f02d9",
   "metadata": {},
   "source": [
    "# Tanh"
   ]
  },
  {
   "cell_type": "code",
   "execution_count": 24,
   "id": "fe8d2388",
   "metadata": {},
   "outputs": [],
   "source": [
    "def tanh(x):\n",
    "    return (np.exp(x) - np.exp(-x)) / (np.exp(x) + np.exp(-x))"
   ]
  },
  {
   "cell_type": "code",
   "execution_count": 27,
   "id": "f019fe34",
   "metadata": {},
   "outputs": [
    {
     "data": {
      "image/png": "[encoded data removed]",
      "text/plain": [
       "<Figure size 432x288 with 1 Axes>"
      ]
     },
     "metadata": {
      "needs_background": "light"
     },
     "output_type": "display_data"
    }
   ],
   "source": [
    "x = np.arange(-10.0, 10.0, 0.1)\n",
    "y = tanh(x)\n",
    "\n",
    "plt.plot(x, y)\n",
    "plt.grid()\n",
    "plt.ylim(-1.1, 1.1)\n",
    "plt.title('Tanh')\n",
    "plt.show()"
   ]
  },
  {
   "cell_type": "markdown",
   "id": "6a7be06d",
   "metadata": {},
   "source": [
    "# Softmax"
   ]
  },
  {
   "cell_type": "code",
   "execution_count": 28,
   "id": "33fdc41d",
   "metadata": {},
   "outputs": [],
   "source": [
    "def softmax(x):\n",
    "    return np.exp(x) / np.sum(np.exp(x))"
   ]
  },
  {
   "cell_type": "code",
   "execution_count": 34,
   "id": "0f3c9c33",
   "metadata": {},
   "outputs": [
    {
     "name": "stdout",
     "output_type": "stream",
     "text": [
      "[ 1.34985881 18.17414537 54.59815003]\n",
      "[0.01821127 0.24519181 0.73659691]\n",
      "1.0\n"
     ]
    }
   ],
   "source": [
    "a = np.array([0.3, 2.9, 4.0])\n",
    "\n",
    "print(np.exp(a))\n",
    "print(softmax(a))\n",
    "print(sum(softmax(a)))"
   ]
  },
  {
   "cell_type": "markdown",
   "id": "275e5b94",
   "metadata": {},
   "source": [
    "# ReLU\n",
    "- The sigmoid and hyperbolic tangent activation functions cannot be used in networks with many layers due to the vanishing gradient problem.\n",
    "- The rectified linear activation function overcomes the vanishing gradient problem, allowing models to learn faster and perform better.\n",
    "- The rectified linear activation is the default activation when developing multilayer Perceptron and convolutional neural networks."
   ]
  },
  {
   "cell_type": "code",
   "execution_count": 3,
   "id": "edf10324",
   "metadata": {},
   "outputs": [],
   "source": [
    "def relu(x):\n",
    "    return max(0.0, x)"
   ]
  },
  {
   "cell_type": "code",
   "execution_count": 4,
   "id": "eb39d4dc",
   "metadata": {},
   "outputs": [
    {
     "name": "stdout",
     "output_type": "stream",
     "text": [
      "relu(1.0) is 1.0\n"
     ]
    }
   ],
   "source": [
    "x = 1.0\n",
    "print('relu(%.1f) is %.1f' % (x, relu(x)))"
   ]
  },
  {
   "cell_type": "code",
   "execution_count": 5,
   "id": "b3ec4004",
   "metadata": {},
   "outputs": [
    {
     "name": "stdout",
     "output_type": "stream",
     "text": [
      "relu(1000.0) is 1000.0\n"
     ]
    }
   ],
   "source": [
    "x = 1000.0\n",
    "print('relu(%.1f) is %.1f' % (x, relu(x)))"
   ]
  },
  {
   "cell_type": "code",
   "execution_count": 6,
   "id": "8d78a2d5",
   "metadata": {},
   "outputs": [
    {
     "name": "stdout",
     "output_type": "stream",
     "text": [
      "relu(0.0) is 0.0\n"
     ]
    }
   ],
   "source": [
    "x = 0.0\n",
    "print('relu(%.1f) is %.1f' % (x, relu(x)))"
   ]
  },
  {
   "cell_type": "code",
   "execution_count": 7,
   "id": "7228c1a0",
   "metadata": {},
   "outputs": [
    {
     "name": "stdout",
     "output_type": "stream",
     "text": [
      "relu(-1.0) is 0.0\n"
     ]
    }
   ],
   "source": [
    "x = -1.0\n",
    "print('relu(%.1f) is %.1f' % (x, relu(x)))"
   ]
  },
  {
   "cell_type": "code",
   "execution_count": 8,
   "id": "bd093a66",
   "metadata": {},
   "outputs": [
    {
     "name": "stdout",
     "output_type": "stream",
     "text": [
      "relu(-1000.0) is 0.0\n"
     ]
    }
   ],
   "source": [
    "x = -1000.0\n",
    "print('relu(%.1f) is %.1f' % (x, relu(x)))"
   ]
  },
  {
   "cell_type": "code",
   "execution_count": 13,
   "id": "d0d02dc3",
   "metadata": {},
   "outputs": [
    {
     "data": {
      "image/png": "[encoded data removed]",
      "text/plain": [
       "<Figure size 432x288 with 1 Axes>"
      ]
     },
     "metadata": {
      "needs_background": "light"
     },
     "output_type": "display_data"
    }
   ],
   "source": [
    "series_in = [x for x in range(-10, 11)]\n",
    "series_out = [relu(x) for x in series_in]\n",
    "\n",
    "plt.plot(series_in, series_out)\n",
    "plt.title('ReLU')\n",
    "plt.grid()\n",
    "plt.show()"
   ]
  },
  {
   "cell_type": "markdown",
   "id": "4720a66f",
   "metadata": {},
   "source": [
    "- The derivative of the rectified linear function is also easy to calculate. Recall that the derivative of the activation function is required when updating the weights of a node as part of the backpropagation of error."
   ]
  },
  {
   "cell_type": "code",
   "execution_count": null,
   "id": "a0a66a29",
   "metadata": {},
   "outputs": [],
   "source": []
  },
  {
   "cell_type": "code",
   "execution_count": null,
   "id": "73983acc",
   "metadata": {},
   "outputs": [],
   "source": []
  },
  {
   "cell_type": "code",
   "execution_count": null,
   "id": "dd4dc724",
   "metadata": {},
   "outputs": [],
   "source": []
  },
  {
   "cell_type": "code",
   "execution_count": null,
   "id": "bcc2c48f",
   "metadata": {},
   "outputs": [],
   "source": []
  },
  {
   "cell_type": "code",
   "execution_count": null,
   "id": "48220c91",
   "metadata": {},
   "outputs": [],
   "source": []
  },
  {
   "cell_type": "code",
   "execution_count": null,
   "id": "c932e96d",
   "metadata": {},
   "outputs": [],
   "source": []
  },
  {
   "cell_type": "code",
   "execution_count": null,
   "id": "5d02cda7",
   "metadata": {},
   "outputs": [],
   "source": []
  },
  {
   "cell_type": "code",
   "execution_count": null,
   "id": "d919cae6",
   "metadata": {},
   "outputs": [],
   "source": []
  }
 ],
 "metadata": {
  "kernelspec": {
   "display_name": "Python 3 (ipykernel)",
   "language": "python",
   "name": "python3"
  },
  "language_info": {
   "codemirror_mode": {
    "name": "ipython",
    "version": 3
   },
   "file_extension": ".py",
   "mimetype": "text/x-python",
   "name": "python",
   "nbconvert_exporter": "python",
   "pygments_lexer": "ipython3",
   "version": "3.9.7"
  },
  "toc": {
   "base_numbering": 1,
   "nav_menu": {},
   "number_sections": true,
   "sideBar": true,
   "skip_h1_title": false,
   "title_cell": "Table of Contents",
   "title_sidebar": "Contents",
   "toc_cell": false,
   "toc_position": {},
   "toc_section_display": true,
   "toc_window_display": false
  },
  "varInspector": {
   "cols": {
    "lenName": 16,
    "lenType": 16,
    "lenVar": 40
   },
   "kernels_config": {
    "python": {
     "delete_cmd_postfix": "",
     "delete_cmd_prefix": "del ",
     "library": "var_list.py",
     "varRefreshCmd": "print(var_dic_list())"
    },
    "r": {
     "delete_cmd_postfix": ") ",
     "delete_cmd_prefix": "rm(",
     "library": "var_list.r",
     "varRefreshCmd": "cat(var_dic_list()) "
    }
   },
   "types_to_exclude": [
    "module",
    "function",
    "builtin_function_or_method",
    "instance",
    "_Feature"
   ],
   "window_display": false
  }
 },
 "nbformat": 4,
 "nbformat_minor": 5
}
