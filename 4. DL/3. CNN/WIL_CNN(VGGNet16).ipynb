{
 "cells": [
  {
   "cell_type": "markdown",
   "id": "70e4c645",
   "metadata": {},
   "source": [
    "# Very Deep Convolutional Networks For Large-Scale Image Recognition\n",
    "- VGGNet은 2014년 ILSVRC에서 2위를 한 Oxford 대학교의 VGGNet 팀에서 만든 모델\n",
    "- 구조적인 측면에서 굉장히 간단한데 성능은 훌륭하며 변형을 시켜가면서 테스트하기에 좋아 많이 사용되고 있다\n",
    "- ImageNet Challenge에서 Top-5 테스트 정확도를 92.7% 달성하면서 2014년 컴퓨터 비전을 위한 딥러닝 관련 대표적 연구 중 하나로 자리매김하였다"
   ]
  },
  {
   "cell_type": "markdown",
   "id": "5563daa5",
   "metadata": {},
   "source": [
    "## VGG16의 의미\n",
    "- VGG : Visual Geometry Group\n",
    "- 16 : 16 layers\n",
    "    - 따라서, 신경망 모델의 깊이(레이어 수)에 따라 VGG19 혹은 VGG13이 될 수도 있다\n",
    "    "
   ]
  },
  {
   "cell_type": "markdown",
   "id": "59e997d1",
   "metadata": {},
   "source": [
    "## 의문점\n",
    "- 어떻게 16-19 레이어와 같이 깊은 신경망 모델의 학습을 성공했을까?\n",
    "- 왜 모든 Conv에서 3x3 필터만 사용했을까?\n",
    "<br><br>\n",
    "- AlexNet(2012)의 8layers 모델보다 깊이가 2배 이상 깊은 네트워크 학습에 성공했으며, ImageNet Challenge에서 오차율을 절반 (16.4 > 7.3) 으로 줄였다\n",
    "- VGG 모델이 16-19 레이어에 달하는 깊은 신경망을 학습할 수 있었던 것은 **모든 합성곱 레이어에서 3x3 필터를 사용했기 때문**이다"
   ]
  },
  {
   "cell_type": "markdown",
   "id": "406e90df",
   "metadata": {},
   "source": [
    "## 네트워크의 깊이(Depth)\n",
    "- AlexNet의 Layer의 수는 8개였다. 그에 비해 VGGNet16은 Layer수가 16개로 더 깊어진 것을 볼 수 있다\n",
    "- 망이 깊어지면 출력단에서 하나의 픽셀이 담고 있는 정보의 양이 많아지며 훨씬 복잡한 문제를 풀 수 있게된다\n",
    "![VGGNet](https://mohitjainweb.files.wordpress.com/2018/06/vggnet-vs-alexnet-e1528395392313.jpg)\n",
    "- 구조는 AlexNet과 크게 다르지 않지만 확실히 깊이에서 차이가 나는걸 볼 수 있다\n"
   ]
  },
  {
   "cell_type": "markdown",
   "id": "ba65d515",
   "metadata": {},
   "source": [
    "## 망을 깊이 했을 때의 문제점\n",
    "- 성능을 올릴 수 있지만 자유파라미터(free parameter)의 수가 증가하게 되면서 overfitting에 빠질 가능성이 높아지며 연산량이 증가하여 학습 시간이 오래 걸린다는 단점이 있다"
   ]
  },
  {
   "cell_type": "markdown",
   "id": "d98a51b0",
   "metadata": {},
   "source": [
    "## VGGNet 구조\n",
    "    - 13 Conv + 3 FC\n",
    "    - 3x3 Conv filters\n",
    "    - stride : 1  / padding : 1\n",
    "    - 2x2 MP(stride : 2)\n",
    "    - ReLU\n",
    "![VGGNet_](https://production-media.paperswithcode.com/methods/vgg_7mT4DML.png)\n",
    "- VGGNet의 논문에서는 오로지 깊이가 주는 영향력을 알기 위해 필터는 3x3으로 stride는 1로 고정했으며 MaxPooling은 2x2에 stride는 2로 하여 학습을 진행하였다\n",
    "- VGG팀은 여러가지 방법으로 테스트를 진행했다고 한다\n",
    "![VGGNet__](https://vitalab.github.io/article/images/vggnet/vggnet.jpg)\n",
    "![VGGNet___](VGGNet구조.PNG)\n",
    "- 위 표에 보이듯이 input을 224x224x3으로 입력받아 Conv와 Maxpool을 반복하다가 FCLayer를 연결하는 구조로 만든걸 볼 수 있으며 테스트마다 Conv의 개수를 다르게 했다는 점이 보인다\n",
    "- AlexNet과 다르게 LRN을 쓰지 않았으며 3x3 필터만을 사용하여 학습시키는 것이 가장 큰 특징이다"
   ]
  },
  {
   "cell_type": "markdown",
   "id": "d416e4c0",
   "metadata": {},
   "source": [
    "## 3x3 필터\n",
    "![VGG](https://miro.medium.com/max/1050/1*-3cYM6fQK8HiWlMjn_Y6-w.png)\n",
    "- VGG모델 이전에 Convolutional Network를 활용하여 이미지 분류에서 좋은 성과를 보였던 모델들은 비교적 큰 Receptive Field를 갖는 11x11필터나 7x7필터를 포함한다.\n",
    "- 그러나, VGG모델은 오직 3x3 크기의 작은 필터만 사용했음에도 이미지 분류 정확도를 비약적으로 개선시켰다. 이 부분에서 좋은 통찰을 얻을 수 있다\n",
    "<br><br>\n",
    "![10x10](https://miro.medium.com/max/375/1*Cgmz_DcTQXVPGMsKekDObQ.png)\n",
    "<br><br>\n",
    "- 10x10 이미지에 7x7필터와 3x3필터로 각각 Convolution을 수행하면 다음과 같은 특성이 있다\n",
    "<br><br>\n",
    "![7x7,3x3](https://miro.medium.com/max/1050/1*Cb8p7EzcWYDHUzMBYI-yyw.png)\n",
    "    * 7x7 필터를 이용하여 Convolution 했을 경우 출력 특징 맵의 각 픽셀 당 Receptive Field는 7x7이다\n",
    "![77,33](https://miro.medium.com/max/1050/1*E9DiwjWyLU-aQU-knOtv3g.png)\n",
    "    * 3x3 필터를 이용할 경우, 3-레이어 Convolution을 반복했을 때 원본 이미지의 7x7 영역을 수용할 수 있다\n",
    "    \n",
    "- Stride가 1일 때, 세차례의 3x3 Conv 필터링을 반복한 특징맵은 한 픽셀이 원본 이미지의 7x7 Receptive field의 효과를 볼 수 있다.\n",
    "그렇다면, 7x7필터를 이용해 이미지에 대한 한 번 Convolution을 수행한 것과 3x3필터로 세 번 Convolution을 수행한 것에는 어떤 차이가 있을까?\n",
    "    1. 결정 함수의 비선형성 증가\n",
    "      -  각 Convolution 연산은 ReLU 함수를 포함한다. 다시 말해, 1-layer 7x7 필터링의 경우 한 번의 비선형 함수가 적용되는 반면 3-layer 3x3 필터링은 세 번의 비선형 함수가 적용된다.\n",
    "      - 따라서, 레이어가 증가함에 따라 비선형성이 증가하게 되고 이것은 모델의 특징 식별성 증가로 이어진다.\n",
    "    2. 학습 파라미터 수의 감소\n",
    "        - Convolutional Network 구조를 학습할 때, 학습 대상인 가중치(weight)는 필터의 크기에 해당한다.\n",
    "        - 따라서, 7x7필터 1개에 대한 학습 파라미터 수는 49이고 3x3 필터 3개에 대한 학습 파라미터 수는 27(3x3x3)이 된다.\n",
    "        - 파라미터 수가 크게 감소하는 것을 알 수 있다.\n",
    "        - 물론 위와 같은 특징이 모든 경우에 좋은 방향으로 작용하는 것은 아니니 주의할 필요가 있다. 다시 말해, 무작정 네트워크의 깊이를 깊게 만드는 것이 장점만 있는 것은 아니다.\n",
    "        - 여러 레이어를 거쳐 만들어진 특징 맵(Feature Map)은 동일한 Receptive Field에 대해 더 추상적인 정보를 담게 된다. 목적에 따라서는 더 선명한 특징 맵이 필요할 수도 있다.\n",
    "<br><br>\n",
    "- 모델 학습 ( VGG-16 원문에서는 학습 시 다음과 같은 최적화 알고리즘을 사용하였다 )\n",
    "    * Optimizing multinomial logistic regression\n",
    "    * mini-batch gradient descent\n",
    "    * Momentum(0.9)\n",
    "    * Weight Decay(L2 Norm)\n",
    "    * Dropout(0.5)\n",
    "    * Learning rate 0.01로 초기화 후 서서히 줄임\n",
    "<br><br>\n",
    "- 가중치 초기화\n",
    "    * 딥러닝에서 신경망 가중치의 초기화는 학습 속도 및 안정성에 큰 영향을 줄 수 있기 때문에 어떤 방식으로 초기화할 것인지는 중요한 문제 중 하나이다.\n",
    "    * VGG연구팀은 이러한 문제를 보완하고자 다음과 같은 전략을 세웠다\n",
    "        - 상대적으로 얕은 11-Layer 네트워크를 우선적으로 학습한다. 이때, 가중치는 정규분포를 따르도록 임의의 값으로 초기화한다.\n",
    "        - 어느 정도 학습이 완료되면 입력층 부분의 4개 층과 마지막 3개의 FCLayer의 Weight를 학습할 네트워크의 초기값으로 사용한다.\n",
    "<br><br>\n",
    "- 학습 이미지 크기\n",
    "    * 모델 학습(Training)시 입력 이미지의 크기는 모두 224x224로 고정하였다\n",
    "    * 학습 이미지는 각 이미지에 대해 256x256 ~ 512x512 내에서 임의의 크기로 변환하고, 크기가 변환된 이미지에서 개체(Object)의 일부가 포함된 224x224 이미지를 Crop하여 사용하였다.\n",
    "<br><br>\n",
    "![VGG_image_size](https://miro.medium.com/max/1050/1*GgBEeC19t2BEEYTTnC9zrA.png)\n",
    "    * 등방성으로 rescale된 트레이닝 이미지\n",
    "![VGG_image_size](https://miro.medium.com/max/1050/1*GoMqM5gklSZdgbzek-bxLg.png)\n",
    "![VGG_image_size](https://miro.medium.com/max/1050/1*j6IOqW5REUoL7yL4xFGZMw.png)\n",
    "    * 이미지를 256x256 크기로 변환 후, 224x224 크기를 샘플링한 경우\n",
    "![VGG_image_size](https://miro.medium.com/max/1050/1*FfnOsvhhdJQDyHg9PjrKFA.png)\n",
    "    * 이미지를 512x512 크기로 변환 후, 224x224 크기를 샘플링한 경우\n",
    "    \n",
    "- 이처럼 학습데이터를 다양한 크기로 변환하고 그 중 일부분을 샘플링해 사용함으로써 몇 가지 효과를 얻을 수 있다\n",
    "    1. 한정적인 데이터의 수를 늘릴 수 있다 --( Data Augmentation )\n",
    "    2. 하나의 오브젝트에 대한 다양한 측면을 학습 시 반영시킬 수 있다. 변환된 이미지가 작을수록 개체의 전체적인 측면을 학습할 수 있고, 변환된 이미지가 클수록 개체의 특정한 부분을 학습에 반영할 수 있다.\n",
    " - 두 가지 모두 Overfitting을 방지하는 데 도움이 된다.\n",
    " - 실제로 VGG 연구팀의 실험 결과에 따르면 다양한 스케일로 변환한 이미지에서 샘플링하여 학습 데이터로 사용한 경우가 단일 스케일 이미지에서 샘플링한 경우보다 분류 정확도가 좋았다.\n",
    " \n",
    "<br><br>\n",
    "- Fully-Convolutional Nets\n",
    "    * Training 완료된 모델을 테스팅할 때는 신경망의 마지막 3 Fully-Connected layers를 Convolutional layers로 변환하여 사용하였다.\n",
    "    * 첫 번째 Fully-Connected layer는 7x7 Conv로, 마지막 두 Fully-Connected layer는 1x1 Conv로 변환하였다. 이런식으로 변환된 신경망을 Fully-Convolutional Networks라 부른다.\n",
    "    * 신경망이 Convolution 레이어로만 구성될 경우 입력 이미지의 크기 제약이 없어진다. 이에 따라 하나의 입력 이미지를 다양한 스케일로 사용한 결과들을 앙상블하여 이미지 분류 정확도를 개선하는 것도 가능해진다."
   ]
  },
  {
   "cell_type": "markdown",
   "id": "70442b49",
   "metadata": {},
   "source": [
    "# Result\n",
    "- VGG 연구팀의 실험 결과를 통해 네트워크의 깊이가 깊어질수록 이미지 분류 정확도가 높아지는 것을 확인할 수 있었다.\n",
    "- 실험에서 네트워크의 깊이를 최대 19 레이어(VGG-19)까지만 사용한 이유는 해당 실험의 데이터에서는 분류 오차율이 VGG-19에서 수렴했기 때문이다. 학습 데이터 세트가 충분히 많다면 더 깊은 모델이 더 유용할 수도 있다."
   ]
  },
  {
   "cell_type": "code",
   "execution_count": null,
   "id": "03848366",
   "metadata": {},
   "outputs": [],
   "source": []
  },
  {
   "cell_type": "code",
   "execution_count": 7,
   "id": "1ecd3566",
   "metadata": {},
   "outputs": [],
   "source": [
    "import numpy as np\n",
    "import pandas as pd\n",
    "\n",
    "import matplotlib.pyplot as plt\n",
    "plt.style.use('seaborn-white')\n",
    "\n",
    "import tensorflow as tf\n",
    "from tensorflow.keras.datasets import cifar10\n",
    "from tensorflow.keras.models import Sequential\n",
    "from tensorflow.keras.layers import Dense, Dropout, Flatten, Input, Conv2D, MaxPool2D, BatchNormalization, Activation, ReLU\n",
    "from tensorflow.keras.optimizers import Adam\n",
    "from tensorflow.keras.utils import to_categorical\n",
    "from tensorflow.keras import datasets, layers, models, losses\n",
    "\n",
    "import cv2"
   ]
  },
  {
   "cell_type": "code",
   "execution_count": 2,
   "id": "55c3cb1f",
   "metadata": {},
   "outputs": [
    {
     "name": "stdout",
     "output_type": "stream",
     "text": [
      "Downloading data from https://www.cs.toronto.edu/~kriz/cifar-10-python.tar.gz\n",
      "170500096/170498071 [==============================] - 31s 0us/step\n",
      "170508288/170498071 [==============================] - 31s 0us/step\n"
     ]
    }
   ],
   "source": [
    "(x_train, y_train), (x_test, y_test) = cifar10.load_data()"
   ]
  },
  {
   "cell_type": "code",
   "execution_count": 3,
   "id": "58ce08ff",
   "metadata": {},
   "outputs": [],
   "source": [
    "# 정규화\n",
    "x_train = x_train.astype('float32') / 255.0\n",
    "x_test = x_test.astype('float32') / 255.0"
   ]
  },
  {
   "cell_type": "code",
   "execution_count": 4,
   "id": "7dfe99c8",
   "metadata": {},
   "outputs": [],
   "source": [
    "# 범주화\n",
    "y_train = to_categorical(y_train, 10)\n",
    "y_test = to_categorical(y_test, 10)"
   ]
  },
  {
   "cell_type": "code",
   "execution_count": 9,
   "id": "2a13ee99",
   "metadata": {},
   "outputs": [
    {
     "data": {
      "text/plain": [
       "((10000, 32, 32, 3), (10000, 10))"
      ]
     },
     "execution_count": 9,
     "metadata": {},
     "output_type": "execute_result"
    }
   ],
   "source": [
    "x_test.shape, y_test.shape"
   ]
  },
  {
   "cell_type": "code",
   "execution_count": 10,
   "id": "1039a46b",
   "metadata": {},
   "outputs": [],
   "source": [
    "# Model \n",
    "\n",
    "model = Sequential()\n",
    "model.add(Conv2D(64, 3, strides = 1, padding = 'same', input_shape = x_train.shape[1:]))\n",
    "model.add(BatchNormalization())\n",
    "model.add(Activation(activation = 'relu'))\n",
    "model.add(Conv2D(64, 3, strides = 1, padding = 'same'))\n",
    "model.add(BatchNormalization())\n",
    "model.add(Activation(activation = 'relu'))\n",
    "model.add(MaxPool2D(pool_size = (2, 2), strides = 2))\n",
    "\n",
    "model.add(Conv2D(128, 3, strides = 1, padding = 'same'))\n",
    "model.add(BatchNormalization())\n",
    "model.add(Activation(activation = 'relu'))\n",
    "model.add(Conv2D(128, 3, strides = 1, padding = 'same'))\n",
    "model.add(BatchNormalization())\n",
    "model.add(Activation(activation = 'relu'))\n",
    "model.add(MaxPool2D((2, 2), strides = 2))\n",
    "\n",
    "model.add(Conv2D(256, 3, strides = 1, padding = 'same'))\n",
    "model.add(BatchNormalization())\n",
    "model.add(Activation(activation = 'relu'))\n",
    "model.add(Conv2D(256, 3, strides = 1, padding = 'same'))\n",
    "model.add(BatchNormalization())\n",
    "model.add(Activation(activation = 'relu'))\n",
    "model.add(Conv2D(256, 3, strides = 1, padding = 'same'))\n",
    "model.add(BatchNormalization())\n",
    "model.add(Activation(activation = 'relu'))\n",
    "model.add(MaxPool2D((2, 2), strides = 2))\n",
    "\n",
    "model.add(Conv2D(512, 3, strides = 1, padding = 'same'))\n",
    "model.add(BatchNormalization())\n",
    "model.add(Activation(activation = 'relu'))\n",
    "model.add(Conv2D(512, 3, strides = 1, padding = 'same'))\n",
    "model.add(BatchNormalization())\n",
    "model.add(Activation(activation = 'relu'))\n",
    "model.add(Conv2D(512, 3, strides = 1, padding = 'same'))\n",
    "model.add(BatchNormalization())\n",
    "model.add(Activation(activation = 'relu'))\n",
    "model.add(MaxPool2D((2, 2), strides = 2))\n",
    "model.add(MaxPool2D((2, 2), strides = 2))\n",
    "\n",
    "model.add(Flatten())\n",
    "model.add(Dense(4096, activation = 'relu'))\n",
    "model.add(Dropout(0.5))\n",
    "model.add(Dense(4096, activation = 'relu'))\n",
    "model.add(Dropout(0.5))\n",
    "model.add(Dense(10, activation = 'softmax'))"
   ]
  },
  {
   "cell_type": "code",
   "execution_count": 11,
   "id": "f6c398c0",
   "metadata": {
    "scrolled": true
   },
   "outputs": [
    {
     "name": "stdout",
     "output_type": "stream",
     "text": [
      "Model: \"sequential\"\n",
      "_________________________________________________________________\n",
      " Layer (type)                Output Shape              Param #   \n",
      "=================================================================\n",
      " conv2d (Conv2D)             (None, 32, 32, 64)        1792      \n",
      "                                                                 \n",
      " batch_normalization (BatchN  (None, 32, 32, 64)       256       \n",
      " ormalization)                                                   \n",
      "                                                                 \n",
      " activation (Activation)     (None, 32, 32, 64)        0         \n",
      "                                                                 \n",
      " conv2d_1 (Conv2D)           (None, 32, 32, 64)        36928     \n",
      "                                                                 \n",
      " batch_normalization_1 (Batc  (None, 32, 32, 64)       256       \n",
      " hNormalization)                                                 \n",
      "                                                                 \n",
      " activation_1 (Activation)   (None, 32, 32, 64)        0         \n",
      "                                                                 \n",
      " max_pooling2d (MaxPooling2D  (None, 16, 16, 64)       0         \n",
      " )                                                               \n",
      "                                                                 \n",
      " conv2d_2 (Conv2D)           (None, 16, 16, 128)       73856     \n",
      "                                                                 \n",
      " batch_normalization_2 (Batc  (None, 16, 16, 128)      512       \n",
      " hNormalization)                                                 \n",
      "                                                                 \n",
      " activation_2 (Activation)   (None, 16, 16, 128)       0         \n",
      "                                                                 \n",
      " conv2d_3 (Conv2D)           (None, 16, 16, 128)       147584    \n",
      "                                                                 \n",
      " batch_normalization_3 (Batc  (None, 16, 16, 128)      512       \n",
      " hNormalization)                                                 \n",
      "                                                                 \n",
      " activation_3 (Activation)   (None, 16, 16, 128)       0         \n",
      "                                                                 \n",
      " max_pooling2d_1 (MaxPooling  (None, 8, 8, 128)        0         \n",
      " 2D)                                                             \n",
      "                                                                 \n",
      " conv2d_4 (Conv2D)           (None, 8, 8, 256)         295168    \n",
      "                                                                 \n",
      " batch_normalization_4 (Batc  (None, 8, 8, 256)        1024      \n",
      " hNormalization)                                                 \n",
      "                                                                 \n",
      " activation_4 (Activation)   (None, 8, 8, 256)         0         \n",
      "                                                                 \n",
      " conv2d_5 (Conv2D)           (None, 8, 8, 256)         590080    \n",
      "                                                                 \n",
      " batch_normalization_5 (Batc  (None, 8, 8, 256)        1024      \n",
      " hNormalization)                                                 \n",
      "                                                                 \n",
      " activation_5 (Activation)   (None, 8, 8, 256)         0         \n",
      "                                                                 \n",
      " conv2d_6 (Conv2D)           (None, 8, 8, 256)         590080    \n",
      "                                                                 \n",
      " batch_normalization_6 (Batc  (None, 8, 8, 256)        1024      \n",
      " hNormalization)                                                 \n",
      "                                                                 \n",
      " activation_6 (Activation)   (None, 8, 8, 256)         0         \n",
      "                                                                 \n",
      " max_pooling2d_2 (MaxPooling  (None, 4, 4, 256)        0         \n",
      " 2D)                                                             \n",
      "                                                                 \n",
      " conv2d_7 (Conv2D)           (None, 4, 4, 512)         1180160   \n",
      "                                                                 \n",
      " batch_normalization_7 (Batc  (None, 4, 4, 512)        2048      \n",
      " hNormalization)                                                 \n",
      "                                                                 \n",
      " activation_7 (Activation)   (None, 4, 4, 512)         0         \n",
      "                                                                 \n",
      " conv2d_8 (Conv2D)           (None, 4, 4, 512)         2359808   \n",
      "                                                                 \n",
      " batch_normalization_8 (Batc  (None, 4, 4, 512)        2048      \n",
      " hNormalization)                                                 \n",
      "                                                                 \n",
      " activation_8 (Activation)   (None, 4, 4, 512)         0         \n",
      "                                                                 \n",
      " conv2d_9 (Conv2D)           (None, 4, 4, 512)         2359808   \n",
      "                                                                 \n",
      " batch_normalization_9 (Batc  (None, 4, 4, 512)        2048      \n",
      " hNormalization)                                                 \n",
      "                                                                 \n",
      " activation_9 (Activation)   (None, 4, 4, 512)         0         \n",
      "                                                                 \n",
      " max_pooling2d_3 (MaxPooling  (None, 2, 2, 512)        0         \n",
      " 2D)                                                             \n",
      "                                                                 \n",
      " max_pooling2d_4 (MaxPooling  (None, 1, 1, 512)        0         \n",
      " 2D)                                                             \n",
      "                                                                 \n",
      " flatten (Flatten)           (None, 512)               0         \n",
      "                                                                 \n",
      " dense (Dense)               (None, 4096)              2101248   \n",
      "                                                                 \n",
      " dropout (Dropout)           (None, 4096)              0         \n",
      "                                                                 \n",
      " dense_1 (Dense)             (None, 4096)              16781312  \n",
      "                                                                 \n",
      " dropout_1 (Dropout)         (None, 4096)              0         \n",
      "                                                                 \n",
      " dense_2 (Dense)             (None, 10)                40970     \n",
      "                                                                 \n",
      "=================================================================\n",
      "Total params: 26,569,546\n",
      "Trainable params: 26,564,170\n",
      "Non-trainable params: 5,376\n",
      "_________________________________________________________________\n"
     ]
    }
   ],
   "source": [
    "model.summary()"
   ]
  },
  {
   "cell_type": "code",
   "execution_count": 12,
   "id": "9e4a2cf5",
   "metadata": {
    "scrolled": true
   },
   "outputs": [
    {
     "name": "stdout",
     "output_type": "stream",
     "text": [
      "Epoch 1/50\n",
      "391/391 [==============================] - 22s 45ms/step - loss: 2.0560 - acc: 0.2116 - val_loss: 2.6882 - val_acc: 0.1763\n",
      "Epoch 2/50\n",
      "391/391 [==============================] - 17s 42ms/step - loss: 1.5306 - acc: 0.3982 - val_loss: 2.1455 - val_acc: 0.3562\n",
      "Epoch 3/50\n",
      "391/391 [==============================] - 17s 42ms/step - loss: 1.1301 - acc: 0.5917 - val_loss: 1.1934 - val_acc: 0.5989\n",
      "Epoch 4/50\n",
      "391/391 [==============================] - 17s 42ms/step - loss: 0.8892 - acc: 0.6960 - val_loss: 1.3531 - val_acc: 0.5787\n",
      "Epoch 5/50\n",
      "391/391 [==============================] - 17s 42ms/step - loss: 0.7267 - acc: 0.7612 - val_loss: 0.9110 - val_acc: 0.6873\n",
      "Epoch 6/50\n",
      "391/391 [==============================] - 17s 42ms/step - loss: 0.6168 - acc: 0.8004 - val_loss: 0.7910 - val_acc: 0.7450\n",
      "Epoch 7/50\n",
      "391/391 [==============================] - 17s 43ms/step - loss: 0.5370 - acc: 0.8289 - val_loss: 0.8355 - val_acc: 0.7264\n",
      "Epoch 8/50\n",
      "391/391 [==============================] - 17s 42ms/step - loss: 0.4625 - acc: 0.8531 - val_loss: 0.6189 - val_acc: 0.7927\n",
      "Epoch 9/50\n",
      "391/391 [==============================] - 17s 42ms/step - loss: 0.4040 - acc: 0.8719 - val_loss: 0.9028 - val_acc: 0.7258\n",
      "Epoch 10/50\n",
      "391/391 [==============================] - 17s 42ms/step - loss: 0.3542 - acc: 0.8891 - val_loss: 0.6806 - val_acc: 0.7869\n",
      "Epoch 11/50\n",
      "391/391 [==============================] - 17s 42ms/step - loss: 0.3096 - acc: 0.9023 - val_loss: 0.9855 - val_acc: 0.7224\n",
      "Epoch 12/50\n",
      "391/391 [==============================] - 17s 42ms/step - loss: 0.2693 - acc: 0.9153 - val_loss: 0.6112 - val_acc: 0.8147\n",
      "Epoch 13/50\n",
      "391/391 [==============================] - 17s 42ms/step - loss: 0.2291 - acc: 0.9274 - val_loss: 0.6248 - val_acc: 0.8161\n",
      "Epoch 14/50\n",
      "391/391 [==============================] - 17s 42ms/step - loss: 0.2023 - acc: 0.9363 - val_loss: 0.7167 - val_acc: 0.7952\n",
      "Epoch 15/50\n",
      "391/391 [==============================] - 17s 43ms/step - loss: 0.1833 - acc: 0.9438 - val_loss: 0.8022 - val_acc: 0.7895\n",
      "Epoch 16/50\n",
      "391/391 [==============================] - 17s 42ms/step - loss: 0.1517 - acc: 0.9522 - val_loss: 0.5574 - val_acc: 0.8487\n",
      "Epoch 17/50\n",
      "391/391 [==============================] - 17s 43ms/step - loss: 0.1739 - acc: 0.9479 - val_loss: 0.6712 - val_acc: 0.7999\n",
      "Epoch 18/50\n",
      "391/391 [==============================] - 17s 43ms/step - loss: 0.1398 - acc: 0.9574 - val_loss: 0.7453 - val_acc: 0.8159\n",
      "Epoch 19/50\n",
      "391/391 [==============================] - 17s 43ms/step - loss: 0.1144 - acc: 0.9656 - val_loss: 0.6138 - val_acc: 0.8447\n",
      "Epoch 20/50\n",
      "391/391 [==============================] - 17s 43ms/step - loss: 0.0970 - acc: 0.9708 - val_loss: 0.7010 - val_acc: 0.8382\n",
      "Epoch 21/50\n",
      "391/391 [==============================] - 17s 43ms/step - loss: 0.1145 - acc: 0.9656 - val_loss: 1.0240 - val_acc: 0.7676\n",
      "Epoch 22/50\n",
      "391/391 [==============================] - 17s 43ms/step - loss: 0.0827 - acc: 0.9742 - val_loss: 0.8344 - val_acc: 0.8101\n",
      "Epoch 23/50\n",
      "391/391 [==============================] - 17s 43ms/step - loss: 0.0766 - acc: 0.9770 - val_loss: 1.0537 - val_acc: 0.7821\n",
      "Epoch 24/50\n",
      "391/391 [==============================] - 17s 43ms/step - loss: 0.0681 - acc: 0.9793 - val_loss: 0.8723 - val_acc: 0.8243\n",
      "Epoch 25/50\n",
      "391/391 [==============================] - 17s 43ms/step - loss: 0.0626 - acc: 0.9817 - val_loss: 0.7941 - val_acc: 0.8494\n",
      "Epoch 26/50\n",
      "391/391 [==============================] - 17s 43ms/step - loss: 0.1218 - acc: 0.9661 - val_loss: 0.8870 - val_acc: 0.8214\n",
      "Epoch 27/50\n",
      "391/391 [==============================] - 17s 43ms/step - loss: 0.0538 - acc: 0.9844 - val_loss: 0.9066 - val_acc: 0.8369\n",
      "Epoch 28/50\n",
      "391/391 [==============================] - 17s 43ms/step - loss: 0.0516 - acc: 0.9850 - val_loss: 0.9928 - val_acc: 0.8107\n",
      "Epoch 29/50\n",
      "391/391 [==============================] - 17s 43ms/step - loss: 0.0431 - acc: 0.9870 - val_loss: 0.7357 - val_acc: 0.8539\n",
      "Epoch 30/50\n",
      "391/391 [==============================] - 17s 43ms/step - loss: 0.0624 - acc: 0.9816 - val_loss: 0.6629 - val_acc: 0.8561\n",
      "Epoch 31/50\n",
      "391/391 [==============================] - 17s 43ms/step - loss: 0.0456 - acc: 0.9861 - val_loss: 0.9804 - val_acc: 0.8186\n",
      "Epoch 32/50\n",
      "391/391 [==============================] - 17s 43ms/step - loss: 0.0445 - acc: 0.9869 - val_loss: 0.8738 - val_acc: 0.8383\n",
      "Epoch 33/50\n",
      "391/391 [==============================] - 17s 43ms/step - loss: 0.0479 - acc: 0.9862 - val_loss: 0.7099 - val_acc: 0.8510\n",
      "Epoch 34/50\n",
      "391/391 [==============================] - 17s 43ms/step - loss: 0.1033 - acc: 0.9714 - val_loss: 0.7225 - val_acc: 0.8462\n",
      "Epoch 35/50\n",
      "391/391 [==============================] - 17s 43ms/step - loss: 0.0445 - acc: 0.9864 - val_loss: 0.9635 - val_acc: 0.8194\n",
      "Epoch 36/50\n",
      "391/391 [==============================] - 17s 43ms/step - loss: 0.0345 - acc: 0.9895 - val_loss: 0.8025 - val_acc: 0.8575\n",
      "Epoch 37/50\n",
      "391/391 [==============================] - 17s 43ms/step - loss: 0.0294 - acc: 0.9912 - val_loss: 0.8575 - val_acc: 0.8535\n",
      "Epoch 38/50\n",
      "391/391 [==============================] - 17s 43ms/step - loss: 0.0374 - acc: 0.9891 - val_loss: 0.9071 - val_acc: 0.8139\n",
      "Epoch 39/50\n",
      "391/391 [==============================] - 17s 43ms/step - loss: 0.0384 - acc: 0.9891 - val_loss: 0.9264 - val_acc: 0.8328\n",
      "Epoch 40/50\n",
      "391/391 [==============================] - 17s 44ms/step - loss: 0.0319 - acc: 0.9907 - val_loss: 0.7906 - val_acc: 0.8462\n",
      "Epoch 41/50\n",
      "391/391 [==============================] - 17s 43ms/step - loss: 0.0270 - acc: 0.9918 - val_loss: 0.8766 - val_acc: 0.8518\n",
      "Epoch 42/50\n",
      "391/391 [==============================] - 17s 43ms/step - loss: 0.0287 - acc: 0.9919 - val_loss: 1.1575 - val_acc: 0.8025\n",
      "Epoch 43/50\n",
      "391/391 [==============================] - 17s 44ms/step - loss: 0.0346 - acc: 0.9897 - val_loss: 0.9921 - val_acc: 0.8180\n",
      "Epoch 44/50\n",
      "391/391 [==============================] - 17s 43ms/step - loss: 0.0375 - acc: 0.9895 - val_loss: 0.8288 - val_acc: 0.8326\n",
      "Epoch 45/50\n",
      "391/391 [==============================] - 17s 43ms/step - loss: 0.0348 - acc: 0.9895 - val_loss: 0.8678 - val_acc: 0.8381\n",
      "Epoch 46/50\n",
      "391/391 [==============================] - 17s 43ms/step - loss: 0.0258 - acc: 0.9924 - val_loss: 0.7771 - val_acc: 0.8595\n",
      "Epoch 47/50\n",
      "391/391 [==============================] - 17s 44ms/step - loss: 0.1461 - acc: 0.9655 - val_loss: 0.7090 - val_acc: 0.8300\n",
      "Epoch 48/50\n",
      "391/391 [==============================] - 17s 43ms/step - loss: 0.0410 - acc: 0.9881 - val_loss: 0.7533 - val_acc: 0.8648\n",
      "Epoch 49/50\n",
      "391/391 [==============================] - 17s 44ms/step - loss: 0.0226 - acc: 0.9932 - val_loss: 0.8551 - val_acc: 0.8528\n",
      "Epoch 50/50\n",
      "391/391 [==============================] - 17s 43ms/step - loss: 0.0223 - acc: 0.9934 - val_loss: 0.9067 - val_acc: 0.8398\n"
     ]
    }
   ],
   "source": [
    "model.compile(loss = 'categorical_crossentropy',\n",
    "             optimizer = 'adam',\n",
    "             metrics = ['acc'])\n",
    "\n",
    "hist = model.fit(x_train, y_train, batch_size = 128, epochs = 50, verbose = 1, validation_data = (x_test, y_test))"
   ]
  },
  {
   "cell_type": "code",
   "execution_count": 15,
   "id": "757523f0",
   "metadata": {},
   "outputs": [
    {
     "data": {
      "image/png": "[encoded data removed]",
      "text/plain": [
       "<Figure size 1080x360 with 2 Axes>"
      ]
     },
     "metadata": {},
     "output_type": "display_data"
    }
   ],
   "source": [
    "epochs = range(50)\n",
    "\n",
    "plt.figure(figsize = (15, 5))\n",
    "\n",
    "plt.subplot(1, 2, 1)\n",
    "plt.plot(epochs, hist.history['loss'], 'b-', label = 'Training Loss')\n",
    "plt.plot(epochs, hist.history['val_loss'], 'r--', label = 'Validation Loss')\n",
    "plt.xlabel('Epoch')\n",
    "plt.ylabel('Loss')\n",
    "plt.grid()\n",
    "plt.legend()\n",
    "\n",
    "plt.subplot(1, 2, 2)\n",
    "plt.plot(epochs, hist.history['acc'], 'b-', label = 'Training Accuracy')\n",
    "plt.plot(epochs, hist.history['val_acc'], 'r--', label = 'Validation Accuracy')\n",
    "plt.xlabel('Epoch')\n",
    "plt.ylabel('Accuracy')\n",
    "plt.grid()\n",
    "plt.legend()\n",
    "\n",
    "plt.show()"
   ]
  },
  {
   "cell_type": "code",
   "execution_count": 16,
   "id": "5f6e936b",
   "metadata": {},
   "outputs": [
    {
     "name": "stdout",
     "output_type": "stream",
     "text": [
      "313/313 [==============================] - 2s 6ms/step - loss: 0.9067 - acc: 0.8398\n",
      "Test loss: 0.9066946506500244\n",
      "Test Accuracy: 0.8398000001907349\n",
      "313/313 [==============================] - 2s 5ms/step\n"
     ]
    }
   ],
   "source": [
    "score = model.evaluate(x_test, y_test, verbose = 1)\n",
    "print('Test loss:', score[0])\n",
    "print('Test Accuracy:', score[1])\n",
    "pred = model.predict(x_test, verbose = 1)"
   ]
  },
  {
   "cell_type": "code",
   "execution_count": 17,
   "id": "a5a45604",
   "metadata": {},
   "outputs": [],
   "source": [
    "model.save('VGGNet16.h5')"
   ]
  },
  {
   "cell_type": "code",
   "execution_count": null,
   "id": "80f3d297",
   "metadata": {},
   "outputs": [],
   "source": []
  },
  {
   "cell_type": "code",
   "execution_count": null,
   "id": "a8e6c9dd",
   "metadata": {},
   "outputs": [],
   "source": []
  },
  {
   "cell_type": "code",
   "execution_count": null,
   "id": "cff66f75",
   "metadata": {},
   "outputs": [],
   "source": []
  },
  {
   "cell_type": "code",
   "execution_count": null,
   "id": "e12c9f89",
   "metadata": {},
   "outputs": [],
   "source": []
  },
  {
   "cell_type": "code",
   "execution_count": null,
   "id": "56ef44ba",
   "metadata": {},
   "outputs": [],
   "source": []
  },
  {
   "cell_type": "code",
   "execution_count": null,
   "id": "a1d3f525",
   "metadata": {},
   "outputs": [],
   "source": []
  },
  {
   "cell_type": "code",
   "execution_count": null,
   "id": "e5241e0d",
   "metadata": {},
   "outputs": [],
   "source": []
  },
  {
   "cell_type": "code",
   "execution_count": null,
   "id": "bf401c56",
   "metadata": {},
   "outputs": [],
   "source": []
  },
  {
   "cell_type": "code",
   "execution_count": null,
   "id": "7c78639a",
   "metadata": {},
   "outputs": [],
   "source": []
  },
  {
   "cell_type": "code",
   "execution_count": null,
   "id": "77e4a0c3",
   "metadata": {},
   "outputs": [],
   "source": []
  },
  {
   "cell_type": "code",
   "execution_count": null,
   "id": "2196e8c5",
   "metadata": {},
   "outputs": [],
   "source": []
  }
 ],
 "metadata": {
  "kernelspec": {
   "display_name": "Python 3 (ipykernel)",
   "language": "python",
   "name": "python3"
  },
  "language_info": {
   "codemirror_mode": {
    "name": "ipython",
    "version": 3
   },
   "file_extension": ".py",
   "mimetype": "text/x-python",
   "name": "python",
   "nbconvert_exporter": "python",
   "pygments_lexer": "ipython3",
   "version": "3.9.7"
  }
 },
 "nbformat": 4,
 "nbformat_minor": 5
}
