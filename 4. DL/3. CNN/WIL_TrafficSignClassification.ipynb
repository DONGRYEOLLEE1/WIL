{
 "cells": [
  {
   "cell_type": "markdown",
   "id": "98a7afcb",
   "metadata": {},
   "source": [
    "# 교통 표지판 분류"
   ]
  },
  {
   "cell_type": "markdown",
   "id": "af7e5eb0",
   "metadata": {},
   "source": [
    "![img](https://pyimagesearch.com/wp-content/uploads/2019/11/traffic_sign_recognition_header.jpg)"
   ]
  },
  {
   "cell_type": "code",
   "execution_count": 3,
   "id": "c314d78d",
   "metadata": {},
   "outputs": [],
   "source": [
    "gpus = tf.config.experimental.list_physical_devices('GPU')\n",
    "tf.config.experimental.set_memory_growth(gpus[0], True)"
   ]
  },
  {
   "cell_type": "code",
   "execution_count": 1,
   "id": "af93a2e8",
   "metadata": {},
   "outputs": [],
   "source": [
    "import matplotlib.pyplot as plt\n",
    "import glob\n",
    "import cv2\n",
    "import numpy as np\n",
    "import pandas as pd\n",
    "import tensorflow as tf\n",
    "from sklearn.model_selection import train_test_split"
   ]
  },
  {
   "cell_type": "markdown",
   "id": "1436e91d",
   "metadata": {},
   "source": [
    "# Preprocessing\n",
    "- Image Size : ( 15x15 ~ 250x250 )\n",
    "- RGB값으로 학습"
   ]
  },
  {
   "cell_type": "code",
   "execution_count": 2,
   "id": "3345401b",
   "metadata": {},
   "outputs": [],
   "source": [
    "N_CLASSES = 43\n",
    "RESIZE_IMAGE = (32, 32, 3)\n",
    "\n",
    "def read_trainset_ppm(train_path, n_labels, resize_to):\n",
    "    images = []\n",
    "    labels = []\n",
    "    \n",
    "    for i in range(n_labels):\n",
    "        label_path = train_path + '/' + format(i, '05d') + '/'\n",
    "        \n",
    "        for img_file in glob.glob(label_path + '*.ppm'):\n",
    "            img = cv2.imread(img_file)\n",
    "            img = cv2.cvtColor(img, cv2.COLOR_BGR2RGB)\n",
    "            \n",
    "            if resize_to:\n",
    "                if resize_to[0] < img.shape[0]:\n",
    "                    img = cv2.resize(img, (resize_to[0], resize_to[1]), interpolation = cv2.INTER_AREA)\n",
    "                else:\n",
    "                    img = cv2.resize(img, (resize_to[0], resize_to[1]), interpolation = cv2.INTER_CUBIC)\n",
    "                    \n",
    "            label = np.zeros((n_labels, ), np.float32)\n",
    "            label[i] = 1.0\n",
    "            \n",
    "            images.append(img.astype(np.float32))\n",
    "            labels.append(label)\n",
    "            \n",
    "    x_train = np.array(images, np.float32)\n",
    "    y_train = np.array(labels, np.float32)\n",
    "    \n",
    "    return x_train, y_train\n",
    "\n",
    "\n",
    "def read_testset_ppm(test_path, resize_to):\n",
    "    images = []\n",
    "    labels = []\n",
    "    \n",
    "    for img_file in glob.glob(test_path + '/' + '*.ppm'):\n",
    "        img = cv2.imread(img_file)\n",
    "        img = cv2.cvtColor(img, cv2.COLOR_BGR2RGB)\n",
    "        \n",
    "        if resize_to:\n",
    "            if resize_to[0] < img.shape[0]:\n",
    "                img = cv2.resize(img, (resize_to[0], resize_to[1]), interpolation = cv2.INTER_AREA)\n",
    "            else:\n",
    "                img = cv2.resize(img, (resize_to[0], resize_to[1]), interpolation = cv2.INTER_CUBIC)\n",
    "                    \n",
    "            images.append(img.astype(np.float32))\n",
    "            \n",
    "    labels_path = test_path + '/GT-final_test.csv'\n",
    "    annotations = pd.read_csv(labels_path, sep = ';')\n",
    "    \n",
    "    x_test = np.array(images, np.float32)\n",
    "    y_test = tf.one_hot(annotations['ClassId'], depth = N_CLASSES).numpy()\n",
    "    \n",
    "    return x_test, y_test"
   ]
  },
  {
   "cell_type": "markdown",
   "id": "561bf141",
   "metadata": {},
   "source": [
    "- Train : 39209 개 샘플 / Test : 12630 개 샘플"
   ]
  },
  {
   "cell_type": "code",
   "execution_count": 3,
   "id": "ae3ceab5",
   "metadata": {},
   "outputs": [
    {
     "name": "stdout",
     "output_type": "stream",
     "text": [
      "(39209, 32, 32, 3) (39209, 43)\n",
      "(12630, 32, 32, 3) (12630, 43)\n"
     ]
    }
   ],
   "source": [
    "train_path = 'C:/workspace/Data/Traffic-Sign/Train/Images'\n",
    "test_path = 'C:/workspace/Data/Traffic-Sign/Test/Images'\n",
    "\n",
    "x_train_orig, y_train_orig = read_trainset_ppm(train_path, N_CLASSES, RESIZE_IMAGE)\n",
    "x_test_orig, y_test_orig = read_testset_ppm(test_path, RESIZE_IMAGE)\n",
    "\n",
    "print(x_train_orig.shape, y_train_orig.shape)  ## 총 39209개 데이터, (32, 32, 3) Shape\n",
    "print(x_test_orig.shape, y_test_orig.shape)    ## 총 12630개 데이터, (32, 32, 3) Shape"
   ]
  },
  {
   "cell_type": "markdown",
   "id": "f7ab353f",
   "metadata": {},
   "source": [
    "## Check"
   ]
  },
  {
   "cell_type": "code",
   "execution_count": 4,
   "id": "e70e8812",
   "metadata": {},
   "outputs": [
    {
     "data": {
      "image/png": "[encoded data removed]",
      "text/plain": [
       "<Figure size 720x720 with 1 Axes>"
      ]
     },
     "metadata": {
      "needs_background": "light"
     },
     "output_type": "display_data"
    },
    {
     "name": "stdout",
     "output_type": "stream",
     "text": [
      "[1. 0. 0. 0. 0. 0. 0. 0. 0. 0. 0. 0. 0. 0. 0. 0. 0. 0. 0. 0. 0. 0. 0. 0.\n",
      " 0. 0. 0. 0. 0. 0. 0. 0. 0. 0. 0. 0. 0. 0. 0. 0. 0. 0. 0.]\n"
     ]
    }
   ],
   "source": [
    "plt.figure(figsize = (10, 10))\n",
    "\n",
    "plt.imshow(x_train_orig[200].astype(np.uint32))\n",
    "plt.axis('off')\n",
    "plt.show()\n",
    "print(y_train_orig[200])"
   ]
  },
  {
   "cell_type": "markdown",
   "id": "0ffd3b9e",
   "metadata": {},
   "source": [
    "## Make a Validation-Data Set"
   ]
  },
  {
   "cell_type": "code",
   "execution_count": 5,
   "id": "64efe452",
   "metadata": {},
   "outputs": [
    {
     "name": "stdout",
     "output_type": "stream",
     "text": [
      "(31367, 32, 32, 3)\n",
      "(31367, 43)\n",
      "(7842, 32, 32, 3)\n",
      "(7842, 43)\n"
     ]
    }
   ],
   "source": [
    "idx_train, idx_val = train_test_split(range(x_train_orig.shape[0]), test_size = .2, random_state = 100)\n",
    "\n",
    "x_train = x_train_orig[idx_train, :, :, :]\n",
    "y_train = y_train_orig[idx_train, ]\n",
    "\n",
    "x_val = x_train_orig[idx_val, :, :, :]\n",
    "y_val = y_train_orig[idx_val, ]\n",
    "\n",
    "print(x_train.shape)\n",
    "print(y_train.shape)\n",
    "print(x_val.shape)\n",
    "print(y_val.shape)"
   ]
  },
  {
   "cell_type": "markdown",
   "id": "b72fb54b",
   "metadata": {},
   "source": [
    "## Normalization"
   ]
  },
  {
   "cell_type": "code",
   "execution_count": 6,
   "id": "cd0b5879",
   "metadata": {},
   "outputs": [],
   "source": [
    "x_train = x_train / 255.0\n",
    "x_val = x_val / 255.0"
   ]
  },
  {
   "cell_type": "markdown",
   "id": "4e77818c",
   "metadata": {},
   "source": [
    "# Model 1"
   ]
  },
  {
   "cell_type": "code",
   "execution_count": 24,
   "id": "9b9ec2b1",
   "metadata": {},
   "outputs": [],
   "source": [
    "from tensorflow.keras.models import Sequential\n",
    "from tensorflow.keras.layers import Dense, MaxPooling2D, Conv2D, Flatten, Input, Dropout\n",
    "from tensorflow.keras.initializers import glorot_uniform\n",
    "from tensorflow.keras.optimizers import Adam"
   ]
  },
  {
   "cell_type": "markdown",
   "id": "be082d35",
   "metadata": {},
   "source": [
    "## Modeling"
   ]
  },
  {
   "cell_type": "code",
   "execution_count": 8,
   "id": "c6210489",
   "metadata": {},
   "outputs": [],
   "source": [
    "def build_model(input_shape = (32, 32, 3)):\n",
    "    tf.random.set_seed(8)\n",
    "    \n",
    "    model = Sequential([\n",
    "        Input(shape = input_shape),\n",
    "        Conv2D(filters = 32, kernel_size = (5, 5), strides = (1, 1), kernel_initializer = glorot_uniform()),\n",
    "        MaxPooling2D(pool_size = (2, 2)),\n",
    "        Conv2D(filters = 64, kernel_size = (5, 5), strides = (1, 1), kernel_initializer = glorot_uniform()),\n",
    "        MaxPooling2D(pool_size = (2, 2)),\n",
    "        \n",
    "        Flatten(),\n",
    "        Dense(1024, activation = 'relu', kernel_initializer = glorot_uniform()),\n",
    "        Dense(N_CLASSES, activation = 'softmax', kernel_initializer = glorot_uniform())\n",
    "    ])\n",
    "    \n",
    "    model.summary()\n",
    "    return model"
   ]
  },
  {
   "cell_type": "markdown",
   "id": "62249fe3",
   "metadata": {},
   "source": [
    "## Compile"
   ]
  },
  {
   "cell_type": "code",
   "execution_count": 10,
   "id": "08adb4a4",
   "metadata": {},
   "outputs": [
    {
     "name": "stdout",
     "output_type": "stream",
     "text": [
      "Model: \"sequential_1\"\n",
      "_________________________________________________________________\n",
      " Layer (type)                Output Shape              Param #   \n",
      "=================================================================\n",
      " conv2d_2 (Conv2D)           (None, 28, 28, 32)        2432      \n",
      "                                                                 \n",
      " max_pooling2d_2 (MaxPooling  (None, 14, 14, 32)       0         \n",
      " 2D)                                                             \n",
      "                                                                 \n",
      " conv2d_3 (Conv2D)           (None, 10, 10, 64)        51264     \n",
      "                                                                 \n",
      " max_pooling2d_3 (MaxPooling  (None, 5, 5, 64)         0         \n",
      " 2D)                                                             \n",
      "                                                                 \n",
      " flatten_1 (Flatten)         (None, 1600)              0         \n",
      "                                                                 \n",
      " dense_2 (Dense)             (None, 1024)              1639424   \n",
      "                                                                 \n",
      " dense_3 (Dense)             (None, 43)                44075     \n",
      "                                                                 \n",
      "=================================================================\n",
      "Total params: 1,737,195\n",
      "Trainable params: 1,737,195\n",
      "Non-trainable params: 0\n",
      "_________________________________________________________________\n"
     ]
    }
   ],
   "source": [
    "model1 = build_model()\n",
    "model1.compile(optimizer = Adam(lr = 0.001),\n",
    "              loss = 'categorical_crossentropy',\n",
    "              metrics = ['acc'])"
   ]
  },
  {
   "cell_type": "markdown",
   "id": "1a4503b7",
   "metadata": {},
   "source": [
    "## Fitting"
   ]
  },
  {
   "cell_type": "code",
   "execution_count": 11,
   "id": "6ed89efc",
   "metadata": {},
   "outputs": [
    {
     "name": "stdout",
     "output_type": "stream",
     "text": [
      "Epoch 1/10\n",
      "123/123 [==============================] - 76s 9ms/step - loss: 1.1095 - acc: 0.7187 - val_loss: 0.2506 - val_acc: 0.9388\n",
      "Epoch 2/10\n",
      "123/123 [==============================] - 1s 8ms/step - loss: 0.1749 - acc: 0.9584 - val_loss: 0.1144 - val_acc: 0.9754\n",
      "Epoch 3/10\n",
      "123/123 [==============================] - 1s 7ms/step - loss: 0.0769 - acc: 0.9834 - val_loss: 0.0792 - val_acc: 0.9814\n",
      "Epoch 4/10\n",
      "123/123 [==============================] - 1s 7ms/step - loss: 0.0344 - acc: 0.9927 - val_loss: 0.0816 - val_acc: 0.9781\n",
      "Epoch 5/10\n",
      "123/123 [==============================] - 1s 7ms/step - loss: 0.0356 - acc: 0.9911 - val_loss: 0.0749 - val_acc: 0.9815\n",
      "Epoch 6/10\n",
      "123/123 [==============================] - 1s 8ms/step - loss: 0.0193 - acc: 0.9954 - val_loss: 0.0558 - val_acc: 0.9884\n",
      "Epoch 7/10\n",
      "123/123 [==============================] - 1s 8ms/step - loss: 0.0135 - acc: 0.9976 - val_loss: 0.0623 - val_acc: 0.9879\n",
      "Epoch 8/10\n",
      "123/123 [==============================] - 1s 8ms/step - loss: 0.0225 - acc: 0.9945 - val_loss: 0.0728 - val_acc: 0.9856\n",
      "Epoch 9/10\n",
      "123/123 [==============================] - 1s 7ms/step - loss: 0.0358 - acc: 0.9921 - val_loss: 0.0782 - val_acc: 0.9865\n",
      "Epoch 10/10\n",
      "123/123 [==============================] - 1s 8ms/step - loss: 0.0306 - acc: 0.9915 - val_loss: 0.0588 - val_acc: 0.9895\n"
     ]
    }
   ],
   "source": [
    "hist1 = model1.fit(x_train, y_train, batch_size = 256, epochs = 10, validation_data = (x_val, y_val))"
   ]
  },
  {
   "cell_type": "markdown",
   "id": "712c2eb9",
   "metadata": {},
   "source": [
    "## Evaluation"
   ]
  },
  {
   "cell_type": "code",
   "execution_count": 12,
   "id": "20b1dfcf",
   "metadata": {},
   "outputs": [
    {
     "name": "stdout",
     "output_type": "stream",
     "text": [
      "395/395 [==============================] - 1s 2ms/step - loss: 133.9536 - acc: 0.9131\n"
     ]
    },
    {
     "data": {
      "text/plain": [
       "[133.95358276367188, 0.9131433367729187]"
      ]
     },
     "execution_count": 12,
     "metadata": {},
     "output_type": "execute_result"
    }
   ],
   "source": [
    "model1.evaluate(x_test_orig, y_test_orig)"
   ]
  },
  {
   "cell_type": "markdown",
   "id": "d3707c0b",
   "metadata": {},
   "source": [
    "## Plotting"
   ]
  },
  {
   "cell_type": "code",
   "execution_count": 14,
   "id": "49665874",
   "metadata": {},
   "outputs": [
    {
     "data": {
      "text/plain": [
       "dict_keys(['loss', 'acc', 'val_loss', 'val_acc'])"
      ]
     },
     "execution_count": 14,
     "metadata": {},
     "output_type": "execute_result"
    }
   ],
   "source": [
    "hist1.history.keys()"
   ]
  },
  {
   "cell_type": "code",
   "execution_count": 21,
   "id": "7c9bd2ac",
   "metadata": {},
   "outputs": [
    {
     "data": {
      "image/png": "[encoded data removed]",
      "text/plain": [
       "<Figure size 864x360 with 2 Axes>"
      ]
     },
     "metadata": {
      "needs_background": "light"
     },
     "output_type": "display_data"
    }
   ],
   "source": [
    "EPOCH = range(10)\n",
    "\n",
    "\n",
    "plt.figure(figsize = (12, 5))\n",
    "\n",
    "plt.subplot(1, 2, 1)\n",
    "plt.plot(EPOCH, hist1.history['loss'], 'b--', label = 'Training Loss')\n",
    "plt.plot(EPOCH, hist1.history['val_loss'], 'r-', label = 'Validation Loss')\n",
    "plt.title('Loss Graph')\n",
    "plt.xlabel('Epoch')\n",
    "plt.ylabel('Loss')\n",
    "plt.grid()\n",
    "plt.legend(loc = 'best')\n",
    "\n",
    "plt.subplot(1, 2, 2)\n",
    "plt.plot(EPOCH, hist1.history['acc'], 'b--', label = 'Training Accuracy')\n",
    "plt.plot(EPOCH, hist1.history['val_acc'], 'r-', label = 'Validation Accuracy')\n",
    "plt.title('Accuracy Graph')\n",
    "plt.xlabel('Epoch')\n",
    "plt.ylabel('Accuracy')\n",
    "plt.grid()\n",
    "plt.legend(loc = 'best')\n",
    "\n",
    "plt.show()"
   ]
  },
  {
   "cell_type": "markdown",
   "id": "5d8363cd",
   "metadata": {},
   "source": [
    "# Model2"
   ]
  },
  {
   "cell_type": "code",
   "execution_count": 25,
   "id": "a7c59103",
   "metadata": {},
   "outputs": [],
   "source": [
    "def build_model2(input_shape = (32, 32, 3)):\n",
    "    tf.random.set_seed(8)\n",
    "    \n",
    "    model = Sequential([\n",
    "        Input(shape = input_shape),\n",
    "        Conv2D(filters = 32, kernel_size = (5, 5), strides = (1, 1), kernel_initializer = glorot_uniform()),\n",
    "        MaxPooling2D(pool_size = (2, 2)),\n",
    "        Dropout(0.2),\n",
    "        \n",
    "        Conv2D(filters = 64, kernel_size = (5, 5), strides = (1, 1), kernel_initializer = glorot_uniform()),\n",
    "        MaxPooling2D(pool_size = (2, 2)),\n",
    "        Dropout(0.2),\n",
    "        \n",
    "        Flatten(),\n",
    "        Dense(1024, activation = 'relu', kernel_initializer = glorot_uniform()),\n",
    "        Dropout(0.4),\n",
    "        Dense(N_CLASSES, activation = 'relu', kernel_initializer = glorot_uniform())\n",
    "    ])\n",
    "    \n",
    "    model.summary()\n",
    "    return model"
   ]
  },
  {
   "cell_type": "markdown",
   "id": "783100e9",
   "metadata": {},
   "source": [
    "## Compile"
   ]
  },
  {
   "cell_type": "code",
   "execution_count": 26,
   "id": "2c3fc5d0",
   "metadata": {},
   "outputs": [
    {
     "name": "stdout",
     "output_type": "stream",
     "text": [
      "Model: \"sequential_2\"\n",
      "_________________________________________________________________\n",
      " Layer (type)                Output Shape              Param #   \n",
      "=================================================================\n",
      " conv2d_5 (Conv2D)           (None, 28, 28, 32)        2432      \n",
      "                                                                 \n",
      " max_pooling2d_5 (MaxPooling  (None, 14, 14, 32)       0         \n",
      " 2D)                                                             \n",
      "                                                                 \n",
      " dropout (Dropout)           (None, 14, 14, 32)        0         \n",
      "                                                                 \n",
      " conv2d_6 (Conv2D)           (None, 10, 10, 64)        51264     \n",
      "                                                                 \n",
      " max_pooling2d_6 (MaxPooling  (None, 5, 5, 64)         0         \n",
      " 2D)                                                             \n",
      "                                                                 \n",
      " dropout_1 (Dropout)         (None, 5, 5, 64)          0         \n",
      "                                                                 \n",
      " flatten_2 (Flatten)         (None, 1600)              0         \n",
      "                                                                 \n",
      " dense_4 (Dense)             (None, 1024)              1639424   \n",
      "                                                                 \n",
      " dropout_2 (Dropout)         (None, 1024)              0         \n",
      "                                                                 \n",
      " dense_5 (Dense)             (None, 43)                44075     \n",
      "                                                                 \n",
      "=================================================================\n",
      "Total params: 1,737,195\n",
      "Trainable params: 1,737,195\n",
      "Non-trainable params: 0\n",
      "_________________________________________________________________\n"
     ]
    }
   ],
   "source": [
    "model2 = build_model2()\n",
    "model2.compile(optimizer = Adam(lr = 0.001),\n",
    "              loss = 'categorical_crossentropy',\n",
    "              metrics = ['acc'])"
   ]
  },
  {
   "cell_type": "markdown",
   "id": "31448e97",
   "metadata": {},
   "source": [
    "## Fitting"
   ]
  },
  {
   "cell_type": "code",
   "execution_count": 29,
   "id": "6ebe19be",
   "metadata": {},
   "outputs": [
    {
     "name": "stdout",
     "output_type": "stream",
     "text": [
      "Epoch 1/10\n",
      "123/123 [==============================] - 1s 10ms/step - loss: 3.9616 - acc: 0.2538 - val_loss: 4.2794 - val_acc: 0.0584\n",
      "Epoch 2/10\n",
      "123/123 [==============================] - 1s 9ms/step - loss: 4.2622 - acc: 0.1747 - val_loss: 3.8332 - val_acc: 0.1897\n",
      "Epoch 3/10\n",
      "123/123 [==============================] - 1s 9ms/step - loss: 4.3384 - acc: 0.1487 - val_loss: 4.3346 - val_acc: 0.1196\n",
      "Epoch 4/10\n",
      "123/123 [==============================] - 1s 9ms/step - loss: 4.6337 - acc: 0.1243 - val_loss: 4.9505 - val_acc: 0.0525\n",
      "Epoch 5/10\n",
      "123/123 [==============================] - 1s 9ms/step - loss: 4.9582 - acc: 0.0872 - val_loss: 4.8274 - val_acc: 0.1517\n",
      "Epoch 6/10\n",
      "123/123 [==============================] - 1s 9ms/step - loss: 4.8597 - acc: 0.1357 - val_loss: 4.6579 - val_acc: 0.2133\n",
      "Epoch 7/10\n",
      "123/123 [==============================] - 1s 9ms/step - loss: 4.8376 - acc: 0.1066 - val_loss: 4.6756 - val_acc: 0.1074\n",
      "Epoch 8/10\n",
      "123/123 [==============================] - 1s 9ms/step - loss: 4.7555 - acc: 0.1449 - val_loss: 4.4045 - val_acc: 0.2155\n",
      "Epoch 9/10\n",
      "123/123 [==============================] - 1s 9ms/step - loss: 7.5092 - acc: 0.1060 - val_loss: 7.6015 - val_acc: 0.0727\n",
      "Epoch 10/10\n",
      "123/123 [==============================] - 1s 9ms/step - loss: 6.6683 - acc: 0.0799 - val_loss: 6.1025 - val_acc: 0.1065\n"
     ]
    }
   ],
   "source": [
    "hist2 = model2.fit(x_train, y_train, batch_size = 256, epochs = 10, validation_data = (x_val, y_val))"
   ]
  },
  {
   "cell_type": "markdown",
   "id": "fe3ce72c",
   "metadata": {},
   "source": [
    "## Evaluation"
   ]
  },
  {
   "cell_type": "code",
   "execution_count": 28,
   "id": "67a45653",
   "metadata": {},
   "outputs": [
    {
     "name": "stdout",
     "output_type": "stream",
     "text": [
      "395/395 [==============================] - 1s 2ms/step - loss: 4.0781 - acc: 0.1440\n"
     ]
    },
    {
     "data": {
      "text/plain": [
       "[4.0780744552612305, 0.1440221667289734]"
      ]
     },
     "execution_count": 28,
     "metadata": {},
     "output_type": "execute_result"
    }
   ],
   "source": [
    "model2.evaluate(x_test_orig, y_test_orig)"
   ]
  },
  {
   "cell_type": "markdown",
   "id": "d783a9a9",
   "metadata": {},
   "source": [
    "## Plotting"
   ]
  },
  {
   "cell_type": "code",
   "execution_count": 30,
   "id": "b9a2bb49",
   "metadata": {},
   "outputs": [
    {
     "data": {
      "image/png": "[encoded data removed]",
      "text/plain": [
       "<Figure size 864x360 with 2 Axes>"
      ]
     },
     "metadata": {
      "needs_background": "light"
     },
     "output_type": "display_data"
    }
   ],
   "source": [
    "EPOCH = range(10)\n",
    "\n",
    "\n",
    "plt.figure(figsize = (12, 5))\n",
    "\n",
    "plt.subplot(1, 2, 1)\n",
    "plt.plot(EPOCH, hist2.history['loss'], 'b--', label = 'Training Loss')\n",
    "plt.plot(EPOCH, hist2.history['val_loss'], 'r-', label = 'Validation Loss')\n",
    "plt.title('Loss Graph')\n",
    "plt.xlabel('Epoch')\n",
    "plt.ylabel('Loss')\n",
    "plt.grid()\n",
    "plt.legend(loc = 'best')\n",
    "\n",
    "plt.subplot(1, 2, 2)\n",
    "plt.plot(EPOCH, hist2.history['acc'], 'b--', label = 'Training Accuracy')\n",
    "plt.plot(EPOCH, hist2.history['val_acc'], 'r-', label = 'Validation Accuracy')\n",
    "plt.title('Accuracy Graph')\n",
    "plt.xlabel('Epoch')\n",
    "plt.ylabel('Accuracy')\n",
    "plt.grid()\n",
    "plt.legend(loc = 'best')\n",
    "\n",
    "plt.show()"
   ]
  },
  {
   "cell_type": "markdown",
   "id": "7a6da785",
   "metadata": {},
   "source": [
    "# Model3 (VGG16)"
   ]
  },
  {
   "cell_type": "code",
   "execution_count": 31,
   "id": "aea320db",
   "metadata": {},
   "outputs": [
    {
     "name": "stdout",
     "output_type": "stream",
     "text": [
      "Downloading data from https://storage.googleapis.com/tensorflow/keras-applications/vgg16/vgg16_weights_tf_dim_ordering_tf_kernels_notop.h5\n",
      "58892288/58889256 [==============================] - 6s 0us/step\n",
      "58900480/58889256 [==============================] - 6s 0us/step\n",
      "Model: \"vgg16\"\n",
      "_________________________________________________________________\n",
      " Layer (type)                Output Shape              Param #   \n",
      "=================================================================\n",
      " input_5 (InputLayer)        [(None, 32, 32, 3)]       0         \n",
      "                                                                 \n",
      " block1_conv1 (Conv2D)       (None, 32, 32, 64)        1792      \n",
      "                                                                 \n",
      " block1_conv2 (Conv2D)       (None, 32, 32, 64)        36928     \n",
      "                                                                 \n",
      " block1_pool (MaxPooling2D)  (None, 16, 16, 64)        0         \n",
      "                                                                 \n",
      " block2_conv1 (Conv2D)       (None, 16, 16, 128)       73856     \n",
      "                                                                 \n",
      " block2_conv2 (Conv2D)       (None, 16, 16, 128)       147584    \n",
      "                                                                 \n",
      " block2_pool (MaxPooling2D)  (None, 8, 8, 128)         0         \n",
      "                                                                 \n",
      " block3_conv1 (Conv2D)       (None, 8, 8, 256)         295168    \n",
      "                                                                 \n",
      " block3_conv2 (Conv2D)       (None, 8, 8, 256)         590080    \n",
      "                                                                 \n",
      " block3_conv3 (Conv2D)       (None, 8, 8, 256)         590080    \n",
      "                                                                 \n",
      " block3_pool (MaxPooling2D)  (None, 4, 4, 256)         0         \n",
      "                                                                 \n",
      " block4_conv1 (Conv2D)       (None, 4, 4, 512)         1180160   \n",
      "                                                                 \n",
      " block4_conv2 (Conv2D)       (None, 4, 4, 512)         2359808   \n",
      "                                                                 \n",
      " block4_conv3 (Conv2D)       (None, 4, 4, 512)         2359808   \n",
      "                                                                 \n",
      " block4_pool (MaxPooling2D)  (None, 2, 2, 512)         0         \n",
      "                                                                 \n",
      " block5_conv1 (Conv2D)       (None, 2, 2, 512)         2359808   \n",
      "                                                                 \n",
      " block5_conv2 (Conv2D)       (None, 2, 2, 512)         2359808   \n",
      "                                                                 \n",
      " block5_conv3 (Conv2D)       (None, 2, 2, 512)         2359808   \n",
      "                                                                 \n",
      " block5_pool (MaxPooling2D)  (None, 1, 1, 512)         0         \n",
      "                                                                 \n",
      "=================================================================\n",
      "Total params: 14,714,688\n",
      "Trainable params: 14,714,688\n",
      "Non-trainable params: 0\n",
      "_________________________________________________________________\n"
     ]
    }
   ],
   "source": [
    "VGG16_base = tf.keras.applications.VGG16(weights = 'imagenet', include_top = False, input_shape = (32, 32, 3))\n",
    "VGG16_base.summary()"
   ]
  },
  {
   "cell_type": "markdown",
   "id": "2d1e181a",
   "metadata": {},
   "source": [
    "## Add to Layer in VGG16"
   ]
  },
  {
   "cell_type": "code",
   "execution_count": 33,
   "id": "c06a0776",
   "metadata": {},
   "outputs": [
    {
     "name": "stdout",
     "output_type": "stream",
     "text": [
      "Model: \"sequential_4\"\n",
      "_________________________________________________________________\n",
      " Layer (type)                Output Shape              Param #   \n",
      "=================================================================\n",
      " flatten_4 (Flatten)         (None, 512)               0         \n",
      "                                                                 \n",
      " dense_8 (Dense)             (None, 512)               262656    \n",
      "                                                                 \n",
      " dropout_4 (Dropout)         (None, 512)               0         \n",
      "                                                                 \n",
      " dense_9 (Dense)             (None, 43)                22059     \n",
      "                                                                 \n",
      "=================================================================\n",
      "Total params: 284,715\n",
      "Trainable params: 284,715\n",
      "Non-trainable params: 0\n",
      "_________________________________________________________________\n"
     ]
    }
   ],
   "source": [
    "def build_model3():\n",
    "    tf.random.set_seed(8)\n",
    "    \n",
    "    model = Sequential([\n",
    "        Flatten(input_shape = (1, 1, 512)),\n",
    "        Dense(512, activation = 'relu', kernel_initializer = glorot_uniform()),\n",
    "        Dropout(0.4),\n",
    "        Dense(N_CLASSES, activation = 'sigmoid')\n",
    "    ])\n",
    "    \n",
    "    model.compile(optimizer = Adam(lr = 0.001),\n",
    "                 loss = 'categorical_crossentropy',\n",
    "                 metrics = ['acc'])\n",
    "    model.summary()\n",
    "    return model\n",
    "\n",
    "model3 = build_model3()"
   ]
  },
  {
   "cell_type": "markdown",
   "id": "8c683424",
   "metadata": {},
   "source": [
    "## Extract prediction"
   ]
  },
  {
   "cell_type": "code",
   "execution_count": 34,
   "id": "e35fa1ca",
   "metadata": {},
   "outputs": [],
   "source": [
    "feature_train = VGG16_base.predict(x_train)\n",
    "feature_test = VGG16_base.predict(x_test_orig)\n",
    "feature_val = VGG16_base.predict(x_val)"
   ]
  },
  {
   "cell_type": "markdown",
   "id": "f0f5a09d",
   "metadata": {},
   "source": [
    "## Fitting"
   ]
  },
  {
   "cell_type": "code",
   "execution_count": 35,
   "id": "e7ad3167",
   "metadata": {},
   "outputs": [
    {
     "name": "stdout",
     "output_type": "stream",
     "text": [
      "Epoch 1/10\n",
      "123/123 [==============================] - 1s 5ms/step - loss: 2.2782 - acc: 0.3502 - val_loss: 1.6804 - val_acc: 0.4997\n",
      "Epoch 2/10\n",
      "123/123 [==============================] - 0s 3ms/step - loss: 1.5946 - acc: 0.5103 - val_loss: 1.3836 - val_acc: 0.5904\n",
      "Epoch 3/10\n",
      "123/123 [==============================] - 0s 2ms/step - loss: 1.3548 - acc: 0.5805 - val_loss: 1.2143 - val_acc: 0.6385\n",
      "Epoch 4/10\n",
      "123/123 [==============================] - 0s 2ms/step - loss: 1.2029 - acc: 0.6250 - val_loss: 1.0833 - val_acc: 0.6667\n",
      "Epoch 5/10\n",
      "123/123 [==============================] - 0s 2ms/step - loss: 1.0855 - acc: 0.6595 - val_loss: 0.9983 - val_acc: 0.6980\n",
      "Epoch 6/10\n",
      "123/123 [==============================] - 0s 3ms/step - loss: 0.9941 - acc: 0.6875 - val_loss: 0.9168 - val_acc: 0.7221\n",
      "Epoch 7/10\n",
      "123/123 [==============================] - 0s 3ms/step - loss: 0.9162 - acc: 0.7140 - val_loss: 0.8705 - val_acc: 0.7343\n",
      "Epoch 8/10\n",
      "123/123 [==============================] - 0s 3ms/step - loss: 0.8613 - acc: 0.7279 - val_loss: 0.8105 - val_acc: 0.7534\n",
      "Epoch 9/10\n",
      "123/123 [==============================] - 0s 3ms/step - loss: 0.8009 - acc: 0.7511 - val_loss: 0.7617 - val_acc: 0.7705\n",
      "Epoch 10/10\n",
      "123/123 [==============================] - 0s 3ms/step - loss: 0.7533 - acc: 0.7618 - val_loss: 0.7259 - val_acc: 0.7758\n"
     ]
    },
    {
     "data": {
      "text/plain": [
       "<keras.callbacks.History at 0x2374f17ac40>"
      ]
     },
     "execution_count": 35,
     "metadata": {},
     "output_type": "execute_result"
    }
   ],
   "source": [
    "model3.fit(feature_train, y_train, batch_size = 256, epochs = 10, validation_data = (feature_val, y_val))"
   ]
  },
  {
   "cell_type": "markdown",
   "id": "6942d6fb",
   "metadata": {},
   "source": [
    "## VGG16 모델에 추가"
   ]
  },
  {
   "cell_type": "code",
   "execution_count": 36,
   "id": "5c45632b",
   "metadata": {},
   "outputs": [
    {
     "name": "stdout",
     "output_type": "stream",
     "text": [
      "Model: \"sequential_5\"\n",
      "_________________________________________________________________\n",
      " Layer (type)                Output Shape              Param #   \n",
      "=================================================================\n",
      " vgg16 (Functional)          (None, 1, 1, 512)         14714688  \n",
      "                                                                 \n",
      " flatten_5 (Flatten)         (None, 512)               0         \n",
      "                                                                 \n",
      " dense_10 (Dense)            (None, 512)               262656    \n",
      "                                                                 \n",
      " dropout_5 (Dropout)         (None, 512)               0         \n",
      "                                                                 \n",
      " dense_11 (Dense)            (None, 43)                22059     \n",
      "                                                                 \n",
      "=================================================================\n",
      "Total params: 14,999,403\n",
      "Trainable params: 14,999,403\n",
      "Non-trainable params: 0\n",
      "_________________________________________________________________\n"
     ]
    }
   ],
   "source": [
    "tf.random.set_seed(8)\n",
    "\n",
    "VGG16_model = Sequential([\n",
    "    VGG16_base,\n",
    "    Flatten(),\n",
    "    Dense(512, activation = 'relu', kernel_initializer = glorot_uniform()),\n",
    "    Dropout(0.4),\n",
    "    Dense(N_CLASSES, activation = 'softmax', kernel_initializer = glorot_uniform())\n",
    "])\n",
    "\n",
    "VGG16_model.summary()"
   ]
  },
  {
   "cell_type": "code",
   "execution_count": 37,
   "id": "00b5b662",
   "metadata": {},
   "outputs": [
    {
     "name": "stdout",
     "output_type": "stream",
     "text": [
      "훈련되는 가중치의 수:  30\n"
     ]
    }
   ],
   "source": [
    "VGG16_base.trainable = True\n",
    "set_trainable = True\n",
    "\n",
    "for layer in VGG16_base.layers:\n",
    "    if layer.name == 'block5_conv1':\n",
    "        set_trainable = True\n",
    "    if set_trainable:\n",
    "        layer.trainable = True\n",
    "    else:\n",
    "        layer.trainable = False\n",
    "        \n",
    "print('훈련되는 가중치의 수: ', len(VGG16_model.trainable_weights))"
   ]
  },
  {
   "cell_type": "markdown",
   "id": "98065b35",
   "metadata": {},
   "source": [
    "## Fitting"
   ]
  },
  {
   "cell_type": "code",
   "execution_count": 38,
   "id": "7c0ab05d",
   "metadata": {},
   "outputs": [
    {
     "name": "stdout",
     "output_type": "stream",
     "text": [
      "Epoch 1/10\n",
      "123/123 [==============================] - 13s 84ms/step - loss: 3.5045 - acc: 0.0735 - val_loss: 3.3445 - val_acc: 0.0843\n",
      "Epoch 2/10\n",
      "123/123 [==============================] - 8s 63ms/step - loss: 3.1680 - acc: 0.1207 - val_loss: 2.5907 - val_acc: 0.2290\n",
      "Epoch 3/10\n",
      "123/123 [==============================] - 8s 64ms/step - loss: 1.9291 - acc: 0.3842 - val_loss: 1.1084 - val_acc: 0.6169\n",
      "Epoch 4/10\n",
      "123/123 [==============================] - 8s 63ms/step - loss: 0.8374 - acc: 0.7050 - val_loss: 0.4828 - val_acc: 0.8328\n",
      "Epoch 5/10\n",
      "123/123 [==============================] - 8s 63ms/step - loss: 0.4161 - acc: 0.8608 - val_loss: 0.2523 - val_acc: 0.9251\n",
      "Epoch 6/10\n",
      "123/123 [==============================] - 8s 63ms/step - loss: 0.2141 - acc: 0.9337 - val_loss: 0.1654 - val_acc: 0.9558\n",
      "Epoch 7/10\n",
      "123/123 [==============================] - 8s 63ms/step - loss: 0.0976 - acc: 0.9743 - val_loss: 0.0833 - val_acc: 0.9796\n",
      "Epoch 8/10\n",
      "123/123 [==============================] - 8s 63ms/step - loss: 0.0641 - acc: 0.9827 - val_loss: 0.0673 - val_acc: 0.9842\n",
      "Epoch 9/10\n",
      "123/123 [==============================] - 8s 63ms/step - loss: 0.0760 - acc: 0.9800 - val_loss: 0.0850 - val_acc: 0.9793\n",
      "Epoch 10/10\n",
      "123/123 [==============================] - 8s 63ms/step - loss: 0.0436 - acc: 0.9888 - val_loss: 0.0480 - val_acc: 0.9908\n"
     ]
    }
   ],
   "source": [
    "VGG16_model.compile(optimizer = Adam(lr = 0.001),\n",
    "                   loss = 'categorical_crossentropy',\n",
    "                   metrics = ['acc'])\n",
    "\n",
    "hist3 = VGG16_model.fit(x_train, y_train, batch_size = 256, epochs = 10, validation_data = (x_val, y_val))"
   ]
  },
  {
   "cell_type": "markdown",
   "id": "6aee72be",
   "metadata": {},
   "source": [
    "## Evaluation"
   ]
  },
  {
   "cell_type": "code",
   "execution_count": 40,
   "id": "6202766e",
   "metadata": {},
   "outputs": [
    {
     "name": "stdout",
     "output_type": "stream",
     "text": [
      "395/395 [==============================] - 2s 6ms/step - loss: 33.0460 - acc: 0.6321\n"
     ]
    },
    {
     "data": {
      "text/plain": [
       "[33.045963287353516, 0.6320664882659912]"
      ]
     },
     "execution_count": 40,
     "metadata": {},
     "output_type": "execute_result"
    }
   ],
   "source": [
    "VGG16_model.evaluate(x_test_orig, y_test_orig)"
   ]
  },
  {
   "cell_type": "markdown",
   "id": "0e7692e9",
   "metadata": {},
   "source": [
    "## Plotting"
   ]
  },
  {
   "cell_type": "code",
   "execution_count": 39,
   "id": "06ae0006",
   "metadata": {},
   "outputs": [
    {
     "data": {
      "image/png": "[encoded data removed]",
      "text/plain": [
       "<Figure size 864x360 with 2 Axes>"
      ]
     },
     "metadata": {
      "needs_background": "light"
     },
     "output_type": "display_data"
    }
   ],
   "source": [
    "EPOCH = range(10)\n",
    "\n",
    "\n",
    "plt.figure(figsize = (12, 5))\n",
    "\n",
    "plt.subplot(1, 2, 1)\n",
    "plt.plot(EPOCH, hist3.history['loss'], 'b--', label = 'Training Loss')\n",
    "plt.plot(EPOCH, hist3.history['val_loss'], 'r-', label = 'Validation Loss')\n",
    "plt.title('Model3 Loss Graph')\n",
    "plt.xlabel('Epoch')\n",
    "plt.ylabel('Loss')\n",
    "plt.grid()\n",
    "plt.legend(loc = 'best')\n",
    "\n",
    "plt.subplot(1, 2, 2)\n",
    "plt.plot(EPOCH, hist3.history['acc'], 'b--', label = 'Training Accuracy')\n",
    "plt.plot(EPOCH, hist3.history['val_acc'], 'r-', label = 'Validation Accuracy')\n",
    "plt.title('Model3 Accuracy Graph')\n",
    "plt.xlabel('Epoch')\n",
    "plt.ylabel('Accuracy')\n",
    "plt.grid()\n",
    "plt.legend(loc = 'best')\n",
    "\n",
    "plt.show()"
   ]
  },
  {
   "cell_type": "markdown",
   "id": "a677e653",
   "metadata": {},
   "source": [
    "## Modify the Hyperparameter\n",
    "- Learning_Rate = 1/10 감소 후 재학습"
   ]
  },
  {
   "cell_type": "code",
   "execution_count": 41,
   "id": "722360dd",
   "metadata": {},
   "outputs": [
    {
     "name": "stdout",
     "output_type": "stream",
     "text": [
      "Epoch 1/10\n",
      "123/123 [==============================] - 8s 64ms/step - loss: 0.0105 - acc: 0.9978 - val_loss: 0.0362 - val_acc: 0.9940\n",
      "Epoch 2/10\n",
      "123/123 [==============================] - 8s 63ms/step - loss: 0.0048 - acc: 0.9993 - val_loss: 0.0390 - val_acc: 0.9946\n",
      "Epoch 3/10\n",
      "123/123 [==============================] - 8s 63ms/step - loss: 0.0040 - acc: 0.9994 - val_loss: 0.0341 - val_acc: 0.9948\n",
      "Epoch 4/10\n",
      "123/123 [==============================] - 8s 63ms/step - loss: 0.0020 - acc: 0.9998 - val_loss: 0.0343 - val_acc: 0.9946\n",
      "Epoch 5/10\n",
      "123/123 [==============================] - 8s 63ms/step - loss: 0.0025 - acc: 0.9997 - val_loss: 0.0364 - val_acc: 0.9945\n",
      "Epoch 6/10\n",
      "123/123 [==============================] - 8s 64ms/step - loss: 0.0027 - acc: 0.9996 - val_loss: 0.0353 - val_acc: 0.9949\n",
      "Epoch 7/10\n",
      "123/123 [==============================] - 8s 62ms/step - loss: 7.6621e-04 - acc: 0.9999 - val_loss: 0.0363 - val_acc: 0.9949\n",
      "Epoch 8/10\n",
      "123/123 [==============================] - 8s 62ms/step - loss: 0.0022 - acc: 0.9996 - val_loss: 0.0388 - val_acc: 0.9950\n",
      "Epoch 9/10\n",
      "123/123 [==============================] - 8s 62ms/step - loss: 0.0023 - acc: 0.9996 - val_loss: 0.0363 - val_acc: 0.9949\n",
      "Epoch 10/10\n",
      "123/123 [==============================] - 8s 63ms/step - loss: 3.5349e-04 - acc: 1.0000 - val_loss: 0.0379 - val_acc: 0.9955\n"
     ]
    },
    {
     "data": {
      "text/plain": [
       "<keras.callbacks.History at 0x2371fb5c970>"
      ]
     },
     "execution_count": 41,
     "metadata": {},
     "output_type": "execute_result"
    }
   ],
   "source": [
    "VGG16_model.compile(optimizer = Adam(lr = 0.0001),\n",
    "                    loss = 'categorical_crossentropy',\n",
    "                    metrics = ['acc'])\n",
    "\n",
    "VGG16_model.fit(x_train, y_train, batch_size = 256, epochs = 10, validation_data = (x_val, y_val))"
   ]
  },
  {
   "cell_type": "code",
   "execution_count": 43,
   "id": "b6fa7e6b",
   "metadata": {},
   "outputs": [
    {
     "name": "stdout",
     "output_type": "stream",
     "text": [
      "395/395 [==============================] - 3s 6ms/step - loss: 44.0291 - acc: 0.6820\n"
     ]
    },
    {
     "data": {
      "text/plain": [
       "[44.0290641784668, 0.6820269227027893]"
      ]
     },
     "execution_count": 43,
     "metadata": {},
     "output_type": "execute_result"
    }
   ],
   "source": [
    "VGG16_model.evaluate(x_test_orig, y_test_orig)"
   ]
  },
  {
   "cell_type": "markdown",
   "id": "c8495f71",
   "metadata": {},
   "source": [
    "# Model4 (ResNet50)"
   ]
  },
  {
   "cell_type": "code",
   "execution_count": 56,
   "id": "44b6ba4a",
   "metadata": {},
   "outputs": [
    {
     "name": "stdout",
     "output_type": "stream",
     "text": [
      "Model: \"resnet50\"\n",
      "__________________________________________________________________________________________________\n",
      " Layer (type)                   Output Shape         Param #     Connected to                     \n",
      "==================================================================================================\n",
      " input_7 (InputLayer)           [(None, 32, 32, 3)]  0           []                               \n",
      "                                                                                                  \n",
      " conv1_pad (ZeroPadding2D)      (None, 38, 38, 3)    0           ['input_7[0][0]']                \n",
      "                                                                                                  \n",
      " conv1_conv (Conv2D)            (None, 16, 16, 64)   9472        ['conv1_pad[0][0]']              \n",
      "                                                                                                  \n",
      " conv1_bn (BatchNormalization)  (None, 16, 16, 64)   256         ['conv1_conv[0][0]']             \n",
      "                                                                                                  \n",
      " conv1_relu (Activation)        (None, 16, 16, 64)   0           ['conv1_bn[0][0]']               \n",
      "                                                                                                  \n",
      " pool1_pad (ZeroPadding2D)      (None, 18, 18, 64)   0           ['conv1_relu[0][0]']             \n",
      "                                                                                                  \n",
      " pool1_pool (MaxPooling2D)      (None, 8, 8, 64)     0           ['pool1_pad[0][0]']              \n",
      "                                                                                                  \n",
      " conv2_block1_1_conv (Conv2D)   (None, 8, 8, 64)     4160        ['pool1_pool[0][0]']             \n",
      "                                                                                                  \n",
      " conv2_block1_1_bn (BatchNormal  (None, 8, 8, 64)    256         ['conv2_block1_1_conv[0][0]']    \n",
      " ization)                                                                                         \n",
      "                                                                                                  \n",
      " conv2_block1_1_relu (Activatio  (None, 8, 8, 64)    0           ['conv2_block1_1_bn[0][0]']      \n",
      " n)                                                                                               \n",
      "                                                                                                  \n",
      " conv2_block1_2_conv (Conv2D)   (None, 8, 8, 64)     36928       ['conv2_block1_1_relu[0][0]']    \n",
      "                                                                                                  \n",
      " conv2_block1_2_bn (BatchNormal  (None, 8, 8, 64)    256         ['conv2_block1_2_conv[0][0]']    \n",
      " ization)                                                                                         \n",
      "                                                                                                  \n",
      " conv2_block1_2_relu (Activatio  (None, 8, 8, 64)    0           ['conv2_block1_2_bn[0][0]']      \n",
      " n)                                                                                               \n",
      "                                                                                                  \n",
      " conv2_block1_0_conv (Conv2D)   (None, 8, 8, 256)    16640       ['pool1_pool[0][0]']             \n",
      "                                                                                                  \n",
      " conv2_block1_3_conv (Conv2D)   (None, 8, 8, 256)    16640       ['conv2_block1_2_relu[0][0]']    \n",
      "                                                                                                  \n",
      " conv2_block1_0_bn (BatchNormal  (None, 8, 8, 256)   1024        ['conv2_block1_0_conv[0][0]']    \n",
      " ization)                                                                                         \n",
      "                                                                                                  \n",
      " conv2_block1_3_bn (BatchNormal  (None, 8, 8, 256)   1024        ['conv2_block1_3_conv[0][0]']    \n",
      " ization)                                                                                         \n",
      "                                                                                                  \n",
      " conv2_block1_add (Add)         (None, 8, 8, 256)    0           ['conv2_block1_0_bn[0][0]',      \n",
      "                                                                  'conv2_block1_3_bn[0][0]']      \n",
      "                                                                                                  \n",
      " conv2_block1_out (Activation)  (None, 8, 8, 256)    0           ['conv2_block1_add[0][0]']       \n",
      "                                                                                                  \n",
      " conv2_block2_1_conv (Conv2D)   (None, 8, 8, 64)     16448       ['conv2_block1_out[0][0]']       \n",
      "                                                                                                  \n",
      " conv2_block2_1_bn (BatchNormal  (None, 8, 8, 64)    256         ['conv2_block2_1_conv[0][0]']    \n",
      " ization)                                                                                         \n",
      "                                                                                                  \n",
      " conv2_block2_1_relu (Activatio  (None, 8, 8, 64)    0           ['conv2_block2_1_bn[0][0]']      \n",
      " n)                                                                                               \n",
      "                                                                                                  \n",
      " conv2_block2_2_conv (Conv2D)   (None, 8, 8, 64)     36928       ['conv2_block2_1_relu[0][0]']    \n",
      "                                                                                                  \n",
      " conv2_block2_2_bn (BatchNormal  (None, 8, 8, 64)    256         ['conv2_block2_2_conv[0][0]']    \n",
      " ization)                                                                                         \n",
      "                                                                                                  \n",
      " conv2_block2_2_relu (Activatio  (None, 8, 8, 64)    0           ['conv2_block2_2_bn[0][0]']      \n",
      " n)                                                                                               \n",
      "                                                                                                  \n",
      " conv2_block2_3_conv (Conv2D)   (None, 8, 8, 256)    16640       ['conv2_block2_2_relu[0][0]']    \n",
      "                                                                                                  \n",
      " conv2_block2_3_bn (BatchNormal  (None, 8, 8, 256)   1024        ['conv2_block2_3_conv[0][0]']    \n",
      " ization)                                                                                         \n",
      "                                                                                                  \n",
      " conv2_block2_add (Add)         (None, 8, 8, 256)    0           ['conv2_block1_out[0][0]',       \n",
      "                                                                  'conv2_block2_3_bn[0][0]']      \n",
      "                                                                                                  \n",
      " conv2_block2_out (Activation)  (None, 8, 8, 256)    0           ['conv2_block2_add[0][0]']       \n",
      "                                                                                                  \n",
      " conv2_block3_1_conv (Conv2D)   (None, 8, 8, 64)     16448       ['conv2_block2_out[0][0]']       \n",
      "                                                                                                  \n",
      " conv2_block3_1_bn (BatchNormal  (None, 8, 8, 64)    256         ['conv2_block3_1_conv[0][0]']    \n",
      " ization)                                                                                         \n",
      "                                                                                                  \n",
      " conv2_block3_1_relu (Activatio  (None, 8, 8, 64)    0           ['conv2_block3_1_bn[0][0]']      \n",
      " n)                                                                                               \n",
      "                                                                                                  \n",
      " conv2_block3_2_conv (Conv2D)   (None, 8, 8, 64)     36928       ['conv2_block3_1_relu[0][0]']    \n",
      "                                                                                                  \n",
      " conv2_block3_2_bn (BatchNormal  (None, 8, 8, 64)    256         ['conv2_block3_2_conv[0][0]']    \n",
      " ization)                                                                                         \n",
      "                                                                                                  \n",
      " conv2_block3_2_relu (Activatio  (None, 8, 8, 64)    0           ['conv2_block3_2_bn[0][0]']      \n",
      " n)                                                                                               \n",
      "                                                                                                  \n",
      " conv2_block3_3_conv (Conv2D)   (None, 8, 8, 256)    16640       ['conv2_block3_2_relu[0][0]']    \n",
      "                                                                                                  \n",
      " conv2_block3_3_bn (BatchNormal  (None, 8, 8, 256)   1024        ['conv2_block3_3_conv[0][0]']    \n",
      " ization)                                                                                         \n",
      "                                                                                                  \n",
      " conv2_block3_add (Add)         (None, 8, 8, 256)    0           ['conv2_block2_out[0][0]',       \n",
      "                                                                  'conv2_block3_3_bn[0][0]']      \n",
      "                                                                                                  \n",
      " conv2_block3_out (Activation)  (None, 8, 8, 256)    0           ['conv2_block3_add[0][0]']       \n",
      "                                                                                                  \n",
      " conv3_block1_1_conv (Conv2D)   (None, 4, 4, 128)    32896       ['conv2_block3_out[0][0]']       \n",
      "                                                                                                  \n",
      " conv3_block1_1_bn (BatchNormal  (None, 4, 4, 128)   512         ['conv3_block1_1_conv[0][0]']    \n",
      " ization)                                                                                         \n",
      "                                                                                                  \n",
      " conv3_block1_1_relu (Activatio  (None, 4, 4, 128)   0           ['conv3_block1_1_bn[0][0]']      \n",
      " n)                                                                                               \n",
      "                                                                                                  \n",
      " conv3_block1_2_conv (Conv2D)   (None, 4, 4, 128)    147584      ['conv3_block1_1_relu[0][0]']    \n",
      "                                                                                                  \n",
      " conv3_block1_2_bn (BatchNormal  (None, 4, 4, 128)   512         ['conv3_block1_2_conv[0][0]']    \n",
      " ization)                                                                                         \n",
      "                                                                                                  \n",
      " conv3_block1_2_relu (Activatio  (None, 4, 4, 128)   0           ['conv3_block1_2_bn[0][0]']      \n",
      " n)                                                                                               \n",
      "                                                                                                  \n",
      " conv3_block1_0_conv (Conv2D)   (None, 4, 4, 512)    131584      ['conv2_block3_out[0][0]']       \n",
      "                                                                                                  \n",
      " conv3_block1_3_conv (Conv2D)   (None, 4, 4, 512)    66048       ['conv3_block1_2_relu[0][0]']    \n",
      "                                                                                                  \n",
      " conv3_block1_0_bn (BatchNormal  (None, 4, 4, 512)   2048        ['conv3_block1_0_conv[0][0]']    \n",
      " ization)                                                                                         \n",
      "                                                                                                  \n",
      " conv3_block1_3_bn (BatchNormal  (None, 4, 4, 512)   2048        ['conv3_block1_3_conv[0][0]']    \n",
      " ization)                                                                                         \n",
      "                                                                                                  \n",
      " conv3_block1_add (Add)         (None, 4, 4, 512)    0           ['conv3_block1_0_bn[0][0]',      \n",
      "                                                                  'conv3_block1_3_bn[0][0]']      \n",
      "                                                                                                  \n",
      " conv3_block1_out (Activation)  (None, 4, 4, 512)    0           ['conv3_block1_add[0][0]']       \n",
      "                                                                                                  \n",
      " conv3_block2_1_conv (Conv2D)   (None, 4, 4, 128)    65664       ['conv3_block1_out[0][0]']       \n",
      "                                                                                                  \n",
      " conv3_block2_1_bn (BatchNormal  (None, 4, 4, 128)   512         ['conv3_block2_1_conv[0][0]']    \n",
      " ization)                                                                                         \n",
      "                                                                                                  \n",
      " conv3_block2_1_relu (Activatio  (None, 4, 4, 128)   0           ['conv3_block2_1_bn[0][0]']      \n",
      " n)                                                                                               \n",
      "                                                                                                  \n",
      " conv3_block2_2_conv (Conv2D)   (None, 4, 4, 128)    147584      ['conv3_block2_1_relu[0][0]']    \n",
      "                                                                                                  \n",
      " conv3_block2_2_bn (BatchNormal  (None, 4, 4, 128)   512         ['conv3_block2_2_conv[0][0]']    \n",
      " ization)                                                                                         \n",
      "                                                                                                  \n",
      " conv3_block2_2_relu (Activatio  (None, 4, 4, 128)   0           ['conv3_block2_2_bn[0][0]']      \n",
      " n)                                                                                               \n",
      "                                                                                                  \n",
      " conv3_block2_3_conv (Conv2D)   (None, 4, 4, 512)    66048       ['conv3_block2_2_relu[0][0]']    \n",
      "                                                                                                  \n",
      " conv3_block2_3_bn (BatchNormal  (None, 4, 4, 512)   2048        ['conv3_block2_3_conv[0][0]']    \n",
      " ization)                                                                                         \n",
      "                                                                                                  \n",
      " conv3_block2_add (Add)         (None, 4, 4, 512)    0           ['conv3_block1_out[0][0]',       \n",
      "                                                                  'conv3_block2_3_bn[0][0]']      \n",
      "                                                                                                  \n",
      " conv3_block2_out (Activation)  (None, 4, 4, 512)    0           ['conv3_block2_add[0][0]']       \n",
      "                                                                                                  \n",
      " conv3_block3_1_conv (Conv2D)   (None, 4, 4, 128)    65664       ['conv3_block2_out[0][0]']       \n",
      "                                                                                                  \n",
      " conv3_block3_1_bn (BatchNormal  (None, 4, 4, 128)   512         ['conv3_block3_1_conv[0][0]']    \n",
      " ization)                                                                                         \n",
      "                                                                                                  \n",
      " conv3_block3_1_relu (Activatio  (None, 4, 4, 128)   0           ['conv3_block3_1_bn[0][0]']      \n",
      " n)                                                                                               \n",
      "                                                                                                  \n",
      " conv3_block3_2_conv (Conv2D)   (None, 4, 4, 128)    147584      ['conv3_block3_1_relu[0][0]']    \n",
      "                                                                                                  \n",
      " conv3_block3_2_bn (BatchNormal  (None, 4, 4, 128)   512         ['conv3_block3_2_conv[0][0]']    \n",
      " ization)                                                                                         \n",
      "                                                                                                  \n",
      " conv3_block3_2_relu (Activatio  (None, 4, 4, 128)   0           ['conv3_block3_2_bn[0][0]']      \n",
      " n)                                                                                               \n",
      "                                                                                                  \n",
      " conv3_block3_3_conv (Conv2D)   (None, 4, 4, 512)    66048       ['conv3_block3_2_relu[0][0]']    \n",
      "                                                                                                  \n",
      " conv3_block3_3_bn (BatchNormal  (None, 4, 4, 512)   2048        ['conv3_block3_3_conv[0][0]']    \n",
      " ization)                                                                                         \n",
      "                                                                                                  \n",
      " conv3_block3_add (Add)         (None, 4, 4, 512)    0           ['conv3_block2_out[0][0]',       \n",
      "                                                                  'conv3_block3_3_bn[0][0]']      \n",
      "                                                                                                  \n",
      " conv3_block3_out (Activation)  (None, 4, 4, 512)    0           ['conv3_block3_add[0][0]']       \n",
      "                                                                                                  \n",
      " conv3_block4_1_conv (Conv2D)   (None, 4, 4, 128)    65664       ['conv3_block3_out[0][0]']       \n",
      "                                                                                                  \n",
      " conv3_block4_1_bn (BatchNormal  (None, 4, 4, 128)   512         ['conv3_block4_1_conv[0][0]']    \n",
      " ization)                                                                                         \n",
      "                                                                                                  \n",
      " conv3_block4_1_relu (Activatio  (None, 4, 4, 128)   0           ['conv3_block4_1_bn[0][0]']      \n",
      " n)                                                                                               \n",
      "                                                                                                  \n",
      " conv3_block4_2_conv (Conv2D)   (None, 4, 4, 128)    147584      ['conv3_block4_1_relu[0][0]']    \n",
      "                                                                                                  \n",
      " conv3_block4_2_bn (BatchNormal  (None, 4, 4, 128)   512         ['conv3_block4_2_conv[0][0]']    \n",
      " ization)                                                                                         \n",
      "                                                                                                  \n",
      " conv3_block4_2_relu (Activatio  (None, 4, 4, 128)   0           ['conv3_block4_2_bn[0][0]']      \n",
      " n)                                                                                               \n",
      "                                                                                                  \n",
      " conv3_block4_3_conv (Conv2D)   (None, 4, 4, 512)    66048       ['conv3_block4_2_relu[0][0]']    \n",
      "                                                                                                  \n",
      " conv3_block4_3_bn (BatchNormal  (None, 4, 4, 512)   2048        ['conv3_block4_3_conv[0][0]']    \n",
      " ization)                                                                                         \n",
      "                                                                                                  \n",
      " conv3_block4_add (Add)         (None, 4, 4, 512)    0           ['conv3_block3_out[0][0]',       \n",
      "                                                                  'conv3_block4_3_bn[0][0]']      \n",
      "                                                                                                  \n",
      " conv3_block4_out (Activation)  (None, 4, 4, 512)    0           ['conv3_block4_add[0][0]']       \n",
      "                                                                                                  \n",
      " conv4_block1_1_conv (Conv2D)   (None, 2, 2, 256)    131328      ['conv3_block4_out[0][0]']       \n",
      "                                                                                                  \n",
      " conv4_block1_1_bn (BatchNormal  (None, 2, 2, 256)   1024        ['conv4_block1_1_conv[0][0]']    \n",
      " ization)                                                                                         \n",
      "                                                                                                  \n",
      " conv4_block1_1_relu (Activatio  (None, 2, 2, 256)   0           ['conv4_block1_1_bn[0][0]']      \n",
      " n)                                                                                               \n",
      "                                                                                                  \n",
      " conv4_block1_2_conv (Conv2D)   (None, 2, 2, 256)    590080      ['conv4_block1_1_relu[0][0]']    \n",
      "                                                                                                  \n",
      " conv4_block1_2_bn (BatchNormal  (None, 2, 2, 256)   1024        ['conv4_block1_2_conv[0][0]']    \n",
      " ization)                                                                                         \n",
      "                                                                                                  \n",
      " conv4_block1_2_relu (Activatio  (None, 2, 2, 256)   0           ['conv4_block1_2_bn[0][0]']      \n",
      " n)                                                                                               \n",
      "                                                                                                  \n",
      " conv4_block1_0_conv (Conv2D)   (None, 2, 2, 1024)   525312      ['conv3_block4_out[0][0]']       \n",
      "                                                                                                  \n",
      " conv4_block1_3_conv (Conv2D)   (None, 2, 2, 1024)   263168      ['conv4_block1_2_relu[0][0]']    \n",
      "                                                                                                  \n",
      " conv4_block1_0_bn (BatchNormal  (None, 2, 2, 1024)  4096        ['conv4_block1_0_conv[0][0]']    \n",
      " ization)                                                                                         \n",
      "                                                                                                  \n",
      " conv4_block1_3_bn (BatchNormal  (None, 2, 2, 1024)  4096        ['conv4_block1_3_conv[0][0]']    \n",
      " ization)                                                                                         \n",
      "                                                                                                  \n",
      " conv4_block1_add (Add)         (None, 2, 2, 1024)   0           ['conv4_block1_0_bn[0][0]',      \n",
      "                                                                  'conv4_block1_3_bn[0][0]']      \n",
      "                                                                                                  \n",
      " conv4_block1_out (Activation)  (None, 2, 2, 1024)   0           ['conv4_block1_add[0][0]']       \n",
      "                                                                                                  \n",
      " conv4_block2_1_conv (Conv2D)   (None, 2, 2, 256)    262400      ['conv4_block1_out[0][0]']       \n",
      "                                                                                                  \n",
      " conv4_block2_1_bn (BatchNormal  (None, 2, 2, 256)   1024        ['conv4_block2_1_conv[0][0]']    \n",
      " ization)                                                                                         \n",
      "                                                                                                  \n",
      " conv4_block2_1_relu (Activatio  (None, 2, 2, 256)   0           ['conv4_block2_1_bn[0][0]']      \n",
      " n)                                                                                               \n",
      "                                                                                                  \n",
      " conv4_block2_2_conv (Conv2D)   (None, 2, 2, 256)    590080      ['conv4_block2_1_relu[0][0]']    \n",
      "                                                                                                  \n",
      " conv4_block2_2_bn (BatchNormal  (None, 2, 2, 256)   1024        ['conv4_block2_2_conv[0][0]']    \n",
      " ization)                                                                                         \n",
      "                                                                                                  \n",
      " conv4_block2_2_relu (Activatio  (None, 2, 2, 256)   0           ['conv4_block2_2_bn[0][0]']      \n",
      " n)                                                                                               \n",
      "                                                                                                  \n",
      " conv4_block2_3_conv (Conv2D)   (None, 2, 2, 1024)   263168      ['conv4_block2_2_relu[0][0]']    \n",
      "                                                                                                  \n",
      " conv4_block2_3_bn (BatchNormal  (None, 2, 2, 1024)  4096        ['conv4_block2_3_conv[0][0]']    \n",
      " ization)                                                                                         \n",
      "                                                                                                  \n",
      " conv4_block2_add (Add)         (None, 2, 2, 1024)   0           ['conv4_block1_out[0][0]',       \n",
      "                                                                  'conv4_block2_3_bn[0][0]']      \n",
      "                                                                                                  \n",
      " conv4_block2_out (Activation)  (None, 2, 2, 1024)   0           ['conv4_block2_add[0][0]']       \n",
      "                                                                                                  \n",
      " conv4_block3_1_conv (Conv2D)   (None, 2, 2, 256)    262400      ['conv4_block2_out[0][0]']       \n",
      "                                                                                                  \n",
      " conv4_block3_1_bn (BatchNormal  (None, 2, 2, 256)   1024        ['conv4_block3_1_conv[0][0]']    \n",
      " ization)                                                                                         \n",
      "                                                                                                  \n",
      " conv4_block3_1_relu (Activatio  (None, 2, 2, 256)   0           ['conv4_block3_1_bn[0][0]']      \n",
      " n)                                                                                               \n",
      "                                                                                                  \n",
      " conv4_block3_2_conv (Conv2D)   (None, 2, 2, 256)    590080      ['conv4_block3_1_relu[0][0]']    \n",
      "                                                                                                  \n",
      " conv4_block3_2_bn (BatchNormal  (None, 2, 2, 256)   1024        ['conv4_block3_2_conv[0][0]']    \n",
      " ization)                                                                                         \n",
      "                                                                                                  \n",
      " conv4_block3_2_relu (Activatio  (None, 2, 2, 256)   0           ['conv4_block3_2_bn[0][0]']      \n",
      " n)                                                                                               \n",
      "                                                                                                  \n",
      " conv4_block3_3_conv (Conv2D)   (None, 2, 2, 1024)   263168      ['conv4_block3_2_relu[0][0]']    \n",
      "                                                                                                  \n",
      " conv4_block3_3_bn (BatchNormal  (None, 2, 2, 1024)  4096        ['conv4_block3_3_conv[0][0]']    \n",
      " ization)                                                                                         \n",
      "                                                                                                  \n",
      " conv4_block3_add (Add)         (None, 2, 2, 1024)   0           ['conv4_block2_out[0][0]',       \n",
      "                                                                  'conv4_block3_3_bn[0][0]']      \n",
      "                                                                                                  \n",
      " conv4_block3_out (Activation)  (None, 2, 2, 1024)   0           ['conv4_block3_add[0][0]']       \n",
      "                                                                                                  \n",
      " conv4_block4_1_conv (Conv2D)   (None, 2, 2, 256)    262400      ['conv4_block3_out[0][0]']       \n",
      "                                                                                                  \n",
      " conv4_block4_1_bn (BatchNormal  (None, 2, 2, 256)   1024        ['conv4_block4_1_conv[0][0]']    \n",
      " ization)                                                                                         \n",
      "                                                                                                  \n",
      " conv4_block4_1_relu (Activatio  (None, 2, 2, 256)   0           ['conv4_block4_1_bn[0][0]']      \n",
      " n)                                                                                               \n",
      "                                                                                                  \n",
      " conv4_block4_2_conv (Conv2D)   (None, 2, 2, 256)    590080      ['conv4_block4_1_relu[0][0]']    \n",
      "                                                                                                  \n",
      " conv4_block4_2_bn (BatchNormal  (None, 2, 2, 256)   1024        ['conv4_block4_2_conv[0][0]']    \n",
      " ization)                                                                                         \n",
      "                                                                                                  \n",
      " conv4_block4_2_relu (Activatio  (None, 2, 2, 256)   0           ['conv4_block4_2_bn[0][0]']      \n",
      " n)                                                                                               \n",
      "                                                                                                  \n",
      " conv4_block4_3_conv (Conv2D)   (None, 2, 2, 1024)   263168      ['conv4_block4_2_relu[0][0]']    \n",
      "                                                                                                  \n",
      " conv4_block4_3_bn (BatchNormal  (None, 2, 2, 1024)  4096        ['conv4_block4_3_conv[0][0]']    \n",
      " ization)                                                                                         \n",
      "                                                                                                  \n",
      " conv4_block4_add (Add)         (None, 2, 2, 1024)   0           ['conv4_block3_out[0][0]',       \n",
      "                                                                  'conv4_block4_3_bn[0][0]']      \n",
      "                                                                                                  \n",
      " conv4_block4_out (Activation)  (None, 2, 2, 1024)   0           ['conv4_block4_add[0][0]']       \n",
      "                                                                                                  \n",
      " conv4_block5_1_conv (Conv2D)   (None, 2, 2, 256)    262400      ['conv4_block4_out[0][0]']       \n",
      "                                                                                                  \n",
      " conv4_block5_1_bn (BatchNormal  (None, 2, 2, 256)   1024        ['conv4_block5_1_conv[0][0]']    \n",
      " ization)                                                                                         \n",
      "                                                                                                  \n",
      " conv4_block5_1_relu (Activatio  (None, 2, 2, 256)   0           ['conv4_block5_1_bn[0][0]']      \n",
      " n)                                                                                               \n",
      "                                                                                                  \n",
      " conv4_block5_2_conv (Conv2D)   (None, 2, 2, 256)    590080      ['conv4_block5_1_relu[0][0]']    \n",
      "                                                                                                  \n",
      " conv4_block5_2_bn (BatchNormal  (None, 2, 2, 256)   1024        ['conv4_block5_2_conv[0][0]']    \n",
      " ization)                                                                                         \n",
      "                                                                                                  \n",
      " conv4_block5_2_relu (Activatio  (None, 2, 2, 256)   0           ['conv4_block5_2_bn[0][0]']      \n",
      " n)                                                                                               \n",
      "                                                                                                  \n",
      " conv4_block5_3_conv (Conv2D)   (None, 2, 2, 1024)   263168      ['conv4_block5_2_relu[0][0]']    \n",
      "                                                                                                  \n",
      " conv4_block5_3_bn (BatchNormal  (None, 2, 2, 1024)  4096        ['conv4_block5_3_conv[0][0]']    \n",
      " ization)                                                                                         \n",
      "                                                                                                  \n",
      " conv4_block5_add (Add)         (None, 2, 2, 1024)   0           ['conv4_block4_out[0][0]',       \n",
      "                                                                  'conv4_block5_3_bn[0][0]']      \n",
      "                                                                                                  \n",
      " conv4_block5_out (Activation)  (None, 2, 2, 1024)   0           ['conv4_block5_add[0][0]']       \n",
      "                                                                                                  \n",
      " conv4_block6_1_conv (Conv2D)   (None, 2, 2, 256)    262400      ['conv4_block5_out[0][0]']       \n",
      "                                                                                                  \n",
      " conv4_block6_1_bn (BatchNormal  (None, 2, 2, 256)   1024        ['conv4_block6_1_conv[0][0]']    \n",
      " ization)                                                                                         \n",
      "                                                                                                  \n",
      " conv4_block6_1_relu (Activatio  (None, 2, 2, 256)   0           ['conv4_block6_1_bn[0][0]']      \n",
      " n)                                                                                               \n",
      "                                                                                                  \n",
      " conv4_block6_2_conv (Conv2D)   (None, 2, 2, 256)    590080      ['conv4_block6_1_relu[0][0]']    \n",
      "                                                                                                  \n",
      " conv4_block6_2_bn (BatchNormal  (None, 2, 2, 256)   1024        ['conv4_block6_2_conv[0][0]']    \n",
      " ization)                                                                                         \n",
      "                                                                                                  \n",
      " conv4_block6_2_relu (Activatio  (None, 2, 2, 256)   0           ['conv4_block6_2_bn[0][0]']      \n",
      " n)                                                                                               \n",
      "                                                                                                  \n",
      " conv4_block6_3_conv (Conv2D)   (None, 2, 2, 1024)   263168      ['conv4_block6_2_relu[0][0]']    \n",
      "                                                                                                  \n",
      " conv4_block6_3_bn (BatchNormal  (None, 2, 2, 1024)  4096        ['conv4_block6_3_conv[0][0]']    \n",
      " ization)                                                                                         \n",
      "                                                                                                  \n",
      " conv4_block6_add (Add)         (None, 2, 2, 1024)   0           ['conv4_block5_out[0][0]',       \n",
      "                                                                  'conv4_block6_3_bn[0][0]']      \n",
      "                                                                                                  \n",
      " conv4_block6_out (Activation)  (None, 2, 2, 1024)   0           ['conv4_block6_add[0][0]']       \n",
      "                                                                                                  \n",
      " conv5_block1_1_conv (Conv2D)   (None, 1, 1, 512)    524800      ['conv4_block6_out[0][0]']       \n",
      "                                                                                                  \n",
      " conv5_block1_1_bn (BatchNormal  (None, 1, 1, 512)   2048        ['conv5_block1_1_conv[0][0]']    \n",
      " ization)                                                                                         \n",
      "                                                                                                  \n",
      " conv5_block1_1_relu (Activatio  (None, 1, 1, 512)   0           ['conv5_block1_1_bn[0][0]']      \n",
      " n)                                                                                               \n",
      "                                                                                                  \n",
      " conv5_block1_2_conv (Conv2D)   (None, 1, 1, 512)    2359808     ['conv5_block1_1_relu[0][0]']    \n",
      "                                                                                                  \n",
      " conv5_block1_2_bn (BatchNormal  (None, 1, 1, 512)   2048        ['conv5_block1_2_conv[0][0]']    \n",
      " ization)                                                                                         \n",
      "                                                                                                  \n",
      " conv5_block1_2_relu (Activatio  (None, 1, 1, 512)   0           ['conv5_block1_2_bn[0][0]']      \n",
      " n)                                                                                               \n",
      "                                                                                                  \n",
      " conv5_block1_0_conv (Conv2D)   (None, 1, 1, 2048)   2099200     ['conv4_block6_out[0][0]']       \n",
      "                                                                                                  \n",
      " conv5_block1_3_conv (Conv2D)   (None, 1, 1, 2048)   1050624     ['conv5_block1_2_relu[0][0]']    \n",
      "                                                                                                  \n",
      " conv5_block1_0_bn (BatchNormal  (None, 1, 1, 2048)  8192        ['conv5_block1_0_conv[0][0]']    \n",
      " ization)                                                                                         \n",
      "                                                                                                  \n",
      " conv5_block1_3_bn (BatchNormal  (None, 1, 1, 2048)  8192        ['conv5_block1_3_conv[0][0]']    \n",
      " ization)                                                                                         \n",
      "                                                                                                  \n",
      " conv5_block1_add (Add)         (None, 1, 1, 2048)   0           ['conv5_block1_0_bn[0][0]',      \n",
      "                                                                  'conv5_block1_3_bn[0][0]']      \n",
      "                                                                                                  \n",
      " conv5_block1_out (Activation)  (None, 1, 1, 2048)   0           ['conv5_block1_add[0][0]']       \n",
      "                                                                                                  \n",
      " conv5_block2_1_conv (Conv2D)   (None, 1, 1, 512)    1049088     ['conv5_block1_out[0][0]']       \n",
      "                                                                                                  \n",
      " conv5_block2_1_bn (BatchNormal  (None, 1, 1, 512)   2048        ['conv5_block2_1_conv[0][0]']    \n",
      " ization)                                                                                         \n",
      "                                                                                                  \n",
      " conv5_block2_1_relu (Activatio  (None, 1, 1, 512)   0           ['conv5_block2_1_bn[0][0]']      \n",
      " n)                                                                                               \n",
      "                                                                                                  \n",
      " conv5_block2_2_conv (Conv2D)   (None, 1, 1, 512)    2359808     ['conv5_block2_1_relu[0][0]']    \n",
      "                                                                                                  \n",
      " conv5_block2_2_bn (BatchNormal  (None, 1, 1, 512)   2048        ['conv5_block2_2_conv[0][0]']    \n",
      " ization)                                                                                         \n",
      "                                                                                                  \n",
      " conv5_block2_2_relu (Activatio  (None, 1, 1, 512)   0           ['conv5_block2_2_bn[0][0]']      \n",
      " n)                                                                                               \n",
      "                                                                                                  \n",
      " conv5_block2_3_conv (Conv2D)   (None, 1, 1, 2048)   1050624     ['conv5_block2_2_relu[0][0]']    \n",
      "                                                                                                  \n",
      " conv5_block2_3_bn (BatchNormal  (None, 1, 1, 2048)  8192        ['conv5_block2_3_conv[0][0]']    \n",
      " ization)                                                                                         \n",
      "                                                                                                  \n",
      " conv5_block2_add (Add)         (None, 1, 1, 2048)   0           ['conv5_block1_out[0][0]',       \n",
      "                                                                  'conv5_block2_3_bn[0][0]']      \n",
      "                                                                                                  \n",
      " conv5_block2_out (Activation)  (None, 1, 1, 2048)   0           ['conv5_block2_add[0][0]']       \n",
      "                                                                                                  \n",
      " conv5_block3_1_conv (Conv2D)   (None, 1, 1, 512)    1049088     ['conv5_block2_out[0][0]']       \n",
      "                                                                                                  \n",
      " conv5_block3_1_bn (BatchNormal  (None, 1, 1, 512)   2048        ['conv5_block3_1_conv[0][0]']    \n",
      " ization)                                                                                         \n",
      "                                                                                                  \n",
      " conv5_block3_1_relu (Activatio  (None, 1, 1, 512)   0           ['conv5_block3_1_bn[0][0]']      \n",
      " n)                                                                                               \n",
      "                                                                                                  \n",
      " conv5_block3_2_conv (Conv2D)   (None, 1, 1, 512)    2359808     ['conv5_block3_1_relu[0][0]']    \n",
      "                                                                                                  \n",
      " conv5_block3_2_bn (BatchNormal  (None, 1, 1, 512)   2048        ['conv5_block3_2_conv[0][0]']    \n",
      " ization)                                                                                         \n",
      "                                                                                                  \n",
      " conv5_block3_2_relu (Activatio  (None, 1, 1, 512)   0           ['conv5_block3_2_bn[0][0]']      \n",
      " n)                                                                                               \n",
      "                                                                                                  \n",
      " conv5_block3_3_conv (Conv2D)   (None, 1, 1, 2048)   1050624     ['conv5_block3_2_relu[0][0]']    \n",
      "                                                                                                  \n",
      " conv5_block3_3_bn (BatchNormal  (None, 1, 1, 2048)  8192        ['conv5_block3_3_conv[0][0]']    \n",
      " ization)                                                                                         \n",
      "                                                                                                  \n",
      " conv5_block3_add (Add)         (None, 1, 1, 2048)   0           ['conv5_block2_out[0][0]',       \n",
      "                                                                  'conv5_block3_3_bn[0][0]']      \n",
      "                                                                                                  \n",
      " conv5_block3_out (Activation)  (None, 1, 1, 2048)   0           ['conv5_block3_add[0][0]']       \n",
      "                                                                                                  \n",
      "==================================================================================================\n",
      "Total params: 23,587,712\n",
      "Trainable params: 23,534,592\n",
      "Non-trainable params: 53,120\n",
      "__________________________________________________________________________________________________\n"
     ]
    }
   ],
   "source": [
    "ResNet_base = tf.keras.applications.ResNet50(weights = 'imagenet', include_top = False, input_shape = (32, 32, 3))\n",
    "ResNet_base.summary()"
   ]
  },
  {
   "cell_type": "code",
   "execution_count": 57,
   "id": "600c61af",
   "metadata": {},
   "outputs": [
    {
     "name": "stdout",
     "output_type": "stream",
     "text": [
      "Model: \"sequential_8\"\n",
      "_________________________________________________________________\n",
      " Layer (type)                Output Shape              Param #   \n",
      "=================================================================\n",
      " resnet50 (Functional)       (None, 1, 1, 2048)        23587712  \n",
      "                                                                 \n",
      " flatten_9 (Flatten)         (None, 2048)              0         \n",
      "                                                                 \n",
      " dense_17 (Dense)            (None, 512)               1049088   \n",
      "                                                                 \n",
      " dropout_9 (Dropout)         (None, 512)               0         \n",
      "                                                                 \n",
      " dense_18 (Dense)            (None, 43)                22059     \n",
      "                                                                 \n",
      "=================================================================\n",
      "Total params: 24,658,859\n",
      "Trainable params: 24,605,739\n",
      "Non-trainable params: 53,120\n",
      "_________________________________________________________________\n"
     ]
    }
   ],
   "source": [
    "ResNet_model = Sequential([\n",
    "    ResNet_base,\n",
    "    \n",
    "    Flatten(),\n",
    "    Dense(512, activation = 'relu', kernel_initializer = glorot_uniform()),\n",
    "    Dropout(0.5),\n",
    "    Dense(N_CLASSES, activation = 'softmax', kernel_initializer = glorot_uniform())\n",
    "])\n",
    "\n",
    "ResNet_model.summary()"
   ]
  },
  {
   "cell_type": "code",
   "execution_count": 58,
   "id": "fcd41893",
   "metadata": {},
   "outputs": [],
   "source": [
    "ResNet_model.compile(optimizer = Adam(lr = 1e-5),\n",
    "              loss = 'categorical_crossentropy',\n",
    "              metrics = ['acc'])"
   ]
  },
  {
   "cell_type": "code",
   "execution_count": 63,
   "id": "03fe3651",
   "metadata": {},
   "outputs": [
    {
     "name": "stdout",
     "output_type": "stream",
     "text": [
      "Epoch 1/30\n",
      "123/123 [==============================] - 10s 79ms/step - loss: 0.7243 - acc: 0.7892 - val_loss: 0.6093 - val_acc: 0.8321\n",
      "Epoch 2/30\n",
      "123/123 [==============================] - 10s 79ms/step - loss: 0.5854 - acc: 0.8298 - val_loss: 0.4872 - val_acc: 0.8662\n",
      "Epoch 3/30\n",
      "123/123 [==============================] - 10s 78ms/step - loss: 0.4722 - acc: 0.8608 - val_loss: 0.4054 - val_acc: 0.8842\n",
      "Epoch 4/30\n",
      "123/123 [==============================] - 10s 79ms/step - loss: 0.3734 - acc: 0.8926 - val_loss: 0.3428 - val_acc: 0.9013\n",
      "Epoch 5/30\n",
      "123/123 [==============================] - 10s 78ms/step - loss: 0.3052 - acc: 0.9116 - val_loss: 0.2968 - val_acc: 0.9133\n",
      "Epoch 6/30\n",
      "123/123 [==============================] - 10s 78ms/step - loss: 0.2437 - acc: 0.9287 - val_loss: 0.2576 - val_acc: 0.9267\n",
      "Epoch 7/30\n",
      "123/123 [==============================] - 10s 79ms/step - loss: 0.1936 - acc: 0.9453 - val_loss: 0.2288 - val_acc: 0.9328\n",
      "Epoch 8/30\n",
      "123/123 [==============================] - 10s 80ms/step - loss: 0.1593 - acc: 0.9548 - val_loss: 0.2042 - val_acc: 0.9389\n",
      "Epoch 9/30\n",
      "123/123 [==============================] - 10s 81ms/step - loss: 0.1341 - acc: 0.9613 - val_loss: 0.1867 - val_acc: 0.9434\n",
      "Epoch 10/30\n",
      "123/123 [==============================] - 10s 81ms/step - loss: 0.1073 - acc: 0.9707 - val_loss: 0.1707 - val_acc: 0.9491\n",
      "Epoch 11/30\n",
      "123/123 [==============================] - 10s 80ms/step - loss: 0.0952 - acc: 0.9725 - val_loss: 0.1583 - val_acc: 0.9524\n",
      "Epoch 12/30\n",
      "123/123 [==============================] - 10s 80ms/step - loss: 0.0793 - acc: 0.9787 - val_loss: 0.1546 - val_acc: 0.9549\n",
      "Epoch 13/30\n",
      "123/123 [==============================] - 10s 79ms/step - loss: 0.0647 - acc: 0.9833 - val_loss: 0.1391 - val_acc: 0.9584\n",
      "Epoch 14/30\n",
      "123/123 [==============================] - 10s 78ms/step - loss: 0.0570 - acc: 0.9850 - val_loss: 0.1317 - val_acc: 0.9606\n",
      "Epoch 15/30\n",
      "123/123 [==============================] - 10s 78ms/step - loss: 0.0435 - acc: 0.9893 - val_loss: 0.1283 - val_acc: 0.9605\n",
      "Epoch 16/30\n",
      "123/123 [==============================] - 9s 77ms/step - loss: 0.0409 - acc: 0.9900 - val_loss: 0.1248 - val_acc: 0.9628\n",
      "Epoch 17/30\n",
      "123/123 [==============================] - 10s 78ms/step - loss: 0.0333 - acc: 0.9921 - val_loss: 0.1212 - val_acc: 0.9647\n",
      "Epoch 18/30\n",
      "123/123 [==============================] - 10s 79ms/step - loss: 0.0308 - acc: 0.9924 - val_loss: 0.1180 - val_acc: 0.9665\n",
      "Epoch 19/30\n",
      "123/123 [==============================] - 10s 79ms/step - loss: 0.0257 - acc: 0.9938 - val_loss: 0.1218 - val_acc: 0.9667\n",
      "Epoch 20/30\n",
      "123/123 [==============================] - 10s 79ms/step - loss: 0.0216 - acc: 0.9948 - val_loss: 0.1101 - val_acc: 0.9685\n",
      "Epoch 21/30\n",
      "123/123 [==============================] - 10s 79ms/step - loss: 0.0192 - acc: 0.9955 - val_loss: 0.1079 - val_acc: 0.9690\n",
      "Epoch 22/30\n",
      "123/123 [==============================] - 10s 79ms/step - loss: 0.0179 - acc: 0.9959 - val_loss: 0.1086 - val_acc: 0.9708\n",
      "Epoch 23/30\n",
      "123/123 [==============================] - 10s 79ms/step - loss: 0.0174 - acc: 0.9955 - val_loss: 0.1041 - val_acc: 0.9705\n",
      "Epoch 24/30\n",
      "123/123 [==============================] - 10s 79ms/step - loss: 0.0149 - acc: 0.9967 - val_loss: 0.1029 - val_acc: 0.9707\n",
      "Epoch 25/30\n",
      "123/123 [==============================] - 10s 79ms/step - loss: 0.0132 - acc: 0.9972 - val_loss: 0.1025 - val_acc: 0.9707\n",
      "Epoch 26/30\n",
      "123/123 [==============================] - 10s 79ms/step - loss: 0.0127 - acc: 0.9967 - val_loss: 0.1001 - val_acc: 0.9744\n",
      "Epoch 27/30\n",
      "123/123 [==============================] - 10s 79ms/step - loss: 0.0107 - acc: 0.9974 - val_loss: 0.0979 - val_acc: 0.9726\n",
      "Epoch 28/30\n",
      "123/123 [==============================] - 10s 79ms/step - loss: 0.0102 - acc: 0.9977 - val_loss: 0.0978 - val_acc: 0.9731\n",
      "Epoch 29/30\n",
      "123/123 [==============================] - 10s 79ms/step - loss: 0.0094 - acc: 0.9980 - val_loss: 0.1006 - val_acc: 0.9728\n",
      "Epoch 30/30\n",
      "123/123 [==============================] - 10s 79ms/step - loss: 0.0097 - acc: 0.9977 - val_loss: 0.0956 - val_acc: 0.9744\n"
     ]
    }
   ],
   "source": [
    "hist4 = ResNet_model.fit(x_train, y_train, batch_size = 256, epochs = 30, validation_data = (x_val, y_val))"
   ]
  },
  {
   "cell_type": "code",
   "execution_count": 64,
   "id": "81c999df",
   "metadata": {},
   "outputs": [
    {
     "name": "stdout",
     "output_type": "stream",
     "text": [
      "395/395 [==============================] - 5s 13ms/step - loss: 1124.9457 - acc: 0.0320\n"
     ]
    },
    {
     "data": {
      "text/plain": [
       "[1124.9456787109375, 0.03198733180761337]"
      ]
     },
     "execution_count": 64,
     "metadata": {},
     "output_type": "execute_result"
    }
   ],
   "source": [
    "ResNet_model.evaluate(x_test_orig, y_test_orig)"
   ]
  },
  {
   "cell_type": "code",
   "execution_count": 66,
   "id": "64a2c4d5",
   "metadata": {
    "scrolled": true
   },
   "outputs": [
    {
     "data": {
      "text/plain": [
       "array([[0., 0., 0., 0., 0., 0., 0., 0., 0., 0., 0., 0., 0., 0., 0., 0.,\n",
       "        0., 0., 0., 0., 0., 0., 0., 0., 0., 0., 0., 0., 0., 0., 0., 0.,\n",
       "        0., 0., 0., 1., 0., 0., 0., 0., 0., 0., 0.]], dtype=float32)"
      ]
     },
     "execution_count": 66,
     "metadata": {},
     "output_type": "execute_result"
    }
   ],
   "source": [
    "pred = ResNet_model.predict(x_test_orig)\n",
    "pred[:1]"
   ]
  },
  {
   "cell_type": "code",
   "execution_count": 71,
   "id": "087bbe1a",
   "metadata": {},
   "outputs": [
    {
     "data": {
      "text/plain": [
       "35"
      ]
     },
     "execution_count": 71,
     "metadata": {},
     "output_type": "execute_result"
    }
   ],
   "source": [
    "np.argmax(pred[0])"
   ]
  },
  {
   "cell_type": "markdown",
   "id": "ae70834b",
   "metadata": {},
   "source": [
    "### 총 43개의 Classes"
   ]
  },
  {
   "cell_type": "code",
   "execution_count": 165,
   "id": "8b4bbe6e",
   "metadata": {
    "scrolled": true
   },
   "outputs": [],
   "source": [
    "df_all = pd.DataFrame(columns = df.columns)\n",
    "path = \"C:/workspace/Data/Traffic-Sign/Train/Images/\"\n",
    "for i in range(43):\n",
    "    dir = path + format(i, '05d') + '/'\n",
    "    dir2  = dir + 'GT-' + format(i, '05d') + '.csv'\n",
    "    df = pd.read_csv(dir2,  sep = ';')\n",
    "    if i == 0:\n",
    "         df_all = pd.DataFrame(columns = df.columns)\n",
    "    df_all = pd.concat([df_all,df])"
   ]
  },
  {
   "cell_type": "code",
   "execution_count": 166,
   "id": "4ee31d61",
   "metadata": {},
   "outputs": [
    {
     "data": {
      "text/html": [
       "<div>\n",
       "<style scoped>\n",
       "    .dataframe tbody tr th:only-of-type {\n",
       "        vertical-align: middle;\n",
       "    }\n",
       "\n",
       "    .dataframe tbody tr th {\n",
       "        vertical-align: top;\n",
       "    }\n",
       "\n",
       "    .dataframe thead th {\n",
       "        text-align: right;\n",
       "    }\n",
       "</style>\n",
       "<table border=\"1\" class=\"dataframe\">\n",
       "  <thead>\n",
       "    <tr style=\"text-align: right;\">\n",
       "      <th></th>\n",
       "      <th>Filename</th>\n",
       "      <th>Width</th>\n",
       "      <th>Height</th>\n",
       "      <th>Roi.X1</th>\n",
       "      <th>Roi.Y1</th>\n",
       "      <th>Roi.X2</th>\n",
       "      <th>Roi.Y2</th>\n",
       "      <th>ClassId</th>\n",
       "    </tr>\n",
       "  </thead>\n",
       "  <tbody>\n",
       "    <tr>\n",
       "      <th>0</th>\n",
       "      <td>00000_00000.ppm</td>\n",
       "      <td>29</td>\n",
       "      <td>30</td>\n",
       "      <td>5</td>\n",
       "      <td>6</td>\n",
       "      <td>24</td>\n",
       "      <td>25</td>\n",
       "      <td>0</td>\n",
       "    </tr>\n",
       "    <tr>\n",
       "      <th>1</th>\n",
       "      <td>00000_00001.ppm</td>\n",
       "      <td>30</td>\n",
       "      <td>30</td>\n",
       "      <td>5</td>\n",
       "      <td>5</td>\n",
       "      <td>25</td>\n",
       "      <td>25</td>\n",
       "      <td>0</td>\n",
       "    </tr>\n",
       "    <tr>\n",
       "      <th>2</th>\n",
       "      <td>00000_00002.ppm</td>\n",
       "      <td>30</td>\n",
       "      <td>30</td>\n",
       "      <td>5</td>\n",
       "      <td>5</td>\n",
       "      <td>25</td>\n",
       "      <td>25</td>\n",
       "      <td>0</td>\n",
       "    </tr>\n",
       "    <tr>\n",
       "      <th>3</th>\n",
       "      <td>00000_00003.ppm</td>\n",
       "      <td>31</td>\n",
       "      <td>31</td>\n",
       "      <td>5</td>\n",
       "      <td>5</td>\n",
       "      <td>26</td>\n",
       "      <td>26</td>\n",
       "      <td>0</td>\n",
       "    </tr>\n",
       "    <tr>\n",
       "      <th>4</th>\n",
       "      <td>00000_00004.ppm</td>\n",
       "      <td>30</td>\n",
       "      <td>32</td>\n",
       "      <td>5</td>\n",
       "      <td>6</td>\n",
       "      <td>25</td>\n",
       "      <td>26</td>\n",
       "      <td>0</td>\n",
       "    </tr>\n",
       "    <tr>\n",
       "      <th>...</th>\n",
       "      <td>...</td>\n",
       "      <td>...</td>\n",
       "      <td>...</td>\n",
       "      <td>...</td>\n",
       "      <td>...</td>\n",
       "      <td>...</td>\n",
       "      <td>...</td>\n",
       "      <td>...</td>\n",
       "    </tr>\n",
       "    <tr>\n",
       "      <th>235</th>\n",
       "      <td>00007_00025.ppm</td>\n",
       "      <td>52</td>\n",
       "      <td>56</td>\n",
       "      <td>5</td>\n",
       "      <td>6</td>\n",
       "      <td>47</td>\n",
       "      <td>51</td>\n",
       "      <td>42</td>\n",
       "    </tr>\n",
       "    <tr>\n",
       "      <th>236</th>\n",
       "      <td>00007_00026.ppm</td>\n",
       "      <td>56</td>\n",
       "      <td>58</td>\n",
       "      <td>5</td>\n",
       "      <td>5</td>\n",
       "      <td>51</td>\n",
       "      <td>53</td>\n",
       "      <td>42</td>\n",
       "    </tr>\n",
       "    <tr>\n",
       "      <th>237</th>\n",
       "      <td>00007_00027.ppm</td>\n",
       "      <td>58</td>\n",
       "      <td>62</td>\n",
       "      <td>5</td>\n",
       "      <td>6</td>\n",
       "      <td>53</td>\n",
       "      <td>57</td>\n",
       "      <td>42</td>\n",
       "    </tr>\n",
       "    <tr>\n",
       "      <th>238</th>\n",
       "      <td>00007_00028.ppm</td>\n",
       "      <td>63</td>\n",
       "      <td>69</td>\n",
       "      <td>5</td>\n",
       "      <td>7</td>\n",
       "      <td>58</td>\n",
       "      <td>63</td>\n",
       "      <td>42</td>\n",
       "    </tr>\n",
       "    <tr>\n",
       "      <th>239</th>\n",
       "      <td>00007_00029.ppm</td>\n",
       "      <td>68</td>\n",
       "      <td>69</td>\n",
       "      <td>7</td>\n",
       "      <td>6</td>\n",
       "      <td>62</td>\n",
       "      <td>63</td>\n",
       "      <td>42</td>\n",
       "    </tr>\n",
       "  </tbody>\n",
       "</table>\n",
       "<p>39209 rows × 8 columns</p>\n",
       "</div>"
      ],
      "text/plain": [
       "            Filename Width Height Roi.X1 Roi.Y1 Roi.X2 Roi.Y2 ClassId\n",
       "0    00000_00000.ppm    29     30      5      6     24     25       0\n",
       "1    00000_00001.ppm    30     30      5      5     25     25       0\n",
       "2    00000_00002.ppm    30     30      5      5     25     25       0\n",
       "3    00000_00003.ppm    31     31      5      5     26     26       0\n",
       "4    00000_00004.ppm    30     32      5      6     25     26       0\n",
       "..               ...   ...    ...    ...    ...    ...    ...     ...\n",
       "235  00007_00025.ppm    52     56      5      6     47     51      42\n",
       "236  00007_00026.ppm    56     58      5      5     51     53      42\n",
       "237  00007_00027.ppm    58     62      5      6     53     57      42\n",
       "238  00007_00028.ppm    63     69      5      7     58     63      42\n",
       "239  00007_00029.ppm    68     69      7      6     62     63      42\n",
       "\n",
       "[39209 rows x 8 columns]"
      ]
     },
     "execution_count": 166,
     "metadata": {},
     "output_type": "execute_result"
    }
   ],
   "source": [
    "df_all"
   ]
  },
  {
   "cell_type": "code",
   "execution_count": null,
   "id": "2804e80c",
   "metadata": {},
   "outputs": [],
   "source": []
  },
  {
   "cell_type": "code",
   "execution_count": 91,
   "id": "307880a7",
   "metadata": {},
   "outputs": [
    {
     "name": "stderr",
     "output_type": "stream",
     "text": [
      "C:\\Users\\User\\anaconda3\\lib\\site-packages\\matplotlib\\text.py:1215: FutureWarning: elementwise comparison failed; returning scalar instead, but in the future will perform elementwise comparison\n",
      "  if s != self._text:\n"
     ]
    },
    {
     "data": {
      "image/png": "[encoded data removed]",
      "text/plain": [
       "<Figure size 720x720 with 1 Axes>"
      ]
     },
     "metadata": {
      "needs_background": "light"
     },
     "output_type": "display_data"
    }
   ],
   "source": [
    "plt.figure(figsize = (10, 10))\n",
    "\n",
    "\n",
    "plt.imshow(x_train_orig[random_array[90]].astype(np.uint32))\n",
    "plt.title(y_train_orig[random_array[90]])\n",
    "plt.axis('off')\n",
    "plt.show()"
   ]
  },
  {
   "cell_type": "code",
   "execution_count": 87,
   "id": "da8d1041",
   "metadata": {},
   "outputs": [
    {
     "data": {
      "text/plain": [
       "array([ 2354, 21972, 23021,  6480,  6374,  4918, 31749, 23794, 32174,\n",
       "       11528, 29415,   917, 25267, 25209, 33550, 38445, 15961, 29523,\n",
       "        6412, 36963,  6011, 24721, 24152,   514,  9377, 31257, 23660,\n",
       "       15028,  7167, 15219, 10665, 23865, 10826,  2594, 26594, 20968,\n",
       "        5183, 22979,  3616, 36498, 35596, 33333, 35382,  7122, 23235,\n",
       "        5367, 12084, 32702, 13099, 29373, 28619, 25826, 32008, 31932,\n",
       "        2219, 18469,  2272, 35682,  1239, 32680, 28738, 24532, 15868,\n",
       "       19303, 16950, 28440, 25405, 39031, 19261,  5851, 27452,  1960,\n",
       "        3450, 31127, 23917, 38582,  5353, 11386, 19717, 19670, 14128,\n",
       "       10177, 38779, 36092, 24784, 13307, 17939, 16664, 27380, 27269,\n",
       "       29481, 22417, 25687, 34406,  9266,   699, 37997, 29252, 32459,\n",
       "       25132])"
      ]
     },
     "execution_count": 87,
     "metadata": {},
     "output_type": "execute_result"
    }
   ],
   "source": [
    "random_array = np.random.randint(len(x_train_orig), size = 100)\n",
    "random_array"
   ]
  },
  {
   "cell_type": "code",
   "execution_count": 89,
   "id": "053035e6",
   "metadata": {},
   "outputs": [
    {
     "ename": "TypeError",
     "evalue": "Invalid shape (32, 3, 32) for image data",
     "output_type": "error",
     "traceback": [
      "\u001b[1;31m---------------------------------------------------------------------------\u001b[0m",
      "\u001b[1;31mTypeError\u001b[0m                                 Traceback (most recent call last)",
      "\u001b[1;32m~\\AppData\\Local\\Temp/ipykernel_10792/2668623123.py\u001b[0m in \u001b[0;36m<module>\u001b[1;34m\u001b[0m\n\u001b[0;32m      7\u001b[0m     \u001b[0max\u001b[0m \u001b[1;33m=\u001b[0m \u001b[0mplt\u001b[0m\u001b[1;33m.\u001b[0m\u001b[0msubplot\u001b[0m\u001b[1;33m(\u001b[0m\u001b[1;36m10\u001b[0m\u001b[1;33m,\u001b[0m \u001b[1;36m10\u001b[0m\u001b[1;33m,\u001b[0m \u001b[0mi\u001b[0m\u001b[1;33m+\u001b[0m\u001b[1;36m1\u001b[0m\u001b[1;33m)\u001b[0m\u001b[1;33m\u001b[0m\u001b[1;33m\u001b[0m\u001b[0m\n\u001b[0;32m      8\u001b[0m     \u001b[0mimg\u001b[0m \u001b[1;33m=\u001b[0m \u001b[0mnp\u001b[0m\u001b[1;33m.\u001b[0m\u001b[0mrollaxis\u001b[0m\u001b[1;33m(\u001b[0m\u001b[0mx_train_orig\u001b[0m\u001b[1;33m[\u001b[0m\u001b[0mrandom_array\u001b[0m\u001b[1;33m[\u001b[0m\u001b[0mi\u001b[0m\u001b[1;33m]\u001b[0m\u001b[1;33m]\u001b[0m\u001b[1;33m.\u001b[0m\u001b[0mastype\u001b[0m\u001b[1;33m(\u001b[0m\u001b[0mnp\u001b[0m\u001b[1;33m.\u001b[0m\u001b[0muint32\u001b[0m\u001b[1;33m)\u001b[0m\u001b[1;33m,\u001b[0m \u001b[1;36m0\u001b[0m\u001b[1;33m,\u001b[0m \u001b[1;36m3\u001b[0m\u001b[1;33m)\u001b[0m\u001b[1;33m\u001b[0m\u001b[1;33m\u001b[0m\u001b[0m\n\u001b[1;32m----> 9\u001b[1;33m     \u001b[0max\u001b[0m \u001b[1;33m=\u001b[0m \u001b[0mplt\u001b[0m\u001b[1;33m.\u001b[0m\u001b[0mimshow\u001b[0m\u001b[1;33m(\u001b[0m\u001b[0mimg\u001b[0m\u001b[1;33m,\u001b[0m \u001b[0mcmap\u001b[0m \u001b[1;33m=\u001b[0m \u001b[1;34m'gray'\u001b[0m\u001b[1;33m)\u001b[0m\u001b[1;33m\u001b[0m\u001b[1;33m\u001b[0m\u001b[0m\n\u001b[0m\u001b[0;32m     10\u001b[0m     \u001b[0mplt\u001b[0m\u001b[1;33m.\u001b[0m\u001b[0mtitle\u001b[0m\u001b[1;33m(\u001b[0m\u001b[0my_train_orig\u001b[0m\u001b[1;33m[\u001b[0m\u001b[0mrandom_array\u001b[0m\u001b[1;33m[\u001b[0m\u001b[0mi\u001b[0m\u001b[1;33m]\u001b[0m\u001b[1;33m]\u001b[0m\u001b[1;33m)\u001b[0m\u001b[1;33m\u001b[0m\u001b[1;33m\u001b[0m\u001b[0m\n\u001b[0;32m     11\u001b[0m     \u001b[0mplt\u001b[0m\u001b[1;33m.\u001b[0m\u001b[0mxticks\u001b[0m\u001b[1;33m(\u001b[0m\u001b[1;33m[\u001b[0m\u001b[1;33m]\u001b[0m\u001b[1;33m)\u001b[0m\u001b[1;33m\u001b[0m\u001b[1;33m\u001b[0m\u001b[0m\n",
      "\u001b[1;32m~\\anaconda3\\lib\\site-packages\\matplotlib\\pyplot.py\u001b[0m in \u001b[0;36mimshow\u001b[1;34m(X, cmap, norm, aspect, interpolation, alpha, vmin, vmax, origin, extent, filternorm, filterrad, resample, url, data, **kwargs)\u001b[0m\n\u001b[0;32m   2901\u001b[0m         \u001b[0mfilternorm\u001b[0m\u001b[1;33m=\u001b[0m\u001b[1;32mTrue\u001b[0m\u001b[1;33m,\u001b[0m \u001b[0mfilterrad\u001b[0m\u001b[1;33m=\u001b[0m\u001b[1;36m4.0\u001b[0m\u001b[1;33m,\u001b[0m \u001b[0mresample\u001b[0m\u001b[1;33m=\u001b[0m\u001b[1;32mNone\u001b[0m\u001b[1;33m,\u001b[0m \u001b[0murl\u001b[0m\u001b[1;33m=\u001b[0m\u001b[1;32mNone\u001b[0m\u001b[1;33m,\u001b[0m\u001b[1;33m\u001b[0m\u001b[1;33m\u001b[0m\u001b[0m\n\u001b[0;32m   2902\u001b[0m         data=None, **kwargs):\n\u001b[1;32m-> 2903\u001b[1;33m     __ret = gca().imshow(\n\u001b[0m\u001b[0;32m   2904\u001b[0m         \u001b[0mX\u001b[0m\u001b[1;33m,\u001b[0m \u001b[0mcmap\u001b[0m\u001b[1;33m=\u001b[0m\u001b[0mcmap\u001b[0m\u001b[1;33m,\u001b[0m \u001b[0mnorm\u001b[0m\u001b[1;33m=\u001b[0m\u001b[0mnorm\u001b[0m\u001b[1;33m,\u001b[0m \u001b[0maspect\u001b[0m\u001b[1;33m=\u001b[0m\u001b[0maspect\u001b[0m\u001b[1;33m,\u001b[0m\u001b[1;33m\u001b[0m\u001b[1;33m\u001b[0m\u001b[0m\n\u001b[0;32m   2905\u001b[0m         \u001b[0minterpolation\u001b[0m\u001b[1;33m=\u001b[0m\u001b[0minterpolation\u001b[0m\u001b[1;33m,\u001b[0m \u001b[0malpha\u001b[0m\u001b[1;33m=\u001b[0m\u001b[0malpha\u001b[0m\u001b[1;33m,\u001b[0m \u001b[0mvmin\u001b[0m\u001b[1;33m=\u001b[0m\u001b[0mvmin\u001b[0m\u001b[1;33m,\u001b[0m\u001b[1;33m\u001b[0m\u001b[1;33m\u001b[0m\u001b[0m\n",
      "\u001b[1;32m~\\anaconda3\\lib\\site-packages\\matplotlib\\__init__.py\u001b[0m in \u001b[0;36minner\u001b[1;34m(ax, data, *args, **kwargs)\u001b[0m\n\u001b[0;32m   1359\u001b[0m     \u001b[1;32mdef\u001b[0m \u001b[0minner\u001b[0m\u001b[1;33m(\u001b[0m\u001b[0max\u001b[0m\u001b[1;33m,\u001b[0m \u001b[1;33m*\u001b[0m\u001b[0margs\u001b[0m\u001b[1;33m,\u001b[0m \u001b[0mdata\u001b[0m\u001b[1;33m=\u001b[0m\u001b[1;32mNone\u001b[0m\u001b[1;33m,\u001b[0m \u001b[1;33m**\u001b[0m\u001b[0mkwargs\u001b[0m\u001b[1;33m)\u001b[0m\u001b[1;33m:\u001b[0m\u001b[1;33m\u001b[0m\u001b[1;33m\u001b[0m\u001b[0m\n\u001b[0;32m   1360\u001b[0m         \u001b[1;32mif\u001b[0m \u001b[0mdata\u001b[0m \u001b[1;32mis\u001b[0m \u001b[1;32mNone\u001b[0m\u001b[1;33m:\u001b[0m\u001b[1;33m\u001b[0m\u001b[1;33m\u001b[0m\u001b[0m\n\u001b[1;32m-> 1361\u001b[1;33m             \u001b[1;32mreturn\u001b[0m \u001b[0mfunc\u001b[0m\u001b[1;33m(\u001b[0m\u001b[0max\u001b[0m\u001b[1;33m,\u001b[0m \u001b[1;33m*\u001b[0m\u001b[0mmap\u001b[0m\u001b[1;33m(\u001b[0m\u001b[0msanitize_sequence\u001b[0m\u001b[1;33m,\u001b[0m \u001b[0margs\u001b[0m\u001b[1;33m)\u001b[0m\u001b[1;33m,\u001b[0m \u001b[1;33m**\u001b[0m\u001b[0mkwargs\u001b[0m\u001b[1;33m)\u001b[0m\u001b[1;33m\u001b[0m\u001b[1;33m\u001b[0m\u001b[0m\n\u001b[0m\u001b[0;32m   1362\u001b[0m \u001b[1;33m\u001b[0m\u001b[0m\n\u001b[0;32m   1363\u001b[0m         \u001b[0mbound\u001b[0m \u001b[1;33m=\u001b[0m \u001b[0mnew_sig\u001b[0m\u001b[1;33m.\u001b[0m\u001b[0mbind\u001b[0m\u001b[1;33m(\u001b[0m\u001b[0max\u001b[0m\u001b[1;33m,\u001b[0m \u001b[1;33m*\u001b[0m\u001b[0margs\u001b[0m\u001b[1;33m,\u001b[0m \u001b[1;33m**\u001b[0m\u001b[0mkwargs\u001b[0m\u001b[1;33m)\u001b[0m\u001b[1;33m\u001b[0m\u001b[1;33m\u001b[0m\u001b[0m\n",
      "\u001b[1;32m~\\anaconda3\\lib\\site-packages\\matplotlib\\axes\\_axes.py\u001b[0m in \u001b[0;36mimshow\u001b[1;34m(self, X, cmap, norm, aspect, interpolation, alpha, vmin, vmax, origin, extent, filternorm, filterrad, resample, url, **kwargs)\u001b[0m\n\u001b[0;32m   5607\u001b[0m                               resample=resample, **kwargs)\n\u001b[0;32m   5608\u001b[0m \u001b[1;33m\u001b[0m\u001b[0m\n\u001b[1;32m-> 5609\u001b[1;33m         \u001b[0mim\u001b[0m\u001b[1;33m.\u001b[0m\u001b[0mset_data\u001b[0m\u001b[1;33m(\u001b[0m\u001b[0mX\u001b[0m\u001b[1;33m)\u001b[0m\u001b[1;33m\u001b[0m\u001b[1;33m\u001b[0m\u001b[0m\n\u001b[0m\u001b[0;32m   5610\u001b[0m         \u001b[0mim\u001b[0m\u001b[1;33m.\u001b[0m\u001b[0mset_alpha\u001b[0m\u001b[1;33m(\u001b[0m\u001b[0malpha\u001b[0m\u001b[1;33m)\u001b[0m\u001b[1;33m\u001b[0m\u001b[1;33m\u001b[0m\u001b[0m\n\u001b[0;32m   5611\u001b[0m         \u001b[1;32mif\u001b[0m \u001b[0mim\u001b[0m\u001b[1;33m.\u001b[0m\u001b[0mget_clip_path\u001b[0m\u001b[1;33m(\u001b[0m\u001b[1;33m)\u001b[0m \u001b[1;32mis\u001b[0m \u001b[1;32mNone\u001b[0m\u001b[1;33m:\u001b[0m\u001b[1;33m\u001b[0m\u001b[1;33m\u001b[0m\u001b[0m\n",
      "\u001b[1;32m~\\anaconda3\\lib\\site-packages\\matplotlib\\image.py\u001b[0m in \u001b[0;36mset_data\u001b[1;34m(self, A)\u001b[0m\n\u001b[0;32m    707\u001b[0m         if not (self._A.ndim == 2\n\u001b[0;32m    708\u001b[0m                 or self._A.ndim == 3 and self._A.shape[-1] in [3, 4]):\n\u001b[1;32m--> 709\u001b[1;33m             raise TypeError(\"Invalid shape {} for image data\"\n\u001b[0m\u001b[0;32m    710\u001b[0m                             .format(self._A.shape))\n\u001b[0;32m    711\u001b[0m \u001b[1;33m\u001b[0m\u001b[0m\n",
      "\u001b[1;31mTypeError\u001b[0m: Invalid shape (32, 3, 32) for image data"
     ]
    },
    {
     "data": {
      "image/png": "[encoded data removed]",
      "text/plain": [
       "<Figure size 1440x1440 with 1 Axes>"
      ]
     },
     "metadata": {
      "needs_background": "light"
     },
     "output_type": "display_data"
    }
   ],
   "source": [
    "grids = (10, 10)\n",
    "counter = 0\n",
    "\n",
    "plt.figure(figsize = (20, 20))\n",
    "\n",
    "for i in range(0, 100):\n",
    "    ax = plt.subplot(10, 10, i+1)\n",
    "    img = np.rollaxis(x_train_orig[random_array[i]].astype(np.uint32), 0, 3)\n",
    "    ax = plt.imshow(img, cmap = 'gray')\n",
    "    plt.title(y_train_orig[random_array[i]])\n",
    "    plt.xticks([])\n",
    "    plt.yticks([])\n",
    "    \n",
    "plt.show()"
   ]
  },
  {
   "cell_type": "code",
   "execution_count": null,
   "id": "9a45d5b2",
   "metadata": {},
   "outputs": [],
   "source": []
  }
 ],
 "metadata": {
  "kernelspec": {
   "display_name": "Python 3 (ipykernel)",
   "language": "python",
   "name": "python3"
  },
  "language_info": {
   "codemirror_mode": {
    "name": "ipython",
    "version": 3
   },
   "file_extension": ".py",
   "mimetype": "text/x-python",
   "name": "python",
   "nbconvert_exporter": "python",
   "pygments_lexer": "ipython3",
   "version": "3.9.7"
  },
  "toc": {
   "base_numbering": 1,
   "nav_menu": {},
   "number_sections": true,
   "sideBar": true,
   "skip_h1_title": false,
   "title_cell": "Table of Contents",
   "title_sidebar": "Contents",
   "toc_cell": false,
   "toc_position": {
    "height": "calc(100% - 180px)",
    "left": "10px",
    "top": "150px",
    "width": "203.2px"
   },
   "toc_section_display": true,
   "toc_window_display": true
  },
  "varInspector": {
   "cols": {
    "lenName": 16,
    "lenType": 16,
    "lenVar": 40
   },
   "kernels_config": {
    "python": {
     "delete_cmd_postfix": "",
     "delete_cmd_prefix": "del ",
     "library": "var_list.py",
     "varRefreshCmd": "print(var_dic_list())"
    },
    "r": {
     "delete_cmd_postfix": ") ",
     "delete_cmd_prefix": "rm(",
     "library": "var_list.r",
     "varRefreshCmd": "cat(var_dic_list()) "
    }
   },
   "types_to_exclude": [
    "module",
    "function",
    "builtin_function_or_method",
    "instance",
    "_Feature"
   ],
   "window_display": false
  }
 },
 "nbformat": 4,
 "nbformat_minor": 5
}
