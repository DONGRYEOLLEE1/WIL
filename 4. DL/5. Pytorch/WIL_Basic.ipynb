{
 "cells": [
  {
   "cell_type": "markdown",
   "id": "22544fe3",
   "metadata": {},
   "source": [
    "# 파이토치(PyTorch)\n",
    "\n",
    "<img src=\"https://img1.daumcdn.net/thumb/R800x0/?scode=mtistory2&fname=https%3A%2F%2Fblog.kakaocdn.net%2Fdn%2FbuUgoV%2FbtqwWZvcHHX%2Fd6XzIFBEfiuFb0UvyV4A50%2Fimg.jpg\" width=\"300\">\n",
    "\n",
    "- 코드 출처: https://pytorch.org/tutorials/"
   ]
  },
  {
   "cell_type": "markdown",
   "id": "21b3fa2e",
   "metadata": {},
   "source": [
    "## 파이토치의 구성요소\n",
    "\n",
    "- `torch`: 텐서를 생성하는 라이브러리\n",
    "\n",
    "- `torch.autograd`: 자동미분 기능을 제공하는 라이브러리\n",
    "\n",
    "- `torch.nn`: 신경망을 생성하는 라이브러리\n",
    "\n",
    "- `torch.multiprocessing`: 병럴처리 기능을 제공하는 라이브러리\n",
    "\n",
    "- `torch.utils`: 데이터 조작 등 유틸리티 기능 제공\n",
    "\n",
    "- `torch.legacy`(./nn/.optim): Torch로부터 포팅해온 코드\n",
    "\n",
    "- `torch.onnx`: ONNX(Open Neural Network Exchange)\n",
    "\n",
    "  - 서로 다른 프레임워크 간의 딥러닝 모델을 공유할 때 사용"
   ]
  },
  {
   "cell_type": "markdown",
   "id": "9d2f4461",
   "metadata": {},
   "source": [
    "## 텐서(Tensors)\n",
    "- 넘파이(NumPy)의 ndarray(n-dimensional array)와 유사\n",
    "\n",
    "- GPU를 사용한 연산 가속도 가능"
   ]
  },
  {
   "cell_type": "code",
   "execution_count": 16,
   "id": "5a670414",
   "metadata": {},
   "outputs": [],
   "source": [
    "## pyplot작동시킬때, numpy와 다른 library간의 충돌로 인해 kernel dead  >> 해결방법\n",
    "import os\n",
    "os.environ['KMP_DUPLICATE_LIB_OK']='True'"
   ]
  },
  {
   "cell_type": "code",
   "execution_count": 17,
   "id": "76be0d8a",
   "metadata": {
    "ExecuteTime": {
     "end_time": "2021-11-23T02:16:37.522739Z",
     "start_time": "2021-11-23T02:16:36.902445Z"
    }
   },
   "outputs": [],
   "source": [
    "import torch"
   ]
  },
  {
   "cell_type": "code",
   "execution_count": 18,
   "id": "c4d3ca5c",
   "metadata": {
    "ExecuteTime": {
     "end_time": "2021-11-23T02:16:37.569462Z",
     "start_time": "2021-11-23T02:16:37.554498Z"
    }
   },
   "outputs": [
    {
     "data": {
      "text/plain": [
       "'1.10.0+cu113'"
      ]
     },
     "execution_count": 18,
     "metadata": {},
     "output_type": "execute_result"
    }
   ],
   "source": [
    "torch.__version__"
   ]
  },
  {
   "cell_type": "markdown",
   "id": "c60e816b",
   "metadata": {},
   "source": [
    "### 초기화 되지 않은 행렬 "
   ]
  },
  {
   "cell_type": "code",
   "execution_count": 19,
   "id": "89a23b06",
   "metadata": {
    "ExecuteTime": {
     "end_time": "2021-11-23T02:16:37.615335Z",
     "start_time": "2021-11-23T02:16:37.601374Z"
    }
   },
   "outputs": [
    {
     "name": "stdout",
     "output_type": "stream",
     "text": [
      "tensor([[4.2096e+21, 1.7014e-04],\n",
      "        [1.7681e-04, 3.3977e+21],\n",
      "        [4.3914e-05, 2.1159e+23],\n",
      "        [1.0478e+21, 6.6817e+22]])\n"
     ]
    }
   ],
   "source": [
    "x = torch.empty(4, 2)\n",
    "print(x) "
   ]
  },
  {
   "cell_type": "markdown",
   "id": "aa4801aa",
   "metadata": {},
   "source": [
    "### 무작위로 초기화된 행렬"
   ]
  },
  {
   "cell_type": "code",
   "execution_count": 20,
   "id": "6d10e3fe",
   "metadata": {
    "ExecuteTime": {
     "end_time": "2021-11-23T02:16:37.631293Z",
     "start_time": "2021-11-23T02:16:37.616333Z"
    }
   },
   "outputs": [
    {
     "name": "stdout",
     "output_type": "stream",
     "text": [
      "tensor([[0.4943, 0.5381],\n",
      "        [0.6805, 0.6299],\n",
      "        [0.4529, 0.5354],\n",
      "        [0.8725, 0.1413]])\n"
     ]
    }
   ],
   "source": [
    "x = torch.rand(4, 2)\n",
    "print(x)"
   ]
  },
  {
   "cell_type": "markdown",
   "id": "99de93c1",
   "metadata": {},
   "source": [
    "### dtype이 long, 0으로 채워진 텐서"
   ]
  },
  {
   "cell_type": "code",
   "execution_count": 21,
   "id": "7106f02b",
   "metadata": {
    "ExecuteTime": {
     "end_time": "2021-11-23T02:16:37.679202Z",
     "start_time": "2021-11-23T02:16:37.664205Z"
    }
   },
   "outputs": [
    {
     "name": "stdout",
     "output_type": "stream",
     "text": [
      "tensor([[0, 0],\n",
      "        [0, 0],\n",
      "        [0, 0],\n",
      "        [0, 0]])\n"
     ]
    }
   ],
   "source": [
    "x = torch.zeros(4, 2, dtype = torch.long)\n",
    "print(x)"
   ]
  },
  {
   "cell_type": "code",
   "execution_count": 22,
   "id": "618ef0be",
   "metadata": {
    "ExecuteTime": {
     "end_time": "2021-11-23T02:16:37.695155Z",
     "start_time": "2021-11-23T02:16:37.680163Z"
    }
   },
   "outputs": [
    {
     "name": "stdout",
     "output_type": "stream",
     "text": [
      "tensor([3.0000, 2.3000])\n"
     ]
    }
   ],
   "source": [
    "x = torch.tensor([3, 2.3])\n",
    "print(x)"
   ]
  },
  {
   "cell_type": "code",
   "execution_count": 23,
   "id": "e94bd32d",
   "metadata": {
    "ExecuteTime": {
     "end_time": "2021-11-23T02:16:37.711113Z",
     "start_time": "2021-11-23T02:16:37.696120Z"
    }
   },
   "outputs": [
    {
     "name": "stdout",
     "output_type": "stream",
     "text": [
      "tensor([[1., 1., 1., 1.],\n",
      "        [1., 1., 1., 1.]], dtype=torch.float64)\n"
     ]
    }
   ],
   "source": [
    "x = x.new_ones(2, 4, dtype = torch.double)\n",
    "print(x)\n",
    "\n",
    "## torch.double >> 'float64'"
   ]
  },
  {
   "cell_type": "code",
   "execution_count": 24,
   "id": "af58e183",
   "metadata": {
    "ExecuteTime": {
     "end_time": "2021-11-23T02:16:37.727071Z",
     "start_time": "2021-11-23T02:16:37.712077Z"
    }
   },
   "outputs": [
    {
     "name": "stdout",
     "output_type": "stream",
     "text": [
      "tensor([[ 0.1001,  0.8980,  2.1432, -0.4820],\n",
      "        [ 1.5861,  0.8017,  1.0558, -0.0939]])\n"
     ]
    }
   ],
   "source": [
    "x = torch.randn_like(x, dtype = torch.float)\n",
    "print(x)\n",
    "\n",
    "## 모양은 그대로 가져오되 랜덤으로 값을 채움"
   ]
  },
  {
   "cell_type": "markdown",
   "id": "873907c1",
   "metadata": {},
   "source": [
    "### 텐서의 크기"
   ]
  },
  {
   "cell_type": "code",
   "execution_count": 25,
   "id": "faca56a4",
   "metadata": {
    "ExecuteTime": {
     "end_time": "2021-11-23T02:16:37.804830Z",
     "start_time": "2021-11-23T02:16:37.790868Z"
    }
   },
   "outputs": [
    {
     "name": "stdout",
     "output_type": "stream",
     "text": [
      "torch.Size([2, 4])\n"
     ]
    }
   ],
   "source": [
    "print(x.size())"
   ]
  },
  {
   "cell_type": "markdown",
   "id": "10e36689",
   "metadata": {},
   "source": [
    "## 텐서의 연산(operations)"
   ]
  },
  {
   "cell_type": "markdown",
   "id": "99332e76",
   "metadata": {},
   "source": [
    "### 덧셈 1"
   ]
  },
  {
   "cell_type": "code",
   "execution_count": 26,
   "id": "3395479d",
   "metadata": {
    "ExecuteTime": {
     "end_time": "2021-11-23T02:16:37.945496Z",
     "start_time": "2021-11-23T02:16:37.930493Z"
    }
   },
   "outputs": [
    {
     "name": "stdout",
     "output_type": "stream",
     "text": [
      "tensor([[ 0.1001,  0.8980,  2.1432, -0.4820],\n",
      "        [ 1.5861,  0.8017,  1.0558, -0.0939]])\n"
     ]
    }
   ],
   "source": [
    "print(x)"
   ]
  },
  {
   "cell_type": "code",
   "execution_count": 27,
   "id": "9dd3e5c6",
   "metadata": {
    "ExecuteTime": {
     "end_time": "2021-11-23T02:16:37.961410Z",
     "start_time": "2021-11-23T02:16:37.946450Z"
    }
   },
   "outputs": [
    {
     "name": "stdout",
     "output_type": "stream",
     "text": [
      "tensor([[0.9576, 0.6982, 0.1943, 0.1381],\n",
      "        [0.7844, 0.0186, 0.5908, 0.1668]])\n",
      "tensor([[ 1.0578,  1.5962,  2.3375, -0.3439],\n",
      "        [ 2.3705,  0.8204,  1.6467,  0.0729]])\n"
     ]
    }
   ],
   "source": [
    "y = torch.rand(2, 4)\n",
    "print(y)\n",
    "print(x + y)"
   ]
  },
  {
   "cell_type": "markdown",
   "id": "31b9304a",
   "metadata": {},
   "source": [
    "### 덧셈2"
   ]
  },
  {
   "cell_type": "code",
   "execution_count": 28,
   "id": "bea54bee",
   "metadata": {
    "ExecuteTime": {
     "end_time": "2021-11-23T02:16:37.977367Z",
     "start_time": "2021-11-23T02:16:37.970386Z"
    }
   },
   "outputs": [
    {
     "name": "stdout",
     "output_type": "stream",
     "text": [
      "tensor([[ 1.0578,  1.5962,  2.3375, -0.3439],\n",
      "        [ 2.3705,  0.8204,  1.6467,  0.0729]])\n"
     ]
    }
   ],
   "source": [
    "print(torch.add(x, y))"
   ]
  },
  {
   "cell_type": "markdown",
   "id": "27c92cf2",
   "metadata": {},
   "source": [
    "### 덧셈3\n",
    "- 결과 텐서를 인자로 제공"
   ]
  },
  {
   "cell_type": "code",
   "execution_count": 29,
   "id": "72c2e2d2",
   "metadata": {
    "ExecuteTime": {
     "end_time": "2021-11-23T02:16:38.057154Z",
     "start_time": "2021-11-23T02:16:38.039202Z"
    }
   },
   "outputs": [
    {
     "name": "stdout",
     "output_type": "stream",
     "text": [
      "tensor([[ 1.0578,  1.5962,  2.3375, -0.3439],\n",
      "        [ 2.3705,  0.8204,  1.6467,  0.0729]])\n"
     ]
    }
   ],
   "source": [
    "result = torch.empty(2, 4)\n",
    "torch.add(x, y, out = result)\n",
    "print(result)\n",
    "\n",
    "## x + y 값을 'result'값으로 재지정"
   ]
  },
  {
   "cell_type": "markdown",
   "id": "b613abc0",
   "metadata": {},
   "source": [
    "### 덧셈4\n",
    "- `in-place` 방식\n",
    "\n",
    "- (참고) in-place 방식\n",
    "  - in-place방식으로 텐서의 값을 변경하는 연산 뒤에는 `_`가 붙음\n",
    "  - `x.copy_(y), x.t_()`"
   ]
  },
  {
   "cell_type": "code",
   "execution_count": 30,
   "id": "a8c32c3d",
   "metadata": {
    "ExecuteTime": {
     "end_time": "2021-11-23T02:16:38.134947Z",
     "start_time": "2021-11-23T02:16:38.119986Z"
    }
   },
   "outputs": [
    {
     "name": "stdout",
     "output_type": "stream",
     "text": [
      "tensor([[ 0.1001,  0.8980,  2.1432, -0.4820],\n",
      "        [ 1.5861,  0.8017,  1.0558, -0.0939]])\n",
      "tensor([[0.9576, 0.6982, 0.1943, 0.1381],\n",
      "        [0.7844, 0.0186, 0.5908, 0.1668]])\n",
      "tensor([[ 1.0578,  1.5962,  2.3375, -0.3439],\n",
      "        [ 2.3705,  0.8204,  1.6467,  0.0729]])\n"
     ]
    }
   ],
   "source": [
    "print(x)\n",
    "print(y)\n",
    "y.add_(x)\n",
    "print(y)"
   ]
  },
  {
   "cell_type": "markdown",
   "id": "5a7edd36",
   "metadata": {},
   "source": [
    "### 그 외의 연산\n",
    "- `torch.sub` : 뺄셈\n",
    "\n",
    "- `torch.mul` : 곱셉\n",
    "\n",
    "- `torch.div` : 나눗셈\n",
    "\n",
    "- `torch.mm` : 내적(dot product)"
   ]
  },
  {
   "cell_type": "code",
   "execution_count": 31,
   "id": "ed580910",
   "metadata": {
    "ExecuteTime": {
     "end_time": "2021-11-23T02:16:38.197779Z",
     "start_time": "2021-11-23T02:16:38.185810Z"
    }
   },
   "outputs": [
    {
     "name": "stdout",
     "output_type": "stream",
     "text": [
      "tensor([[-1., -1.],\n",
      "        [-1., -1.]])\n",
      "tensor([[ 3.,  7.],\n",
      "        [11., 15.]])\n",
      "tensor([[-1., -1.],\n",
      "        [-1., -1.]])\n"
     ]
    }
   ],
   "source": [
    "x = torch.Tensor([[1, 3],\n",
    "                 [5, 7]])\n",
    "y = torch.Tensor([[2, 4],\n",
    "                 [6, 8]])\n",
    "print(x - y)\n",
    "print(torch.add(x, y))\n",
    "print(x.sub(y))"
   ]
  },
  {
   "cell_type": "code",
   "execution_count": 32,
   "id": "d40cc2ec",
   "metadata": {
    "ExecuteTime": {
     "end_time": "2021-11-23T02:16:38.229692Z",
     "start_time": "2021-11-23T02:16:38.221715Z"
    }
   },
   "outputs": [
    {
     "name": "stdout",
     "output_type": "stream",
     "text": [
      "tensor([[ 2., 12.],\n",
      "        [30., 56.]])\n",
      "tensor([[ 2., 12.],\n",
      "        [30., 56.]])\n",
      "tensor([[ 2., 12.],\n",
      "        [30., 56.]])\n"
     ]
    }
   ],
   "source": [
    "x = torch.Tensor([[1, 3],\n",
    "                 [5, 7]])\n",
    "y = torch.Tensor([[2, 4],\n",
    "                 [6, 8]])\n",
    "print(x * y)\n",
    "print(torch.mul(x, y))\n",
    "print(x.mul(y))"
   ]
  },
  {
   "cell_type": "code",
   "execution_count": 33,
   "id": "8b92fdef",
   "metadata": {
    "ExecuteTime": {
     "end_time": "2021-11-23T02:16:38.261608Z",
     "start_time": "2021-11-23T02:16:38.256621Z"
    }
   },
   "outputs": [
    {
     "name": "stdout",
     "output_type": "stream",
     "text": [
      "tensor([[0.5000, 0.7500],\n",
      "        [0.8333, 0.8750]])\n",
      "tensor([[0.5000, 0.7500],\n",
      "        [0.8333, 0.8750]])\n",
      "tensor([[0.5000, 0.7500],\n",
      "        [0.8333, 0.8750]])\n"
     ]
    }
   ],
   "source": [
    "x = torch.Tensor([[1, 3],\n",
    "                 [5, 7]])\n",
    "y = torch.Tensor([[2, 4],\n",
    "                 [6, 8]])\n",
    "print(x / y)\n",
    "print(torch.div(x, y))\n",
    "print(x.div(y))"
   ]
  },
  {
   "cell_type": "code",
   "execution_count": 34,
   "id": "e862df22",
   "metadata": {
    "ExecuteTime": {
     "end_time": "2021-11-23T02:16:38.293555Z",
     "start_time": "2021-11-23T02:16:38.285544Z"
    }
   },
   "outputs": [
    {
     "name": "stdout",
     "output_type": "stream",
     "text": [
      "tensor([[20., 28.],\n",
      "        [52., 76.]])\n"
     ]
    }
   ],
   "source": [
    "x = torch.Tensor([[1, 3],\n",
    "                 [5, 7]])\n",
    "y = torch.Tensor([[2, 4],\n",
    "                 [6, 8]])\n",
    "print(torch.mm(x, y))"
   ]
  },
  {
   "cell_type": "markdown",
   "id": "51981555",
   "metadata": {},
   "source": [
    "## 텐서의 조작(manipulations)"
   ]
  },
  {
   "cell_type": "markdown",
   "id": "0be65bba",
   "metadata": {},
   "source": [
    "### 인덱싱\n",
    "- 넘파이처럼 인덱싱 사용가능"
   ]
  },
  {
   "cell_type": "code",
   "execution_count": 35,
   "id": "05fabb79",
   "metadata": {
    "ExecuteTime": {
     "end_time": "2021-11-23T02:16:38.373308Z",
     "start_time": "2021-11-23T02:16:38.370317Z"
    }
   },
   "outputs": [
    {
     "name": "stdout",
     "output_type": "stream",
     "text": [
      "tensor([[1., 3.],\n",
      "        [5., 7.]])\n"
     ]
    }
   ],
   "source": [
    "print(x)"
   ]
  },
  {
   "cell_type": "code",
   "execution_count": 36,
   "id": "c947d81b",
   "metadata": {
    "ExecuteTime": {
     "end_time": "2021-11-23T02:16:38.405224Z",
     "start_time": "2021-11-23T02:16:38.400237Z"
    }
   },
   "outputs": [
    {
     "name": "stdout",
     "output_type": "stream",
     "text": [
      "tensor([3., 7.])\n"
     ]
    }
   ],
   "source": [
    "print(x[:, 1])"
   ]
  },
  {
   "cell_type": "markdown",
   "id": "2f2fb805",
   "metadata": {},
   "source": [
    "### view\n",
    "- 텐서의 크기(size)나 모양(shape)을 변경"
   ]
  },
  {
   "cell_type": "code",
   "execution_count": 37,
   "id": "03f6111c",
   "metadata": {
    "ExecuteTime": {
     "end_time": "2021-11-23T02:16:38.469057Z",
     "start_time": "2021-11-23T02:16:38.461108Z"
    }
   },
   "outputs": [
    {
     "name": "stdout",
     "output_type": "stream",
     "text": [
      "tensor([[-0.2814,  0.2022,  0.7245,  0.0413,  0.4364],\n",
      "        [ 0.9192,  0.3434,  0.1283,  0.3950, -1.5086],\n",
      "        [ 0.9524,  0.3096, -1.7042, -0.7953, -0.1718],\n",
      "        [ 0.3156, -0.5016,  1.7356,  0.4141, -0.1735]])\n",
      "tensor([-0.2814,  0.2022,  0.7245,  0.0413,  0.4364,  0.9192,  0.3434,  0.1283,\n",
      "         0.3950, -1.5086,  0.9524,  0.3096, -1.7042, -0.7953, -0.1718,  0.3156,\n",
      "        -0.5016,  1.7356,  0.4141, -0.1735])\n",
      "tensor([[-0.2814,  0.2022,  0.7245,  0.0413],\n",
      "        [ 0.4364,  0.9192,  0.3434,  0.1283],\n",
      "        [ 0.3950, -1.5086,  0.9524,  0.3096],\n",
      "        [-1.7042, -0.7953, -0.1718,  0.3156],\n",
      "        [-0.5016,  1.7356,  0.4141, -0.1735]])\n",
      "torch.Size([4, 5])\n",
      "torch.Size([20])\n",
      "torch.Size([5, 4])\n"
     ]
    }
   ],
   "source": [
    "x = torch.randn(4, 5)\n",
    "y = x.view(20)          ## 2차원의 나열된 형태로 출력\n",
    "z = x.view(5, -1)\n",
    "\n",
    "print(x)\n",
    "print(y)\n",
    "print(z)\n",
    "print(x.size())\n",
    "print(y.size())\n",
    "print(z.size())"
   ]
  },
  {
   "cell_type": "markdown",
   "id": "57ee3cd5",
   "metadata": {},
   "source": [
    "### item\n",
    "- 텐서에 값이 단 하나라도 존재하면 숫자값을 얻을 수 있음\n"
   ]
  },
  {
   "cell_type": "code",
   "execution_count": 38,
   "id": "302276a5",
   "metadata": {
    "ExecuteTime": {
     "end_time": "2021-11-23T02:16:38.628625Z",
     "start_time": "2021-11-23T02:16:38.613666Z"
    }
   },
   "outputs": [
    {
     "name": "stdout",
     "output_type": "stream",
     "text": [
      "tensor([-2.0491])\n",
      "-2.0491230487823486\n",
      "torch.float32\n"
     ]
    }
   ],
   "source": [
    "x = torch.randn(1)\n",
    "print(x)\n",
    "print(x.item())\n",
    "print(x.dtype)"
   ]
  },
  {
   "cell_type": "markdown",
   "id": "efe6220c",
   "metadata": {},
   "source": [
    "- 스칼라값 하나만 존재해야함"
   ]
  },
  {
   "cell_type": "code",
   "execution_count": 39,
   "id": "6e0276af",
   "metadata": {
    "ExecuteTime": {
     "end_time": "2021-11-23T02:16:38.817122Z",
     "start_time": "2021-11-23T02:16:38.629623Z"
    }
   },
   "outputs": [
    {
     "name": "stdout",
     "output_type": "stream",
     "text": [
      "tensor([0.2245, 0.2187])\n"
     ]
    },
    {
     "ename": "ValueError",
     "evalue": "only one element tensors can be converted to Python scalars",
     "output_type": "error",
     "traceback": [
      "\u001b[1;31m---------------------------------------------------------------------------\u001b[0m",
      "\u001b[1;31mValueError\u001b[0m                                Traceback (most recent call last)",
      "\u001b[1;32m~\\AppData\\Local\\Temp/ipykernel_11564/3075060316.py\u001b[0m in \u001b[0;36m<module>\u001b[1;34m\u001b[0m\n\u001b[0;32m      1\u001b[0m \u001b[0mx\u001b[0m \u001b[1;33m=\u001b[0m \u001b[0mtorch\u001b[0m\u001b[1;33m.\u001b[0m\u001b[0mrandn\u001b[0m\u001b[1;33m(\u001b[0m\u001b[1;36m2\u001b[0m\u001b[1;33m)\u001b[0m\u001b[1;33m\u001b[0m\u001b[1;33m\u001b[0m\u001b[0m\n\u001b[0;32m      2\u001b[0m \u001b[0mprint\u001b[0m\u001b[1;33m(\u001b[0m\u001b[0mx\u001b[0m\u001b[1;33m)\u001b[0m\u001b[1;33m\u001b[0m\u001b[1;33m\u001b[0m\u001b[0m\n\u001b[1;32m----> 3\u001b[1;33m \u001b[0mprint\u001b[0m\u001b[1;33m(\u001b[0m\u001b[0mx\u001b[0m\u001b[1;33m.\u001b[0m\u001b[0mitem\u001b[0m\u001b[1;33m(\u001b[0m\u001b[1;33m)\u001b[0m\u001b[1;33m)\u001b[0m\u001b[1;33m\u001b[0m\u001b[1;33m\u001b[0m\u001b[0m\n\u001b[0m\u001b[0;32m      4\u001b[0m \u001b[0mprint\u001b[0m\u001b[1;33m(\u001b[0m\u001b[0mx\u001b[0m\u001b[1;33m.\u001b[0m\u001b[0mdtype\u001b[0m\u001b[1;33m)\u001b[0m\u001b[1;33m\u001b[0m\u001b[1;33m\u001b[0m\u001b[0m\n\u001b[0;32m      5\u001b[0m \u001b[1;33m\u001b[0m\u001b[0m\n",
      "\u001b[1;31mValueError\u001b[0m: only one element tensors can be converted to Python scalars"
     ]
    }
   ],
   "source": [
    "x = torch.randn(2)\n",
    "print(x)\n",
    "print(x.item())\n",
    "print(x.dtype)\n",
    "\n",
    "## only one element(하나의 스칼라값) tensors can be converted to Python scalars"
   ]
  },
  {
   "cell_type": "markdown",
   "id": "7483050a",
   "metadata": {},
   "source": [
    "### squeeze \n",
    "- 차원을 축소(제거)"
   ]
  },
  {
   "cell_type": "code",
   "execution_count": 40,
   "id": "2e48ab44",
   "metadata": {
    "ExecuteTime": {
     "end_time": "2021-11-23T02:16:38.818119Z",
     "start_time": "2021-11-23T02:16:38.818119Z"
    }
   },
   "outputs": [
    {
     "name": "stdout",
     "output_type": "stream",
     "text": [
      "tensor([[[0.9795, 0.7383, 0.9776],\n",
      "         [0.0839, 0.5996, 0.8733],\n",
      "         [0.4855, 0.6541, 0.1474]]])\n",
      "torch.Size([1, 3, 3])\n"
     ]
    }
   ],
   "source": [
    "tensor = torch.rand(1, 3, 3)\n",
    "print(tensor)\n",
    "print(tensor.shape)"
   ]
  },
  {
   "cell_type": "code",
   "execution_count": 41,
   "id": "88cd64c9",
   "metadata": {
    "ExecuteTime": {
     "end_time": "2021-11-23T02:16:38.818119Z",
     "start_time": "2021-11-23T02:16:38.818119Z"
    }
   },
   "outputs": [
    {
     "name": "stdout",
     "output_type": "stream",
     "text": [
      "tensor([[0.9795, 0.7383, 0.9776],\n",
      "        [0.0839, 0.5996, 0.8733],\n",
      "        [0.4855, 0.6541, 0.1474]])\n",
      "torch.Size([3, 3])\n"
     ]
    }
   ],
   "source": [
    "t = tensor.squeeze()\n",
    "\n",
    "print(t)\n",
    "print(t.shape)\n"
   ]
  },
  {
   "cell_type": "markdown",
   "id": "6ce1d769",
   "metadata": {},
   "source": [
    "### unsqueeze\n",
    "- 차원을 증가(생성)"
   ]
  },
  {
   "cell_type": "code",
   "execution_count": 42,
   "id": "e7057669",
   "metadata": {
    "ExecuteTime": {
     "end_time": "2021-11-23T02:16:38.819117Z",
     "start_time": "2021-11-23T02:16:38.819117Z"
    }
   },
   "outputs": [
    {
     "name": "stdout",
     "output_type": "stream",
     "text": [
      "tensor([[[0.1741, 0.0166, 0.7352],\n",
      "         [0.9547, 0.1653, 0.5488],\n",
      "         [0.7892, 0.8184, 0.7725]]])\n",
      "torch.Size([1, 3, 3])\n"
     ]
    }
   ],
   "source": [
    "tensor = torch.rand(1, 3, 3)\n",
    "print(tensor)\n",
    "print(tensor.shape)"
   ]
  },
  {
   "cell_type": "code",
   "execution_count": 43,
   "id": "881535ae",
   "metadata": {
    "ExecuteTime": {
     "end_time": "2021-11-23T02:16:38.820114Z",
     "start_time": "2021-11-23T02:16:38.820114Z"
    }
   },
   "outputs": [
    {
     "name": "stdout",
     "output_type": "stream",
     "text": [
      "tensor([[[[0.1741, 0.0166, 0.7352],\n",
      "          [0.9547, 0.1653, 0.5488],\n",
      "          [0.7892, 0.8184, 0.7725]]]])\n",
      "torch.Size([1, 1, 3, 3])\n"
     ]
    }
   ],
   "source": [
    "t = tensor.unsqueeze(dim = 0)\n",
    "\n",
    "print(t)\n",
    "print(t.shape)\n",
    "\n",
    "## 차원 증가"
   ]
  },
  {
   "cell_type": "markdown",
   "id": "71a50860",
   "metadata": {},
   "source": [
    "### stack\n",
    "- 텐서간 결합"
   ]
  },
  {
   "cell_type": "code",
   "execution_count": 44,
   "id": "067b05cc",
   "metadata": {
    "ExecuteTime": {
     "end_time": "2021-11-23T02:16:38.879957Z",
     "start_time": "2021-11-23T02:16:38.871011Z"
    }
   },
   "outputs": [
    {
     "name": "stdout",
     "output_type": "stream",
     "text": [
      "tensor([[1., 4.],\n",
      "        [2., 5.],\n",
      "        [3., 6.]])\n"
     ]
    }
   ],
   "source": [
    "x = torch.FloatTensor([1, 4])\n",
    "y = torch.FloatTensor([2, 5])\n",
    "z = torch.FloatTensor([3, 6])\n",
    "\n",
    "print(torch.stack([x, y, z]))"
   ]
  },
  {
   "cell_type": "markdown",
   "id": "e25d9490",
   "metadata": {},
   "source": [
    "### cat\n",
    "- 텐서를 결합하는 메소드(concatenate)\n",
    "\n",
    "- 넘파이의 `stack`과 유사하지만, 쌓을 dim이 존재해야함\n",
    "  - 예를 들어, 해당 차원을 늘려준 후 결합\n"
   ]
  },
  {
   "cell_type": "code",
   "execution_count": 45,
   "id": "ce41eb20",
   "metadata": {
    "ExecuteTime": {
     "end_time": "2021-11-23T02:16:38.957745Z",
     "start_time": "2021-11-23T02:16:38.943783Z"
    }
   },
   "outputs": [
    {
     "name": "stdout",
     "output_type": "stream",
     "text": [
      "tensor([[[[ 0.4166,  0.3671,  0.7085],\n",
      "          [ 0.6062,  0.9117, -0.2106],\n",
      "          [ 0.3414,  0.6985, -1.8718]]],\n",
      "\n",
      "\n",
      "        [[[ 0.1468,  0.2400,  1.5139],\n",
      "          [ 1.6328, -1.1077,  0.2759],\n",
      "          [ 1.9069, -2.1659,  0.3127]]]])\n",
      "torch.Size([2, 1, 3, 3])\n"
     ]
    }
   ],
   "source": [
    "a = torch.randn(1, 1, 3, 3)\n",
    "b = torch.randn(1, 1, 3, 3)\n",
    "c = torch.cat((a, b), dim = 0)\n",
    "\n",
    "print(c)\n",
    "print(c.size())"
   ]
  },
  {
   "cell_type": "code",
   "execution_count": 46,
   "id": "ffd925ba",
   "metadata": {
    "ExecuteTime": {
     "end_time": "2021-11-23T02:16:38.973734Z",
     "start_time": "2021-11-23T02:16:38.963730Z"
    }
   },
   "outputs": [
    {
     "name": "stdout",
     "output_type": "stream",
     "text": [
      "tensor([[[ 0.1962,  0.3278, -0.3633],\n",
      "         [-0.5938,  0.4754,  0.9162],\n",
      "         [ 1.3915,  0.2711, -0.0756]],\n",
      "\n",
      "        [[ 1.9623, -0.4021, -0.2932],\n",
      "         [ 0.4605, -0.1103, -0.7941],\n",
      "         [ 0.1475, -0.9303,  0.4100]]])\n",
      "torch.Size([2, 3, 3])\n"
     ]
    }
   ],
   "source": [
    "a = torch.randn(1, 3, 3)\n",
    "b = torch.randn(1, 3, 3)\n",
    "c = torch.cat((a, b), dim = 0)\n",
    "\n",
    "print(c)\n",
    "print(c.size())"
   ]
  },
  {
   "cell_type": "markdown",
   "id": "2d14d7fd",
   "metadata": {},
   "source": [
    "### chunk\n",
    "- 텐서를 여러 개로 나눌 때 사용\n",
    "\n",
    "- 몇 개의 텐서로 나눌 것이냐"
   ]
  },
  {
   "cell_type": "code",
   "execution_count": 47,
   "id": "801cdcf6",
   "metadata": {
    "ExecuteTime": {
     "end_time": "2021-11-23T02:16:39.037536Z",
     "start_time": "2021-11-23T02:16:39.030552Z"
    }
   },
   "outputs": [
    {
     "name": "stdout",
     "output_type": "stream",
     "text": [
      "tensor([[0.5760, 0.7573, 0.5791, 0.0176, 0.8226, 0.1254],\n",
      "        [0.0252, 0.4969, 0.7748, 0.6832, 0.5498, 0.7874],\n",
      "        [0.0186, 0.2991, 0.4934, 0.0149, 0.6415, 0.8415]])\n",
      "tensor([[0.5760, 0.7573],\n",
      "        [0.0252, 0.4969],\n",
      "        [0.0186, 0.2991]])\n",
      "tensor([[0.5791, 0.0176],\n",
      "        [0.7748, 0.6832],\n",
      "        [0.4934, 0.0149]])\n",
      "tensor([[0.8226, 0.1254],\n",
      "        [0.5498, 0.7874],\n",
      "        [0.6415, 0.8415]])\n"
     ]
    }
   ],
   "source": [
    "tensor = torch.rand(3, 6)\n",
    "t1, t2, t3 = torch.chunk(tensor, 3, dim = 1)\n",
    "\n",
    "print(tensor)\n",
    "print(t1)\n",
    "print(t2)\n",
    "print(t3)"
   ]
  },
  {
   "cell_type": "markdown",
   "id": "d8b68d96",
   "metadata": {},
   "source": [
    "### split\n",
    "- `chunck`와 동일한 기능이지만 조금 다름\n",
    "\n",
    "- 하나의 텐서당 크기가 얼마이냐"
   ]
  },
  {
   "cell_type": "code",
   "execution_count": 48,
   "id": "5d9fd9ed",
   "metadata": {
    "ExecuteTime": {
     "end_time": "2021-11-23T02:16:39.101408Z",
     "start_time": "2021-11-23T02:16:39.095377Z"
    }
   },
   "outputs": [
    {
     "name": "stdout",
     "output_type": "stream",
     "text": [
      "tensor([[0.8571, 0.3952, 0.8019, 0.7675, 0.9973, 0.2931],\n",
      "        [0.5550, 0.7205, 0.3169, 0.3514, 0.9497, 0.7164],\n",
      "        [0.8857, 0.4581, 0.0240, 0.1501, 0.8134, 0.9480]])\n",
      "tensor([[0.8571, 0.3952, 0.8019],\n",
      "        [0.5550, 0.7205, 0.3169],\n",
      "        [0.8857, 0.4581, 0.0240]])\n",
      "tensor([[0.7675, 0.9973, 0.2931],\n",
      "        [0.3514, 0.9497, 0.7164],\n",
      "        [0.1501, 0.8134, 0.9480]])\n"
     ]
    }
   ],
   "source": [
    "tensor = torch.rand(3, 6)\n",
    "t1, t2 = torch.split(tensor, 3, dim = 1)\n",
    "\n",
    "print(tensor)\n",
    "print(t1)\n",
    "print(t2)"
   ]
  },
  {
   "cell_type": "markdown",
   "id": "27818a2b",
   "metadata": {},
   "source": [
    "### torch ↔ numpy\n",
    "- Torch Tensor(텐서)를 Numpy array(배열)로 변환 가능\n",
    "\n",
    "  - `numpy()`\n",
    "  - `from_numpy()`\n",
    "\n",
    "- (참고)\n",
    "  - Tensor가 CPU상에 있다면 Numpy 배열은 메모리 공간을 공유하므로 하나가 변하면, 다른 하나도 변함"
   ]
  },
  {
   "cell_type": "code",
   "execution_count": 49,
   "id": "62e8d533",
   "metadata": {
    "ExecuteTime": {
     "end_time": "2021-11-23T02:16:39.165190Z",
     "start_time": "2021-11-23T02:16:39.157214Z"
    }
   },
   "outputs": [
    {
     "name": "stdout",
     "output_type": "stream",
     "text": [
      "tensor([1., 1., 1., 1., 1., 1., 1.])\n"
     ]
    }
   ],
   "source": [
    "a = torch.ones(7)\n",
    "print(a)"
   ]
  },
  {
   "cell_type": "code",
   "execution_count": 50,
   "id": "da4eb8ac",
   "metadata": {
    "ExecuteTime": {
     "end_time": "2021-11-23T02:16:39.229053Z",
     "start_time": "2021-11-23T02:16:39.214062Z"
    }
   },
   "outputs": [
    {
     "name": "stdout",
     "output_type": "stream",
     "text": [
      "[1. 1. 1. 1. 1. 1. 1.]\n"
     ]
    }
   ],
   "source": [
    "b = a.numpy()\n",
    "print(b)"
   ]
  },
  {
   "cell_type": "code",
   "execution_count": 51,
   "id": "cf4fa04a",
   "metadata": {
    "ExecuteTime": {
     "end_time": "2021-11-23T02:16:39.244977Z",
     "start_time": "2021-11-23T02:16:39.230017Z"
    }
   },
   "outputs": [
    {
     "name": "stdout",
     "output_type": "stream",
     "text": [
      "tensor([2., 2., 2., 2., 2., 2., 2.])\n",
      "[2. 2. 2. 2. 2. 2. 2.]\n"
     ]
    }
   ],
   "source": [
    "a.add_(1)\n",
    "print(a)\n",
    "print(b)\n",
    "\n",
    "## 메모리가 공유된 형태이기때문에 a에 적용해도 b에 적용됨"
   ]
  },
  {
   "cell_type": "code",
   "execution_count": 52,
   "id": "3d84bde0",
   "metadata": {
    "ExecuteTime": {
     "end_time": "2021-11-23T02:16:39.276929Z",
     "start_time": "2021-11-23T02:16:39.258940Z"
    }
   },
   "outputs": [
    {
     "name": "stdout",
     "output_type": "stream",
     "text": [
      "[2. 2. 2. 2. 2. 2. 2.]\n",
      "tensor([2., 2., 2., 2., 2., 2., 2.], dtype=torch.float64)\n"
     ]
    }
   ],
   "source": [
    "import numpy as np\n",
    "\n",
    "a = np.ones(7)\n",
    "b = torch.from_numpy(a)\n",
    "np.add(a, 1, out = a)\n",
    "\n",
    "print(a)\n",
    "print(b)\n",
    "\n",
    "## 위와 반대의 형태도 적용됨"
   ]
  },
  {
   "cell_type": "markdown",
   "id": "930fd1a2",
   "metadata": {},
   "source": [
    "## CUDA Tensors\n",
    "- `.to` 메소드를 사용하여 텐서를 어떠한 장치로도 옮길 수 있음\n",
    "  - 예) cpu, gpu"
   ]
  },
  {
   "cell_type": "code",
   "execution_count": 53,
   "id": "de62a131",
   "metadata": {
    "ExecuteTime": {
     "end_time": "2021-11-23T02:16:39.340755Z",
     "start_time": "2021-11-23T02:16:39.333741Z"
    }
   },
   "outputs": [],
   "source": [
    "import torch"
   ]
  },
  {
   "cell_type": "code",
   "execution_count": 54,
   "id": "7463e791",
   "metadata": {
    "ExecuteTime": {
     "end_time": "2021-11-23T02:16:39.372637Z",
     "start_time": "2021-11-23T02:16:39.363661Z"
    }
   },
   "outputs": [
    {
     "name": "stdout",
     "output_type": "stream",
     "text": [
      "tensor([0.9434])\n",
      "0.9434255957603455\n",
      "torch.float32\n"
     ]
    }
   ],
   "source": [
    "x = torch.randn(1)\n",
    "print(x)\n",
    "print(x.item())\n",
    "print(x.dtype)"
   ]
  },
  {
   "cell_type": "code",
   "execution_count": 55,
   "id": "035b6478",
   "metadata": {
    "ExecuteTime": {
     "end_time": "2021-11-23T02:16:40.381936Z",
     "start_time": "2021-11-23T02:16:39.398568Z"
    }
   },
   "outputs": [
    {
     "name": "stdout",
     "output_type": "stream",
     "text": [
      "cuda\n",
      "tensor([1.9434], device='cuda:0')\n",
      "tensor([1.9434], dtype=torch.float64)\n"
     ]
    }
   ],
   "source": [
    "device = torch.device(\"cuda\" if torch.cuda.is_available() else \"cpu\")\n",
    "\n",
    "y = torch.ones_like(x, device = device)  ## gpu\n",
    "x = x.to(device)   ## gpu\n",
    "z = x + y\n",
    "print(device)\n",
    "print(z)\n",
    "print(z.to(\"cpu\", torch.double))  ## cpu"
   ]
  },
  {
   "cell_type": "markdown",
   "id": "8309f300",
   "metadata": {},
   "source": [
    "## AUTOGRAD (자동미분)\n",
    "- autograd 패키지는 Tensor의 모든 연산에 대해 **자동 미분** 제공\n",
    "\n",
    "- 이는 코드를 어떻게 작성하여 실행하느냐에 따라 역전파가 정의된다는 뜻\n",
    "\n",
    "- backprop를 위한 미분값을 자동으로 계산"
   ]
  },
  {
   "cell_type": "markdown",
   "id": "8e1404d8",
   "metadata": {},
   "source": [
    "### Tensor\n",
    "\n",
    "- data: tensor형태의 데이터\n",
    "\n",
    "- grad: data가 겨쳐온 layer에 대한 미분값 저장\n",
    "\n",
    "- grad_fn: 미분값을 계산한 함수에 대한 정보 저장 (어떤 함수에 대해서 backprop 했는지)\n",
    "\n",
    "- `requires_grad` 속성을 `True`로 설정하면, 해당 텐서에서 이루어지는 모든 연산들을 추적하기 시작\n",
    "\n",
    "- 계산이 완료된 후, `.backward()`를 호출하면 자동으로 `gradient`를 계산할 수 있으며, `.grad` 속성에 누적됨\n",
    "\n",
    "- 기록을 추적하는 것을 중단하게 하려면, `.detach()`를 호출하여 연산기록으로부터 분리\n",
    "\n",
    "- 기록을 추적하는 것을 방지하기 위해 코드 블럭을 `with torch.no_grad():`로 감싸면 `gradient`는 필요없지만, `requires_grad=True`로 설정되어 학습 가능한 매개변수를 갖는 모델을 평가(evaluate)할 때 유용\n",
    "\n",
    "- Autograd 구현에서 매우 중요한 클래스 : `Function` 클래스"
   ]
  },
  {
   "cell_type": "code",
   "execution_count": 56,
   "id": "33c0509c",
   "metadata": {
    "ExecuteTime": {
     "end_time": "2021-11-23T02:16:40.396896Z",
     "start_time": "2021-11-23T02:16:40.382934Z"
    }
   },
   "outputs": [],
   "source": [
    "import torch"
   ]
  },
  {
   "cell_type": "code",
   "execution_count": 57,
   "id": "ccb0b1d5",
   "metadata": {
    "ExecuteTime": {
     "end_time": "2021-11-23T02:16:40.412853Z",
     "start_time": "2021-11-23T02:16:40.397894Z"
    }
   },
   "outputs": [
    {
     "name": "stdout",
     "output_type": "stream",
     "text": [
      "tensor([[1., 1., 1.],\n",
      "        [1., 1., 1.],\n",
      "        [1., 1., 1.]], requires_grad=True)\n"
     ]
    }
   ],
   "source": [
    "x = torch.ones(3, 3, requires_grad = True)\n",
    "print(x)"
   ]
  },
  {
   "cell_type": "code",
   "execution_count": 58,
   "id": "35384d9e",
   "metadata": {
    "ExecuteTime": {
     "end_time": "2021-11-23T02:16:40.427814Z",
     "start_time": "2021-11-23T02:16:40.413855Z"
    }
   },
   "outputs": [
    {
     "name": "stdout",
     "output_type": "stream",
     "text": [
      "tensor([[6., 6., 6.],\n",
      "        [6., 6., 6.],\n",
      "        [6., 6., 6.]], grad_fn=<AddBackward0>)\n"
     ]
    }
   ],
   "source": [
    "y = x + 5\n",
    "print(y)"
   ]
  },
  {
   "cell_type": "code",
   "execution_count": 59,
   "id": "5402d8de",
   "metadata": {
    "ExecuteTime": {
     "end_time": "2021-11-23T02:16:40.443771Z",
     "start_time": "2021-11-23T02:16:40.428811Z"
    }
   },
   "outputs": [
    {
     "name": "stdout",
     "output_type": "stream",
     "text": [
      "<AddBackward0 object at 0x00000187AA8BFE50>\n"
     ]
    }
   ],
   "source": [
    "print(y.grad_fn)"
   ]
  },
  {
   "cell_type": "code",
   "execution_count": 60,
   "id": "abd030cb",
   "metadata": {
    "ExecuteTime": {
     "end_time": "2021-11-23T02:16:40.459728Z",
     "start_time": "2021-11-23T02:16:40.444769Z"
    }
   },
   "outputs": [
    {
     "name": "stdout",
     "output_type": "stream",
     "text": [
      "tensor([[72., 72., 72.],\n",
      "        [72., 72., 72.],\n",
      "        [72., 72., 72.]], grad_fn=<MulBackward0>) tensor(72., grad_fn=<MeanBackward0>)\n"
     ]
    }
   ],
   "source": [
    "z = y * y * 2\n",
    "out = z.mean()\n",
    "\n",
    "print(z, out)"
   ]
  },
  {
   "cell_type": "markdown",
   "id": "c260e869",
   "metadata": {},
   "source": [
    "- `requires_grad_(...)`는 기존 텐서의 `requires_grad`값을 바꿔치기(`in-place`)하여 변경"
   ]
  },
  {
   "cell_type": "code",
   "execution_count": 61,
   "id": "b789d0f7",
   "metadata": {
    "ExecuteTime": {
     "end_time": "2021-11-23T02:16:40.475687Z",
     "start_time": "2021-11-23T02:16:40.460727Z"
    }
   },
   "outputs": [
    {
     "name": "stdout",
     "output_type": "stream",
     "text": [
      "False\n",
      "True\n",
      "<SumBackward0 object at 0x00000187AA926BE0>\n"
     ]
    }
   ],
   "source": [
    "a = torch.randn(3, 3)\n",
    "a = ((a * 3) / (a - 1))\n",
    "print(a.requires_grad)\n",
    "\n",
    "a.requires_grad_(True)\n",
    "print(a.requires_grad)\n",
    "\n",
    "b = (a * a).sum()\n",
    "print(b.grad_fn)"
   ]
  },
  {
   "cell_type": "markdown",
   "id": "c1443e86",
   "metadata": {},
   "source": [
    "### 기울기(Gradient)\n",
    "- 역전파: `.backward()`를 통해 역전파 계산 가능"
   ]
  },
  {
   "cell_type": "code",
   "execution_count": 62,
   "id": "0c972556",
   "metadata": {
    "ExecuteTime": {
     "end_time": "2021-11-23T02:16:40.521564Z",
     "start_time": "2021-11-23T02:16:40.508599Z"
    }
   },
   "outputs": [],
   "source": [
    "out.backward()"
   ]
  },
  {
   "cell_type": "code",
   "execution_count": 63,
   "id": "6b7239a6",
   "metadata": {
    "ExecuteTime": {
     "end_time": "2021-11-23T02:16:40.537521Z",
     "start_time": "2021-11-23T02:16:40.522561Z"
    }
   },
   "outputs": [
    {
     "name": "stdout",
     "output_type": "stream",
     "text": [
      "tensor([[2.6667, 2.6667, 2.6667],\n",
      "        [2.6667, 2.6667, 2.6667],\n",
      "        [2.6667, 2.6667, 2.6667]])\n"
     ]
    }
   ],
   "source": [
    "print(x.grad)"
   ]
  },
  {
   "cell_type": "code",
   "execution_count": 64,
   "id": "275432cf",
   "metadata": {
    "ExecuteTime": {
     "end_time": "2021-11-23T02:16:40.553479Z",
     "start_time": "2021-11-23T02:16:40.538519Z"
    }
   },
   "outputs": [
    {
     "name": "stdout",
     "output_type": "stream",
     "text": [
      "tensor([-1204.0151,  -907.0632,   444.9935], grad_fn=<MulBackward0>)\n"
     ]
    }
   ],
   "source": [
    "x = torch.randn(3, requires_grad = True)\n",
    "\n",
    "y = x * 2\n",
    "while y.data.norm() < 1000:\n",
    "    y = y * 2\n",
    "    \n",
    "print(y)"
   ]
  },
  {
   "cell_type": "code",
   "execution_count": 65,
   "id": "d115b3ba",
   "metadata": {
    "ExecuteTime": {
     "end_time": "2021-11-23T02:16:40.569435Z",
     "start_time": "2021-11-23T02:16:40.554476Z"
    }
   },
   "outputs": [
    {
     "name": "stdout",
     "output_type": "stream",
     "text": [
      "tensor([5.1200e+01, 5.1200e+02, 5.1200e-02])\n"
     ]
    }
   ],
   "source": [
    "v = torch.tensor([0.1, 1.0, 0.0001], dtype = torch.float)\n",
    "y.backward(v)\n",
    "\n",
    "print(x.grad)"
   ]
  },
  {
   "cell_type": "markdown",
   "id": "2d184bc8",
   "metadata": {},
   "source": [
    "- `with torch.no_grad()`를 사용하여 gradient의 업데이트를 하지 않음"
   ]
  },
  {
   "cell_type": "code",
   "execution_count": 66,
   "id": "c632dc1c",
   "metadata": {
    "ExecuteTime": {
     "end_time": "2021-11-23T02:16:40.584428Z",
     "start_time": "2021-11-23T02:16:40.570432Z"
    }
   },
   "outputs": [
    {
     "name": "stdout",
     "output_type": "stream",
     "text": [
      "True\n",
      "True\n",
      "False\n"
     ]
    }
   ],
   "source": [
    "print(x.requires_grad)\n",
    "print((x**2).requires_grad)\n",
    "\n",
    "with torch.no_grad():\n",
    "    print((x ** 2).requires_grad)"
   ]
  },
  {
   "cell_type": "markdown",
   "id": "e3714f9d",
   "metadata": {},
   "source": [
    "- `detach()`: 내용물(content)은 같지만 require_grad가 다른 새로운 Tensor를 가져올 때"
   ]
  },
  {
   "cell_type": "code",
   "execution_count": 67,
   "id": "0a8686bc",
   "metadata": {
    "ExecuteTime": {
     "end_time": "2021-11-23T02:16:40.756933Z",
     "start_time": "2021-11-23T02:16:40.741974Z"
    }
   },
   "outputs": [
    {
     "name": "stdout",
     "output_type": "stream",
     "text": [
      "True\n",
      "False\n",
      "tensor(True)\n"
     ]
    }
   ],
   "source": [
    "print(x.requires_grad)\n",
    "y = x.detach()\n",
    "print(y.requires_grad)\n",
    "print(x.eq(y).all())"
   ]
  },
  {
   "cell_type": "markdown",
   "id": "c484780a",
   "metadata": {},
   "source": [
    "### 자동 미분 흐름 다시 보기(1)\n",
    "- 계산 흐름  \n",
    "  $a \\rightarrow b  \\rightarrow c  \\rightarrow out $\n",
    "\n",
    "<br>\n",
    "\n",
    "## $\\quad \\frac{\\partial out}{\\partial a} = ?$\n",
    "- `backward()`를 통해  \n",
    "  $a \\leftarrow b  \\leftarrow c  \\leftarrow out $을 계산하면  \n",
    "    $\\frac{\\partial out}{\\partial a}$값이 `a.grad`에 채워짐\n"
   ]
  },
  {
   "cell_type": "code",
   "execution_count": 68,
   "id": "43f88479",
   "metadata": {
    "ExecuteTime": {
     "end_time": "2021-11-23T02:16:40.772891Z",
     "start_time": "2021-11-23T02:16:40.757931Z"
    }
   },
   "outputs": [
    {
     "name": "stdout",
     "output_type": "stream",
     "text": [
      "tensor([[1., 1.],\n",
      "        [1., 1.]])\n"
     ]
    }
   ],
   "source": [
    "a = torch.ones(2, 2)\n",
    "print(a)"
   ]
  },
  {
   "cell_type": "code",
   "execution_count": 69,
   "id": "9ed57972",
   "metadata": {
    "ExecuteTime": {
     "end_time": "2021-11-23T02:16:40.788850Z",
     "start_time": "2021-11-23T02:16:40.773891Z"
    }
   },
   "outputs": [
    {
     "name": "stdout",
     "output_type": "stream",
     "text": [
      "tensor([[1., 1.],\n",
      "        [1., 1.]], requires_grad=True)\n"
     ]
    }
   ],
   "source": [
    "a = torch.ones(2, 2, requires_grad = True)\n",
    "print(a)"
   ]
  },
  {
   "cell_type": "code",
   "execution_count": 70,
   "id": "4f112365",
   "metadata": {
    "ExecuteTime": {
     "end_time": "2021-11-23T02:16:40.804807Z",
     "start_time": "2021-11-23T02:16:40.790844Z"
    }
   },
   "outputs": [
    {
     "name": "stdout",
     "output_type": "stream",
     "text": [
      "a.data: tensor([[1., 1.],\n",
      "        [1., 1.]], requires_grad=True)\n",
      "a.grad: None\n",
      "a.grad_fn None\n"
     ]
    }
   ],
   "source": [
    "print('a.data:', a)\n",
    "print('a.grad:', a.grad)\n",
    "print('a.grad_fn', a.grad_fn)"
   ]
  },
  {
   "cell_type": "markdown",
   "id": "930962fb",
   "metadata": {},
   "source": [
    "- $b = a + 2$"
   ]
  },
  {
   "cell_type": "code",
   "execution_count": 71,
   "id": "04c22505",
   "metadata": {
    "ExecuteTime": {
     "end_time": "2021-11-23T02:16:40.820764Z",
     "start_time": "2021-11-23T02:16:40.805806Z"
    },
    "scrolled": true
   },
   "outputs": [
    {
     "name": "stdout",
     "output_type": "stream",
     "text": [
      "tensor([[3., 3.],\n",
      "        [3., 3.]], grad_fn=<AddBackward0>)\n"
     ]
    }
   ],
   "source": [
    "b = a + 2\n",
    "print(b)"
   ]
  },
  {
   "cell_type": "markdown",
   "id": "cf6925c3",
   "metadata": {},
   "source": [
    "- $c = b^2$ "
   ]
  },
  {
   "cell_type": "code",
   "execution_count": 72,
   "id": "7f37bb27",
   "metadata": {
    "ExecuteTime": {
     "end_time": "2021-11-23T02:16:40.836722Z",
     "start_time": "2021-11-23T02:16:40.821762Z"
    }
   },
   "outputs": [
    {
     "name": "stdout",
     "output_type": "stream",
     "text": [
      "tensor([[9., 9.],\n",
      "        [9., 9.]], grad_fn=<PowBackward0>)\n"
     ]
    }
   ],
   "source": [
    "c = b ** 2\n",
    "print(c)"
   ]
  },
  {
   "cell_type": "code",
   "execution_count": 73,
   "id": "a96c839b",
   "metadata": {
    "ExecuteTime": {
     "end_time": "2021-11-23T02:16:40.852678Z",
     "start_time": "2021-11-23T02:16:40.837719Z"
    }
   },
   "outputs": [
    {
     "name": "stdout",
     "output_type": "stream",
     "text": [
      "tensor(36., grad_fn=<SumBackward0>)\n"
     ]
    }
   ],
   "source": [
    "out = c.sum()\n",
    "print(out)"
   ]
  },
  {
   "cell_type": "code",
   "execution_count": 74,
   "id": "f7638daf",
   "metadata": {
    "ExecuteTime": {
     "end_time": "2021-11-23T02:16:40.868635Z",
     "start_time": "2021-11-23T02:16:40.853677Z"
    }
   },
   "outputs": [
    {
     "name": "stdout",
     "output_type": "stream",
     "text": [
      "tensor(36., grad_fn=<SumBackward0>)\n"
     ]
    }
   ],
   "source": [
    "print(out)\n",
    "out.backward()"
   ]
  },
  {
   "cell_type": "markdown",
   "id": "85c5766e",
   "metadata": {},
   "source": [
    "- a의 `grad_fn`이 None인 이유  \n",
    "  직접적으로 계산한 부분이 없었기 때문"
   ]
  },
  {
   "cell_type": "code",
   "execution_count": 75,
   "id": "9f8bcca3",
   "metadata": {
    "ExecuteTime": {
     "end_time": "2021-11-23T02:16:40.884624Z",
     "start_time": "2021-11-23T02:16:40.869633Z"
    }
   },
   "outputs": [
    {
     "name": "stdout",
     "output_type": "stream",
     "text": [
      "a.data: tensor([[1., 1.],\n",
      "        [1., 1.]])\n",
      "a.grad: tensor([[6., 6.],\n",
      "        [6., 6.]])\n",
      "a.grad_fn None\n"
     ]
    }
   ],
   "source": [
    "print('a.data:', a.data)\n",
    "print('a.grad:', a.grad)\n",
    "print('a.grad_fn', a.grad_fn)"
   ]
  },
  {
   "cell_type": "code",
   "execution_count": 76,
   "id": "7f6358b8",
   "metadata": {
    "ExecuteTime": {
     "end_time": "2021-11-23T02:16:40.900584Z",
     "start_time": "2021-11-23T02:16:40.885590Z"
    }
   },
   "outputs": [
    {
     "name": "stdout",
     "output_type": "stream",
     "text": [
      "b.data: tensor([[3., 3.],\n",
      "        [3., 3.]])\n",
      "b.grad: None\n",
      "b.grad_fn <AddBackward0 object at 0x00000187AA8D53A0>\n"
     ]
    },
    {
     "name": "stderr",
     "output_type": "stream",
     "text": [
      "C:\\Users\\User\\anaconda3\\lib\\site-packages\\torch\\_tensor.py:1013: UserWarning: The .grad attribute of a Tensor that is not a leaf Tensor is being accessed. Its .grad attribute won't be populated during autograd.backward(). If you indeed want the .grad field to be populated for a non-leaf Tensor, use .retain_grad() on the non-leaf Tensor. If you access the non-leaf Tensor by mistake, make sure you access the leaf Tensor instead. See github.com/pytorch/pytorch/pull/30531 for more informations. (Triggered internally at  aten\\src\\ATen/core/TensorBody.h:417.)\n",
      "  return self._grad\n"
     ]
    }
   ],
   "source": [
    "print('b.data:', b.data)\n",
    "print('b.grad:', b.grad)\n",
    "print('b.grad_fn', b.grad_fn)"
   ]
  },
  {
   "cell_type": "code",
   "execution_count": 77,
   "id": "699c2785",
   "metadata": {
    "ExecuteTime": {
     "end_time": "2021-11-23T02:16:40.915542Z",
     "start_time": "2021-11-23T02:16:40.901549Z"
    }
   },
   "outputs": [
    {
     "name": "stdout",
     "output_type": "stream",
     "text": [
      "c.data: tensor([[9., 9.],\n",
      "        [9., 9.]])\n",
      "c.grad: None\n",
      "c.grad_fn <PowBackward0 object at 0x00000187AA926D90>\n"
     ]
    }
   ],
   "source": [
    "print('c.data:', c.data)\n",
    "print('c.grad:', c.grad)\n",
    "print('c.grad_fn', c.grad_fn)"
   ]
  },
  {
   "cell_type": "code",
   "execution_count": 78,
   "id": "7ae732ce",
   "metadata": {
    "ExecuteTime": {
     "end_time": "2021-11-23T02:16:40.931468Z",
     "start_time": "2021-11-23T02:16:40.916508Z"
    }
   },
   "outputs": [
    {
     "name": "stdout",
     "output_type": "stream",
     "text": [
      "out.data: tensor(36.)\n",
      "out.grad: None\n",
      "out.grad_fn <SumBackward0 object at 0x00000187AA931DC0>\n"
     ]
    }
   ],
   "source": [
    "print('out.data:', out.data)\n",
    "print('out.grad:', out.grad)\n",
    "print('out.grad_fn', out.grad_fn)"
   ]
  },
  {
   "cell_type": "markdown",
   "id": "65b0796f",
   "metadata": {},
   "source": [
    "### 자동 미분 흐름 다시 보기(2)\n",
    "- `grad`값을 넣어서 `backward`\n",
    "\n",
    "- 아래의 코드에서 `.grad`값이 None은 gradient값이 필요하지 않기 때문"
   ]
  },
  {
   "cell_type": "code",
   "execution_count": 79,
   "id": "b3ddd349",
   "metadata": {
    "ExecuteTime": {
     "end_time": "2021-11-23T02:16:40.946428Z",
     "start_time": "2021-11-23T02:16:40.932466Z"
    }
   },
   "outputs": [
    {
     "name": "stdout",
     "output_type": "stream",
     "text": [
      "tensor(6., grad_fn=<SumBackward0>)\n"
     ]
    }
   ],
   "source": [
    "x = torch.ones(3, requires_grad = True)\n",
    "y = (x ** 2)\n",
    "z = y ** 2 + x\n",
    "out = z.sum()\n",
    "print(out)"
   ]
  },
  {
   "cell_type": "code",
   "execution_count": 80,
   "id": "f2b3599a",
   "metadata": {
    "ExecuteTime": {
     "end_time": "2021-11-23T02:16:40.961423Z",
     "start_time": "2021-11-23T02:16:40.947425Z"
    }
   },
   "outputs": [],
   "source": [
    "grad = torch.Tensor([0.1, 1, 100])\n",
    "z.backward(grad)"
   ]
  },
  {
   "cell_type": "code",
   "execution_count": 81,
   "id": "68281fb9",
   "metadata": {
    "ExecuteTime": {
     "end_time": "2021-11-23T02:16:40.977346Z",
     "start_time": "2021-11-23T02:16:40.962384Z"
    }
   },
   "outputs": [
    {
     "name": "stdout",
     "output_type": "stream",
     "text": [
      "x.data: tensor([1., 1., 1.])\n",
      "x.grad: tensor([  0.5000,   5.0000, 500.0000])\n",
      "x.grad_fn None\n"
     ]
    }
   ],
   "source": [
    "print('x.data:', x.data)\n",
    "print('x.grad:', x.grad)\n",
    "print('x.grad_fn', x.grad_fn)"
   ]
  },
  {
   "cell_type": "code",
   "execution_count": 82,
   "id": "03abcf5f",
   "metadata": {
    "ExecuteTime": {
     "end_time": "2021-11-23T02:16:40.993335Z",
     "start_time": "2021-11-23T02:16:40.978341Z"
    },
    "scrolled": true
   },
   "outputs": [
    {
     "name": "stdout",
     "output_type": "stream",
     "text": [
      "y.data: tensor([1., 1., 1.])\n",
      "y.grad: None\n",
      "y.grad_fn <PowBackward0 object at 0x00000187AA9361C0>\n"
     ]
    }
   ],
   "source": [
    "print('y.data:', y.data)\n",
    "print('y.grad:', y.grad)\n",
    "print('y.grad_fn', y.grad_fn)"
   ]
  },
  {
   "cell_type": "code",
   "execution_count": 83,
   "id": "7a32b904",
   "metadata": {
    "ExecuteTime": {
     "end_time": "2021-11-23T02:16:41.009292Z",
     "start_time": "2021-11-23T02:16:40.994299Z"
    }
   },
   "outputs": [
    {
     "name": "stdout",
     "output_type": "stream",
     "text": [
      "z.data: tensor([2., 2., 2.])\n",
      "z.grad: None\n",
      "yz.grad_fn <AddBackward0 object at 0x00000187AA936250>\n"
     ]
    }
   ],
   "source": [
    "print('z.data:', z.data)\n",
    "print('z.grad:', z.grad)\n",
    "print('yz.grad_fn', z.grad_fn)"
   ]
  },
  {
   "cell_type": "markdown",
   "id": "4b63aff2",
   "metadata": {},
   "source": [
    "## nn & nn.functional\n",
    "\n",
    "- 두 패키지가 같은 기능이지만 방식이 조금 다름\n",
    "\n",
    "- 위의 `autograd` 관련 작업들을 두 패키지를 통해 진행할 수 있음\n",
    "\n",
    "- 텐서를 직접 다룰 때 `requires_grad`와 같은 방식으로 진행할 수 있음\n",
    "\n",
    "- 결론적으로, `torch.nn`은 attribute를 활용해 state를 저장하고 활용하고,  \n",
    "  `torch.nn.functional`로 구현한 함수의 경우에는 인스턴스화 시킬 필요 없이 사용이 가능\n",
    " \n"
   ]
  },
  {
   "cell_type": "markdown",
   "id": "e1cfe344",
   "metadata": {},
   "source": [
    "### nn 패키지\n",
    "\n",
    "- 주로 가중치(weights), 편향(bias)값들이 내부에서 자동으로 생성되는 레이어들을 사용할 때  \n",
    "  - 따라서, `weight`값들을 직접 선언 안함\n",
    "\n",
    "- 예시\n",
    "  - Containers\n",
    "\n",
    "  - Convolution Layers\n",
    "\n",
    "  - Pooling layers\n",
    "\n",
    "  - Padding Layers\n",
    "\n",
    "  - Non-linear Activations (weighted sum, nonlinearity)\n",
    "\n",
    "  - Non-linear Activations (other)\n",
    "\n",
    "  - Normalization Layers\n",
    "\n",
    "  - Recurrent Layers\n",
    "\n",
    "  - Transformer Layers\n",
    "\n",
    "  - Linear Layers\n",
    "\n",
    "  - Dropout Layers\n",
    "\n",
    "  - Sparse Layers\n",
    "\n",
    "  - Distance Functions\n",
    "\n",
    "  - Loss Functions\n",
    "\n",
    "  - ..\n",
    "- https://pytorch.org/docs/stable/nn.html\n",
    "\n"
   ]
  },
  {
   "cell_type": "code",
   "execution_count": 84,
   "id": "1d0e3a52",
   "metadata": {
    "ExecuteTime": {
     "end_time": "2021-11-23T02:16:41.025216Z",
     "start_time": "2021-11-23T02:16:41.010258Z"
    }
   },
   "outputs": [],
   "source": [
    "import torch\n",
    "import torch.nn as nn"
   ]
  },
  {
   "cell_type": "markdown",
   "id": "6f33bcfa",
   "metadata": {},
   "source": [
    "- Convolution Layer 예시 (1)\n"
   ]
  },
  {
   "cell_type": "code",
   "execution_count": 85,
   "id": "108d1e93",
   "metadata": {
    "ExecuteTime": {
     "end_time": "2021-11-23T02:16:41.105038Z",
     "start_time": "2021-11-23T02:16:41.027212Z"
    }
   },
   "outputs": [
    {
     "name": "stdout",
     "output_type": "stream",
     "text": [
      "tensor([[[[-2.3786e-01, -2.0828e-01, -1.9869e+00,  ..., -2.0005e-01,\n",
      "            7.6591e-01, -1.5691e-01],\n",
      "          [-8.7377e-01, -3.7826e-01, -1.0437e+00,  ..., -6.3094e-01,\n",
      "            1.7201e-01, -7.3196e-01],\n",
      "          [ 4.5877e-01, -1.7217e+00, -2.8078e-01,  ..., -8.3087e-01,\n",
      "           -6.8993e-01,  9.3212e-01],\n",
      "          ...,\n",
      "          [ 1.5956e-02, -4.2803e-01, -4.7430e-01,  ...,  1.4325e+00,\n",
      "           -1.5158e+00,  7.2027e-01],\n",
      "          [ 8.4602e-01,  3.3291e-01, -6.2889e-01,  ..., -1.4843e+00,\n",
      "           -1.9154e+00,  1.3924e+00],\n",
      "          [ 8.6444e-01,  8.7619e-02,  1.2312e+00,  ..., -2.5063e+00,\n",
      "            1.0943e+00,  2.5202e+00]],\n",
      "\n",
      "         [[ 6.5398e-01, -3.4213e-01,  2.2201e+00,  ..., -1.3937e+00,\n",
      "           -2.1117e+00, -1.1607e+00],\n",
      "          [-1.2032e+00, -2.0027e+00,  4.7699e-01,  ..., -1.1730e+00,\n",
      "            9.2401e-01,  5.3912e-01],\n",
      "          [ 4.3737e-01, -3.6971e-01,  7.1331e-01,  ..., -1.7110e+00,\n",
      "            3.6971e-02,  4.6006e-01],\n",
      "          ...,\n",
      "          [-2.8629e-01, -9.9268e-01,  1.3444e-01,  ..., -3.9244e-01,\n",
      "            6.8362e-01, -1.6803e-01],\n",
      "          [ 1.8557e-01, -2.0541e-01, -5.3299e-01,  ..., -1.0775e+00,\n",
      "            1.3303e+00, -3.3830e-01],\n",
      "          [ 1.2723e-01, -1.7286e-01,  9.3493e-01,  ..., -2.3556e-01,\n",
      "           -2.2131e-02,  5.8827e-01]],\n",
      "\n",
      "         [[ 1.0455e+00, -8.4354e-01,  9.4546e-01,  ...,  1.6255e+00,\n",
      "            2.2992e-01,  6.0457e-01],\n",
      "          [-5.8415e-01,  3.6438e-01,  3.0033e-01,  ..., -1.7643e+00,\n",
      "           -9.1411e-01, -1.9759e-01],\n",
      "          [ 3.5527e-01,  4.4688e-01,  2.9581e-02,  ...,  1.4062e+00,\n",
      "            9.9790e-02,  8.6361e-01],\n",
      "          ...,\n",
      "          [-5.2902e-02,  3.1073e-01,  1.4088e+00,  ..., -1.9041e+00,\n",
      "           -1.0583e+00, -1.9357e-01],\n",
      "          [-5.3629e-01,  1.0734e+00, -1.4997e+00,  ..., -7.8736e-01,\n",
      "            1.8830e+00,  1.0861e+00],\n",
      "          [ 1.1093e+00,  7.4965e-01, -1.2669e+00,  ..., -2.8875e-02,\n",
      "           -7.4537e-01,  1.5874e+00]],\n",
      "\n",
      "         ...,\n",
      "\n",
      "         [[ 4.3840e-01, -7.3691e-01, -1.2334e+00,  ..., -2.0007e-01,\n",
      "            9.5909e-01,  2.4475e-01],\n",
      "          [-1.3787e+00,  7.7593e-01,  1.3749e-01,  ..., -3.6799e-01,\n",
      "            4.1093e-01,  1.6427e+00],\n",
      "          [-2.6848e+00,  2.5425e-02,  8.9016e-01,  ...,  1.8720e+00,\n",
      "            4.5948e-01, -9.4827e-01],\n",
      "          ...,\n",
      "          [-5.5570e-01,  4.1884e-01, -2.6628e-01,  ..., -1.5303e+00,\n",
      "           -2.4379e+00,  7.3588e-01],\n",
      "          [ 1.4977e+00, -1.2667e+00, -1.4202e+00,  ..., -5.2409e-01,\n",
      "            9.0026e-01,  2.7290e-01],\n",
      "          [-6.3499e-01, -2.0514e+00,  7.7901e-02,  ..., -4.5036e-02,\n",
      "           -1.6607e+00, -9.3259e-02]],\n",
      "\n",
      "         [[-1.0424e+00,  7.4825e-01,  6.3758e-01,  ...,  4.8239e-01,\n",
      "            5.8787e-01,  8.3099e-01],\n",
      "          [ 9.0070e-01, -9.0678e-01,  9.0721e-01,  ...,  2.1028e-01,\n",
      "           -1.8303e-01,  7.8502e-01],\n",
      "          [-3.4018e-02,  1.9167e-01,  2.3906e-01,  ..., -1.7811e+00,\n",
      "            1.2822e+00, -5.3897e-01],\n",
      "          ...,\n",
      "          [ 2.0180e+00,  1.9578e+00,  2.5982e-01,  ..., -1.3486e+00,\n",
      "           -5.3367e-01, -1.1328e+00],\n",
      "          [-7.8350e-01, -1.1804e+00, -9.4762e-01,  ...,  8.4943e-01,\n",
      "           -3.2837e+00,  4.8124e-01],\n",
      "          [-7.3426e-01,  5.4727e-01,  1.2542e-02,  ..., -1.7462e+00,\n",
      "           -8.1176e-01,  5.0230e-01]],\n",
      "\n",
      "         [[-1.9519e+00,  7.6345e-01,  1.2120e+00,  ...,  1.2474e+00,\n",
      "           -2.1428e+00,  8.9166e-01],\n",
      "          [-6.9619e-01, -7.3846e-01,  3.2801e-01,  ...,  1.1332e+00,\n",
      "            4.0171e-02, -1.1441e+00],\n",
      "          [-2.6774e+00, -1.0413e+00, -1.6806e+00,  ..., -4.1504e-01,\n",
      "            3.8196e-01, -8.3820e-01],\n",
      "          ...,\n",
      "          [-4.3034e-01, -1.1260e+00, -1.6201e+00,  ..., -1.1841e+00,\n",
      "            1.9526e+00,  1.8585e+00],\n",
      "          [ 3.0745e-01,  3.6899e-01,  7.1283e-02,  ..., -3.4875e-01,\n",
      "           -2.5542e-01,  8.3609e-02],\n",
      "          [ 1.0841e+00,  6.2884e-01,  1.9425e-01,  ...,  9.6777e-01,\n",
      "            2.6629e-02, -6.9231e-01]]],\n",
      "\n",
      "\n",
      "        [[[ 4.7592e-01, -7.7524e-01,  6.7597e-01,  ...,  4.4167e-01,\n",
      "            1.5271e+00, -6.6633e-01],\n",
      "          [ 8.6274e-01, -1.0796e-01, -5.3176e-02,  ...,  2.3224e+00,\n",
      "            7.4508e-01, -8.0199e-01],\n",
      "          [-1.2190e+00,  1.0889e+00,  1.4173e-01,  ...,  5.8574e-01,\n",
      "           -4.5034e-01,  6.4265e-01],\n",
      "          ...,\n",
      "          [-1.1296e+00,  7.2809e-01,  1.1442e+00,  ..., -6.2845e-01,\n",
      "            2.4569e-02,  5.2604e-01],\n",
      "          [ 8.4004e-01, -5.1013e-01,  1.6574e+00,  ..., -1.0223e+00,\n",
      "           -4.8871e-01, -4.3550e-01],\n",
      "          [ 6.0247e-01, -7.5592e-01,  1.1970e-01,  ..., -5.7400e-01,\n",
      "           -5.2669e-01, -1.2156e+00]],\n",
      "\n",
      "         [[-6.4342e-01,  9.0572e-01, -1.9216e+00,  ...,  3.2131e-01,\n",
      "           -5.1979e-01,  4.5592e-01],\n",
      "          [-7.4292e-01,  1.8302e+00, -3.2942e-01,  ...,  7.4061e-02,\n",
      "           -4.9741e-01, -1.0855e+00],\n",
      "          [ 1.9331e+00,  1.4199e+00,  1.9843e+00,  ..., -7.8060e-01,\n",
      "           -1.4928e+00, -6.1332e-01],\n",
      "          ...,\n",
      "          [-5.1141e-01, -1.9451e+00,  1.7212e-01,  ...,  9.4062e-01,\n",
      "            1.9131e-01, -1.9581e-01],\n",
      "          [-6.7362e-01, -4.2625e-01,  9.1481e-01,  ...,  4.1569e-01,\n",
      "            2.2713e-01, -1.6325e+00],\n",
      "          [ 2.1103e-01, -1.7782e+00,  7.2132e-01,  ...,  1.5320e+00,\n",
      "            9.7929e-01,  1.3945e+00]],\n",
      "\n",
      "         [[ 2.0756e-01,  9.2830e-01, -1.1368e+00,  ..., -8.6680e-01,\n",
      "            6.1064e-01, -6.9141e-01],\n",
      "          [-1.0631e-01,  2.4728e-01,  8.1624e-01,  ..., -1.2715e+00,\n",
      "            1.6344e+00,  3.7375e-01],\n",
      "          [ 1.2024e+00, -2.1892e-01,  1.0360e+00,  ..., -6.5356e-01,\n",
      "            1.0985e+00,  1.1876e+00],\n",
      "          ...,\n",
      "          [ 1.2668e+00, -1.6114e+00, -1.7203e+00,  ..., -2.2693e-02,\n",
      "            3.1115e-01,  1.5316e+00],\n",
      "          [-2.7507e-01, -1.0910e+00, -7.2818e-01,  ...,  1.4198e+00,\n",
      "           -1.0660e+00,  2.3028e-01],\n",
      "          [-1.5919e+00,  6.6296e-01, -2.5224e-02,  ..., -3.6267e-01,\n",
      "           -1.2707e-01,  1.1259e+00]],\n",
      "\n",
      "         ...,\n",
      "\n",
      "         [[ 3.0341e-01,  1.6342e+00,  1.7525e+00,  ..., -1.3438e-01,\n",
      "            4.9371e-01, -5.0417e-01],\n",
      "          [ 1.8838e-01, -1.6850e+00,  1.3681e+00,  ...,  2.5450e-01,\n",
      "           -1.0673e+00, -9.4726e-01],\n",
      "          [ 1.1377e+00, -4.5257e-01, -7.0678e-01,  ...,  7.0798e-01,\n",
      "           -4.9850e-01,  1.1569e+00],\n",
      "          ...,\n",
      "          [ 6.1152e-01,  1.5940e+00, -5.1213e-01,  ...,  1.2545e+00,\n",
      "           -9.5238e-01, -1.4444e-01],\n",
      "          [-4.5869e-01, -3.9104e-01, -7.7379e-01,  ...,  9.2578e-01,\n",
      "           -2.3616e-01, -1.7743e-01],\n",
      "          [-1.3997e+00,  1.3977e+00, -3.9335e-01,  ..., -4.4285e-01,\n",
      "            1.3497e+00, -8.0064e-01]],\n",
      "\n",
      "         [[ 1.3743e+00, -1.5173e+00, -4.7777e-01,  ..., -1.0323e+00,\n",
      "            8.5490e-01,  9.1667e-01],\n",
      "          [-1.1939e+00, -1.2269e+00, -5.0736e-01,  ..., -2.6849e-01,\n",
      "            4.8374e-01,  1.1953e+00],\n",
      "          [ 3.5470e-01,  3.6050e-03,  1.3661e-01,  ..., -1.8044e-01,\n",
      "            2.9937e-01, -4.6622e-01],\n",
      "          ...,\n",
      "          [ 1.0727e+00, -1.4703e-01,  5.9894e-01,  ..., -1.0072e-01,\n",
      "           -8.2515e-01, -1.5449e+00],\n",
      "          [-8.2224e-01,  7.1609e-02, -1.5622e-01,  ..., -2.7952e-01,\n",
      "            5.9904e-01,  1.1984e-01],\n",
      "          [ 1.4464e+00,  1.0294e+00, -1.9369e+00,  ...,  3.0921e-01,\n",
      "            3.4027e-01, -1.4580e-01]],\n",
      "\n",
      "         [[ 2.7534e-02,  1.1694e+00,  6.2195e-01,  ..., -4.6470e-02,\n",
      "            1.3863e-01,  8.3824e-01],\n",
      "          [ 8.7794e-01,  2.9355e-01, -9.7070e-01,  ...,  1.3955e+00,\n",
      "           -9.3890e-01,  2.1728e-01],\n",
      "          [-1.4300e+00,  8.3343e-01,  1.4662e+00,  ...,  2.2218e+00,\n",
      "            2.7416e-01, -2.0228e-02],\n",
      "          ...,\n",
      "          [-3.0669e-01,  1.9288e+00, -7.9188e-01,  ...,  1.5417e+00,\n",
      "            9.3456e-02,  5.5678e-01],\n",
      "          [ 2.5340e-01,  1.3272e-01, -3.6135e-01,  ..., -3.0596e-01,\n",
      "            9.9422e-01,  1.9678e-01],\n",
      "          [ 4.6767e-01,  3.1591e-01,  1.1635e+00,  ...,  1.6035e-01,\n",
      "           -2.0637e-01,  1.1374e+00]]],\n",
      "\n",
      "\n",
      "        [[[ 1.4794e+00, -3.0556e-01,  1.4169e+00,  ..., -1.8805e-01,\n",
      "           -3.3498e-01, -1.3857e+00],\n",
      "          [ 1.9617e+00, -9.1497e-01,  4.5270e-01,  ...,  8.3690e-02,\n",
      "            4.4950e-01, -1.6250e+00],\n",
      "          [-4.8945e-01,  5.6627e-02, -2.1312e+00,  ...,  1.2040e+00,\n",
      "            3.7712e-01, -1.5988e-02],\n",
      "          ...,\n",
      "          [ 1.0800e+00, -1.5424e+00,  1.3077e+00,  ...,  7.0500e-01,\n",
      "           -5.1904e-01, -1.8083e+00],\n",
      "          [ 8.8051e-01,  2.8847e-01, -3.5800e-02,  ...,  9.7263e-02,\n",
      "            5.1847e-01,  9.0796e-01],\n",
      "          [ 2.8572e-01, -5.3498e-01,  1.9742e+00,  ...,  2.2484e-02,\n",
      "            7.5330e-01, -4.0242e-01]],\n",
      "\n",
      "         [[ 7.7567e-02,  1.7008e+00,  1.3921e+00,  ...,  7.6611e-01,\n",
      "            3.0222e-01,  1.4084e+00],\n",
      "          [-9.6675e-01, -3.4185e-01, -2.9432e-01,  ...,  9.0054e-01,\n",
      "           -2.4802e-01, -3.5878e-01],\n",
      "          [ 9.9304e-01, -1.3489e+00, -5.0735e-01,  ..., -3.4518e-01,\n",
      "            1.7454e-02,  8.6392e-01],\n",
      "          ...,\n",
      "          [-4.2166e-01,  3.7176e-01, -1.0945e+00,  ..., -1.1945e+00,\n",
      "           -1.5674e-01,  5.3643e-01],\n",
      "          [ 1.5272e+00,  8.5556e-01,  7.1345e-01,  ...,  2.9883e-02,\n",
      "            1.0646e+00,  1.5436e-01],\n",
      "          [-7.8271e-01,  1.3504e+00, -2.3823e-01,  ..., -2.5050e-01,\n",
      "           -5.1527e-01, -1.6391e+00]],\n",
      "\n",
      "         [[ 1.3217e+00, -8.3925e-01, -7.9607e-01,  ..., -2.7161e+00,\n",
      "           -7.1301e-01, -5.2572e-01],\n",
      "          [ 1.9358e-01,  8.3617e-01, -1.4845e+00,  ..., -9.7925e-02,\n",
      "           -8.7511e-01,  1.2658e+00],\n",
      "          [-9.4956e-01, -4.4080e-01,  7.9039e-01,  ..., -2.1023e-02,\n",
      "            6.2895e-01,  8.0651e-01],\n",
      "          ...,\n",
      "          [ 2.0123e+00, -1.2364e+00,  2.6245e-01,  ...,  3.2575e-01,\n",
      "           -1.4042e+00,  2.2002e+00],\n",
      "          [-4.3539e-01, -3.1771e+00,  1.4194e+00,  ..., -1.1958e+00,\n",
      "           -5.5649e-01,  1.4311e+00],\n",
      "          [-8.2929e-02,  2.1580e-01, -1.7096e+00,  ..., -4.3683e-01,\n",
      "           -1.4981e+00,  3.3069e-02]],\n",
      "\n",
      "         ...,\n",
      "\n",
      "         [[-5.7987e-01,  7.5914e-01, -4.1798e-01,  ...,  7.3494e-01,\n",
      "           -1.9580e+00, -1.9327e+00],\n",
      "          [ 3.9271e-01,  6.4435e-01,  1.7411e+00,  ...,  5.2293e-01,\n",
      "            1.0581e+00, -1.4796e+00],\n",
      "          [-2.5309e-01, -2.2045e+00, -7.9459e-01,  ..., -1.8378e-01,\n",
      "            5.1581e-01, -1.4875e-01],\n",
      "          ...,\n",
      "          [-1.6881e-01, -3.5292e-01, -1.4185e+00,  ...,  1.6330e+00,\n",
      "           -1.1560e-01, -2.8928e-01],\n",
      "          [-2.8469e-01,  3.7109e-01,  7.8043e-01,  ..., -2.4654e-01,\n",
      "           -4.7638e-01,  7.8443e-01],\n",
      "          [ 2.7984e-01, -6.9894e-01,  5.5266e-01,  ...,  5.0634e-01,\n",
      "            2.6100e-01, -4.0063e-01]],\n",
      "\n",
      "         [[-1.1178e+00,  1.8338e+00, -5.6931e-01,  ..., -3.6063e-01,\n",
      "           -8.1225e-01, -1.1282e+00],\n",
      "          [ 7.3493e-01,  3.6750e-01,  3.7385e-01,  ...,  1.5348e+00,\n",
      "            3.4786e-01,  3.7168e-01],\n",
      "          [-1.3184e+00, -3.6652e-01, -2.2663e+00,  ...,  3.3715e-01,\n",
      "            7.6541e-01, -5.0915e-02],\n",
      "          ...,\n",
      "          [-1.6875e-01,  2.6689e-01,  1.5399e+00,  ...,  5.8293e-01,\n",
      "           -1.1155e-01, -1.0430e+00],\n",
      "          [-2.2917e+00,  1.4374e+00,  8.8010e-01,  ..., -1.0003e+00,\n",
      "            1.5926e+00, -4.3518e-01],\n",
      "          [ 8.7084e-02, -1.1255e+00, -3.1112e-01,  ...,  4.0080e-01,\n",
      "           -3.8594e-02,  2.3533e+00]],\n",
      "\n",
      "         [[-6.8981e-01,  6.9079e-02,  1.4394e+00,  ...,  3.2962e-01,\n",
      "            3.7345e-01, -9.8485e-01],\n",
      "          [ 1.4727e+00,  1.4816e+00,  1.0640e+00,  ..., -5.9569e-01,\n",
      "           -1.8241e-01,  1.1896e+00],\n",
      "          [-7.9683e-01, -5.7526e-02, -2.4823e+00,  ..., -3.9063e-01,\n",
      "           -1.8618e+00, -7.0576e-01],\n",
      "          ...,\n",
      "          [-2.7800e+00, -1.9757e+00, -2.5976e-03,  ...,  1.3970e-01,\n",
      "            6.0432e-01, -8.5597e-01],\n",
      "          [-6.9548e-01,  1.1388e+00, -2.0660e+00,  ...,  5.4904e-01,\n",
      "           -9.8718e-01,  7.4905e-01],\n",
      "          [-1.2307e-02, -1.4177e+00,  5.5952e-01,  ..., -6.8561e-01,\n",
      "            1.0148e+00,  3.5938e-01]]],\n",
      "\n",
      "\n",
      "        ...,\n",
      "\n",
      "\n",
      "        [[[ 1.0076e+00, -1.1443e-01,  1.3788e+00,  ..., -4.3671e-01,\n",
      "           -4.5480e-01, -2.7618e-01],\n",
      "          [ 8.4011e-01, -1.0701e+00, -1.2791e+00,  ..., -2.7998e+00,\n",
      "           -1.2613e-01, -9.0653e-01],\n",
      "          [ 5.1915e-01, -7.9335e-01,  1.3463e+00,  ..., -1.5119e+00,\n",
      "            5.4362e-01, -8.5131e-01],\n",
      "          ...,\n",
      "          [ 1.2186e+00,  1.2615e-01, -1.2144e+00,  ..., -9.4536e-01,\n",
      "           -1.2663e+00, -1.3025e+00],\n",
      "          [ 1.1240e+00,  7.9299e-01, -1.2507e+00,  ...,  4.8799e-01,\n",
      "           -1.2047e+00, -9.2813e-01],\n",
      "          [ 5.4784e-01,  4.8012e-01,  6.4554e-02,  ..., -1.0473e+00,\n",
      "            4.5532e-01, -1.5519e-01]],\n",
      "\n",
      "         [[ 1.1772e+00, -2.8982e+00, -1.2953e+00,  ..., -1.0885e+00,\n",
      "           -1.4326e-01, -3.9711e-01],\n",
      "          [-1.2409e+00, -1.9584e+00,  8.4048e-01,  ..., -8.9992e-01,\n",
      "            1.0410e-03, -3.5398e-01],\n",
      "          [ 9.4195e-02,  4.7320e-01,  1.0063e+00,  ..., -7.1396e-01,\n",
      "            1.3772e-01, -2.5859e-01],\n",
      "          ...,\n",
      "          [ 6.3100e-01, -2.2821e+00, -8.0993e-01,  ...,  9.6360e-01,\n",
      "            4.9889e-01,  1.1811e+00],\n",
      "          [ 1.5803e-01,  1.3515e+00, -5.1322e-01,  ..., -1.5193e+00,\n",
      "           -1.3377e+00, -3.1243e-01],\n",
      "          [-4.7952e-01,  6.2914e-01,  3.0730e-03,  ..., -7.9292e-01,\n",
      "            2.1182e+00, -5.8852e-02]],\n",
      "\n",
      "         [[-1.3616e+00,  8.3350e-02, -3.4412e-01,  ..., -1.6480e-01,\n",
      "            2.6269e-01, -9.9365e-01],\n",
      "          [-6.3727e-01, -1.3618e+00, -4.8797e-01,  ..., -1.0095e-01,\n",
      "           -6.4227e-01, -1.4129e+00],\n",
      "          [ 7.8250e-01, -1.5064e+00,  3.5510e-01,  ..., -1.5773e+00,\n",
      "            7.7195e-01, -1.2399e+00],\n",
      "          ...,\n",
      "          [ 1.0319e-01, -5.0993e-01, -3.1030e-01,  ..., -1.0988e+00,\n",
      "           -3.7299e-01, -1.0909e+00],\n",
      "          [ 1.0731e+00, -1.3426e+00, -2.2298e+00,  ...,  3.8433e-01,\n",
      "           -7.5300e-01,  4.9724e-01],\n",
      "          [-1.7461e-01, -2.9741e-01, -4.1782e-01,  ...,  1.3106e+00,\n",
      "            1.2972e+00, -2.2120e+00]],\n",
      "\n",
      "         ...,\n",
      "\n",
      "         [[-4.0558e-01, -1.4581e+00,  4.2697e-01,  ...,  3.9978e-01,\n",
      "           -1.2307e+00, -9.1570e-01],\n",
      "          [-1.2887e+00, -1.0572e+00,  6.7418e-01,  ..., -8.6837e-01,\n",
      "           -5.7671e-01, -2.6111e-01],\n",
      "          [-9.4046e-01,  4.7485e-02, -8.3904e-02,  ..., -1.1191e-01,\n",
      "           -4.9512e-01,  3.7948e-01],\n",
      "          ...,\n",
      "          [ 3.7520e-01,  7.0889e-01,  1.6027e+00,  ..., -1.6795e+00,\n",
      "            6.0927e-01, -4.5749e-01],\n",
      "          [ 6.5976e-02,  4.2642e-01, -1.3534e+00,  ...,  8.9069e-01,\n",
      "            3.9407e-01, -1.3696e+00],\n",
      "          [ 1.2881e+00,  2.8097e-01, -1.3820e+00,  ...,  1.8371e+00,\n",
      "           -1.7784e+00, -8.1080e-01]],\n",
      "\n",
      "         [[ 4.2999e-01, -5.8956e-01,  1.4394e-01,  ..., -1.8093e+00,\n",
      "            9.8714e-01,  7.3518e-01],\n",
      "          [ 4.3365e-01, -7.7891e-01, -3.9565e-01,  ...,  1.3584e+00,\n",
      "            2.2745e-01, -9.5892e-01],\n",
      "          [-1.4092e+00, -1.7196e+00, -5.8761e-01,  ...,  3.5769e-01,\n",
      "            8.0996e-02,  1.2268e+00],\n",
      "          ...,\n",
      "          [-9.9403e-01,  7.2785e-01,  1.6545e+00,  ...,  1.5598e+00,\n",
      "           -1.3414e+00,  9.0771e-01],\n",
      "          [-1.3261e+00,  1.0168e+00,  4.9493e-01,  ...,  2.4813e-01,\n",
      "           -2.6577e-01, -7.4396e-01],\n",
      "          [-7.0273e-01,  1.3355e-01,  8.2543e-01,  ...,  2.1874e-01,\n",
      "           -2.5762e-01, -1.6458e+00]],\n",
      "\n",
      "         [[ 3.1792e-01,  1.0041e+00,  9.2283e-02,  ...,  1.9649e-02,\n",
      "           -4.1752e-01, -7.3396e-01],\n",
      "          [ 9.7655e-01, -4.3084e-01, -4.7053e-01,  ...,  3.1076e-01,\n",
      "            1.3296e+00, -8.1187e-01],\n",
      "          [-2.7872e-01,  9.1115e-01,  9.2490e-01,  ...,  1.4731e+00,\n",
      "           -2.1658e-01, -3.7958e-01],\n",
      "          ...,\n",
      "          [ 1.9837e-01, -1.7145e+00, -1.0086e-01,  ...,  1.8277e-01,\n",
      "            1.8717e-02,  7.6276e-01],\n",
      "          [ 2.6134e-01,  2.5244e-01, -2.1126e+00,  ..., -1.1354e+00,\n",
      "           -3.1637e-01,  5.1104e-01],\n",
      "          [ 3.3671e-01, -6.9490e-01,  1.3313e-01,  ..., -4.9302e-01,\n",
      "            1.4644e+00, -1.2949e-01]]],\n",
      "\n",
      "\n",
      "        [[[ 2.7733e-01,  1.4431e-01,  3.5002e-01,  ...,  1.2377e+00,\n",
      "           -1.6163e+00,  1.8698e+00],\n",
      "          [-1.3061e+00,  1.4105e+00, -1.1475e+00,  ..., -2.0790e-01,\n",
      "           -1.1513e-01,  1.4616e-01],\n",
      "          [-9.9812e-01,  2.7809e-01, -1.1205e+00,  ..., -1.1615e+00,\n",
      "            9.1866e-01, -9.2175e-01],\n",
      "          ...,\n",
      "          [ 1.9600e+00,  5.7506e-01, -1.4491e+00,  ...,  4.5182e-01,\n",
      "           -1.8046e+00, -2.8695e-01],\n",
      "          [-1.4404e-01,  5.0276e-01,  1.3824e-01,  ...,  1.4630e+00,\n",
      "           -1.4410e+00,  6.1357e-02],\n",
      "          [-4.6824e-01, -1.4852e-02, -9.3635e-01,  ..., -1.8273e+00,\n",
      "           -7.5888e-01,  5.5576e-01]],\n",
      "\n",
      "         [[ 5.6413e-01, -9.6392e-01, -1.0393e+00,  ...,  1.1054e-01,\n",
      "           -2.2791e+00,  1.9707e+00],\n",
      "          [ 6.8603e-01, -1.4062e+00, -1.7619e+00,  ...,  5.7955e-01,\n",
      "           -3.1368e-01,  1.3521e-01],\n",
      "          [ 3.4690e-01,  1.9534e-01, -1.6965e+00,  ...,  2.6200e-01,\n",
      "           -6.7275e-01,  1.5929e-01],\n",
      "          ...,\n",
      "          [-4.5935e-01, -1.1087e+00,  1.8057e-01,  ...,  4.4308e-01,\n",
      "            1.2755e+00,  2.1551e+00],\n",
      "          [ 6.8951e-01, -1.4883e+00,  1.3119e+00,  ...,  5.5873e-01,\n",
      "           -2.1176e+00, -3.3432e-01],\n",
      "          [ 7.4038e-01, -1.3858e-01, -9.6057e-01,  ...,  5.7190e-01,\n",
      "            1.1100e-01,  4.9313e-01]],\n",
      "\n",
      "         [[-1.2315e-01,  1.0080e+00, -6.5918e-01,  ...,  1.4870e+00,\n",
      "            1.2985e+00,  8.4676e-02],\n",
      "          [ 7.5458e-01, -8.7483e-01, -2.7158e-01,  ...,  3.8663e-01,\n",
      "           -1.0672e+00, -3.6245e-01],\n",
      "          [ 9.9649e-02, -1.9182e+00, -6.5355e-02,  ..., -3.1475e-01,\n",
      "           -8.5798e-01, -1.5793e+00],\n",
      "          ...,\n",
      "          [ 1.2165e+00, -7.7011e-01, -1.5141e+00,  ...,  7.9167e-01,\n",
      "           -6.9168e-01,  2.9347e-01],\n",
      "          [-1.1591e+00,  1.1405e+00,  8.5692e-01,  ...,  1.7307e+00,\n",
      "           -7.6687e-01, -9.8992e-01],\n",
      "          [-1.7302e+00, -6.6073e-01,  5.9283e-01,  ...,  1.4874e+00,\n",
      "           -8.2920e-01, -6.3007e-02]],\n",
      "\n",
      "         ...,\n",
      "\n",
      "         [[ 8.1972e-01,  9.0531e-02, -2.2582e-01,  ..., -2.3363e-01,\n",
      "           -1.2836e+00, -1.5653e+00],\n",
      "          [ 1.2718e+00, -1.3169e+00,  3.5013e-01,  ...,  1.2434e+00,\n",
      "           -1.3214e-01, -1.0467e+00],\n",
      "          [ 3.3507e-01,  1.2338e+00, -1.2692e+00,  ..., -8.4544e-01,\n",
      "            1.5433e+00,  1.0351e+00],\n",
      "          ...,\n",
      "          [ 5.0515e-01, -2.6014e-01, -7.9918e-01,  ...,  2.3410e+00,\n",
      "            8.0178e-01, -3.2228e-02],\n",
      "          [ 2.3999e-01,  2.9036e-02,  1.2316e+00,  ..., -9.5911e-01,\n",
      "            1.7674e+00,  1.7024e+00],\n",
      "          [ 4.8050e-01, -8.1428e-01, -4.7743e-01,  ...,  1.9018e+00,\n",
      "            5.9863e-01, -1.1575e+00]],\n",
      "\n",
      "         [[-7.9060e-01,  4.8799e-01,  2.8275e-01,  ..., -9.8912e-01,\n",
      "            3.4870e-01,  2.8162e-01],\n",
      "          [ 4.1421e-02, -1.3618e+00,  7.0713e-01,  ...,  2.4203e-01,\n",
      "           -4.5075e-02,  1.9182e+00],\n",
      "          [ 7.3872e-01,  1.4251e+00,  1.0367e+00,  ...,  1.2965e-01,\n",
      "            7.0944e-01, -7.3852e-01],\n",
      "          ...,\n",
      "          [-2.0525e+00, -1.1862e+00, -2.2991e-01,  ..., -1.2313e+00,\n",
      "           -2.4116e-01, -8.2192e-01],\n",
      "          [ 7.9545e-01,  6.2422e-01, -7.0617e-01,  ...,  5.0150e-01,\n",
      "            1.4348e+00, -4.8318e-01],\n",
      "          [ 9.2774e-01, -1.3645e+00, -1.1279e+00,  ...,  6.7109e-01,\n",
      "           -5.5026e-01, -5.8722e-01]],\n",
      "\n",
      "         [[-4.8330e-01, -1.0366e+00,  6.1110e-01,  ..., -2.9638e-01,\n",
      "           -5.7553e-02,  9.5978e-02],\n",
      "          [-9.4939e-01, -2.2930e+00, -7.2807e-01,  ...,  8.5716e-01,\n",
      "           -5.8778e-01, -6.0421e-01],\n",
      "          [ 1.8395e+00, -1.8339e+00, -2.5053e-01,  ..., -9.6221e-01,\n",
      "           -7.8187e-01, -1.2938e+00],\n",
      "          ...,\n",
      "          [-7.8902e-01,  7.1738e-02, -3.3966e-01,  ..., -4.3793e-01,\n",
      "           -1.3191e+00, -3.5862e-01],\n",
      "          [ 8.3055e-01, -1.4698e-01, -7.1210e-01,  ..., -3.3639e-01,\n",
      "            1.2751e-01, -8.6865e-02],\n",
      "          [-1.8541e+00, -3.9134e-01,  1.2409e+00,  ...,  1.7704e-01,\n",
      "            5.7029e-01,  3.9196e-01]]],\n",
      "\n",
      "\n",
      "        [[[ 5.8795e-02,  3.3209e-01, -1.6272e+00,  ..., -4.5989e-01,\n",
      "           -9.7772e-01, -9.6681e-01],\n",
      "          [-2.2226e-01, -1.1232e+00, -1.0441e+00,  ..., -4.2461e-01,\n",
      "           -1.4348e+00,  1.4418e+00],\n",
      "          [-7.2295e-01,  2.4160e+00,  2.4640e-02,  ..., -8.2047e-01,\n",
      "            8.6707e-01, -1.1201e+00],\n",
      "          ...,\n",
      "          [-1.8478e+00,  2.7545e-01,  2.0169e-01,  ...,  4.5734e-01,\n",
      "           -1.4023e-01,  5.3782e-01],\n",
      "          [ 9.9466e-01, -1.9322e+00, -1.7803e+00,  ..., -7.2490e-01,\n",
      "           -5.2174e-01, -6.2143e-01],\n",
      "          [-1.8624e-02,  1.5663e-01,  1.7820e+00,  ...,  1.2213e+00,\n",
      "            9.7663e-01, -1.0158e+00]],\n",
      "\n",
      "         [[-1.3961e+00,  1.3053e-01,  1.0853e+00,  ...,  1.5855e+00,\n",
      "            1.1368e+00, -1.1932e+00],\n",
      "          [-7.5464e-01, -1.9292e-01,  5.0333e-01,  ..., -4.2274e-01,\n",
      "           -5.6339e-01,  1.2183e+00],\n",
      "          [ 1.5327e+00, -8.7855e-01,  1.0712e-01,  ..., -6.8764e-01,\n",
      "           -2.1043e+00,  8.3708e-01],\n",
      "          ...,\n",
      "          [-6.6232e-01, -1.9567e-01,  3.4036e-02,  ..., -1.0210e+00,\n",
      "            1.6296e-01,  1.4594e-01],\n",
      "          [-4.6074e-01, -3.3025e-02,  1.3085e+00,  ..., -5.1786e-01,\n",
      "           -2.3625e+00, -2.3171e+00],\n",
      "          [-1.4508e+00,  1.8589e-01,  5.9097e-01,  ...,  7.4024e-01,\n",
      "            2.2837e-01, -3.4154e-01]],\n",
      "\n",
      "         [[ 2.4849e+00,  4.8864e-02,  1.0202e+00,  ...,  1.5647e+00,\n",
      "           -1.2951e+00,  1.5148e+00],\n",
      "          [ 4.6549e-01, -7.1046e-01,  6.8820e-01,  ...,  1.1941e-01,\n",
      "            1.6356e-01, -1.0435e+00],\n",
      "          [-2.8827e-01, -9.3931e-01, -2.2805e+00,  ..., -1.8828e-01,\n",
      "            1.2242e-01,  6.2313e-01],\n",
      "          ...,\n",
      "          [ 3.7241e-01,  7.9298e-01,  1.9436e+00,  ...,  1.5117e+00,\n",
      "           -1.4223e+00,  6.4160e-01],\n",
      "          [-8.3325e-01, -4.1680e-01,  6.5322e-01,  ...,  6.8757e-01,\n",
      "           -5.2743e-01, -4.7380e-01],\n",
      "          [ 3.2378e-01, -1.2840e+00, -4.9609e-01,  ...,  3.4334e-01,\n",
      "            7.6771e-01,  2.6776e-01]],\n",
      "\n",
      "         ...,\n",
      "\n",
      "         [[ 7.4027e-01,  8.7941e-01, -1.6529e-01,  ..., -9.9835e-01,\n",
      "           -1.4960e+00, -3.9558e-01],\n",
      "          [ 2.0821e+00, -1.0249e+00, -9.1798e-01,  ..., -7.2614e-02,\n",
      "            4.6685e-01, -1.0700e+00],\n",
      "          [-5.6134e-01, -6.3146e-02,  1.0173e+00,  ..., -1.7435e+00,\n",
      "           -8.4581e-01,  4.9262e-01],\n",
      "          ...,\n",
      "          [ 5.4961e-01,  7.6948e-01,  2.0766e+00,  ...,  5.0876e-02,\n",
      "           -5.1172e-01, -2.3354e+00],\n",
      "          [-1.5210e+00, -2.0082e+00,  2.4670e-01,  ..., -8.1345e-01,\n",
      "            2.3380e-01, -9.8933e-01],\n",
      "          [-3.4999e-01,  7.7174e-01,  1.4692e-01,  ...,  3.9998e-01,\n",
      "           -9.9695e-01, -1.5579e+00]],\n",
      "\n",
      "         [[-3.7977e-01,  4.7807e-01,  5.4171e-01,  ...,  2.4108e-01,\n",
      "            3.6503e-01,  3.1399e-01],\n",
      "          [-2.4308e-01, -1.4321e+00,  1.1724e-02,  ...,  1.5525e+00,\n",
      "           -9.0809e-01, -2.1360e-01],\n",
      "          [-2.8746e-01, -8.5739e-02, -1.9337e-01,  ..., -8.9273e-01,\n",
      "            7.5855e-01, -1.1621e+00],\n",
      "          ...,\n",
      "          [ 7.6101e-01,  1.9235e+00,  2.8581e-01,  ...,  5.2453e-01,\n",
      "            6.4908e-01, -1.2885e+00],\n",
      "          [-2.2988e+00,  2.6525e-02,  1.3348e+00,  ...,  6.1521e-01,\n",
      "            1.8456e+00, -8.7632e-01],\n",
      "          [-1.0345e+00, -1.3881e-01,  8.1627e-01,  ..., -1.3826e+00,\n",
      "            8.7027e-01,  2.9903e+00]],\n",
      "\n",
      "         [[ 4.9848e-01,  3.4641e-01,  6.1116e-01,  ..., -2.2263e+00,\n",
      "            9.4660e-01, -2.6509e-02],\n",
      "          [ 1.6562e+00,  1.2013e+00, -3.1213e-01,  ...,  3.2201e-01,\n",
      "            6.6869e-01, -1.2527e+00],\n",
      "          [ 2.4699e+00,  7.5911e-01,  2.2281e-01,  ...,  3.8294e-01,\n",
      "           -5.2444e-01,  1.3239e+00],\n",
      "          ...,\n",
      "          [-4.6731e-01,  1.0415e-01, -3.2701e-01,  ...,  1.0027e+00,\n",
      "            1.7986e+00,  7.2830e-01],\n",
      "          [-1.7128e-01, -2.7147e-01,  2.3560e-02,  ..., -3.2697e-01,\n",
      "            2.8790e+00, -7.1366e-01],\n",
      "          [-1.2755e+00,  3.5839e+00,  5.3940e-01,  ...,  2.2595e-01,\n",
      "            3.4339e-01,  5.3924e-01]]]])\n"
     ]
    },
    {
     "name": "stdout",
     "output_type": "stream",
     "text": [
      "tensor([[[[-1.1300e-01,  1.0294e-01,  1.3920e-01,  ..., -3.9203e-01,\n",
      "           -4.1853e-01, -2.1862e-01],\n",
      "          [ 3.0238e-01,  2.1911e-01,  6.2230e-01,  ..., -3.1405e-01,\n",
      "           -1.2207e-01,  1.9397e-01],\n",
      "          [ 9.5156e-03, -3.8568e-01, -1.8987e-01,  ..., -6.6378e-01,\n",
      "            2.5005e-01, -6.0237e-01],\n",
      "          ...,\n",
      "          [ 8.8634e-01, -6.5058e-01,  3.0802e-01,  ...,  6.4602e-01,\n",
      "            1.1345e+00, -3.4880e-01],\n",
      "          [-6.6648e-01,  4.8086e-01, -1.3450e-02,  ..., -5.8739e-03,\n",
      "           -3.0345e-01,  2.8528e-01],\n",
      "          [ 5.8539e-01, -5.8927e-01, -1.6820e-01,  ...,  6.3092e-01,\n",
      "           -3.4842e-01,  2.9549e-02]],\n",
      "\n",
      "         [[ 1.8039e-01,  6.4481e-01,  1.4967e-01,  ..., -5.3485e-01,\n",
      "           -4.1123e-01, -3.5729e-01],\n",
      "          [ 1.8308e-01,  3.2019e-02,  2.5438e-01,  ..., -4.1272e-01,\n",
      "           -7.8204e-01,  2.9791e-01],\n",
      "          [-6.7459e-02,  4.3200e-01, -6.6819e-01,  ...,  5.1951e-01,\n",
      "            2.3725e-01,  4.1935e-01],\n",
      "          ...,\n",
      "          [ 7.9892e-01,  6.6803e-01, -1.6361e-02,  ..., -1.2681e-01,\n",
      "           -8.2408e-01, -3.7534e-01],\n",
      "          [ 8.3685e-02,  1.5471e-01, -5.7457e-01,  ...,  1.5400e-02,\n",
      "           -1.9419e-01, -2.8630e-02],\n",
      "          [ 2.0685e-01, -2.9102e-02, -6.6891e-01,  ...,  7.6704e-02,\n",
      "           -2.3261e-01, -1.1264e-01]],\n",
      "\n",
      "         [[-9.7015e-02, -1.8091e-01, -4.7105e-01,  ...,  6.0741e-01,\n",
      "           -5.7475e-01, -1.3377e-01],\n",
      "          [-2.4204e-01,  5.5239e-02, -1.5655e-01,  ...,  6.2673e-01,\n",
      "           -5.2642e-01,  2.7203e-01],\n",
      "          [ 2.1321e-02, -2.2606e-01,  9.9546e-01,  ..., -9.8871e-02,\n",
      "           -2.6028e-01,  1.1452e+00],\n",
      "          ...,\n",
      "          [ 4.7602e-03,  1.3890e+00, -2.1616e-02,  ..., -6.6953e-01,\n",
      "           -4.6594e-02,  1.3851e-01],\n",
      "          [ 2.8364e-02,  3.7462e-01,  7.0603e-01,  ..., -5.1044e-01,\n",
      "           -2.0944e-01, -8.8574e-02],\n",
      "          [ 2.5382e-01, -3.0108e-01, -1.7688e-02,  ..., -1.9935e-01,\n",
      "            2.8425e-01, -8.9149e-03]],\n",
      "\n",
      "         ...,\n",
      "\n",
      "         [[ 2.9558e-01,  2.3185e-01, -7.6029e-03,  ...,  4.0069e-01,\n",
      "            3.9206e-01, -3.3583e-01],\n",
      "          [-3.7757e-01,  7.2949e-01,  3.3421e-01,  ...,  6.5399e-02,\n",
      "           -5.8178e-03,  1.9585e-01],\n",
      "          [-3.8709e-01,  1.9883e-01,  6.6237e-01,  ..., -5.7621e-02,\n",
      "           -3.4912e-01, -1.4117e-01],\n",
      "          ...,\n",
      "          [ 3.3867e-01, -1.3545e-01,  7.9430e-01,  ...,  8.1081e-01,\n",
      "            7.6542e-01, -8.2407e-01],\n",
      "          [ 3.4183e-01,  3.7873e-01, -8.4274e-01,  ..., -4.7581e-01,\n",
      "            3.2687e-01,  1.0382e-01],\n",
      "          [-3.0925e-01,  4.2233e-01,  3.4851e-02,  ...,  6.0457e-01,\n",
      "           -7.0020e-01,  3.1830e-01]],\n",
      "\n",
      "         [[-4.6344e-01,  1.4622e-01, -2.6477e-01,  ..., -2.4412e-01,\n",
      "            1.0379e-01,  4.7439e-02],\n",
      "          [ 1.2427e-01, -6.2446e-01, -4.9266e-03,  ..., -4.8549e-01,\n",
      "           -8.5196e-02,  4.2483e-01],\n",
      "          [-1.8666e-01,  5.1379e-01, -8.7102e-02,  ..., -3.3126e-01,\n",
      "           -2.4354e-01,  5.1027e-01],\n",
      "          ...,\n",
      "          [-4.5407e-01, -7.6794e-01, -5.4285e-01,  ...,  2.0347e-01,\n",
      "            8.2648e-02,  4.0390e-01],\n",
      "          [-1.0275e-02, -9.5101e-01, -1.1596e-01,  ..., -4.1573e-01,\n",
      "            3.1658e-01,  4.2830e-02],\n",
      "          [-7.1562e-01, -2.4264e-01,  2.9039e-01,  ..., -3.1995e-01,\n",
      "            3.4384e-01,  4.2316e-01]],\n",
      "\n",
      "         [[-4.1044e-01, -8.3987e-01, -2.8639e-01,  ...,  7.3012e-02,\n",
      "            4.2634e-02,  2.5886e-01],\n",
      "          [-3.3624e-01,  5.8962e-01, -3.7600e-01,  ..., -3.5936e-02,\n",
      "            5.9138e-02,  6.0641e-01],\n",
      "          [-3.2189e-01, -4.1656e-01,  4.6251e-01,  ...,  9.2143e-01,\n",
      "           -3.7356e-01, -7.5150e-01],\n",
      "          ...,\n",
      "          [-2.5913e-01, -7.1216e-01, -4.6160e-01,  ...,  1.8927e-01,\n",
      "            1.8497e-01, -2.5711e-01],\n",
      "          [-7.6754e-01,  7.0661e-01, -2.6167e-01,  ..., -6.2121e-01,\n",
      "            6.0333e-02,  6.4858e-01],\n",
      "          [-1.7528e-01,  3.3278e-01, -3.8777e-01,  ..., -1.1794e-01,\n",
      "           -1.3317e-01, -8.0919e-01]]],\n",
      "\n",
      "\n",
      "        [[[-1.0279e-02,  6.6640e-01,  2.6996e-01,  ...,  5.0764e-01,\n",
      "           -2.6741e-01,  1.2057e-02],\n",
      "          [ 2.9817e-01, -3.5379e-01,  1.1597e-01,  ..., -2.8069e-01,\n",
      "            3.7726e-01, -8.4047e-01],\n",
      "          [ 6.9833e-02,  2.7969e-01,  6.0047e-01,  ...,  2.4269e-01,\n",
      "           -3.9364e-02, -2.0090e-03],\n",
      "          ...,\n",
      "          [-4.0701e-03, -7.8450e-01, -3.8249e-01,  ..., -6.3414e-02,\n",
      "            2.1744e-02, -4.1427e-01],\n",
      "          [-1.8880e-01,  3.5334e-02,  4.4461e-02,  ...,  3.9361e-01,\n",
      "            2.2343e-01, -4.6203e-01],\n",
      "          [-3.3439e-01,  9.8398e-02,  1.9367e-01,  ..., -1.2680e-02,\n",
      "           -4.5943e-01, -4.0255e-01]],\n",
      "\n",
      "         [[ 1.3071e-02,  1.1033e-02, -7.2252e-02,  ..., -1.1390e-01,\n",
      "           -2.2221e-01, -3.6277e-01],\n",
      "          [ 1.5593e-01, -1.8221e-01, -6.1536e-01,  ...,  1.6419e-01,\n",
      "            7.2013e-01, -1.7680e-01],\n",
      "          [ 2.5290e-01,  3.0767e-01, -1.1203e-01,  ...,  2.6303e-01,\n",
      "           -2.8437e-01, -4.0369e-03],\n",
      "          ...,\n",
      "          [-5.7999e-01,  6.3789e-01,  9.4843e-02,  ..., -6.8110e-01,\n",
      "           -4.0759e-01, -7.6938e-01],\n",
      "          [ 1.9180e-01, -3.1516e-01,  8.3160e-01,  ..., -5.8757e-01,\n",
      "            2.4686e-02,  5.1694e-02],\n",
      "          [-5.5688e-02,  2.1191e-01,  2.2000e-01,  ..., -3.8192e-01,\n",
      "            7.4326e-01, -3.7089e-01]],\n",
      "\n",
      "         [[-4.5031e-01, -1.0905e-01, -1.3838e-01,  ..., -9.3181e-02,\n",
      "           -5.7869e-02,  1.9909e-01],\n",
      "          [ 1.2535e-01,  3.8546e-01,  3.9311e-01,  ..., -5.1553e-01,\n",
      "            4.8122e-01,  2.6012e-01],\n",
      "          [ 3.4510e-01,  2.3217e-01, -7.9801e-01,  ..., -5.0933e-01,\n",
      "           -2.3887e-01,  5.1962e-01],\n",
      "          ...,\n",
      "          [-7.3205e-01,  3.6750e-02, -7.4870e-01,  ..., -9.1192e-02,\n",
      "            6.4551e-01,  5.8358e-01],\n",
      "          [ 2.7896e-01, -1.1579e-02, -4.1410e-01,  ...,  3.4054e-01,\n",
      "           -2.1285e-01, -3.8281e-01],\n",
      "          [-9.4521e-02,  9.0005e-01,  3.7558e-02,  ..., -5.6260e-01,\n",
      "            1.9402e-01, -2.8612e-01]],\n",
      "\n",
      "         ...,\n",
      "\n",
      "         [[ 2.2737e-01, -3.3101e-01,  3.5923e-01,  ...,  3.1024e-01,\n",
      "           -4.0617e-01,  3.0293e-01],\n",
      "          [-3.0186e-01, -3.3448e-01, -7.5769e-02,  ...,  7.5455e-02,\n",
      "            2.8947e-01,  4.4479e-01],\n",
      "          [ 1.1708e+00,  1.5099e-01, -6.2533e-03,  ..., -1.6580e-01,\n",
      "           -9.3155e-01, -1.2776e-01],\n",
      "          ...,\n",
      "          [ 3.0942e-01, -2.1867e-01,  2.9908e-01,  ...,  2.2691e-01,\n",
      "            2.4085e-01, -1.1376e-01],\n",
      "          [ 3.8156e-02,  3.7618e-03,  3.3692e-01,  ...,  5.5558e-01,\n",
      "           -8.0103e-01, -6.4200e-01],\n",
      "          [ 2.3673e-01, -1.4183e-01, -8.3397e-02,  ..., -5.8553e-01,\n",
      "           -1.0846e-01, -6.6156e-01]],\n",
      "\n",
      "         [[ 3.9152e-01,  7.3148e-01, -1.2247e-01,  ...,  1.3175e-01,\n",
      "           -2.1888e-01,  8.3080e-02],\n",
      "          [-3.4991e-01,  1.5261e-01,  2.4455e-01,  ..., -2.3981e-01,\n",
      "           -2.4417e-01,  8.5890e-02],\n",
      "          [ 7.4284e-01,  2.2456e-01, -3.6155e-01,  ...,  6.6236e-01,\n",
      "           -3.8169e-01,  2.9590e-01],\n",
      "          ...,\n",
      "          [ 4.5285e-01, -7.0670e-01, -6.5939e-01,  ...,  2.9013e-01,\n",
      "           -1.6929e-01,  1.2779e+00],\n",
      "          [ 4.4448e-01, -2.7746e-01, -9.2860e-01,  ..., -4.9991e-01,\n",
      "           -3.7871e-01, -2.5016e-01],\n",
      "          [ 9.1090e-01, -5.8068e-01, -3.2892e-01,  ...,  4.8052e-01,\n",
      "            1.2636e-01, -6.8615e-01]],\n",
      "\n",
      "         [[-3.6169e-01,  3.2081e-01, -2.5302e-01,  ..., -2.4513e-02,\n",
      "            3.5134e-01,  1.1924e-01],\n",
      "          [-4.3093e-01, -9.5550e-02,  1.4358e-01,  ..., -1.0791e+00,\n",
      "           -2.7506e-01,  3.0059e-01],\n",
      "          [ 4.5099e-01, -2.5690e-01,  1.1698e-01,  ...,  3.6528e-01,\n",
      "            3.4938e-02, -1.9632e-01],\n",
      "          ...,\n",
      "          [ 2.0178e-01, -3.9882e-01, -6.1902e-01,  ..., -1.0290e-01,\n",
      "           -3.5391e-01,  5.5606e-01],\n",
      "          [ 5.2405e-01, -4.6265e-01,  3.2697e-01,  ..., -2.5150e-01,\n",
      "           -6.1775e-01, -3.2969e-01],\n",
      "          [ 8.1733e-02,  6.6022e-02, -4.3223e-01,  ..., -1.0181e-01,\n",
      "            6.2926e-02, -2.5601e-01]]],\n",
      "\n",
      "\n",
      "        [[[ 6.1495e-02,  2.6268e-01, -1.5638e-01,  ..., -2.6075e-01,\n",
      "            1.0215e-01,  1.3339e-01],\n",
      "          [ 3.8845e-01,  2.4113e-01,  1.5817e-01,  ..., -4.6962e-01,\n",
      "            5.3913e-01, -1.2808e-01],\n",
      "          [-1.0070e-01, -2.5388e-01,  1.2255e-01,  ...,  3.0001e-01,\n",
      "           -8.9741e-01,  4.3728e-02],\n",
      "          ...,\n",
      "          [-1.8994e-01,  5.3260e-01, -1.5449e-01,  ...,  7.5969e-02,\n",
      "            8.2818e-01, -7.0135e-01],\n",
      "          [-5.6652e-01, -9.9885e-02,  9.9788e-02,  ..., -8.5057e-01,\n",
      "           -5.0421e-01, -3.5359e-02],\n",
      "          [ 2.1801e-01,  7.4901e-02, -4.2595e-01,  ...,  7.2036e-02,\n",
      "           -4.5463e-01, -3.3734e-01]],\n",
      "\n",
      "         [[ 5.7009e-02,  3.1796e-01,  6.5951e-01,  ...,  1.2895e-01,\n",
      "            7.8844e-02,  3.1184e-02],\n",
      "          [-2.4422e-01,  1.7981e-01,  5.7013e-01,  ..., -4.0870e-01,\n",
      "            4.5782e-01,  5.4871e-02],\n",
      "          [ 9.1799e-02,  5.2795e-01, -3.2581e-01,  ...,  2.7538e-01,\n",
      "            3.3341e-01, -8.4089e-01],\n",
      "          ...,\n",
      "          [ 3.8189e-01, -2.3312e-01,  3.4201e-01,  ...,  1.3836e-01,\n",
      "           -3.8587e-01, -1.2924e-01],\n",
      "          [ 1.5070e-01, -6.9098e-01,  1.5017e-01,  ...,  2.3816e-01,\n",
      "           -2.6567e-01,  1.0413e-01],\n",
      "          [ 9.0592e-02, -4.9130e-01,  1.0224e-01,  ..., -1.2103e+00,\n",
      "           -9.6849e-02,  5.4088e-01]],\n",
      "\n",
      "         [[ 1.5400e-01,  3.6119e-01, -2.6432e-01,  ...,  1.7798e-01,\n",
      "            6.8208e-02, -1.0002e-01],\n",
      "          [ 7.2242e-02, -8.7476e-02,  3.6249e-01,  ...,  1.1382e+00,\n",
      "           -4.4609e-01,  1.5021e-01],\n",
      "          [ 2.6331e-01,  2.0692e-01, -9.7511e-01,  ...,  9.2485e-02,\n",
      "            1.3864e-01, -3.6728e-02],\n",
      "          ...,\n",
      "          [-3.8120e-02,  1.1460e-01,  9.6614e-01,  ..., -1.3983e+00,\n",
      "           -4.9771e-01,  8.8475e-02],\n",
      "          [ 1.6071e-02,  4.4716e-01, -1.9012e-02,  ...,  5.8613e-01,\n",
      "           -2.2738e-01,  2.2712e-01],\n",
      "          [-1.2383e-01,  2.1390e-01,  7.8589e-02,  ...,  2.1037e-02,\n",
      "           -3.5782e-01,  3.9091e-01]],\n",
      "\n",
      "         ...,\n",
      "\n",
      "         [[ 1.7202e-01, -3.3658e-01,  5.3109e-01,  ..., -5.6567e-02,\n",
      "           -5.5243e-02, -3.1421e-01],\n",
      "          [ 1.9096e-01, -7.5103e-02, -2.4564e-01,  ...,  9.9673e-01,\n",
      "            1.8729e-01, -2.0752e-01],\n",
      "          [ 5.7764e-01,  5.6409e-01, -8.5893e-01,  ..., -7.7783e-01,\n",
      "           -1.5249e-01, -1.7745e-01],\n",
      "          ...,\n",
      "          [-1.3159e-01, -8.4604e-01,  1.2967e-01,  ...,  2.0083e-01,\n",
      "            3.0966e-01, -2.9454e-01],\n",
      "          [-7.3906e-01, -3.3526e-01,  5.8299e-01,  ...,  3.4696e-01,\n",
      "           -1.9886e-02,  8.4109e-02],\n",
      "          [-3.4521e-01,  4.0477e-01,  2.3448e-01,  ..., -3.5380e-01,\n",
      "            3.5797e-01,  9.8517e-02]],\n",
      "\n",
      "         [[-1.7279e-01, -5.1217e-01, -3.0119e-01,  ..., -4.3232e-01,\n",
      "           -1.9351e-01,  1.5843e-01],\n",
      "          [-6.8114e-02,  2.7015e-01,  2.9916e-01,  ...,  7.2453e-01,\n",
      "           -4.8438e-01, -1.5707e-01],\n",
      "          [ 5.8102e-02, -9.4319e-01,  1.5115e-01,  ..., -5.2018e-01,\n",
      "           -1.3880e+00, -2.0493e-01],\n",
      "          ...,\n",
      "          [ 6.3542e-01,  4.5819e-01, -3.4896e-01,  ...,  8.8715e-01,\n",
      "           -2.8596e-01,  6.4461e-01],\n",
      "          [-3.8342e-01,  2.4863e-01,  6.2663e-02,  ..., -9.6685e-01,\n",
      "           -3.2892e-01,  2.2999e-01],\n",
      "          [ 6.2082e-02,  3.8644e-01,  3.2268e-01,  ...,  2.6227e-02,\n",
      "            5.8179e-01,  1.8759e-01]],\n",
      "\n",
      "         [[ 2.5673e-02, -4.3489e-01,  2.2495e-02,  ..., -8.6291e-01,\n",
      "            1.6107e-01, -3.9289e-01],\n",
      "          [-1.0419e-02,  4.7349e-01,  2.4447e-03,  ...,  6.7048e-01,\n",
      "           -6.9106e-01,  1.1301e-01],\n",
      "          [-9.3395e-01, -1.4818e-01, -5.4997e-02,  ..., -4.8143e-01,\n",
      "            1.6923e-01,  6.7054e-01],\n",
      "          ...,\n",
      "          [-2.2755e-01,  9.6102e-02,  2.6488e-01,  ..., -5.3958e-01,\n",
      "            4.1833e-01, -3.4235e-01],\n",
      "          [-6.3995e-01, -8.4872e-01, -3.6748e-01,  ..., -3.7604e-01,\n",
      "            2.4434e-01, -5.7214e-01],\n",
      "          [ 2.0580e-01, -9.1725e-01, -3.5692e-01,  ...,  1.2775e-01,\n",
      "            2.2660e-01, -5.2977e-01]]],\n",
      "\n",
      "\n",
      "        ...,\n",
      "\n",
      "\n",
      "        [[[-4.6634e-01,  3.6888e-01, -3.6644e-01,  ..., -6.5863e-01,\n",
      "           -2.9357e-01,  1.4078e-01],\n",
      "          [-2.4460e-01,  3.2193e-02, -1.2708e-01,  ...,  6.6972e-01,\n",
      "            3.4639e-01,  2.0261e-02],\n",
      "          [ 1.2693e-01, -1.9854e-01, -5.3707e-03,  ...,  6.0658e-01,\n",
      "           -1.3010e+00, -6.1387e-01],\n",
      "          ...,\n",
      "          [ 2.1192e-01, -1.3544e-01, -4.8130e-01,  ...,  1.1132e-01,\n",
      "           -4.9947e-01, -5.8601e-01],\n",
      "          [-6.1576e-01,  6.7923e-01,  4.5781e-01,  ...,  7.9606e-01,\n",
      "           -4.4486e-01,  5.4967e-01],\n",
      "          [ 7.0042e-02,  8.3430e-02,  1.2017e-01,  ...,  6.6249e-01,\n",
      "            2.1424e-02,  3.2945e-02]],\n",
      "\n",
      "         [[ 1.5056e-02,  1.5387e-01,  3.3396e-01,  ...,  1.8369e-01,\n",
      "           -1.9292e-01,  4.1523e-02],\n",
      "          [-6.2431e-01, -4.9184e-01,  5.4203e-01,  ..., -7.3383e-02,\n",
      "           -3.6051e-01, -2.0721e-01],\n",
      "          [ 8.1271e-01, -4.8347e-02, -2.7695e-02,  ..., -4.9720e-01,\n",
      "           -1.2566e-01,  6.8394e-01],\n",
      "          ...,\n",
      "          [-3.1842e-01,  3.0626e-01, -9.7665e-02,  ...,  3.3048e-01,\n",
      "           -8.0359e-01, -6.2821e-01],\n",
      "          [-2.4257e-01,  4.5225e-01,  1.3828e-02,  ..., -1.9950e-01,\n",
      "            8.4859e-02, -5.2675e-03],\n",
      "          [ 6.7014e-02, -5.2463e-01,  6.2217e-02,  ..., -2.8922e-01,\n",
      "           -3.5774e-01, -8.4968e-01]],\n",
      "\n",
      "         [[ 3.6190e-01,  7.4563e-01,  2.0955e-01,  ...,  1.8685e-01,\n",
      "           -2.5975e-01, -2.7722e-02],\n",
      "          [-2.4759e-01, -7.2876e-01, -1.1217e-01,  ..., -2.4821e-01,\n",
      "           -1.0366e-01, -5.9354e-02],\n",
      "          [-3.7773e-01,  6.9840e-01, -2.6887e-01,  ...,  6.0569e-02,\n",
      "            9.9889e-01, -2.1917e-01],\n",
      "          ...,\n",
      "          [ 1.2246e+00, -7.1999e-01,  9.7916e-01,  ...,  7.4086e-01,\n",
      "           -3.4627e-01, -6.3674e-01],\n",
      "          [-3.6752e-01, -7.3420e-01,  7.5712e-01,  ...,  5.7430e-01,\n",
      "           -4.6576e-01, -2.2260e-01],\n",
      "          [ 3.4952e-01, -3.6184e-01,  9.6654e-02,  ...,  9.9800e-01,\n",
      "           -9.0527e-02, -2.9768e-01]],\n",
      "\n",
      "         ...,\n",
      "\n",
      "         [[-2.1844e-03, -1.6054e-01,  1.1921e-01,  ...,  2.4694e-01,\n",
      "            3.6375e-02,  3.2779e-01],\n",
      "          [ 7.6511e-01, -1.2257e-01,  5.1038e-01,  ...,  6.9434e-02,\n",
      "            2.9438e-01,  3.8738e-01],\n",
      "          [-7.3370e-02,  1.0953e+00,  4.5247e-01,  ...,  2.5839e-01,\n",
      "           -7.4104e-01,  9.4994e-02],\n",
      "          ...,\n",
      "          [ 2.1580e-01,  6.2642e-01, -1.1946e+00,  ...,  1.2822e+00,\n",
      "           -3.8942e-02, -2.3575e-01],\n",
      "          [ 5.8467e-01,  1.0209e+00,  1.3818e-01,  ..., -1.8404e-01,\n",
      "           -1.4359e+00,  9.0049e-02],\n",
      "          [-8.1326e-02, -1.1947e-01,  9.7622e-01,  ..., -2.8944e-01,\n",
      "            5.5182e-02, -2.2927e-01]],\n",
      "\n",
      "         [[-4.5177e-01, -2.7361e-01,  3.2699e-01,  ...,  3.0440e-01,\n",
      "            3.9623e-01,  9.4313e-03],\n",
      "          [ 7.1680e-01,  2.0923e-01, -7.7051e-02,  ...,  5.1626e-01,\n",
      "           -7.0495e-01, -1.4771e-01],\n",
      "          [-4.7270e-01, -1.8920e-01,  5.4092e-01,  ...,  3.3841e-01,\n",
      "           -6.3275e-01, -5.7219e-01],\n",
      "          ...,\n",
      "          [ 4.5987e-01,  1.8821e-01, -1.3419e+00,  ...,  3.9617e-01,\n",
      "            1.6512e-02,  6.8609e-01],\n",
      "          [ 2.4050e-01,  1.1395e-01, -3.4131e-01,  ..., -1.0707e-01,\n",
      "            3.4850e-01, -5.8761e-02],\n",
      "          [-1.1929e-01,  8.4924e-01, -8.0801e-03,  ...,  3.3962e-01,\n",
      "           -1.9417e-01,  6.6502e-01]],\n",
      "\n",
      "         [[-2.8096e-01,  2.9913e-01, -6.1195e-02,  ...,  1.2434e-01,\n",
      "           -1.3650e-01, -2.2977e-01],\n",
      "          [-6.6909e-02,  3.1758e-01, -1.6921e-01,  ...,  1.2438e+00,\n",
      "            2.1175e-01, -5.2891e-02],\n",
      "          [-3.3519e-01, -6.9467e-01, -2.3242e-01,  ..., -7.6439e-02,\n",
      "           -3.6066e-01, -1.7074e-01],\n",
      "          ...,\n",
      "          [ 3.2830e-01, -8.1701e-01, -4.5026e-01,  ..., -6.2530e-01,\n",
      "           -5.5112e-01, -1.2883e-01],\n",
      "          [ 1.2560e-02,  6.5707e-01,  1.8318e-01,  ..., -1.0570e-01,\n",
      "            3.6917e-01,  1.3911e-01],\n",
      "          [-1.0146e-01,  3.0204e-01, -2.7821e-02,  ..., -1.8755e-01,\n",
      "            5.4258e-01,  7.7943e-03]]],\n",
      "\n",
      "\n",
      "        [[[-1.6558e-02, -4.6316e-01, -1.4958e-01,  ...,  1.9768e-01,\n",
      "            5.8619e-01,  7.4996e-02],\n",
      "          [-5.7656e-01, -3.8845e-01,  4.1328e-01,  ..., -4.4995e-01,\n",
      "            1.2834e-01, -4.8205e-02],\n",
      "          [ 8.3349e-01, -9.4835e-01,  6.5707e-01,  ...,  3.2258e-01,\n",
      "           -8.0685e-01, -2.0608e-01],\n",
      "          ...,\n",
      "          [-9.1810e-03, -7.5233e-01, -6.7314e-01,  ...,  3.5313e-01,\n",
      "            1.5560e-01, -2.7674e-01],\n",
      "          [ 9.1234e-02,  5.2512e-02, -6.0989e-01,  ...,  4.7146e-01,\n",
      "            3.1198e-01,  2.7822e-01],\n",
      "          [ 4.1253e-01, -6.1503e-01,  2.9798e-01,  ...,  3.7122e-01,\n",
      "            2.0617e-01,  1.9379e-01]],\n",
      "\n",
      "         [[ 1.2792e-01,  3.9352e-01,  4.9946e-01,  ..., -2.1087e-02,\n",
      "            6.0567e-01,  2.7221e-01],\n",
      "          [-1.4943e-02, -8.1995e-01, -1.7966e-01,  ..., -3.8258e-01,\n",
      "           -7.0436e-01,  1.5415e-01],\n",
      "          [ 4.1561e-01, -6.7985e-01, -5.3160e-01,  ...,  2.7925e-01,\n",
      "            2.7940e-02, -4.0350e-02],\n",
      "          ...,\n",
      "          [-5.0749e-01, -8.8798e-02,  6.2308e-02,  ..., -4.5490e-01,\n",
      "            4.6314e-01, -3.2422e-01],\n",
      "          [ 2.9331e-01, -6.7981e-01, -1.9947e-01,  ..., -4.6971e-01,\n",
      "            1.7988e-01, -1.3681e-01],\n",
      "          [-5.0023e-01,  2.2348e-01,  2.0223e-02,  ...,  7.1848e-01,\n",
      "            1.7567e-01, -4.1480e-01]],\n",
      "\n",
      "         [[ 7.2781e-02, -4.7776e-02, -3.2148e-01,  ..., -1.3834e-02,\n",
      "           -5.5289e-01, -1.9194e-01],\n",
      "          [ 6.1299e-01, -4.5212e-01,  1.5373e-01,  ...,  2.6782e-01,\n",
      "           -8.0475e-01, -3.4915e-02],\n",
      "          [-1.4358e-01,  5.8814e-01, -7.2403e-01,  ..., -2.1400e-01,\n",
      "           -1.3326e-01,  6.5994e-02],\n",
      "          ...,\n",
      "          [-2.6210e-01,  8.4958e-03,  4.0563e-01,  ..., -6.5335e-01,\n",
      "           -1.7250e-01, -7.4266e-01],\n",
      "          [ 7.5058e-01, -3.0940e-01, -3.5494e-01,  ..., -1.5249e-01,\n",
      "            1.6421e-01,  5.3164e-01],\n",
      "          [ 3.2675e-01,  1.7219e-01, -2.9696e-02,  ..., -3.5817e-01,\n",
      "            5.1410e-01, -8.9840e-01]],\n",
      "\n",
      "         ...,\n",
      "\n",
      "         [[-1.0036e-02,  9.1255e-02, -2.7968e-01,  ...,  9.0047e-02,\n",
      "            4.3271e-02, -3.4332e-01],\n",
      "          [ 2.4003e-03,  1.8393e-01,  2.5885e-01,  ..., -3.7928e-01,\n",
      "            1.6406e-01, -1.2161e-01],\n",
      "          [-1.0112e-01, -6.6616e-01,  8.5981e-01,  ..., -8.9179e-01,\n",
      "           -3.3809e-01,  1.1419e+00],\n",
      "          ...,\n",
      "          [-1.7571e-01, -1.5817e-01,  1.2912e+00,  ..., -5.8652e-02,\n",
      "            5.2211e-01, -8.1853e-02],\n",
      "          [ 4.9146e-01, -3.1472e-02,  7.7432e-01,  ..., -3.6647e-01,\n",
      "           -1.3024e+00, -4.7565e-01],\n",
      "          [-3.0158e-01, -3.0367e-02, -1.1474e-01,  ...,  2.1716e-01,\n",
      "            3.4690e-02,  2.0566e-01]],\n",
      "\n",
      "         [[-3.7981e-01,  2.0787e-02,  4.5322e-01,  ..., -4.4206e-01,\n",
      "           -1.9359e-01, -2.2358e-01],\n",
      "          [ 6.6565e-01,  3.0552e-01,  4.9770e-01,  ...,  1.7456e-01,\n",
      "           -2.0126e-01,  6.7154e-01],\n",
      "          [-4.4344e-02,  1.4785e-01, -7.4523e-03,  ...,  3.3247e-01,\n",
      "            3.5532e-01,  4.7693e-02],\n",
      "          ...,\n",
      "          [ 9.4960e-02,  6.4930e-01,  6.2552e-02,  ...,  3.4397e-01,\n",
      "            1.6275e-01, -4.2825e-01],\n",
      "          [ 1.4146e-01,  1.9155e-01,  6.3002e-01,  ...,  6.9333e-02,\n",
      "           -1.1913e-01, -5.1429e-01],\n",
      "          [ 2.9861e-01, -1.3081e-02,  1.2291e-01,  ...,  1.8127e-01,\n",
      "            2.1794e-01,  3.4818e-01]],\n",
      "\n",
      "         [[-4.7375e-01,  5.6536e-01, -1.2848e-01,  ..., -4.1590e-01,\n",
      "           -4.4728e-01,  1.3274e-01],\n",
      "          [-2.5001e-01,  3.3404e-01,  1.1503e-01,  ...,  3.3218e-01,\n",
      "            8.5289e-01, -4.4613e-01],\n",
      "          [ 3.7582e-01, -6.9624e-01, -7.8507e-01,  ..., -2.1441e-01,\n",
      "           -2.0733e-01,  3.1571e-02],\n",
      "          ...,\n",
      "          [-5.3087e-01,  1.1646e+00, -1.1747e-01,  ...,  6.7238e-01,\n",
      "            6.5624e-02,  8.3392e-01],\n",
      "          [-3.7065e-01,  1.2767e-02, -1.2379e-01,  ...,  1.3968e-01,\n",
      "           -7.7124e-01,  3.5793e-01],\n",
      "          [-7.3211e-02, -3.5175e-01,  6.0604e-02,  ..., -1.0909e-01,\n",
      "            9.9977e-02, -1.9172e-01]]],\n",
      "\n",
      "\n",
      "        [[[-2.4389e-01,  1.6962e-01, -6.1166e-01,  ..., -6.2114e-01,\n",
      "            1.8308e-01,  3.3119e-01],\n",
      "          [-3.7853e-01,  1.9625e-01,  6.0701e-01,  ...,  2.9919e-01,\n",
      "            5.0256e-01,  5.0701e-01],\n",
      "          [-6.7684e-01,  7.6125e-01,  4.9904e-01,  ...,  8.3146e-02,\n",
      "            1.8038e-01,  9.0114e-02],\n",
      "          ...,\n",
      "          [-3.7943e-01,  4.4609e-01,  2.2019e-01,  ...,  3.9464e-02,\n",
      "            1.7634e-01, -6.8242e-01],\n",
      "          [ 5.6776e-01,  5.3930e-01,  4.7445e-01,  ...,  1.2460e+00,\n",
      "            5.8266e-03, -2.6533e-01],\n",
      "          [-3.1199e-02,  2.9339e-01,  7.4671e-02,  ..., -4.1889e-01,\n",
      "           -8.9564e-01,  2.7391e-01]],\n",
      "\n",
      "         [[ 1.4199e-02,  3.0633e-01,  5.1314e-01,  ..., -1.1231e-01,\n",
      "            3.3352e-01,  3.6605e-02],\n",
      "          [ 8.3112e-02,  1.1975e-01,  7.0637e-01,  ...,  2.8119e-01,\n",
      "           -1.0306e-01,  7.1024e-02],\n",
      "          [ 4.7979e-01, -1.0116e-01,  1.1144e+00,  ..., -4.0081e-01,\n",
      "           -4.2906e-01, -9.6190e-02],\n",
      "          ...,\n",
      "          [ 4.7989e-01,  7.8164e-02, -6.2454e-02,  ..., -1.1022e+00,\n",
      "           -1.6975e-01,  1.0446e-01],\n",
      "          [ 1.3577e-01,  3.2650e-01, -4.1938e-01,  ..., -4.7453e-01,\n",
      "            4.6351e-01,  7.8572e-01],\n",
      "          [ 4.4324e-01, -3.1873e-01,  4.2305e-01,  ...,  2.9617e-02,\n",
      "            2.8287e-01, -3.6258e-01]],\n",
      "\n",
      "         [[ 1.0961e-01,  2.9352e-02,  4.0547e-02,  ...,  3.6266e-01,\n",
      "           -2.0875e-01, -8.7387e-03],\n",
      "          [ 5.6744e-01, -2.9566e-01,  3.4055e-01,  ..., -3.5614e-02,\n",
      "           -7.8493e-01, -1.4985e-02],\n",
      "          [-1.1794e+00,  5.0568e-01, -1.1527e+00,  ..., -3.5427e-01,\n",
      "            6.3582e-01,  5.7118e-01],\n",
      "          ...,\n",
      "          [ 3.4689e-01, -3.1900e-02, -6.3599e-01,  ...,  3.6799e-01,\n",
      "            1.3373e-02, -7.7704e-01],\n",
      "          [-1.0354e-01, -3.9778e-01,  3.5241e-01,  ..., -2.9839e-01,\n",
      "            1.5536e-01,  5.5667e-01],\n",
      "          [ 9.0624e-02,  3.4139e-01, -3.9509e-01,  ..., -2.9767e-01,\n",
      "           -3.3685e-01, -1.2065e-01]],\n",
      "\n",
      "         ...,\n",
      "\n",
      "         [[ 3.7674e-01,  2.9024e-01,  8.7797e-02,  ..., -4.3985e-01,\n",
      "            1.0492e-01,  1.3701e-01],\n",
      "          [ 6.7617e-02, -5.3042e-01, -1.7937e-02,  ...,  3.0306e-01,\n",
      "           -4.4120e-01, -2.2631e-01],\n",
      "          [-4.4246e-01,  2.2516e-01, -1.2695e-01,  ..., -1.0545e+00,\n",
      "            4.7898e-01, -1.4812e-01],\n",
      "          ...,\n",
      "          [ 7.8749e-02, -2.2538e-01, -3.5943e-01,  ...,  1.0634e-01,\n",
      "           -7.9006e-02,  2.8803e-01],\n",
      "          [ 3.2833e-01, -1.3650e-01, -9.9464e-01,  ...,  8.6432e-01,\n",
      "           -3.9786e-01,  4.5405e-01],\n",
      "          [-4.4664e-02,  1.3841e-01, -3.2559e-01,  ..., -1.2869e-01,\n",
      "           -1.9315e-01,  3.8591e-01]],\n",
      "\n",
      "         [[ 1.9732e-01, -3.0867e-01,  4.8096e-01,  ..., -3.9190e-01,\n",
      "           -7.1794e-02,  1.4949e-01],\n",
      "          [ 2.4164e-02, -1.3995e-01,  1.8030e-01,  ..., -6.6576e-04,\n",
      "            2.3478e-01,  1.1150e-01],\n",
      "          [ 5.1016e-01,  7.1134e-01,  2.2824e-01,  ...,  4.1144e-01,\n",
      "            4.9245e-01,  2.2292e-02],\n",
      "          ...,\n",
      "          [-2.7664e-01, -5.0922e-01,  1.3990e+00,  ...,  1.9490e-01,\n",
      "           -3.1184e-01, -7.6007e-01],\n",
      "          [-4.3297e-01, -2.8366e-01, -4.3597e-01,  ...,  2.5225e-01,\n",
      "           -2.5077e-01, -5.2818e-01],\n",
      "          [-4.6367e-01,  3.2801e-01, -1.8818e-01,  ..., -2.2216e-01,\n",
      "           -1.2805e-01, -3.1073e-01]],\n",
      "\n",
      "         [[-3.6479e-01,  1.5052e-01, -3.1200e-01,  ..., -2.4756e-01,\n",
      "            3.2428e-01,  8.6263e-02],\n",
      "          [ 5.3942e-01,  4.9694e-02,  5.4436e-01,  ...,  6.0372e-02,\n",
      "            1.4307e-01, -1.4397e-01],\n",
      "          [-3.8294e-01, -4.9044e-01, -8.1724e-01,  ...,  1.2750e-01,\n",
      "            2.5182e-01,  1.1083e+00],\n",
      "          ...,\n",
      "          [-2.8133e-01, -2.0959e-01,  4.4885e-01,  ...,  4.4712e-01,\n",
      "           -9.2891e-01, -3.8240e-02],\n",
      "          [-6.6816e-01,  6.0507e-01, -6.6650e-01,  ...,  1.2662e+00,\n",
      "            1.8454e-01, -8.1129e-01],\n",
      "          [ 5.1221e-02,  4.3690e-01, -1.7373e-01,  ..., -3.3923e-01,\n",
      "           -4.0710e-02,  5.7068e-01]]]], grad_fn=<MkldnnConvolutionBackward0>)\n"
     ]
    }
   ],
   "source": [
    "m = nn.Conv2d(16, 33, 3, stride = 2)\n",
    "\n",
    "m = nn.Conv2d(16, 33, (3, 5), stride = (2, 1), padding = (4, 2))   ## kenel_size = (3, 5) : non-square\n",
    "\n",
    "m = nn.Conv2d(16, 33, (3, 5), stride = (2, 1), padding = (4, 2), dilation = (3, 1))   ## dilation : padding 사이의 간격\n",
    "\n",
    "input = torch.randn(20, 16, 50, 100)\n",
    "print(input)\n",
    "output = m(input)\n",
    "print(output)"
   ]
  },
  {
   "cell_type": "code",
   "execution_count": 86,
   "id": "7ce801da",
   "metadata": {
    "ExecuteTime": {
     "end_time": "2021-11-23T02:16:41.120964Z",
     "start_time": "2021-11-23T02:16:41.106002Z"
    }
   },
   "outputs": [
    {
     "data": {
      "text/plain": [
       "torch.Size([20, 33, 26, 100])"
      ]
     },
     "execution_count": 86,
     "metadata": {},
     "output_type": "execute_result"
    }
   ],
   "source": [
    "output.shape"
   ]
  },
  {
   "cell_type": "markdown",
   "id": "0ef9b1f5",
   "metadata": {},
   "source": [
    "### nn.functional 패키지\n",
    "\n",
    "- 가중치를 직접 선언하여 인자로 넣어줘야함\n",
    "\n",
    "- 예시)\n",
    "  - Convolution functions\n",
    "\n",
    "  - Pooling functions\n",
    "  \n",
    "  - Non-linear activation functions\n",
    "\n",
    "  - Normalization functions\n",
    "\n",
    "  - Linear functions\n",
    "\n",
    "  - Dropout functions\n",
    "  \n",
    "  - Sparse functions\n",
    "  \n",
    "  - Distance functions\n",
    "\n",
    "  - Loss functions\n",
    "  - ..\n",
    "\n",
    "- https://pytorch.org/docs/stable/nn.functional.html"
   ]
  },
  {
   "cell_type": "code",
   "execution_count": 87,
   "id": "c76cfe89",
   "metadata": {
    "ExecuteTime": {
     "end_time": "2021-11-23T02:16:41.136917Z",
     "start_time": "2021-11-23T02:16:41.121958Z"
    }
   },
   "outputs": [],
   "source": [
    "import torch\n",
    "import torch.nn.functional as F"
   ]
  },
  {
   "cell_type": "markdown",
   "id": "457d1e30",
   "metadata": {},
   "source": [
    "- Convolution Layer 예시 (2)"
   ]
  },
  {
   "cell_type": "code",
   "execution_count": 88,
   "id": "92fad75e",
   "metadata": {
    "ExecuteTime": {
     "end_time": "2021-11-23T02:16:44.724244Z",
     "start_time": "2021-11-23T02:16:44.718250Z"
    }
   },
   "outputs": [],
   "source": [
    "filters = torch.randn(8, 4, 3, 3)"
   ]
  },
  {
   "cell_type": "code",
   "execution_count": 89,
   "id": "6398138a",
   "metadata": {
    "ExecuteTime": {
     "end_time": "2021-11-23T02:16:44.913287Z",
     "start_time": "2021-11-23T02:16:44.902317Z"
    }
   },
   "outputs": [
    {
     "data": {
      "text/plain": [
       "torch.Size([1, 8, 5, 5])"
      ]
     },
     "execution_count": 89,
     "metadata": {},
     "output_type": "execute_result"
    }
   ],
   "source": [
    "inputs = torch.randn(1, 4, 5, 5)\n",
    "conv = F.conv2d(inputs, filters, padding = 1)\n",
    "conv.shape"
   ]
  },
  {
   "cell_type": "markdown",
   "id": "2a28ad2c",
   "metadata": {},
   "source": [
    "## Torchvision\n",
    "\n",
    "- `transforms`: 전처리할 때 사용하는 메소드\n",
    "\n",
    "- `transforms`에서 제공하는 클래스 이외에  \n",
    "  일반적으로 클래스를 따로 만들어 **전처리 단계**를 진행\n",
    "  \n",
    "  - 아래의 코드에서 다양한 전처리 기술 확인  \n",
    "    https://pytorch.org/docs/stable/torchvision/transforms.html\n"
   ]
  },
  {
   "cell_type": "code",
   "execution_count": 90,
   "id": "879cff0d",
   "metadata": {
    "ExecuteTime": {
     "end_time": "2021-11-23T02:16:45.794687Z",
     "start_time": "2021-11-23T02:16:45.661557Z"
    }
   },
   "outputs": [],
   "source": [
    "import torch\n",
    "import torchvision\n",
    "import torchvision.transforms as transforms"
   ]
  },
  {
   "cell_type": "markdown",
   "id": "c96bebbb",
   "metadata": {},
   "source": [
    "- 예시)\n",
    "  - `DataLoader`의 인자로 들어갈 `transform`을 미리 정의할 수 있음\n",
    "\n",
    "  - `Compose`를 통해 리스트 안에 순서대로 전처리 진행\n",
    "\n",
    "  - 대표적인 예로, `ToTensor`()를 하는 이유는  \n",
    "   <u>torchvision이 PIL Image형태로만 입력을 받기 때문에</u> 데이터 처리를 위해서 Tensor형으로 변환해야함"
   ]
  },
  {
   "cell_type": "code",
   "execution_count": 91,
   "id": "31a4a9ef",
   "metadata": {
    "ExecuteTime": {
     "end_time": "2021-11-23T02:16:46.599305Z",
     "start_time": "2021-11-23T02:16:46.590325Z"
    }
   },
   "outputs": [],
   "source": [
    "transform = transforms.Compose([transforms.ToTensor(),\n",
    "                               transforms.Normalize(mean = (0.5, ), std = (0.5, ))])"
   ]
  },
  {
   "cell_type": "markdown",
   "id": "835327fd",
   "metadata": {},
   "source": [
    "## utils.data\n",
    "\n",
    "- `Dataset`에는 다양한 데이터셋이 존재  \n",
    "  - MNIST, CIFAR10, ...\n",
    "\n",
    "- `DataLoader`, `Dataset`을 통해  \n",
    "  `batch_size`, `train`여부, `transform`등을 인자로 넣어 데이터를 어떻게 load할 것인지 정해줄 수 있음"
   ]
  },
  {
   "cell_type": "code",
   "execution_count": 92,
   "id": "01eaeef1",
   "metadata": {
    "ExecuteTime": {
     "end_time": "2021-11-23T02:16:48.172332Z",
     "start_time": "2021-11-23T02:16:48.157342Z"
    }
   },
   "outputs": [],
   "source": [
    "import torch\n",
    "from torch.utils.data import Dataset, DataLoader\n",
    "\n",
    "import torchvision\n",
    "import torchvision.transforms as transforms"
   ]
  },
  {
   "cell_type": "code",
   "execution_count": 93,
   "id": "d641c3c0",
   "metadata": {
    "ExecuteTime": {
     "end_time": "2021-11-23T02:16:48.819980Z",
     "start_time": "2021-11-23T02:16:48.774134Z"
    }
   },
   "outputs": [],
   "source": [
    "trainset = torchvision.datasets.MNIST(root = '',\n",
    "                                    train = True,\n",
    "                                    download = True,\n",
    "                                    transform = transform)\n",
    "\n",
    "testset = torchvision.datasets.MNIST(root = '',\n",
    "                                    train = False,\n",
    "                                    download = True,\n",
    "                                    transform = transform)"
   ]
  },
  {
   "cell_type": "code",
   "execution_count": 94,
   "id": "64c13b4d",
   "metadata": {
    "ExecuteTime": {
     "end_time": "2021-11-23T02:16:50.087270Z",
     "start_time": "2021-11-23T02:16:50.069289Z"
    }
   },
   "outputs": [],
   "source": [
    "train_loader = DataLoader(trainset, batch_size = 8, shuffle = True, num_workers = 2)\n",
    "test_loader = DataLoader(testset, batch_size = 8, shuffle = False, num_workers = 2)"
   ]
  },
  {
   "cell_type": "markdown",
   "id": "ca7a1b50",
   "metadata": {},
   "source": [
    "- `batch_size`만큼 데이터를 하나씩 가져옴"
   ]
  },
  {
   "cell_type": "code",
   "execution_count": 95,
   "id": "9d8a4ad2",
   "metadata": {
    "ExecuteTime": {
     "end_time": "2021-11-23T02:16:51.928315Z",
     "start_time": "2021-11-23T02:16:50.717587Z"
    }
   },
   "outputs": [
    {
     "data": {
      "text/plain": [
       "(torch.Size([8, 1, 28, 28]), torch.Size([8]))"
      ]
     },
     "execution_count": 95,
     "metadata": {},
     "output_type": "execute_result"
    }
   ],
   "source": [
    "dataiter = iter(train_loader)\n",
    "images, labels = dataiter.next()\n",
    "images.shape, labels.shape\n",
    "\n",
    "## ([8, 1, 28, 28]) : batch_size만큼 8 / gray_scale로 가져왔기때문에 1, 28, 28\n",
    "\n",
    "## tensorflow에선 28, 28, 1  / but, pytorch에선  1, 28, 28  // 채널이 앞에옴"
   ]
  },
  {
   "cell_type": "markdown",
   "id": "b46d0136",
   "metadata": {},
   "source": [
    "<u>**(중요) torch에서는 channel(채널)이 앞에 옴**</u>\n",
    "\n",
    "- `channel first`\n",
    "\n",
    "- tensorflow, keras 등에서는 channel이 뒤에 옴(`channel last`)"
   ]
  },
  {
   "cell_type": "markdown",
   "id": "549188b6",
   "metadata": {},
   "source": [
    "### 데이터 확인"
   ]
  },
  {
   "cell_type": "code",
   "execution_count": 96,
   "id": "31e54d4b",
   "metadata": {
    "ExecuteTime": {
     "end_time": "2021-11-23T02:16:55.968857Z",
     "start_time": "2021-11-23T02:16:55.765303Z"
    }
   },
   "outputs": [],
   "source": [
    "import matplotlib.pyplot as plt"
   ]
  },
  {
   "cell_type": "code",
   "execution_count": 97,
   "id": "59108adf",
   "metadata": {
    "ExecuteTime": {
     "end_time": "2021-11-23T02:17:00.172962Z",
     "start_time": "2021-11-23T02:17:00.157970Z"
    }
   },
   "outputs": [
    {
     "data": {
      "text/plain": [
       "torch.Size([28, 28])"
      ]
     },
     "execution_count": 97,
     "metadata": {},
     "output_type": "execute_result"
    }
   ],
   "source": [
    "torch_image = torch.squeeze(images[0])\n",
    "torch_image.shape"
   ]
  },
  {
   "cell_type": "code",
   "execution_count": 98,
   "id": "cca39638",
   "metadata": {
    "ExecuteTime": {
     "end_time": "2021-11-23T02:17:37.452062Z",
     "start_time": "2021-11-23T02:17:37.447077Z"
    }
   },
   "outputs": [
    {
     "data": {
      "text/plain": [
       "(28, 28)"
      ]
     },
     "execution_count": 98,
     "metadata": {},
     "output_type": "execute_result"
    }
   ],
   "source": [
    "image = torch_image.numpy()\n",
    "image.shape"
   ]
  },
  {
   "cell_type": "code",
   "execution_count": 99,
   "id": "69c9b9d2",
   "metadata": {
    "ExecuteTime": {
     "end_time": "2021-11-23T02:17:49.737418Z",
     "start_time": "2021-11-23T02:17:49.733415Z"
    }
   },
   "outputs": [
    {
     "data": {
      "text/plain": [
       "()"
      ]
     },
     "execution_count": 99,
     "metadata": {},
     "output_type": "execute_result"
    }
   ],
   "source": [
    "label = labels[0].numpy()\n",
    "label.shape"
   ]
  },
  {
   "cell_type": "code",
   "execution_count": 100,
   "id": "eeedf840",
   "metadata": {
    "ExecuteTime": {
     "end_time": "2021-11-23T02:17:54.117355Z",
     "start_time": "2021-11-23T02:17:54.110342Z"
    }
   },
   "outputs": [
    {
     "data": {
      "text/plain": [
       "array(7, dtype=int64)"
      ]
     },
     "execution_count": 100,
     "metadata": {},
     "output_type": "execute_result"
    }
   ],
   "source": [
    "label"
   ]
  },
  {
   "cell_type": "code",
   "execution_count": 101,
   "id": "9b81692e",
   "metadata": {
    "ExecuteTime": {
     "start_time": "2021-11-23T02:18:10.804Z"
    }
   },
   "outputs": [
    {
     "data": {
      "image/png": "[encoded data removed]",
      "text/plain": [
       "<Figure size 432x288 with 1 Axes>"
      ]
     },
     "metadata": {
      "needs_background": "light"
     },
     "output_type": "display_data"
    }
   ],
   "source": [
    "plt.title(label)\n",
    "plt.imshow(image, 'gray')\n",
    "plt.show()"
   ]
  },
  {
   "cell_type": "markdown",
   "id": "5bfcfc9d",
   "metadata": {},
   "source": [
    "## 각 Layer 설명"
   ]
  },
  {
   "cell_type": "code",
   "execution_count": 102,
   "id": "bfd9a87f",
   "metadata": {},
   "outputs": [],
   "source": [
    "import torch\n",
    "import torch.nn as nn\n",
    "import torch.nn.functional as F\n",
    "import torch.optim as optim"
   ]
  },
  {
   "cell_type": "markdown",
   "id": "4aa842b3",
   "metadata": {},
   "source": [
    "### nn.Conv2d\n",
    "\n",
    "- `in_channels`: channel의 갯수\n",
    "\n",
    "- `out_channels`: 출력 채널의 갯수\n",
    "\n",
    "- `kernel_size`: 커널(필터) 사이즈\n",
    "\n",
    "- 텐서플로우, 케라스와 다르게 레이어의 `input`인자에도 값을 집어 넣어줘야함"
   ]
  },
  {
   "cell_type": "code",
   "execution_count": 103,
   "id": "8e6e8558",
   "metadata": {},
   "outputs": [
    {
     "data": {
      "text/plain": [
       "Conv2d(1, 20, kernel_size=(5, 5), stride=(1, 1))"
      ]
     },
     "execution_count": 103,
     "metadata": {},
     "output_type": "execute_result"
    }
   ],
   "source": [
    "nn.Conv2d(in_channels = 1, out_channels = 20, kernel_size = 5, stride = 1)"
   ]
  },
  {
   "cell_type": "code",
   "execution_count": 104,
   "id": "487165ab",
   "metadata": {},
   "outputs": [
    {
     "data": {
      "text/plain": [
       "Conv2d(1, 20, kernel_size=(5, 5), stride=(1, 1))"
      ]
     },
     "execution_count": 104,
     "metadata": {},
     "output_type": "execute_result"
    }
   ],
   "source": [
    "layer = nn.Conv2d(1, 20, 5, 1).to(torch.device('cpu'))\n",
    "layer"
   ]
  },
  {
   "cell_type": "markdown",
   "id": "59e602a6",
   "metadata": {},
   "source": [
    "- `wegiht`확인"
   ]
  },
  {
   "cell_type": "code",
   "execution_count": 105,
   "id": "eb217852",
   "metadata": {},
   "outputs": [
    {
     "data": {
      "text/plain": [
       "torch.Size([20, 1, 5, 5])"
      ]
     },
     "execution_count": 105,
     "metadata": {},
     "output_type": "execute_result"
    }
   ],
   "source": [
    "weight = layer.weight\n",
    "weight.shape"
   ]
  },
  {
   "cell_type": "markdown",
   "id": "be57cc56",
   "metadata": {},
   "source": [
    "- `weight`는 `detach()`를 통해 꺼내줘야 `numpy()`변환이 가능"
   ]
  },
  {
   "cell_type": "code",
   "execution_count": 106,
   "id": "f1f5ef4a",
   "metadata": {},
   "outputs": [],
   "source": [
    "weight = weight.detach()"
   ]
  },
  {
   "cell_type": "code",
   "execution_count": 107,
   "id": "1fe4e603",
   "metadata": {},
   "outputs": [
    {
     "data": {
      "text/plain": [
       "(20, 1, 5, 5)"
      ]
     },
     "execution_count": 107,
     "metadata": {},
     "output_type": "execute_result"
    }
   ],
   "source": [
    "weight = weight.numpy()\n",
    "weight.shape"
   ]
  },
  {
   "cell_type": "code",
   "execution_count": 108,
   "id": "93aa6ac6",
   "metadata": {},
   "outputs": [
    {
     "data": {
      "image/png": "[encoded data removed]",
      "text/plain": [
       "<Figure size 432x288 with 2 Axes>"
      ]
     },
     "metadata": {
      "needs_background": "light"
     },
     "output_type": "display_data"
    }
   ],
   "source": [
    "import matplotlib.pyplot as plt\n",
    "\n",
    "plt.imshow(weight[0, 0, :, :], 'jet')\n",
    "plt.colorbar()\n",
    "\n",
    "plt.show()"
   ]
  },
  {
   "cell_type": "code",
   "execution_count": 111,
   "id": "55c3de34",
   "metadata": {},
   "outputs": [
    {
     "name": "stdout",
     "output_type": "stream",
     "text": [
      "torch.Size([8, 1, 28, 28])\n"
     ]
    }
   ],
   "source": [
    "print(images.shape)"
   ]
  },
  {
   "cell_type": "code",
   "execution_count": 112,
   "id": "57f58d6b",
   "metadata": {},
   "outputs": [],
   "source": [
    "## 차원 늘리기\n",
    "input_image = torch.unsqueeze(images[0], dim = 0)"
   ]
  },
  {
   "cell_type": "code",
   "execution_count": 113,
   "id": "7166e8b9",
   "metadata": {},
   "outputs": [],
   "source": [
    "output_data = layer(input_image)"
   ]
  },
  {
   "cell_type": "code",
   "execution_count": 114,
   "id": "e84ef6a6",
   "metadata": {},
   "outputs": [],
   "source": [
    "output = output_data.data"
   ]
  },
  {
   "cell_type": "code",
   "execution_count": 115,
   "id": "0cad3b1c",
   "metadata": {},
   "outputs": [
    {
     "data": {
      "text/plain": [
       "(1, 20, 24, 24)"
      ]
     },
     "execution_count": 115,
     "metadata": {},
     "output_type": "execute_result"
    }
   ],
   "source": [
    "output_arr = output.numpy()\n",
    "output_arr.shape"
   ]
  },
  {
   "cell_type": "code",
   "execution_count": 117,
   "id": "e76dcae9",
   "metadata": {},
   "outputs": [
    {
     "data": {
      "image/png": "[encoded data removed]",
      "text/plain": [
       "<Figure size 1080x2160 with 3 Axes>"
      ]
     },
     "metadata": {
      "needs_background": "light"
     },
     "output_type": "display_data"
    }
   ],
   "source": [
    "plt.figure(figsize = (15, 30))\n",
    "\n",
    "# 입력\n",
    "plt.subplot(131)\n",
    "plt.title('Input')\n",
    "plt.imshow(image, 'gray')\n",
    "\n",
    "# weight 값\n",
    "plt.subplot(132)\n",
    "plt.title('Weight')\n",
    "plt.imshow(weight[0, 0, :, :], 'jet')\n",
    "\n",
    "# weight 값을 거친 output값 출력\n",
    "plt.subplot(133)\n",
    "plt.title('Output')\n",
    "plt.imshow(output_arr[0, 0, :, :], 'gray')\n",
    "\n",
    "plt.show()"
   ]
  },
  {
   "cell_type": "markdown",
   "id": "34a7b915",
   "metadata": {},
   "source": [
    "### Pooling\n",
    "- `F.max_pool2d` \n",
    "  - `stride`\n",
    "\n",
    "  - `kernel_size`\n",
    "\n",
    "- `torch.nn.MaxPool2d` 도 많이 사용"
   ]
  },
  {
   "cell_type": "code",
   "execution_count": 118,
   "id": "802397de",
   "metadata": {},
   "outputs": [
    {
     "data": {
      "text/plain": [
       "(28, 28)"
      ]
     },
     "execution_count": 118,
     "metadata": {},
     "output_type": "execute_result"
    }
   ],
   "source": [
    "image.shape"
   ]
  },
  {
   "cell_type": "code",
   "execution_count": 119,
   "id": "4387661a",
   "metadata": {},
   "outputs": [
    {
     "data": {
      "text/plain": [
       "torch.Size([1, 20, 12, 12])"
      ]
     },
     "execution_count": 119,
     "metadata": {},
     "output_type": "execute_result"
    }
   ],
   "source": [
    "pool = F.max_pool2d(output, 2, 2)\n",
    "pool.shape"
   ]
  },
  {
   "cell_type": "markdown",
   "id": "95cd8f04",
   "metadata": {},
   "source": [
    "- MaxPool Layer는 weight가 없기 때문에 바로 `numpy()`변환 가능"
   ]
  },
  {
   "cell_type": "code",
   "execution_count": 120,
   "id": "4d2ab503",
   "metadata": {},
   "outputs": [
    {
     "data": {
      "text/plain": [
       "(1, 20, 12, 12)"
      ]
     },
     "execution_count": 120,
     "metadata": {},
     "output_type": "execute_result"
    }
   ],
   "source": [
    "pool_arr = pool.numpy()\n",
    "pool_arr.shape"
   ]
  },
  {
   "cell_type": "code",
   "execution_count": 121,
   "id": "5349d8ce",
   "metadata": {},
   "outputs": [
    {
     "data": {
      "image/png": "[encoded data removed]",
      "text/plain": [
       "<Figure size 720x1080 with 2 Axes>"
      ]
     },
     "metadata": {
      "needs_background": "light"
     },
     "output_type": "display_data"
    }
   ],
   "source": [
    "plt.figure(figsize = (10, 15))\n",
    "\n",
    "# Input\n",
    "plt.subplot(121)\n",
    "plt.title('Input')\n",
    "plt.imshow(image, 'gray')\n",
    "\n",
    "# MaxPooling을 거친 값 >> Output\n",
    "plt.subplot(122)\n",
    "plt.title('Output')\n",
    "plt.imshow(pool_arr[0, 0, :, :], 'gray')\n",
    "\n",
    "plt.show()"
   ]
  },
  {
   "cell_type": "markdown",
   "id": "12c7d66e",
   "metadata": {},
   "source": [
    "### Linear\n",
    "- 1d만 가능 `.view()`를 통해 1D로 펼쳐줘야함"
   ]
  },
  {
   "cell_type": "code",
   "execution_count": 122,
   "id": "ef5e6d31",
   "metadata": {},
   "outputs": [
    {
     "data": {
      "text/plain": [
       "torch.Size([28, 28])"
      ]
     },
     "execution_count": 122,
     "metadata": {},
     "output_type": "execute_result"
    }
   ],
   "source": [
    "image = torch.from_numpy(image)\n",
    "image.shape"
   ]
  },
  {
   "cell_type": "code",
   "execution_count": 123,
   "id": "6e6dc1b6",
   "metadata": {},
   "outputs": [
    {
     "data": {
      "text/plain": [
       "torch.Size([1, 784])"
      ]
     },
     "execution_count": 123,
     "metadata": {},
     "output_type": "execute_result"
    }
   ],
   "source": [
    "flatten = image.view(1, 28 * 28)\n",
    "flatten.shape"
   ]
  },
  {
   "cell_type": "code",
   "execution_count": 124,
   "id": "5f30e8ce",
   "metadata": {},
   "outputs": [
    {
     "data": {
      "text/plain": [
       "torch.Size([1, 10])"
      ]
     },
     "execution_count": 124,
     "metadata": {},
     "output_type": "execute_result"
    }
   ],
   "source": [
    "lin = nn.Linear(784, 10)(flatten)\n",
    "lin.shape"
   ]
  },
  {
   "cell_type": "code",
   "execution_count": 125,
   "id": "44735341",
   "metadata": {},
   "outputs": [
    {
     "data": {
      "text/plain": [
       "tensor([[-0.4279,  0.0459,  0.0264,  0.1358,  0.9872, -0.2606, -0.4386, -0.6091,\n",
       "         -0.6971, -0.5999]], grad_fn=<AddmmBackward0>)"
      ]
     },
     "execution_count": 125,
     "metadata": {},
     "output_type": "execute_result"
    }
   ],
   "source": [
    "lin"
   ]
  },
  {
   "cell_type": "code",
   "execution_count": 126,
   "id": "5681ebee",
   "metadata": {},
   "outputs": [
    {
     "data": {
      "image/png": "[encoded data removed]",
      "text/plain": [
       "<Figure size 432x288 with 2 Axes>"
      ]
     },
     "metadata": {
      "needs_background": "light"
     },
     "output_type": "display_data"
    }
   ],
   "source": [
    "plt.imshow(lin.detach().numpy(), 'jet')\n",
    "plt.colorbar()\n",
    "plt.show()"
   ]
  },
  {
   "cell_type": "markdown",
   "id": "4de90c98",
   "metadata": {},
   "source": [
    "### Softmax"
   ]
  },
  {
   "cell_type": "code",
   "execution_count": 127,
   "id": "59a87ace",
   "metadata": {},
   "outputs": [],
   "source": [
    "with torch.no_grad():\n",
    "    flatten = image.view(1, 28*28)\n",
    "    lin = nn.Linear(784, 10)(flatten)\n",
    "    softmax = F.softmax(lin, dim = 1)"
   ]
  },
  {
   "cell_type": "code",
   "execution_count": 128,
   "id": "29d45c69",
   "metadata": {},
   "outputs": [
    {
     "data": {
      "text/plain": [
       "tensor([[0.1254, 0.1065, 0.0694, 0.1411, 0.0876, 0.0516, 0.0620, 0.0953, 0.1465,\n",
       "         0.1147]])"
      ]
     },
     "execution_count": 128,
     "metadata": {},
     "output_type": "execute_result"
    }
   ],
   "source": [
    "softmax"
   ]
  },
  {
   "cell_type": "code",
   "execution_count": 129,
   "id": "d5721b4c",
   "metadata": {},
   "outputs": [
    {
     "data": {
      "text/plain": [
       "0.99999994"
      ]
     },
     "execution_count": 129,
     "metadata": {},
     "output_type": "execute_result"
    }
   ],
   "source": [
    "np.sum(softmax.numpy())"
   ]
  },
  {
   "cell_type": "markdown",
   "id": "3e1777e4",
   "metadata": {},
   "source": [
    "### F.relu\n",
    "\n",
    "- ReLU 함수를 적용하는 레이어\n",
    "\n",
    "- `nn.ReLU`로도 사용 가능"
   ]
  },
  {
   "cell_type": "code",
   "execution_count": 130,
   "id": "a1b78311",
   "metadata": {},
   "outputs": [
    {
     "data": {
      "text/plain": [
       "torch.Size([4, 3, 28, 28])"
      ]
     },
     "execution_count": 130,
     "metadata": {},
     "output_type": "execute_result"
    }
   ],
   "source": [
    "inputs = torch.randn(4, 3, 28, 28).to(device)\n",
    "inputs.shape"
   ]
  },
  {
   "cell_type": "code",
   "execution_count": 131,
   "id": "c4f46f29",
   "metadata": {},
   "outputs": [
    {
     "data": {
      "text/plain": [
       "torch.Size([4, 20, 24, 24])"
      ]
     },
     "execution_count": 131,
     "metadata": {},
     "output_type": "execute_result"
    }
   ],
   "source": [
    "layer = nn.Conv2d(3, 20, 5, 1).to(device)\n",
    "output = F.relu(layer(inputs))\n",
    "output.shape"
   ]
  },
  {
   "cell_type": "markdown",
   "id": "f65c5e1a",
   "metadata": {},
   "source": [
    "## Optimizer\n",
    "\n",
    "- `import torch.optim as optim`\n",
    "\n",
    "- `model`의 파라미터를 업데이트\n",
    "\n",
    "- 예시)\n",
    "  ```python\n",
    "  optimizer = torch.optim.Adam(model.parameters(), lr=1e-4, weight_decay=1e-5)\n",
    "  optimizer = optim.SGD(model.parameters(), lr=0.001)\n",
    "  ```\n",
    "\n",
    "- `.zero_grad()`로 초기화\n",
    "- `.step()`으로 업데이트\n",
    "\n"
   ]
  }
 ],
 "metadata": {
  "kernelspec": {
   "display_name": "Python 3 (ipykernel)",
   "language": "python",
   "name": "python3"
  },
  "language_info": {
   "codemirror_mode": {
    "name": "ipython",
    "version": 3
   },
   "file_extension": ".py",
   "mimetype": "text/x-python",
   "name": "python",
   "nbconvert_exporter": "python",
   "pygments_lexer": "ipython3",
   "version": "3.9.7"
  },
  "toc": {
   "base_numbering": 1,
   "nav_menu": {},
   "number_sections": true,
   "sideBar": true,
   "skip_h1_title": false,
   "title_cell": "Table of Contents",
   "title_sidebar": "Contents",
   "toc_cell": false,
   "toc_position": {
    "height": "calc(100% - 180px)",
    "left": "10px",
    "top": "150px",
    "width": "232.604px"
   },
   "toc_section_display": true,
   "toc_window_display": true
  },
  "varInspector": {
   "cols": {
    "lenName": 16,
    "lenType": 16,
    "lenVar": 40
   },
   "kernels_config": {
    "python": {
     "delete_cmd_postfix": "",
     "delete_cmd_prefix": "del ",
     "library": "var_list.py",
     "varRefreshCmd": "print(var_dic_list())"
    },
    "r": {
     "delete_cmd_postfix": ") ",
     "delete_cmd_prefix": "rm(",
     "library": "var_list.r",
     "varRefreshCmd": "cat(var_dic_list()) "
    }
   },
   "types_to_exclude": [
    "module",
    "function",
    "builtin_function_or_method",
    "instance",
    "_Feature"
   ],
   "window_display": false
  }
 },
 "nbformat": 4,
 "nbformat_minor": 5
}
