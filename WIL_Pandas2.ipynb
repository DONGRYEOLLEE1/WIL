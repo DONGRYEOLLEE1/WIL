{
 "cells": [
  {
   "cell_type": "code",
   "execution_count": 1,
   "id": "0c0e1ed2",
   "metadata": {},
   "outputs": [],
   "source": [
    "import pandas as pd\n",
    "import numpy as np"
   ]
  },
  {
   "cell_type": "markdown",
   "id": "0d1de0ab",
   "metadata": {},
   "source": [
    "## 문자열 연산"
   ]
  },
  {
   "cell_type": "markdown",
   "id": "d9e7c226",
   "metadata": {},
   "source": [
    "- 파이썬의 문자열 연산자를 거의 모두 반영"
   ]
  },
  {
   "cell_type": "code",
   "execution_count": 5,
   "id": "aab126fa",
   "metadata": {},
   "outputs": [
    {
     "data": {
      "text/plain": [
       "0           Suan Lee\n",
       "1        Steven Jobs\n",
       "2         Larry Page\n",
       "3          Elon Musk\n",
       "4               None\n",
       "5         Bill Gates\n",
       "6    Mark Zuckerberg\n",
       "7         Jeff Bezos\n",
       "dtype: object"
      ]
     },
     "execution_count": 5,
     "metadata": {},
     "output_type": "execute_result"
    }
   ],
   "source": [
    "name_tuple = ['Suan Lee', 'Steven Jobs', 'Larry Page', 'Elon Musk', None, 'Bill Gates', 'Mark Zuckerberg',\n",
    "             'Jeff Bezos']\n",
    "names = pd.Series(name_tuple)\n",
    "names"
   ]
  },
  {
   "cell_type": "code",
   "execution_count": 6,
   "id": "6e5d49ac",
   "metadata": {},
   "outputs": [
    {
     "data": {
      "text/plain": [
       "0           suan lee\n",
       "1        steven jobs\n",
       "2         larry page\n",
       "3          elon musk\n",
       "4               None\n",
       "5         bill gates\n",
       "6    mark zuckerberg\n",
       "7         jeff bezos\n",
       "dtype: object"
      ]
     },
     "execution_count": 6,
     "metadata": {},
     "output_type": "execute_result"
    }
   ],
   "source": [
    "# 문자열 연산 처리에 접근할때는 'str'\n",
    "names.str.lower()"
   ]
  },
  {
   "cell_type": "code",
   "execution_count": 7,
   "id": "7904a678",
   "metadata": {},
   "outputs": [
    {
     "data": {
      "text/plain": [
       "0           [Suan, Lee]\n",
       "1        [Steven, Jobs]\n",
       "2         [Larry, Page]\n",
       "3          [Elon, Musk]\n",
       "4                  None\n",
       "5         [Bill, Gates]\n",
       "6    [Mark, Zuckerberg]\n",
       "7         [Jeff, Bezos]\n",
       "dtype: object"
      ]
     },
     "execution_count": 7,
     "metadata": {},
     "output_type": "execute_result"
    }
   ],
   "source": [
    "names.str.split()"
   ]
  },
  {
   "cell_type": "markdown",
   "id": "dd4be6df",
   "metadata": {},
   "source": [
    "- 기타 연산자"
   ]
  },
  {
   "cell_type": "code",
   "execution_count": 8,
   "id": "9fdc9f4b",
   "metadata": {},
   "outputs": [
    {
     "data": {
      "text/plain": [
       "0    Suan\n",
       "1    Stev\n",
       "2    Larr\n",
       "3    Elon\n",
       "4    None\n",
       "5    Bill\n",
       "6    Mark\n",
       "7    Jeff\n",
       "dtype: object"
      ]
     },
     "execution_count": 8,
     "metadata": {},
     "output_type": "execute_result"
    }
   ],
   "source": [
    "names.str[0:4]"
   ]
  },
  {
   "cell_type": "code",
   "execution_count": 9,
   "id": "1cc6cff7",
   "metadata": {},
   "outputs": [
    {
     "data": {
      "text/plain": [
       "0           Lee\n",
       "1          Jobs\n",
       "2          Page\n",
       "3          Musk\n",
       "4          None\n",
       "5         Gates\n",
       "6    Zuckerberg\n",
       "7         Bezos\n",
       "dtype: object"
      ]
     },
     "execution_count": 9,
     "metadata": {},
     "output_type": "execute_result"
    }
   ],
   "source": [
    "names.str.split().str.get(-1)"
   ]
  },
  {
   "cell_type": "code",
   "execution_count": 10,
   "id": "8a0cb4b3",
   "metadata": {},
   "outputs": [
    {
     "data": {
      "text/plain": [
       "0                  Suan LeeSuan Lee\n",
       "1            Steven JobsSteven Jobs\n",
       "2              Larry PageLarry Page\n",
       "3                Elon MuskElon Musk\n",
       "4                              None\n",
       "5              Bill GatesBill Gates\n",
       "6    Mark ZuckerbergMark Zuckerberg\n",
       "7              Jeff BezosJeff Bezos\n",
       "dtype: object"
      ]
     },
     "execution_count": 10,
     "metadata": {},
     "output_type": "execute_result"
    }
   ],
   "source": [
    "names.str.repeat(2)"
   ]
  },
  {
   "cell_type": "code",
   "execution_count": 11,
   "id": "a25e6737",
   "metadata": {},
   "outputs": [
    {
     "data": {
      "text/plain": [
       "0                  S*u*a*n* *L*e*e\n",
       "1            S*t*e*v*e*n* *J*o*b*s\n",
       "2              L*a*r*r*y* *P*a*g*e\n",
       "3                E*l*o*n* *M*u*s*k\n",
       "4                             None\n",
       "5              B*i*l*l* *G*a*t*e*s\n",
       "6    M*a*r*k* *Z*u*c*k*e*r*b*e*r*g\n",
       "7              J*e*f*f* *B*e*z*o*s\n",
       "dtype: object"
      ]
     },
     "execution_count": 11,
     "metadata": {},
     "output_type": "execute_result"
    }
   ],
   "source": [
    "names.str.join('*')"
   ]
  },
  {
   "cell_type": "markdown",
   "id": "0f7e56ed",
   "metadata": {},
   "source": [
    "- 정규표현식"
   ]
  },
  {
   "cell_type": "code",
   "execution_count": 12,
   "id": "43999ff5",
   "metadata": {},
   "outputs": [
    {
     "data": {
      "text/plain": [
       "0    True\n",
       "1    True\n",
       "2    True\n",
       "3    True\n",
       "4    None\n",
       "5    True\n",
       "6    True\n",
       "7    True\n",
       "dtype: object"
      ]
     },
     "execution_count": 12,
     "metadata": {},
     "output_type": "execute_result"
    }
   ],
   "source": [
    "names.str.match('([A-Za-z]+)')"
   ]
  },
  {
   "cell_type": "code",
   "execution_count": 13,
   "id": "85da19dc",
   "metadata": {},
   "outputs": [
    {
     "data": {
      "text/plain": [
       "0           [Suan, Lee]\n",
       "1        [Steven, Jobs]\n",
       "2         [Larry, Page]\n",
       "3          [Elon, Musk]\n",
       "4                  None\n",
       "5         [Bill, Gates]\n",
       "6    [Mark, Zuckerberg]\n",
       "7         [Jeff, Bezos]\n",
       "dtype: object"
      ]
     },
     "execution_count": 13,
     "metadata": {},
     "output_type": "execute_result"
    }
   ],
   "source": [
    "# 정규표현식에 해당하는 것들 모두 출력\n",
    "names.str.findall('([A-Za-z]+)')"
   ]
  },
  {
   "cell_type": "markdown",
   "id": "31a5d901",
   "metadata": {},
   "source": [
    "- 시계열 처리"
   ]
  },
  {
   "cell_type": "code",
   "execution_count": 14,
   "id": "681ac13c",
   "metadata": {},
   "outputs": [
    {
     "data": {
      "text/plain": [
       "2019-01-01    0\n",
       "2020-01-01    1\n",
       "2020-02-01    2\n",
       "2020-02-02    3\n",
       "2020-03-01    4\n",
       "dtype: int64"
      ]
     },
     "execution_count": 14,
     "metadata": {},
     "output_type": "execute_result"
    }
   ],
   "source": [
    "idx = pd.DatetimeIndex(['2019-01-01', '2020-01-01', '2020-02-01', '2020-02-02', '2020-03-01'])\n",
    "s = pd.Series([0, 1, 2, 3, 4], index = idx)\n",
    "s"
   ]
  },
  {
   "cell_type": "code",
   "execution_count": 15,
   "id": "bfe8a4f9",
   "metadata": {},
   "outputs": [
    {
     "data": {
      "text/plain": [
       "2020-01-01    1\n",
       "2020-02-01    2\n",
       "2020-02-02    3\n",
       "2020-03-01    4\n",
       "dtype: int64"
      ]
     },
     "execution_count": 15,
     "metadata": {},
     "output_type": "execute_result"
    }
   ],
   "source": [
    "s['2020-01-01':]"
   ]
  },
  {
   "cell_type": "code",
   "execution_count": 16,
   "id": "5c38059e",
   "metadata": {},
   "outputs": [
    {
     "data": {
      "text/plain": [
       "2019-01-01    0\n",
       "2020-01-01    1\n",
       "dtype: int64"
      ]
     },
     "execution_count": 16,
     "metadata": {},
     "output_type": "execute_result"
    }
   ],
   "source": [
    "s[:'2020-01-01']"
   ]
  },
  {
   "cell_type": "code",
   "execution_count": 17,
   "id": "da111e12",
   "metadata": {},
   "outputs": [
    {
     "data": {
      "text/plain": [
       "2019-01-01    0\n",
       "dtype: int64"
      ]
     },
     "execution_count": 17,
     "metadata": {},
     "output_type": "execute_result"
    }
   ],
   "source": [
    "s['2019']"
   ]
  },
  {
   "cell_type": "markdown",
   "id": "e95cf028",
   "metadata": {},
   "source": [
    "- 시계열 데이터 구조"
   ]
  },
  {
   "cell_type": "code",
   "execution_count": 19,
   "id": "6868db75",
   "metadata": {},
   "outputs": [
    {
     "data": {
      "text/plain": [
       "DatetimeIndex(['2019-12-12', '2020-01-01', '2020-02-02', '2020-03-04',\n",
       "               '2020-07-01'],\n",
       "              dtype='datetime64[ns]', freq=None)"
      ]
     },
     "execution_count": 19,
     "metadata": {},
     "output_type": "execute_result"
    }
   ],
   "source": [
    "from datetime import datetime\n",
    "dates = pd.to_datetime(['12-12-2019', datetime(2020, 1, 1), '2nd of Feb, 2020', '2020-Mar-4', '20200701'])\n",
    "dates"
   ]
  },
  {
   "cell_type": "code",
   "execution_count": 20,
   "id": "d32d53fd",
   "metadata": {},
   "outputs": [
    {
     "data": {
      "text/plain": [
       "PeriodIndex(['2019-12-12', '2020-01-01', '2020-02-02', '2020-03-04',\n",
       "             '2020-07-01'],\n",
       "            dtype='period[D]', freq='D')"
      ]
     },
     "execution_count": 20,
     "metadata": {},
     "output_type": "execute_result"
    }
   ],
   "source": [
    "dates.to_period('D')"
   ]
  },
  {
   "cell_type": "code",
   "execution_count": 21,
   "id": "f1ca9f20",
   "metadata": {},
   "outputs": [
    {
     "data": {
      "text/plain": [
       "TimedeltaIndex(['0 days', '20 days', '52 days', '83 days', '202 days'], dtype='timedelta64[ns]', freq=None)"
      ]
     },
     "execution_count": 21,
     "metadata": {},
     "output_type": "execute_result"
    }
   ],
   "source": [
    "dates - dates[0]"
   ]
  },
  {
   "cell_type": "code",
   "execution_count": 22,
   "id": "49a5cc22",
   "metadata": {},
   "outputs": [
    {
     "data": {
      "text/plain": [
       "DatetimeIndex(['2020-01-01', '2020-01-02', '2020-01-03', '2020-01-04',\n",
       "               '2020-01-05', '2020-01-06', '2020-01-07', '2020-01-08',\n",
       "               '2020-01-09', '2020-01-10',\n",
       "               ...\n",
       "               '2020-06-22', '2020-06-23', '2020-06-24', '2020-06-25',\n",
       "               '2020-06-26', '2020-06-27', '2020-06-28', '2020-06-29',\n",
       "               '2020-06-30', '2020-07-01'],\n",
       "              dtype='datetime64[ns]', length=183, freq='D')"
      ]
     },
     "execution_count": 22,
     "metadata": {},
     "output_type": "execute_result"
    }
   ],
   "source": [
    "pd.date_range('2020-01-01', '2020-07-01')"
   ]
  },
  {
   "cell_type": "code",
   "execution_count": 23,
   "id": "7108aa8e",
   "metadata": {},
   "outputs": [
    {
     "data": {
      "text/plain": [
       "DatetimeIndex(['2020-01-01', '2020-01-02', '2020-01-03', '2020-01-04',\n",
       "               '2020-01-05', '2020-01-06', '2020-01-07'],\n",
       "              dtype='datetime64[ns]', freq='D')"
      ]
     },
     "execution_count": 23,
     "metadata": {},
     "output_type": "execute_result"
    }
   ],
   "source": [
    "pd.date_range('2020-01-01', periods = 7)"
   ]
  },
  {
   "cell_type": "code",
   "execution_count": 24,
   "id": "f5eeb1e5",
   "metadata": {},
   "outputs": [
    {
     "data": {
      "text/plain": [
       "DatetimeIndex(['2020-01-31', '2020-02-29', '2020-03-31', '2020-04-30',\n",
       "               '2020-05-31', '2020-06-30', '2020-07-31'],\n",
       "              dtype='datetime64[ns]', freq='M')"
      ]
     },
     "execution_count": 24,
     "metadata": {},
     "output_type": "execute_result"
    }
   ],
   "source": [
    "pd.date_range('2020-01-01', periods = 7, freq = 'M')"
   ]
  },
  {
   "cell_type": "code",
   "execution_count": 25,
   "id": "9f60a08c",
   "metadata": {},
   "outputs": [
    {
     "data": {
      "text/plain": [
       "DatetimeIndex(['2020-01-01 00:00:00', '2020-01-01 01:00:00',\n",
       "               '2020-01-01 02:00:00', '2020-01-01 03:00:00',\n",
       "               '2020-01-01 04:00:00', '2020-01-01 05:00:00',\n",
       "               '2020-01-01 06:00:00'],\n",
       "              dtype='datetime64[ns]', freq='H')"
      ]
     },
     "execution_count": 25,
     "metadata": {},
     "output_type": "execute_result"
    }
   ],
   "source": [
    "pd.date_range('2020-01-01', periods = 7, freq = 'H')"
   ]
  },
  {
   "cell_type": "code",
   "execution_count": 26,
   "id": "893cd395",
   "metadata": {},
   "outputs": [
    {
     "data": {
      "text/plain": [
       "DatetimeIndex(['2020-01-01 12:00:00', '2020-01-02 00:00:00', 'NaT'], dtype='datetime64[ns]', freq=None)"
      ]
     },
     "execution_count": 26,
     "metadata": {},
     "output_type": "execute_result"
    }
   ],
   "source": [
    "idx = pd.to_datetime(['2020-01-01 12:00:00', '2020-01-02 00:00:00'] + [None])\n",
    "idx"
   ]
  },
  {
   "cell_type": "code",
   "execution_count": 27,
   "id": "881c2799",
   "metadata": {},
   "outputs": [
    {
     "data": {
      "text/plain": [
       "NaT"
      ]
     },
     "execution_count": 27,
     "metadata": {},
     "output_type": "execute_result"
    }
   ],
   "source": [
    "idx[2]\n",
    "# 'NaT' = Not a Time"
   ]
  },
  {
   "cell_type": "code",
   "execution_count": 28,
   "id": "68df9e57",
   "metadata": {},
   "outputs": [
    {
     "data": {
      "text/plain": [
       "array([False, False,  True])"
      ]
     },
     "execution_count": 28,
     "metadata": {},
     "output_type": "execute_result"
    }
   ],
   "source": [
    "pd.isnull(idx)"
   ]
  },
  {
   "cell_type": "markdown",
   "id": "9615e77e",
   "metadata": {},
   "source": [
    "- 시계열 기본"
   ]
  },
  {
   "cell_type": "code",
   "execution_count": 29,
   "id": "fb187c7a",
   "metadata": {},
   "outputs": [
    {
     "data": {
      "text/plain": [
       "[datetime.datetime(2020, 1, 1, 0, 0),\n",
       " datetime.datetime(2020, 1, 2, 0, 0),\n",
       " datetime.datetime(2020, 1, 4, 0, 0),\n",
       " datetime.datetime(2020, 1, 7, 0, 0),\n",
       " datetime.datetime(2020, 1, 10, 0, 0),\n",
       " datetime.datetime(2020, 1, 11, 0, 0),\n",
       " datetime.datetime(2020, 1, 15, 0, 0)]"
      ]
     },
     "execution_count": 29,
     "metadata": {},
     "output_type": "execute_result"
    }
   ],
   "source": [
    "dates = [datetime(2020, 1, 1), datetime(2020, 1, 2), datetime(2020, 1, 4), datetime(2020, 1, 7),\n",
    "        datetime(2020, 1, 10), datetime(2020, 1, 11), datetime(2020, 1, 15)]\n",
    "dates"
   ]
  },
  {
   "cell_type": "code",
   "execution_count": 30,
   "id": "2027f5a5",
   "metadata": {},
   "outputs": [
    {
     "data": {
      "text/plain": [
       "2020-01-01    1.136985\n",
       "2020-01-02    0.087183\n",
       "2020-01-04    0.985372\n",
       "2020-01-07   -0.971801\n",
       "2020-01-10   -1.961379\n",
       "2020-01-11    1.094167\n",
       "2020-01-15    2.558868\n",
       "dtype: float64"
      ]
     },
     "execution_count": 30,
     "metadata": {},
     "output_type": "execute_result"
    }
   ],
   "source": [
    "# 날짜 인덱스를 가지는 series\n",
    "ts = pd.Series(np.random.randn(7), index = dates)\n",
    "ts"
   ]
  },
  {
   "cell_type": "code",
   "execution_count": 31,
   "id": "b0ddcfb2",
   "metadata": {},
   "outputs": [
    {
     "data": {
      "text/plain": [
       "DatetimeIndex(['2020-01-01', '2020-01-02', '2020-01-04', '2020-01-07',\n",
       "               '2020-01-10', '2020-01-11', '2020-01-15'],\n",
       "              dtype='datetime64[ns]', freq=None)"
      ]
     },
     "execution_count": 31,
     "metadata": {},
     "output_type": "execute_result"
    }
   ],
   "source": [
    "ts.index"
   ]
  },
  {
   "cell_type": "code",
   "execution_count": 32,
   "id": "9a187b3e",
   "metadata": {},
   "outputs": [
    {
     "data": {
      "text/plain": [
       "Timestamp('2020-01-01 00:00:00')"
      ]
     },
     "execution_count": 32,
     "metadata": {},
     "output_type": "execute_result"
    }
   ],
   "source": [
    "ts.index[0]"
   ]
  },
  {
   "cell_type": "code",
   "execution_count": 33,
   "id": "3718da01",
   "metadata": {},
   "outputs": [
    {
     "data": {
      "text/plain": [
       "0.9853718088748329"
      ]
     },
     "execution_count": 33,
     "metadata": {},
     "output_type": "execute_result"
    }
   ],
   "source": [
    "ts[ts.index[2]]"
   ]
  },
  {
   "cell_type": "code",
   "execution_count": 34,
   "id": "caaa390b",
   "metadata": {},
   "outputs": [
    {
     "data": {
      "text/plain": [
       "0.9853718088748329"
      ]
     },
     "execution_count": 34,
     "metadata": {},
     "output_type": "execute_result"
    }
   ],
   "source": [
    "ts['20200104']"
   ]
  },
  {
   "cell_type": "code",
   "execution_count": 35,
   "id": "3242a157",
   "metadata": {},
   "outputs": [
    {
     "data": {
      "text/plain": [
       "0.9853718088748329"
      ]
     },
     "execution_count": 35,
     "metadata": {},
     "output_type": "execute_result"
    }
   ],
   "source": [
    "ts['1/4/2020']"
   ]
  },
  {
   "cell_type": "code",
   "execution_count": 38,
   "id": "5c174226",
   "metadata": {},
   "outputs": [
    {
     "data": {
      "text/plain": [
       "0.9853718088748329"
      ]
     },
     "execution_count": 38,
     "metadata": {},
     "output_type": "execute_result"
    }
   ],
   "source": [
    "ts['4th of Jan, 2020']"
   ]
  },
  {
   "cell_type": "code",
   "execution_count": 39,
   "id": "609731a0",
   "metadata": {},
   "outputs": [
    {
     "data": {
      "text/plain": [
       "2017-10-01   -0.409191\n",
       "2017-10-02   -1.792816\n",
       "2017-10-03    0.124101\n",
       "2017-10-04   -0.709377\n",
       "2017-10-05   -1.437921\n",
       "                ...   \n",
       "2020-06-22   -0.519861\n",
       "2020-06-23   -1.637668\n",
       "2020-06-24   -0.094069\n",
       "2020-06-25    0.212469\n",
       "2020-06-26   -1.014740\n",
       "Freq: D, Length: 1000, dtype: float64"
      ]
     },
     "execution_count": 39,
     "metadata": {},
     "output_type": "execute_result"
    }
   ],
   "source": [
    "ts = pd.Series(np.random.randn(1000),\n",
    "              index = pd.date_range('2017-10-01', periods = 1000))\n",
    "ts"
   ]
  },
  {
   "cell_type": "code",
   "execution_count": 40,
   "id": "65b4b9cc",
   "metadata": {},
   "outputs": [
    {
     "data": {
      "text/plain": [
       "2020-01-01   -0.096746\n",
       "2020-01-02    2.180322\n",
       "2020-01-03    0.646927\n",
       "2020-01-04    2.094955\n",
       "2020-01-05   -0.115152\n",
       "                ...   \n",
       "2020-06-22   -0.519861\n",
       "2020-06-23   -1.637668\n",
       "2020-06-24   -0.094069\n",
       "2020-06-25    0.212469\n",
       "2020-06-26   -1.014740\n",
       "Freq: D, Length: 178, dtype: float64"
      ]
     },
     "execution_count": 40,
     "metadata": {},
     "output_type": "execute_result"
    }
   ],
   "source": [
    "ts['2020']"
   ]
  },
  {
   "cell_type": "code",
   "execution_count": 41,
   "id": "35d87f08",
   "metadata": {},
   "outputs": [
    {
     "data": {
      "text/plain": [
       "2020-06-01    0.452413\n",
       "2020-06-02   -0.150912\n",
       "2020-06-03    0.454692\n",
       "2020-06-04   -1.807691\n",
       "2020-06-05    0.175658\n",
       "2020-06-06    1.302744\n",
       "2020-06-07    0.147726\n",
       "2020-06-08    1.022687\n",
       "2020-06-09    0.213381\n",
       "2020-06-10    0.136294\n",
       "2020-06-11   -0.799113\n",
       "2020-06-12   -0.041401\n",
       "2020-06-13   -2.424204\n",
       "2020-06-14   -1.194920\n",
       "2020-06-15   -0.263316\n",
       "2020-06-16    1.838632\n",
       "2020-06-17   -0.869476\n",
       "2020-06-18    0.060265\n",
       "2020-06-19    1.763964\n",
       "2020-06-20   -0.330324\n",
       "2020-06-21    1.578547\n",
       "2020-06-22   -0.519861\n",
       "2020-06-23   -1.637668\n",
       "2020-06-24   -0.094069\n",
       "2020-06-25    0.212469\n",
       "2020-06-26   -1.014740\n",
       "Freq: D, dtype: float64"
      ]
     },
     "execution_count": 41,
     "metadata": {},
     "output_type": "execute_result"
    }
   ],
   "source": [
    "ts['2020-06']"
   ]
  },
  {
   "cell_type": "code",
   "execution_count": 42,
   "id": "22c66d62",
   "metadata": {},
   "outputs": [
    {
     "data": {
      "text/plain": [
       "2020-06-20   -0.330324\n",
       "2020-06-21    1.578547\n",
       "2020-06-22   -0.519861\n",
       "2020-06-23   -1.637668\n",
       "2020-06-24   -0.094069\n",
       "2020-06-25    0.212469\n",
       "2020-06-26   -1.014740\n",
       "Freq: D, dtype: float64"
      ]
     },
     "execution_count": 42,
     "metadata": {},
     "output_type": "execute_result"
    }
   ],
   "source": [
    "ts[datetime(2020, 6, 20):]"
   ]
  },
  {
   "cell_type": "code",
   "execution_count": 43,
   "id": "12582485",
   "metadata": {},
   "outputs": [
    {
     "data": {
      "text/plain": [
       "2020-06-10    0.136294\n",
       "2020-06-11   -0.799113\n",
       "2020-06-12   -0.041401\n",
       "2020-06-13   -2.424204\n",
       "2020-06-14   -1.194920\n",
       "2020-06-15   -0.263316\n",
       "2020-06-16    1.838632\n",
       "2020-06-17   -0.869476\n",
       "2020-06-18    0.060265\n",
       "2020-06-19    1.763964\n",
       "2020-06-20   -0.330324\n",
       "Freq: D, dtype: float64"
      ]
     },
     "execution_count": 43,
     "metadata": {},
     "output_type": "execute_result"
    }
   ],
   "source": [
    "ts['2020-06-10' : '2020-06-20']"
   ]
  },
  {
   "cell_type": "code",
   "execution_count": 45,
   "id": "12b888cd",
   "metadata": {},
   "outputs": [
    {
     "data": {
      "text/html": [
       "<div>\n",
       "<style scoped>\n",
       "    .dataframe tbody tr th:only-of-type {\n",
       "        vertical-align: middle;\n",
       "    }\n",
       "\n",
       "    .dataframe tbody tr th {\n",
       "        vertical-align: top;\n",
       "    }\n",
       "\n",
       "    .dataframe thead th {\n",
       "        text-align: right;\n",
       "    }\n",
       "</style>\n",
       "<table border=\"1\" class=\"dataframe\">\n",
       "  <thead>\n",
       "    <tr style=\"text-align: right;\">\n",
       "      <th></th>\n",
       "      <th>A</th>\n",
       "      <th>B</th>\n",
       "      <th>C</th>\n",
       "      <th>D</th>\n",
       "    </tr>\n",
       "  </thead>\n",
       "  <tbody>\n",
       "    <tr>\n",
       "      <th>2017-10-01</th>\n",
       "      <td>0.720867</td>\n",
       "      <td>1.734528</td>\n",
       "      <td>0.598323</td>\n",
       "      <td>1.163599</td>\n",
       "    </tr>\n",
       "    <tr>\n",
       "      <th>2017-10-02</th>\n",
       "      <td>-1.099413</td>\n",
       "      <td>0.483295</td>\n",
       "      <td>-0.178570</td>\n",
       "      <td>-0.671705</td>\n",
       "    </tr>\n",
       "    <tr>\n",
       "      <th>2017-10-03</th>\n",
       "      <td>0.019158</td>\n",
       "      <td>-1.394781</td>\n",
       "      <td>0.254253</td>\n",
       "      <td>0.743069</td>\n",
       "    </tr>\n",
       "    <tr>\n",
       "      <th>2017-10-04</th>\n",
       "      <td>0.044595</td>\n",
       "      <td>-0.617181</td>\n",
       "      <td>1.186326</td>\n",
       "      <td>-0.004021</td>\n",
       "    </tr>\n",
       "    <tr>\n",
       "      <th>2017-10-05</th>\n",
       "      <td>1.002718</td>\n",
       "      <td>0.675530</td>\n",
       "      <td>-0.818820</td>\n",
       "      <td>1.275040</td>\n",
       "    </tr>\n",
       "    <tr>\n",
       "      <th>...</th>\n",
       "      <td>...</td>\n",
       "      <td>...</td>\n",
       "      <td>...</td>\n",
       "      <td>...</td>\n",
       "    </tr>\n",
       "    <tr>\n",
       "      <th>2020-06-22</th>\n",
       "      <td>0.461751</td>\n",
       "      <td>0.626018</td>\n",
       "      <td>0.190462</td>\n",
       "      <td>1.343334</td>\n",
       "    </tr>\n",
       "    <tr>\n",
       "      <th>2020-06-23</th>\n",
       "      <td>-0.433068</td>\n",
       "      <td>-0.018556</td>\n",
       "      <td>-0.189112</td>\n",
       "      <td>-1.227210</td>\n",
       "    </tr>\n",
       "    <tr>\n",
       "      <th>2020-06-24</th>\n",
       "      <td>0.184964</td>\n",
       "      <td>-1.381077</td>\n",
       "      <td>-1.347275</td>\n",
       "      <td>-0.128053</td>\n",
       "    </tr>\n",
       "    <tr>\n",
       "      <th>2020-06-25</th>\n",
       "      <td>-2.513773</td>\n",
       "      <td>0.051145</td>\n",
       "      <td>0.836708</td>\n",
       "      <td>-1.427391</td>\n",
       "    </tr>\n",
       "    <tr>\n",
       "      <th>2020-06-26</th>\n",
       "      <td>-0.134986</td>\n",
       "      <td>1.508630</td>\n",
       "      <td>1.153269</td>\n",
       "      <td>-0.838669</td>\n",
       "    </tr>\n",
       "  </tbody>\n",
       "</table>\n",
       "<p>1000 rows × 4 columns</p>\n",
       "</div>"
      ],
      "text/plain": [
       "                   A         B         C         D\n",
       "2017-10-01  0.720867  1.734528  0.598323  1.163599\n",
       "2017-10-02 -1.099413  0.483295 -0.178570 -0.671705\n",
       "2017-10-03  0.019158 -1.394781  0.254253  0.743069\n",
       "2017-10-04  0.044595 -0.617181  1.186326 -0.004021\n",
       "2017-10-05  1.002718  0.675530 -0.818820  1.275040\n",
       "...              ...       ...       ...       ...\n",
       "2020-06-22  0.461751  0.626018  0.190462  1.343334\n",
       "2020-06-23 -0.433068 -0.018556 -0.189112 -1.227210\n",
       "2020-06-24  0.184964 -1.381077 -1.347275 -0.128053\n",
       "2020-06-25 -2.513773  0.051145  0.836708 -1.427391\n",
       "2020-06-26 -0.134986  1.508630  1.153269 -0.838669\n",
       "\n",
       "[1000 rows x 4 columns]"
      ]
     },
     "execution_count": 45,
     "metadata": {},
     "output_type": "execute_result"
    }
   ],
   "source": [
    "tdf = pd.DataFrame(np.random.randn(1000, 4),\n",
    "                  index = pd.date_range('2017-10-01', periods = 1000),\n",
    "                  columns = ['A', 'B', 'C', 'D'])\n",
    "tdf"
   ]
  },
  {
   "cell_type": "code",
   "execution_count": 46,
   "id": "4a0c1d43",
   "metadata": {},
   "outputs": [
    {
     "name": "stderr",
     "output_type": "stream",
     "text": [
      "<ipython-input-46-8f66df2f472c>:1: FutureWarning: Indexing a DataFrame with a datetimelike index using a single string to slice the rows, like `frame[string]`, is deprecated and will be removed in a future version. Use `frame.loc[string]` instead.\n",
      "  tdf['2020']\n"
     ]
    },
    {
     "data": {
      "text/html": [
       "<div>\n",
       "<style scoped>\n",
       "    .dataframe tbody tr th:only-of-type {\n",
       "        vertical-align: middle;\n",
       "    }\n",
       "\n",
       "    .dataframe tbody tr th {\n",
       "        vertical-align: top;\n",
       "    }\n",
       "\n",
       "    .dataframe thead th {\n",
       "        text-align: right;\n",
       "    }\n",
       "</style>\n",
       "<table border=\"1\" class=\"dataframe\">\n",
       "  <thead>\n",
       "    <tr style=\"text-align: right;\">\n",
       "      <th></th>\n",
       "      <th>A</th>\n",
       "      <th>B</th>\n",
       "      <th>C</th>\n",
       "      <th>D</th>\n",
       "    </tr>\n",
       "  </thead>\n",
       "  <tbody>\n",
       "    <tr>\n",
       "      <th>2020-01-01</th>\n",
       "      <td>1.116451</td>\n",
       "      <td>0.276545</td>\n",
       "      <td>1.426699</td>\n",
       "      <td>-0.658740</td>\n",
       "    </tr>\n",
       "    <tr>\n",
       "      <th>2020-01-02</th>\n",
       "      <td>-1.683228</td>\n",
       "      <td>0.520364</td>\n",
       "      <td>-0.411974</td>\n",
       "      <td>1.454870</td>\n",
       "    </tr>\n",
       "    <tr>\n",
       "      <th>2020-01-03</th>\n",
       "      <td>0.709543</td>\n",
       "      <td>0.054508</td>\n",
       "      <td>-1.019315</td>\n",
       "      <td>-0.405311</td>\n",
       "    </tr>\n",
       "    <tr>\n",
       "      <th>2020-01-04</th>\n",
       "      <td>0.059825</td>\n",
       "      <td>-0.973861</td>\n",
       "      <td>-0.025839</td>\n",
       "      <td>-1.227207</td>\n",
       "    </tr>\n",
       "    <tr>\n",
       "      <th>2020-01-05</th>\n",
       "      <td>0.440751</td>\n",
       "      <td>1.074110</td>\n",
       "      <td>0.480269</td>\n",
       "      <td>-0.203180</td>\n",
       "    </tr>\n",
       "    <tr>\n",
       "      <th>...</th>\n",
       "      <td>...</td>\n",
       "      <td>...</td>\n",
       "      <td>...</td>\n",
       "      <td>...</td>\n",
       "    </tr>\n",
       "    <tr>\n",
       "      <th>2020-06-22</th>\n",
       "      <td>0.461751</td>\n",
       "      <td>0.626018</td>\n",
       "      <td>0.190462</td>\n",
       "      <td>1.343334</td>\n",
       "    </tr>\n",
       "    <tr>\n",
       "      <th>2020-06-23</th>\n",
       "      <td>-0.433068</td>\n",
       "      <td>-0.018556</td>\n",
       "      <td>-0.189112</td>\n",
       "      <td>-1.227210</td>\n",
       "    </tr>\n",
       "    <tr>\n",
       "      <th>2020-06-24</th>\n",
       "      <td>0.184964</td>\n",
       "      <td>-1.381077</td>\n",
       "      <td>-1.347275</td>\n",
       "      <td>-0.128053</td>\n",
       "    </tr>\n",
       "    <tr>\n",
       "      <th>2020-06-25</th>\n",
       "      <td>-2.513773</td>\n",
       "      <td>0.051145</td>\n",
       "      <td>0.836708</td>\n",
       "      <td>-1.427391</td>\n",
       "    </tr>\n",
       "    <tr>\n",
       "      <th>2020-06-26</th>\n",
       "      <td>-0.134986</td>\n",
       "      <td>1.508630</td>\n",
       "      <td>1.153269</td>\n",
       "      <td>-0.838669</td>\n",
       "    </tr>\n",
       "  </tbody>\n",
       "</table>\n",
       "<p>178 rows × 4 columns</p>\n",
       "</div>"
      ],
      "text/plain": [
       "                   A         B         C         D\n",
       "2020-01-01  1.116451  0.276545  1.426699 -0.658740\n",
       "2020-01-02 -1.683228  0.520364 -0.411974  1.454870\n",
       "2020-01-03  0.709543  0.054508 -1.019315 -0.405311\n",
       "2020-01-04  0.059825 -0.973861 -0.025839 -1.227207\n",
       "2020-01-05  0.440751  1.074110  0.480269 -0.203180\n",
       "...              ...       ...       ...       ...\n",
       "2020-06-22  0.461751  0.626018  0.190462  1.343334\n",
       "2020-06-23 -0.433068 -0.018556 -0.189112 -1.227210\n",
       "2020-06-24  0.184964 -1.381077 -1.347275 -0.128053\n",
       "2020-06-25 -2.513773  0.051145  0.836708 -1.427391\n",
       "2020-06-26 -0.134986  1.508630  1.153269 -0.838669\n",
       "\n",
       "[178 rows x 4 columns]"
      ]
     },
     "execution_count": 46,
     "metadata": {},
     "output_type": "execute_result"
    }
   ],
   "source": [
    "tdf['2020']"
   ]
  },
  {
   "cell_type": "code",
   "execution_count": 47,
   "id": "795048cf",
   "metadata": {},
   "outputs": [
    {
     "data": {
      "text/html": [
       "<div>\n",
       "<style scoped>\n",
       "    .dataframe tbody tr th:only-of-type {\n",
       "        vertical-align: middle;\n",
       "    }\n",
       "\n",
       "    .dataframe tbody tr th {\n",
       "        vertical-align: top;\n",
       "    }\n",
       "\n",
       "    .dataframe thead th {\n",
       "        text-align: right;\n",
       "    }\n",
       "</style>\n",
       "<table border=\"1\" class=\"dataframe\">\n",
       "  <thead>\n",
       "    <tr style=\"text-align: right;\">\n",
       "      <th></th>\n",
       "      <th>A</th>\n",
       "      <th>B</th>\n",
       "      <th>C</th>\n",
       "      <th>D</th>\n",
       "    </tr>\n",
       "  </thead>\n",
       "  <tbody>\n",
       "    <tr>\n",
       "      <th>2020-06-01</th>\n",
       "      <td>1.049683</td>\n",
       "      <td>0.857956</td>\n",
       "      <td>0.519267</td>\n",
       "      <td>1.434431</td>\n",
       "    </tr>\n",
       "    <tr>\n",
       "      <th>2020-06-02</th>\n",
       "      <td>0.103522</td>\n",
       "      <td>0.130278</td>\n",
       "      <td>-0.701808</td>\n",
       "      <td>-0.255390</td>\n",
       "    </tr>\n",
       "    <tr>\n",
       "      <th>2020-06-03</th>\n",
       "      <td>-1.931962</td>\n",
       "      <td>-1.763423</td>\n",
       "      <td>0.551779</td>\n",
       "      <td>-2.053994</td>\n",
       "    </tr>\n",
       "    <tr>\n",
       "      <th>2020-06-04</th>\n",
       "      <td>-0.030922</td>\n",
       "      <td>-0.804416</td>\n",
       "      <td>-0.904462</td>\n",
       "      <td>-0.522922</td>\n",
       "    </tr>\n",
       "    <tr>\n",
       "      <th>2020-06-05</th>\n",
       "      <td>-0.051265</td>\n",
       "      <td>0.468168</td>\n",
       "      <td>-1.807717</td>\n",
       "      <td>-1.443721</td>\n",
       "    </tr>\n",
       "    <tr>\n",
       "      <th>2020-06-06</th>\n",
       "      <td>-0.203037</td>\n",
       "      <td>-2.715865</td>\n",
       "      <td>-0.523128</td>\n",
       "      <td>0.607149</td>\n",
       "    </tr>\n",
       "    <tr>\n",
       "      <th>2020-06-07</th>\n",
       "      <td>-0.758824</td>\n",
       "      <td>-0.147089</td>\n",
       "      <td>-2.266838</td>\n",
       "      <td>-0.646770</td>\n",
       "    </tr>\n",
       "    <tr>\n",
       "      <th>2020-06-08</th>\n",
       "      <td>0.666580</td>\n",
       "      <td>0.241577</td>\n",
       "      <td>-0.039889</td>\n",
       "      <td>-1.060455</td>\n",
       "    </tr>\n",
       "    <tr>\n",
       "      <th>2020-06-09</th>\n",
       "      <td>-1.207883</td>\n",
       "      <td>-0.983443</td>\n",
       "      <td>-1.086066</td>\n",
       "      <td>1.040171</td>\n",
       "    </tr>\n",
       "    <tr>\n",
       "      <th>2020-06-10</th>\n",
       "      <td>-1.117354</td>\n",
       "      <td>-0.093855</td>\n",
       "      <td>-0.836269</td>\n",
       "      <td>-1.266392</td>\n",
       "    </tr>\n",
       "    <tr>\n",
       "      <th>2020-06-11</th>\n",
       "      <td>-0.117599</td>\n",
       "      <td>-0.802604</td>\n",
       "      <td>-1.278081</td>\n",
       "      <td>1.153249</td>\n",
       "    </tr>\n",
       "    <tr>\n",
       "      <th>2020-06-12</th>\n",
       "      <td>0.607098</td>\n",
       "      <td>-0.468644</td>\n",
       "      <td>0.617062</td>\n",
       "      <td>0.247940</td>\n",
       "    </tr>\n",
       "    <tr>\n",
       "      <th>2020-06-13</th>\n",
       "      <td>-0.211534</td>\n",
       "      <td>-1.323696</td>\n",
       "      <td>0.933834</td>\n",
       "      <td>0.107282</td>\n",
       "    </tr>\n",
       "    <tr>\n",
       "      <th>2020-06-14</th>\n",
       "      <td>-0.700366</td>\n",
       "      <td>-0.190706</td>\n",
       "      <td>-0.320277</td>\n",
       "      <td>1.128441</td>\n",
       "    </tr>\n",
       "    <tr>\n",
       "      <th>2020-06-15</th>\n",
       "      <td>-0.301902</td>\n",
       "      <td>1.700226</td>\n",
       "      <td>0.969761</td>\n",
       "      <td>0.112012</td>\n",
       "    </tr>\n",
       "    <tr>\n",
       "      <th>2020-06-16</th>\n",
       "      <td>-1.199894</td>\n",
       "      <td>0.574126</td>\n",
       "      <td>-0.007980</td>\n",
       "      <td>-2.054124</td>\n",
       "    </tr>\n",
       "    <tr>\n",
       "      <th>2020-06-17</th>\n",
       "      <td>0.809600</td>\n",
       "      <td>-2.149295</td>\n",
       "      <td>-0.658359</td>\n",
       "      <td>-0.058754</td>\n",
       "    </tr>\n",
       "    <tr>\n",
       "      <th>2020-06-18</th>\n",
       "      <td>2.108009</td>\n",
       "      <td>-0.659187</td>\n",
       "      <td>-0.785076</td>\n",
       "      <td>0.023788</td>\n",
       "    </tr>\n",
       "    <tr>\n",
       "      <th>2020-06-19</th>\n",
       "      <td>0.300998</td>\n",
       "      <td>-1.151333</td>\n",
       "      <td>0.910711</td>\n",
       "      <td>0.159744</td>\n",
       "    </tr>\n",
       "    <tr>\n",
       "      <th>2020-06-20</th>\n",
       "      <td>0.694778</td>\n",
       "      <td>0.838745</td>\n",
       "      <td>0.328035</td>\n",
       "      <td>0.161950</td>\n",
       "    </tr>\n",
       "    <tr>\n",
       "      <th>2020-06-21</th>\n",
       "      <td>-0.378614</td>\n",
       "      <td>-1.016714</td>\n",
       "      <td>1.180762</td>\n",
       "      <td>0.064248</td>\n",
       "    </tr>\n",
       "    <tr>\n",
       "      <th>2020-06-22</th>\n",
       "      <td>0.461751</td>\n",
       "      <td>0.626018</td>\n",
       "      <td>0.190462</td>\n",
       "      <td>1.343334</td>\n",
       "    </tr>\n",
       "    <tr>\n",
       "      <th>2020-06-23</th>\n",
       "      <td>-0.433068</td>\n",
       "      <td>-0.018556</td>\n",
       "      <td>-0.189112</td>\n",
       "      <td>-1.227210</td>\n",
       "    </tr>\n",
       "    <tr>\n",
       "      <th>2020-06-24</th>\n",
       "      <td>0.184964</td>\n",
       "      <td>-1.381077</td>\n",
       "      <td>-1.347275</td>\n",
       "      <td>-0.128053</td>\n",
       "    </tr>\n",
       "    <tr>\n",
       "      <th>2020-06-25</th>\n",
       "      <td>-2.513773</td>\n",
       "      <td>0.051145</td>\n",
       "      <td>0.836708</td>\n",
       "      <td>-1.427391</td>\n",
       "    </tr>\n",
       "    <tr>\n",
       "      <th>2020-06-26</th>\n",
       "      <td>-0.134986</td>\n",
       "      <td>1.508630</td>\n",
       "      <td>1.153269</td>\n",
       "      <td>-0.838669</td>\n",
       "    </tr>\n",
       "  </tbody>\n",
       "</table>\n",
       "</div>"
      ],
      "text/plain": [
       "                   A         B         C         D\n",
       "2020-06-01  1.049683  0.857956  0.519267  1.434431\n",
       "2020-06-02  0.103522  0.130278 -0.701808 -0.255390\n",
       "2020-06-03 -1.931962 -1.763423  0.551779 -2.053994\n",
       "2020-06-04 -0.030922 -0.804416 -0.904462 -0.522922\n",
       "2020-06-05 -0.051265  0.468168 -1.807717 -1.443721\n",
       "2020-06-06 -0.203037 -2.715865 -0.523128  0.607149\n",
       "2020-06-07 -0.758824 -0.147089 -2.266838 -0.646770\n",
       "2020-06-08  0.666580  0.241577 -0.039889 -1.060455\n",
       "2020-06-09 -1.207883 -0.983443 -1.086066  1.040171\n",
       "2020-06-10 -1.117354 -0.093855 -0.836269 -1.266392\n",
       "2020-06-11 -0.117599 -0.802604 -1.278081  1.153249\n",
       "2020-06-12  0.607098 -0.468644  0.617062  0.247940\n",
       "2020-06-13 -0.211534 -1.323696  0.933834  0.107282\n",
       "2020-06-14 -0.700366 -0.190706 -0.320277  1.128441\n",
       "2020-06-15 -0.301902  1.700226  0.969761  0.112012\n",
       "2020-06-16 -1.199894  0.574126 -0.007980 -2.054124\n",
       "2020-06-17  0.809600 -2.149295 -0.658359 -0.058754\n",
       "2020-06-18  2.108009 -0.659187 -0.785076  0.023788\n",
       "2020-06-19  0.300998 -1.151333  0.910711  0.159744\n",
       "2020-06-20  0.694778  0.838745  0.328035  0.161950\n",
       "2020-06-21 -0.378614 -1.016714  1.180762  0.064248\n",
       "2020-06-22  0.461751  0.626018  0.190462  1.343334\n",
       "2020-06-23 -0.433068 -0.018556 -0.189112 -1.227210\n",
       "2020-06-24  0.184964 -1.381077 -1.347275 -0.128053\n",
       "2020-06-25 -2.513773  0.051145  0.836708 -1.427391\n",
       "2020-06-26 -0.134986  1.508630  1.153269 -0.838669"
      ]
     },
     "execution_count": 47,
     "metadata": {},
     "output_type": "execute_result"
    }
   ],
   "source": [
    "tdf.loc['2020-06']"
   ]
  },
  {
   "cell_type": "code",
   "execution_count": 50,
   "id": "b2c6415f",
   "metadata": {},
   "outputs": [
    {
     "data": {
      "text/html": [
       "<div>\n",
       "<style scoped>\n",
       "    .dataframe tbody tr th:only-of-type {\n",
       "        vertical-align: middle;\n",
       "    }\n",
       "\n",
       "    .dataframe tbody tr th {\n",
       "        vertical-align: top;\n",
       "    }\n",
       "\n",
       "    .dataframe thead th {\n",
       "        text-align: right;\n",
       "    }\n",
       "</style>\n",
       "<table border=\"1\" class=\"dataframe\">\n",
       "  <thead>\n",
       "    <tr style=\"text-align: right;\">\n",
       "      <th></th>\n",
       "      <th>A</th>\n",
       "      <th>B</th>\n",
       "      <th>C</th>\n",
       "      <th>D</th>\n",
       "    </tr>\n",
       "  </thead>\n",
       "  <tbody>\n",
       "    <tr>\n",
       "      <th>2020-06-20</th>\n",
       "      <td>0.694778</td>\n",
       "      <td>0.838745</td>\n",
       "      <td>0.328035</td>\n",
       "      <td>0.16195</td>\n",
       "    </tr>\n",
       "  </tbody>\n",
       "</table>\n",
       "</div>"
      ],
      "text/plain": [
       "                   A         B         C        D\n",
       "2020-06-20  0.694778  0.838745  0.328035  0.16195"
      ]
     },
     "execution_count": 50,
     "metadata": {},
     "output_type": "execute_result"
    }
   ],
   "source": [
    "tdf['2020-06-20':'2020-06-20']"
   ]
  },
  {
   "cell_type": "code",
   "execution_count": 51,
   "id": "f0a1e878",
   "metadata": {},
   "outputs": [
    {
     "data": {
      "text/plain": [
       "2017-10-01    0.598323\n",
       "2017-10-02   -0.178570\n",
       "2017-10-03    0.254253\n",
       "2017-10-04    1.186326\n",
       "2017-10-05   -0.818820\n",
       "                ...   \n",
       "2020-06-22    0.190462\n",
       "2020-06-23   -0.189112\n",
       "2020-06-24   -1.347275\n",
       "2020-06-25    0.836708\n",
       "2020-06-26    1.153269\n",
       "Freq: D, Name: C, Length: 1000, dtype: float64"
      ]
     },
     "execution_count": 51,
     "metadata": {},
     "output_type": "execute_result"
    }
   ],
   "source": [
    "tdf['C']"
   ]
  },
  {
   "cell_type": "code",
   "execution_count": 52,
   "id": "49e4f12f",
   "metadata": {},
   "outputs": [
    {
     "data": {
      "text/plain": [
       "2020-01-01    1.201521\n",
       "2020-01-01   -0.237099\n",
       "2020-01-02   -0.348933\n",
       "2020-01-02   -2.570433\n",
       "2020-01-03    0.416693\n",
       "2020-01-04    0.531273\n",
       "2020-01-05   -1.688731\n",
       "2020-01-05   -0.995941\n",
       "2020-01-06   -1.035633\n",
       "2020-01-07   -1.197641\n",
       "dtype: float64"
      ]
     },
     "execution_count": 52,
     "metadata": {},
     "output_type": "execute_result"
    }
   ],
   "source": [
    "# 중복을 포함한 데이터프레임 생성\n",
    "ts = pd.Series(np.random.randn(10),\n",
    "              index = pd.DatetimeIndex(['2020-01-01', '2020-01-01', '2020-01-02', '2020-01-02', '2020-01-03', '2020-01-04',\n",
    "                                       '2020-01-05', '2020-01-05', '2020-01-06', '2020-01-07']))\n",
    "ts"
   ]
  },
  {
   "cell_type": "code",
   "execution_count": 53,
   "id": "bc932685",
   "metadata": {},
   "outputs": [
    {
     "data": {
      "text/plain": [
       "False"
      ]
     },
     "execution_count": 53,
     "metadata": {},
     "output_type": "execute_result"
    }
   ],
   "source": [
    "ts.index.is_unique"
   ]
  },
  {
   "cell_type": "code",
   "execution_count": 54,
   "id": "14e69a8b",
   "metadata": {},
   "outputs": [
    {
     "data": {
      "text/plain": [
       "2020-01-01    1.201521\n",
       "2020-01-01   -0.237099\n",
       "dtype: float64"
      ]
     },
     "execution_count": 54,
     "metadata": {},
     "output_type": "execute_result"
    }
   ],
   "source": [
    "ts['2020-01-01']"
   ]
  },
  {
   "cell_type": "code",
   "execution_count": 55,
   "id": "f6279c97",
   "metadata": {},
   "outputs": [
    {
     "data": {
      "text/plain": [
       "2020-01-01    0.482211\n",
       "2020-01-02   -1.459683\n",
       "2020-01-03    0.416693\n",
       "2020-01-04    0.531273\n",
       "2020-01-05   -1.342336\n",
       "2020-01-06   -1.035633\n",
       "2020-01-07   -1.197641\n",
       "dtype: float64"
      ]
     },
     "execution_count": 55,
     "metadata": {},
     "output_type": "execute_result"
    }
   ],
   "source": [
    "ts.groupby(level = 0).mean()"
   ]
  },
  {
   "cell_type": "code",
   "execution_count": 56,
   "id": "70e86411",
   "metadata": {},
   "outputs": [
    {
     "data": {
      "text/plain": [
       "DatetimeIndex(['2020-01-01', '2020-01-02', '2020-01-03', '2020-01-04',\n",
       "               '2020-01-05', '2020-01-06', '2020-01-07', '2020-01-08',\n",
       "               '2020-01-09', '2020-01-10',\n",
       "               ...\n",
       "               '2020-06-22', '2020-06-23', '2020-06-24', '2020-06-25',\n",
       "               '2020-06-26', '2020-06-27', '2020-06-28', '2020-06-29',\n",
       "               '2020-06-30', '2020-07-01'],\n",
       "              dtype='datetime64[ns]', length=183, freq='D')"
      ]
     },
     "execution_count": 56,
     "metadata": {},
     "output_type": "execute_result"
    }
   ],
   "source": [
    "pd.date_range('2020-01-01', '2020-07-01')"
   ]
  },
  {
   "cell_type": "code",
   "execution_count": 57,
   "id": "11253296",
   "metadata": {},
   "outputs": [
    {
     "data": {
      "text/plain": [
       "DatetimeIndex(['2020-01-01', '2020-01-02', '2020-01-03', '2020-01-04',\n",
       "               '2020-01-05', '2020-01-06', '2020-01-07', '2020-01-08',\n",
       "               '2020-01-09', '2020-01-10'],\n",
       "              dtype='datetime64[ns]', freq='D')"
      ]
     },
     "execution_count": 57,
     "metadata": {},
     "output_type": "execute_result"
    }
   ],
   "source": [
    "pd.date_range(start = '2020-01-01', periods = 10)"
   ]
  },
  {
   "cell_type": "code",
   "execution_count": 58,
   "id": "af22f403",
   "metadata": {},
   "outputs": [
    {
     "data": {
      "text/plain": [
       "DatetimeIndex(['2020-06-22', '2020-06-23', '2020-06-24', '2020-06-25',\n",
       "               '2020-06-26', '2020-06-27', '2020-06-28', '2020-06-29',\n",
       "               '2020-06-30', '2020-07-01'],\n",
       "              dtype='datetime64[ns]', freq='D')"
      ]
     },
     "execution_count": 58,
     "metadata": {},
     "output_type": "execute_result"
    }
   ],
   "source": [
    "pd.date_range(end = '2020-07-01', periods = 10)"
   ]
  },
  {
   "cell_type": "code",
   "execution_count": 59,
   "id": "468031af",
   "metadata": {},
   "outputs": [
    {
     "data": {
      "text/plain": [
       "DatetimeIndex(['2020-07-01', '2020-07-02', '2020-07-03', '2020-07-06',\n",
       "               '2020-07-07'],\n",
       "              dtype='datetime64[ns]', freq='B')"
      ]
     },
     "execution_count": 59,
     "metadata": {},
     "output_type": "execute_result"
    }
   ],
   "source": [
    "# freq = 'B', Business (영업일)만 산출\n",
    "pd.date_range('2020-07-01', '2020-07-07', freq = 'B')"
   ]
  },
  {
   "cell_type": "markdown",
   "id": "98144114",
   "metadata": {},
   "source": [
    "- 주기와 오프셋"
   ]
  },
  {
   "cell_type": "markdown",
   "id": "b630fc86",
   "metadata": {},
   "source": [
    "    - 주기"
   ]
  },
  {
   "cell_type": "code",
   "execution_count": 61,
   "id": "d4771024",
   "metadata": {},
   "outputs": [
    {
     "data": {
      "text/plain": [
       "TimedeltaIndex(['0 days 00:00:00', '0 days 01:00:00', '0 days 02:00:00',\n",
       "                '0 days 03:00:00', '0 days 04:00:00', '0 days 05:00:00',\n",
       "                '0 days 06:00:00', '0 days 07:00:00', '0 days 08:00:00',\n",
       "                '0 days 09:00:00', '0 days 10:00:00', '0 days 11:00:00'],\n",
       "               dtype='timedelta64[ns]', freq='H')"
      ]
     },
     "execution_count": 61,
     "metadata": {},
     "output_type": "execute_result"
    }
   ],
   "source": [
    "pd.timedelta_range(0, periods = 12, freq = 'H')"
   ]
  },
  {
   "cell_type": "code",
   "execution_count": 63,
   "id": "7a00deaf",
   "metadata": {},
   "outputs": [
    {
     "data": {
      "text/plain": [
       "TimedeltaIndex(['0 days 00:00:00', '0 days 00:01:00', '0 days 00:02:00',\n",
       "                '0 days 00:03:00', '0 days 00:04:00', '0 days 00:05:00',\n",
       "                '0 days 00:06:00', '0 days 00:07:00', '0 days 00:08:00',\n",
       "                '0 days 00:09:00', '0 days 00:10:00', '0 days 00:11:00',\n",
       "                '0 days 00:12:00', '0 days 00:13:00', '0 days 00:14:00',\n",
       "                '0 days 00:15:00', '0 days 00:16:00', '0 days 00:17:00',\n",
       "                '0 days 00:18:00', '0 days 00:19:00', '0 days 00:20:00',\n",
       "                '0 days 00:21:00', '0 days 00:22:00', '0 days 00:23:00',\n",
       "                '0 days 00:24:00', '0 days 00:25:00', '0 days 00:26:00',\n",
       "                '0 days 00:27:00', '0 days 00:28:00', '0 days 00:29:00',\n",
       "                '0 days 00:30:00', '0 days 00:31:00', '0 days 00:32:00',\n",
       "                '0 days 00:33:00', '0 days 00:34:00', '0 days 00:35:00',\n",
       "                '0 days 00:36:00', '0 days 00:37:00', '0 days 00:38:00',\n",
       "                '0 days 00:39:00', '0 days 00:40:00', '0 days 00:41:00',\n",
       "                '0 days 00:42:00', '0 days 00:43:00', '0 days 00:44:00',\n",
       "                '0 days 00:45:00', '0 days 00:46:00', '0 days 00:47:00',\n",
       "                '0 days 00:48:00', '0 days 00:49:00', '0 days 00:50:00',\n",
       "                '0 days 00:51:00', '0 days 00:52:00', '0 days 00:53:00',\n",
       "                '0 days 00:54:00', '0 days 00:55:00', '0 days 00:56:00',\n",
       "                '0 days 00:57:00', '0 days 00:58:00', '0 days 00:59:00'],\n",
       "               dtype='timedelta64[ns]', freq='T')"
      ]
     },
     "execution_count": 63,
     "metadata": {},
     "output_type": "execute_result"
    }
   ],
   "source": [
    "pd.timedelta_range(0, periods = 60, freq = 'T')"
   ]
  },
  {
   "cell_type": "code",
   "execution_count": 64,
   "id": "78c9dd71",
   "metadata": {},
   "outputs": [
    {
     "data": {
      "text/plain": [
       "TimedeltaIndex(['0 days 00:00:00', '0 days 01:30:00', '0 days 03:00:00',\n",
       "                '0 days 04:30:00', '0 days 06:00:00', '0 days 07:30:00',\n",
       "                '0 days 09:00:00', '0 days 10:30:00', '0 days 12:00:00',\n",
       "                '0 days 13:30:00'],\n",
       "               dtype='timedelta64[ns]', freq='90T')"
      ]
     },
     "execution_count": 64,
     "metadata": {},
     "output_type": "execute_result"
    }
   ],
   "source": [
    "pd.timedelta_range(0, periods = 10, freq = '1H30T')"
   ]
  },
  {
   "cell_type": "code",
   "execution_count": 66,
   "id": "c166f58b",
   "metadata": {},
   "outputs": [
    {
     "data": {
      "text/plain": [
       "DatetimeIndex(['2020-01-01', '2020-01-02', '2020-01-03', '2020-01-06',\n",
       "               '2020-01-07', '2020-01-08', '2020-01-09', '2020-01-10',\n",
       "               '2020-01-13', '2020-01-14', '2020-01-15', '2020-01-16',\n",
       "               '2020-01-17', '2020-01-20', '2020-01-21', '2020-01-22',\n",
       "               '2020-01-23', '2020-01-24', '2020-01-27', '2020-01-28'],\n",
       "              dtype='datetime64[ns]', freq='B')"
      ]
     },
     "execution_count": 66,
     "metadata": {},
     "output_type": "execute_result"
    }
   ],
   "source": [
    "pd.date_range('2020-01-01', periods = 20, freq = 'B')"
   ]
  },
  {
   "cell_type": "code",
   "execution_count": 65,
   "id": "1f1485ef",
   "metadata": {},
   "outputs": [
    {
     "data": {
      "text/plain": [
       "DatetimeIndex(['2020-01-01 00:00:00', '2020-01-01 02:00:00',\n",
       "               '2020-01-01 04:00:00', '2020-01-01 06:00:00',\n",
       "               '2020-01-01 08:00:00', '2020-01-01 10:00:00',\n",
       "               '2020-01-01 12:00:00', '2020-01-01 14:00:00',\n",
       "               '2020-01-01 16:00:00', '2020-01-01 18:00:00',\n",
       "               '2020-01-01 20:00:00', '2020-01-01 22:00:00',\n",
       "               '2020-01-02 00:00:00', '2020-01-02 02:00:00',\n",
       "               '2020-01-02 04:00:00', '2020-01-02 06:00:00',\n",
       "               '2020-01-02 08:00:00', '2020-01-02 10:00:00',\n",
       "               '2020-01-02 12:00:00', '2020-01-02 14:00:00',\n",
       "               '2020-01-02 16:00:00', '2020-01-02 18:00:00',\n",
       "               '2020-01-02 20:00:00', '2020-01-02 22:00:00',\n",
       "               '2020-01-03 00:00:00', '2020-01-03 02:00:00',\n",
       "               '2020-01-03 04:00:00', '2020-01-03 06:00:00',\n",
       "               '2020-01-03 08:00:00', '2020-01-03 10:00:00'],\n",
       "              dtype='datetime64[ns]', freq='2H')"
      ]
     },
     "execution_count": 65,
     "metadata": {},
     "output_type": "execute_result"
    }
   ],
   "source": [
    "pd.date_range('2020-01-01', periods = 30, freq = '2H')"
   ]
  },
  {
   "cell_type": "code",
   "execution_count": 67,
   "id": "120e3f49",
   "metadata": {},
   "outputs": [
    {
     "data": {
      "text/plain": [
       "DatetimeIndex(['2020-01-01 00:00:00', '2020-01-01 00:00:01',\n",
       "               '2020-01-01 00:00:02', '2020-01-01 00:00:03',\n",
       "               '2020-01-01 00:00:04', '2020-01-01 00:00:05',\n",
       "               '2020-01-01 00:00:06', '2020-01-01 00:00:07',\n",
       "               '2020-01-01 00:00:08', '2020-01-01 00:00:09',\n",
       "               '2020-01-01 00:00:10', '2020-01-01 00:00:11',\n",
       "               '2020-01-01 00:00:12', '2020-01-01 00:00:13',\n",
       "               '2020-01-01 00:00:14', '2020-01-01 00:00:15',\n",
       "               '2020-01-01 00:00:16', '2020-01-01 00:00:17',\n",
       "               '2020-01-01 00:00:18', '2020-01-01 00:00:19',\n",
       "               '2020-01-01 00:00:20', '2020-01-01 00:00:21',\n",
       "               '2020-01-01 00:00:22', '2020-01-01 00:00:23',\n",
       "               '2020-01-01 00:00:24', '2020-01-01 00:00:25',\n",
       "               '2020-01-01 00:00:26', '2020-01-01 00:00:27',\n",
       "               '2020-01-01 00:00:28', '2020-01-01 00:00:29'],\n",
       "              dtype='datetime64[ns]', freq='S')"
      ]
     },
     "execution_count": 67,
     "metadata": {},
     "output_type": "execute_result"
    }
   ],
   "source": [
    "pd.date_range('2020-01-01', periods = 30, freq = 'S')"
   ]
  },
  {
   "cell_type": "markdown",
   "id": "39691661",
   "metadata": {},
   "source": [
    "- 시프트(Shift)"
   ]
  },
  {
   "cell_type": "code",
   "execution_count": 68,
   "id": "77bfce74",
   "metadata": {},
   "outputs": [
    {
     "data": {
      "text/plain": [
       "2020-01-01   -0.198722\n",
       "2020-01-02   -0.189387\n",
       "2020-01-03    0.941405\n",
       "2020-01-06   -1.922176\n",
       "2020-01-07   -0.315469\n",
       "Freq: B, dtype: float64"
      ]
     },
     "execution_count": 68,
     "metadata": {},
     "output_type": "execute_result"
    }
   ],
   "source": [
    "ts = pd.Series(np.random.randn(5),\n",
    "              index = pd.date_range('2020-01-01', periods = 5, freq = 'B'))\n",
    "ts"
   ]
  },
  {
   "cell_type": "code",
   "execution_count": 69,
   "id": "d41e6a11",
   "metadata": {},
   "outputs": [
    {
     "data": {
      "text/plain": [
       "2020-01-01         NaN\n",
       "2020-01-02   -0.198722\n",
       "2020-01-03   -0.189387\n",
       "2020-01-06    0.941405\n",
       "2020-01-07   -1.922176\n",
       "Freq: B, dtype: float64"
      ]
     },
     "execution_count": 69,
     "metadata": {},
     "output_type": "execute_result"
    }
   ],
   "source": [
    "ts.shift(1)"
   ]
  },
  {
   "cell_type": "code",
   "execution_count": 70,
   "id": "df06526f",
   "metadata": {},
   "outputs": [
    {
     "data": {
      "text/plain": [
       "2020-01-01         NaN\n",
       "2020-01-02         NaN\n",
       "2020-01-03         NaN\n",
       "2020-01-06   -0.198722\n",
       "2020-01-07   -0.189387\n",
       "Freq: B, dtype: float64"
      ]
     },
     "execution_count": 70,
     "metadata": {},
     "output_type": "execute_result"
    }
   ],
   "source": [
    "ts.shift(3)"
   ]
  },
  {
   "cell_type": "code",
   "execution_count": 71,
   "id": "3c333731",
   "metadata": {},
   "outputs": [
    {
     "data": {
      "text/plain": [
       "2020-01-01   -0.189387\n",
       "2020-01-02    0.941405\n",
       "2020-01-03   -1.922176\n",
       "2020-01-06   -0.315469\n",
       "2020-01-07         NaN\n",
       "Freq: B, dtype: float64"
      ]
     },
     "execution_count": 71,
     "metadata": {},
     "output_type": "execute_result"
    }
   ],
   "source": [
    "ts.shift(-1)"
   ]
  },
  {
   "cell_type": "code",
   "execution_count": 72,
   "id": "70cfde7d",
   "metadata": {},
   "outputs": [
    {
     "data": {
      "text/plain": [
       "2020-01-06   -0.198722\n",
       "2020-01-07   -0.189387\n",
       "2020-01-08    0.941405\n",
       "2020-01-09   -1.922176\n",
       "2020-01-10   -0.315469\n",
       "Freq: B, dtype: float64"
      ]
     },
     "execution_count": 72,
     "metadata": {},
     "output_type": "execute_result"
    }
   ],
   "source": [
    "ts.shift(3, freq = 'B')"
   ]
  },
  {
   "cell_type": "code",
   "execution_count": 73,
   "id": "7837945a",
   "metadata": {},
   "outputs": [
    {
     "data": {
      "text/plain": [
       "2020-01-12   -0.198722\n",
       "2020-01-12   -0.189387\n",
       "2020-01-12    0.941405\n",
       "2020-01-19   -1.922176\n",
       "2020-01-19   -0.315469\n",
       "dtype: float64"
      ]
     },
     "execution_count": 73,
     "metadata": {},
     "output_type": "execute_result"
    }
   ],
   "source": [
    "ts.shift(2, freq = 'W')"
   ]
  },
  {
   "cell_type": "markdown",
   "id": "17a046d5",
   "metadata": {},
   "source": [
    "- 시간대 처리\n",
    "    * 국제표준시(Coordinated Universal Time, UTC)를 기준으로 떨어진 거리만큼 오프셋으로 시간대처리\n",
    "    * 전 세계의 시간대 정보를 모아놓은 올슨 데이터베이스를 활용한 라이브러리인 pytz 사용"
   ]
  },
  {
   "cell_type": "code",
   "execution_count": 74,
   "id": "7032a8e2",
   "metadata": {
    "collapsed": true
   },
   "outputs": [
    {
     "data": {
      "text/plain": [
       "['Africa/Abidjan', 'Africa/Accra', 'Africa/Addis_Ababa', 'Africa/Algiers', 'Africa/Asmara', 'Africa/Bamako', 'Africa/Bangui', 'Africa/Banjul', 'Africa/Bissau', 'Africa/Blantyre', 'Africa/Brazzaville', 'Africa/Bujumbura', 'Africa/Cairo', 'Africa/Casablanca', 'Africa/Ceuta', 'Africa/Conakry', 'Africa/Dakar', 'Africa/Dar_es_Salaam', 'Africa/Djibouti', 'Africa/Douala', 'Africa/El_Aaiun', 'Africa/Freetown', 'Africa/Gaborone', 'Africa/Harare', 'Africa/Johannesburg', 'Africa/Juba', 'Africa/Kampala', 'Africa/Khartoum', 'Africa/Kigali', 'Africa/Kinshasa', 'Africa/Lagos', 'Africa/Libreville', 'Africa/Lome', 'Africa/Luanda', 'Africa/Lubumbashi', 'Africa/Lusaka', 'Africa/Malabo', 'Africa/Maputo', 'Africa/Maseru', 'Africa/Mbabane', 'Africa/Mogadishu', 'Africa/Monrovia', 'Africa/Nairobi', 'Africa/Ndjamena', 'Africa/Niamey', 'Africa/Nouakchott', 'Africa/Ouagadougou', 'Africa/Porto-Novo', 'Africa/Sao_Tome', 'Africa/Tripoli', 'Africa/Tunis', 'Africa/Windhoek', 'America/Adak', 'America/Anchorage', 'America/Anguilla', 'America/Antigua', 'America/Araguaina', 'America/Argentina/Buenos_Aires', 'America/Argentina/Catamarca', 'America/Argentina/Cordoba', 'America/Argentina/Jujuy', 'America/Argentina/La_Rioja', 'America/Argentina/Mendoza', 'America/Argentina/Rio_Gallegos', 'America/Argentina/Salta', 'America/Argentina/San_Juan', 'America/Argentina/San_Luis', 'America/Argentina/Tucuman', 'America/Argentina/Ushuaia', 'America/Aruba', 'America/Asuncion', 'America/Atikokan', 'America/Bahia', 'America/Bahia_Banderas', 'America/Barbados', 'America/Belem', 'America/Belize', 'America/Blanc-Sablon', 'America/Boa_Vista', 'America/Bogota', 'America/Boise', 'America/Cambridge_Bay', 'America/Campo_Grande', 'America/Cancun', 'America/Caracas', 'America/Cayenne', 'America/Cayman', 'America/Chicago', 'America/Chihuahua', 'America/Costa_Rica', 'America/Creston', 'America/Cuiaba', 'America/Curacao', 'America/Danmarkshavn', 'America/Dawson', 'America/Dawson_Creek', 'America/Denver', 'America/Detroit', 'America/Dominica', 'America/Edmonton', 'America/Eirunepe', 'America/El_Salvador', 'America/Fort_Nelson', 'America/Fortaleza', 'America/Glace_Bay', 'America/Goose_Bay', 'America/Grand_Turk', 'America/Grenada', 'America/Guadeloupe', 'America/Guatemala', 'America/Guayaquil', 'America/Guyana', 'America/Halifax', 'America/Havana', 'America/Hermosillo', 'America/Indiana/Indianapolis', 'America/Indiana/Knox', 'America/Indiana/Marengo', 'America/Indiana/Petersburg', 'America/Indiana/Tell_City', 'America/Indiana/Vevay', 'America/Indiana/Vincennes', 'America/Indiana/Winamac', 'America/Inuvik', 'America/Iqaluit', 'America/Jamaica', 'America/Juneau', 'America/Kentucky/Louisville', 'America/Kentucky/Monticello', 'America/Kralendijk', 'America/La_Paz', 'America/Lima', 'America/Los_Angeles', 'America/Lower_Princes', 'America/Maceio', 'America/Managua', 'America/Manaus', 'America/Marigot', 'America/Martinique', 'America/Matamoros', 'America/Mazatlan', 'America/Menominee', 'America/Merida', 'America/Metlakatla', 'America/Mexico_City', 'America/Miquelon', 'America/Moncton', 'America/Monterrey', 'America/Montevideo', 'America/Montserrat', 'America/Nassau', 'America/New_York', 'America/Nipigon', 'America/Nome', 'America/Noronha', 'America/North_Dakota/Beulah', 'America/North_Dakota/Center', 'America/North_Dakota/New_Salem', 'America/Nuuk', 'America/Ojinaga', 'America/Panama', 'America/Pangnirtung', 'America/Paramaribo', 'America/Phoenix', 'America/Port-au-Prince', 'America/Port_of_Spain', 'America/Porto_Velho', 'America/Puerto_Rico', 'America/Punta_Arenas', 'America/Rainy_River', 'America/Rankin_Inlet', 'America/Recife', 'America/Regina', 'America/Resolute', 'America/Rio_Branco', 'America/Santarem', 'America/Santiago', 'America/Santo_Domingo', 'America/Sao_Paulo', 'America/Scoresbysund', 'America/Sitka', 'America/St_Barthelemy', 'America/St_Johns', 'America/St_Kitts', 'America/St_Lucia', 'America/St_Thomas', 'America/St_Vincent', 'America/Swift_Current', 'America/Tegucigalpa', 'America/Thule', 'America/Thunder_Bay', 'America/Tijuana', 'America/Toronto', 'America/Tortola', 'America/Vancouver', 'America/Whitehorse', 'America/Winnipeg', 'America/Yakutat', 'America/Yellowknife', 'Antarctica/Casey', 'Antarctica/Davis', 'Antarctica/DumontDUrville', 'Antarctica/Macquarie', 'Antarctica/Mawson', 'Antarctica/McMurdo', 'Antarctica/Palmer', 'Antarctica/Rothera', 'Antarctica/Syowa', 'Antarctica/Troll', 'Antarctica/Vostok', 'Arctic/Longyearbyen', 'Asia/Aden', 'Asia/Almaty', 'Asia/Amman', 'Asia/Anadyr', 'Asia/Aqtau', 'Asia/Aqtobe', 'Asia/Ashgabat', 'Asia/Atyrau', 'Asia/Baghdad', 'Asia/Bahrain', 'Asia/Baku', 'Asia/Bangkok', 'Asia/Barnaul', 'Asia/Beirut', 'Asia/Bishkek', 'Asia/Brunei', 'Asia/Chita', 'Asia/Choibalsan', 'Asia/Colombo', 'Asia/Damascus', 'Asia/Dhaka', 'Asia/Dili', 'Asia/Dubai', 'Asia/Dushanbe', 'Asia/Famagusta', 'Asia/Gaza', 'Asia/Hebron', 'Asia/Ho_Chi_Minh', 'Asia/Hong_Kong', 'Asia/Hovd', 'Asia/Irkutsk', 'Asia/Jakarta', 'Asia/Jayapura', 'Asia/Jerusalem', 'Asia/Kabul', 'Asia/Kamchatka', 'Asia/Karachi', 'Asia/Kathmandu', 'Asia/Khandyga', 'Asia/Kolkata', 'Asia/Krasnoyarsk', 'Asia/Kuala_Lumpur', 'Asia/Kuching', 'Asia/Kuwait', 'Asia/Macau', 'Asia/Magadan', 'Asia/Makassar', 'Asia/Manila', 'Asia/Muscat', 'Asia/Nicosia', 'Asia/Novokuznetsk', 'Asia/Novosibirsk', 'Asia/Omsk', 'Asia/Oral', 'Asia/Phnom_Penh', 'Asia/Pontianak', 'Asia/Pyongyang', 'Asia/Qatar', 'Asia/Qostanay', 'Asia/Qyzylorda', 'Asia/Riyadh', 'Asia/Sakhalin', 'Asia/Samarkand', 'Asia/Seoul', 'Asia/Shanghai', 'Asia/Singapore', 'Asia/Srednekolymsk', 'Asia/Taipei', 'Asia/Tashkent', 'Asia/Tbilisi', 'Asia/Tehran', 'Asia/Thimphu', 'Asia/Tokyo', 'Asia/Tomsk', 'Asia/Ulaanbaatar', 'Asia/Urumqi', 'Asia/Ust-Nera', 'Asia/Vientiane', 'Asia/Vladivostok', 'Asia/Yakutsk', 'Asia/Yangon', 'Asia/Yekaterinburg', 'Asia/Yerevan', 'Atlantic/Azores', 'Atlantic/Bermuda', 'Atlantic/Canary', 'Atlantic/Cape_Verde', 'Atlantic/Faroe', 'Atlantic/Madeira', 'Atlantic/Reykjavik', 'Atlantic/South_Georgia', 'Atlantic/St_Helena', 'Atlantic/Stanley', 'Australia/Adelaide', 'Australia/Brisbane', 'Australia/Broken_Hill', 'Australia/Darwin', 'Australia/Eucla', 'Australia/Hobart', 'Australia/Lindeman', 'Australia/Lord_Howe', 'Australia/Melbourne', 'Australia/Perth', 'Australia/Sydney', 'Canada/Atlantic', 'Canada/Central', 'Canada/Eastern', 'Canada/Mountain', 'Canada/Newfoundland', 'Canada/Pacific', 'Europe/Amsterdam', 'Europe/Andorra', 'Europe/Astrakhan', 'Europe/Athens', 'Europe/Belgrade', 'Europe/Berlin', 'Europe/Bratislava', 'Europe/Brussels', 'Europe/Bucharest', 'Europe/Budapest', 'Europe/Busingen', 'Europe/Chisinau', 'Europe/Copenhagen', 'Europe/Dublin', 'Europe/Gibraltar', 'Europe/Guernsey', 'Europe/Helsinki', 'Europe/Isle_of_Man', 'Europe/Istanbul', 'Europe/Jersey', 'Europe/Kaliningrad', 'Europe/Kiev', 'Europe/Kirov', 'Europe/Lisbon', 'Europe/Ljubljana', 'Europe/London', 'Europe/Luxembourg', 'Europe/Madrid', 'Europe/Malta', 'Europe/Mariehamn', 'Europe/Minsk', 'Europe/Monaco', 'Europe/Moscow', 'Europe/Oslo', 'Europe/Paris', 'Europe/Podgorica', 'Europe/Prague', 'Europe/Riga', 'Europe/Rome', 'Europe/Samara', 'Europe/San_Marino', 'Europe/Sarajevo', 'Europe/Saratov', 'Europe/Simferopol', 'Europe/Skopje', 'Europe/Sofia', 'Europe/Stockholm', 'Europe/Tallinn', 'Europe/Tirane', 'Europe/Ulyanovsk', 'Europe/Uzhgorod', 'Europe/Vaduz', 'Europe/Vatican', 'Europe/Vienna', 'Europe/Vilnius', 'Europe/Volgograd', 'Europe/Warsaw', 'Europe/Zagreb', 'Europe/Zaporozhye', 'Europe/Zurich', 'GMT', 'Indian/Antananarivo', 'Indian/Chagos', 'Indian/Christmas', 'Indian/Cocos', 'Indian/Comoro', 'Indian/Kerguelen', 'Indian/Mahe', 'Indian/Maldives', 'Indian/Mauritius', 'Indian/Mayotte', 'Indian/Reunion', 'Pacific/Apia', 'Pacific/Auckland', 'Pacific/Bougainville', 'Pacific/Chatham', 'Pacific/Chuuk', 'Pacific/Easter', 'Pacific/Efate', 'Pacific/Enderbury', 'Pacific/Fakaofo', 'Pacific/Fiji', 'Pacific/Funafuti', 'Pacific/Galapagos', 'Pacific/Gambier', 'Pacific/Guadalcanal', 'Pacific/Guam', 'Pacific/Honolulu', 'Pacific/Kiritimati', 'Pacific/Kosrae', 'Pacific/Kwajalein', 'Pacific/Majuro', 'Pacific/Marquesas', 'Pacific/Midway', 'Pacific/Nauru', 'Pacific/Niue', 'Pacific/Norfolk', 'Pacific/Noumea', 'Pacific/Pago_Pago', 'Pacific/Palau', 'Pacific/Pitcairn', 'Pacific/Pohnpei', 'Pacific/Port_Moresby', 'Pacific/Rarotonga', 'Pacific/Saipan', 'Pacific/Tahiti', 'Pacific/Tarawa', 'Pacific/Tongatapu', 'Pacific/Wake', 'Pacific/Wallis', 'US/Alaska', 'US/Arizona', 'US/Central', 'US/Eastern', 'US/Hawaii', 'US/Mountain', 'US/Pacific', 'UTC']"
      ]
     },
     "execution_count": 74,
     "metadata": {},
     "output_type": "execute_result"
    }
   ],
   "source": [
    "import pytz\n",
    "pytz.common_timezones"
   ]
  },
  {
   "cell_type": "code",
   "execution_count": 75,
   "id": "5050e55f",
   "metadata": {},
   "outputs": [],
   "source": [
    "tz = pytz.timezone('Asia/Seoul')"
   ]
  },
  {
   "cell_type": "code",
   "execution_count": 77,
   "id": "a10cad70",
   "metadata": {},
   "outputs": [
    {
     "data": {
      "text/plain": [
       "2020-01-01 09:00:00   -1.443452\n",
       "2020-01-02 09:00:00   -1.553388\n",
       "2020-01-03 09:00:00   -0.053615\n",
       "2020-01-06 09:00:00    0.268996\n",
       "2020-01-07 09:00:00   -1.156622\n",
       "2020-01-08 09:00:00    0.580169\n",
       "2020-01-09 09:00:00   -0.595840\n",
       "Freq: B, dtype: float64"
      ]
     },
     "execution_count": 77,
     "metadata": {},
     "output_type": "execute_result"
    }
   ],
   "source": [
    "dinx = pd.date_range('2020-01-01 09:00', periods = 7, freq = 'B')\n",
    "ts = pd.Series(np.random.randn(len(dinx)),\n",
    "                              index = dinx)\n",
    "ts"
   ]
  },
  {
   "cell_type": "code",
   "execution_count": 78,
   "id": "47c27b8d",
   "metadata": {},
   "outputs": [
    {
     "data": {
      "text/plain": [
       "DatetimeIndex(['2020-01-01 09:00:00+00:00', '2020-01-02 09:00:00+00:00',\n",
       "               '2020-01-03 09:00:00+00:00', '2020-01-06 09:00:00+00:00',\n",
       "               '2020-01-07 09:00:00+00:00', '2020-01-08 09:00:00+00:00',\n",
       "               '2020-01-09 09:00:00+00:00'],\n",
       "              dtype='datetime64[ns, UTC]', freq='B')"
      ]
     },
     "execution_count": 78,
     "metadata": {},
     "output_type": "execute_result"
    }
   ],
   "source": [
    "pd.date_range('2020-01-01 09:00', periods = 7, freq = 'B', tz = 'UTC')"
   ]
  },
  {
   "cell_type": "code",
   "execution_count": 79,
   "id": "bf9bfbda",
   "metadata": {},
   "outputs": [
    {
     "data": {
      "text/plain": [
       "2020-01-01 09:00:00+00:00   -1.443452\n",
       "2020-01-02 09:00:00+00:00   -1.553388\n",
       "2020-01-03 09:00:00+00:00   -0.053615\n",
       "2020-01-06 09:00:00+00:00    0.268996\n",
       "2020-01-07 09:00:00+00:00   -1.156622\n",
       "2020-01-08 09:00:00+00:00    0.580169\n",
       "2020-01-09 09:00:00+00:00   -0.595840\n",
       "Freq: B, dtype: float64"
      ]
     },
     "execution_count": 79,
     "metadata": {},
     "output_type": "execute_result"
    }
   ],
   "source": [
    "ts_utc = ts.tz_localize('UTC')\n",
    "ts_utc"
   ]
  },
  {
   "cell_type": "code",
   "execution_count": 80,
   "id": "1bc59843",
   "metadata": {},
   "outputs": [
    {
     "data": {
      "text/plain": [
       "DatetimeIndex(['2020-01-01 09:00:00+00:00', '2020-01-02 09:00:00+00:00',\n",
       "               '2020-01-03 09:00:00+00:00', '2020-01-06 09:00:00+00:00',\n",
       "               '2020-01-07 09:00:00+00:00', '2020-01-08 09:00:00+00:00',\n",
       "               '2020-01-09 09:00:00+00:00'],\n",
       "              dtype='datetime64[ns, UTC]', freq='B')"
      ]
     },
     "execution_count": 80,
     "metadata": {},
     "output_type": "execute_result"
    }
   ],
   "source": [
    "ts_utc.index"
   ]
  },
  {
   "cell_type": "code",
   "execution_count": 81,
   "id": "afa16b16",
   "metadata": {},
   "outputs": [
    {
     "data": {
      "text/plain": [
       "2020-01-01 18:00:00+09:00   -1.443452\n",
       "2020-01-02 18:00:00+09:00   -1.553388\n",
       "2020-01-03 18:00:00+09:00   -0.053615\n",
       "2020-01-06 18:00:00+09:00    0.268996\n",
       "2020-01-07 18:00:00+09:00   -1.156622\n",
       "2020-01-08 18:00:00+09:00    0.580169\n",
       "2020-01-09 18:00:00+09:00   -0.595840\n",
       "Freq: B, dtype: float64"
      ]
     },
     "execution_count": 81,
     "metadata": {},
     "output_type": "execute_result"
    }
   ],
   "source": [
    "ts_utc.tz_convert('Asia/Seoul')"
   ]
  },
  {
   "cell_type": "code",
   "execution_count": 82,
   "id": "3efafa22",
   "metadata": {},
   "outputs": [
    {
     "data": {
      "text/plain": [
       "2020-01-01 09:00:00+09:00   -1.443452\n",
       "2020-01-02 09:00:00+09:00   -1.553388\n",
       "2020-01-03 09:00:00+09:00   -0.053615\n",
       "2020-01-06 09:00:00+09:00    0.268996\n",
       "2020-01-07 09:00:00+09:00   -1.156622\n",
       "2020-01-08 09:00:00+09:00    0.580169\n",
       "2020-01-09 09:00:00+09:00   -0.595840\n",
       "dtype: float64"
      ]
     },
     "execution_count": 82,
     "metadata": {},
     "output_type": "execute_result"
    }
   ],
   "source": [
    "ts_seoul = ts.tz_localize('Asia/Seoul')\n",
    "ts_seoul"
   ]
  },
  {
   "cell_type": "code",
   "execution_count": 84,
   "id": "213ba72a",
   "metadata": {},
   "outputs": [
    {
     "data": {
      "text/plain": [
       "2020-01-01 00:00:00+00:00   -1.443452\n",
       "2020-01-02 00:00:00+00:00   -1.553388\n",
       "2020-01-03 00:00:00+00:00   -0.053615\n",
       "2020-01-06 00:00:00+00:00    0.268996\n",
       "2020-01-07 00:00:00+00:00   -1.156622\n",
       "2020-01-08 00:00:00+00:00    0.580169\n",
       "2020-01-09 00:00:00+00:00   -0.595840\n",
       "dtype: float64"
      ]
     },
     "execution_count": 84,
     "metadata": {},
     "output_type": "execute_result"
    }
   ],
   "source": [
    "ts_seoul.tz_convert('UTC')"
   ]
  },
  {
   "cell_type": "code",
   "execution_count": 85,
   "id": "33b06195",
   "metadata": {},
   "outputs": [
    {
     "data": {
      "text/plain": [
       "2020-01-01 01:00:00+01:00   -1.443452\n",
       "2020-01-02 01:00:00+01:00   -1.553388\n",
       "2020-01-03 01:00:00+01:00   -0.053615\n",
       "2020-01-06 01:00:00+01:00    0.268996\n",
       "2020-01-07 01:00:00+01:00   -1.156622\n",
       "2020-01-08 01:00:00+01:00    0.580169\n",
       "2020-01-09 01:00:00+01:00   -0.595840\n",
       "dtype: float64"
      ]
     },
     "execution_count": 85,
     "metadata": {},
     "output_type": "execute_result"
    }
   ],
   "source": [
    "ts_seoul.tz_convert('Europe/Berlin')"
   ]
  },
  {
   "cell_type": "code",
   "execution_count": 86,
   "id": "9b9439fe",
   "metadata": {},
   "outputs": [
    {
     "data": {
      "text/plain": [
       "DatetimeIndex(['2020-01-01 09:00:00-05:00', '2020-01-02 09:00:00-05:00',\n",
       "               '2020-01-03 09:00:00-05:00', '2020-01-06 09:00:00-05:00',\n",
       "               '2020-01-07 09:00:00-05:00', '2020-01-08 09:00:00-05:00',\n",
       "               '2020-01-09 09:00:00-05:00'],\n",
       "              dtype='datetime64[ns, America/New_York]', freq=None)"
      ]
     },
     "execution_count": 86,
     "metadata": {},
     "output_type": "execute_result"
    }
   ],
   "source": [
    "ts.index.tz_localize('America/New_York')"
   ]
  },
  {
   "cell_type": "code",
   "execution_count": 88,
   "id": "5f077bf8",
   "metadata": {},
   "outputs": [
    {
     "data": {
      "text/plain": [
       "Timestamp('2020-01-01 12:00:00+0000', tz='UTC')"
      ]
     },
     "execution_count": 88,
     "metadata": {},
     "output_type": "execute_result"
    }
   ],
   "source": [
    "stamp = pd.Timestamp('2020-01-01 12:00')\n",
    "stamp_utc = stamp.tz_localize('UTC')\n",
    "stamp_utc"
   ]
  },
  {
   "cell_type": "code",
   "execution_count": 89,
   "id": "969fd610",
   "metadata": {},
   "outputs": [
    {
     "data": {
      "text/plain": [
       "1577880000000000000"
      ]
     },
     "execution_count": 89,
     "metadata": {},
     "output_type": "execute_result"
    }
   ],
   "source": [
    "stamp_utc.value"
   ]
  },
  {
   "cell_type": "code",
   "execution_count": 91,
   "id": "8d40441e",
   "metadata": {},
   "outputs": [
    {
     "data": {
      "text/plain": [
       "Timestamp('2020-01-01 21:00:00+0900', tz='Asia/Seoul')"
      ]
     },
     "execution_count": 91,
     "metadata": {},
     "output_type": "execute_result"
    }
   ],
   "source": [
    "stamp_utc.tz_convert('Asia/Seoul')"
   ]
  },
  {
   "cell_type": "code",
   "execution_count": 92,
   "id": "e7a18cc7",
   "metadata": {},
   "outputs": [
    {
     "data": {
      "text/plain": [
       "1577880000000000000"
      ]
     },
     "execution_count": 92,
     "metadata": {},
     "output_type": "execute_result"
    }
   ],
   "source": [
    "stamp_utc.tz_convert('Asia/Seoul').value"
   ]
  },
  {
   "cell_type": "code",
   "execution_count": 93,
   "id": "7b1a118c",
   "metadata": {},
   "outputs": [
    {
     "data": {
      "text/plain": [
       "Timestamp('2020-01-01 12:00:00-0500', tz='America/New_York')"
      ]
     },
     "execution_count": 93,
     "metadata": {},
     "output_type": "execute_result"
    }
   ],
   "source": [
    "stamp_ny = pd.Timestamp('2020-01-01 12:00', tz = 'America/New_York')\n",
    "stamp_ny"
   ]
  },
  {
   "cell_type": "code",
   "execution_count": 95,
   "id": "30ab6329",
   "metadata": {},
   "outputs": [
    {
     "data": {
      "text/plain": [
       "1577898000000000000"
      ]
     },
     "execution_count": 95,
     "metadata": {},
     "output_type": "execute_result"
    }
   ],
   "source": [
    "stamp_ny.value"
   ]
  },
  {
   "cell_type": "code",
   "execution_count": 96,
   "id": "52ffe28a",
   "metadata": {},
   "outputs": [
    {
     "data": {
      "text/plain": [
       "Timestamp('2020-01-01 20:00:00+0800', tz='Asia/Shanghai')"
      ]
     },
     "execution_count": 96,
     "metadata": {},
     "output_type": "execute_result"
    }
   ],
   "source": [
    "stamp_utc.tz_convert('Asia/Shanghai')"
   ]
  },
  {
   "cell_type": "code",
   "execution_count": 97,
   "id": "4c421fb3",
   "metadata": {},
   "outputs": [
    {
     "data": {
      "text/plain": [
       "Timestamp('2020-01-01 12:00:00+0900', tz='Asia/Seoul')"
      ]
     },
     "execution_count": 97,
     "metadata": {},
     "output_type": "execute_result"
    }
   ],
   "source": [
    "stamp = pd.Timestamp('2020-01-01 12:00', tz = 'Asia/Seoul')\n",
    "stamp"
   ]
  },
  {
   "cell_type": "code",
   "execution_count": 98,
   "id": "abf7fad1",
   "metadata": {},
   "outputs": [
    {
     "data": {
      "text/plain": [
       "Timestamp('2020-01-01 13:00:00+0900', tz='Asia/Seoul')"
      ]
     },
     "execution_count": 98,
     "metadata": {},
     "output_type": "execute_result"
    }
   ],
   "source": [
    "from pandas.tseries.offsets import Hour\n",
    "stamp + Hour()"
   ]
  },
  {
   "cell_type": "code",
   "execution_count": 99,
   "id": "9a6e233e",
   "metadata": {},
   "outputs": [
    {
     "data": {
      "text/plain": [
       "Timestamp('2020-01-01 15:00:00+0900', tz='Asia/Seoul')"
      ]
     },
     "execution_count": 99,
     "metadata": {},
     "output_type": "execute_result"
    }
   ],
   "source": [
    "stamp + 3 * Hour()"
   ]
  },
  {
   "cell_type": "code",
   "execution_count": 100,
   "id": "e7dd8586",
   "metadata": {},
   "outputs": [
    {
     "data": {
      "text/plain": [
       "2020-01-01 09:00:00+00:00   -1.443452\n",
       "2020-01-02 09:00:00+00:00   -1.553388\n",
       "2020-01-03 09:00:00+00:00   -0.053615\n",
       "2020-01-06 09:00:00+00:00    0.268996\n",
       "2020-01-07 09:00:00+00:00   -1.156622\n",
       "2020-01-08 09:00:00+00:00    0.580169\n",
       "2020-01-09 09:00:00+00:00   -0.595840\n",
       "Freq: B, dtype: float64"
      ]
     },
     "execution_count": 100,
     "metadata": {},
     "output_type": "execute_result"
    }
   ],
   "source": [
    "ts_utc"
   ]
  },
  {
   "cell_type": "code",
   "execution_count": 102,
   "id": "7c8d94db",
   "metadata": {},
   "outputs": [
    {
     "data": {
      "text/plain": [
       "2020-01-01 09:00:00+00:00         NaN\n",
       "2020-01-02 09:00:00+00:00         NaN\n",
       "2020-01-03 09:00:00+00:00   -0.107231\n",
       "2020-01-06 09:00:00+00:00    0.537992\n",
       "2020-01-07 09:00:00+00:00   -2.313244\n",
       "2020-01-08 09:00:00+00:00         NaN\n",
       "2020-01-09 09:00:00+00:00         NaN\n",
       "Freq: B, dtype: float64"
      ]
     },
     "execution_count": 102,
     "metadata": {},
     "output_type": "execute_result"
    }
   ],
   "source": [
    "ts1 = ts_utc[:5].tz_convert('Europe/Berlin')\n",
    "ts2 = ts_utc[2:].tz_convert('America/New_York')\n",
    "ts = ts1 + ts2\n",
    "ts"
   ]
  },
  {
   "cell_type": "code",
   "execution_count": 103,
   "id": "653645d2",
   "metadata": {},
   "outputs": [
    {
     "data": {
      "text/plain": [
       "DatetimeIndex(['2020-01-01 09:00:00+00:00', '2020-01-02 09:00:00+00:00',\n",
       "               '2020-01-03 09:00:00+00:00', '2020-01-06 09:00:00+00:00',\n",
       "               '2020-01-07 09:00:00+00:00', '2020-01-08 09:00:00+00:00',\n",
       "               '2020-01-09 09:00:00+00:00'],\n",
       "              dtype='datetime64[ns, UTC]', freq='B')"
      ]
     },
     "execution_count": 103,
     "metadata": {},
     "output_type": "execute_result"
    }
   ],
   "source": [
    "ts.index"
   ]
  },
  {
   "cell_type": "markdown",
   "id": "176ce221",
   "metadata": {},
   "source": [
    "- 기간과 기간연산"
   ]
  },
  {
   "cell_type": "code",
   "execution_count": 105,
   "id": "28ba2bb4",
   "metadata": {},
   "outputs": [
    {
     "data": {
      "text/plain": [
       "Period('2020', 'A-JAN')"
      ]
     },
     "execution_count": 105,
     "metadata": {},
     "output_type": "execute_result"
    }
   ],
   "source": [
    "p = pd.Period(2020, freq = 'A-JAN')\n",
    "p"
   ]
  },
  {
   "cell_type": "code",
   "execution_count": 106,
   "id": "7ece598d",
   "metadata": {},
   "outputs": [
    {
     "data": {
      "text/plain": [
       "Period('2022', 'A-JAN')"
      ]
     },
     "execution_count": 106,
     "metadata": {},
     "output_type": "execute_result"
    }
   ],
   "source": [
    "p + 2"
   ]
  },
  {
   "cell_type": "code",
   "execution_count": 107,
   "id": "fcced008",
   "metadata": {},
   "outputs": [
    {
     "data": {
      "text/plain": [
       "Period('2017', 'A-JAN')"
      ]
     },
     "execution_count": 107,
     "metadata": {},
     "output_type": "execute_result"
    }
   ],
   "source": [
    "p - 3"
   ]
  },
  {
   "cell_type": "code",
   "execution_count": 108,
   "id": "b629ccc3",
   "metadata": {},
   "outputs": [
    {
     "data": {
      "text/plain": [
       "<10 * YearEnds: month=1>"
      ]
     },
     "execution_count": 108,
     "metadata": {},
     "output_type": "execute_result"
    }
   ],
   "source": [
    "p1 = pd.Period(2010, freq = 'A-JAN')\n",
    "p2 = pd.Period(2020, freq = 'A-JAN')\n",
    "p2 - p1"
   ]
  },
  {
   "cell_type": "code",
   "execution_count": 110,
   "id": "b86ac9a7",
   "metadata": {},
   "outputs": [
    {
     "data": {
      "text/plain": [
       "PeriodIndex(['2020-01', '2020-02', '2020-03', '2020-04', '2020-05', '2020-06'], dtype='period[M]', freq='M')"
      ]
     },
     "execution_count": 110,
     "metadata": {},
     "output_type": "execute_result"
    }
   ],
   "source": [
    "pr = pd.period_range('2020-01-01', '2020-06-30', freq = 'M')\n",
    "pr"
   ]
  },
  {
   "cell_type": "code",
   "execution_count": 111,
   "id": "4e53fe51",
   "metadata": {},
   "outputs": [
    {
     "data": {
      "text/plain": [
       "2020-01   -0.337020\n",
       "2020-02   -0.013285\n",
       "2020-03   -0.709514\n",
       "2020-04   -1.635426\n",
       "2020-05   -1.380349\n",
       "2020-06    0.259642\n",
       "Freq: M, dtype: float64"
      ]
     },
     "execution_count": 111,
     "metadata": {},
     "output_type": "execute_result"
    }
   ],
   "source": [
    "pd.Series(np.random.randn(6), index = pr)"
   ]
  },
  {
   "cell_type": "code",
   "execution_count": 112,
   "id": "05c30fd3",
   "metadata": {},
   "outputs": [
    {
     "data": {
      "text/plain": [
       "PeriodIndex(['2020-01', '2020-02', '2020-04'], dtype='period[M]', freq='M')"
      ]
     },
     "execution_count": 112,
     "metadata": {},
     "output_type": "execute_result"
    }
   ],
   "source": [
    "pidx = pd.PeriodIndex(['2020-1', '2020-2', '2020-4'], freq = 'M')\n",
    "pidx"
   ]
  },
  {
   "cell_type": "code",
   "execution_count": 113,
   "id": "73cd3cc2",
   "metadata": {},
   "outputs": [
    {
     "data": {
      "text/plain": [
       "Period('2020', 'A-FEB')"
      ]
     },
     "execution_count": 113,
     "metadata": {},
     "output_type": "execute_result"
    }
   ],
   "source": [
    "p = pd.Period('2020', freq = 'A-FEB')\n",
    "p"
   ]
  },
  {
   "cell_type": "code",
   "execution_count": 114,
   "id": "df40d2d4",
   "metadata": {},
   "outputs": [
    {
     "data": {
      "text/plain": [
       "Period('2019-03', 'M')"
      ]
     },
     "execution_count": 114,
     "metadata": {},
     "output_type": "execute_result"
    }
   ],
   "source": [
    "p.asfreq('M', how = 'start')"
   ]
  },
  {
   "cell_type": "code",
   "execution_count": 115,
   "id": "4226a537",
   "metadata": {},
   "outputs": [
    {
     "data": {
      "text/plain": [
       "Period('2020-02', 'M')"
      ]
     },
     "execution_count": 115,
     "metadata": {},
     "output_type": "execute_result"
    }
   ],
   "source": [
    "p.asfreq('M', how = 'end')"
   ]
  },
  {
   "cell_type": "code",
   "execution_count": 116,
   "id": "744b635d",
   "metadata": {},
   "outputs": [
    {
     "data": {
      "text/plain": [
       "Period('2020', 'A-OCT')"
      ]
     },
     "execution_count": 116,
     "metadata": {},
     "output_type": "execute_result"
    }
   ],
   "source": [
    "p = pd.Period('2020', freq = 'A-OCT')\n",
    "p"
   ]
  },
  {
   "cell_type": "code",
   "execution_count": 117,
   "id": "ab6ee294",
   "metadata": {},
   "outputs": [
    {
     "data": {
      "text/plain": [
       "Period('2019-11', 'M')"
      ]
     },
     "execution_count": 117,
     "metadata": {},
     "output_type": "execute_result"
    }
   ],
   "source": [
    "p.asfreq('M', how = 'start')"
   ]
  },
  {
   "cell_type": "code",
   "execution_count": 118,
   "id": "b7af9c99",
   "metadata": {},
   "outputs": [
    {
     "data": {
      "text/plain": [
       "Period('2020-10', 'M')"
      ]
     },
     "execution_count": 118,
     "metadata": {},
     "output_type": "execute_result"
    }
   ],
   "source": [
    "p.asfreq('M', how = 'end')"
   ]
  },
  {
   "cell_type": "code",
   "execution_count": 120,
   "id": "fd73d0c0",
   "metadata": {},
   "outputs": [
    {
     "data": {
      "text/plain": [
       "2010    0.402038\n",
       "2011    0.830841\n",
       "2012   -0.033734\n",
       "2013   -0.417865\n",
       "2014   -0.749306\n",
       "2015    2.955912\n",
       "2016   -0.644602\n",
       "2017    1.291225\n",
       "2018   -0.295806\n",
       "2019    0.451721\n",
       "2020   -0.612757\n",
       "Freq: A-JAN, dtype: float64"
      ]
     },
     "execution_count": 120,
     "metadata": {},
     "output_type": "execute_result"
    }
   ],
   "source": [
    "pr = pd.period_range('2010', '2020', freq = 'A-JAN')\n",
    "ts = pd.Series(np.random.randn(len(pr)), index = pr)\n",
    "ts"
   ]
  },
  {
   "cell_type": "code",
   "execution_count": 121,
   "id": "7bf86467",
   "metadata": {},
   "outputs": [
    {
     "data": {
      "text/plain": [
       "2009-02    0.402038\n",
       "2010-02    0.830841\n",
       "2011-02   -0.033734\n",
       "2012-02   -0.417865\n",
       "2013-02   -0.749306\n",
       "2014-02    2.955912\n",
       "2015-02   -0.644602\n",
       "2016-02    1.291225\n",
       "2017-02   -0.295806\n",
       "2018-02    0.451721\n",
       "2019-02   -0.612757\n",
       "Freq: M, dtype: float64"
      ]
     },
     "execution_count": 121,
     "metadata": {},
     "output_type": "execute_result"
    }
   ],
   "source": [
    "ts.asfreq('M', how = 'start')"
   ]
  },
  {
   "cell_type": "code",
   "execution_count": 123,
   "id": "48f174bc",
   "metadata": {},
   "outputs": [
    {
     "data": {
      "text/plain": [
       "2010-01-29    0.402038\n",
       "2011-01-31    0.830841\n",
       "2012-01-31   -0.033734\n",
       "2013-01-31   -0.417865\n",
       "2014-01-31   -0.749306\n",
       "2015-01-30    2.955912\n",
       "2016-01-29   -0.644602\n",
       "2017-01-31    1.291225\n",
       "2018-01-31   -0.295806\n",
       "2019-01-31    0.451721\n",
       "2020-01-31   -0.612757\n",
       "Freq: B, dtype: float64"
      ]
     },
     "execution_count": 123,
     "metadata": {},
     "output_type": "execute_result"
    }
   ],
   "source": [
    "# 영업일 마지막 일 출력\n",
    "ts.asfreq('B', how = 'end')"
   ]
  },
  {
   "cell_type": "code",
   "execution_count": 124,
   "id": "871f67aa",
   "metadata": {},
   "outputs": [
    {
     "data": {
      "text/plain": [
       "Period('2020Q2', 'Q-JAN')"
      ]
     },
     "execution_count": 124,
     "metadata": {},
     "output_type": "execute_result"
    }
   ],
   "source": [
    "p = pd.Period('2020Q2', freq = 'Q-JAN')\n",
    "p"
   ]
  },
  {
   "cell_type": "code",
   "execution_count": 125,
   "id": "07eeed06",
   "metadata": {},
   "outputs": [
    {
     "data": {
      "text/plain": [
       "Period('2019-05-01', 'D')"
      ]
     },
     "execution_count": 125,
     "metadata": {},
     "output_type": "execute_result"
    }
   ],
   "source": [
    "p.asfreq('D', 'start')"
   ]
  },
  {
   "cell_type": "code",
   "execution_count": 126,
   "id": "4b2d2a60",
   "metadata": {},
   "outputs": [
    {
     "data": {
      "text/plain": [
       "Period('2019-07-31', 'D')"
      ]
     },
     "execution_count": 126,
     "metadata": {},
     "output_type": "execute_result"
    }
   ],
   "source": [
    "p.asfreq('D', 'end')"
   ]
  },
  {
   "cell_type": "code",
   "execution_count": 127,
   "id": "d0647385",
   "metadata": {},
   "outputs": [
    {
     "data": {
      "text/plain": [
       "2019Q3    0\n",
       "2019Q4    1\n",
       "2020Q1    2\n",
       "2020Q2    3\n",
       "2020Q3    4\n",
       "Freq: Q-JAN, dtype: int32"
      ]
     },
     "execution_count": 127,
     "metadata": {},
     "output_type": "execute_result"
    }
   ],
   "source": [
    "pr = pd.period_range('2019Q3', '2020Q3', freq = 'Q-JAN')\n",
    "ts = pd.Series(np.arange(len(pr)), index = pr)\n",
    "ts"
   ]
  },
  {
   "cell_type": "code",
   "execution_count": 129,
   "id": "ca4a5600",
   "metadata": {},
   "outputs": [
    {
     "data": {
      "text/plain": [
       "2020-01-31   -0.910114\n",
       "2020-04-30    0.301654\n",
       "2020-07-31    2.892785\n",
       "2020-10-31    1.331901\n",
       "2021-01-31    0.523367\n",
       "Freq: Q-JAN, dtype: float64"
      ]
     },
     "execution_count": 129,
     "metadata": {},
     "output_type": "execute_result"
    }
   ],
   "source": [
    "pr = pd.date_range('2020-01-01', periods = 5, freq = 'Q-JAN')\n",
    "ts = pd.Series(np.random.randn(5), index = pr)\n",
    "ts"
   ]
  },
  {
   "cell_type": "code",
   "execution_count": 130,
   "id": "e885e037",
   "metadata": {},
   "outputs": [
    {
     "data": {
      "text/plain": [
       "2020Q4   -0.910114\n",
       "2021Q1    0.301654\n",
       "2021Q2    2.892785\n",
       "2021Q3    1.331901\n",
       "2021Q4    0.523367\n",
       "Freq: Q-JAN, dtype: float64"
      ]
     },
     "execution_count": 130,
     "metadata": {},
     "output_type": "execute_result"
    }
   ],
   "source": [
    "ts.to_period()"
   ]
  },
  {
   "cell_type": "code",
   "execution_count": 131,
   "id": "ef4bf1a8",
   "metadata": {},
   "outputs": [
    {
     "data": {
      "text/plain": [
       "2020-01-01    1.028630\n",
       "2020-01-02   -0.455313\n",
       "2020-01-03    1.284885\n",
       "2020-01-04    0.720725\n",
       "2020-01-05   -1.309146\n",
       "Freq: D, dtype: float64"
      ]
     },
     "execution_count": 131,
     "metadata": {},
     "output_type": "execute_result"
    }
   ],
   "source": [
    "pr = pd.date_range('2020-01-01', periods = 5, freq = 'D')\n",
    "ts = pd.Series(np.random.randn(5), index = pr)\n",
    "ts"
   ]
  },
  {
   "cell_type": "code",
   "execution_count": 132,
   "id": "1d32943c",
   "metadata": {},
   "outputs": [
    {
     "data": {
      "text/plain": [
       "2020-01    1.028630\n",
       "2020-01   -0.455313\n",
       "2020-01    1.284885\n",
       "2020-01    0.720725\n",
       "2020-01   -1.309146\n",
       "Freq: M, dtype: float64"
      ]
     },
     "execution_count": 132,
     "metadata": {},
     "output_type": "execute_result"
    }
   ],
   "source": [
    "p = ts.to_period('M')\n",
    "p"
   ]
  },
  {
   "cell_type": "code",
   "execution_count": 133,
   "id": "e6c8d16d",
   "metadata": {},
   "outputs": [
    {
     "data": {
      "text/plain": [
       "2020-01-01    1.028630\n",
       "2020-01-01   -0.455313\n",
       "2020-01-01    1.284885\n",
       "2020-01-01    0.720725\n",
       "2020-01-01   -1.309146\n",
       "dtype: float64"
      ]
     },
     "execution_count": 133,
     "metadata": {},
     "output_type": "execute_result"
    }
   ],
   "source": [
    "p.to_timestamp(how = 'start')"
   ]
  },
  {
   "cell_type": "markdown",
   "id": "b1e3d9cb",
   "metadata": {},
   "source": [
    "- 리샘플링(Resampling)\n",
    "    - 리샘플링(Resmapling) : 시계열의 빈도 변환<br>\n",
    "    - 다운샘플링(Down Sampling) : 상위 빈도 데이터를 하위 빈도 데이터로 집계<br>\n",
    "    - 업샘플링(Up Sampling) : 하위 빈도 데이터를 상위 빈도 데이터로 집계<br>\n",
    "    - resample 메소드"
   ]
  },
  {
   "cell_type": "code",
   "execution_count": 137,
   "id": "80c29844",
   "metadata": {},
   "outputs": [
    {
     "data": {
      "text/plain": [
       "2020-01-01    0.405835\n",
       "2020-01-02    1.663908\n",
       "2020-01-03   -0.015920\n",
       "2020-01-04   -2.276931\n",
       "2020-01-05   -0.657906\n",
       "                ...   \n",
       "2020-07-14    1.123832\n",
       "2020-07-15   -1.538537\n",
       "2020-07-16    0.598701\n",
       "2020-07-17   -0.382718\n",
       "2020-07-18   -0.056492\n",
       "Freq: D, Length: 200, dtype: float64"
      ]
     },
     "execution_count": 137,
     "metadata": {},
     "output_type": "execute_result"
    }
   ],
   "source": [
    "dr = pd.date_range('2020-01-01', periods = 200, freq = 'D')\n",
    "ts = pd.Series(np.random.randn(len(dr)), index = dr)\n",
    "ts"
   ]
  },
  {
   "cell_type": "code",
   "execution_count": 138,
   "id": "64bc7671",
   "metadata": {},
   "outputs": [
    {
     "data": {
      "text/plain": [
       "2020-01-31   -0.082638\n",
       "2020-02-29    0.013033\n",
       "2020-03-31    0.107519\n",
       "2020-04-30   -0.126931\n",
       "2020-05-31   -0.035675\n",
       "2020-06-30    0.044013\n",
       "2020-07-31   -0.044374\n",
       "Freq: M, dtype: float64"
      ]
     },
     "execution_count": 138,
     "metadata": {},
     "output_type": "execute_result"
    }
   ],
   "source": [
    "ts.resample('M').mean()"
   ]
  },
  {
   "cell_type": "code",
   "execution_count": 139,
   "id": "21fa5a75",
   "metadata": {},
   "outputs": [
    {
     "data": {
      "text/plain": [
       "2020-01   -0.082638\n",
       "2020-02    0.013033\n",
       "2020-03    0.107519\n",
       "2020-04   -0.126931\n",
       "2020-05   -0.035675\n",
       "2020-06    0.044013\n",
       "2020-07   -0.044374\n",
       "Freq: M, dtype: float64"
      ]
     },
     "execution_count": 139,
     "metadata": {},
     "output_type": "execute_result"
    }
   ],
   "source": [
    "ts.resample('M', kind = 'period').mean()"
   ]
  },
  {
   "cell_type": "code",
   "execution_count": 140,
   "id": "661486bb",
   "metadata": {},
   "outputs": [
    {
     "data": {
      "text/plain": [
       "2020-01-01 00:00:00    0\n",
       "2020-01-01 00:01:00    1\n",
       "2020-01-01 00:02:00    2\n",
       "2020-01-01 00:03:00    3\n",
       "2020-01-01 00:04:00    4\n",
       "2020-01-01 00:05:00    5\n",
       "2020-01-01 00:06:00    6\n",
       "2020-01-01 00:07:00    7\n",
       "2020-01-01 00:08:00    8\n",
       "2020-01-01 00:09:00    9\n",
       "Freq: T, dtype: int32"
      ]
     },
     "execution_count": 140,
     "metadata": {},
     "output_type": "execute_result"
    }
   ],
   "source": [
    "dr = pd.date_range('2020-01-01', periods = 10, freq = 'T')\n",
    "ts = pd.Series(np.arange(10), index = dr)\n",
    "ts"
   ]
  },
  {
   "cell_type": "code",
   "execution_count": 141,
   "id": "572c5c71",
   "metadata": {},
   "outputs": [
    {
     "data": {
      "text/plain": [
       "2020-01-01 00:00:00     1\n",
       "2020-01-01 00:02:00     5\n",
       "2020-01-01 00:04:00     9\n",
       "2020-01-01 00:06:00    13\n",
       "2020-01-01 00:08:00    17\n",
       "Freq: 2T, dtype: int32"
      ]
     },
     "execution_count": 141,
     "metadata": {},
     "output_type": "execute_result"
    }
   ],
   "source": [
    "ts.resample('2T', closed = 'left').sum()"
   ]
  },
  {
   "cell_type": "code",
   "execution_count": 142,
   "id": "46e1a79b",
   "metadata": {},
   "outputs": [
    {
     "data": {
      "text/plain": [
       "2019-12-31 23:58:00     0\n",
       "2020-01-01 00:00:00     3\n",
       "2020-01-01 00:02:00     7\n",
       "2020-01-01 00:04:00    11\n",
       "2020-01-01 00:06:00    15\n",
       "2020-01-01 00:08:00     9\n",
       "Freq: 2T, dtype: int32"
      ]
     },
     "execution_count": 142,
     "metadata": {},
     "output_type": "execute_result"
    }
   ],
   "source": [
    "ts.resample('2T', closed = 'right').sum()"
   ]
  },
  {
   "cell_type": "code",
   "execution_count": 143,
   "id": "70bfb313",
   "metadata": {},
   "outputs": [
    {
     "data": {
      "text/plain": [
       "2020-01-01 00:00:00     0\n",
       "2020-01-01 00:02:00     3\n",
       "2020-01-01 00:04:00     7\n",
       "2020-01-01 00:06:00    11\n",
       "2020-01-01 00:08:00    15\n",
       "2020-01-01 00:10:00     9\n",
       "Freq: 2T, dtype: int32"
      ]
     },
     "execution_count": 143,
     "metadata": {},
     "output_type": "execute_result"
    }
   ],
   "source": [
    "ts.resample('2T', closed = 'right', label = 'right').sum()"
   ]
  },
  {
   "cell_type": "code",
   "execution_count": 144,
   "id": "eb4d1b1d",
   "metadata": {},
   "outputs": [
    {
     "name": "stderr",
     "output_type": "stream",
     "text": [
      "<ipython-input-144-53f605e04ee6>:1: FutureWarning: 'loffset' in .resample() and in Grouper() is deprecated.\n",
      "\n",
      ">>> df.resample(freq=\"3s\", loffset=\"8H\")\n",
      "\n",
      "becomes:\n",
      "\n",
      ">>> from pandas.tseries.frequencies import to_offset\n",
      ">>> df = df.resample(freq=\"3s\").mean()\n",
      ">>> df.index = df.index.to_timestamp() + to_offset(\"8H\")\n",
      "\n",
      "  ts.resample('2T', closed = 'right', label = 'right', loffset = '-1s').sum()\n"
     ]
    },
    {
     "data": {
      "text/plain": [
       "2019-12-31 23:59:59     0\n",
       "2020-01-01 00:01:59     3\n",
       "2020-01-01 00:03:59     7\n",
       "2020-01-01 00:05:59    11\n",
       "2020-01-01 00:07:59    15\n",
       "2020-01-01 00:09:59     9\n",
       "Freq: 2T, dtype: int32"
      ]
     },
     "execution_count": 144,
     "metadata": {},
     "output_type": "execute_result"
    }
   ],
   "source": [
    "ts.resample('2T', closed = 'right', label = 'right', loffset = '-1s').sum()"
   ]
  },
  {
   "cell_type": "code",
   "execution_count": 145,
   "id": "ecaa24eb",
   "metadata": {},
   "outputs": [
    {
     "data": {
      "text/html": [
       "<div>\n",
       "<style scoped>\n",
       "    .dataframe tbody tr th:only-of-type {\n",
       "        vertical-align: middle;\n",
       "    }\n",
       "\n",
       "    .dataframe tbody tr th {\n",
       "        vertical-align: top;\n",
       "    }\n",
       "\n",
       "    .dataframe thead th {\n",
       "        text-align: right;\n",
       "    }\n",
       "</style>\n",
       "<table border=\"1\" class=\"dataframe\">\n",
       "  <thead>\n",
       "    <tr style=\"text-align: right;\">\n",
       "      <th></th>\n",
       "      <th>open</th>\n",
       "      <th>high</th>\n",
       "      <th>low</th>\n",
       "      <th>close</th>\n",
       "    </tr>\n",
       "  </thead>\n",
       "  <tbody>\n",
       "    <tr>\n",
       "      <th>2020-01-01 00:00:00</th>\n",
       "      <td>0</td>\n",
       "      <td>1</td>\n",
       "      <td>0</td>\n",
       "      <td>1</td>\n",
       "    </tr>\n",
       "    <tr>\n",
       "      <th>2020-01-01 00:02:00</th>\n",
       "      <td>2</td>\n",
       "      <td>3</td>\n",
       "      <td>2</td>\n",
       "      <td>3</td>\n",
       "    </tr>\n",
       "    <tr>\n",
       "      <th>2020-01-01 00:04:00</th>\n",
       "      <td>4</td>\n",
       "      <td>5</td>\n",
       "      <td>4</td>\n",
       "      <td>5</td>\n",
       "    </tr>\n",
       "    <tr>\n",
       "      <th>2020-01-01 00:06:00</th>\n",
       "      <td>6</td>\n",
       "      <td>7</td>\n",
       "      <td>6</td>\n",
       "      <td>7</td>\n",
       "    </tr>\n",
       "    <tr>\n",
       "      <th>2020-01-01 00:08:00</th>\n",
       "      <td>8</td>\n",
       "      <td>9</td>\n",
       "      <td>8</td>\n",
       "      <td>9</td>\n",
       "    </tr>\n",
       "  </tbody>\n",
       "</table>\n",
       "</div>"
      ],
      "text/plain": [
       "                     open  high  low  close\n",
       "2020-01-01 00:00:00     0     1    0      1\n",
       "2020-01-01 00:02:00     2     3    2      3\n",
       "2020-01-01 00:04:00     4     5    4      5\n",
       "2020-01-01 00:06:00     6     7    6      7\n",
       "2020-01-01 00:08:00     8     9    8      9"
      ]
     },
     "execution_count": 145,
     "metadata": {},
     "output_type": "execute_result"
    }
   ],
   "source": [
    "ts.resample('2T').ohlc()"
   ]
  },
  {
   "cell_type": "code",
   "execution_count": 146,
   "id": "b42f43bb",
   "metadata": {},
   "outputs": [
    {
     "data": {
      "text/html": [
       "<div>\n",
       "<style scoped>\n",
       "    .dataframe tbody tr th:only-of-type {\n",
       "        vertical-align: middle;\n",
       "    }\n",
       "\n",
       "    .dataframe tbody tr th {\n",
       "        vertical-align: top;\n",
       "    }\n",
       "\n",
       "    .dataframe thead th {\n",
       "        text-align: right;\n",
       "    }\n",
       "</style>\n",
       "<table border=\"1\" class=\"dataframe\">\n",
       "  <thead>\n",
       "    <tr style=\"text-align: right;\">\n",
       "      <th></th>\n",
       "      <th>C1</th>\n",
       "      <th>C2</th>\n",
       "      <th>C3</th>\n",
       "      <th>C4</th>\n",
       "    </tr>\n",
       "  </thead>\n",
       "  <tbody>\n",
       "    <tr>\n",
       "      <th>2019-10-31</th>\n",
       "      <td>-0.648955</td>\n",
       "      <td>1.739272</td>\n",
       "      <td>1.004685</td>\n",
       "      <td>1.021410</td>\n",
       "    </tr>\n",
       "    <tr>\n",
       "      <th>2019-11-30</th>\n",
       "      <td>1.421717</td>\n",
       "      <td>-1.228527</td>\n",
       "      <td>0.597574</td>\n",
       "      <td>-0.045161</td>\n",
       "    </tr>\n",
       "    <tr>\n",
       "      <th>2019-12-31</th>\n",
       "      <td>-0.273312</td>\n",
       "      <td>0.584845</td>\n",
       "      <td>-0.579013</td>\n",
       "      <td>-0.470661</td>\n",
       "    </tr>\n",
       "    <tr>\n",
       "      <th>2020-01-31</th>\n",
       "      <td>-0.040667</td>\n",
       "      <td>2.605468</td>\n",
       "      <td>-0.777648</td>\n",
       "      <td>0.460740</td>\n",
       "    </tr>\n",
       "    <tr>\n",
       "      <th>2020-02-29</th>\n",
       "      <td>-0.019076</td>\n",
       "      <td>0.475923</td>\n",
       "      <td>-1.125440</td>\n",
       "      <td>-0.772980</td>\n",
       "    </tr>\n",
       "    <tr>\n",
       "      <th>2020-03-31</th>\n",
       "      <td>1.112657</td>\n",
       "      <td>0.996717</td>\n",
       "      <td>0.390377</td>\n",
       "      <td>-0.729871</td>\n",
       "    </tr>\n",
       "    <tr>\n",
       "      <th>2020-04-30</th>\n",
       "      <td>-0.795512</td>\n",
       "      <td>1.612379</td>\n",
       "      <td>0.227131</td>\n",
       "      <td>-0.372255</td>\n",
       "    </tr>\n",
       "    <tr>\n",
       "      <th>2020-05-31</th>\n",
       "      <td>-0.097638</td>\n",
       "      <td>0.107969</td>\n",
       "      <td>-0.664631</td>\n",
       "      <td>-0.682801</td>\n",
       "    </tr>\n",
       "    <tr>\n",
       "      <th>2020-06-30</th>\n",
       "      <td>0.317354</td>\n",
       "      <td>0.562318</td>\n",
       "      <td>-0.161104</td>\n",
       "      <td>-1.113960</td>\n",
       "    </tr>\n",
       "    <tr>\n",
       "      <th>2020-07-31</th>\n",
       "      <td>-0.560826</td>\n",
       "      <td>-0.055732</td>\n",
       "      <td>-0.659389</td>\n",
       "      <td>0.141019</td>\n",
       "    </tr>\n",
       "  </tbody>\n",
       "</table>\n",
       "</div>"
      ],
      "text/plain": [
       "                  C1        C2        C3        C4\n",
       "2019-10-31 -0.648955  1.739272  1.004685  1.021410\n",
       "2019-11-30  1.421717 -1.228527  0.597574 -0.045161\n",
       "2019-12-31 -0.273312  0.584845 -0.579013 -0.470661\n",
       "2020-01-31 -0.040667  2.605468 -0.777648  0.460740\n",
       "2020-02-29 -0.019076  0.475923 -1.125440 -0.772980\n",
       "2020-03-31  1.112657  0.996717  0.390377 -0.729871\n",
       "2020-04-30 -0.795512  1.612379  0.227131 -0.372255\n",
       "2020-05-31 -0.097638  0.107969 -0.664631 -0.682801\n",
       "2020-06-30  0.317354  0.562318 -0.161104 -1.113960\n",
       "2020-07-31 -0.560826 -0.055732 -0.659389  0.141019"
      ]
     },
     "execution_count": 146,
     "metadata": {},
     "output_type": "execute_result"
    }
   ],
   "source": [
    "df = pd.DataFrame(np.random.randn(10, 4),\n",
    "                 index = pd.date_range('2019-10-01', periods = 10, freq = 'M'),\n",
    "                 columns = (['C1', 'C2', 'C3', 'C4']))\n",
    "df"
   ]
  },
  {
   "cell_type": "code",
   "execution_count": 147,
   "id": "dc0c3779",
   "metadata": {},
   "outputs": [
    {
     "data": {
      "text/html": [
       "<div>\n",
       "<style scoped>\n",
       "    .dataframe tbody tr th:only-of-type {\n",
       "        vertical-align: middle;\n",
       "    }\n",
       "\n",
       "    .dataframe tbody tr th {\n",
       "        vertical-align: top;\n",
       "    }\n",
       "\n",
       "    .dataframe thead th {\n",
       "        text-align: right;\n",
       "    }\n",
       "</style>\n",
       "<table border=\"1\" class=\"dataframe\">\n",
       "  <thead>\n",
       "    <tr style=\"text-align: right;\">\n",
       "      <th></th>\n",
       "      <th>C1</th>\n",
       "      <th>C2</th>\n",
       "      <th>C3</th>\n",
       "      <th>C4</th>\n",
       "    </tr>\n",
       "  </thead>\n",
       "  <tbody>\n",
       "    <tr>\n",
       "      <th>2019-12-31</th>\n",
       "      <td>-0.273312</td>\n",
       "      <td>0.584845</td>\n",
       "      <td>-0.579013</td>\n",
       "      <td>-0.470661</td>\n",
       "    </tr>\n",
       "    <tr>\n",
       "      <th>2020-12-31</th>\n",
       "      <td>NaN</td>\n",
       "      <td>NaN</td>\n",
       "      <td>NaN</td>\n",
       "      <td>NaN</td>\n",
       "    </tr>\n",
       "  </tbody>\n",
       "</table>\n",
       "</div>"
      ],
      "text/plain": [
       "                  C1        C2        C3        C4\n",
       "2019-12-31 -0.273312  0.584845 -0.579013 -0.470661\n",
       "2020-12-31       NaN       NaN       NaN       NaN"
      ]
     },
     "execution_count": 147,
     "metadata": {},
     "output_type": "execute_result"
    }
   ],
   "source": [
    "df.resample('Y').asfreq()"
   ]
  },
  {
   "cell_type": "code",
   "execution_count": 148,
   "id": "8adda41a",
   "metadata": {},
   "outputs": [
    {
     "data": {
      "text/html": [
       "<div>\n",
       "<style scoped>\n",
       "    .dataframe tbody tr th:only-of-type {\n",
       "        vertical-align: middle;\n",
       "    }\n",
       "\n",
       "    .dataframe tbody tr th {\n",
       "        vertical-align: top;\n",
       "    }\n",
       "\n",
       "    .dataframe thead th {\n",
       "        text-align: right;\n",
       "    }\n",
       "</style>\n",
       "<table border=\"1\" class=\"dataframe\">\n",
       "  <thead>\n",
       "    <tr style=\"text-align: right;\">\n",
       "      <th></th>\n",
       "      <th>C1</th>\n",
       "      <th>C2</th>\n",
       "      <th>C3</th>\n",
       "      <th>C4</th>\n",
       "    </tr>\n",
       "  </thead>\n",
       "  <tbody>\n",
       "    <tr>\n",
       "      <th>2019-11-01</th>\n",
       "      <td>NaN</td>\n",
       "      <td>NaN</td>\n",
       "      <td>NaN</td>\n",
       "      <td>NaN</td>\n",
       "    </tr>\n",
       "    <tr>\n",
       "      <th>2019-11-08</th>\n",
       "      <td>NaN</td>\n",
       "      <td>NaN</td>\n",
       "      <td>NaN</td>\n",
       "      <td>NaN</td>\n",
       "    </tr>\n",
       "    <tr>\n",
       "      <th>2019-11-15</th>\n",
       "      <td>NaN</td>\n",
       "      <td>NaN</td>\n",
       "      <td>NaN</td>\n",
       "      <td>NaN</td>\n",
       "    </tr>\n",
       "    <tr>\n",
       "      <th>2019-11-22</th>\n",
       "      <td>NaN</td>\n",
       "      <td>NaN</td>\n",
       "      <td>NaN</td>\n",
       "      <td>NaN</td>\n",
       "    </tr>\n",
       "    <tr>\n",
       "      <th>2019-11-29</th>\n",
       "      <td>NaN</td>\n",
       "      <td>NaN</td>\n",
       "      <td>NaN</td>\n",
       "      <td>NaN</td>\n",
       "    </tr>\n",
       "    <tr>\n",
       "      <th>2019-12-06</th>\n",
       "      <td>NaN</td>\n",
       "      <td>NaN</td>\n",
       "      <td>NaN</td>\n",
       "      <td>NaN</td>\n",
       "    </tr>\n",
       "    <tr>\n",
       "      <th>2019-12-13</th>\n",
       "      <td>NaN</td>\n",
       "      <td>NaN</td>\n",
       "      <td>NaN</td>\n",
       "      <td>NaN</td>\n",
       "    </tr>\n",
       "    <tr>\n",
       "      <th>2019-12-20</th>\n",
       "      <td>NaN</td>\n",
       "      <td>NaN</td>\n",
       "      <td>NaN</td>\n",
       "      <td>NaN</td>\n",
       "    </tr>\n",
       "    <tr>\n",
       "      <th>2019-12-27</th>\n",
       "      <td>NaN</td>\n",
       "      <td>NaN</td>\n",
       "      <td>NaN</td>\n",
       "      <td>NaN</td>\n",
       "    </tr>\n",
       "    <tr>\n",
       "      <th>2020-01-03</th>\n",
       "      <td>NaN</td>\n",
       "      <td>NaN</td>\n",
       "      <td>NaN</td>\n",
       "      <td>NaN</td>\n",
       "    </tr>\n",
       "    <tr>\n",
       "      <th>2020-01-10</th>\n",
       "      <td>NaN</td>\n",
       "      <td>NaN</td>\n",
       "      <td>NaN</td>\n",
       "      <td>NaN</td>\n",
       "    </tr>\n",
       "    <tr>\n",
       "      <th>2020-01-17</th>\n",
       "      <td>NaN</td>\n",
       "      <td>NaN</td>\n",
       "      <td>NaN</td>\n",
       "      <td>NaN</td>\n",
       "    </tr>\n",
       "    <tr>\n",
       "      <th>2020-01-24</th>\n",
       "      <td>NaN</td>\n",
       "      <td>NaN</td>\n",
       "      <td>NaN</td>\n",
       "      <td>NaN</td>\n",
       "    </tr>\n",
       "    <tr>\n",
       "      <th>2020-01-31</th>\n",
       "      <td>-0.040667</td>\n",
       "      <td>2.605468</td>\n",
       "      <td>-0.777648</td>\n",
       "      <td>0.460740</td>\n",
       "    </tr>\n",
       "    <tr>\n",
       "      <th>2020-02-07</th>\n",
       "      <td>NaN</td>\n",
       "      <td>NaN</td>\n",
       "      <td>NaN</td>\n",
       "      <td>NaN</td>\n",
       "    </tr>\n",
       "    <tr>\n",
       "      <th>2020-02-14</th>\n",
       "      <td>NaN</td>\n",
       "      <td>NaN</td>\n",
       "      <td>NaN</td>\n",
       "      <td>NaN</td>\n",
       "    </tr>\n",
       "    <tr>\n",
       "      <th>2020-02-21</th>\n",
       "      <td>NaN</td>\n",
       "      <td>NaN</td>\n",
       "      <td>NaN</td>\n",
       "      <td>NaN</td>\n",
       "    </tr>\n",
       "    <tr>\n",
       "      <th>2020-02-28</th>\n",
       "      <td>NaN</td>\n",
       "      <td>NaN</td>\n",
       "      <td>NaN</td>\n",
       "      <td>NaN</td>\n",
       "    </tr>\n",
       "    <tr>\n",
       "      <th>2020-03-06</th>\n",
       "      <td>NaN</td>\n",
       "      <td>NaN</td>\n",
       "      <td>NaN</td>\n",
       "      <td>NaN</td>\n",
       "    </tr>\n",
       "    <tr>\n",
       "      <th>2020-03-13</th>\n",
       "      <td>NaN</td>\n",
       "      <td>NaN</td>\n",
       "      <td>NaN</td>\n",
       "      <td>NaN</td>\n",
       "    </tr>\n",
       "    <tr>\n",
       "      <th>2020-03-20</th>\n",
       "      <td>NaN</td>\n",
       "      <td>NaN</td>\n",
       "      <td>NaN</td>\n",
       "      <td>NaN</td>\n",
       "    </tr>\n",
       "    <tr>\n",
       "      <th>2020-03-27</th>\n",
       "      <td>NaN</td>\n",
       "      <td>NaN</td>\n",
       "      <td>NaN</td>\n",
       "      <td>NaN</td>\n",
       "    </tr>\n",
       "    <tr>\n",
       "      <th>2020-04-03</th>\n",
       "      <td>NaN</td>\n",
       "      <td>NaN</td>\n",
       "      <td>NaN</td>\n",
       "      <td>NaN</td>\n",
       "    </tr>\n",
       "    <tr>\n",
       "      <th>2020-04-10</th>\n",
       "      <td>NaN</td>\n",
       "      <td>NaN</td>\n",
       "      <td>NaN</td>\n",
       "      <td>NaN</td>\n",
       "    </tr>\n",
       "    <tr>\n",
       "      <th>2020-04-17</th>\n",
       "      <td>NaN</td>\n",
       "      <td>NaN</td>\n",
       "      <td>NaN</td>\n",
       "      <td>NaN</td>\n",
       "    </tr>\n",
       "    <tr>\n",
       "      <th>2020-04-24</th>\n",
       "      <td>NaN</td>\n",
       "      <td>NaN</td>\n",
       "      <td>NaN</td>\n",
       "      <td>NaN</td>\n",
       "    </tr>\n",
       "    <tr>\n",
       "      <th>2020-05-01</th>\n",
       "      <td>NaN</td>\n",
       "      <td>NaN</td>\n",
       "      <td>NaN</td>\n",
       "      <td>NaN</td>\n",
       "    </tr>\n",
       "    <tr>\n",
       "      <th>2020-05-08</th>\n",
       "      <td>NaN</td>\n",
       "      <td>NaN</td>\n",
       "      <td>NaN</td>\n",
       "      <td>NaN</td>\n",
       "    </tr>\n",
       "    <tr>\n",
       "      <th>2020-05-15</th>\n",
       "      <td>NaN</td>\n",
       "      <td>NaN</td>\n",
       "      <td>NaN</td>\n",
       "      <td>NaN</td>\n",
       "    </tr>\n",
       "    <tr>\n",
       "      <th>2020-05-22</th>\n",
       "      <td>NaN</td>\n",
       "      <td>NaN</td>\n",
       "      <td>NaN</td>\n",
       "      <td>NaN</td>\n",
       "    </tr>\n",
       "    <tr>\n",
       "      <th>2020-05-29</th>\n",
       "      <td>NaN</td>\n",
       "      <td>NaN</td>\n",
       "      <td>NaN</td>\n",
       "      <td>NaN</td>\n",
       "    </tr>\n",
       "    <tr>\n",
       "      <th>2020-06-05</th>\n",
       "      <td>NaN</td>\n",
       "      <td>NaN</td>\n",
       "      <td>NaN</td>\n",
       "      <td>NaN</td>\n",
       "    </tr>\n",
       "    <tr>\n",
       "      <th>2020-06-12</th>\n",
       "      <td>NaN</td>\n",
       "      <td>NaN</td>\n",
       "      <td>NaN</td>\n",
       "      <td>NaN</td>\n",
       "    </tr>\n",
       "    <tr>\n",
       "      <th>2020-06-19</th>\n",
       "      <td>NaN</td>\n",
       "      <td>NaN</td>\n",
       "      <td>NaN</td>\n",
       "      <td>NaN</td>\n",
       "    </tr>\n",
       "    <tr>\n",
       "      <th>2020-06-26</th>\n",
       "      <td>NaN</td>\n",
       "      <td>NaN</td>\n",
       "      <td>NaN</td>\n",
       "      <td>NaN</td>\n",
       "    </tr>\n",
       "    <tr>\n",
       "      <th>2020-07-03</th>\n",
       "      <td>NaN</td>\n",
       "      <td>NaN</td>\n",
       "      <td>NaN</td>\n",
       "      <td>NaN</td>\n",
       "    </tr>\n",
       "    <tr>\n",
       "      <th>2020-07-10</th>\n",
       "      <td>NaN</td>\n",
       "      <td>NaN</td>\n",
       "      <td>NaN</td>\n",
       "      <td>NaN</td>\n",
       "    </tr>\n",
       "    <tr>\n",
       "      <th>2020-07-17</th>\n",
       "      <td>NaN</td>\n",
       "      <td>NaN</td>\n",
       "      <td>NaN</td>\n",
       "      <td>NaN</td>\n",
       "    </tr>\n",
       "    <tr>\n",
       "      <th>2020-07-24</th>\n",
       "      <td>NaN</td>\n",
       "      <td>NaN</td>\n",
       "      <td>NaN</td>\n",
       "      <td>NaN</td>\n",
       "    </tr>\n",
       "    <tr>\n",
       "      <th>2020-07-31</th>\n",
       "      <td>-0.560826</td>\n",
       "      <td>-0.055732</td>\n",
       "      <td>-0.659389</td>\n",
       "      <td>0.141019</td>\n",
       "    </tr>\n",
       "  </tbody>\n",
       "</table>\n",
       "</div>"
      ],
      "text/plain": [
       "                  C1        C2        C3        C4\n",
       "2019-11-01       NaN       NaN       NaN       NaN\n",
       "2019-11-08       NaN       NaN       NaN       NaN\n",
       "2019-11-15       NaN       NaN       NaN       NaN\n",
       "2019-11-22       NaN       NaN       NaN       NaN\n",
       "2019-11-29       NaN       NaN       NaN       NaN\n",
       "2019-12-06       NaN       NaN       NaN       NaN\n",
       "2019-12-13       NaN       NaN       NaN       NaN\n",
       "2019-12-20       NaN       NaN       NaN       NaN\n",
       "2019-12-27       NaN       NaN       NaN       NaN\n",
       "2020-01-03       NaN       NaN       NaN       NaN\n",
       "2020-01-10       NaN       NaN       NaN       NaN\n",
       "2020-01-17       NaN       NaN       NaN       NaN\n",
       "2020-01-24       NaN       NaN       NaN       NaN\n",
       "2020-01-31 -0.040667  2.605468 -0.777648  0.460740\n",
       "2020-02-07       NaN       NaN       NaN       NaN\n",
       "2020-02-14       NaN       NaN       NaN       NaN\n",
       "2020-02-21       NaN       NaN       NaN       NaN\n",
       "2020-02-28       NaN       NaN       NaN       NaN\n",
       "2020-03-06       NaN       NaN       NaN       NaN\n",
       "2020-03-13       NaN       NaN       NaN       NaN\n",
       "2020-03-20       NaN       NaN       NaN       NaN\n",
       "2020-03-27       NaN       NaN       NaN       NaN\n",
       "2020-04-03       NaN       NaN       NaN       NaN\n",
       "2020-04-10       NaN       NaN       NaN       NaN\n",
       "2020-04-17       NaN       NaN       NaN       NaN\n",
       "2020-04-24       NaN       NaN       NaN       NaN\n",
       "2020-05-01       NaN       NaN       NaN       NaN\n",
       "2020-05-08       NaN       NaN       NaN       NaN\n",
       "2020-05-15       NaN       NaN       NaN       NaN\n",
       "2020-05-22       NaN       NaN       NaN       NaN\n",
       "2020-05-29       NaN       NaN       NaN       NaN\n",
       "2020-06-05       NaN       NaN       NaN       NaN\n",
       "2020-06-12       NaN       NaN       NaN       NaN\n",
       "2020-06-19       NaN       NaN       NaN       NaN\n",
       "2020-06-26       NaN       NaN       NaN       NaN\n",
       "2020-07-03       NaN       NaN       NaN       NaN\n",
       "2020-07-10       NaN       NaN       NaN       NaN\n",
       "2020-07-17       NaN       NaN       NaN       NaN\n",
       "2020-07-24       NaN       NaN       NaN       NaN\n",
       "2020-07-31 -0.560826 -0.055732 -0.659389  0.141019"
      ]
     },
     "execution_count": 148,
     "metadata": {},
     "output_type": "execute_result"
    }
   ],
   "source": [
    "df.resample('W-FRI').asfreq()"
   ]
  },
  {
   "cell_type": "code",
   "execution_count": 149,
   "id": "f9c26084",
   "metadata": {},
   "outputs": [
    {
     "data": {
      "text/html": [
       "<div>\n",
       "<style scoped>\n",
       "    .dataframe tbody tr th:only-of-type {\n",
       "        vertical-align: middle;\n",
       "    }\n",
       "\n",
       "    .dataframe tbody tr th {\n",
       "        vertical-align: top;\n",
       "    }\n",
       "\n",
       "    .dataframe thead th {\n",
       "        text-align: right;\n",
       "    }\n",
       "</style>\n",
       "<table border=\"1\" class=\"dataframe\">\n",
       "  <thead>\n",
       "    <tr style=\"text-align: right;\">\n",
       "      <th></th>\n",
       "      <th>C1</th>\n",
       "      <th>C2</th>\n",
       "      <th>C3</th>\n",
       "      <th>C4</th>\n",
       "    </tr>\n",
       "  </thead>\n",
       "  <tbody>\n",
       "    <tr>\n",
       "      <th>2019-10-31 00:00:00</th>\n",
       "      <td>-0.648955</td>\n",
       "      <td>1.739272</td>\n",
       "      <td>1.004685</td>\n",
       "      <td>1.021410</td>\n",
       "    </tr>\n",
       "    <tr>\n",
       "      <th>2019-10-31 01:00:00</th>\n",
       "      <td>NaN</td>\n",
       "      <td>NaN</td>\n",
       "      <td>NaN</td>\n",
       "      <td>NaN</td>\n",
       "    </tr>\n",
       "    <tr>\n",
       "      <th>2019-10-31 02:00:00</th>\n",
       "      <td>NaN</td>\n",
       "      <td>NaN</td>\n",
       "      <td>NaN</td>\n",
       "      <td>NaN</td>\n",
       "    </tr>\n",
       "    <tr>\n",
       "      <th>2019-10-31 03:00:00</th>\n",
       "      <td>NaN</td>\n",
       "      <td>NaN</td>\n",
       "      <td>NaN</td>\n",
       "      <td>NaN</td>\n",
       "    </tr>\n",
       "    <tr>\n",
       "      <th>2019-10-31 04:00:00</th>\n",
       "      <td>NaN</td>\n",
       "      <td>NaN</td>\n",
       "      <td>NaN</td>\n",
       "      <td>NaN</td>\n",
       "    </tr>\n",
       "    <tr>\n",
       "      <th>...</th>\n",
       "      <td>...</td>\n",
       "      <td>...</td>\n",
       "      <td>...</td>\n",
       "      <td>...</td>\n",
       "    </tr>\n",
       "    <tr>\n",
       "      <th>2020-07-30 20:00:00</th>\n",
       "      <td>NaN</td>\n",
       "      <td>NaN</td>\n",
       "      <td>NaN</td>\n",
       "      <td>NaN</td>\n",
       "    </tr>\n",
       "    <tr>\n",
       "      <th>2020-07-30 21:00:00</th>\n",
       "      <td>NaN</td>\n",
       "      <td>NaN</td>\n",
       "      <td>NaN</td>\n",
       "      <td>NaN</td>\n",
       "    </tr>\n",
       "    <tr>\n",
       "      <th>2020-07-30 22:00:00</th>\n",
       "      <td>NaN</td>\n",
       "      <td>NaN</td>\n",
       "      <td>NaN</td>\n",
       "      <td>NaN</td>\n",
       "    </tr>\n",
       "    <tr>\n",
       "      <th>2020-07-30 23:00:00</th>\n",
       "      <td>NaN</td>\n",
       "      <td>NaN</td>\n",
       "      <td>NaN</td>\n",
       "      <td>NaN</td>\n",
       "    </tr>\n",
       "    <tr>\n",
       "      <th>2020-07-31 00:00:00</th>\n",
       "      <td>-0.560826</td>\n",
       "      <td>-0.055732</td>\n",
       "      <td>-0.659389</td>\n",
       "      <td>0.141019</td>\n",
       "    </tr>\n",
       "  </tbody>\n",
       "</table>\n",
       "<p>6577 rows × 4 columns</p>\n",
       "</div>"
      ],
      "text/plain": [
       "                           C1        C2        C3        C4\n",
       "2019-10-31 00:00:00 -0.648955  1.739272  1.004685  1.021410\n",
       "2019-10-31 01:00:00       NaN       NaN       NaN       NaN\n",
       "2019-10-31 02:00:00       NaN       NaN       NaN       NaN\n",
       "2019-10-31 03:00:00       NaN       NaN       NaN       NaN\n",
       "2019-10-31 04:00:00       NaN       NaN       NaN       NaN\n",
       "...                       ...       ...       ...       ...\n",
       "2020-07-30 20:00:00       NaN       NaN       NaN       NaN\n",
       "2020-07-30 21:00:00       NaN       NaN       NaN       NaN\n",
       "2020-07-30 22:00:00       NaN       NaN       NaN       NaN\n",
       "2020-07-30 23:00:00       NaN       NaN       NaN       NaN\n",
       "2020-07-31 00:00:00 -0.560826 -0.055732 -0.659389  0.141019\n",
       "\n",
       "[6577 rows x 4 columns]"
      ]
     },
     "execution_count": 149,
     "metadata": {},
     "output_type": "execute_result"
    }
   ],
   "source": [
    "df.resample('H').asfreq()"
   ]
  },
  {
   "cell_type": "code",
   "execution_count": null,
   "id": "381d1ac5",
   "metadata": {},
   "outputs": [],
   "source": []
  },
  {
   "cell_type": "code",
   "execution_count": null,
   "id": "4f382583",
   "metadata": {},
   "outputs": [],
   "source": []
  },
  {
   "cell_type": "code",
   "execution_count": null,
   "id": "9c75ab12",
   "metadata": {},
   "outputs": [],
   "source": []
  },
  {
   "cell_type": "code",
   "execution_count": null,
   "id": "cfe61f2d",
   "metadata": {},
   "outputs": [],
   "source": []
  },
  {
   "cell_type": "code",
   "execution_count": null,
   "id": "a1b4dd42",
   "metadata": {},
   "outputs": [],
   "source": []
  },
  {
   "cell_type": "code",
   "execution_count": null,
   "id": "ab7b4ff7",
   "metadata": {},
   "outputs": [],
   "source": []
  },
  {
   "cell_type": "code",
   "execution_count": null,
   "id": "3e9ab74c",
   "metadata": {},
   "outputs": [],
   "source": []
  },
  {
   "cell_type": "code",
   "execution_count": null,
   "id": "f2a8c873",
   "metadata": {},
   "outputs": [],
   "source": []
  },
  {
   "cell_type": "code",
   "execution_count": null,
   "id": "7fba9c3b",
   "metadata": {},
   "outputs": [],
   "source": []
  },
  {
   "cell_type": "code",
   "execution_count": null,
   "id": "01059adf",
   "metadata": {},
   "outputs": [],
   "source": []
  },
  {
   "cell_type": "code",
   "execution_count": null,
   "id": "cd1e6f60",
   "metadata": {},
   "outputs": [],
   "source": []
  },
  {
   "cell_type": "code",
   "execution_count": null,
   "id": "0d099e6a",
   "metadata": {},
   "outputs": [],
   "source": []
  },
  {
   "cell_type": "code",
   "execution_count": null,
   "id": "1f8ffd50",
   "metadata": {},
   "outputs": [],
   "source": []
  },
  {
   "cell_type": "code",
   "execution_count": null,
   "id": "12ed6609",
   "metadata": {},
   "outputs": [],
   "source": []
  },
  {
   "cell_type": "code",
   "execution_count": null,
   "id": "31d16a26",
   "metadata": {},
   "outputs": [],
   "source": []
  },
  {
   "cell_type": "code",
   "execution_count": null,
   "id": "7093ec85",
   "metadata": {},
   "outputs": [],
   "source": []
  },
  {
   "cell_type": "code",
   "execution_count": null,
   "id": "62a2230e",
   "metadata": {},
   "outputs": [],
   "source": []
  },
  {
   "cell_type": "code",
   "execution_count": null,
   "id": "f9471756",
   "metadata": {},
   "outputs": [],
   "source": []
  },
  {
   "cell_type": "code",
   "execution_count": null,
   "id": "0506a420",
   "metadata": {},
   "outputs": [],
   "source": []
  },
  {
   "cell_type": "code",
   "execution_count": null,
   "id": "9e379777",
   "metadata": {},
   "outputs": [],
   "source": []
  },
  {
   "cell_type": "code",
   "execution_count": null,
   "id": "4af86ff0",
   "metadata": {},
   "outputs": [],
   "source": []
  },
  {
   "cell_type": "code",
   "execution_count": null,
   "id": "f2c591fc",
   "metadata": {},
   "outputs": [],
   "source": []
  },
  {
   "cell_type": "code",
   "execution_count": null,
   "id": "18178160",
   "metadata": {},
   "outputs": [],
   "source": []
  },
  {
   "cell_type": "markdown",
   "id": "74c363b8",
   "metadata": {},
   "source": [
    "> 인용구 안에\n",
    ">> **마크다운 문법을 활용 할 수도 있고,** 이렇게 $y=3^x$ 수학기호를 쓸 수도 있다.<br>\n",
    ">> 허허 신기하구만<br><br>\n",
    ">> 'br' 태그로 줄바꿈 가능하다\n",
    ">>> 이렇게해도 되나?<br><br><br>\n",
    ">> 'br' 태그 두번쓰면 두 줄 떨어짐"
   ]
  },
  {
   "cell_type": "markdown",
   "id": "4eb9f053",
   "metadata": {},
   "source": [
    "Fomula\n",
    "$$\\sqrt[3]{x^3+y^3 \\over 2}$$"
   ]
  },
  {
   "cell_type": "code",
   "execution_count": null,
   "id": "29d916f2",
   "metadata": {},
   "outputs": [],
   "source": []
  },
  {
   "cell_type": "code",
   "execution_count": null,
   "id": "b9bc4719",
   "metadata": {},
   "outputs": [],
   "source": []
  },
  {
   "cell_type": "code",
   "execution_count": null,
   "id": "c41bdc34",
   "metadata": {},
   "outputs": [],
   "source": []
  },
  {
   "cell_type": "code",
   "execution_count": null,
   "id": "10f7c452",
   "metadata": {},
   "outputs": [],
   "source": []
  },
  {
   "cell_type": "code",
   "execution_count": null,
   "id": "cb7fe028",
   "metadata": {},
   "outputs": [],
   "source": []
  },
  {
   "cell_type": "code",
   "execution_count": null,
   "id": "fe9080cc",
   "metadata": {},
   "outputs": [],
   "source": []
  },
  {
   "cell_type": "code",
   "execution_count": null,
   "id": "c9951f29",
   "metadata": {},
   "outputs": [],
   "source": []
  },
  {
   "cell_type": "code",
   "execution_count": null,
   "id": "703a79d0",
   "metadata": {},
   "outputs": [],
   "source": []
  },
  {
   "cell_type": "code",
   "execution_count": null,
   "id": "d30a2c89",
   "metadata": {},
   "outputs": [],
   "source": []
  },
  {
   "cell_type": "code",
   "execution_count": null,
   "id": "d4006af9",
   "metadata": {},
   "outputs": [],
   "source": []
  },
  {
   "cell_type": "code",
   "execution_count": null,
   "id": "edcfba07",
   "metadata": {},
   "outputs": [],
   "source": []
  },
  {
   "cell_type": "code",
   "execution_count": null,
   "id": "bcb52173",
   "metadata": {},
   "outputs": [],
   "source": []
  },
  {
   "cell_type": "code",
   "execution_count": null,
   "id": "7b5364e1",
   "metadata": {},
   "outputs": [],
   "source": []
  },
  {
   "cell_type": "code",
   "execution_count": null,
   "id": "27869ee2",
   "metadata": {},
   "outputs": [],
   "source": []
  },
  {
   "cell_type": "code",
   "execution_count": null,
   "id": "5135f5e4",
   "metadata": {},
   "outputs": [],
   "source": []
  },
  {
   "cell_type": "code",
   "execution_count": null,
   "id": "2669c53d",
   "metadata": {},
   "outputs": [],
   "source": []
  },
  {
   "cell_type": "code",
   "execution_count": null,
   "id": "1a0e8a6e",
   "metadata": {},
   "outputs": [],
   "source": []
  },
  {
   "cell_type": "code",
   "execution_count": null,
   "id": "e1f06518",
   "metadata": {},
   "outputs": [],
   "source": []
  },
  {
   "cell_type": "code",
   "execution_count": null,
   "id": "e4ce17cf",
   "metadata": {},
   "outputs": [],
   "source": []
  },
  {
   "cell_type": "code",
   "execution_count": null,
   "id": "cc94a090",
   "metadata": {},
   "outputs": [],
   "source": []
  },
  {
   "cell_type": "code",
   "execution_count": null,
   "id": "56b880b6",
   "metadata": {},
   "outputs": [],
   "source": []
  },
  {
   "cell_type": "code",
   "execution_count": null,
   "id": "1d3ffc19",
   "metadata": {},
   "outputs": [],
   "source": []
  },
  {
   "cell_type": "code",
   "execution_count": null,
   "id": "7c2c1d51",
   "metadata": {},
   "outputs": [],
   "source": []
  },
  {
   "cell_type": "code",
   "execution_count": null,
   "id": "e8101666",
   "metadata": {},
   "outputs": [],
   "source": []
  },
  {
   "cell_type": "code",
   "execution_count": null,
   "id": "7de2d9a5",
   "metadata": {},
   "outputs": [],
   "source": []
  },
  {
   "cell_type": "code",
   "execution_count": null,
   "id": "cd146267",
   "metadata": {},
   "outputs": [],
   "source": []
  },
  {
   "cell_type": "code",
   "execution_count": null,
   "id": "703b9a88",
   "metadata": {},
   "outputs": [],
   "source": []
  },
  {
   "cell_type": "code",
   "execution_count": null,
   "id": "23e55efb",
   "metadata": {},
   "outputs": [],
   "source": []
  },
  {
   "cell_type": "code",
   "execution_count": null,
   "id": "46d6a6a7",
   "metadata": {},
   "outputs": [],
   "source": []
  },
  {
   "cell_type": "code",
   "execution_count": null,
   "id": "c18efdf8",
   "metadata": {},
   "outputs": [],
   "source": []
  },
  {
   "cell_type": "code",
   "execution_count": null,
   "id": "76f06003",
   "metadata": {},
   "outputs": [],
   "source": []
  },
  {
   "cell_type": "code",
   "execution_count": null,
   "id": "59f6fcea",
   "metadata": {},
   "outputs": [],
   "source": []
  },
  {
   "cell_type": "code",
   "execution_count": null,
   "id": "ed0e37d7",
   "metadata": {},
   "outputs": [],
   "source": []
  },
  {
   "cell_type": "code",
   "execution_count": null,
   "id": "79789df7",
   "metadata": {},
   "outputs": [],
   "source": []
  },
  {
   "cell_type": "code",
   "execution_count": null,
   "id": "4f428998",
   "metadata": {},
   "outputs": [],
   "source": []
  },
  {
   "cell_type": "code",
   "execution_count": null,
   "id": "5a5310ce",
   "metadata": {},
   "outputs": [],
   "source": []
  },
  {
   "cell_type": "code",
   "execution_count": null,
   "id": "f1327051",
   "metadata": {},
   "outputs": [],
   "source": []
  },
  {
   "cell_type": "code",
   "execution_count": null,
   "id": "16a5e7cb",
   "metadata": {},
   "outputs": [],
   "source": []
  },
  {
   "cell_type": "code",
   "execution_count": null,
   "id": "43b0e269",
   "metadata": {},
   "outputs": [],
   "source": []
  },
  {
   "cell_type": "code",
   "execution_count": null,
   "id": "6a308c21",
   "metadata": {},
   "outputs": [],
   "source": []
  },
  {
   "cell_type": "code",
   "execution_count": null,
   "id": "72ffb5d6",
   "metadata": {},
   "outputs": [],
   "source": []
  },
  {
   "cell_type": "code",
   "execution_count": null,
   "id": "5d8e4d2d",
   "metadata": {},
   "outputs": [],
   "source": []
  },
  {
   "cell_type": "code",
   "execution_count": null,
   "id": "5313708b",
   "metadata": {},
   "outputs": [],
   "source": []
  },
  {
   "cell_type": "code",
   "execution_count": null,
   "id": "75457866",
   "metadata": {},
   "outputs": [],
   "source": []
  },
  {
   "cell_type": "code",
   "execution_count": null,
   "id": "cfa1d458",
   "metadata": {},
   "outputs": [],
   "source": []
  },
  {
   "cell_type": "code",
   "execution_count": null,
   "id": "20659d9d",
   "metadata": {},
   "outputs": [],
   "source": []
  },
  {
   "cell_type": "code",
   "execution_count": null,
   "id": "f3f7514d",
   "metadata": {},
   "outputs": [],
   "source": []
  },
  {
   "cell_type": "code",
   "execution_count": null,
   "id": "10c8227f",
   "metadata": {},
   "outputs": [],
   "source": []
  },
  {
   "cell_type": "code",
   "execution_count": null,
   "id": "1459e644",
   "metadata": {},
   "outputs": [],
   "source": []
  },
  {
   "cell_type": "code",
   "execution_count": null,
   "id": "47a06fa7",
   "metadata": {},
   "outputs": [],
   "source": []
  },
  {
   "cell_type": "code",
   "execution_count": null,
   "id": "67afc7f9",
   "metadata": {},
   "outputs": [],
   "source": []
  },
  {
   "cell_type": "code",
   "execution_count": null,
   "id": "43a61ccd",
   "metadata": {},
   "outputs": [],
   "source": []
  },
  {
   "cell_type": "code",
   "execution_count": null,
   "id": "7ccfe3c1",
   "metadata": {},
   "outputs": [],
   "source": []
  },
  {
   "cell_type": "code",
   "execution_count": null,
   "id": "2f22fd6a",
   "metadata": {},
   "outputs": [],
   "source": []
  }
 ],
 "metadata": {
  "kernelspec": {
   "display_name": "Python 3",
   "language": "python",
   "name": "python3"
  },
  "language_info": {
   "codemirror_mode": {
    "name": "ipython",
    "version": 3
   },
   "file_extension": ".py",
   "mimetype": "text/x-python",
   "name": "python",
   "nbconvert_exporter": "python",
   "pygments_lexer": "ipython3",
   "version": "3.8.8"
  }
 },
 "nbformat": 4,
 "nbformat_minor": 5
}
