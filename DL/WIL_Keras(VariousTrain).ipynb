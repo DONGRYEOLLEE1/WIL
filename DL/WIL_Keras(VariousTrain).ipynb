{
 "cells": [
  {
   "cell_type": "markdown",
   "id": "82c818cb",
   "metadata": {},
   "source": [
    "# 케라스 다양한 학습 기술\n",
    "\n",
    "- 과대적합, 과소적합을 막기 위한 방법들\n",
    "  - 모델의 크기 축소\n",
    "  \n",
    "  - 초기화\n",
    "\n",
    "  - 옵티마이저\n",
    "\n",
    "  - 배치 정규화\n",
    "\n",
    "  - 규제화"
   ]
  },
  {
   "cell_type": "markdown",
   "id": "6825d569",
   "metadata": {},
   "source": [
    "### 모델의 크기 축소\n",
    "- 가장 단순한 방법\n",
    "\n",
    "- 모델의 크기를 줄인다는 것은 **학습 파라미터의 수를 줄이는 것**"
   ]
  },
  {
   "cell_type": "markdown",
   "id": "d9751a73",
   "metadata": {},
   "source": [
    "#### 데이터 준비\n",
    "- 설명을 위한 코드"
   ]
  },
  {
   "cell_type": "code",
   "execution_count": 3,
   "id": "7bb56279",
   "metadata": {},
   "outputs": [],
   "source": [
    "from tensorflow.keras.datasets import imdb\n",
    "import numpy as np\n",
    "\n",
    "(train_data, train_labels), (test_data, test_labels) = imdb.load_data(num_words = 10000)\n",
    "\n",
    "def vectorize_seq(seqs, dim = 10000):\n",
    "    results = np.zeros((len(seqs), dim))\n",
    "    for i , seq in enumerate(seqs):\n",
    "        results[i, seq] = 1.\n",
    "        \n",
    "    return results\n",
    "\n",
    "x_train = vectorize_seq(train_data)\n",
    "x_test = vectorize_seq(test_data)\n",
    "\n",
    "y_train = np.asarray(train_labels).astype('float32')\n",
    "y_test = np.asarray(test_labels).astype('float32')"
   ]
  },
  {
   "cell_type": "markdown",
   "id": "dc77700f",
   "metadata": {},
   "source": [
    "#### 2가지의 모델 설정"
   ]
  },
  {
   "cell_type": "code",
   "execution_count": 4,
   "id": "d9406a30",
   "metadata": {},
   "outputs": [],
   "source": [
    "import tensorflow as tf\n",
    "from tensorflow.keras.models import Sequential\n",
    "from tensorflow.keras.layers import Dense"
   ]
  },
  {
   "cell_type": "code",
   "execution_count": 5,
   "id": "e9bd2ba4",
   "metadata": {},
   "outputs": [],
   "source": [
    "model_1 = Sequential([Dense(16, activation = 'relu', input_shape = (10000, ), name = 'input'),\n",
    "                     Dense(16, activation = 'relu', name = 'hidden'),\n",
    "                     Dense(1, activation = 'sigmoid', name = 'output')])"
   ]
  },
  {
   "cell_type": "code",
   "execution_count": 6,
   "id": "bdb785eb",
   "metadata": {},
   "outputs": [
    {
     "name": "stdout",
     "output_type": "stream",
     "text": [
      "Model: \"sequential\"\n",
      "_________________________________________________________________\n",
      "Layer (type)                 Output Shape              Param #   \n",
      "=================================================================\n",
      "input (Dense)                (None, 16)                160016    \n",
      "_________________________________________________________________\n",
      "hidden (Dense)               (None, 16)                272       \n",
      "_________________________________________________________________\n",
      "output (Dense)               (None, 1)                 17        \n",
      "=================================================================\n",
      "Total params: 160,305\n",
      "Trainable params: 160,305\n",
      "Non-trainable params: 0\n",
      "_________________________________________________________________\n"
     ]
    }
   ],
   "source": [
    "model_1.summary()"
   ]
  },
  {
   "cell_type": "code",
   "execution_count": 7,
   "id": "eb95900b",
   "metadata": {},
   "outputs": [],
   "source": [
    "model_2 = Sequential([Dense(7, activation = 'relu', input_shape = (10000, ), name = 'input2'),\n",
    "                     Dense(7, activation = 'relu', name = 'hidden2'),\n",
    "                     Dense(1, activation = 'sigmoid', name = 'output2')])"
   ]
  },
  {
   "cell_type": "code",
   "execution_count": 8,
   "id": "3557cee6",
   "metadata": {},
   "outputs": [
    {
     "name": "stdout",
     "output_type": "stream",
     "text": [
      "Model: \"sequential_1\"\n",
      "_________________________________________________________________\n",
      "Layer (type)                 Output Shape              Param #   \n",
      "=================================================================\n",
      "input2 (Dense)               (None, 7)                 70007     \n",
      "_________________________________________________________________\n",
      "hidden2 (Dense)              (None, 7)                 56        \n",
      "_________________________________________________________________\n",
      "output2 (Dense)              (None, 1)                 8         \n",
      "=================================================================\n",
      "Total params: 70,071\n",
      "Trainable params: 70,071\n",
      "Non-trainable params: 0\n",
      "_________________________________________________________________\n"
     ]
    }
   ],
   "source": [
    "model_2.summary()"
   ]
  },
  {
   "cell_type": "code",
   "execution_count": 9,
   "id": "f5f5be59",
   "metadata": {},
   "outputs": [],
   "source": [
    "# 컴파일\n",
    "## 차이는 모델의 크기가 다르다! (Trainable params의 수가 다르다)\n",
    "model_1.compile(optimizer = 'rmsprop',\n",
    "               loss = 'binary_crossentropy',\n",
    "               metrics = ['acc'])\n",
    "\n",
    "model_2.compile(optimizer = 'rmsprop',\n",
    "               loss = 'binary_crossentropy',\n",
    "               metrics = ['acc'])"
   ]
  },
  {
   "cell_type": "markdown",
   "id": "4cc6c1a3",
   "metadata": {},
   "source": [
    "#### 2개의 모델 학습"
   ]
  },
  {
   "cell_type": "code",
   "execution_count": 10,
   "id": "23c540d1",
   "metadata": {
    "scrolled": true
   },
   "outputs": [
    {
     "name": "stdout",
     "output_type": "stream",
     "text": [
      "Epoch 1/20\n",
      "49/49 [==============================] - 3s 41ms/step - loss: 0.4522 - acc: 0.8213 - val_loss: 0.3448 - val_acc: 0.8740\n",
      "Epoch 2/20\n",
      "49/49 [==============================] - 1s 19ms/step - loss: 0.2618 - acc: 0.9097 - val_loss: 0.2985 - val_acc: 0.8804\n",
      "Epoch 3/20\n",
      "49/49 [==============================] - 1s 19ms/step - loss: 0.2029 - acc: 0.9283 - val_loss: 0.2802 - val_acc: 0.8877\n",
      "Epoch 4/20\n",
      "49/49 [==============================] - 1s 19ms/step - loss: 0.1689 - acc: 0.9406 - val_loss: 0.2906 - val_acc: 0.8843\n",
      "Epoch 5/20\n",
      "49/49 [==============================] - 1s 19ms/step - loss: 0.1464 - acc: 0.9494 - val_loss: 0.3174 - val_acc: 0.8782\n",
      "Epoch 6/20\n",
      "49/49 [==============================] - 1s 20ms/step - loss: 0.1283 - acc: 0.9555 - val_loss: 0.3288 - val_acc: 0.8762\n",
      "Epoch 7/20\n",
      "49/49 [==============================] - 1s 19ms/step - loss: 0.1163 - acc: 0.9604 - val_loss: 0.3505 - val_acc: 0.8734\n",
      "Epoch 8/20\n",
      "49/49 [==============================] - 1s 19ms/step - loss: 0.1004 - acc: 0.9668 - val_loss: 0.3788 - val_acc: 0.8707\n",
      "Epoch 9/20\n",
      "49/49 [==============================] - 1s 19ms/step - loss: 0.0898 - acc: 0.9703 - val_loss: 0.4257 - val_acc: 0.8604\n",
      "Epoch 10/20\n",
      "49/49 [==============================] - 1s 19ms/step - loss: 0.0815 - acc: 0.9730 - val_loss: 0.4377 - val_acc: 0.8616\n",
      "Epoch 11/20\n",
      "49/49 [==============================] - 1s 19ms/step - loss: 0.0709 - acc: 0.9780 - val_loss: 0.4699 - val_acc: 0.8609\n",
      "Epoch 12/20\n",
      "49/49 [==============================] - 1s 20ms/step - loss: 0.0627 - acc: 0.9806 - val_loss: 0.4969 - val_acc: 0.8589\n",
      "Epoch 13/20\n",
      "49/49 [==============================] - 1s 20ms/step - loss: 0.0545 - acc: 0.9838 - val_loss: 0.5457 - val_acc: 0.8557\n",
      "Epoch 14/20\n",
      "49/49 [==============================] - 1s 18ms/step - loss: 0.0476 - acc: 0.9864 - val_loss: 0.5630 - val_acc: 0.8559\n",
      "Epoch 15/20\n",
      "49/49 [==============================] - 1s 19ms/step - loss: 0.0434 - acc: 0.9870 - val_loss: 0.6163 - val_acc: 0.8527\n",
      "Epoch 16/20\n",
      "49/49 [==============================] - 1s 19ms/step - loss: 0.0351 - acc: 0.9909 - val_loss: 0.6623 - val_acc: 0.8483\n",
      "Epoch 17/20\n",
      "49/49 [==============================] - 1s 19ms/step - loss: 0.0333 - acc: 0.9902 - val_loss: 0.6977 - val_acc: 0.8469\n",
      "Epoch 18/20\n",
      "49/49 [==============================] - 1s 19ms/step - loss: 0.0280 - acc: 0.9926 - val_loss: 0.7011 - val_acc: 0.8498\n",
      "Epoch 19/20\n",
      "49/49 [==============================] - 1s 19ms/step - loss: 0.0237 - acc: 0.9938 - val_loss: 0.7353 - val_acc: 0.8498\n",
      "Epoch 20/20\n",
      "49/49 [==============================] - 1s 19ms/step - loss: 0.0200 - acc: 0.9955 - val_loss: 0.7884 - val_acc: 0.8481\n"
     ]
    }
   ],
   "source": [
    "model_1_hist = model_1.fit(x_train, y_train, epochs = 20, batch_size = 512,\n",
    "                           validation_data = (x_test, y_test))"
   ]
  },
  {
   "cell_type": "code",
   "execution_count": 11,
   "id": "4f3c9bf9",
   "metadata": {
    "scrolled": true
   },
   "outputs": [
    {
     "name": "stdout",
     "output_type": "stream",
     "text": [
      "Epoch 1/20\n",
      "49/49 [==============================] - 2s 39ms/step - loss: 0.0191 - acc: 0.9946 - val_loss: 0.8105 - val_acc: 0.8492\n",
      "Epoch 2/20\n",
      "49/49 [==============================] - 1s 21ms/step - loss: 0.0117 - acc: 0.9979 - val_loss: 0.8953 - val_acc: 0.8437\n",
      "Epoch 3/20\n",
      "49/49 [==============================] - 1s 19ms/step - loss: 0.0117 - acc: 0.9980 - val_loss: 0.8990 - val_acc: 0.8468\n",
      "Epoch 4/20\n",
      "49/49 [==============================] - 1s 20ms/step - loss: 0.0120 - acc: 0.9970 - val_loss: 0.9464 - val_acc: 0.8442\n",
      "Epoch 5/20\n",
      "49/49 [==============================] - 1s 19ms/step - loss: 0.0101 - acc: 0.9976 - val_loss: 0.9791 - val_acc: 0.8439\n",
      "Epoch 6/20\n",
      "49/49 [==============================] - 1s 19ms/step - loss: 0.0090 - acc: 0.9976 - val_loss: 1.0129 - val_acc: 0.8445\n",
      "Epoch 7/20\n",
      "49/49 [==============================] - 1s 19ms/step - loss: 0.0069 - acc: 0.9987 - val_loss: 1.0507 - val_acc: 0.8439\n",
      "Epoch 8/20\n",
      "49/49 [==============================] - 1s 20ms/step - loss: 0.0067 - acc: 0.9981 - val_loss: 1.0847 - val_acc: 0.8434\n",
      "Epoch 9/20\n",
      "49/49 [==============================] - 1s 19ms/step - loss: 0.0056 - acc: 0.9987 - val_loss: 1.2916 - val_acc: 0.8296\n",
      "Epoch 10/20\n",
      "49/49 [==============================] - 1s 20ms/step - loss: 0.0023 - acc: 0.9998 - val_loss: 1.1673 - val_acc: 0.8402\n",
      "Epoch 11/20\n",
      "49/49 [==============================] - 1s 20ms/step - loss: 0.0047 - acc: 0.9988 - val_loss: 1.2050 - val_acc: 0.8399\n",
      "Epoch 12/20\n",
      "49/49 [==============================] - 1s 19ms/step - loss: 0.0029 - acc: 0.9993 - val_loss: 1.2382 - val_acc: 0.8418\n",
      "Epoch 13/20\n",
      "49/49 [==============================] - 1s 19ms/step - loss: 0.0048 - acc: 0.9987 - val_loss: 1.2698 - val_acc: 0.8404\n",
      "Epoch 14/20\n",
      "49/49 [==============================] - 1s 21ms/step - loss: 8.8060e-04 - acc: 1.0000 - val_loss: 1.4975 - val_acc: 0.8256\n",
      "Epoch 15/20\n",
      "49/49 [==============================] - 1s 20ms/step - loss: 0.0036 - acc: 0.9989 - val_loss: 1.3175 - val_acc: 0.8414\n",
      "Epoch 16/20\n",
      "49/49 [==============================] - 1s 20ms/step - loss: 0.0026 - acc: 0.9994 - val_loss: 1.3557 - val_acc: 0.8409\n",
      "Epoch 17/20\n",
      "49/49 [==============================] - 1s 19ms/step - loss: 0.0045 - acc: 0.9984 - val_loss: 1.3983 - val_acc: 0.8409\n",
      "Epoch 18/20\n",
      "49/49 [==============================] - 1s 19ms/step - loss: 3.7745e-04 - acc: 1.0000 - val_loss: 1.4204 - val_acc: 0.8404\n",
      "Epoch 19/20\n",
      "49/49 [==============================] - 1s 20ms/step - loss: 0.0040 - acc: 0.9989 - val_loss: 1.4668 - val_acc: 0.8397\n",
      "Epoch 20/20\n",
      "49/49 [==============================] - 1s 19ms/step - loss: 2.4985e-04 - acc: 1.0000 - val_loss: 1.4933 - val_acc: 0.8388\n"
     ]
    }
   ],
   "source": [
    "model_2_hist = model_1.fit(x_train, y_train, epochs = 20, batch_size = 512,\n",
    "                           validation_data = (x_test, y_test))"
   ]
  },
  {
   "cell_type": "markdown",
   "id": "8bd813b9",
   "metadata": {},
   "source": [
    "#### 비교"
   ]
  },
  {
   "cell_type": "code",
   "execution_count": 12,
   "id": "3deb01ca",
   "metadata": {},
   "outputs": [],
   "source": [
    "epochs = range(1, 21)\n",
    "model_1_val_loss = model_1_hist.history['val_loss']\n",
    "model_2_val_loss = model_2_hist.history['val_loss']"
   ]
  },
  {
   "cell_type": "code",
   "execution_count": 13,
   "id": "288b9129",
   "metadata": {},
   "outputs": [],
   "source": [
    "import matplotlib.pyplot as plt\n",
    "plt.style.use('seaborn-white')"
   ]
  },
  {
   "cell_type": "markdown",
   "id": "0d7c1d93",
   "metadata": {},
   "source": [
    "model_2 (더 작은 모델)이 '조금 더 나중에' 과대적합 발생"
   ]
  },
  {
   "cell_type": "code",
   "execution_count": 14,
   "id": "10d78773",
   "metadata": {},
   "outputs": [
    {
     "data": {
      "image/png": "[encoded data removed]",
      "text/plain": [
       "<Figure size 432x288 with 1 Axes>"
      ]
     },
     "metadata": {},
     "output_type": "display_data"
    }
   ],
   "source": [
    "plt.plot(epochs, model_1_val_loss, 'r+', label = 'Model 1')\n",
    "plt.plot(epochs, model_2_val_loss, 'bo', label = 'Model 2')\n",
    "plt.xlabel('Epochs')\n",
    "plt.ylabel('Validation Loss')\n",
    "plt.legend()\n",
    "plt.grid()\n",
    "\n",
    "plt.show()"
   ]
  },
  {
   "cell_type": "markdown",
   "id": "a431ef17",
   "metadata": {},
   "source": [
    "### 모델의 크기 축소 (2)"
   ]
  },
  {
   "cell_type": "markdown",
   "id": "c7d1633b",
   "metadata": {},
   "source": [
    "#### 모델 구성"
   ]
  },
  {
   "cell_type": "code",
   "execution_count": 15,
   "id": "2fc3e734",
   "metadata": {},
   "outputs": [
    {
     "name": "stdout",
     "output_type": "stream",
     "text": [
      "Model: \"sequential_2\"\n",
      "_________________________________________________________________\n",
      "Layer (type)                 Output Shape              Param #   \n",
      "=================================================================\n",
      "input3 (Dense)               (None, 1024)              10241024  \n",
      "_________________________________________________________________\n",
      "hidden3 (Dense)              (None, 1024)              1049600   \n",
      "_________________________________________________________________\n",
      "output3 (Dense)              (None, 1)                 1025      \n",
      "=================================================================\n",
      "Total params: 11,291,649\n",
      "Trainable params: 11,291,649\n",
      "Non-trainable params: 0\n",
      "_________________________________________________________________\n"
     ]
    }
   ],
   "source": [
    "model_3 = Sequential([Dense(1024, activation = 'relu', input_shape = (10000, ), name = 'input3'),\n",
    "                     Dense(1024, activation = 'relu', name = 'hidden3'),\n",
    "                     Dense(1, activation = 'sigmoid', name = 'output3')])\n",
    "\n",
    "model_3.compile(optimizer = 'rmsprop',\n",
    "               loss = 'binary_crossentropy',\n",
    "               metrics = ['acc'])\n",
    "\n",
    "model_3.summary()"
   ]
  },
  {
   "cell_type": "markdown",
   "id": "69d2a1e7",
   "metadata": {},
   "source": [
    "#### 모델 학습\n",
    "- 시간 소요"
   ]
  },
  {
   "cell_type": "code",
   "execution_count": 16,
   "id": "6c72d690",
   "metadata": {
    "scrolled": true
   },
   "outputs": [
    {
     "name": "stdout",
     "output_type": "stream",
     "text": [
      "Epoch 1/20\n",
      "49/49 [==============================] - 3s 46ms/step - loss: 0.5203 - acc: 0.7850 - val_loss: 0.3066 - val_acc: 0.8870\n",
      "Epoch 2/20\n",
      "49/49 [==============================] - 1s 27ms/step - loss: 0.2232 - acc: 0.9130 - val_loss: 0.2790 - val_acc: 0.8849\n",
      "Epoch 3/20\n",
      "49/49 [==============================] - 1s 27ms/step - loss: 0.1272 - acc: 0.9549 - val_loss: 0.6244 - val_acc: 0.8076\n",
      "Epoch 4/20\n",
      "49/49 [==============================] - 1s 26ms/step - loss: 0.0609 - acc: 0.9814 - val_loss: 0.4528 - val_acc: 0.8820\n",
      "Epoch 5/20\n",
      "49/49 [==============================] - 1s 26ms/step - loss: 0.1156 - acc: 0.9870 - val_loss: 0.5050 - val_acc: 0.8813\n",
      "Epoch 6/20\n",
      "49/49 [==============================] - 1s 27ms/step - loss: 5.4951e-04 - acc: 1.0000 - val_loss: 0.7188 - val_acc: 0.8806\n",
      "Epoch 7/20\n",
      "49/49 [==============================] - 1s 27ms/step - loss: 4.1899e-05 - acc: 1.0000 - val_loss: 0.8898 - val_acc: 0.8815\n",
      "Epoch 8/20\n",
      "49/49 [==============================] - 1s 27ms/step - loss: 3.1830e-06 - acc: 1.0000 - val_loss: 1.0357 - val_acc: 0.8826\n",
      "Epoch 9/20\n",
      "49/49 [==============================] - 1s 27ms/step - loss: 4.0278e-07 - acc: 1.0000 - val_loss: 1.1664 - val_acc: 0.8824\n",
      "Epoch 10/20\n",
      "49/49 [==============================] - 1s 27ms/step - loss: 7.1938e-08 - acc: 1.0000 - val_loss: 1.2858 - val_acc: 0.8820\n",
      "Epoch 11/20\n",
      "49/49 [==============================] - 1s 28ms/step - loss: 2.3720e-08 - acc: 1.0000 - val_loss: 1.3515 - val_acc: 0.8822\n",
      "Epoch 12/20\n",
      "49/49 [==============================] - 1s 28ms/step - loss: 1.2822e-08 - acc: 1.0000 - val_loss: 1.3877 - val_acc: 0.8820\n",
      "Epoch 13/20\n",
      "49/49 [==============================] - 1s 26ms/step - loss: 8.7587e-09 - acc: 1.0000 - val_loss: 1.4131 - val_acc: 0.8821\n",
      "Epoch 14/20\n",
      "49/49 [==============================] - 1s 26ms/step - loss: 6.6783e-09 - acc: 1.0000 - val_loss: 1.4332 - val_acc: 0.8820\n",
      "Epoch 15/20\n",
      "49/49 [==============================] - 1s 28ms/step - loss: 5.4144e-09 - acc: 1.0000 - val_loss: 1.4481 - val_acc: 0.8819\n",
      "Epoch 16/20\n",
      "49/49 [==============================] - 1s 27ms/step - loss: 4.5703e-09 - acc: 1.0000 - val_loss: 1.4595 - val_acc: 0.8820\n",
      "Epoch 17/20\n",
      "49/49 [==============================] - 1s 26ms/step - loss: 3.9582e-09 - acc: 1.0000 - val_loss: 1.4707 - val_acc: 0.8819\n",
      "Epoch 18/20\n",
      "49/49 [==============================] - 1s 27ms/step - loss: 3.4986e-09 - acc: 1.0000 - val_loss: 1.4787 - val_acc: 0.8819\n",
      "Epoch 19/20\n",
      "49/49 [==============================] - 1s 27ms/step - loss: 3.1298e-09 - acc: 1.0000 - val_loss: 1.4890 - val_acc: 0.8816\n",
      "Epoch 20/20\n",
      "49/49 [==============================] - 1s 27ms/step - loss: 2.8624e-09 - acc: 1.0000 - val_loss: 1.4951 - val_acc: 0.8816\n"
     ]
    }
   ],
   "source": [
    "model_3_hist = model_3.fit(x_train, y_train, epochs = 20, batch_size = 512,\n",
    "                           validation_data = (x_test, y_test))"
   ]
  },
  {
   "cell_type": "markdown",
   "id": "95948141",
   "metadata": {},
   "source": [
    "#### 시각화"
   ]
  },
  {
   "cell_type": "code",
   "execution_count": 19,
   "id": "1137fe20",
   "metadata": {},
   "outputs": [],
   "source": [
    "model_3_val_loss = model_3_hist.history['val_loss']"
   ]
  },
  {
   "cell_type": "code",
   "execution_count": 20,
   "id": "c9886dfe",
   "metadata": {},
   "outputs": [
    {
     "data": {
      "image/png": "[encoded data removed]",
      "text/plain": [
       "<Figure size 432x288 with 1 Axes>"
      ]
     },
     "metadata": {},
     "output_type": "display_data"
    }
   ],
   "source": [
    "plt.plot(epochs, model_1_val_loss, 'r+', label = 'Model 1')\n",
    "plt.plot(epochs, model_2_val_loss, 'bo', label = 'Model 2')\n",
    "plt.plot(epochs, model_3_val_loss, 'g--', label = 'Model 2')\n",
    "\n",
    "plt.xlabel('Epochs')\n",
    "plt.ylabel('Validation Loss')\n",
    "plt.legend()\n",
    "plt.grid()\n",
    "\n",
    "plt.show()"
   ]
  },
  {
   "cell_type": "markdown",
   "id": "efad78fc",
   "metadata": {},
   "source": [
    "* 볼륨이 큰 신경망일수록 빠르게 훈련데이터 모델링 가능(학습 손실이 낮아짐)\n",
    "* 과대 적합에는 더욱 민감해짐\n",
    "* 이는 학습-검증 데이터의 손실을 보면 알 수 있음"
   ]
  },
  {
   "cell_type": "code",
   "execution_count": 21,
   "id": "fa2c3363",
   "metadata": {},
   "outputs": [
    {
     "data": {
      "image/png": "[encoded data removed]",
      "text/plain": [
       "<Figure size 432x288 with 1 Axes>"
      ]
     },
     "metadata": {},
     "output_type": "display_data"
    }
   ],
   "source": [
    "model_1_train_loss = model_1_hist.history['loss']\n",
    "model_2_train_loss = model_2_hist.history['loss']\n",
    "model_3_train_loss = model_3_hist.history['loss']\n",
    "\n",
    "\n",
    "plt.plot(epochs, model_1_train_loss, 'r+', label = 'Model 1')\n",
    "plt.plot(epochs, model_2_train_loss, 'bo', label = 'Model 2')\n",
    "plt.plot(epochs, model_3_train_loss, 'g--', label = 'Model 2')\n",
    "\n",
    "plt.xlabel('Epochs')\n",
    "plt.ylabel('Training Loss')\n",
    "plt.legend()\n",
    "plt.grid()\n",
    "\n",
    "plt.show()"
   ]
  },
  {
   "cell_type": "markdown",
   "id": "94bb988f",
   "metadata": {},
   "source": [
    "### 가중치 초기화\n"
   ]
  },
  {
   "cell_type": "markdown",
   "id": "e0fff20f",
   "metadata": {},
   "source": [
    "#### 초기화 전략\n",
    "\n",
    "- Glorot Initialization (Xavier)\n",
    "  - 활성화 함수  \n",
    "    - 없음\n",
    "    - tanh\n",
    "    - sigmoid\n",
    "    - softmax\n",
    "\n",
    "- He Initialization \n",
    "  - 활성화 함수  \n",
    "    - ReLU\n",
    "    - LeakyReLU\n",
    "    - ELU 등\n",
    "\n",
    "    "
   ]
  },
  {
   "cell_type": "code",
   "execution_count": 22,
   "id": "cda012bb",
   "metadata": {},
   "outputs": [],
   "source": [
    "from tensorflow.keras.layers import Dense, LeakyReLU, Activation\n",
    "from tensorflow.keras.models import Sequential"
   ]
  },
  {
   "cell_type": "code",
   "execution_count": 23,
   "id": "c5cb687a",
   "metadata": {},
   "outputs": [
    {
     "name": "stdout",
     "output_type": "stream",
     "text": [
      "Model: \"sequential_3\"\n",
      "_________________________________________________________________\n",
      "Layer (type)                 Output Shape              Param #   \n",
      "=================================================================\n",
      "dense (Dense)                (None, 10, 30)            330       \n",
      "_________________________________________________________________\n",
      "leaky_re_lu (LeakyReLU)      (None, 10, 30)            0         \n",
      "_________________________________________________________________\n",
      "dense_1 (Dense)              (None, 10, 1)             31        \n",
      "_________________________________________________________________\n",
      "activation (Activation)      (None, 10, 1)             0         \n",
      "=================================================================\n",
      "Total params: 361\n",
      "Trainable params: 361\n",
      "Non-trainable params: 0\n",
      "_________________________________________________________________\n"
     ]
    }
   ],
   "source": [
    "model = Sequential([Dense(30, kernel_initializer = 'he_normal', input_shape = [10, 10]),\n",
    "                         LeakyReLU(alpha = 0.2),\n",
    "                         Dense(1, kernel_initializer = 'he_normal'),\n",
    "                         Activation('softmax')])\n",
    "\n",
    "model.summary()"
   ]
  },
  {
   "cell_type": "markdown",
   "id": "7f13637a",
   "metadata": {},
   "source": [
    "### 고속 옵티마이저"
   ]
  },
  {
   "cell_type": "markdown",
   "id": "15d3fe78",
   "metadata": {},
   "source": [
    "#### 모멘텀 최적화\n",
    "\n",
    "$\n",
    "\\qquad v \\ \\leftarrow \\ \\alpha \\ v - \\gamma \\ \\frac{\\partial L}{\\partial W} \\\\\n",
    "\\qquad W \\ \\leftarrow \\ W \\ + \\ v\n",
    "$\n",
    "\n",
    "  - $\\alpha\\ $ : 관성계수 \n",
    "\n",
    "  - $v$ :  속도\n",
    "\n",
    "  - $\\gamma\\ $ : 학습률\n",
    "\n",
    "  - $\\frac{\\partial L}{\\partial W}\\ $ : 손실함수에 대한 미분"
   ]
  },
  {
   "cell_type": "code",
   "execution_count": null,
   "id": "87a7c4aa",
   "metadata": {},
   "outputs": [],
   "source": []
  },
  {
   "cell_type": "code",
   "execution_count": null,
   "id": "a8af2940",
   "metadata": {},
   "outputs": [],
   "source": []
  },
  {
   "cell_type": "markdown",
   "id": "706c27b2",
   "metadata": {},
   "source": [
    "#### 네스테로프 (Nesterov)\n",
    "\n",
    "- 모멘텀의 방향으로 조금 앞선 곳에서 손실함수의 그라디언트를 구함\n",
    "\n",
    "- 시간이 지날수록 조금 더 빨리 최솟값에 도달\n",
    "\n",
    "$\n",
    "\\qquad m \\ \\leftarrow \\  \\beta m - \\eta \\bigtriangledown_\\theta J(\\theta + \\beta m) \\\\\n",
    "\\qquad \\theta \\ \\leftarrow \\ \\theta \\ + m\n",
    "$\n",
    "\n",
    "\n",
    "  - $h\\ $ : 기존 기울기를 제곱하여 더한 값\n",
    "\n",
    "  - $\\eta\\ $ : 학습률\n",
    "\n",
    "  - $\\bigtriangledown_\\theta J(\\theta) \\ $ : $\\theta$에 대한 미분(그라디언트)\n",
    "\n",
    "  <img src=\"https://t1.daumcdn.net/cfile/tistory/99D91C455C76428D11\">\n",
    "\n",
    "  <sub>출처: CS231n</sub>"
   ]
  },
  {
   "cell_type": "code",
   "execution_count": null,
   "id": "f1b15e7f",
   "metadata": {},
   "outputs": [],
   "source": []
  },
  {
   "cell_type": "code",
   "execution_count": null,
   "id": "89c78d86",
   "metadata": {},
   "outputs": [],
   "source": []
  },
  {
   "cell_type": "markdown",
   "id": "f3b1c1e5",
   "metadata": {},
   "source": [
    "#### AdaGrad\n",
    "\n",
    "- 보통 간단한 모델에는 효과 좋을 수는 있으나, 심층 신경망 모델에서는 사용 X\n",
    "\n",
    "$\n",
    "\\qquad h \\ \\leftarrow \\  h + \\frac{\\partial L}{\\partial W} \\odot \\frac{\\partial L}{\\partial W} \\\\\n",
    "\\qquad W \\ \\leftarrow \\ W \\ + \\gamma \\frac{1}{\\sqrt h} \\ \\frac{\\partial L}{\\partial W}\n",
    "$\n",
    "\n",
    "  - $h\\ $ : 기존 기울기를 제곱하여 더한 값\n",
    "\n",
    "  - $\\gamma\\ $ : 학습률\n",
    "\n",
    "  - $\\frac{\\partial L}{\\partial W}\\ $ : $W$에 대한 미분\n"
   ]
  },
  {
   "cell_type": "code",
   "execution_count": null,
   "id": "e50a2093",
   "metadata": {},
   "outputs": [],
   "source": []
  },
  {
   "cell_type": "code",
   "execution_count": null,
   "id": "d787a8be",
   "metadata": {},
   "outputs": [],
   "source": []
  },
  {
   "cell_type": "markdown",
   "id": "5e25f35d",
   "metadata": {},
   "source": [
    "#### RMSProp\n",
    "\n",
    "\n",
    "$\n",
    "\\qquad s \\ \\leftarrow \\ \\beta \\ s + (1 - \\beta) \\bigtriangledown_{\\theta} J(\\theta) \\otimes \\bigtriangledown_{\\theta} J(\\theta) \\\\\n",
    "\\qquad \\theta \\ \\leftarrow \\ \\theta \\ - \\eta  \\ \\bigtriangledown_{\\theta} J(\\theta) \\oslash \\sqrt{s + \\epsilon}\n",
    "$\n",
    "\n",
    "  - $s \\ $ : 그래디언트의 제곱을 감쇠율을 곱한 후 더함\n",
    "\n",
    "  - $\\eta\\ $ : 학습률\n",
    "\n",
    "  - $\\bigtriangledown_{\\theta} J(\\theta) \\ $ : 손실함수의 미분값\n",
    "\n",
    "\n",
    "  "
   ]
  },
  {
   "cell_type": "code",
   "execution_count": null,
   "id": "794a68b2",
   "metadata": {},
   "outputs": [],
   "source": []
  },
  {
   "cell_type": "code",
   "execution_count": null,
   "id": "a93070f8",
   "metadata": {},
   "outputs": [],
   "source": []
  },
  {
   "cell_type": "markdown",
   "id": "8e734c39",
   "metadata": {},
   "source": [
    "#### Adam\n",
    "\n",
    "$\n",
    "\\qquad m \\ \\leftarrow \\  \\beta_1 \\ m - (1 - \\beta_1)\\ \\frac{\\partial L}{\\partial W}  \\\\\n",
    "\\qquad s \\ \\leftarrow \\ \\beta_2 \\ s + (1 - \\beta_2) \\frac{\\partial L}{\\partial W} \\odot \\frac{\\partial L}{\\partial W} \\\\\n",
    "\\qquad \\hat{m} \\ \\leftarrow \\frac{m}{1 - \\beta_1^t} \\\\\n",
    "\\qquad \\hat{s} \\ \\leftarrow \\frac{s}{1 - \\beta_2^t} \\\\\n",
    "\\qquad W \\ \\leftarrow \\ W \\ + \\gamma \\ \\hat{m}\\  \\oslash \\sqrt{\\hat{s} + \\epsilon}\n",
    "$\n",
    "\n",
    "  - $\\beta\\ $ : 지수 평균의 업데이트 계수\n",
    "\n",
    "  - $\\gamma\\ $ : 학습률\n",
    "\n",
    "  - $\\beta_1 \\approx 0.9\\ ,\\ \\ \\beta_2 \\approx 0.999$\n",
    "\n",
    "  - $\\frac{\\partial L}{\\partial W}\\ $ : $W$에 대한 미분"
   ]
  },
  {
   "cell_type": "code",
   "execution_count": null,
   "id": "1c59e696",
   "metadata": {},
   "outputs": [],
   "source": []
  },
  {
   "cell_type": "code",
   "execution_count": null,
   "id": "26edae2f",
   "metadata": {},
   "outputs": [],
   "source": []
  },
  {
   "cell_type": "markdown",
   "id": "3a72e655",
   "metadata": {},
   "source": [
    "### 배치 정규화\n",
    "- 모델에 주입되는 샘플들을 균일하게 만드는 방법\n",
    "\n",
    "- 학습 후 새로운 데이터에 잘 일반화 할 수 있도록 도와줌\n",
    "\n",
    "- 데이터 전처리 단계에서 진행해도 되지만 정규화가 되어서 layer에 들어갔다는 보장이 없음\n",
    "\n",
    "- 주로 **Dense** 또는 **Conv2D** Layer 후, **활성화 함수**이전에 놓임\n"
   ]
  },
  {
   "cell_type": "code",
   "execution_count": null,
   "id": "fe74aa0d",
   "metadata": {},
   "outputs": [],
   "source": []
  },
  {
   "cell_type": "code",
   "execution_count": null,
   "id": "040ced20",
   "metadata": {},
   "outputs": [],
   "source": []
  },
  {
   "cell_type": "code",
   "execution_count": null,
   "id": "2963ebe1",
   "metadata": {},
   "outputs": [],
   "source": []
  },
  {
   "cell_type": "markdown",
   "id": "12c29e33",
   "metadata": {},
   "source": [
    "### 규제화\n",
    "- 복잡한 네트워크 일수록 네트워크의 복잡도에 제한을 두어  \n",
    "  가중치가 작은 값을 가지도록 함\n",
    "\n",
    "- 가중치의 분포가 더 균일하게 됨\n",
    "\n",
    "- 네트워크 손실함수에 큰 가중치에 연관된 비용을 추가\n",
    "  - L1 규제 : 가중치의 절댓값에 비례하는 비용이 추가\n",
    "  - L2 규제 : 가중치의 제곱에 비례하는 비용이 추가(흔히 가중치 감쇠라고도 불림)\n",
    "  - 위 2규제가 합쳐진 경우도 존재"
   ]
  },
  {
   "cell_type": "markdown",
   "id": "47b86eb9",
   "metadata": {},
   "source": [
    "데이터는 **모델의 크기** 파트에서 사용된 imdb dataset"
   ]
  },
  {
   "cell_type": "code",
   "execution_count": null,
   "id": "a8e29b97",
   "metadata": {},
   "outputs": [],
   "source": []
  },
  {
   "cell_type": "markdown",
   "id": "b6de26cb",
   "metadata": {},
   "source": [
    "#### 모델 구성"
   ]
  },
  {
   "cell_type": "code",
   "execution_count": null,
   "id": "ad590564",
   "metadata": {},
   "outputs": [],
   "source": []
  },
  {
   "cell_type": "markdown",
   "id": "20f5922e",
   "metadata": {},
   "source": [
    "#### 모델 학습"
   ]
  },
  {
   "cell_type": "code",
   "execution_count": null,
   "id": "0cb48943",
   "metadata": {},
   "outputs": [],
   "source": []
  },
  {
   "cell_type": "markdown",
   "id": "084491d3",
   "metadata": {},
   "source": [
    "#### 시각화\n",
    "- Model 1은 **모델의 크기 축소**파트에서의 모델"
   ]
  },
  {
   "cell_type": "code",
   "execution_count": null,
   "id": "22449d43",
   "metadata": {},
   "outputs": [],
   "source": []
  },
  {
   "cell_type": "markdown",
   "id": "e79e5e86",
   "metadata": {},
   "source": [
    "#### L1과 비교"
   ]
  },
  {
   "cell_type": "code",
   "execution_count": null,
   "id": "53d972a9",
   "metadata": {},
   "outputs": [],
   "source": []
  },
  {
   "cell_type": "code",
   "execution_count": null,
   "id": "f214e733",
   "metadata": {},
   "outputs": [],
   "source": []
  },
  {
   "cell_type": "code",
   "execution_count": null,
   "id": "a4697a78",
   "metadata": {},
   "outputs": [],
   "source": []
  },
  {
   "cell_type": "markdown",
   "id": "9fbb7f1f",
   "metadata": {},
   "source": [
    "3가지 모델 비교\n",
    "- Original\n",
    "- L1\n",
    "- L2"
   ]
  },
  {
   "cell_type": "code",
   "execution_count": null,
   "id": "34ef8b73",
   "metadata": {},
   "outputs": [],
   "source": []
  },
  {
   "cell_type": "markdown",
   "id": "4276cdd2",
   "metadata": {},
   "source": [
    "#### L1, L2와 비교"
   ]
  },
  {
   "cell_type": "code",
   "execution_count": null,
   "id": "2b9a11ea",
   "metadata": {},
   "outputs": [],
   "source": []
  },
  {
   "cell_type": "code",
   "execution_count": null,
   "id": "12d844d8",
   "metadata": {},
   "outputs": [],
   "source": []
  },
  {
   "cell_type": "code",
   "execution_count": null,
   "id": "f6195cbc",
   "metadata": {},
   "outputs": [],
   "source": []
  },
  {
   "cell_type": "markdown",
   "id": "da18a2ad",
   "metadata": {},
   "source": [
    "4가지 모델 비교\n",
    "- Original\n",
    "\n",
    "- L1\n",
    "\n",
    "- L2\n",
    "\n",
    "- L1_L2"
   ]
  },
  {
   "cell_type": "code",
   "execution_count": null,
   "id": "fe5bd000",
   "metadata": {},
   "outputs": [],
   "source": []
  },
  {
   "cell_type": "markdown",
   "id": "a88637c6",
   "metadata": {},
   "source": [
    "### 드롭아웃(Dropout)\n",
    "- 신경망을 위해 사용되는 규제 기법 중 가장 효과적이고 널리 사용되는 방법\n",
    "\n",
    "- 신경망의 레이어에 드롭아웃을 적용하면 훈련하는 동안 무작위로 층의 일부 특성(노드)를 제외\n",
    "  - 예를 들어, [1.0, 3.2, 0.6, 0.8, 1.1] 라는 벡터에 대해 드롭아웃을 적용하면 **무작위로 0으로 바뀜**  \n",
    "    $\\rightarrow$ [0, 3.2, 0.6, 0.8, 0]\n",
    "\n",
    "  - 보통 0.2 ~ 0.5 사이의 비율로 지정됨\n",
    "\n",
    "- 테스트 단계에서는 그 어떤 노드도 드롭아웃 되지 않는다.\n",
    "  - 대신 해당 레이어의 출력 노드를 드롭아웃 비율에 맞게 줄여줌"
   ]
  },
  {
   "cell_type": "code",
   "execution_count": null,
   "id": "cfc4112c",
   "metadata": {},
   "outputs": [],
   "source": []
  },
  {
   "cell_type": "markdown",
   "id": "07133006",
   "metadata": {},
   "source": [
    "#### 모델 구성"
   ]
  },
  {
   "cell_type": "code",
   "execution_count": null,
   "id": "fb56e448",
   "metadata": {},
   "outputs": [],
   "source": []
  },
  {
   "cell_type": "markdown",
   "id": "700b598b",
   "metadata": {},
   "source": [
    "#### 모델 학습"
   ]
  },
  {
   "cell_type": "code",
   "execution_count": null,
   "id": "a0a85de9",
   "metadata": {},
   "outputs": [],
   "source": []
  },
  {
   "cell_type": "markdown",
   "id": "56d4637a",
   "metadata": {},
   "source": [
    "#### 시각화"
   ]
  },
  {
   "cell_type": "code",
   "execution_count": null,
   "id": "be2487c0",
   "metadata": {},
   "outputs": [],
   "source": []
  }
 ],
 "metadata": {
  "kernelspec": {
   "display_name": "Python 3",
   "language": "python",
   "name": "python3"
  },
  "language_info": {
   "codemirror_mode": {
    "name": "ipython",
    "version": 3
   },
   "file_extension": ".py",
   "mimetype": "text/x-python",
   "name": "python",
   "nbconvert_exporter": "python",
   "pygments_lexer": "ipython3",
   "version": "3.8.8"
  }
 },
 "nbformat": 4,
 "nbformat_minor": 5
}
