{
 "cells": [
  {
   "cell_type": "code",
   "execution_count": 2,
   "id": "150ce553",
   "metadata": {},
   "outputs": [],
   "source": [
    "import numpy as np\n",
    "import tensorflow as tf"
   ]
  },
  {
   "cell_type": "code",
   "execution_count": 3,
   "id": "32399406",
   "metadata": {},
   "outputs": [],
   "source": [
    "learning_rate = 0.001\n",
    "batch_size = 100\n",
    "training_epochs = 15\n",
    "nb_classes = 10\n",
    "\n",
    "mnist = tf.keras.datasets.mnist"
   ]
  },
  {
   "cell_type": "code",
   "execution_count": 5,
   "id": "59055284",
   "metadata": {},
   "outputs": [],
   "source": [
    "(x_train, y_train), (x_test, y_test) = mnist.load_data()\n",
    "\n",
    "# Normalizing data\n",
    "x_train, x_test = x_train / 255.0, x_test / 255.0"
   ]
  },
  {
   "cell_type": "code",
   "execution_count": 6,
   "id": "fd742e74",
   "metadata": {},
   "outputs": [
    {
     "name": "stdout",
     "output_type": "stream",
     "text": [
      "(60000, 28, 28)\n"
     ]
    }
   ],
   "source": [
    "# change data shape\n",
    "print(x_train.shape)   # (60000, 28, 28)\n",
    "x_train = x_train.reshape(x_train.shape[0], x_train.shape[1] * x_train.shape[2])\n",
    "x_test = x_test.reshape(x_test.shape[0], x_test.shape[1] * x_test.shape[2])"
   ]
  },
  {
   "cell_type": "code",
   "execution_count": 7,
   "id": "0d809615",
   "metadata": {},
   "outputs": [],
   "source": [
    "# one-hot encoding \n",
    "y_train = tf.keras.utils.to_categorical(y_train, 10)\n",
    "y_test = tf.keras.utils.to_categorical(y_test, 10)"
   ]
  },
  {
   "cell_type": "code",
   "execution_count": 9,
   "id": "121fe2ad",
   "metadata": {},
   "outputs": [
    {
     "name": "stdout",
     "output_type": "stream",
     "text": [
      "[[0. 0. 0. ... 0. 0. 0.]\n",
      " [1. 0. 0. ... 0. 0. 0.]\n",
      " [0. 0. 0. ... 0. 0. 0.]\n",
      " ...\n",
      " [0. 0. 0. ... 0. 0. 0.]\n",
      " [0. 0. 0. ... 0. 0. 0.]\n",
      " [0. 0. 0. ... 0. 1. 0.]]\n"
     ]
    }
   ],
   "source": [
    "print(y_train)"
   ]
  },
  {
   "cell_type": "code",
   "execution_count": 10,
   "id": "c889383f",
   "metadata": {},
   "outputs": [
    {
     "name": "stdout",
     "output_type": "stream",
     "text": [
      "Model: \"sequential\"\n",
      "_________________________________________________________________\n",
      "Layer (type)                 Output Shape              Param #   \n",
      "=================================================================\n",
      "dense (Dense)                (None, 10)                7850      \n",
      "=================================================================\n",
      "Total params: 7,850\n",
      "Trainable params: 7,850\n",
      "Non-trainable params: 0\n",
      "_________________________________________________________________\n"
     ]
    }
   ],
   "source": [
    "tf.model = tf.keras.Sequential()\n",
    "tf.model.add(tf.keras.layers.Dense(units = 10, input_dim = 784, activation = 'softmax'))\n",
    "tf.model.compile(loss = 'categorical_crossentropy', optimizer = tf.optimizers.Adam(0.001), metrics = ['acc'])\n",
    "tf.model.summary()"
   ]
  },
  {
   "cell_type": "code",
   "execution_count": 11,
   "id": "7e05ba38",
   "metadata": {},
   "outputs": [
    {
     "name": "stdout",
     "output_type": "stream",
     "text": [
      "Epoch 1/15\n",
      "600/600 [==============================] - 3s 2ms/step - loss: 0.6303 - acc: 0.8396\n",
      "Epoch 2/15\n",
      "600/600 [==============================] - 1s 2ms/step - loss: 0.3465 - acc: 0.9047\n",
      "Epoch 3/15\n",
      "600/600 [==============================] - 1s 2ms/step - loss: 0.3098 - acc: 0.9146\n",
      "Epoch 4/15\n",
      "600/600 [==============================] - 1s 2ms/step - loss: 0.2925 - acc: 0.9183\n",
      "Epoch 5/15\n",
      "600/600 [==============================] - 1s 2ms/step - loss: 0.2817 - acc: 0.9215\n",
      "Epoch 6/15\n",
      "600/600 [==============================] - 1s 2ms/step - loss: 0.2747 - acc: 0.9238\n",
      "Epoch 7/15\n",
      "600/600 [==============================] - 1s 2ms/step - loss: 0.2695 - acc: 0.9248\n",
      "Epoch 8/15\n",
      "600/600 [==============================] - 1s 2ms/step - loss: 0.2653 - acc: 0.9262\n",
      "Epoch 9/15\n",
      "600/600 [==============================] - 1s 2ms/step - loss: 0.2621 - acc: 0.9274\n",
      "Epoch 10/15\n",
      "600/600 [==============================] - 1s 2ms/step - loss: 0.2594 - acc: 0.9276\n",
      "Epoch 11/15\n",
      "600/600 [==============================] - 1s 2ms/step - loss: 0.2572 - acc: 0.9288\n",
      "Epoch 12/15\n",
      "600/600 [==============================] - 1s 2ms/step - loss: 0.2545 - acc: 0.9291\n",
      "Epoch 13/15\n",
      "600/600 [==============================] - 1s 2ms/step - loss: 0.2529 - acc: 0.9299\n",
      "Epoch 14/15\n",
      "600/600 [==============================] - 1s 2ms/step - loss: 0.2513 - acc: 0.9306\n",
      "Epoch 15/15\n",
      "600/600 [==============================] - 1s 2ms/step - loss: 0.2499 - acc: 0.9310\n"
     ]
    }
   ],
   "source": [
    "history = tf.model.fit(x_train, y_train, batch_size = batch_size, epochs = training_epochs)"
   ]
  },
  {
   "cell_type": "code",
   "execution_count": 12,
   "id": "7847abb1",
   "metadata": {},
   "outputs": [
    {
     "name": "stdout",
     "output_type": "stream",
     "text": [
      "Prediction: \n",
      " [[2.5661616e-06 1.1851207e-11 1.0390902e-05 ... 9.9407899e-01\n",
      "  1.7217460e-05 3.2290828e-04]\n",
      " [3.0957305e-04 2.9871601e-06 9.9164575e-01 ... 2.6657313e-17\n",
      "  4.7123947e-05 3.0396072e-14]\n",
      " [1.6620110e-06 9.7850251e-01 1.3583730e-02 ... 7.4088154e-04\n",
      "  2.6773778e-03 2.0040605e-04]\n",
      " ...\n",
      " [9.4850900e-09 7.3150690e-09 4.8769662e-06 ... 9.4575289e-04\n",
      "  4.2793844e-03 9.8217111e-03]\n",
      " [1.3982151e-07 2.2415188e-07 1.7643703e-07 ... 7.2381717e-08\n",
      "  4.5731310e-03 7.3949103e-08]\n",
      " [1.1848924e-06 1.7733323e-14 4.6221034e-05 ... 2.4755211e-12\n",
      "  2.8945863e-08 2.0071457e-11]]\n"
     ]
    }
   ],
   "source": [
    "predictions = tf.model.predict(x_test)\n",
    "print('Prediction: \\n', predictions)"
   ]
  },
  {
   "cell_type": "code",
   "execution_count": 13,
   "id": "f1548344",
   "metadata": {},
   "outputs": [
    {
     "data": {
      "text/plain": [
       "array([[0., 0., 0., ..., 0., 0., 0.],\n",
       "       [0., 0., 0., ..., 0., 0., 0.],\n",
       "       [0., 0., 0., ..., 0., 0., 0.],\n",
       "       ...,\n",
       "       [0., 0., 0., ..., 0., 0., 0.],\n",
       "       [0., 0., 0., ..., 0., 0., 0.],\n",
       "       [0., 0., 0., ..., 0., 0., 0.]])"
      ]
     },
     "execution_count": 13,
     "metadata": {},
     "output_type": "execute_result"
    }
   ],
   "source": [
    "x_train"
   ]
  },
  {
   "cell_type": "code",
   "execution_count": 14,
   "id": "cce5c84d",
   "metadata": {},
   "outputs": [
    {
     "name": "stdout",
     "output_type": "stream",
     "text": [
      "1875/1875 [==============================] - 3s 2ms/step - loss: 0.2461 - acc: 0.9322\n",
      "Accuracy: 0.9321500062942505\n"
     ]
    }
   ],
   "source": [
    "score = tf.model.evaluate(x_train, y_train)\n",
    "print('Accuracy: {}'.format(score[1]))"
   ]
  },
  {
   "cell_type": "code",
   "execution_count": null,
   "id": "1c641aeb",
   "metadata": {},
   "outputs": [],
   "source": []
  },
  {
   "cell_type": "code",
   "execution_count": null,
   "id": "5ff4995d",
   "metadata": {},
   "outputs": [],
   "source": []
  },
  {
   "cell_type": "code",
   "execution_count": null,
   "id": "be6db934",
   "metadata": {},
   "outputs": [],
   "source": []
  }
 ],
 "metadata": {
  "kernelspec": {
   "display_name": "Python 3",
   "language": "python",
   "name": "python3"
  },
  "language_info": {
   "codemirror_mode": {
    "name": "ipython",
    "version": 3
   },
   "file_extension": ".py",
   "mimetype": "text/x-python",
   "name": "python",
   "nbconvert_exporter": "python",
   "pygments_lexer": "ipython3",
   "version": "3.8.8"
  }
 },
 "nbformat": 4,
 "nbformat_minor": 5
}
