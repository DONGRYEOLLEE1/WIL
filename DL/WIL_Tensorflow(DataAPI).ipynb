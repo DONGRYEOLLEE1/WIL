{
 "cells": [
  {
   "cell_type": "markdown",
   "id": "be80b7ae",
   "metadata": {},
   "source": [
    "# Data API\n",
    "\n",
    "- `tf.data`: https://www.tensorflow.org/api_docs/python/tf/data\n",
    "- `tf.data.datasets`\n",
    "\n"
   ]
  },
  {
   "cell_type": "markdown",
   "id": "29611350",
   "metadata": {},
   "source": [
    "## tf.data.datasets"
   ]
  },
  {
   "cell_type": "code",
   "execution_count": 2,
   "id": "7c04cbc8",
   "metadata": {
    "collapsed": true
   },
   "outputs": [
    {
     "name": "stdout",
     "output_type": "stream",
     "text": [
      "Requirement already satisfied: tensorflow_datasets in c:\\users\\lee\\anaconda3\\lib\\site-packages (4.4.0)\n",
      "Requirement already satisfied: absl-py in c:\\users\\lee\\anaconda3\\lib\\site-packages (from tensorflow_datasets) (0.12.0)\n",
      "Requirement already satisfied: termcolor in c:\\users\\lee\\anaconda3\\lib\\site-packages (from tensorflow_datasets) (1.1.0)\n",
      "Requirement already satisfied: attrs>=18.1.0 in c:\\users\\lee\\anaconda3\\lib\\site-packages (from tensorflow_datasets) (20.3.0)\n",
      "Requirement already satisfied: six in c:\\users\\lee\\anaconda3\\lib\\site-packages (from tensorflow_datasets) (1.15.0)\n",
      "Requirement already satisfied: promise in c:\\users\\lee\\anaconda3\\lib\\site-packages (from tensorflow_datasets) (2.3)\n",
      "Requirement already satisfied: numpy in c:\\users\\lee\\anaconda3\\lib\\site-packages (from tensorflow_datasets) (1.19.5)\n",
      "Requirement already satisfied: protobuf>=3.12.2 in c:\\users\\lee\\anaconda3\\lib\\site-packages (from tensorflow_datasets) (3.18.0)\n",
      "Requirement already satisfied: tensorflow-metadata in c:\\users\\lee\\anaconda3\\lib\\site-packages (from tensorflow_datasets) (1.2.0)\n",
      "Requirement already satisfied: requests>=2.19.0 in c:\\users\\lee\\anaconda3\\lib\\site-packages (from tensorflow_datasets) (2.25.1)\n",
      "Requirement already satisfied: tqdm in c:\\users\\lee\\anaconda3\\lib\\site-packages (from tensorflow_datasets) (4.59.0)\n",
      "Requirement already satisfied: importlib-resources in c:\\users\\lee\\anaconda3\\lib\\site-packages (from tensorflow_datasets) (5.2.2)\n",
      "Requirement already satisfied: dill in c:\\users\\lee\\anaconda3\\lib\\site-packages (from tensorflow_datasets) (0.3.4)\n",
      "Requirement already satisfied: future in c:\\users\\lee\\anaconda3\\lib\\site-packages (from tensorflow_datasets) (0.18.2)\n",
      "Requirement already satisfied: idna<3,>=2.5 in c:\\users\\lee\\anaconda3\\lib\\site-packages (from requests>=2.19.0->tensorflow_datasets) (2.10)\n",
      "Requirement already satisfied: urllib3<1.27,>=1.21.1 in c:\\users\\lee\\anaconda3\\lib\\site-packages (from requests>=2.19.0->tensorflow_datasets) (1.26.4)\n",
      "Requirement already satisfied: chardet<5,>=3.0.2 in c:\\users\\lee\\anaconda3\\lib\\site-packages (from requests>=2.19.0->tensorflow_datasets) (4.0.0)\n",
      "Requirement already satisfied: certifi>=2017.4.17 in c:\\users\\lee\\anaconda3\\lib\\site-packages (from requests>=2.19.0->tensorflow_datasets) (2020.12.5)\n",
      "Requirement already satisfied: zipp>=3.1.0 in c:\\users\\lee\\anaconda3\\lib\\site-packages (from importlib-resources->tensorflow_datasets) (3.4.1)\n",
      "Requirement already satisfied: googleapis-common-protos<2,>=1.52.0 in c:\\users\\lee\\anaconda3\\lib\\site-packages (from tensorflow-metadata->tensorflow_datasets) (1.53.0)\n"
     ]
    }
   ],
   "source": [
    "#!pip install tensorflow_datasets"
   ]
  },
  {
   "cell_type": "code",
   "execution_count": 1,
   "id": "90ce4699",
   "metadata": {},
   "outputs": [],
   "source": [
    "import tensorflow as tf\n",
    "import tensorflow_datasets as tfds"
   ]
  },
  {
   "cell_type": "code",
   "execution_count": 2,
   "id": "98b52d5b",
   "metadata": {
    "scrolled": true
   },
   "outputs": [
    {
     "name": "stdout",
     "output_type": "stream",
     "text": [
      "['abstract_reasoning', 'accentdb', 'aeslc', 'aflw2k3d', 'ag_news_subset', 'ai2_arc', 'ai2_arc_with_ir', 'amazon_us_reviews', 'anli', 'arc', 'bair_robot_pushing_small', 'bccd', 'beans', 'big_patent', 'bigearthnet', 'billsum', 'binarized_mnist', 'binary_alpha_digits', 'blimp', 'bool_q', 'c4', 'caltech101', 'caltech_birds2010', 'caltech_birds2011', 'cars196', 'cassava', 'cats_vs_dogs', 'celeb_a', 'celeb_a_hq', 'cfq', 'cherry_blossoms', 'chexpert', 'cifar10', 'cifar100', 'cifar10_1', 'cifar10_corrupted', 'citrus_leaves', 'cityscapes', 'civil_comments', 'clevr', 'clic', 'clinc_oos', 'cmaterdb', 'cnn_dailymail', 'coco', 'coco_captions', 'coil100', 'colorectal_histology', 'colorectal_histology_large', 'common_voice', 'coqa', 'cos_e', 'cosmos_qa', 'covid19', 'covid19sum', 'crema_d', 'curated_breast_imaging_ddsm', 'cycle_gan', 'd4rl_adroit_door', 'd4rl_adroit_hammer', 'd4rl_adroit_pen', 'd4rl_adroit_relocate', 'd4rl_mujoco_ant', 'd4rl_mujoco_halfcheetah', 'd4rl_mujoco_hopper', 'd4rl_mujoco_walker2d', 'dart', 'davis', 'deep_weeds', 'definite_pronoun_resolution', 'dementiabank', 'diabetic_retinopathy_detection', 'div2k', 'dmlab', 'doc_nli', 'dolphin_number_word', 'downsampled_imagenet', 'drop', 'dsprites', 'dtd', 'duke_ultrasound', 'e2e_cleaned', 'efron_morris75', 'emnist', 'eraser_multi_rc', 'esnli', 'eurosat', 'fashion_mnist', 'flic', 'flores', 'food101', 'forest_fires', 'fuss', 'gap', 'geirhos_conflict_stimuli', 'gem', 'genomics_ood', 'german_credit_numeric', 'gigaword', 'glue', 'goemotions', 'gpt3', 'gref', 'groove', 'gtzan', 'gtzan_music_speech', 'hellaswag', 'higgs', 'horses_or_humans', 'howell', 'i_naturalist2017', 'imagenet2012', 'imagenet2012_corrupted', 'imagenet2012_multilabel', 'imagenet2012_real', 'imagenet2012_subset', 'imagenet_a', 'imagenet_r', 'imagenet_resized', 'imagenet_v2', 'imagenette', 'imagewang', 'imdb_reviews', 'irc_disentanglement', 'iris', 'kddcup99', 'kitti', 'kmnist', 'lambada', 'lfw', 'librispeech', 'librispeech_lm', 'libritts', 'ljspeech', 'lm1b', 'lost_and_found', 'lsun', 'lvis', 'malaria', 'math_dataset', 'mctaco', 'mlqa', 'mnist', 'mnist_corrupted', 'movie_lens', 'movie_rationales', 'movielens', 'moving_mnist', 'multi_news', 'multi_nli', 'multi_nli_mismatch', 'natural_questions', 'natural_questions_open', 'newsroom', 'nsynth', 'nyu_depth_v2', 'ogbg_molpcba', 'omniglot', 'open_images_challenge2019_detection', 'open_images_v4', 'openbookqa', 'opinion_abstracts', 'opinosis', 'opus', 'oxford_flowers102', 'oxford_iiit_pet', 'para_crawl', 'patch_camelyon', 'paws_wiki', 'paws_x_wiki', 'pet_finder', 'pg19', 'piqa', 'places365_small', 'plant_leaves', 'plant_village', 'plantae_k', 'protein_net', 'qa4mre', 'qasc', 'quac', 'quickdraw_bitmap', 'race', 'radon', 'reddit', 'reddit_disentanglement', 'reddit_tifu', 'ref_coco', 'resisc45', 'rlu_atari', 'rlu_dmlab_explore_object_rewards_few', 'rlu_dmlab_explore_object_rewards_many', 'rlu_dmlab_rooms_select_nonmatching_object', 'rlu_dmlab_rooms_watermaze', 'rlu_dmlab_seekavoid_arena01', 'robonet', 'rock_paper_scissors', 'rock_you', 's3o4d', 'salient_span_wikipedia', 'samsum', 'savee', 'scan', 'scene_parse150', 'schema_guided_dialogue', 'scicite', 'scientific_papers', 'sentiment140', 'shapes3d', 'siscore', 'smallnorb', 'snli', 'so2sat', 'speech_commands', 'spoken_digit', 'squad', 'stanford_dogs', 'stanford_online_products', 'star_cfq', 'starcraft_video', 'stl10', 'story_cloze', 'summscreen', 'sun397', 'super_glue', 'svhn_cropped', 'symmetric_solids', 'tao', 'ted_hrlr_translate', 'ted_multi_translate', 'tedlium', 'tf_flowers', 'the300w_lp', 'tiny_shakespeare', 'titanic', 'trec', 'trivia_qa', 'tydi_qa', 'uc_merced', 'ucf101', 'vctk', 'visual_domain_decathlon', 'voc', 'voxceleb', 'voxforge', 'waymo_open_dataset', 'web_nlg', 'web_questions', 'wider_face', 'wiki40b', 'wiki_bio', 'wiki_table_questions', 'wiki_table_text', 'wikiann', 'wikihow', 'wikipedia', 'wikipedia_toxicity_subtypes', 'wine_quality', 'winogrande', 'wmt13_translate', 'wmt14_translate', 'wmt15_translate', 'wmt16_translate', 'wmt17_translate', 'wmt18_translate', 'wmt19_translate', 'wmt_t2t_translate', 'wmt_translate', 'wordnet', 'wsc273', 'xnli', 'xquad', 'xsum', 'xtreme_pawsx', 'xtreme_xnli', 'yelp_polarity_reviews', 'yes_no', 'youtube_vis']\n"
     ]
    }
   ],
   "source": [
    "builders = tfds.list_builders()\n",
    "print(builders)"
   ]
  },
  {
   "cell_type": "code",
   "execution_count": 3,
   "id": "d86ad864",
   "metadata": {},
   "outputs": [],
   "source": [
    "data, info = tfds.load('mnist', with_info = True)   # with_info = True : mnist의 상세한 정보를 같이 불러오기\n",
    "train_data, test_data = data['train'], data['test']"
   ]
  },
  {
   "cell_type": "code",
   "execution_count": 4,
   "id": "7df109cf",
   "metadata": {},
   "outputs": [
    {
     "name": "stdout",
     "output_type": "stream",
     "text": [
      "tfds.core.DatasetInfo(\n",
      "    name='mnist',\n",
      "    full_name='mnist/3.0.1',\n",
      "    description=\"\"\"\n",
      "    The MNIST database of handwritten digits.\n",
      "    \"\"\",\n",
      "    homepage='http://yann.lecun.com/exdb/mnist/',\n",
      "    data_path='C:\\\\Users\\\\LEE\\\\tensorflow_datasets\\\\mnist\\\\3.0.1',\n",
      "    download_size=11.06 MiB,\n",
      "    dataset_size=21.00 MiB,\n",
      "    features=FeaturesDict({\n",
      "        'image': Image(shape=(28, 28, 1), dtype=tf.uint8),\n",
      "        'label': ClassLabel(shape=(), dtype=tf.int64, num_classes=10),\n",
      "    }),\n",
      "    supervised_keys=('image', 'label'),\n",
      "    disable_shuffling=False,\n",
      "    splits={\n",
      "        'test': <SplitInfo num_examples=10000, num_shards=1>,\n",
      "        'train': <SplitInfo num_examples=60000, num_shards=1>,\n",
      "    },\n",
      "    citation=\"\"\"@article{lecun2010mnist,\n",
      "      title={MNIST handwritten digit database},\n",
      "      author={LeCun, Yann and Cortes, Corinna and Burges, CJ},\n",
      "      journal={ATT Labs [Online]. Available: http://yann.lecun.com/exdb/mnist},\n",
      "      volume={2},\n",
      "      year={2010}\n",
      "    }\"\"\",\n",
      ")\n"
     ]
    }
   ],
   "source": [
    "print(info)"
   ]
  },
  {
   "cell_type": "markdown",
   "id": "60710793",
   "metadata": {},
   "source": [
    "## tf.data\n",
    "\n",
    "- 생성\n",
    "  - `from_tensor_slices()`: 개별 또는 다중 넘파이를 받고, 배치를 지원\n",
    "\n",
    "  - `from_tensors()`: 배치를 지원하지 않음\n",
    "\n",
    "  - `from_generator()`: 생성자 함수에서 입력을 취함\n",
    "\n",
    "- 변환\n",
    "\n",
    "  - `batch()`: 순차적으로 지정한 배치사이즈로 데이터셋을 분할\n",
    "\n",
    "  - `repeat()`: 데이터를 복제\n",
    "\n",
    "  - `shuffle()`: 데이터를 무작위로 섞음\n",
    "\n",
    "  - `map()`: 데이터에 함수를 적용\n",
    "\n",
    "  - `filter()`: 데이터를 거르고자 할 때 사용\n",
    "- 반복\n",
    "  - `next_batch = iterator.get_next()` 사용"
   ]
  },
  {
   "cell_type": "markdown",
   "id": "ec8910e1",
   "metadata": {},
   "source": [
    "### from_tensor_slices"
   ]
  },
  {
   "cell_type": "code",
   "execution_count": 5,
   "id": "24776e32",
   "metadata": {},
   "outputs": [],
   "source": [
    "import numpy as np"
   ]
  },
  {
   "cell_type": "code",
   "execution_count": 6,
   "id": "0dcc510f",
   "metadata": {},
   "outputs": [],
   "source": [
    "num_items = 20\n",
    "num_list = np.arange(num_items)"
   ]
  },
  {
   "cell_type": "code",
   "execution_count": 7,
   "id": "2fe80cd6",
   "metadata": {},
   "outputs": [],
   "source": [
    "num_list_dataset = tf.data.Dataset.from_tensor_slices(num_list)"
   ]
  },
  {
   "cell_type": "code",
   "execution_count": 8,
   "id": "6d546b82",
   "metadata": {},
   "outputs": [
    {
     "data": {
      "text/plain": [
       "<TensorSliceDataset shapes: (), types: tf.int32>"
      ]
     },
     "execution_count": 8,
     "metadata": {},
     "output_type": "execute_result"
    }
   ],
   "source": [
    "num_list_dataset"
   ]
  },
  {
   "cell_type": "code",
   "execution_count": 9,
   "id": "133c10e3",
   "metadata": {},
   "outputs": [
    {
     "name": "stdout",
     "output_type": "stream",
     "text": [
      "tf.Tensor(0, shape=(), dtype=int32)\n",
      "tf.Tensor(1, shape=(), dtype=int32)\n",
      "tf.Tensor(2, shape=(), dtype=int32)\n",
      "tf.Tensor(3, shape=(), dtype=int32)\n",
      "tf.Tensor(4, shape=(), dtype=int32)\n",
      "tf.Tensor(5, shape=(), dtype=int32)\n",
      "tf.Tensor(6, shape=(), dtype=int32)\n",
      "tf.Tensor(7, shape=(), dtype=int32)\n",
      "tf.Tensor(8, shape=(), dtype=int32)\n",
      "tf.Tensor(9, shape=(), dtype=int32)\n",
      "tf.Tensor(10, shape=(), dtype=int32)\n",
      "tf.Tensor(11, shape=(), dtype=int32)\n",
      "tf.Tensor(12, shape=(), dtype=int32)\n",
      "tf.Tensor(13, shape=(), dtype=int32)\n",
      "tf.Tensor(14, shape=(), dtype=int32)\n",
      "tf.Tensor(15, shape=(), dtype=int32)\n",
      "tf.Tensor(16, shape=(), dtype=int32)\n",
      "tf.Tensor(17, shape=(), dtype=int32)\n",
      "tf.Tensor(18, shape=(), dtype=int32)\n",
      "tf.Tensor(19, shape=(), dtype=int32)\n"
     ]
    }
   ],
   "source": [
    "for item in num_list_dataset:\n",
    "    print(item)"
   ]
  },
  {
   "cell_type": "markdown",
   "id": "e55031a2",
   "metadata": {},
   "source": [
    "### from_generator()\n",
    "- 해당 클래스 메서드를 사용하면 생성자에서 데이터셋 생성 가능\n",
    "- output_types, output_shapes 인수로 출력 자료형과 크기를 지정해주어야 함"
   ]
  },
  {
   "cell_type": "code",
   "execution_count": 10,
   "id": "cf0855d1",
   "metadata": {},
   "outputs": [
    {
     "data": {
      "text/plain": [
       "[(1, array([1], dtype=int64)),\n",
       " (2, array([1, 1], dtype=int64)),\n",
       " (3, array([1, 1, 1], dtype=int64))]"
      ]
     },
     "execution_count": 10,
     "metadata": {},
     "output_type": "execute_result"
    }
   ],
   "source": [
    "import itertools\n",
    "\n",
    "def gen():\n",
    "     for i in itertools.count(1):\n",
    "        yield (i, [1] * i)\n",
    "        \n",
    "dataset  = tf.data.Dataset.from_generator(gen, (tf.int64, tf.int64), \n",
    "                                          (tf.TensorShape([]), tf.TensorShape([None])))\n",
    "\n",
    "list(dataset.take(3).as_numpy_iterator())"
   ]
  },
  {
   "cell_type": "code",
   "execution_count": 11,
   "id": "67107739",
   "metadata": {},
   "outputs": [],
   "source": [
    "# 데이터셋 생성\n",
    "#for item in dataset:\n",
    "#    print(item)"
   ]
  },
  {
   "cell_type": "code",
   "execution_count": 12,
   "id": "b2d7db8d",
   "metadata": {},
   "outputs": [
    {
     "data": {
      "text/plain": [
       "[(1, array([1], dtype=int64)),\n",
       " (2, array([1, 1], dtype=int64)),\n",
       " (3, array([1, 1, 1], dtype=int64)),\n",
       " (4, array([1, 1, 1, 1], dtype=int64)),\n",
       " (5, array([1, 1, 1, 1, 1], dtype=int64)),\n",
       " (6, array([1, 1, 1, 1, 1, 1], dtype=int64)),\n",
       " (7, array([1, 1, 1, 1, 1, 1, 1], dtype=int64))]"
      ]
     },
     "execution_count": 12,
     "metadata": {},
     "output_type": "execute_result"
    }
   ],
   "source": [
    "# generator 자체에 threshold할수있는 조건을 넣어주기\n",
    "def gen(stop):\n",
    "    for i in itertools.count(1):\n",
    "        if i < stop:\n",
    "            yield (i, [1] * i)\n",
    "\n",
    "dataset = tf.data.Dataset.from_generator(gen, args = [10], output_types = (tf.int64, tf.int64),\n",
    "                                        output_shapes = (tf.TensorShape([]), tf.TensorShape([None])))\n",
    "\n",
    "list(dataset.take(7).as_numpy_iterator())"
   ]
  },
  {
   "cell_type": "markdown",
   "id": "0c93cda8",
   "metadata": {},
   "source": [
    "### batch, repeat\n",
    "- `batch()`: 배치 사이즈 크기\n",
    "- `repeat()`: 반복 횟수"
   ]
  },
  {
   "cell_type": "code",
   "execution_count": 13,
   "id": "940222d3",
   "metadata": {},
   "outputs": [],
   "source": [
    "dataset = num_list_dataset.repeat(3).batch(7)"
   ]
  },
  {
   "cell_type": "code",
   "execution_count": 14,
   "id": "384769e8",
   "metadata": {},
   "outputs": [
    {
     "name": "stdout",
     "output_type": "stream",
     "text": [
      "tf.Tensor([0 1 2 3 4 5 6], shape=(7,), dtype=int32)\n",
      "tf.Tensor([ 7  8  9 10 11 12 13], shape=(7,), dtype=int32)\n",
      "tf.Tensor([14 15 16 17 18 19  0], shape=(7,), dtype=int32)\n",
      "tf.Tensor([1 2 3 4 5 6 7], shape=(7,), dtype=int32)\n",
      "tf.Tensor([ 8  9 10 11 12 13 14], shape=(7,), dtype=int32)\n",
      "tf.Tensor([15 16 17 18 19  0  1], shape=(7,), dtype=int32)\n",
      "tf.Tensor([2 3 4 5 6 7 8], shape=(7,), dtype=int32)\n",
      "tf.Tensor([ 9 10 11 12 13 14 15], shape=(7,), dtype=int32)\n",
      "tf.Tensor([16 17 18 19], shape=(4,), dtype=int32)\n"
     ]
    }
   ],
   "source": [
    "for item in dataset:\n",
    "    print(item)"
   ]
  },
  {
   "cell_type": "code",
   "execution_count": 15,
   "id": "6bdd1c20",
   "metadata": {},
   "outputs": [],
   "source": [
    "dataset = num_list_dataset.repeat(3).batch(7, drop_remainder = True)\n",
    "\n",
    "## 뒷부분 남은 '4개' 제거"
   ]
  },
  {
   "cell_type": "code",
   "execution_count": 16,
   "id": "b75755f3",
   "metadata": {},
   "outputs": [
    {
     "name": "stdout",
     "output_type": "stream",
     "text": [
      "tf.Tensor([0 1 2 3 4 5 6], shape=(7,), dtype=int32)\n",
      "tf.Tensor([ 7  8  9 10 11 12 13], shape=(7,), dtype=int32)\n",
      "tf.Tensor([14 15 16 17 18 19  0], shape=(7,), dtype=int32)\n",
      "tf.Tensor([1 2 3 4 5 6 7], shape=(7,), dtype=int32)\n",
      "tf.Tensor([ 8  9 10 11 12 13 14], shape=(7,), dtype=int32)\n",
      "tf.Tensor([15 16 17 18 19  0  1], shape=(7,), dtype=int32)\n",
      "tf.Tensor([2 3 4 5 6 7 8], shape=(7,), dtype=int32)\n",
      "tf.Tensor([ 9 10 11 12 13 14 15], shape=(7,), dtype=int32)\n"
     ]
    }
   ],
   "source": [
    "for item in dataset:\n",
    "    print(item)"
   ]
  },
  {
   "cell_type": "markdown",
   "id": "adef99ce",
   "metadata": {},
   "source": [
    "### map, filter\n",
    "- 전처리 단계에서 시행하여 원하지 않는 데이터를 거를 수 있음\n",
    "\n",
    "- `tf.Tensor` 자료형을 다룸"
   ]
  },
  {
   "cell_type": "code",
   "execution_count": 17,
   "id": "94f56c9c",
   "metadata": {},
   "outputs": [],
   "source": [
    "from tensorflow.data import Dataset"
   ]
  },
  {
   "cell_type": "code",
   "execution_count": 18,
   "id": "e7bd9f76",
   "metadata": {},
   "outputs": [
    {
     "data": {
      "text/plain": [
       "[2, 4, 6, 8, 10]"
      ]
     },
     "execution_count": 18,
     "metadata": {},
     "output_type": "execute_result"
    }
   ],
   "source": [
    "dataset = Dataset.range(1, 6)\n",
    "dataset = dataset.map(lambda x: x * 2)\n",
    "list(dataset.as_numpy_iterator())"
   ]
  },
  {
   "cell_type": "code",
   "execution_count": 19,
   "id": "d862476f",
   "metadata": {},
   "outputs": [
    {
     "data": {
      "text/plain": [
       "<MapDataset shapes: (), types: tf.int64>"
      ]
     },
     "execution_count": 19,
     "metadata": {},
     "output_type": "execute_result"
    }
   ],
   "source": [
    "dataset = Dataset.range(5)\n",
    "\n",
    "result = dataset.map(lambda x: x + 1)\n",
    "result"
   ]
  },
  {
   "cell_type": "code",
   "execution_count": 22,
   "id": "adf48261",
   "metadata": {},
   "outputs": [
    {
     "data": {
      "text/plain": [
       "[1, 2, 3]"
      ]
     },
     "execution_count": 22,
     "metadata": {},
     "output_type": "execute_result"
    }
   ],
   "source": [
    "elements = [(1, 'one'), (2, 'two'), (3, 'three')]\n",
    "dataset = Dataset.from_generator(lambda: elements, (tf.int32, tf.string))\n",
    "\n",
    "result = dataset.map(lambda x_int, y_str: x_int)\n",
    "list(result.as_numpy_iterator())"
   ]
  },
  {
   "cell_type": "code",
   "execution_count": 23,
   "id": "849b5169",
   "metadata": {},
   "outputs": [
    {
     "data": {
      "text/plain": [
       "(TensorSpec(shape=(), dtype=tf.float32, name=None),\n",
       " TensorSpec(shape=(3,), dtype=tf.string, name=None))"
      ]
     },
     "execution_count": 23,
     "metadata": {},
     "output_type": "execute_result"
    }
   ],
   "source": [
    "dataset = Dataset.range(3)\n",
    "\n",
    "def g(x):\n",
    "    return tf.constant(10.5), tf.constant([\"One\", \"Two\", \"Three\"])\n",
    "\n",
    "result = dataset.map(g)\n",
    "result.element_spec"
   ]
  },
  {
   "cell_type": "code",
   "execution_count": 24,
   "id": "5e94b3c9",
   "metadata": {},
   "outputs": [
    {
     "data": {
      "text/plain": [
       "(TensorSpec(shape=(), dtype=tf.float32, name=None),\n",
       " TensorSpec(shape=(3,), dtype=tf.string, name=None),\n",
       " TensorSpec(shape=(2,), dtype=tf.float64, name=None))"
      ]
     },
     "execution_count": 24,
     "metadata": {},
     "output_type": "execute_result"
    }
   ],
   "source": [
    "def h(x):\n",
    "    return 10.5, [\"One\", \"Two\", \"Three\"], np.array([1.0, 2.0], dtype = np.float64)\n",
    "\n",
    "result = dataset.map(h)\n",
    "result.element_spec"
   ]
  },
  {
   "cell_type": "code",
   "execution_count": 26,
   "id": "9b9103dd",
   "metadata": {},
   "outputs": [
    {
     "data": {
      "text/plain": [
       "((TensorSpec(shape=(), dtype=tf.float32, name=None),\n",
       "  TensorSpec(shape=(2,), dtype=tf.int32, name=None)),\n",
       " TensorSpec(shape=(), dtype=tf.string, name=None),\n",
       " TensorSpec(shape=(), dtype=tf.string, name=None))"
      ]
     },
     "execution_count": 26,
     "metadata": {},
     "output_type": "execute_result"
    }
   ],
   "source": [
    "def i(x):\n",
    "    return (10.5, [12, 11]), \"One\", \"Two\"\n",
    "\n",
    "result = dataset.map(i)\n",
    "result.element_spec"
   ]
  },
  {
   "cell_type": "code",
   "execution_count": 36,
   "id": "89eb0685",
   "metadata": {},
   "outputs": [
    {
     "data": {
      "text/plain": [
       "[1, 2, 3, 4, 6, 7, 8, 9, 10]"
      ]
     },
     "execution_count": 36,
     "metadata": {},
     "output_type": "execute_result"
    }
   ],
   "source": [
    "dataset = Dataset.from_tensor_slices([1, 2, 3, 4, 5, 6, 7, 8, 9, 10])\n",
    "# filter function 적용\n",
    "dataset = dataset.filter(lambda x: x != 5)\n",
    "list(dataset.as_numpy_iterator())"
   ]
  },
  {
   "cell_type": "code",
   "execution_count": 37,
   "id": "275a44a9",
   "metadata": {},
   "outputs": [
    {
     "data": {
      "text/plain": [
       "[1]"
      ]
     },
     "execution_count": 37,
     "metadata": {},
     "output_type": "execute_result"
    }
   ],
   "source": [
    "def filter_fn(x):\n",
    "    return tf.math.equal(x, 1)\n",
    "\n",
    "dataset = dataset.filter(filter_fn)\n",
    "list(dataset.as_numpy_iterator())"
   ]
  },
  {
   "cell_type": "markdown",
   "id": "5033de1b",
   "metadata": {},
   "source": [
    "### shuffle, take"
   ]
  },
  {
   "cell_type": "code",
   "execution_count": 40,
   "id": "a54b1887",
   "metadata": {},
   "outputs": [
    {
     "name": "stdout",
     "output_type": "stream",
     "text": [
      "\u001b[1mDownloading and preparing dataset Unknown size (download: Unknown size, generated: Unknown size, total: Unknown size) to C:\\Users\\LEE\\tensorflow_datasets\\imdb_reviews\\plain_text\\1.0.0...\u001b[0m\n"
     ]
    },
    {
     "data": {
      "application/vnd.jupyter.widget-view+json": {
       "model_id": "8c77f7f175ed422bac3dc137474a626e",
       "version_major": 2,
       "version_minor": 0
      },
      "text/plain": [
       "Dl Completed...: 0 url [00:00, ? url/s]"
      ]
     },
     "metadata": {},
     "output_type": "display_data"
    },
    {
     "data": {
      "application/vnd.jupyter.widget-view+json": {
       "model_id": "ff99a757cf424ed4a4eb3de5c396c6e2",
       "version_major": 2,
       "version_minor": 0
      },
      "text/plain": [
       "Dl Size...: 0 MiB [00:00, ? MiB/s]"
      ]
     },
     "metadata": {},
     "output_type": "display_data"
    },
    {
     "data": {
      "application/vnd.jupyter.widget-view+json": {
       "model_id": "",
       "version_major": 2,
       "version_minor": 0
      },
      "text/plain": [
       "Generating splits...:   0%|          | 0/3 [00:00<?, ? splits/s]"
      ]
     },
     "metadata": {},
     "output_type": "display_data"
    },
    {
     "data": {
      "application/vnd.jupyter.widget-view+json": {
       "model_id": "",
       "version_major": 2,
       "version_minor": 0
      },
      "text/plain": [
       "Generating train examples...: 0 examples [00:00, ? examples/s]"
      ]
     },
     "metadata": {},
     "output_type": "display_data"
    },
    {
     "data": {
      "application/vnd.jupyter.widget-view+json": {
       "model_id": "",
       "version_major": 2,
       "version_minor": 0
      },
      "text/plain": [
       "Shuffling imdb_reviews-train.tfrecord...:   0%|          | 0/25000 [00:00<?, ? examples/s]"
      ]
     },
     "metadata": {},
     "output_type": "display_data"
    },
    {
     "data": {
      "application/vnd.jupyter.widget-view+json": {
       "model_id": "",
       "version_major": 2,
       "version_minor": 0
      },
      "text/plain": [
       "Generating test examples...: 0 examples [00:00, ? examples/s]"
      ]
     },
     "metadata": {},
     "output_type": "display_data"
    },
    {
     "data": {
      "application/vnd.jupyter.widget-view+json": {
       "model_id": "",
       "version_major": 2,
       "version_minor": 0
      },
      "text/plain": [
       "Shuffling imdb_reviews-test.tfrecord...:   0%|          | 0/25000 [00:00<?, ? examples/s]"
      ]
     },
     "metadata": {},
     "output_type": "display_data"
    },
    {
     "data": {
      "application/vnd.jupyter.widget-view+json": {
       "model_id": "",
       "version_major": 2,
       "version_minor": 0
      },
      "text/plain": [
       "Generating unsupervised examples...: 0 examples [00:00, ? examples/s]"
      ]
     },
     "metadata": {},
     "output_type": "display_data"
    },
    {
     "data": {
      "application/vnd.jupyter.widget-view+json": {
       "model_id": "",
       "version_major": 2,
       "version_minor": 0
      },
      "text/plain": [
       "Shuffling imdb_reviews-unsupervised.tfrecord...:   0%|          | 0/50000 [00:00<?, ? examples/s]"
      ]
     },
     "metadata": {},
     "output_type": "display_data"
    },
    {
     "name": "stdout",
     "output_type": "stream",
     "text": [
      "\u001b[1mDataset imdb_reviews downloaded and prepared to C:\\Users\\LEE\\tensorflow_datasets\\imdb_reviews\\plain_text\\1.0.0. Subsequent calls will reuse this data.\u001b[0m\n"
     ]
    }
   ],
   "source": [
    "dataset, info = tfds.load('imdb_reviews', with_info = True, as_supervised = True)"
   ]
  },
  {
   "cell_type": "code",
   "execution_count": 56,
   "id": "e5b3e4ea",
   "metadata": {
    "scrolled": true
   },
   "outputs": [
    {
     "name": "stdout",
     "output_type": "stream",
     "text": [
      "(<tf.Tensor: shape=(5,), dtype=string, numpy=\n",
      "array([b\"I can still remember first seeing this on TV. I couldn't believe TVNZ let it on! I had to own it! A lot of the humor will be lost on non-NZ'ers, but give it a go! <br /><br />Since finishing the Back of the Y series Matt and Chris have gone on to bigger and better(?) things. NZ's greatest dare-devil stuntman, Randy Campbell has often appeared on the British TV series Balls of Steel. Yes, he still f^@ks up all his stunts because he is too drunk.<br /><br />Also the 'house band' Deja Voodoo have since released 2 albums, Brown Sabbath and Back in Brown. The band consists of members of the Back of the Y team and singles such as 'I Would Give You One of My Beers (But I've Only Got 6)' and 'You Weren't Even Born in The 80's' continue their humor.<br /><br />The South-By-Southwest film festival also featured their feature length film 'The Devil Made Me Do It' which will be released early 2008 in NZ.<br /><br />All up, if you don't find these guys funny then you can just F%^K OFF!!\",\n",
      "       b'In a time of magic, barbarians and demons abound a diabolical tyrant named Nekhron and his mother Queen Juliane who lives in the realm of ice and wants to conquer the region of fire ruled by the King Jerol but when his beautiful daughter Princess Teegra has been kidnapped by Nekhron\\'s goons, a warrior named Larn must protect her and must defeat Nekhron from taking over the world and the kingdom with the help of an avenger named Darkwolf.<br /><br />A nicely done and excellent underrated animated fantasy epic that combines live actors with animation traced over them ( rotoscoping), it\\'s Ralph Bakshi\\'s second best movie only with \"American Pop\" being number one and \"Heavy Traffic\" being third and \"Wizards\" being fourth. It\\'s certainly better than his \"Cool World\" or \"Lord of the Rings\", the artwork is designed by famed artist Frank Farzetta and the animation has good coloring and there\\'s also a hottie for the guys.<br /><br />I highly recommend this movie to fantasy and animation lovers everywhere especially the new 2-Disc Limited Edition DVD from Blue Underground.<br /><br />Also recommended: \"The Black Cauldron\", \"The Dark Crystal\", \"Conan The Barbarian\", \"The Wizard of Oz\", \" Rock & Rule\", \"Wizards\", \"Heavy Metal\", \"Starchaser: Legend of Orin\", \"Fantastic Planet\", \" Princess Mononoke\", \" Nausicca: Valley of the Wind\", \" Conan The Destroyer\", \" Willow\", \" The Princess Bride\", \"Lord of the Rings ( 1978)\", \" The Sword in The Stone\", \" Excalibur\", \" Army of Darkness\", \" Krull\", \"Dragonheart\", \" King Arthur\", \" The Hobbit\", \" Return of the King ( 1980)\", \"Conquest\", \" American Pop\", \" Jason and The Argonauts\", \" Clash of the Titans\", \" The Last Unicorn\", \" The Secret of NIMH\", \"The Flight of Dragons\", \" Hercules (Disney)\", \" Legend\", \" The Chronicles of Narnia\", \" Harry Potter and The Goblet of Fire\".',\n",
      "       b'A pretty memorable movie of the animals-killing-people variety, specifically similar to \"Willard\" in that it stars an aging character actor (in this case, a step down a bit to the level of Les Tremayne, who puts in the only distinguished performance I\\'ve seen him give) in a role as a man whose life is unbalanced and who subsequently decides to use his animal friends to exact revenge on those who have wronged him. Yes, this is one of those movies where pretty much everybody is despicable, so that you will cheer when they die, and really the selection of actors, locations, etc. couldn\\'t be better at giving the film an atmosphere of shabby decadence.<br /><br />Tremayne\\'s character is \"Snakey Bender\", and he is certainly the most interesting thing about the movie: an aged snake collector who is obsessed with John Philip Souza\\'s music. When the local preacher clamps down on his practice of collecting small animals from the local schoolchildren as bait for his snakes, and his friend gets married to a stripper (thus upsetting his ritual Wednesday night band concert) he goes on the rampage, in the process creating a memorable pile-up of clunkers beneath the cliff where he dumps the wrecks after disposing of their unfortunate owners. One amusing game you can play while watching \"Snakes\" is to place bets on which cars will land the farthest down the cliff.<br /><br />All in all, very cheap and exploitative, but will really be a lot of fun for fans of these kinds of movies.',\n",
      "       b\"Except for an awkward scene, this refreshing fairy tale fantasy has a fun and delightful undercurrent of adult cynical wit that charms its way into the audience as well as a soundtrack that powerfully moves this fairy epic along. Except for one of the Robert DeNiro scenes that doesn't come across smooth and appears out of sync with the tone of the rest of the movie, this luscious romantic fairy tail has a great storytelling feel and the strong magic and the fine balance between serious adventure scenes and the lighter spiritual humor is well done. In the updated tradition of THE PRINCESS BRIDE this contemporary presentation of magic and love is captivating. Eight out of Ten Stars.\",\n",
      "       b'In this film we have the fabulous opportunity to see what happened to Timon and Pumbaa in the film when they are not shown - which is a lot! This film even goes back to before Simba and (presumbably) just after the birth of Kiara. <br /><br />Quite true to the first film, \"Lion King 1/2 (or Lion King 3 in other places)\" is a funny, entertaining, exciting and surprising film (or sequel if that\\'s what you want to call it). A bundle of surprises and hilarity await for you!<br /><br />While Timon and Pumbaa are watching a film at the cinema (with a remote control), Timon and Pumbaa have an argument of what point of \"The Lion King\" they are going to start watching, as Timon wants to go to the part when he and Pumbaa come in and Pumbaa wants to go back to the beginning. They have a very fair compromise of watching the film of their own story, which is what awaits... It starts with Timon\\'s first home...<br /><br />For anyone with a good sense of humour who liked the first films of just about any age, enjoy \"Lion King 1/2\"! :-)'],\n",
      "      dtype=object)>, <tf.Tensor: shape=(5,), dtype=int64, numpy=array([1, 1, 1, 1, 1], dtype=int64)>)\n",
      "(<tf.Tensor: shape=(5,), dtype=string, numpy=\n",
      "array([b\"Well, i rented this movie and found out it realllllllly sucks. It is about that family with the stepmother and the same stupid fights in the family,then the cool son comes with his stupid camera and he likes to take a photo to damaged building and weird things and weird movie ,and then he asks his father to take him to a side trip and simply agrees, etc etc etc..... They go to that town which no one know it exists (blah blah blah) And the most annoying thing is that the movie ends and yet you don't understand what is THAT MOVIE!!!!I have seen many mystery movies but that was the worst, Honestly it doesn't have a description at all and i wish i didn't see it.\",\n",
      "       b'I actually had quite high hopes going into this movie, so I took what was given with a grain of salt and hoped for the best. About 1/3 of the way through the film I simply had to give up, quite simply the movie is a mish-mash of stuff happening for no apparent reason and it\\'s all disconnected. I love movies that make you think, but this movie was just a bunch of ideas thrown together and never really connected.<br /><br />Don\\'t think it\\'s David Lynch-esquire as some would have you believe, it is nowhere near that realm other than some trippy visuals. Saying it\\'s artsy to disguise the fact there\\'s no apparent plot or story is just a manner or justifying why you wasted the 1.5 hours in the film. The acting was good, but that cannot save lack of story. I do agree with the one comment posted previously... \"it\\'s like being in some other person\\'s head... while they\\'re on drugs,\" in other words nothing makes sense.',\n",
      "       b\"I liked the initial premise to this film which is what led me to hunt it out but the problem I quickly found is that one pretty much knows what's going to happen within the first 20-30 minutes ( the doubles will come from behind the mirror and take over everybody).<br /><br />There is no real twist (which is fine) , but the final reveal doesn't make a great deal of sense either (how can she be racked with uncertainty and fear for the whole film, if she's an evil id from beyond the mirror?).<br /><br />Admittedly the scenes 'beyond the mirror' were chilling when they first appeared and the blonde's murder is also effectively creepy, but ultimately alas this seems to be a film in search of a story or a more engaging script, piling atmosphere upon atmosphere and over the top scary sound design for 80-90 minutes does not really cut it, in fact it gets quite dull.\",\n",
      "       b\"My main problem with the film is that it goes on too long. Other then that, it's pretty good. Paul Muni plays a poor Chinese farmer who is about to get married through an arranged marriage. Luise Rainer is a servant girl who gets married to Muni. They live with Muni's father on a farm and they are doing pretty bad. When he finally gets some money to buy some more land, a drought hits and nothing is growing. Everybody stars to head north by Muni stays behind at first. When they leave and arrive at town they find that their are no jobs and they are worse off than before. They even think about selling their youngest daughter as a slave for some money but decide against it. When a bunch of people start looting the town, the military show up and start executing people . Paul Muni does a good job and Luise Rainer won a second oscar for this movie.\",\n",
      "       b\"This movie never made it to theaters in our area, so when it became available on DVD I was one of the first to rent it. For once, I should listened to the critics and passed on this one.<br /><br />Despite the excellent line up of actors the movie was very disappointing. I can see now why it went straight to video. <br /><br />I had thought that with Bloom, Ledger, and Rush it could have some value. All have done wonderful work in the past. <br /><br />The movie was slow moving and never pulled me in. I failed to develop much empathy for the characters and had to fight the urge to fast-forward just to get to the end. <br /><br />I do not recommend this film even if you are thinking of renting it for only for 'eye candy' purposes. It won't satisfy even that.\"],\n",
      "      dtype=object)>, <tf.Tensor: shape=(5,), dtype=int64, numpy=array([0, 0, 0, 1, 0], dtype=int64)>)\n"
     ]
    }
   ],
   "source": [
    "train_dataset = dataset['train']\n",
    "# 5개로 구분(batch), 2개만 가져오기(take)\n",
    "train_dataset = train_dataset.batch(5).shuffle(5).take(2)\n",
    "\n",
    "for data in train_dataset:\n",
    "    print(data)"
   ]
  },
  {
   "cell_type": "markdown",
   "id": "dfddf050",
   "metadata": {},
   "source": [
    "### get_next()"
   ]
  },
  {
   "cell_type": "code",
   "execution_count": 57,
   "id": "84f04786",
   "metadata": {},
   "outputs": [
    {
     "name": "stdout",
     "output_type": "stream",
     "text": [
      "tf.Tensor(0, shape=(), dtype=int64)\n",
      "tf.Tensor(1, shape=(), dtype=int64)\n"
     ]
    }
   ],
   "source": [
    "dataset = Dataset.range(2)\n",
    "for element in dataset:\n",
    "    print(element)"
   ]
  },
  {
   "cell_type": "code",
   "execution_count": 58,
   "id": "45cc94b4",
   "metadata": {},
   "outputs": [
    {
     "name": "stdout",
     "output_type": "stream",
     "text": [
      "<RangeDataset shapes: (), types: tf.int64>\n",
      "tf.Tensor(0, shape=(), dtype=int64)\n",
      "tf.Tensor(1, shape=(), dtype=int64)\n"
     ]
    }
   ],
   "source": [
    "dataset = Dataset.range(2)\n",
    "iterator = iter(dataset)\n",
    "\n",
    "print(dataset)\n",
    "print(iterator.get_next())\n",
    "print(iterator.get_next())"
   ]
  },
  {
   "cell_type": "code",
   "execution_count": 64,
   "id": "e4dd7f12",
   "metadata": {},
   "outputs": [
    {
     "name": "stdout",
     "output_type": "stream",
     "text": [
      "[[6 1 5]\n",
      " [3 2 7]]\n",
      "tf.Tensor([6 1 5], shape=(3,), dtype=int32)\n",
      "tf.Tensor([3 2 7], shape=(3,), dtype=int32)\n"
     ]
    }
   ],
   "source": [
    "a = np.random.randint(0, 10, size = (2, 3))\n",
    "print(a)\n",
    "\n",
    "dataset = Dataset.from_tensor_slices(a)\n",
    "iterator = iter(dataset)\n",
    "\n",
    "print(iterator.get_next())\n",
    "print(iterator.get_next())"
   ]
  },
  {
   "cell_type": "markdown",
   "id": "18c1d66f",
   "metadata": {},
   "source": [
    "## tf.dataset을 이용한 Fashion-MNIST 분류"
   ]
  },
  {
   "cell_type": "markdown",
   "id": "356cd73a",
   "metadata": {},
   "source": [
    "### modules import"
   ]
  },
  {
   "cell_type": "code",
   "execution_count": 65,
   "id": "b8eb61cb",
   "metadata": {},
   "outputs": [],
   "source": [
    "import matplotlib.pyplot as plt\n",
    "plt.style.use('seaborn-white')\n",
    "\n",
    "import tensorflow as tf\n",
    "from tensorflow.keras.layers import Dense, Input, Flatten, Dropout, Activation, BatchNormalization\n",
    "from tensorflow.keras.models import Model\n",
    "from tensorflow.keras.datasets.fashion_mnist import load_data"
   ]
  },
  {
   "cell_type": "markdown",
   "id": "b5ccee02",
   "metadata": {},
   "source": [
    "### 데이터 로드"
   ]
  },
  {
   "cell_type": "code",
   "execution_count": 66,
   "id": "05bde5a0",
   "metadata": {},
   "outputs": [],
   "source": [
    "(x_train, y_train), (x_test, y_test) = load_data()"
   ]
  },
  {
   "cell_type": "code",
   "execution_count": 67,
   "id": "3354ab81",
   "metadata": {},
   "outputs": [
    {
     "name": "stdout",
     "output_type": "stream",
     "text": [
      "(60000, 28, 28)\n",
      "(60000,)\n",
      "(10000, 28, 28)\n",
      "(10000,)\n"
     ]
    }
   ],
   "source": [
    "print(x_train.shape)\n",
    "print(y_train.shape)\n",
    "print(x_test.shape)\n",
    "print(y_test.shape)"
   ]
  },
  {
   "cell_type": "markdown",
   "id": "94d5875b",
   "metadata": {},
   "source": [
    "### 데이터 전처리"
   ]
  },
  {
   "cell_type": "code",
   "execution_count": 68,
   "id": "26d418ac",
   "metadata": {},
   "outputs": [],
   "source": [
    "x_train = x_train / 255.\n",
    "x_test = x_test / 255."
   ]
  },
  {
   "cell_type": "markdown",
   "id": "2400303a",
   "metadata": {},
   "source": [
    "### tf.data 이용"
   ]
  },
  {
   "cell_type": "code",
   "execution_count": 69,
   "id": "ca49e0ef",
   "metadata": {},
   "outputs": [],
   "source": [
    "train_ds = Dataset.from_tensor_slices((x_train, y_train))\n",
    "train_ds = train_ds.shuffle(1000)\n",
    "train_ds = train_ds.batch(32)\n",
    "\n",
    "test_ds = Dataset.from_tensor_slices((x_test, y_test))\n",
    "test_ds = test_ds.batch(32)"
   ]
  },
  {
   "cell_type": "code",
   "execution_count": 70,
   "id": "31422d4a",
   "metadata": {},
   "outputs": [],
   "source": [
    "class_names = ['T-shirt/top', 'Trouser', 'Pullover', 'Dress', 'Coat', 'Sandal', 'Shirt', 'Sneaker', 'Bag', 'Ankle boot']"
   ]
  },
  {
   "cell_type": "markdown",
   "id": "11bb8c3d",
   "metadata": {},
   "source": [
    "### 데이터 확인"
   ]
  },
  {
   "cell_type": "code",
   "execution_count": 73,
   "id": "daf121db",
   "metadata": {
    "scrolled": true
   },
   "outputs": [
    {
     "data": {
      "image/png": "[encoded data removed]",
      "text/plain": [
       "<Figure size 432x288 with 1 Axes>"
      ]
     },
     "metadata": {},
     "output_type": "display_data"
    },
    {
     "data": {
      "image/png": "[encoded data removed]",
      "text/plain": [
       "<Figure size 432x288 with 1 Axes>"
      ]
     },
     "metadata": {},
     "output_type": "display_data"
    },
    {
     "data": {
      "image/png": "[encoded data removed]",
      "text/plain": [
       "<Figure size 432x288 with 1 Axes>"
      ]
     },
     "metadata": {},
     "output_type": "display_data"
    },
    {
     "data": {
      "image/png": "[encoded data removed]",
      "text/plain": [
       "<Figure size 432x288 with 1 Axes>"
      ]
     },
     "metadata": {},
     "output_type": "display_data"
    },
    {
     "data": {
      "image/png": "[encoded data removed]",
      "text/plain": [
       "<Figure size 432x288 with 1 Axes>"
      ]
     },
     "metadata": {},
     "output_type": "display_data"
    }
   ],
   "source": [
    "for image, label in train_ds.take(5):\n",
    "    plt.title(\"{}\".format(class_names[label[0]]))\n",
    "    plt.imshow(image[0, :, :], cmap = 'gray')\n",
    "    plt.show()"
   ]
  },
  {
   "cell_type": "markdown",
   "id": "39852069",
   "metadata": {},
   "source": [
    "### 모델 생성\n",
    "- 임의의 모델"
   ]
  },
  {
   "cell_type": "code",
   "execution_count": 77,
   "id": "91b67cc1",
   "metadata": {},
   "outputs": [],
   "source": [
    "def build_model():\n",
    "    input = Input(shape = (28, 28), name = 'input')\n",
    "    flatten = Flatten(input_shape = [28, 28], name = 'flatten')(input)\n",
    "    hidden1 = Dense(256, kernel_initializer = 'he_normal', name = 'hidden1')(flatten)\n",
    "    hidden1 = BatchNormalization()(hidden1)\n",
    "    hidden1 = Activation('relu')(hidden1)\n",
    "    dropout1 = Dropout(0.5)(hidden1)\n",
    "    \n",
    "    hidden2 = Dense(100, kernel_initializer = 'he_normal', name = 'hidden2')(dropout1)\n",
    "    hidden2 = BatchNormalization()(hidden2)\n",
    "    hidden2 = Activation('relu')(hidden2)\n",
    "    dropout2 = Dropout(0.5)(hidden2)\n",
    "    \n",
    "    hidden3 = Dense(100, kernel_initializer = 'he_normal', name = 'hidden3')(dropout2)\n",
    "    hidden3 = BatchNormalization()(hidden3)\n",
    "    hidden3 = Activation('relu')(hidden3)\n",
    "    dropout3 = Dropout(0.5)(hidden3)\n",
    "    \n",
    "    hidden4 = Dense(50, kernel_initializer = 'he_normal', name = 'hidden4')(dropout3)\n",
    "    hidden4 = BatchNormalization()(hidden4)\n",
    "    hidden4 = Activation('relu')(hidden4)\n",
    "    dropout4 = Dropout(0.5)(hidden4)\n",
    "    \n",
    "    output = Dense(10, activation = 'softmax', name = 'output')(dropout4)\n",
    "    \n",
    "    model = Model(inputs = [input], outputs = output)\n",
    "    \n",
    "    return model"
   ]
  },
  {
   "cell_type": "code",
   "execution_count": 78,
   "id": "6ddcb157",
   "metadata": {},
   "outputs": [],
   "source": [
    "model = build_model()"
   ]
  },
  {
   "cell_type": "code",
   "execution_count": 79,
   "id": "77d1756c",
   "metadata": {},
   "outputs": [
    {
     "name": "stdout",
     "output_type": "stream",
     "text": [
      "Model: \"model_1\"\n",
      "_________________________________________________________________\n",
      "Layer (type)                 Output Shape              Param #   \n",
      "=================================================================\n",
      "input (InputLayer)           [(None, 28, 28)]          0         \n",
      "_________________________________________________________________\n",
      "flatten (Flatten)            (None, 784)               0         \n",
      "_________________________________________________________________\n",
      "hidden1 (Dense)              (None, 256)               200960    \n",
      "_________________________________________________________________\n",
      "batch_normalization_4 (Batch (None, 256)               1024      \n",
      "_________________________________________________________________\n",
      "activation_4 (Activation)    (None, 256)               0         \n",
      "_________________________________________________________________\n",
      "dropout_4 (Dropout)          (None, 256)               0         \n",
      "_________________________________________________________________\n",
      "hidden2 (Dense)              (None, 100)               25700     \n",
      "_________________________________________________________________\n",
      "batch_normalization_5 (Batch (None, 100)               400       \n",
      "_________________________________________________________________\n",
      "activation_5 (Activation)    (None, 100)               0         \n",
      "_________________________________________________________________\n",
      "dropout_5 (Dropout)          (None, 100)               0         \n",
      "_________________________________________________________________\n",
      "hidden3 (Dense)              (None, 100)               10100     \n",
      "_________________________________________________________________\n",
      "batch_normalization_6 (Batch (None, 100)               400       \n",
      "_________________________________________________________________\n",
      "activation_6 (Activation)    (None, 100)               0         \n",
      "_________________________________________________________________\n",
      "dropout_6 (Dropout)          (None, 100)               0         \n",
      "_________________________________________________________________\n",
      "hidden4 (Dense)              (None, 50)                5050      \n",
      "_________________________________________________________________\n",
      "batch_normalization_7 (Batch (None, 50)                200       \n",
      "_________________________________________________________________\n",
      "activation_7 (Activation)    (None, 50)                0         \n",
      "_________________________________________________________________\n",
      "dropout_7 (Dropout)          (None, 50)                0         \n",
      "_________________________________________________________________\n",
      "output (Dense)               (None, 10)                510       \n",
      "=================================================================\n",
      "Total params: 244,344\n",
      "Trainable params: 243,332\n",
      "Non-trainable params: 1,012\n",
      "_________________________________________________________________\n"
     ]
    }
   ],
   "source": [
    "model.summary()"
   ]
  },
  {
   "cell_type": "markdown",
   "id": "c51491da",
   "metadata": {},
   "source": [
    "### 모델 컴파일\n",
    "- 평가(metrics)방식의 다른 방법\n",
    "  - `tf.keras.metrics.Mean`\n",
    "  - `tf.keras.metrics.SparseCategoricalAccuracy`\n",
    "\n",
    "- 위 두 방식을 사용하여 loss값을 좀 더 smooth하게 만들기(평균을 내는 방식)"
   ]
  },
  {
   "cell_type": "code",
   "execution_count": 83,
   "id": "cb66caf2",
   "metadata": {},
   "outputs": [],
   "source": [
    "loss_object = tf.keras.losses.SparseCategoricalCrossentropy()\n",
    "optimizer = tf.keras.optimizers.Adam()"
   ]
  },
  {
   "cell_type": "code",
   "execution_count": 84,
   "id": "6a2fe7db",
   "metadata": {},
   "outputs": [],
   "source": [
    "train_loss = tf.keras.metrics.Mean(name = 'train_loss')\n",
    "train_accuracy = tf.keras.metrics.SparseCategoricalCrossentropy(name = 'train_accuracy')\n",
    "\n",
    "test_loss = tf.keras.metrics.Mean(name = 'test_loss')\n",
    "test_accuracy = tf.keras.metrics.SparseCategoricalCrossentropy(name = 'test_accuracy')"
   ]
  },
  {
   "cell_type": "markdown",
   "id": "a163e14f",
   "metadata": {},
   "source": [
    "### 모델 학습"
   ]
  },
  {
   "cell_type": "markdown",
   "id": "f1cf3c64",
   "metadata": {},
   "source": [
    "@tf.function 으로 인해 학습이 시작되면 그래프를 생성하여 속도가 빠름\n"
   ]
  },
  {
   "cell_type": "code",
   "execution_count": null,
   "id": "61cb1464",
   "metadata": {},
   "outputs": [],
   "source": []
  },
  {
   "cell_type": "code",
   "execution_count": null,
   "id": "fbbe5fe1",
   "metadata": {},
   "outputs": [],
   "source": []
  },
  {
   "cell_type": "code",
   "execution_count": null,
   "id": "a1cac99d",
   "metadata": {},
   "outputs": [],
   "source": []
  },
  {
   "cell_type": "markdown",
   "id": "e81e4334",
   "metadata": {},
   "source": [
    "### 모델 학습 : 2번째 방법 (Keras)"
   ]
  },
  {
   "cell_type": "code",
   "execution_count": null,
   "id": "53b37793",
   "metadata": {},
   "outputs": [],
   "source": []
  },
  {
   "cell_type": "code",
   "execution_count": null,
   "id": "04ef4b8a",
   "metadata": {},
   "outputs": [],
   "source": []
  },
  {
   "cell_type": "markdown",
   "id": "257932b7",
   "metadata": {},
   "source": [
    "5~6분 소요"
   ]
  },
  {
   "cell_type": "code",
   "execution_count": null,
   "id": "0c8485f6",
   "metadata": {},
   "outputs": [],
   "source": []
  },
  {
   "cell_type": "code",
   "execution_count": null,
   "id": "74c7fc52",
   "metadata": {},
   "outputs": [],
   "source": []
  },
  {
   "cell_type": "code",
   "execution_count": null,
   "id": "1ca9784f",
   "metadata": {},
   "outputs": [],
   "source": []
  },
  {
   "cell_type": "markdown",
   "id": "580364fe",
   "metadata": {},
   "source": [
    "### 모델 평가"
   ]
  },
  {
   "cell_type": "code",
   "execution_count": null,
   "id": "fa7ecbf6",
   "metadata": {},
   "outputs": [],
   "source": []
  },
  {
   "cell_type": "markdown",
   "id": "0dc88684",
   "metadata": {},
   "source": [
    "### 결과 확인"
   ]
  },
  {
   "cell_type": "code",
   "execution_count": null,
   "id": "4359b8fb",
   "metadata": {},
   "outputs": [],
   "source": []
  },
  {
   "cell_type": "code",
   "execution_count": null,
   "id": "ca279885",
   "metadata": {},
   "outputs": [],
   "source": []
  },
  {
   "cell_type": "code",
   "execution_count": null,
   "id": "db9e5fa9",
   "metadata": {},
   "outputs": [],
   "source": []
  },
  {
   "cell_type": "code",
   "execution_count": null,
   "id": "64993107",
   "metadata": {},
   "outputs": [],
   "source": []
  },
  {
   "cell_type": "code",
   "execution_count": null,
   "id": "53b18eca",
   "metadata": {},
   "outputs": [],
   "source": []
  },
  {
   "cell_type": "code",
   "execution_count": null,
   "id": "3d898f98",
   "metadata": {},
   "outputs": [],
   "source": []
  },
  {
   "cell_type": "markdown",
   "id": "1c69292e",
   "metadata": {},
   "source": [
    "### Test Batch Dataset"
   ]
  },
  {
   "cell_type": "code",
   "execution_count": null,
   "id": "801b1fcb",
   "metadata": {},
   "outputs": [],
   "source": []
  },
  {
   "cell_type": "code",
   "execution_count": null,
   "id": "90531010",
   "metadata": {},
   "outputs": [],
   "source": []
  },
  {
   "cell_type": "code",
   "execution_count": null,
   "id": "86a9f117",
   "metadata": {},
   "outputs": [],
   "source": []
  },
  {
   "cell_type": "code",
   "execution_count": null,
   "id": "5d0f74db",
   "metadata": {},
   "outputs": [],
   "source": []
  },
  {
   "cell_type": "code",
   "execution_count": null,
   "id": "30261f7f",
   "metadata": {},
   "outputs": [],
   "source": []
  },
  {
   "cell_type": "code",
   "execution_count": null,
   "id": "fd091ceb",
   "metadata": {},
   "outputs": [],
   "source": []
  },
  {
   "cell_type": "code",
   "execution_count": null,
   "id": "30d5d63c",
   "metadata": {},
   "outputs": [],
   "source": []
  },
  {
   "cell_type": "code",
   "execution_count": null,
   "id": "f34a8ab9",
   "metadata": {},
   "outputs": [],
   "source": []
  }
 ],
 "metadata": {
  "kernelspec": {
   "display_name": "Python 3",
   "language": "python",
   "name": "python3"
  },
  "language_info": {
   "codemirror_mode": {
    "name": "ipython",
    "version": 3
   },
   "file_extension": ".py",
   "mimetype": "text/x-python",
   "name": "python",
   "nbconvert_exporter": "python",
   "pygments_lexer": "ipython3",
   "version": "3.8.8"
  }
 },
 "nbformat": 4,
 "nbformat_minor": 5
}
