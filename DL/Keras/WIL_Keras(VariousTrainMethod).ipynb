{
 "cells": [
  {
   "cell_type": "markdown",
   "id": "82c818cb",
   "metadata": {},
   "source": [
    "# 케라스 다양한 학습 기술\n",
    "\n",
    "- 과대적합, 과소적합을 막기 위한 방법들\n",
    "  - 모델의 크기 축소\n",
    "  \n",
    "  - 초기화\n",
    "\n",
    "  - 옵티마이저\n",
    "\n",
    "  - 배치 정규화\n",
    "\n",
    "  - 규제화"
   ]
  },
  {
   "cell_type": "markdown",
   "id": "6825d569",
   "metadata": {},
   "source": [
    "### 모델의 크기 축소\n",
    "- 가장 단순한 방법\n",
    "\n",
    "- 모델의 크기를 줄인다는 것은 **학습 파라미터의 수를 줄이는 것**"
   ]
  },
  {
   "cell_type": "markdown",
   "id": "d9751a73",
   "metadata": {},
   "source": [
    "#### 데이터 준비\n",
    "- 설명을 위한 코드"
   ]
  },
  {
   "cell_type": "code",
   "execution_count": 1,
   "id": "7bb56279",
   "metadata": {},
   "outputs": [],
   "source": [
    "from tensorflow.keras.datasets import imdb\n",
    "import numpy as np\n",
    "\n",
    "(train_data, train_labels), (test_data, test_labels) = imdb.load_data(num_words = 10000)\n",
    "\n",
    "def vectorize_seq(seqs, dim = 10000):\n",
    "    results = np.zeros((len(seqs), dim))\n",
    "    for i , seq in enumerate(seqs):\n",
    "        results[i, seq] = 1.\n",
    "        \n",
    "    return results\n",
    "\n",
    "x_train = vectorize_seq(train_data)\n",
    "x_test = vectorize_seq(test_data)\n",
    "\n",
    "y_train = np.asarray(train_labels).astype('float32')\n",
    "y_test = np.asarray(test_labels).astype('float32')"
   ]
  },
  {
   "cell_type": "markdown",
   "id": "dc77700f",
   "metadata": {},
   "source": [
    "#### 2가지의 모델 설정"
   ]
  },
  {
   "cell_type": "code",
   "execution_count": 2,
   "id": "d9406a30",
   "metadata": {},
   "outputs": [],
   "source": [
    "import tensorflow as tf\n",
    "from tensorflow.keras.models import Sequential\n",
    "from tensorflow.keras.layers import Dense"
   ]
  },
  {
   "cell_type": "code",
   "execution_count": 3,
   "id": "e9bd2ba4",
   "metadata": {},
   "outputs": [],
   "source": [
    "model_1 = Sequential([Dense(16, activation = 'relu', input_shape = (10000, ), name = 'input'),\n",
    "                     Dense(16, activation = 'relu', name = 'hidden'),\n",
    "                     Dense(1, activation = 'sigmoid', name = 'output')])"
   ]
  },
  {
   "cell_type": "code",
   "execution_count": 4,
   "id": "bdb785eb",
   "metadata": {},
   "outputs": [
    {
     "name": "stdout",
     "output_type": "stream",
     "text": [
      "Model: \"sequential\"\n",
      "_________________________________________________________________\n",
      "Layer (type)                 Output Shape              Param #   \n",
      "=================================================================\n",
      "input (Dense)                (None, 16)                160016    \n",
      "_________________________________________________________________\n",
      "hidden (Dense)               (None, 16)                272       \n",
      "_________________________________________________________________\n",
      "output (Dense)               (None, 1)                 17        \n",
      "=================================================================\n",
      "Total params: 160,305\n",
      "Trainable params: 160,305\n",
      "Non-trainable params: 0\n",
      "_________________________________________________________________\n"
     ]
    }
   ],
   "source": [
    "model_1.summary()"
   ]
  },
  {
   "cell_type": "code",
   "execution_count": 5,
   "id": "eb95900b",
   "metadata": {},
   "outputs": [],
   "source": [
    "model_2 = Sequential([Dense(7, activation = 'relu', input_shape = (10000, ), name = 'input2'),\n",
    "                     Dense(7, activation = 'relu', name = 'hidden2'),\n",
    "                     Dense(1, activation = 'sigmoid', name = 'output2')])"
   ]
  },
  {
   "cell_type": "code",
   "execution_count": 6,
   "id": "3557cee6",
   "metadata": {},
   "outputs": [
    {
     "name": "stdout",
     "output_type": "stream",
     "text": [
      "Model: \"sequential_1\"\n",
      "_________________________________________________________________\n",
      "Layer (type)                 Output Shape              Param #   \n",
      "=================================================================\n",
      "input2 (Dense)               (None, 7)                 70007     \n",
      "_________________________________________________________________\n",
      "hidden2 (Dense)              (None, 7)                 56        \n",
      "_________________________________________________________________\n",
      "output2 (Dense)              (None, 1)                 8         \n",
      "=================================================================\n",
      "Total params: 70,071\n",
      "Trainable params: 70,071\n",
      "Non-trainable params: 0\n",
      "_________________________________________________________________\n"
     ]
    }
   ],
   "source": [
    "model_2.summary()"
   ]
  },
  {
   "cell_type": "code",
   "execution_count": 7,
   "id": "f5f5be59",
   "metadata": {},
   "outputs": [],
   "source": [
    "# 컴파일\n",
    "## 차이는 모델의 크기가 다르다! (Trainable params의 수가 다르다)\n",
    "model_1.compile(optimizer = 'rmsprop',\n",
    "               loss = 'binary_crossentropy',\n",
    "               metrics = ['acc'])\n",
    "\n",
    "model_2.compile(optimizer = 'rmsprop',\n",
    "               loss = 'binary_crossentropy',\n",
    "               metrics = ['acc'])"
   ]
  },
  {
   "cell_type": "markdown",
   "id": "4cc6c1a3",
   "metadata": {},
   "source": [
    "#### 2개의 모델 학습"
   ]
  },
  {
   "cell_type": "code",
   "execution_count": 8,
   "id": "23c540d1",
   "metadata": {
    "scrolled": true
   },
   "outputs": [
    {
     "name": "stdout",
     "output_type": "stream",
     "text": [
      "Epoch 1/20\n",
      "49/49 [==============================] - 4s 41ms/step - loss: 0.4656 - acc: 0.8179 - val_loss: 0.3533 - val_acc: 0.8749\n",
      "Epoch 2/20\n",
      "49/49 [==============================] - 1s 18ms/step - loss: 0.2697 - acc: 0.9071 - val_loss: 0.3215 - val_acc: 0.8701\n",
      "Epoch 3/20\n",
      "49/49 [==============================] - 1s 17ms/step - loss: 0.2066 - acc: 0.9274 - val_loss: 0.2849 - val_acc: 0.8867\n",
      "Epoch 4/20\n",
      "49/49 [==============================] - 1s 18ms/step - loss: 0.1724 - acc: 0.9380 - val_loss: 0.3067 - val_acc: 0.8792\n",
      "Epoch 5/20\n",
      "49/49 [==============================] - 1s 19ms/step - loss: 0.1508 - acc: 0.9474 - val_loss: 0.3281 - val_acc: 0.8732\n",
      "Epoch 6/20\n",
      "49/49 [==============================] - 1s 17ms/step - loss: 0.1301 - acc: 0.9561 - val_loss: 0.3192 - val_acc: 0.8789\n",
      "Epoch 7/20\n",
      "49/49 [==============================] - 1s 18ms/step - loss: 0.1163 - acc: 0.9602 - val_loss: 0.3388 - val_acc: 0.8764\n",
      "Epoch 8/20\n",
      "49/49 [==============================] - 1s 18ms/step - loss: 0.1015 - acc: 0.9657 - val_loss: 0.3653 - val_acc: 0.8720\n",
      "Epoch 9/20\n",
      "49/49 [==============================] - 1s 19ms/step - loss: 0.0878 - acc: 0.9718 - val_loss: 0.4023 - val_acc: 0.8674\n",
      "Epoch 10/20\n",
      "49/49 [==============================] - 1s 18ms/step - loss: 0.0786 - acc: 0.9756 - val_loss: 0.4282 - val_acc: 0.8628\n",
      "Epoch 11/20\n",
      "49/49 [==============================] - 1s 18ms/step - loss: 0.0680 - acc: 0.9796 - val_loss: 0.4593 - val_acc: 0.8604\n",
      "Epoch 12/20\n",
      "49/49 [==============================] - 1s 18ms/step - loss: 0.0598 - acc: 0.9818 - val_loss: 0.4875 - val_acc: 0.8582\n",
      "Epoch 13/20\n",
      "49/49 [==============================] - 1s 17ms/step - loss: 0.0498 - acc: 0.9868 - val_loss: 0.5015 - val_acc: 0.8611\n",
      "Epoch 14/20\n",
      "49/49 [==============================] - 1s 18ms/step - loss: 0.0430 - acc: 0.9882 - val_loss: 0.5353 - val_acc: 0.8581\n",
      "Epoch 15/20\n",
      "49/49 [==============================] - 1s 17ms/step - loss: 0.0365 - acc: 0.9908 - val_loss: 0.5825 - val_acc: 0.8565\n",
      "Epoch 16/20\n",
      "49/49 [==============================] - 1s 19ms/step - loss: 0.0282 - acc: 0.9931 - val_loss: 0.6140 - val_acc: 0.8564\n",
      "Epoch 17/20\n",
      "49/49 [==============================] - 1s 18ms/step - loss: 0.0253 - acc: 0.9938 - val_loss: 0.6480 - val_acc: 0.8550\n",
      "Epoch 18/20\n",
      "49/49 [==============================] - 1s 18ms/step - loss: 0.0204 - acc: 0.9950 - val_loss: 0.6877 - val_acc: 0.8524\n",
      "Epoch 19/20\n",
      "49/49 [==============================] - 1s 18ms/step - loss: 0.0163 - acc: 0.9964 - val_loss: 0.7328 - val_acc: 0.8512\n",
      "Epoch 20/20\n",
      "49/49 [==============================] - 1s 18ms/step - loss: 0.0127 - acc: 0.9974 - val_loss: 0.7708 - val_acc: 0.8502\n"
     ]
    }
   ],
   "source": [
    "model_1_hist = model_1.fit(x_train, y_train, epochs = 20, batch_size = 512,\n",
    "                           validation_data = (x_test, y_test))"
   ]
  },
  {
   "cell_type": "code",
   "execution_count": 9,
   "id": "4f3c9bf9",
   "metadata": {
    "scrolled": true
   },
   "outputs": [
    {
     "name": "stdout",
     "output_type": "stream",
     "text": [
      "Epoch 1/20\n",
      "49/49 [==============================] - 2s 36ms/step - loss: 0.0118 - acc: 0.9974 - val_loss: 0.8196 - val_acc: 0.8493\n",
      "Epoch 2/20\n",
      "49/49 [==============================] - 1s 19ms/step - loss: 0.0089 - acc: 0.9983 - val_loss: 0.8578 - val_acc: 0.8492\n",
      "Epoch 3/20\n",
      "49/49 [==============================] - 1s 18ms/step - loss: 0.0071 - acc: 0.9990 - val_loss: 0.8987 - val_acc: 0.8482\n",
      "Epoch 4/20\n",
      "49/49 [==============================] - 1s 18ms/step - loss: 0.0054 - acc: 0.9989 - val_loss: 0.9380 - val_acc: 0.8481\n",
      "Epoch 5/20\n",
      "49/49 [==============================] - 1s 17ms/step - loss: 0.0058 - acc: 0.9985 - val_loss: 0.9771 - val_acc: 0.8469\n",
      "Epoch 6/20\n",
      "49/49 [==============================] - 1s 19ms/step - loss: 0.0062 - acc: 0.9984 - val_loss: 1.0193 - val_acc: 0.8469\n",
      "Epoch 7/20\n",
      "49/49 [==============================] - 1s 18ms/step - loss: 0.0016 - acc: 0.9999 - val_loss: 1.0851 - val_acc: 0.8453\n",
      "Epoch 8/20\n",
      "49/49 [==============================] - 1s 19ms/step - loss: 0.0025 - acc: 0.9996 - val_loss: 1.1133 - val_acc: 0.8462\n",
      "Epoch 9/20\n",
      "49/49 [==============================] - 1s 18ms/step - loss: 0.0039 - acc: 0.9990 - val_loss: 1.1550 - val_acc: 0.8473\n",
      "Epoch 10/20\n",
      "49/49 [==============================] - 1s 18ms/step - loss: 0.0011 - acc: 0.9999 - val_loss: 1.3439 - val_acc: 0.8353\n",
      "Epoch 11/20\n",
      "49/49 [==============================] - 1s 18ms/step - loss: 0.0019 - acc: 0.9995 - val_loss: 1.2967 - val_acc: 0.8394\n",
      "Epoch 12/20\n",
      "49/49 [==============================] - 1s 19ms/step - loss: 6.7447e-04 - acc: 0.9999 - val_loss: 1.2711 - val_acc: 0.8445\n",
      "Epoch 13/20\n",
      "49/49 [==============================] - 1s 18ms/step - loss: 0.0021 - acc: 0.9995 - val_loss: 1.3186 - val_acc: 0.8445\n",
      "Epoch 14/20\n",
      "49/49 [==============================] - 1s 18ms/step - loss: 2.7490e-04 - acc: 1.0000 - val_loss: 1.3771 - val_acc: 0.8436\n",
      "Epoch 15/20\n",
      "49/49 [==============================] - 1s 18ms/step - loss: 0.0018 - acc: 0.9994 - val_loss: 1.3971 - val_acc: 0.8435\n",
      "Epoch 16/20\n",
      "49/49 [==============================] - 1s 18ms/step - loss: 1.5134e-04 - acc: 1.0000 - val_loss: 1.4470 - val_acc: 0.8422\n",
      "Epoch 17/20\n",
      "49/49 [==============================] - 1s 18ms/step - loss: 0.0018 - acc: 0.9993 - val_loss: 1.4814 - val_acc: 0.8435\n",
      "Epoch 18/20\n",
      "49/49 [==============================] - 1s 17ms/step - loss: 9.0779e-05 - acc: 1.0000 - val_loss: 1.5193 - val_acc: 0.8428\n",
      "Epoch 19/20\n",
      "49/49 [==============================] - 1s 19ms/step - loss: 0.0028 - acc: 0.9992 - val_loss: 1.5563 - val_acc: 0.8434\n",
      "Epoch 20/20\n",
      "49/49 [==============================] - 1s 17ms/step - loss: 8.4066e-05 - acc: 1.0000 - val_loss: 1.5769 - val_acc: 0.8425\n"
     ]
    }
   ],
   "source": [
    "model_2_hist = model_1.fit(x_train, y_train, epochs = 20, batch_size = 512,\n",
    "                           validation_data = (x_test, y_test))"
   ]
  },
  {
   "cell_type": "markdown",
   "id": "8bd813b9",
   "metadata": {},
   "source": [
    "#### 비교"
   ]
  },
  {
   "cell_type": "code",
   "execution_count": 10,
   "id": "3deb01ca",
   "metadata": {},
   "outputs": [],
   "source": [
    "epochs = range(1, 21)\n",
    "model_1_val_loss = model_1_hist.history['val_loss']\n",
    "model_2_val_loss = model_2_hist.history['val_loss']"
   ]
  },
  {
   "cell_type": "code",
   "execution_count": 11,
   "id": "288b9129",
   "metadata": {},
   "outputs": [],
   "source": [
    "import matplotlib.pyplot as plt\n",
    "plt.style.use('seaborn-white')"
   ]
  },
  {
   "cell_type": "markdown",
   "id": "0d7c1d93",
   "metadata": {},
   "source": [
    "model_2 (더 작은 모델)이 '조금 더 나중에' 과대적합 발생"
   ]
  },
  {
   "cell_type": "code",
   "execution_count": 12,
   "id": "10d78773",
   "metadata": {},
   "outputs": [
    {
     "data": {
      "image/png": "[encoded data removed]",
      "text/plain": [
       "<Figure size 432x288 with 1 Axes>"
      ]
     },
     "metadata": {},
     "output_type": "display_data"
    }
   ],
   "source": [
    "plt.plot(epochs, model_1_val_loss, 'r+', label = 'Model 1')\n",
    "plt.plot(epochs, model_2_val_loss, 'bo', label = 'Model 2')\n",
    "plt.xlabel('Epochs')\n",
    "plt.ylabel('Validation Loss')\n",
    "plt.legend()\n",
    "plt.grid()\n",
    "\n",
    "plt.show()"
   ]
  },
  {
   "cell_type": "markdown",
   "id": "a431ef17",
   "metadata": {},
   "source": [
    "### 모델의 크기 축소 (2)"
   ]
  },
  {
   "cell_type": "markdown",
   "id": "c7d1633b",
   "metadata": {},
   "source": [
    "#### 모델 구성"
   ]
  },
  {
   "cell_type": "code",
   "execution_count": 13,
   "id": "2fc3e734",
   "metadata": {},
   "outputs": [
    {
     "name": "stdout",
     "output_type": "stream",
     "text": [
      "Model: \"sequential_2\"\n",
      "_________________________________________________________________\n",
      "Layer (type)                 Output Shape              Param #   \n",
      "=================================================================\n",
      "input3 (Dense)               (None, 1024)              10241024  \n",
      "_________________________________________________________________\n",
      "hidden3 (Dense)              (None, 1024)              1049600   \n",
      "_________________________________________________________________\n",
      "output3 (Dense)              (None, 1)                 1025      \n",
      "=================================================================\n",
      "Total params: 11,291,649\n",
      "Trainable params: 11,291,649\n",
      "Non-trainable params: 0\n",
      "_________________________________________________________________\n"
     ]
    }
   ],
   "source": [
    "model_3 = Sequential([Dense(1024, activation = 'relu', input_shape = (10000, ), name = 'input3'),\n",
    "                     Dense(1024, activation = 'relu', name = 'hidden3'),\n",
    "                     Dense(1, activation = 'sigmoid', name = 'output3')])\n",
    "\n",
    "model_3.compile(optimizer = 'rmsprop',\n",
    "               loss = 'binary_crossentropy',\n",
    "               metrics = ['acc'])\n",
    "\n",
    "model_3.summary()"
   ]
  },
  {
   "cell_type": "markdown",
   "id": "69d2a1e7",
   "metadata": {},
   "source": [
    "#### 모델 학습\n",
    "- 시간 소요"
   ]
  },
  {
   "cell_type": "code",
   "execution_count": 14,
   "id": "6c72d690",
   "metadata": {
    "scrolled": true
   },
   "outputs": [
    {
     "name": "stdout",
     "output_type": "stream",
     "text": [
      "Epoch 1/20\n",
      "49/49 [==============================] - 3s 40ms/step - loss: 0.5432 - acc: 0.7916 - val_loss: 0.3584 - val_acc: 0.8473\n",
      "Epoch 2/20\n",
      "49/49 [==============================] - 1s 24ms/step - loss: 0.2254 - acc: 0.9124 - val_loss: 0.4364 - val_acc: 0.8018\n",
      "Epoch 3/20\n",
      "49/49 [==============================] - 1s 25ms/step - loss: 0.1175 - acc: 0.9602 - val_loss: 0.3244 - val_acc: 0.8754\n",
      "Epoch 4/20\n",
      "49/49 [==============================] - 1s 24ms/step - loss: 0.0673 - acc: 0.9832 - val_loss: 0.4836 - val_acc: 0.8835\n",
      "Epoch 5/20\n",
      "49/49 [==============================] - 1s 24ms/step - loss: 0.1083 - acc: 0.9852 - val_loss: 0.4699 - val_acc: 0.8809\n",
      "Epoch 6/20\n",
      "49/49 [==============================] - 1s 25ms/step - loss: 0.0602 - acc: 0.9900 - val_loss: 0.4400 - val_acc: 0.8594\n",
      "Epoch 7/20\n",
      "49/49 [==============================] - 1s 24ms/step - loss: 0.0015 - acc: 1.0000 - val_loss: 0.6733 - val_acc: 0.8824\n",
      "Epoch 8/20\n",
      "49/49 [==============================] - 1s 25ms/step - loss: 6.2551e-05 - acc: 1.0000 - val_loss: 0.8813 - val_acc: 0.8815\n",
      "Epoch 9/20\n",
      "49/49 [==============================] - 1s 24ms/step - loss: 6.0176e-06 - acc: 1.0000 - val_loss: 1.0483 - val_acc: 0.8803\n",
      "Epoch 10/20\n",
      "49/49 [==============================] - 1s 25ms/step - loss: 5.4284e-07 - acc: 1.0000 - val_loss: 1.1920 - val_acc: 0.8804\n",
      "Epoch 11/20\n",
      "49/49 [==============================] - 1s 25ms/step - loss: 8.8500e-08 - acc: 1.0000 - val_loss: 1.3117 - val_acc: 0.8814\n",
      "Epoch 12/20\n",
      "49/49 [==============================] - 1s 24ms/step - loss: 2.5458e-08 - acc: 1.0000 - val_loss: 1.3928 - val_acc: 0.8809\n",
      "Epoch 13/20\n",
      "49/49 [==============================] - 1s 25ms/step - loss: 1.2835e-08 - acc: 1.0000 - val_loss: 1.4351 - val_acc: 0.8810\n",
      "Epoch 14/20\n",
      "49/49 [==============================] - 1s 24ms/step - loss: 8.5747e-09 - acc: 1.0000 - val_loss: 1.4613 - val_acc: 0.8809\n",
      "Epoch 15/20\n",
      "49/49 [==============================] - 1s 24ms/step - loss: 6.4381e-09 - acc: 1.0000 - val_loss: 1.4825 - val_acc: 0.8811\n",
      "Epoch 16/20\n",
      "49/49 [==============================] - 1s 24ms/step - loss: 5.1766e-09 - acc: 1.0000 - val_loss: 1.4991 - val_acc: 0.8809\n",
      "Epoch 17/20\n",
      "49/49 [==============================] - 1s 24ms/step - loss: 4.3386e-09 - acc: 1.0000 - val_loss: 1.5120 - val_acc: 0.8809\n",
      "Epoch 18/20\n",
      "49/49 [==============================] - 1s 25ms/step - loss: 3.7470e-09 - acc: 1.0000 - val_loss: 1.5228 - val_acc: 0.8810\n",
      "Epoch 19/20\n",
      "49/49 [==============================] - 1s 24ms/step - loss: 3.3030e-09 - acc: 1.0000 - val_loss: 1.5327 - val_acc: 0.8810\n",
      "Epoch 20/20\n",
      "49/49 [==============================] - 1s 25ms/step - loss: 2.9548e-09 - acc: 1.0000 - val_loss: 1.5417 - val_acc: 0.8810\n"
     ]
    }
   ],
   "source": [
    "model_3_hist = model_3.fit(x_train, y_train, epochs = 20, batch_size = 512,\n",
    "                           validation_data = (x_test, y_test))"
   ]
  },
  {
   "cell_type": "markdown",
   "id": "95948141",
   "metadata": {},
   "source": [
    "#### 시각화"
   ]
  },
  {
   "cell_type": "code",
   "execution_count": 15,
   "id": "1137fe20",
   "metadata": {},
   "outputs": [],
   "source": [
    "model_3_val_loss = model_3_hist.history['val_loss']"
   ]
  },
  {
   "cell_type": "code",
   "execution_count": 16,
   "id": "c9886dfe",
   "metadata": {},
   "outputs": [
    {
     "data": {
      "image/png": "[encoded data removed]",
      "text/plain": [
       "<Figure size 432x288 with 1 Axes>"
      ]
     },
     "metadata": {},
     "output_type": "display_data"
    }
   ],
   "source": [
    "plt.plot(epochs, model_1_val_loss, 'r+', label = 'Model 1')\n",
    "plt.plot(epochs, model_2_val_loss, 'bo', label = 'Model 2')\n",
    "plt.plot(epochs, model_3_val_loss, 'g--', label = 'Model 2')\n",
    "\n",
    "plt.xlabel('Epochs')\n",
    "plt.ylabel('Validation Loss')\n",
    "plt.legend()\n",
    "plt.grid()\n",
    "\n",
    "plt.show()"
   ]
  },
  {
   "cell_type": "markdown",
   "id": "efad78fc",
   "metadata": {},
   "source": [
    "* 볼륨이 큰 신경망일수록 빠르게 훈련데이터 모델링 가능(학습 손실이 낮아짐)\n",
    "* 과대 적합에는 더욱 민감해짐\n",
    "* 이는 학습-검증 데이터의 손실을 보면 알 수 있음"
   ]
  },
  {
   "cell_type": "code",
   "execution_count": 17,
   "id": "fa2c3363",
   "metadata": {},
   "outputs": [
    {
     "data": {
      "image/png": "[encoded data removed]",
      "text/plain": [
       "<Figure size 432x288 with 1 Axes>"
      ]
     },
     "metadata": {},
     "output_type": "display_data"
    }
   ],
   "source": [
    "model_1_train_loss = model_1_hist.history['loss']\n",
    "model_2_train_loss = model_2_hist.history['loss']\n",
    "model_3_train_loss = model_3_hist.history['loss']\n",
    "\n",
    "\n",
    "plt.plot(epochs, model_1_train_loss, 'r+', label = 'Model 1')\n",
    "plt.plot(epochs, model_2_train_loss, 'bo', label = 'Model 2')\n",
    "plt.plot(epochs, model_3_train_loss, 'g--', label = 'Model 2')\n",
    "\n",
    "plt.xlabel('Epochs')\n",
    "plt.ylabel('Training Loss')\n",
    "plt.legend()\n",
    "plt.grid()\n",
    "\n",
    "plt.show()"
   ]
  },
  {
   "cell_type": "markdown",
   "id": "94bb988f",
   "metadata": {},
   "source": [
    "### 가중치 초기화\n"
   ]
  },
  {
   "cell_type": "markdown",
   "id": "e0fff20f",
   "metadata": {},
   "source": [
    "#### 초기화 전략\n",
    "\n",
    "- Glorot Initialization (Xavier)\n",
    "  - 활성화 함수  \n",
    "    - 없음\n",
    "    - tanh\n",
    "    - sigmoid\n",
    "    - softmax\n",
    "\n",
    "- He Initialization \n",
    "  - 활성화 함수  \n",
    "    - ReLU\n",
    "    - LeakyReLU\n",
    "    - ELU 등\n",
    "\n",
    "    "
   ]
  },
  {
   "cell_type": "code",
   "execution_count": 18,
   "id": "cda012bb",
   "metadata": {},
   "outputs": [],
   "source": [
    "from tensorflow.keras.layers import Dense, LeakyReLU, Activation\n",
    "from tensorflow.keras.models import Sequential"
   ]
  },
  {
   "cell_type": "code",
   "execution_count": 19,
   "id": "c5cb687a",
   "metadata": {},
   "outputs": [
    {
     "name": "stdout",
     "output_type": "stream",
     "text": [
      "Model: \"sequential_3\"\n",
      "_________________________________________________________________\n",
      "Layer (type)                 Output Shape              Param #   \n",
      "=================================================================\n",
      "dense (Dense)                (None, 10, 30)            330       \n",
      "_________________________________________________________________\n",
      "leaky_re_lu (LeakyReLU)      (None, 10, 30)            0         \n",
      "_________________________________________________________________\n",
      "dense_1 (Dense)              (None, 10, 1)             31        \n",
      "_________________________________________________________________\n",
      "activation (Activation)      (None, 10, 1)             0         \n",
      "=================================================================\n",
      "Total params: 361\n",
      "Trainable params: 361\n",
      "Non-trainable params: 0\n",
      "_________________________________________________________________\n"
     ]
    }
   ],
   "source": [
    "model = Sequential([Dense(30, kernel_initializer = 'he_normal', input_shape = [10, 10]),\n",
    "                         LeakyReLU(alpha = 0.2),\n",
    "                         Dense(1, kernel_initializer = 'he_normal'),\n",
    "                         Activation('softmax')])\n",
    "\n",
    "model.summary()"
   ]
  },
  {
   "cell_type": "markdown",
   "id": "7f13637a",
   "metadata": {},
   "source": [
    "### 고속 옵티마이저"
   ]
  },
  {
   "cell_type": "markdown",
   "id": "15d3fe78",
   "metadata": {},
   "source": [
    "#### 모멘텀 최적화\n",
    "\n",
    "$\n",
    "\\qquad v \\ \\leftarrow \\ \\alpha \\ v - \\gamma \\ \\frac{\\partial L}{\\partial W} \\\\\n",
    "\\qquad W \\ \\leftarrow \\ W \\ + \\ v\n",
    "$\n",
    "\n",
    "  - $\\alpha\\ $ : 관성계수 \n",
    "\n",
    "  - $v$ :  속도\n",
    "\n",
    "  - $\\gamma\\ $ : 학습률\n",
    "\n",
    "  - $\\frac{\\partial L}{\\partial W}\\ $ : 손실함수에 대한 미분"
   ]
  },
  {
   "cell_type": "code",
   "execution_count": 20,
   "id": "87a7c4aa",
   "metadata": {},
   "outputs": [],
   "source": [
    "import tensorflow as tf\n",
    "from tensorflow.keras.optimizers import SGD"
   ]
  },
  {
   "cell_type": "code",
   "execution_count": 21,
   "id": "a8af2940",
   "metadata": {},
   "outputs": [],
   "source": [
    "optimizer = SGD(learning_rate = 0.001, momentum = 0.9)\n",
    "\n",
    "## 관성계수(a) > momentum 값 : 운동/움직임같은 표현이 momentum값에 따라 작동"
   ]
  },
  {
   "cell_type": "markdown",
   "id": "706c27b2",
   "metadata": {},
   "source": [
    "#### 네스테로프 (Nesterov)\n",
    "\n",
    "- 모멘텀의 방향으로 조금 앞선 곳에서 손실함수의 그라디언트를 구함\n",
    "\n",
    "- 시간이 지날수록 조금 더 빨리 최솟값에 도달\n",
    "\n",
    "$\n",
    "\\qquad m \\ \\leftarrow \\  \\beta m - \\eta \\bigtriangledown_\\theta J(\\theta + \\beta m) \\\\\n",
    "\\qquad \\theta \\ \\leftarrow \\ \\theta \\ + m\n",
    "$\n",
    "\n",
    "\n",
    "  - $h\\ $ : 기존 기울기를 제곱하여 더한 값\n",
    "\n",
    "  - $\\eta\\ $ : 학습률\n",
    "\n",
    "  - $\\bigtriangledown_\\theta J(\\theta) \\ $ : $\\theta$에 대한 미분(그라디언트)\n",
    "\n",
    "  <img src=\"https://t1.daumcdn.net/cfile/tistory/99D91C455C76428D11\">\n",
    "\n",
    "  <sub>출처: CS231n</sub>"
   ]
  },
  {
   "cell_type": "code",
   "execution_count": 22,
   "id": "f1b15e7f",
   "metadata": {},
   "outputs": [],
   "source": [
    "optimizer = SGD(learning_rate = 0.001, momentum = 0.9, nesterov = True)\n",
    "\n",
    "## nesterov : 최솟값에 조금 더 빨리 다다를수 있도록 momentum에대해 확장개념 사용 가능"
   ]
  },
  {
   "cell_type": "markdown",
   "id": "f3b1c1e5",
   "metadata": {},
   "source": [
    "#### AdaGrad(Adaptive Gradient)\n",
    "\n",
    "- 보통 간단한 모델에는 효과 좋을 수는 있으나, 심층 신경망 모델에서는 사용 X\n",
    "\n",
    "$\n",
    "\\qquad h \\ \\leftarrow \\  h + \\frac{\\partial L}{\\partial W} \\odot \\frac{\\partial L}{\\partial W} \\\\\n",
    "\\qquad W \\ \\leftarrow \\ W \\ + \\gamma \\frac{1}{\\sqrt h} \\ \\frac{\\partial L}{\\partial W}\n",
    "$\n",
    "\n",
    "  - $h\\ $ : 기존 기울기를 제곱하여 더한 값\n",
    "\n",
    "  - $\\gamma\\ $ : 학습률\n",
    "\n",
    "  - $\\frac{\\partial L}{\\partial W}\\ $ : $W$에 대한 미분\n"
   ]
  },
  {
   "cell_type": "code",
   "execution_count": 24,
   "id": "e50a2093",
   "metadata": {},
   "outputs": [],
   "source": [
    "from tensorflow.keras.optimizers import Adagrad"
   ]
  },
  {
   "cell_type": "code",
   "execution_count": 25,
   "id": "d787a8be",
   "metadata": {},
   "outputs": [],
   "source": [
    "optimizer = Adagrad(learning_rate = 0.001)"
   ]
  },
  {
   "cell_type": "markdown",
   "id": "5e25f35d",
   "metadata": {},
   "source": [
    "#### RMSProp\n",
    "\n",
    "\n",
    "$\n",
    "\\qquad s \\ \\leftarrow \\ \\beta \\ s + (1 - \\beta) \\bigtriangledown_{\\theta} J(\\theta) \\otimes \\bigtriangledown_{\\theta} J(\\theta) \\\\\n",
    "\\qquad \\theta \\ \\leftarrow \\ \\theta \\ - \\eta  \\ \\bigtriangledown_{\\theta} J(\\theta) \\oslash \\sqrt{s + \\epsilon}\n",
    "$\n",
    "\n",
    "  - $s \\ $ : 그래디언트의 제곱을 감쇠율을 곱한 후 더함\n",
    "\n",
    "  - $\\eta\\ $ : 학습률\n",
    "\n",
    "  - $\\bigtriangledown_{\\theta} J(\\theta) \\ $ : 손실함수의 미분값\n",
    "\n",
    "\n",
    "  "
   ]
  },
  {
   "cell_type": "code",
   "execution_count": 26,
   "id": "794a68b2",
   "metadata": {},
   "outputs": [],
   "source": [
    "from tensorflow.keras.optimizers import RMSprop"
   ]
  },
  {
   "cell_type": "code",
   "execution_count": 28,
   "id": "a93070f8",
   "metadata": {},
   "outputs": [],
   "source": [
    "optimizer = RMSprop(learning_rate = 0.001, rho = 0.9)\n",
    "\n",
    "## rho >> RMSProp의 s값에 해당"
   ]
  },
  {
   "cell_type": "markdown",
   "id": "8e734c39",
   "metadata": {},
   "source": [
    "#### Adam\n",
    "\n",
    "$\n",
    "\\qquad m \\ \\leftarrow \\  \\beta_1 \\ m - (1 - \\beta_1)\\ \\frac{\\partial L}{\\partial W}  \\\\\n",
    "\\qquad s \\ \\leftarrow \\ \\beta_2 \\ s + (1 - \\beta_2) \\frac{\\partial L}{\\partial W} \\odot \\frac{\\partial L}{\\partial W} \\\\\n",
    "\\qquad \\hat{m} \\ \\leftarrow \\frac{m}{1 - \\beta_1^t} \\\\\n",
    "\\qquad \\hat{s} \\ \\leftarrow \\frac{s}{1 - \\beta_2^t} \\\\\n",
    "\\qquad W \\ \\leftarrow \\ W \\ + \\gamma \\ \\hat{m}\\  \\oslash \\sqrt{\\hat{s} + \\epsilon}\n",
    "$\n",
    "\n",
    "  - $\\beta\\ $ : 지수 평균의 업데이트 계수\n",
    "\n",
    "  - $\\gamma\\ $ : 학습률\n",
    "\n",
    "  - $\\beta_1 \\approx 0.9\\ ,\\ \\ \\beta_2 \\approx 0.999$\n",
    "\n",
    "  - $\\frac{\\partial L}{\\partial W}\\ $ : $W$에 대한 미분"
   ]
  },
  {
   "cell_type": "markdown",
   "id": "7fae6194",
   "metadata": {},
   "source": [
    "- 일반적으로 가장 많이 사용"
   ]
  },
  {
   "cell_type": "code",
   "execution_count": 29,
   "id": "1c59e696",
   "metadata": {},
   "outputs": [],
   "source": [
    "from tensorflow.keras.optimizers import Adam"
   ]
  },
  {
   "cell_type": "code",
   "execution_count": 30,
   "id": "26edae2f",
   "metadata": {},
   "outputs": [],
   "source": [
    "optimizer = Adam(learning_rate = 0.001, beta_1 = 0.9, beta_2 = 0.999)"
   ]
  },
  {
   "cell_type": "markdown",
   "id": "3a72e655",
   "metadata": {},
   "source": [
    "### 배치 정규화(Batch Normalization)\n",
    "- 모델에 주입되는 샘플들을 균일하게 만드는 방법\n",
    "\n",
    "- 학습 후 새로운 데이터에 잘 일반화 할 수 있도록 도와줌\n",
    "\n",
    "- 데이터 전처리 단계에서 진행해도 되지만 정규화가 되어서 layer에 들어갔다는 보장이 없음\n",
    "\n",
    "- 주로 **Dense** 또는 **Conv2D** Layer 후, **활성화 함수**(Activation Function)이전에 놓임\n",
    "\n",
    "- >> Batch때마다 Normalization을 수행한다!! --> Generalization이 잘될수있도록 도와줌\n"
   ]
  },
  {
   "cell_type": "code",
   "execution_count": 34,
   "id": "fe74aa0d",
   "metadata": {},
   "outputs": [],
   "source": [
    "from tensorflow.keras.layers import BatchNormalization, Dense, Activation\n",
    "from tensorflow.keras.utils import plot_model"
   ]
  },
  {
   "cell_type": "code",
   "execution_count": 37,
   "id": "040ced20",
   "metadata": {},
   "outputs": [
    {
     "name": "stdout",
     "output_type": "stream",
     "text": [
      "Model: \"sequential_8\"\n",
      "_________________________________________________________________\n",
      "Layer (type)                 Output Shape              Param #   \n",
      "=================================================================\n",
      "dense_6 (Dense)              (None, 32)                25120     \n",
      "_________________________________________________________________\n",
      "batch_normalization_3 (Batch (None, 32)                128       \n",
      "_________________________________________________________________\n",
      "activation_4 (Activation)    (None, 32)                0         \n",
      "=================================================================\n",
      "Total params: 25,248\n",
      "Trainable params: 25,184\n",
      "Non-trainable params: 64\n",
      "_________________________________________________________________\n"
     ]
    },
    {
     "data": {
      "image/png": "[encoded data removed]",
      "text/plain": [
       "<IPython.core.display.Image object>"
      ]
     },
     "execution_count": 37,
     "metadata": {},
     "output_type": "execute_result"
    }
   ],
   "source": [
    "model = Sequential()\n",
    "\n",
    "model.add(Dense(32, input_shape = (28*28, ), kernel_initializer = 'he_normal'))\n",
    "model.add(BatchNormalization())\n",
    "model.add(Activation('relu'))\n",
    "\n",
    "model.summary()\n",
    "\n",
    "plot_model(model, show_shapes = True, to_file = 'BatchNormalization_model.png')"
   ]
  },
  {
   "cell_type": "markdown",
   "id": "12c29e33",
   "metadata": {},
   "source": [
    "### 규제화(Regularization)\n",
    "- 복잡한 네트워크 일수록 네트워크의 **복잡도**에 제한을 두어  \n",
    "  가중치가 작은 값을 가지도록 함\n",
    "\n",
    "- 가중치의 분포가 더 균일하게 됨\n",
    "\n",
    "- 네트워크 손실함수에 큰 가중치에 연관된 비용을 추가\n",
    "  - L1 규제 : 가중치의 절댓값에 비례하는 비용이 추가\n",
    "  - L2 규제 : 가중치의 제곱에 비례하는 비용이 추가(흔히 가중치 감쇠라고도 불림)\n",
    "  - 위 2규제가 합쳐진 경우도 존재"
   ]
  },
  {
   "cell_type": "markdown",
   "id": "47b86eb9",
   "metadata": {},
   "source": [
    "데이터는 **모델의 크기** 파트에서 사용된 imdb dataset"
   ]
  },
  {
   "cell_type": "code",
   "execution_count": 38,
   "id": "a8e29b97",
   "metadata": {},
   "outputs": [],
   "source": [
    "from tensorflow.keras.regularizers import l1, l2, l1_l2"
   ]
  },
  {
   "cell_type": "markdown",
   "id": "b6de26cb",
   "metadata": {},
   "source": [
    "#### 모델 구성"
   ]
  },
  {
   "cell_type": "code",
   "execution_count": 40,
   "id": "ad590564",
   "metadata": {},
   "outputs": [
    {
     "name": "stdout",
     "output_type": "stream",
     "text": [
      "Model: \"sequential_10\"\n",
      "_________________________________________________________________\n",
      "Layer (type)                 Output Shape              Param #   \n",
      "=================================================================\n",
      "dense_10 (Dense)             (None, 16)                160016    \n",
      "_________________________________________________________________\n",
      "dense_11 (Dense)             (None, 16)                272       \n",
      "_________________________________________________________________\n",
      "dense_12 (Dense)             (None, 1)                 17        \n",
      "=================================================================\n",
      "Total params: 160,305\n",
      "Trainable params: 160,305\n",
      "Non-trainable params: 0\n",
      "_________________________________________________________________\n"
     ]
    },
    {
     "data": {
      "image/png": "[encoded data removed]",
      "text/plain": [
       "<IPython.core.display.Image object>"
      ]
     },
     "execution_count": 40,
     "metadata": {},
     "output_type": "execute_result"
    }
   ],
   "source": [
    "l2_model = Sequential([Dense(16, kernel_regularizer = l2(l2 = 0.001), activation = 'relu', input_shape = (10000, )),\n",
    "                      Dense(16, kernel_regularizer = l2(l2 = 0.001), activation = 'relu'),\n",
    "                      Dense(1, activation = 'sigmoid')])\n",
    "\n",
    "l2_model.compile(optimizer = 'rmsprop',\n",
    "                loss = 'binary_crossentropy',\n",
    "                metrics = ['acc'])\n",
    "\n",
    "l2_model.summary()\n",
    "plot_model(l2_model, show_shapes = True, to_file = 'l2_model.png')"
   ]
  },
  {
   "cell_type": "markdown",
   "id": "20f5922e",
   "metadata": {},
   "source": [
    "#### 모델 학습"
   ]
  },
  {
   "cell_type": "code",
   "execution_count": 41,
   "id": "0cb48943",
   "metadata": {
    "scrolled": true
   },
   "outputs": [
    {
     "name": "stdout",
     "output_type": "stream",
     "text": [
      "Epoch 1/20\n",
      "49/49 [==============================] - 2s 39ms/step - loss: 0.5098 - acc: 0.8237 - val_loss: 0.3939 - val_acc: 0.8784\n",
      "Epoch 2/20\n",
      "49/49 [==============================] - 1s 20ms/step - loss: 0.3199 - acc: 0.9038 - val_loss: 0.3300 - val_acc: 0.8900\n",
      "Epoch 3/20\n",
      "49/49 [==============================] - 1s 19ms/step - loss: 0.2671 - acc: 0.9215 - val_loss: 0.3298 - val_acc: 0.8862\n",
      "Epoch 4/20\n",
      "49/49 [==============================] - 1s 19ms/step - loss: 0.2460 - acc: 0.9287 - val_loss: 0.3342 - val_acc: 0.8843\n",
      "Epoch 5/20\n",
      "49/49 [==============================] - 1s 19ms/step - loss: 0.2332 - acc: 0.9337 - val_loss: 0.3392 - val_acc: 0.8830\n",
      "Epoch 6/20\n",
      "49/49 [==============================] - 1s 19ms/step - loss: 0.2242 - acc: 0.9360 - val_loss: 0.3410 - val_acc: 0.8824\n",
      "Epoch 7/20\n",
      "49/49 [==============================] - 1s 19ms/step - loss: 0.2172 - acc: 0.9399 - val_loss: 0.3493 - val_acc: 0.8802\n",
      "Epoch 8/20\n",
      "49/49 [==============================] - 1s 19ms/step - loss: 0.2137 - acc: 0.9416 - val_loss: 0.3543 - val_acc: 0.8793\n",
      "Epoch 9/20\n",
      "49/49 [==============================] - 1s 19ms/step - loss: 0.2068 - acc: 0.9457 - val_loss: 0.3724 - val_acc: 0.8730\n",
      "Epoch 10/20\n",
      "49/49 [==============================] - 1s 19ms/step - loss: 0.2046 - acc: 0.9453 - val_loss: 0.3660 - val_acc: 0.8773\n",
      "Epoch 11/20\n",
      "49/49 [==============================] - 1s 19ms/step - loss: 0.1978 - acc: 0.9494 - val_loss: 0.3722 - val_acc: 0.8754\n",
      "Epoch 12/20\n",
      "49/49 [==============================] - 1s 19ms/step - loss: 0.1983 - acc: 0.9489 - val_loss: 0.3867 - val_acc: 0.8716\n",
      "Epoch 13/20\n",
      "49/49 [==============================] - 1s 19ms/step - loss: 0.1930 - acc: 0.9506 - val_loss: 0.3827 - val_acc: 0.8738\n",
      "Epoch 14/20\n",
      "49/49 [==============================] - 1s 19ms/step - loss: 0.1892 - acc: 0.9517 - val_loss: 0.3990 - val_acc: 0.8688\n",
      "Epoch 15/20\n",
      "49/49 [==============================] - 1s 19ms/step - loss: 0.1856 - acc: 0.9531 - val_loss: 0.4320 - val_acc: 0.8598\n",
      "Epoch 16/20\n",
      "49/49 [==============================] - 1s 19ms/step - loss: 0.1854 - acc: 0.9534 - val_loss: 0.4042 - val_acc: 0.8710\n",
      "Epoch 17/20\n",
      "49/49 [==============================] - 1s 19ms/step - loss: 0.1802 - acc: 0.9564 - val_loss: 0.4030 - val_acc: 0.8699\n",
      "Epoch 18/20\n",
      "49/49 [==============================] - 1s 20ms/step - loss: 0.1764 - acc: 0.9594 - val_loss: 0.4195 - val_acc: 0.8694\n",
      "Epoch 19/20\n",
      "49/49 [==============================] - 1s 19ms/step - loss: 0.1709 - acc: 0.9608 - val_loss: 0.4208 - val_acc: 0.8655\n",
      "Epoch 20/20\n",
      "49/49 [==============================] - 1s 18ms/step - loss: 0.1689 - acc: 0.9604 - val_loss: 0.4192 - val_acc: 0.8676\n"
     ]
    }
   ],
   "source": [
    "l2_model_hist = l2_model.fit(x_train, y_train, epochs = 20,\n",
    "                            batch_size = 512, validation_data = (x_test, y_test))\n",
    "\n",
    "## L2 >> overfitting되기전에 규제를 걸어줌으로서 방지"
   ]
  },
  {
   "cell_type": "markdown",
   "id": "084491d3",
   "metadata": {},
   "source": [
    "#### 시각화\n",
    "- Model 1은 **모델의 크기 축소**파트에서의 모델"
   ]
  },
  {
   "cell_type": "code",
   "execution_count": 42,
   "id": "22449d43",
   "metadata": {},
   "outputs": [
    {
     "data": {
      "image/png": "[encoded data removed]",
      "text/plain": [
       "<Figure size 432x288 with 1 Axes>"
      ]
     },
     "metadata": {},
     "output_type": "display_data"
    }
   ],
   "source": [
    "l2_model_val_loss = l2_model_hist.history['val_loss']\n",
    "\n",
    "epochs = range(1, 21)\n",
    "plt.plot(epochs, model_1_val_loss, 'r+', label = 'Model 1')\n",
    "plt.plot(epochs, l2_model_val_loss, 'bo', label = 'Model L2-Regularized')\n",
    "plt.xlabel('Epochs')\n",
    "plt.ylabel('Validation Loss')\n",
    "plt.legend()\n",
    "plt.grid()\n",
    "\n",
    "plt.show()\n",
    "\n",
    "## L2 규제를 통해 가중치(weight)를 감소(=규제)해준다는 것을 알수있음"
   ]
  },
  {
   "cell_type": "markdown",
   "id": "e79e5e86",
   "metadata": {},
   "source": [
    "#### L1과 비교"
   ]
  },
  {
   "cell_type": "code",
   "execution_count": 43,
   "id": "53d972a9",
   "metadata": {},
   "outputs": [
    {
     "name": "stdout",
     "output_type": "stream",
     "text": [
      "Model: \"sequential_11\"\n",
      "_________________________________________________________________\n",
      "Layer (type)                 Output Shape              Param #   \n",
      "=================================================================\n",
      "dense_13 (Dense)             (None, 16)                160016    \n",
      "_________________________________________________________________\n",
      "dense_14 (Dense)             (None, 16)                272       \n",
      "_________________________________________________________________\n",
      "dense_15 (Dense)             (None, 1)                 17        \n",
      "=================================================================\n",
      "Total params: 160,305\n",
      "Trainable params: 160,305\n",
      "Non-trainable params: 0\n",
      "_________________________________________________________________\n"
     ]
    },
    {
     "data": {
      "image/png": "[encoded data removed]",
      "text/plain": [
       "<IPython.core.display.Image object>"
      ]
     },
     "execution_count": 43,
     "metadata": {},
     "output_type": "execute_result"
    }
   ],
   "source": [
    "l1_model = Sequential([Dense(16, kernel_regularizer = l1(l1 = 0.0001), activation = 'relu', input_shape = (10000, )),\n",
    "                      Dense(16, kernel_regularizer = l1(l1 = 0.0001), activation = 'relu'),\n",
    "                      Dense(1, activation = 'sigmoid')])\n",
    "\n",
    "l1_model.compile(optimizer = 'rmsprop',\n",
    "                loss = 'binary_crossentropy',\n",
    "                metrics = ['acc'])\n",
    "\n",
    "l1_model.summary()\n",
    "plot_model(l1_model, show_shapes = True, to_file = 'l1_model.png')"
   ]
  },
  {
   "cell_type": "code",
   "execution_count": 44,
   "id": "f214e733",
   "metadata": {
    "scrolled": true
   },
   "outputs": [
    {
     "name": "stdout",
     "output_type": "stream",
     "text": [
      "Epoch 1/20\n",
      "49/49 [==============================] - 2s 40ms/step - loss: 0.5669 - acc: 0.8104 - val_loss: 0.4443 - val_acc: 0.8584\n",
      "Epoch 2/20\n",
      "49/49 [==============================] - 1s 19ms/step - loss: 0.3732 - acc: 0.8947 - val_loss: 0.3711 - val_acc: 0.8870\n",
      "Epoch 3/20\n",
      "49/49 [==============================] - 1s 19ms/step - loss: 0.3322 - acc: 0.9043 - val_loss: 0.3628 - val_acc: 0.8874\n",
      "Epoch 4/20\n",
      "49/49 [==============================] - 1s 19ms/step - loss: 0.3144 - acc: 0.9120 - val_loss: 0.3641 - val_acc: 0.8859\n",
      "Epoch 5/20\n",
      "49/49 [==============================] - 1s 18ms/step - loss: 0.3017 - acc: 0.9161 - val_loss: 0.3881 - val_acc: 0.8764\n",
      "Epoch 6/20\n",
      "49/49 [==============================] - 1s 19ms/step - loss: 0.2928 - acc: 0.9209 - val_loss: 0.3871 - val_acc: 0.8775\n",
      "Epoch 7/20\n",
      "49/49 [==============================] - 1s 19ms/step - loss: 0.2912 - acc: 0.9196 - val_loss: 0.3723 - val_acc: 0.8818\n",
      "Epoch 8/20\n",
      "49/49 [==============================] - 1s 20ms/step - loss: 0.2809 - acc: 0.9241 - val_loss: 0.3689 - val_acc: 0.8839\n",
      "Epoch 9/20\n",
      "49/49 [==============================] - 1s 19ms/step - loss: 0.2751 - acc: 0.9283 - val_loss: 0.3734 - val_acc: 0.8839\n",
      "Epoch 10/20\n",
      "49/49 [==============================] - 1s 19ms/step - loss: 0.2697 - acc: 0.9290 - val_loss: 0.3944 - val_acc: 0.8731\n",
      "Epoch 11/20\n",
      "49/49 [==============================] - 1s 18ms/step - loss: 0.2638 - acc: 0.9324 - val_loss: 0.3800 - val_acc: 0.8810\n",
      "Epoch 12/20\n",
      "49/49 [==============================] - 1s 20ms/step - loss: 0.2580 - acc: 0.9335 - val_loss: 0.3820 - val_acc: 0.8815\n",
      "Epoch 13/20\n",
      "49/49 [==============================] - 1s 19ms/step - loss: 0.2508 - acc: 0.9369 - val_loss: 0.4242 - val_acc: 0.8702\n",
      "Epoch 14/20\n",
      "49/49 [==============================] - 1s 19ms/step - loss: 0.2461 - acc: 0.9391 - val_loss: 0.4619 - val_acc: 0.8598\n",
      "Epoch 15/20\n",
      "49/49 [==============================] - 1s 19ms/step - loss: 0.2404 - acc: 0.9420 - val_loss: 0.4264 - val_acc: 0.8664\n",
      "Epoch 16/20\n",
      "49/49 [==============================] - 1s 20ms/step - loss: 0.2374 - acc: 0.9414 - val_loss: 0.4081 - val_acc: 0.8728\n",
      "Epoch 17/20\n",
      "49/49 [==============================] - 1s 20ms/step - loss: 0.2321 - acc: 0.9438 - val_loss: 0.4254 - val_acc: 0.8672\n",
      "Epoch 18/20\n",
      "49/49 [==============================] - 1s 19ms/step - loss: 0.2214 - acc: 0.9483 - val_loss: 0.4689 - val_acc: 0.8625\n",
      "Epoch 19/20\n",
      "49/49 [==============================] - 1s 19ms/step - loss: 0.2218 - acc: 0.9461 - val_loss: 0.4357 - val_acc: 0.8701\n",
      "Epoch 20/20\n",
      "49/49 [==============================] - 1s 18ms/step - loss: 0.2122 - acc: 0.9522 - val_loss: 0.4372 - val_acc: 0.8708\n"
     ]
    }
   ],
   "source": [
    "l1_model_hist = l1_model.fit(x_train, y_train, epochs = 20,\n",
    "                            batch_size = 512, validation_data = (x_test, y_test))"
   ]
  },
  {
   "cell_type": "code",
   "execution_count": 45,
   "id": "a4697a78",
   "metadata": {},
   "outputs": [
    {
     "data": {
      "image/png": "[encoded data removed]",
      "text/plain": [
       "<Figure size 432x288 with 1 Axes>"
      ]
     },
     "metadata": {},
     "output_type": "display_data"
    }
   ],
   "source": [
    "l1_model_val_loss = l1_model_hist.history['val_loss']\n",
    "\n",
    "epochs = range(1, 21)\n",
    "plt.plot(epochs, model_1_val_loss, 'r+', label = 'Model 1')\n",
    "plt.plot(epochs, l1_model_val_loss, 'bo', label = 'Model L1-Regularized')\n",
    "plt.xlabel('Epochs')\n",
    "plt.ylabel('Validation Loss')\n",
    "plt.legend()\n",
    "plt.grid()\n",
    "\n",
    "plt.show()"
   ]
  },
  {
   "cell_type": "markdown",
   "id": "9fbb7f1f",
   "metadata": {},
   "source": [
    "3가지 모델 비교\n",
    "- Original\n",
    "- L1\n",
    "- L2"
   ]
  },
  {
   "cell_type": "code",
   "execution_count": 48,
   "id": "34ef8b73",
   "metadata": {},
   "outputs": [
    {
     "data": {
      "image/png": "[encoded data removed]",
      "text/plain": [
       "<Figure size 432x288 with 1 Axes>"
      ]
     },
     "metadata": {},
     "output_type": "display_data"
    }
   ],
   "source": [
    "epochs = range(1, 21)\n",
    "plt.plot(epochs, model_1_val_loss, 'r+', label = 'Model 1')\n",
    "plt.plot(epochs, l1_model_val_loss, 'bo', label = 'Model L1-Regularized')\n",
    "plt.plot(epochs, l2_model_val_loss, 'g--', label = 'Model L2-Regularized')\n",
    "plt.xlabel('Epochs')\n",
    "plt.ylabel('Validation Loss')\n",
    "plt.legend()\n",
    "plt.grid()\n",
    "\n",
    "plt.show()"
   ]
  },
  {
   "cell_type": "markdown",
   "id": "4276cdd2",
   "metadata": {},
   "source": [
    "#### L1, L2와 비교"
   ]
  },
  {
   "cell_type": "code",
   "execution_count": 47,
   "id": "2b9a11ea",
   "metadata": {},
   "outputs": [
    {
     "name": "stdout",
     "output_type": "stream",
     "text": [
      "Model: \"sequential_13\"\n",
      "_________________________________________________________________\n",
      "Layer (type)                 Output Shape              Param #   \n",
      "=================================================================\n",
      "dense_19 (Dense)             (None, 16)                160016    \n",
      "_________________________________________________________________\n",
      "dense_20 (Dense)             (None, 16)                272       \n",
      "_________________________________________________________________\n",
      "dense_21 (Dense)             (None, 1)                 17        \n",
      "=================================================================\n",
      "Total params: 160,305\n",
      "Trainable params: 160,305\n",
      "Non-trainable params: 0\n",
      "_________________________________________________________________\n"
     ]
    },
    {
     "data": {
      "image/png": "[encoded data removed]",
      "text/plain": [
       "<IPython.core.display.Image object>"
      ]
     },
     "execution_count": 47,
     "metadata": {},
     "output_type": "execute_result"
    }
   ],
   "source": [
    "## L1, L2 둘다 사용하는 모델링\n",
    "\n",
    "l1_l2_model = Sequential([Dense(16, kernel_regularizer = l1_l2(l1=0.0001, l2=0.0001), \n",
    "                                activation = 'relu', input_shape = (10000, )),\n",
    "                      Dense(16, kernel_regularizer = l1_l2(l1=0.0001, l2=0.0001), \n",
    "                            activation = 'relu'),\n",
    "                      Dense(1, activation = 'sigmoid')])\n",
    "\n",
    "l1_l2_model.compile(optimizer = 'rmsprop',\n",
    "                loss = 'binary_crossentropy',\n",
    "                metrics = ['acc'])\n",
    "\n",
    "l1_l2_model.summary()\n",
    "plot_model(l1_l2_model, show_shapes = True, to_file = 'l1_l2_model.png')"
   ]
  },
  {
   "cell_type": "code",
   "execution_count": 50,
   "id": "12d844d8",
   "metadata": {
    "scrolled": true
   },
   "outputs": [
    {
     "name": "stdout",
     "output_type": "stream",
     "text": [
      "Epoch 1/20\n",
      "49/49 [==============================] - 2s 39ms/step - loss: 0.5507 - acc: 0.8198 - val_loss: 0.4144 - val_acc: 0.8834\n",
      "Epoch 2/20\n",
      "49/49 [==============================] - 1s 19ms/step - loss: 0.3652 - acc: 0.8966 - val_loss: 0.3673 - val_acc: 0.8892\n",
      "Epoch 3/20\n",
      "49/49 [==============================] - 1s 19ms/step - loss: 0.3243 - acc: 0.9084 - val_loss: 0.3579 - val_acc: 0.8877\n",
      "Epoch 4/20\n",
      "49/49 [==============================] - 1s 19ms/step - loss: 0.3121 - acc: 0.9127 - val_loss: 0.3607 - val_acc: 0.8872\n",
      "Epoch 5/20\n",
      "49/49 [==============================] - 1s 18ms/step - loss: 0.3024 - acc: 0.9149 - val_loss: 0.3772 - val_acc: 0.8777\n",
      "Epoch 6/20\n",
      "49/49 [==============================] - 1s 19ms/step - loss: 0.2917 - acc: 0.9225 - val_loss: 0.3746 - val_acc: 0.8803\n",
      "Epoch 7/20\n",
      "49/49 [==============================] - 1s 18ms/step - loss: 0.2878 - acc: 0.9221 - val_loss: 0.4053 - val_acc: 0.8686\n",
      "Epoch 8/20\n",
      "49/49 [==============================] - 1s 19ms/step - loss: 0.2796 - acc: 0.9274 - val_loss: 0.4356 - val_acc: 0.8610\n",
      "Epoch 9/20\n",
      "49/49 [==============================] - 1s 18ms/step - loss: 0.2763 - acc: 0.9274 - val_loss: 0.3772 - val_acc: 0.8825\n",
      "Epoch 10/20\n",
      "49/49 [==============================] - 1s 19ms/step - loss: 0.2722 - acc: 0.9282 - val_loss: 0.3791 - val_acc: 0.8816\n",
      "Epoch 11/20\n",
      "49/49 [==============================] - 1s 19ms/step - loss: 0.2613 - acc: 0.9336 - val_loss: 0.3945 - val_acc: 0.8732\n",
      "Epoch 12/20\n",
      "49/49 [==============================] - 1s 19ms/step - loss: 0.2600 - acc: 0.9347 - val_loss: 0.3800 - val_acc: 0.8797\n",
      "Epoch 13/20\n",
      "49/49 [==============================] - 1s 18ms/step - loss: 0.2529 - acc: 0.9369 - val_loss: 0.3910 - val_acc: 0.8761\n",
      "Epoch 14/20\n",
      "49/49 [==============================] - 1s 19ms/step - loss: 0.2472 - acc: 0.9380 - val_loss: 0.3862 - val_acc: 0.8799\n",
      "Epoch 15/20\n",
      "49/49 [==============================] - 1s 19ms/step - loss: 0.2397 - acc: 0.9415 - val_loss: 0.4031 - val_acc: 0.8721\n",
      "Epoch 16/20\n",
      "49/49 [==============================] - 1s 21ms/step - loss: 0.2395 - acc: 0.9409 - val_loss: 0.4032 - val_acc: 0.8728\n",
      "Epoch 17/20\n",
      "49/49 [==============================] - 1s 21ms/step - loss: 0.2302 - acc: 0.9475 - val_loss: 0.4072 - val_acc: 0.8729\n",
      "Epoch 18/20\n",
      "49/49 [==============================] - 1s 19ms/step - loss: 0.2300 - acc: 0.9448 - val_loss: 0.4060 - val_acc: 0.8750\n",
      "Epoch 19/20\n",
      "49/49 [==============================] - 1s 20ms/step - loss: 0.2218 - acc: 0.9508 - val_loss: 0.4096 - val_acc: 0.8736\n",
      "Epoch 20/20\n",
      "49/49 [==============================] - 1s 19ms/step - loss: 0.2208 - acc: 0.9493 - val_loss: 0.4152 - val_acc: 0.8732\n"
     ]
    }
   ],
   "source": [
    "l1_l2_model_hist = l1_l2_model.fit(x_train, y_train, epochs = 20,\n",
    "                            batch_size = 512, validation_data = (x_test, y_test))"
   ]
  },
  {
   "cell_type": "code",
   "execution_count": 51,
   "id": "f6195cbc",
   "metadata": {},
   "outputs": [
    {
     "data": {
      "image/png": "[encoded data removed]",
      "text/plain": [
       "<Figure size 432x288 with 1 Axes>"
      ]
     },
     "metadata": {},
     "output_type": "display_data"
    }
   ],
   "source": [
    "l1_l2_model_val_loss = l1_l2_model_hist.history['val_loss']\n",
    "\n",
    "epochs = range(1, 21)\n",
    "plt.plot(epochs, model_1_val_loss, 'r+', label = 'Model 1')\n",
    "plt.plot(epochs, l1_l2_model_val_loss, 'ko', label = 'Model L1_L2-Regularized')\n",
    "plt.xlabel('Epochs')\n",
    "plt.ylabel('Validation Loss')\n",
    "plt.legend()\n",
    "plt.grid()\n",
    "\n",
    "plt.show()"
   ]
  },
  {
   "cell_type": "markdown",
   "id": "da18a2ad",
   "metadata": {},
   "source": [
    "4가지 모델 비교\n",
    "- Original\n",
    "\n",
    "- L1\n",
    "\n",
    "- L2\n",
    "\n",
    "- L1_L2"
   ]
  },
  {
   "cell_type": "code",
   "execution_count": 52,
   "id": "fe5bd000",
   "metadata": {},
   "outputs": [
    {
     "data": {
      "image/png": "[encoded data removed]",
      "text/plain": [
       "<Figure size 432x288 with 1 Axes>"
      ]
     },
     "metadata": {},
     "output_type": "display_data"
    }
   ],
   "source": [
    "epochs = range(1, 21)\n",
    "plt.plot(epochs, model_1_val_loss, 'r+', label = 'Model 1')\n",
    "plt.plot(epochs, l1_model_val_loss, 'bo', label = 'Model L1-Regularized')\n",
    "plt.plot(epochs, l2_model_val_loss, 'g--', label = 'Model L2-Regularized')\n",
    "plt.plot(epochs, l1_l2_model_val_loss, 'ko', label = 'Model L1_L2-Regularized')\n",
    "\n",
    "plt.xlabel('Epochs')\n",
    "plt.ylabel('Validation Loss')\n",
    "plt.legend()\n",
    "plt.grid()\n",
    "\n",
    "plt.show()\n",
    "\n",
    "## 데이터셋에 따라 결과가 달라질수있기에, 모두 적용해보는게 가장 바람직함"
   ]
  },
  {
   "cell_type": "markdown",
   "id": "a88637c6",
   "metadata": {},
   "source": [
    "### 드롭아웃(Dropout)\n",
    "- 신경망을 위해 사용되는 규제 기법 중 가장 효과적이고 널리 사용되는 방법\n",
    "\n",
    "- 신경망의 레이어에 드롭아웃을 적용하면 훈련하는 동안 무작위로 층의 일부 특성(노드)를 제외\n",
    "  - 예를 들어, [1.0, 3.2, 0.6, 0.8, 1.1] 라는 벡터에 대해 드롭아웃을 적용하면 **무작위로 0으로 바뀜**  \n",
    "    $\\rightarrow$ [0, 3.2, 0.6, 0.8, 0]\n",
    "\n",
    "  - 보통 0.2 ~ 0.5 사이의 비율로 지정됨 >> 약 20% ~ 50%를 훈련에서 제외시켜버림\n",
    "\n",
    "- 테스트 단계에서는 그 어떤 노드도 드롭아웃 되지 않는다.\n",
    "  - 대신 해당 레이어의 출력 노드를 드롭아웃 비율에 맞게 줄여줌"
   ]
  },
  {
   "cell_type": "code",
   "execution_count": 53,
   "id": "cfc4112c",
   "metadata": {},
   "outputs": [],
   "source": [
    "from tensorflow.keras.layers import Dropout"
   ]
  },
  {
   "cell_type": "markdown",
   "id": "07133006",
   "metadata": {},
   "source": [
    "#### 모델 구성"
   ]
  },
  {
   "cell_type": "code",
   "execution_count": 55,
   "id": "fb56e448",
   "metadata": {},
   "outputs": [
    {
     "name": "stdout",
     "output_type": "stream",
     "text": [
      "Model: \"sequential_14\"\n",
      "_________________________________________________________________\n",
      "Layer (type)                 Output Shape              Param #   \n",
      "=================================================================\n",
      "dense_22 (Dense)             (None, 16)                160016    \n",
      "_________________________________________________________________\n",
      "dropout (Dropout)            (None, 16)                0         \n",
      "_________________________________________________________________\n",
      "dense_23 (Dense)             (None, 16)                272       \n",
      "_________________________________________________________________\n",
      "dropout_1 (Dropout)          (None, 16)                0         \n",
      "_________________________________________________________________\n",
      "dense_24 (Dense)             (None, 1)                 17        \n",
      "=================================================================\n",
      "Total params: 160,305\n",
      "Trainable params: 160,305\n",
      "Non-trainable params: 0\n",
      "_________________________________________________________________\n"
     ]
    },
    {
     "data": {
      "image/png": "[encoded data removed]",
      "text/plain": [
       "<IPython.core.display.Image object>"
      ]
     },
     "execution_count": 55,
     "metadata": {},
     "output_type": "execute_result"
    }
   ],
   "source": [
    "dropout_model = Sequential([Dense(16, activation = 'relu', input_shape = (10000, )),\n",
    "                            Dropout(0.5),\n",
    "                            Dense(16, activation = 'relu'),\n",
    "                            Dropout(0.5),\n",
    "                            Dense(1, activation = 'sigmoid')])\n",
    "\n",
    "dropout_model.compile(optimizer = 'rmsprop',\n",
    "                loss = 'binary_crossentropy',\n",
    "                metrics = ['acc'])\n",
    "\n",
    "dropout_model.summary()\n",
    "plot_model(dropout_model, show_shapes = True, to_file = 'dropout_model.png')"
   ]
  },
  {
   "cell_type": "markdown",
   "id": "700b598b",
   "metadata": {},
   "source": [
    "#### 모델 학습"
   ]
  },
  {
   "cell_type": "code",
   "execution_count": 56,
   "id": "a0a85de9",
   "metadata": {
    "scrolled": true
   },
   "outputs": [
    {
     "name": "stdout",
     "output_type": "stream",
     "text": [
      "Epoch 1/20\n",
      "49/49 [==============================] - 2s 40ms/step - loss: 0.6368 - acc: 0.6584 - val_loss: 0.5624 - val_acc: 0.8055\n",
      "Epoch 2/20\n",
      "49/49 [==============================] - 1s 19ms/step - loss: 0.5282 - acc: 0.8241 - val_loss: 0.4806 - val_acc: 0.8459\n",
      "Epoch 3/20\n",
      "49/49 [==============================] - 1s 19ms/step - loss: 0.4597 - acc: 0.8758 - val_loss: 0.4408 - val_acc: 0.8714\n",
      "Epoch 4/20\n",
      "49/49 [==============================] - 1s 20ms/step - loss: 0.4083 - acc: 0.9026 - val_loss: 0.4208 - val_acc: 0.8751\n",
      "Epoch 5/20\n",
      "49/49 [==============================] - 1s 19ms/step - loss: 0.3694 - acc: 0.9134 - val_loss: 0.4103 - val_acc: 0.8756\n",
      "Epoch 6/20\n",
      "49/49 [==============================] - 1s 20ms/step - loss: 0.3325 - acc: 0.9210 - val_loss: 0.3994 - val_acc: 0.8736\n",
      "Epoch 7/20\n",
      "49/49 [==============================] - 1s 21ms/step - loss: 0.3047 - acc: 0.9244 - val_loss: 0.4045 - val_acc: 0.8720\n",
      "Epoch 8/20\n",
      "49/49 [==============================] - 1s 20ms/step - loss: 0.2763 - acc: 0.9313 - val_loss: 0.4119 - val_acc: 0.8706\n",
      "Epoch 9/20\n",
      "49/49 [==============================] - 1s 21ms/step - loss: 0.2565 - acc: 0.9350 - val_loss: 0.4116 - val_acc: 0.8672\n",
      "Epoch 10/20\n",
      "49/49 [==============================] - 1s 20ms/step - loss: 0.2324 - acc: 0.9415 - val_loss: 0.4031 - val_acc: 0.8651\n",
      "Epoch 11/20\n",
      "49/49 [==============================] - 1s 20ms/step - loss: 0.2186 - acc: 0.9426 - val_loss: 0.4518 - val_acc: 0.8676\n",
      "Epoch 12/20\n",
      "49/49 [==============================] - 1s 20ms/step - loss: 0.2048 - acc: 0.9467 - val_loss: 0.4604 - val_acc: 0.8664\n",
      "Epoch 13/20\n",
      "49/49 [==============================] - 1s 20ms/step - loss: 0.1907 - acc: 0.9489 - val_loss: 0.5047 - val_acc: 0.8660\n",
      "Epoch 14/20\n",
      "49/49 [==============================] - 1s 20ms/step - loss: 0.1784 - acc: 0.9533 - val_loss: 0.4999 - val_acc: 0.8640\n",
      "Epoch 15/20\n",
      "49/49 [==============================] - 1s 20ms/step - loss: 0.1689 - acc: 0.9558 - val_loss: 0.5519 - val_acc: 0.8632\n",
      "Epoch 16/20\n",
      "49/49 [==============================] - 1s 20ms/step - loss: 0.1589 - acc: 0.9609 - val_loss: 0.5649 - val_acc: 0.8622\n",
      "Epoch 17/20\n",
      "49/49 [==============================] - 1s 20ms/step - loss: 0.1543 - acc: 0.9612 - val_loss: 0.5776 - val_acc: 0.8599\n",
      "Epoch 18/20\n",
      "49/49 [==============================] - 1s 20ms/step - loss: 0.1507 - acc: 0.9617 - val_loss: 0.6121 - val_acc: 0.8611\n",
      "Epoch 19/20\n",
      "49/49 [==============================] - 1s 20ms/step - loss: 0.1389 - acc: 0.9660 - val_loss: 0.6276 - val_acc: 0.8607\n",
      "Epoch 20/20\n",
      "49/49 [==============================] - 1s 20ms/step - loss: 0.1358 - acc: 0.9670 - val_loss: 0.6704 - val_acc: 0.8605\n"
     ]
    }
   ],
   "source": [
    "dropout_model_hist = dropout_model.fit(x_train, y_train, epochs = 20,\n",
    "                            batch_size = 512, validation_data = (x_test, y_test))"
   ]
  },
  {
   "cell_type": "markdown",
   "id": "56d4637a",
   "metadata": {},
   "source": [
    "#### 시각화"
   ]
  },
  {
   "cell_type": "code",
   "execution_count": 57,
   "id": "be2487c0",
   "metadata": {},
   "outputs": [
    {
     "data": {
      "image/png": "[encoded data removed]",
      "text/plain": [
       "<Figure size 432x288 with 1 Axes>"
      ]
     },
     "metadata": {},
     "output_type": "display_data"
    }
   ],
   "source": [
    "dropout_model_val_loss = dropout_model_hist.history['val_loss']\n",
    "\n",
    "epochs = range(1, 21)\n",
    "plt.plot(epochs, model_1_val_loss, 'r+', label = 'Model 1')\n",
    "plt.plot(epochs, dropout_model_val_loss, 'co', label = 'Model Dropout')\n",
    "plt.xlabel('Epochs')\n",
    "plt.ylabel('Validation Loss')\n",
    "plt.legend()\n",
    "plt.grid()\n",
    "\n",
    "plt.show()"
   ]
  },
  {
   "cell_type": "code",
   "execution_count": null,
   "id": "98fe6b46",
   "metadata": {},
   "outputs": [],
   "source": []
  }
 ],
 "metadata": {
  "kernelspec": {
   "display_name": "Python 3",
   "language": "python",
   "name": "python3"
  },
  "language_info": {
   "codemirror_mode": {
    "name": "ipython",
    "version": 3
   },
   "file_extension": ".py",
   "mimetype": "text/x-python",
   "name": "python",
   "nbconvert_exporter": "python",
   "pygments_lexer": "ipython3",
   "version": "3.8.8"
  }
 },
 "nbformat": 4,
 "nbformat_minor": 5
}
