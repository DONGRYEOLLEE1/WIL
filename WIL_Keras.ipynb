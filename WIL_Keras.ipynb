{
 "cells": [
  {
   "cell_type": "markdown",
   "id": "9ff20e3c",
   "metadata": {},
   "source": [
    "# 케라스(Keras) 기초부터 모델 생성까지\n",
    "\n",
    "<img src=\"https://s3.amazonaws.com/keras.io/img/keras-logo-2018-large-1200.png\">\n",
    "\n",
    "- 파이썬으로 작성된 고수준 신경망 API로 TensorFlow, CNTK, 혹은 Theano와 함께 사용 가능\n",
    "- 사용자 친화성, 모듈성, 확장성을 통해 빠르고 간편한 프로토타이핑 가능\n",
    "- 컨볼루션 신경망, 순환 신경망, 그리고 둘의 조합까지 모두 지원\n",
    "- CPU와 GPU에서 매끄럽게 실행"
   ]
  },
  {
   "cell_type": "code",
   "execution_count": 1,
   "id": "3be34efb",
   "metadata": {},
   "outputs": [
    {
     "data": {
      "text/plain": [
       "'2.6.0'"
      ]
     },
     "execution_count": 1,
     "metadata": {},
     "output_type": "execute_result"
    }
   ],
   "source": [
    "import numpy as np\n",
    "import tensorflow as tf\n",
    "\n",
    "tf.__version__"
   ]
  },
  {
   "cell_type": "markdown",
   "id": "3db8ed4d",
   "metadata": {},
   "source": [
    "레이어들을 import하는 방식 (1)\n",
    "- 일일이 import 하지 않아도 됨\n",
    "\n",
    "- 코드가 다소 길어질 수 있음"
   ]
  },
  {
   "cell_type": "code",
   "execution_count": 2,
   "id": "782b6374",
   "metadata": {},
   "outputs": [
    {
     "data": {
      "text/plain": [
       "'2.6.0'"
      ]
     },
     "execution_count": 2,
     "metadata": {},
     "output_type": "execute_result"
    }
   ],
   "source": [
    "from tensorflow import keras\n",
    "\n",
    "keras.__version__"
   ]
  },
  {
   "cell_type": "code",
   "execution_count": 3,
   "id": "efdda559",
   "metadata": {},
   "outputs": [
    {
     "data": {
      "text/plain": [
       "<keras.layers.core.Dense at 0x27fe1725cd0>"
      ]
     },
     "execution_count": 3,
     "metadata": {},
     "output_type": "execute_result"
    }
   ],
   "source": [
    "keras.layers.Dense(10, activation = 'sigmoid')"
   ]
  },
  {
   "cell_type": "code",
   "execution_count": 4,
   "id": "b9bf56e0",
   "metadata": {},
   "outputs": [
    {
     "data": {
      "text/plain": [
       "<keras.engine.training.Model at 0x27fe1753370>"
      ]
     },
     "execution_count": 4,
     "metadata": {},
     "output_type": "execute_result"
    }
   ],
   "source": [
    "keras.Model()"
   ]
  },
  {
   "cell_type": "code",
   "execution_count": 5,
   "id": "94f24050",
   "metadata": {},
   "outputs": [
    {
     "data": {
      "text/plain": [
       "<keras.engine.sequential.Sequential at 0x27fe17539a0>"
      ]
     },
     "execution_count": 5,
     "metadata": {},
     "output_type": "execute_result"
    }
   ],
   "source": [
    "keras.models.Sequential()"
   ]
  },
  {
   "cell_type": "markdown",
   "id": "6e3d431d",
   "metadata": {},
   "source": [
    "레이어들을 import하는 방식 (2)\n",
    "- 일일이 import 해야함\n",
    "- 코드가 간결"
   ]
  },
  {
   "cell_type": "code",
   "execution_count": 6,
   "id": "1b0b8bdc",
   "metadata": {},
   "outputs": [],
   "source": [
    "from tensorflow.keras.layers import Dense, Input, Flatten, Activation\n",
    "from tensorflow.keras.models import Sequential\n",
    "from tensorflow.keras import Model"
   ]
  },
  {
   "cell_type": "code",
   "execution_count": 7,
   "id": "8355812b",
   "metadata": {},
   "outputs": [
    {
     "data": {
      "text/plain": [
       "<keras.layers.core.Dense at 0x27fe1831fa0>"
      ]
     },
     "execution_count": 7,
     "metadata": {},
     "output_type": "execute_result"
    }
   ],
   "source": [
    "Dense(units = 10, activation = 'relu')"
   ]
  },
  {
   "cell_type": "code",
   "execution_count": 8,
   "id": "a92971b8",
   "metadata": {},
   "outputs": [
    {
     "data": {
      "text/plain": [
       "<keras.layers.core.Flatten at 0x27fe1753bb0>"
      ]
     },
     "execution_count": 8,
     "metadata": {},
     "output_type": "execute_result"
    }
   ],
   "source": [
    "Flatten(input_shape = [28, 28])"
   ]
  },
  {
   "cell_type": "code",
   "execution_count": 9,
   "id": "ab8bd724",
   "metadata": {},
   "outputs": [
    {
     "data": {
      "text/plain": [
       "<KerasTensor: shape=(None, 2) dtype=float32 (created by layer 'input_1')>"
      ]
     },
     "execution_count": 9,
     "metadata": {},
     "output_type": "execute_result"
    }
   ],
   "source": [
    "X_train = np.random.randn(5500, 2)\n",
    "\n",
    "Input(shape = X_train.shape[1:])"
   ]
  },
  {
   "cell_type": "markdown",
   "id": "dd045639",
   "metadata": {},
   "source": [
    "## 주요 레이어"
   ]
  },
  {
   "cell_type": "markdown",
   "id": "2d19ba3e",
   "metadata": {},
   "source": [
    "### Dense\n",
    "- Fully-Connected Layer\n",
    "\n",
    "- 노드수(유닛수), 활성화 함수 등을 지정\n",
    "\n",
    "- name을 통한 레이어간 구분 가능\n",
    "\n",
    "- 기본적으로  \n",
    "  'Glorot_uniform'(Xavier 분포 초기화) 가중치, zeros bias로 초기화\n",
    "  - kernel_initializer 인자를 통해 다른 가중치 초기화를 진행할 수 있음"
   ]
  },
  {
   "cell_type": "code",
   "execution_count": 10,
   "id": "e3356909",
   "metadata": {},
   "outputs": [],
   "source": [
    "dense = Dense(units = 10, activation = 'relu', name = 'Dense Layer')"
   ]
  },
  {
   "cell_type": "code",
   "execution_count": 11,
   "id": "df01136a",
   "metadata": {},
   "outputs": [
    {
     "data": {
      "text/plain": [
       "<keras.layers.core.Dense at 0x27fe18338b0>"
      ]
     },
     "execution_count": 11,
     "metadata": {},
     "output_type": "execute_result"
    }
   ],
   "source": [
    "dense"
   ]
  },
  {
   "cell_type": "code",
   "execution_count": 12,
   "id": "c7b3dda8",
   "metadata": {},
   "outputs": [],
   "source": [
    "dense2 = Dense(units = 15, activation = 'softmax')"
   ]
  },
  {
   "cell_type": "code",
   "execution_count": 13,
   "id": "5539c5e2",
   "metadata": {},
   "outputs": [
    {
     "data": {
      "text/plain": [
       "<keras.layers.core.Dense at 0x27fe1833df0>"
      ]
     },
     "execution_count": 13,
     "metadata": {},
     "output_type": "execute_result"
    }
   ],
   "source": [
    "dense2"
   ]
  },
  {
   "cell_type": "markdown",
   "id": "a99146d5",
   "metadata": {},
   "source": [
    "### Activation\n",
    "- Dense layer에서 미리 활성화함수를 지정할 수도 있지만 때에 따라서 따로 레이어를 만들어줄 수 있음"
   ]
  },
  {
   "cell_type": "code",
   "execution_count": 14,
   "id": "3f259d03",
   "metadata": {},
   "outputs": [
    {
     "data": {
      "text/plain": [
       "<keras.layers.core.Activation at 0x27fe1866610>"
      ]
     },
     "execution_count": 14,
     "metadata": {},
     "output_type": "execute_result"
    }
   ],
   "source": [
    "dense = Dense(units = 10, kernel_initializer = 'he_normal', name = 'Dense Layer')\n",
    "dense = Activation(dense)\n",
    "dense"
   ]
  },
  {
   "cell_type": "markdown",
   "id": "5ed49652",
   "metadata": {},
   "source": [
    "### Flatten\n",
    "- 배치 크기(또는 데이터 크기)를 제외하고 데이터를 1차원으로 쭉 펼치는 작업\n",
    "\n",
    "- 예시)\n",
    "        (128, 3, 2, 2) ---> (128, 12)\n",
    "      "
   ]
  },
  {
   "cell_type": "code",
   "execution_count": 15,
   "id": "21a80bda",
   "metadata": {},
   "outputs": [
    {
     "data": {
      "text/plain": [
       "<keras.layers.core.Flatten at 0x27fe1866c70>"
      ]
     },
     "execution_count": 15,
     "metadata": {},
     "output_type": "execute_result"
    }
   ],
   "source": [
    "Flatten(input_shape = (28, 28))"
   ]
  },
  {
   "cell_type": "markdown",
   "id": "0f3bcd44",
   "metadata": {},
   "source": [
    "### Input \n",
    "- 모델의 입력을 정의\n",
    "\n",
    "- shape, dtype을 포함\n",
    "\n",
    "- 하나의 모델은 여러 개의 입력을 가질 수 있음\n",
    "\n",
    "- `summary()` 메소드를 통해서는 보이지 않음"
   ]
  },
  {
   "cell_type": "code",
   "execution_count": 16,
   "id": "4e7c40c4",
   "metadata": {},
   "outputs": [],
   "source": [
    "input_1 = Input(shape = (28, 28), dtype = tf.float32)\n",
    "input_2 = Input(shape = (8, ), dtype = tf.int32)"
   ]
  },
  {
   "cell_type": "code",
   "execution_count": 17,
   "id": "7ff515bf",
   "metadata": {},
   "outputs": [
    {
     "data": {
      "text/plain": [
       "<KerasTensor: shape=(None, 28, 28) dtype=float32 (created by layer 'input_2')>"
      ]
     },
     "execution_count": 17,
     "metadata": {},
     "output_type": "execute_result"
    }
   ],
   "source": [
    "input_1"
   ]
  },
  {
   "cell_type": "code",
   "execution_count": 18,
   "id": "38119091",
   "metadata": {},
   "outputs": [
    {
     "data": {
      "text/plain": [
       "<KerasTensor: shape=(None, 8) dtype=int32 (created by layer 'input_3')>"
      ]
     },
     "execution_count": 18,
     "metadata": {},
     "output_type": "execute_result"
    }
   ],
   "source": [
    "input_2"
   ]
  },
  {
   "cell_type": "markdown",
   "id": "f9d08a63",
   "metadata": {},
   "source": [
    "## 모델 구성 방법\n",
    "- Sequential()\n",
    "\n",
    "- 서브클래싱(Subclassing)\n",
    "\n",
    "- 함수형 API"
   ]
  },
  {
   "cell_type": "markdown",
   "id": "29f53d07",
   "metadata": {},
   "source": [
    "### Sequential()\n",
    "\n",
    "- 모델이 순차적으로 진행할 때 사용\n",
    "\n",
    "- 간단한 방법\n",
    "  - Sequential 객체 생성 후, **add**를 통한 방법\n",
    "  \n",
    "  - Sequential 인자에 한번에 추가\n",
    "\n",
    "- 다중 입력 및 출력이 존재하는 등의 복잡한 모델을 구성할 수 없음\n"
   ]
  },
  {
   "cell_type": "code",
   "execution_count": 19,
   "id": "83a7d3f9",
   "metadata": {},
   "outputs": [],
   "source": [
    "from tensorflow.keras.layers import Dense, Input, Flatten\n",
    "from tensorflow.keras.models import Sequential, Model\n",
    "from tensorflow.keras.utils import plot_model"
   ]
  },
  {
   "cell_type": "code",
   "execution_count": 20,
   "id": "3bd4bff5",
   "metadata": {},
   "outputs": [],
   "source": [
    "model = Sequential()\n",
    "model.add(Input(shape = (28, 28)))\n",
    "model.add(Dense(units = 300, activation = 'relu'))\n",
    "model.add(Dense(units = 100, activation = 'relu'))\n",
    "# 최종결과 확인, Mnist 결과라고 가정 // 다중분류문제할땐 주로 softmax 함수 사용\n",
    "model.add(Dense(units = 10, activation = 'softmax'))"
   ]
  },
  {
   "cell_type": "markdown",
   "id": "95972f3f",
   "metadata": {},
   "source": [
    "모델 구조 확인\n",
    "- model 객체의 **summary()** 이용"
   ]
  },
  {
   "cell_type": "code",
   "execution_count": 21,
   "id": "977d2a39",
   "metadata": {},
   "outputs": [
    {
     "name": "stdout",
     "output_type": "stream",
     "text": [
      "Model: \"sequential_1\"\n",
      "_________________________________________________________________\n",
      "Layer (type)                 Output Shape              Param #   \n",
      "=================================================================\n",
      "dense_3 (Dense)              (None, 28, 300)           8700      \n",
      "_________________________________________________________________\n",
      "dense_4 (Dense)              (None, 28, 100)           30100     \n",
      "_________________________________________________________________\n",
      "dense_5 (Dense)              (None, 28, 10)            1010      \n",
      "=================================================================\n",
      "Total params: 39,810\n",
      "Trainable params: 39,810\n",
      "Non-trainable params: 0\n",
      "_________________________________________________________________\n"
     ]
    }
   ],
   "source": [
    "model.summary()"
   ]
  },
  {
   "cell_type": "code",
   "execution_count": 22,
   "id": "e3ee14d8",
   "metadata": {},
   "outputs": [],
   "source": [
    "#!pip install pydot"
   ]
  },
  {
   "cell_type": "code",
   "execution_count": 23,
   "id": "73eda4c6",
   "metadata": {},
   "outputs": [
    {
     "data": {
      "image/png": "[encoded data removed]",
      "text/plain": [
       "<IPython.core.display.Image object>"
      ]
     },
     "execution_count": 23,
     "metadata": {},
     "output_type": "execute_result"
    }
   ],
   "source": [
    "plot_model(model)"
   ]
  },
  {
   "cell_type": "code",
   "execution_count": 24,
   "id": "2392edb9",
   "metadata": {},
   "outputs": [
    {
     "data": {
      "image/png": "[encoded data removed]",
      "text/plain": [
       "<IPython.core.display.Image object>"
      ]
     },
     "execution_count": 24,
     "metadata": {},
     "output_type": "execute_result"
    }
   ],
   "source": [
    "plot_model(model, to_file = 'model1.png')"
   ]
  },
  {
   "cell_type": "code",
   "execution_count": 25,
   "id": "b9312e45",
   "metadata": {},
   "outputs": [],
   "source": [
    "model = Sequential([Input(shape = (28, 28), name = 'Input'),\n",
    "                   Dense(300, activation = 'relu', name = 'Dense1'),\n",
    "                   Dense(100, activation = 'relu', name = 'Dense2'),\n",
    "                   Dense(10, activation = 'softmax', name = 'Output')])"
   ]
  },
  {
   "cell_type": "code",
   "execution_count": 26,
   "id": "33a10ab7",
   "metadata": {},
   "outputs": [
    {
     "name": "stdout",
     "output_type": "stream",
     "text": [
      "Model: \"sequential_2\"\n",
      "_________________________________________________________________\n",
      "Layer (type)                 Output Shape              Param #   \n",
      "=================================================================\n",
      "Dense1 (Dense)               (None, 28, 300)           8700      \n",
      "_________________________________________________________________\n",
      "Dense2 (Dense)               (None, 28, 100)           30100     \n",
      "_________________________________________________________________\n",
      "Output (Dense)               (None, 28, 10)            1010      \n",
      "=================================================================\n",
      "Total params: 39,810\n",
      "Trainable params: 39,810\n",
      "Non-trainable params: 0\n",
      "_________________________________________________________________\n"
     ]
    }
   ],
   "source": [
    "model.summary()"
   ]
  },
  {
   "cell_type": "code",
   "execution_count": 27,
   "id": "2ab3e1db",
   "metadata": {},
   "outputs": [
    {
     "data": {
      "image/png": "[encoded data removed]",
      "text/plain": [
       "<IPython.core.display.Image object>"
      ]
     },
     "execution_count": 27,
     "metadata": {},
     "output_type": "execute_result"
    }
   ],
   "source": [
    "plot_model(model)"
   ]
  },
  {
   "cell_type": "code",
   "execution_count": 28,
   "id": "e847c247",
   "metadata": {},
   "outputs": [
    {
     "data": {
      "image/png": "[encoded data removed]",
      "text/plain": [
       "<IPython.core.display.Image object>"
      ]
     },
     "execution_count": 28,
     "metadata": {},
     "output_type": "execute_result"
    }
   ],
   "source": [
    "plot_model(model, to_file = 'model2.png')"
   ]
  },
  {
   "cell_type": "markdown",
   "id": "39ee6faa",
   "metadata": {},
   "source": [
    "### 함수형 API\n",
    "\n",
    "- 가장 권장되는 방법\n",
    "\n",
    "- 모델을 복잡하고, 유연하게 구성 가능\n",
    "\n",
    "- 다중 입출력을 다룰 수 있음"
   ]
  },
  {
   "cell_type": "code",
   "execution_count": 29,
   "id": "d5be2685",
   "metadata": {},
   "outputs": [],
   "source": [
    "from tensorflow.keras.models import Model\n",
    "from tensorflow.keras.layers import Input, Flatten, Dense\n",
    "from tensorflow.keras.utils import plot_model"
   ]
  },
  {
   "cell_type": "code",
   "execution_count": 30,
   "id": "184536bd",
   "metadata": {},
   "outputs": [],
   "source": [
    "inputs = Input(shape = (28, 28, 1))\n",
    "\n",
    "x = Flatten(input_shape = (28, 28, 1))(inputs)\n",
    "x = Dense(300, activation = 'relu')(x)\n",
    "x = Dense(100, activation = 'relu')(x)\n",
    "x = Dense(10, activation = 'softmax')(x)"
   ]
  },
  {
   "cell_type": "code",
   "execution_count": 31,
   "id": "2babd0ff",
   "metadata": {},
   "outputs": [],
   "source": [
    "model = Model(inputs = inputs, outputs = x)"
   ]
  },
  {
   "cell_type": "code",
   "execution_count": 32,
   "id": "dbd777af",
   "metadata": {},
   "outputs": [
    {
     "name": "stdout",
     "output_type": "stream",
     "text": [
      "Model: \"model_1\"\n",
      "_________________________________________________________________\n",
      "Layer (type)                 Output Shape              Param #   \n",
      "=================================================================\n",
      "input_5 (InputLayer)         [(None, 28, 28, 1)]       0         \n",
      "_________________________________________________________________\n",
      "flatten_2 (Flatten)          (None, 784)               0         \n",
      "_________________________________________________________________\n",
      "dense_6 (Dense)              (None, 300)               235500    \n",
      "_________________________________________________________________\n",
      "dense_7 (Dense)              (None, 100)               30100     \n",
      "_________________________________________________________________\n",
      "dense_8 (Dense)              (None, 10)                1010      \n",
      "=================================================================\n",
      "Total params: 266,610\n",
      "Trainable params: 266,610\n",
      "Non-trainable params: 0\n",
      "_________________________________________________________________\n"
     ]
    }
   ],
   "source": [
    "model.summary()"
   ]
  },
  {
   "cell_type": "code",
   "execution_count": 33,
   "id": "bda57b37",
   "metadata": {},
   "outputs": [
    {
     "data": {
      "image/png": "[encoded data removed]",
      "text/plain": [
       "<IPython.core.display.Image object>"
      ]
     },
     "execution_count": 33,
     "metadata": {},
     "output_type": "execute_result"
    }
   ],
   "source": [
    "plot_model(model)"
   ]
  },
  {
   "cell_type": "code",
   "execution_count": 34,
   "id": "c2383a04",
   "metadata": {},
   "outputs": [
    {
     "data": {
      "image/png": "[encoded data removed]",
      "text/plain": [
       "<IPython.core.display.Image object>"
      ]
     },
     "execution_count": 34,
     "metadata": {},
     "output_type": "execute_result"
    }
   ],
   "source": [
    "plot_model(model, to_file = 'model3.png')"
   ]
  },
  {
   "cell_type": "code",
   "execution_count": 35,
   "id": "cd352910",
   "metadata": {},
   "outputs": [],
   "source": [
    "from tensorflow.keras.layers import Concatenate\n",
    "\n",
    "# widen deep\n",
    "input_layer = Input(shape = (28, 28))\n",
    "hidden1 = Dense(100, activation = 'relu')(input_layer)\n",
    "hidden2 = Dense(30, activation = 'relu')(hidden1)\n",
    "concat = Concatenate()([input_layer, hidden2])\n",
    "output = Dense(1)(concat)\n",
    "\n",
    "model = Model(inputs = [input_layer], outputs = [output])"
   ]
  },
  {
   "cell_type": "code",
   "execution_count": 36,
   "id": "76bcea01",
   "metadata": {},
   "outputs": [
    {
     "name": "stdout",
     "output_type": "stream",
     "text": [
      "Model: \"model_2\"\n",
      "__________________________________________________________________________________________________\n",
      "Layer (type)                    Output Shape         Param #     Connected to                     \n",
      "==================================================================================================\n",
      "input_6 (InputLayer)            [(None, 28, 28)]     0                                            \n",
      "__________________________________________________________________________________________________\n",
      "dense_9 (Dense)                 (None, 28, 100)      2900        input_6[0][0]                    \n",
      "__________________________________________________________________________________________________\n",
      "dense_10 (Dense)                (None, 28, 30)       3030        dense_9[0][0]                    \n",
      "__________________________________________________________________________________________________\n",
      "concatenate (Concatenate)       (None, 28, 58)       0           input_6[0][0]                    \n",
      "                                                                 dense_10[0][0]                   \n",
      "__________________________________________________________________________________________________\n",
      "dense_11 (Dense)                (None, 28, 1)        59          concatenate[0][0]                \n",
      "==================================================================================================\n",
      "Total params: 5,989\n",
      "Trainable params: 5,989\n",
      "Non-trainable params: 0\n",
      "__________________________________________________________________________________________________\n"
     ]
    }
   ],
   "source": [
    "model.summary()"
   ]
  },
  {
   "cell_type": "code",
   "execution_count": 37,
   "id": "9302fff0",
   "metadata": {},
   "outputs": [
    {
     "data": {
      "image/png": "[encoded data removed]",
      "text/plain": [
       "<IPython.core.display.Image object>"
      ]
     },
     "execution_count": 37,
     "metadata": {},
     "output_type": "execute_result"
    }
   ],
   "source": [
    "plot_model(model)"
   ]
  },
  {
   "cell_type": "code",
   "execution_count": 38,
   "id": "aaedee9d",
   "metadata": {},
   "outputs": [],
   "source": [
    "# 다중레이어 (여러개의 입력값) >> input_layer가 2개 이상\n",
    "input_1 = Input(shape = (10, 10), name = 'input_1')\n",
    "input_2 = Input(shape = (10, 28), name = 'input_2')\n",
    "\n",
    "# wide layer, deep layer 구분 >> 다중레이어 생성\n",
    "hidden1 = Dense(100, activation = 'relu')(input_2)\n",
    "hidden2 = Dense(10, activation = 'relu')(hidden1)\n",
    "concat = Concatenate()([input_1, hidden2])\n",
    "output = Dense(1, activation = 'sigmoid', name = 'output')(concat)\n",
    "\n",
    "model = Model(inputs = [input_1, input_2], outputs = [output])"
   ]
  },
  {
   "cell_type": "code",
   "execution_count": 39,
   "id": "da581900",
   "metadata": {},
   "outputs": [
    {
     "name": "stdout",
     "output_type": "stream",
     "text": [
      "Model: \"model_3\"\n",
      "__________________________________________________________________________________________________\n",
      "Layer (type)                    Output Shape         Param #     Connected to                     \n",
      "==================================================================================================\n",
      "input_2 (InputLayer)            [(None, 10, 28)]     0                                            \n",
      "__________________________________________________________________________________________________\n",
      "dense_12 (Dense)                (None, 10, 100)      2900        input_2[0][0]                    \n",
      "__________________________________________________________________________________________________\n",
      "input_1 (InputLayer)            [(None, 10, 10)]     0                                            \n",
      "__________________________________________________________________________________________________\n",
      "dense_13 (Dense)                (None, 10, 10)       1010        dense_12[0][0]                   \n",
      "__________________________________________________________________________________________________\n",
      "concatenate_1 (Concatenate)     (None, 10, 20)       0           input_1[0][0]                    \n",
      "                                                                 dense_13[0][0]                   \n",
      "__________________________________________________________________________________________________\n",
      "output (Dense)                  (None, 10, 1)        21          concatenate_1[0][0]              \n",
      "==================================================================================================\n",
      "Total params: 3,931\n",
      "Trainable params: 3,931\n",
      "Non-trainable params: 0\n",
      "__________________________________________________________________________________________________\n"
     ]
    }
   ],
   "source": [
    "model.summary()"
   ]
  },
  {
   "cell_type": "code",
   "execution_count": 40,
   "id": "340a8a80",
   "metadata": {},
   "outputs": [
    {
     "data": {
      "image/png": "[encoded data removed]",
      "text/plain": [
       "<IPython.core.display.Image object>"
      ]
     },
     "execution_count": 40,
     "metadata": {},
     "output_type": "execute_result"
    }
   ],
   "source": [
    "plot_model(model, to_file = 'model5.png')"
   ]
  },
  {
   "cell_type": "code",
   "execution_count": 41,
   "id": "f6adb2a6",
   "metadata": {},
   "outputs": [],
   "source": [
    "# 다중출력\n",
    "input_ = Input(shape = (10, 10), name = 'input_')\n",
    "\n",
    "hidden1 = Dense(100, activation = 'relu')(input_)\n",
    "hidden2 = Dense(10, activation = 'relu')(hidden1)\n",
    "\n",
    "output = Dense(1, activation = 'sigmoid', name = 'main_output')(hidden2)\n",
    "sub_out = Dense(1, name = 'sum_output')(hidden2)\n",
    "\n",
    "model = Model(inputs = [input_], outputs = [output, sub_out])"
   ]
  },
  {
   "cell_type": "code",
   "execution_count": 42,
   "id": "eece918f",
   "metadata": {},
   "outputs": [
    {
     "name": "stdout",
     "output_type": "stream",
     "text": [
      "Model: \"model_4\"\n",
      "__________________________________________________________________________________________________\n",
      "Layer (type)                    Output Shape         Param #     Connected to                     \n",
      "==================================================================================================\n",
      "input_ (InputLayer)             [(None, 10, 10)]     0                                            \n",
      "__________________________________________________________________________________________________\n",
      "dense_14 (Dense)                (None, 10, 100)      1100        input_[0][0]                     \n",
      "__________________________________________________________________________________________________\n",
      "dense_15 (Dense)                (None, 10, 10)       1010        dense_14[0][0]                   \n",
      "__________________________________________________________________________________________________\n",
      "main_output (Dense)             (None, 10, 1)        11          dense_15[0][0]                   \n",
      "__________________________________________________________________________________________________\n",
      "sum_output (Dense)              (None, 10, 1)        11          dense_15[0][0]                   \n",
      "==================================================================================================\n",
      "Total params: 2,132\n",
      "Trainable params: 2,132\n",
      "Non-trainable params: 0\n",
      "__________________________________________________________________________________________________\n"
     ]
    }
   ],
   "source": [
    "model.summary()"
   ]
  },
  {
   "cell_type": "code",
   "execution_count": 43,
   "id": "a38825dc",
   "metadata": {
    "scrolled": true
   },
   "outputs": [
    {
     "data": {
      "image/png": "[encoded data removed]",
      "text/plain": [
       "<IPython.core.display.Image object>"
      ]
     },
     "execution_count": 43,
     "metadata": {},
     "output_type": "execute_result"
    }
   ],
   "source": [
    "plot_model(model, to_file = 'model6.png')"
   ]
  },
  {
   "cell_type": "code",
   "execution_count": 44,
   "id": "7a732864",
   "metadata": {},
   "outputs": [],
   "source": [
    "# 입력도 다중, 출력도 다중\n",
    "input_1 = Input(shape = (10, 10), name = 'input_1')\n",
    "input_2 = Input(shape = (10, 28), name = 'input_2')\n",
    "\n",
    "hidden1 = Dense(100, activation = 'relu')(input_2)\n",
    "hidden2 = Dense(10, activation = 'relu')(hidden1)\n",
    "concat = Concatenate()([input_1, hidden2])\n",
    "output = Dense(1, activation = 'sigmoid', name = 'main_output')(concat)\n",
    "sub_out = Dense(1, name = 'sum_output')(hidden2)\n",
    "\n",
    "model = Model(inputs = [input_1, input_2], outputs = [output, sub_out])"
   ]
  },
  {
   "cell_type": "code",
   "execution_count": 45,
   "id": "bbd86806",
   "metadata": {},
   "outputs": [
    {
     "name": "stdout",
     "output_type": "stream",
     "text": [
      "Model: \"model_5\"\n",
      "__________________________________________________________________________________________________\n",
      "Layer (type)                    Output Shape         Param #     Connected to                     \n",
      "==================================================================================================\n",
      "input_2 (InputLayer)            [(None, 10, 28)]     0                                            \n",
      "__________________________________________________________________________________________________\n",
      "dense_16 (Dense)                (None, 10, 100)      2900        input_2[0][0]                    \n",
      "__________________________________________________________________________________________________\n",
      "input_1 (InputLayer)            [(None, 10, 10)]     0                                            \n",
      "__________________________________________________________________________________________________\n",
      "dense_17 (Dense)                (None, 10, 10)       1010        dense_16[0][0]                   \n",
      "__________________________________________________________________________________________________\n",
      "concatenate_2 (Concatenate)     (None, 10, 20)       0           input_1[0][0]                    \n",
      "                                                                 dense_17[0][0]                   \n",
      "__________________________________________________________________________________________________\n",
      "main_output (Dense)             (None, 10, 1)        21          concatenate_2[0][0]              \n",
      "__________________________________________________________________________________________________\n",
      "sum_output (Dense)              (None, 10, 1)        11          dense_17[0][0]                   \n",
      "==================================================================================================\n",
      "Total params: 3,942\n",
      "Trainable params: 3,942\n",
      "Non-trainable params: 0\n",
      "__________________________________________________________________________________________________\n"
     ]
    }
   ],
   "source": [
    "model.summary()"
   ]
  },
  {
   "cell_type": "code",
   "execution_count": 46,
   "id": "5b6e3e05",
   "metadata": {},
   "outputs": [
    {
     "data": {
      "image/png": "[encoded data removed]",
      "text/plain": [
       "<IPython.core.display.Image object>"
      ]
     },
     "execution_count": 46,
     "metadata": {},
     "output_type": "execute_result"
    }
   ],
   "source": [
    "plot_model(model, to_file = 'model7.png')"
   ]
  },
  {
   "cell_type": "markdown",
   "id": "031b16e7",
   "metadata": {},
   "source": [
    "### 서브클래싱(Subclassing)\n",
    "- 커스터마이징에 최적화된 방법\n",
    "\n",
    "- Model 클래스를 상속받아 Model이 포함하는 기능을 사용할 수 있음  \n",
    "  - `fit()`, `evaluate()`, `predict()`\n",
    "  - `save()`, `load()`\n",
    "\n",
    "- 주로 `call()` 메소드안에서 원하는 계산 가능\n",
    "  - for, if, 저수준 연산 등\n",
    "\n",
    "- 권장되는 방법은 아니지만 어떤 모델의 구현 코드를 참고할 때  \n",
    "  해석할 수 있어야함"
   ]
  },
  {
   "cell_type": "code",
   "execution_count": 47,
   "id": "6ab3fd1d",
   "metadata": {},
   "outputs": [],
   "source": [
    "from tensorflow.keras.models import Model\n",
    "from tensorflow.keras.layers import Input, Flatten, Dense\n",
    "from tensorflow.keras.utils import plot_model"
   ]
  },
  {
   "cell_type": "code",
   "execution_count": 48,
   "id": "fda0e18a",
   "metadata": {},
   "outputs": [],
   "source": [
    "class MyModel(Model):\n",
    "    def __init__(self, units = 30, activation = 'relu', **kwargs):\n",
    "        super(MyModel, self).__init__(**kwargs)\n",
    "        \n",
    "        self.dense_layer1 = Dense(300, activation = activation)\n",
    "        self.dense_layer2 = Dense(100, activation = activation)\n",
    "        self.dense_layer3 = Dense(units, activation = activation)\n",
    "        \n",
    "        self.output_layer = Dense(10, activation = 'softmax')\n",
    "        \n",
    "    def call(self, inputs):\n",
    "        x = self.dense_layer1(inputs)\n",
    "        x = self.dense_layer2(x)\n",
    "        x = self.dense_layer3(x)\n",
    "        x = self.output_layer(x)\n",
    "        return x"
   ]
  },
  {
   "cell_type": "markdown",
   "id": "6b0f2c35",
   "metadata": {},
   "source": [
    "## 모델 가중치 확인"
   ]
  },
  {
   "cell_type": "code",
   "execution_count": 49,
   "id": "ebc1b447",
   "metadata": {},
   "outputs": [],
   "source": [
    "inputs = Input(shape = (28, 28, 1))\n",
    "\n",
    "x = Flatten(input_shape = (28, 28, 1))(inputs)\n",
    "x = Dense(300, activation = 'relu')(x)\n",
    "x = Dense(100, activation = 'relu')(x)\n",
    "x = Dense(10, activation = 'softmax')(x)\n",
    "\n",
    "model = Model(inputs = inputs, outputs = x)"
   ]
  },
  {
   "cell_type": "code",
   "execution_count": 50,
   "id": "d25528f1",
   "metadata": {},
   "outputs": [
    {
     "name": "stdout",
     "output_type": "stream",
     "text": [
      "Model: \"model_6\"\n",
      "_________________________________________________________________\n",
      "Layer (type)                 Output Shape              Param #   \n",
      "=================================================================\n",
      "input_7 (InputLayer)         [(None, 28, 28, 1)]       0         \n",
      "_________________________________________________________________\n",
      "flatten_3 (Flatten)          (None, 784)               0         \n",
      "_________________________________________________________________\n",
      "dense_18 (Dense)             (None, 300)               235500    \n",
      "_________________________________________________________________\n",
      "dense_19 (Dense)             (None, 100)               30100     \n",
      "_________________________________________________________________\n",
      "dense_20 (Dense)             (None, 10)                1010      \n",
      "=================================================================\n",
      "Total params: 266,610\n",
      "Trainable params: 266,610\n",
      "Non-trainable params: 0\n",
      "_________________________________________________________________\n"
     ]
    }
   ],
   "source": [
    "model.summary()"
   ]
  },
  {
   "cell_type": "markdown",
   "id": "2d0adf05",
   "metadata": {},
   "source": [
    "모델의 레이어들이 리스트로 표현됨"
   ]
  },
  {
   "cell_type": "code",
   "execution_count": 51,
   "id": "f27160e1",
   "metadata": {},
   "outputs": [
    {
     "data": {
      "text/plain": [
       "[<keras.engine.input_layer.InputLayer at 0x27fe801b700>,\n",
       " <keras.layers.core.Flatten at 0x27fe801baf0>,\n",
       " <keras.layers.core.Dense at 0x27fe801bfa0>,\n",
       " <keras.layers.core.Dense at 0x27fe1a3e2e0>,\n",
       " <keras.layers.core.Dense at 0x27fe7f44d00>]"
      ]
     },
     "execution_count": 51,
     "metadata": {},
     "output_type": "execute_result"
    }
   ],
   "source": [
    "model.layers"
   ]
  },
  {
   "cell_type": "code",
   "execution_count": 52,
   "id": "61ee259d",
   "metadata": {},
   "outputs": [
    {
     "data": {
      "text/plain": [
       "'dense_18'"
      ]
     },
     "execution_count": 52,
     "metadata": {},
     "output_type": "execute_result"
    }
   ],
   "source": [
    "hidden_2 = model.layers[2]\n",
    "hidden_2.name"
   ]
  },
  {
   "cell_type": "markdown",
   "id": "d455509d",
   "metadata": {},
   "source": [
    "위의 layer name 참고"
   ]
  },
  {
   "cell_type": "code",
   "execution_count": 54,
   "id": "5427d9b2",
   "metadata": {},
   "outputs": [
    {
     "data": {
      "text/plain": [
       "True"
      ]
     },
     "execution_count": 54,
     "metadata": {},
     "output_type": "execute_result"
    }
   ],
   "source": [
    "model.get_layer('dense_18') is hidden_2"
   ]
  },
  {
   "cell_type": "code",
   "execution_count": 55,
   "id": "ec342f34",
   "metadata": {},
   "outputs": [],
   "source": [
    "weights, biases = hidden_2.get_weights()"
   ]
  },
  {
   "cell_type": "code",
   "execution_count": 56,
   "id": "73e447a3",
   "metadata": {},
   "outputs": [
    {
     "data": {
      "text/plain": [
       "array([[-0.03270848,  0.06243657,  0.01365109, ..., -0.05864675,\n",
       "        -0.06419419, -0.03528973],\n",
       "       [ 0.04438515, -0.01950137,  0.06635234, ...,  0.01235184,\n",
       "        -0.01477147, -0.04942841],\n",
       "       [-0.03169467, -0.04116972,  0.02899708, ..., -0.01905336,\n",
       "         0.04908724,  0.02491651],\n",
       "       ...,\n",
       "       [ 0.04048752,  0.03279179, -0.05186511, ...,  0.03414152,\n",
       "        -0.00902325,  0.07109094],\n",
       "       [ 0.00078089,  0.01675482, -0.00423083, ...,  0.04326142,\n",
       "         0.04908518, -0.05253466],\n",
       "       [ 0.04186353,  0.01228748,  0.02400249, ...,  0.02216325,\n",
       "        -0.05328004, -0.01708395]], dtype=float32)"
      ]
     },
     "execution_count": 56,
     "metadata": {},
     "output_type": "execute_result"
    }
   ],
   "source": [
    "weights"
   ]
  },
  {
   "cell_type": "code",
   "execution_count": 57,
   "id": "f5d12740",
   "metadata": {},
   "outputs": [
    {
     "data": {
      "text/plain": [
       "array([0., 0., 0., 0., 0., 0., 0., 0., 0., 0., 0., 0., 0., 0., 0., 0., 0.,\n",
       "       0., 0., 0., 0., 0., 0., 0., 0., 0., 0., 0., 0., 0., 0., 0., 0., 0.,\n",
       "       0., 0., 0., 0., 0., 0., 0., 0., 0., 0., 0., 0., 0., 0., 0., 0., 0.,\n",
       "       0., 0., 0., 0., 0., 0., 0., 0., 0., 0., 0., 0., 0., 0., 0., 0., 0.,\n",
       "       0., 0., 0., 0., 0., 0., 0., 0., 0., 0., 0., 0., 0., 0., 0., 0., 0.,\n",
       "       0., 0., 0., 0., 0., 0., 0., 0., 0., 0., 0., 0., 0., 0., 0., 0., 0.,\n",
       "       0., 0., 0., 0., 0., 0., 0., 0., 0., 0., 0., 0., 0., 0., 0., 0., 0.,\n",
       "       0., 0., 0., 0., 0., 0., 0., 0., 0., 0., 0., 0., 0., 0., 0., 0., 0.,\n",
       "       0., 0., 0., 0., 0., 0., 0., 0., 0., 0., 0., 0., 0., 0., 0., 0., 0.,\n",
       "       0., 0., 0., 0., 0., 0., 0., 0., 0., 0., 0., 0., 0., 0., 0., 0., 0.,\n",
       "       0., 0., 0., 0., 0., 0., 0., 0., 0., 0., 0., 0., 0., 0., 0., 0., 0.,\n",
       "       0., 0., 0., 0., 0., 0., 0., 0., 0., 0., 0., 0., 0., 0., 0., 0., 0.,\n",
       "       0., 0., 0., 0., 0., 0., 0., 0., 0., 0., 0., 0., 0., 0., 0., 0., 0.,\n",
       "       0., 0., 0., 0., 0., 0., 0., 0., 0., 0., 0., 0., 0., 0., 0., 0., 0.,\n",
       "       0., 0., 0., 0., 0., 0., 0., 0., 0., 0., 0., 0., 0., 0., 0., 0., 0.,\n",
       "       0., 0., 0., 0., 0., 0., 0., 0., 0., 0., 0., 0., 0., 0., 0., 0., 0.,\n",
       "       0., 0., 0., 0., 0., 0., 0., 0., 0., 0., 0., 0., 0., 0., 0., 0., 0.,\n",
       "       0., 0., 0., 0., 0., 0., 0., 0., 0., 0., 0.], dtype=float32)"
      ]
     },
     "execution_count": 57,
     "metadata": {},
     "output_type": "execute_result"
    }
   ],
   "source": [
    "biases"
   ]
  },
  {
   "cell_type": "code",
   "execution_count": 58,
   "id": "645d5e2e",
   "metadata": {},
   "outputs": [
    {
     "name": "stdout",
     "output_type": "stream",
     "text": [
      "(784, 300)\n",
      "(300,)\n"
     ]
    }
   ],
   "source": [
    "print(weights.shape)\n",
    "\n",
    "## Flatten 결과 > 784\n",
    "## Dense 300 지정 > 300\n",
    "\n",
    "print(biases.shape)"
   ]
  },
  {
   "cell_type": "markdown",
   "id": "6fbdfd3a",
   "metadata": {},
   "source": [
    "## 모델 컴파일(compile)\n",
    "\n",
    "- 모델을 구성한 후, 사용할 손실함수(loss), 옵티마이저(optimizer)를 지정\n"
   ]
  },
  {
   "cell_type": "code",
   "execution_count": 59,
   "id": "cd566b7a",
   "metadata": {},
   "outputs": [],
   "source": [
    "model.compile(loss = 'sparse_categorical_crossentropy', \n",
    "             optimizer = 'sgd',\n",
    "             metrics = ['accuracy'])"
   ]
  },
  {
   "cell_type": "markdown",
   "id": "2ba71846",
   "metadata": {},
   "source": [
    "### 참고1\n",
    "\n",
    "#### loss\n",
    "- `keras.losses.sparse_categorical_crossentropy` 등과 같이 지정 가능\n",
    "  - `sparse_categorical_crossentropy`  \n",
    "    클래스가 배타적, 즉 MNIST 예제에서 (0, 1, 2, ..., 9)와 같은 방식으로 구분되어 있을 때 사용\n",
    "\n",
    "  - `categorical_cross_entropy`\n",
    "    클래스가 원-핫 인코딩 방식으로 되어 있을 때 사용\n",
    "\n",
    "  - `binary_crossentropy`\n",
    "  이진 분류를 수행할 때 사용\n",
    "\n",
    "\n",
    "#### optimizer\n",
    "- `keras.optimizer.SGD()` 등과 같이 사용 가능\n",
    "  - 보통 옵티마이저의 튜닝을 위해 따로 객체를 생성하여 컴파일    \n",
    "        optimizer = keras.optimizer.SGD(learning_rate=1e-5)  \n",
    "        model.compile(...,\n",
    "                      optimizer=optimzer,\n",
    "                      ...)\n",
    "\n",
    "- `keras.optimizer.Adam()` 도 많이 사용\n",
    "\n",
    "#### metrics\n",
    "- 모니터링할 지표\n",
    "\n",
    "- 주로 'accuracy', 'acc'로도 가능\n"
   ]
  },
  {
   "cell_type": "markdown",
   "id": "89993bf7",
   "metadata": {},
   "source": [
    "### 참고2 - 컴파일 설정 예시\n",
    "- 평균 제곱 오차 회귀 문제  \n",
    "      model.compile(loss = 'mse',  \n",
    "                    optimizer = RMSprop(),  \n",
    "                    metrics=['mae'])\n",
    "\n",
    "- 이진 분류\n",
    "      model.compile(loss = 'binary_crossentropy',  \n",
    "                    optimizer = RMSprop(),  \n",
    "                    metrics=['accuracy])\n",
    "\n",
    "\n",
    "\n",
    "- 다항 분류\n",
    "      model.compile(loss = 'categorical_crossentropy',  \n",
    "                    optimizer = RMSprop(),  \n",
    "                    metrics=['accuracy])\n",
    " \n"
   ]
  },
  {
   "cell_type": "markdown",
   "id": "b7aa3387",
   "metadata": {},
   "source": [
    "## 모델 훈련, 평가 및 예측\n",
    "- `fit()` 함수\n",
    "\n",
    "  - train_data(학습 데이터), train_label(데이터의 정답)\n",
    "  \n",
    "  - epochs\n",
    "  \n",
    "  - batch_size\n",
    "  \n",
    "  - validation_data\n",
    "\n",
    "- `evaluate()` 함수\n",
    "  - 테스트 데이터\n",
    "\n",
    "\n",
    "- `predict()`\n",
    "  임의의 데이터를 인자로 넣어 예측 가능"
   ]
  },
  {
   "cell_type": "markdown",
   "id": "5b5e3e4d",
   "metadata": {},
   "source": [
    "## MNIST 예제를 통해 모델 구성하기\n",
    "\n",
    "- keras.datasets 에 포함되어 있는 데이터셋\n",
    "\n",
    "  <img src=\"https://storage.googleapis.com/tfds-data/visualization/fig/mnist-3.0.1.png\" width=\"400\">\n",
    "\n",
    "  <sub>출처: https://www.tensorflow.org/datasets/catalog/mnist</sub>"
   ]
  },
  {
   "cell_type": "markdown",
   "id": "fdf2896e",
   "metadata": {},
   "source": [
    "### modules import"
   ]
  },
  {
   "cell_type": "code",
   "execution_count": 60,
   "id": "b08baa99",
   "metadata": {},
   "outputs": [],
   "source": [
    "import tensorflow as tf\n",
    "from tensorflow.keras.datasets.mnist import load_data\n",
    "from tensorflow.keras.models import Sequential\n",
    "from tensorflow.keras import models\n",
    "from tensorflow.keras.layers import Dense, Input, Flatten\n",
    "from tensorflow.keras.utils import to_categorical, plot_model\n",
    "\n",
    "from sklearn.model_selection import train_test_split\n",
    "\n",
    "import numpy as np\n",
    "import matplotlib.pyplot as plt\n",
    "\n",
    "plt.style.use('seaborn-white')"
   ]
  },
  {
   "cell_type": "markdown",
   "id": "aca24d7f",
   "metadata": {},
   "source": [
    "### 데이터셋 로드\n",
    "- MNIST 데이터셋을 로드\n",
    "\n",
    "- Train Data 중, 30%를 검증 데이터(validation data)로 사용\n"
   ]
  },
  {
   "cell_type": "code",
   "execution_count": 61,
   "id": "0960f31c",
   "metadata": {},
   "outputs": [],
   "source": [
    "tf.random.set_seed(111)\n",
    "\n",
    "(x_train_full, y_train_full), (x_test, y_test) = load_data(path = 'mnist.npz')\n",
    "\n",
    "x_train, x_val, y_train, y_val = train_test_split(x_train_full, y_train_full, \n",
    "                                                 test_size = .3,\n",
    "                                                 random_state = 111)"
   ]
  },
  {
   "cell_type": "markdown",
   "id": "2622ed97",
   "metadata": {},
   "source": [
    "### 데이터 확인"
   ]
  },
  {
   "cell_type": "code",
   "execution_count": 62,
   "id": "8f086be3",
   "metadata": {},
   "outputs": [],
   "source": [
    "num_x_train = (x_train.shape[0])\n",
    "num_x_val = (x_val.shape[0])\n",
    "num_x_test = (x_test.shape[0])"
   ]
  },
  {
   "cell_type": "code",
   "execution_count": 63,
   "id": "b32bfc36",
   "metadata": {},
   "outputs": [
    {
     "name": "stdout",
     "output_type": "stream",
     "text": [
      "학습 데이터: (60000, 28, 28)\t레이블: (60000,)\n",
      "학습 데이터: (42000, 28, 28)\t레이블: (42000,)\n",
      "검증 데이터: (18000, 28, 28)\t레이블: (18000,)\n",
      "테스트 데이터: (10000, 28, 28)\t레이블: (10000,)\n"
     ]
    }
   ],
   "source": [
    "print('학습 데이터: {}\\t레이블: {}'.format(x_train_full.shape, y_train_full.shape))\n",
    "print('학습 데이터: {}\\t레이블: {}'.format(x_train.shape, y_train.shape))\n",
    "print('검증 데이터: {}\\t레이블: {}'.format(x_val.shape, y_val.shape))\n",
    "print('테스트 데이터: {}\\t레이블: {}'.format(x_test.shape, y_test.shape))"
   ]
  },
  {
   "cell_type": "code",
   "execution_count": 64,
   "id": "76dd92f0",
   "metadata": {},
   "outputs": [
    {
     "data": {
      "image/png": "[encoded data removed]",
      "text/plain": [
       "<Figure size 1008x576 with 5 Axes>"
      ]
     },
     "metadata": {},
     "output_type": "display_data"
    }
   ],
   "source": [
    "num_sample = 5\n",
    "\n",
    "random_idxs = np.random.randint(60000, size = num_sample)\n",
    "\n",
    "plt.figure(figsize = (14, 8))\n",
    "for i, idx in enumerate(random_idxs):\n",
    "    img = x_train_full[idx, :]\n",
    "    label = y_train_full[idx]\n",
    "    \n",
    "    plt.subplot(1, len(random_idxs), i+1)\n",
    "    plt.imshow(img)\n",
    "    plt.title('Index: {}, Label: {}'.format(idx, label))"
   ]
  },
  {
   "cell_type": "code",
   "execution_count": 65,
   "id": "78cee524",
   "metadata": {},
   "outputs": [
    {
     "data": {
      "text/plain": [
       "8"
      ]
     },
     "execution_count": 65,
     "metadata": {},
     "output_type": "execute_result"
    }
   ],
   "source": [
    "y_train[0]"
   ]
  },
  {
   "cell_type": "markdown",
   "id": "b3550e33",
   "metadata": {},
   "source": [
    "### 데이터 전처리\n",
    "- Normalization"
   ]
  },
  {
   "cell_type": "code",
   "execution_count": 66,
   "id": "36f597b1",
   "metadata": {},
   "outputs": [],
   "source": [
    "x_train = x_train / 255.\n",
    "x_val = x_val / 255.\n",
    "x_test = x_test / 255.\n",
    "## 0 ~ 255 사이로 색깔 표시 > 255로 나누면 0 ~ 1 사이 값으로 자연스럽게 Normalization"
   ]
  },
  {
   "cell_type": "code",
   "execution_count": 67,
   "id": "5a583238",
   "metadata": {},
   "outputs": [],
   "source": [
    "y_train = to_categorical(y_train)\n",
    "y_val = to_categorical(y_val)\n",
    "y_test = to_categorical(y_test)\n",
    "\n",
    "## y값은 0 ~ 1 사이의 label > to_categorical로 label을 categorical값으로 변환"
   ]
  },
  {
   "cell_type": "markdown",
   "id": "d6bf58c7",
   "metadata": {},
   "source": [
    "### 모델 구성 (Sequential)"
   ]
  },
  {
   "cell_type": "code",
   "execution_count": 68,
   "id": "7eb898ba",
   "metadata": {},
   "outputs": [],
   "source": [
    "model = Sequential([Input(shape = (28, 28), name = 'input'),\n",
    "                   Flatten(input_shape = [28, 28], name = 'flatten'),\n",
    "                   Dense(100, activation = 'relu', name = 'dense1'),\n",
    "                   Dense(64, activation = 'relu', name = 'dense2'),\n",
    "                   Dense(32, activation = 'relu', name = 'dense3'),\n",
    "                   Dense(10, activation = 'softmax', name = 'output')])   ## 10개에 대한 확률값으로 softmax함수 사용"
   ]
  },
  {
   "cell_type": "code",
   "execution_count": 69,
   "id": "49592eef",
   "metadata": {},
   "outputs": [
    {
     "name": "stdout",
     "output_type": "stream",
     "text": [
      "Model: \"sequential_3\"\n",
      "_________________________________________________________________\n",
      "Layer (type)                 Output Shape              Param #   \n",
      "=================================================================\n",
      "flatten (Flatten)            (None, 784)               0         \n",
      "_________________________________________________________________\n",
      "dense1 (Dense)               (None, 100)               78500     \n",
      "_________________________________________________________________\n",
      "dense2 (Dense)               (None, 64)                6464      \n",
      "_________________________________________________________________\n",
      "dense3 (Dense)               (None, 32)                2080      \n",
      "_________________________________________________________________\n",
      "output (Dense)               (None, 10)                330       \n",
      "=================================================================\n",
      "Total params: 87,374\n",
      "Trainable params: 87,374\n",
      "Non-trainable params: 0\n",
      "_________________________________________________________________\n"
     ]
    }
   ],
   "source": [
    "model.summary()"
   ]
  },
  {
   "cell_type": "code",
   "execution_count": 70,
   "id": "0bb5fd45",
   "metadata": {},
   "outputs": [
    {
     "data": {
      "image/png": "[encoded data removed]",
      "text/plain": [
       "<IPython.core.display.Image object>"
      ]
     },
     "execution_count": 70,
     "metadata": {},
     "output_type": "execute_result"
    }
   ],
   "source": [
    "plot_model(model, to_file = 'model9.png', show_shapes = True)"
   ]
  },
  {
   "cell_type": "markdown",
   "id": "e3587158",
   "metadata": {},
   "source": [
    "### 모델 컴파일"
   ]
  },
  {
   "cell_type": "code",
   "execution_count": 71,
   "id": "77d73407",
   "metadata": {},
   "outputs": [],
   "source": [
    "model.compile(loss = 'categorical_crossentropy',\n",
    "             optimizer = 'sgd',\n",
    "             metrics = ['acc'])"
   ]
  },
  {
   "cell_type": "markdown",
   "id": "a62fa372",
   "metadata": {},
   "source": [
    "### 모델 학습\n",
    "- 모델 시각화를 위해 history라는 변수에 학습 과정을 담음"
   ]
  },
  {
   "cell_type": "code",
   "execution_count": 72,
   "id": "70154c64",
   "metadata": {
    "scrolled": true
   },
   "outputs": [
    {
     "name": "stdout",
     "output_type": "stream",
     "text": [
      "Epoch 1/50\n",
      "329/329 [==============================] - 3s 5ms/step - loss: 1.6822 - acc: 0.5096 - val_loss: 0.9621 - val_acc: 0.7749\n",
      "Epoch 2/50\n",
      "329/329 [==============================] - 1s 4ms/step - loss: 0.6800 - acc: 0.8292 - val_loss: 0.5311 - val_acc: 0.8518\n",
      "Epoch 3/50\n",
      "329/329 [==============================] - 1s 4ms/step - loss: 0.4660 - acc: 0.8713 - val_loss: 0.4191 - val_acc: 0.8793\n",
      "Epoch 4/50\n",
      "329/329 [==============================] - 1s 4ms/step - loss: 0.3920 - acc: 0.8898 - val_loss: 0.3733 - val_acc: 0.8909\n",
      "Epoch 5/50\n",
      "329/329 [==============================] - 1s 4ms/step - loss: 0.3499 - acc: 0.9004 - val_loss: 0.3320 - val_acc: 0.9044\n",
      "Epoch 6/50\n",
      "329/329 [==============================] - 1s 4ms/step - loss: 0.3205 - acc: 0.9090 - val_loss: 0.3189 - val_acc: 0.9060\n",
      "Epoch 7/50\n",
      "329/329 [==============================] - 1s 4ms/step - loss: 0.2977 - acc: 0.9150 - val_loss: 0.3171 - val_acc: 0.9059\n",
      "Epoch 8/50\n",
      "329/329 [==============================] - 1s 4ms/step - loss: 0.2790 - acc: 0.9193 - val_loss: 0.2721 - val_acc: 0.9224\n",
      "Epoch 9/50\n",
      "329/329 [==============================] - 1s 4ms/step - loss: 0.2631 - acc: 0.9250 - val_loss: 0.2681 - val_acc: 0.9222\n",
      "Epoch 10/50\n",
      "329/329 [==============================] - 1s 4ms/step - loss: 0.2495 - acc: 0.9288 - val_loss: 0.2511 - val_acc: 0.9281\n",
      "Epoch 11/50\n",
      "329/329 [==============================] - 1s 4ms/step - loss: 0.2374 - acc: 0.9322 - val_loss: 0.2383 - val_acc: 0.9319\n",
      "Epoch 12/50\n",
      "329/329 [==============================] - 1s 4ms/step - loss: 0.2269 - acc: 0.9353 - val_loss: 0.2499 - val_acc: 0.9255\n",
      "Epoch 13/50\n",
      "329/329 [==============================] - 1s 4ms/step - loss: 0.2171 - acc: 0.9375 - val_loss: 0.2211 - val_acc: 0.9369\n",
      "Epoch 14/50\n",
      "329/329 [==============================] - 1s 4ms/step - loss: 0.2082 - acc: 0.9416 - val_loss: 0.2158 - val_acc: 0.9378\n",
      "Epoch 15/50\n",
      "329/329 [==============================] - 1s 4ms/step - loss: 0.1996 - acc: 0.9428 - val_loss: 0.2147 - val_acc: 0.9372\n",
      "Epoch 16/50\n",
      "329/329 [==============================] - 2s 5ms/step - loss: 0.1922 - acc: 0.9459 - val_loss: 0.2098 - val_acc: 0.9396\n",
      "Epoch 17/50\n",
      "329/329 [==============================] - 1s 4ms/step - loss: 0.1848 - acc: 0.9469 - val_loss: 0.1979 - val_acc: 0.9424\n",
      "Epoch 18/50\n",
      "329/329 [==============================] - 1s 4ms/step - loss: 0.1778 - acc: 0.9495 - val_loss: 0.2051 - val_acc: 0.9402\n",
      "Epoch 19/50\n",
      "329/329 [==============================] - 1s 4ms/step - loss: 0.1721 - acc: 0.9515 - val_loss: 0.1869 - val_acc: 0.9453\n",
      "Epoch 20/50\n",
      "329/329 [==============================] - 1s 4ms/step - loss: 0.1660 - acc: 0.9526 - val_loss: 0.2267 - val_acc: 0.9318\n",
      "Epoch 21/50\n",
      "329/329 [==============================] - 1s 4ms/step - loss: 0.1609 - acc: 0.9552 - val_loss: 0.1757 - val_acc: 0.9478\n",
      "Epoch 22/50\n",
      "329/329 [==============================] - 1s 4ms/step - loss: 0.1553 - acc: 0.9561 - val_loss: 0.1822 - val_acc: 0.9460\n",
      "Epoch 23/50\n",
      "329/329 [==============================] - 1s 4ms/step - loss: 0.1506 - acc: 0.9568 - val_loss: 0.1662 - val_acc: 0.9519\n",
      "Epoch 24/50\n",
      "329/329 [==============================] - 1s 4ms/step - loss: 0.1456 - acc: 0.9585 - val_loss: 0.1683 - val_acc: 0.9495\n",
      "Epoch 25/50\n",
      "329/329 [==============================] - 1s 4ms/step - loss: 0.1414 - acc: 0.9602 - val_loss: 0.1681 - val_acc: 0.9504\n",
      "Epoch 26/50\n",
      "329/329 [==============================] - 1s 4ms/step - loss: 0.1370 - acc: 0.9612 - val_loss: 0.1573 - val_acc: 0.9537\n",
      "Epoch 27/50\n",
      "329/329 [==============================] - 1s 4ms/step - loss: 0.1328 - acc: 0.9626 - val_loss: 0.1526 - val_acc: 0.9556\n",
      "Epoch 28/50\n",
      "329/329 [==============================] - 1s 4ms/step - loss: 0.1292 - acc: 0.9635 - val_loss: 0.1532 - val_acc: 0.9549\n",
      "Epoch 29/50\n",
      "329/329 [==============================] - 1s 4ms/step - loss: 0.1256 - acc: 0.9645 - val_loss: 0.1475 - val_acc: 0.9566\n",
      "Epoch 30/50\n",
      "329/329 [==============================] - 2s 5ms/step - loss: 0.1222 - acc: 0.9654 - val_loss: 0.1456 - val_acc: 0.9565\n",
      "Epoch 31/50\n",
      "329/329 [==============================] - 1s 4ms/step - loss: 0.1188 - acc: 0.9664 - val_loss: 0.1431 - val_acc: 0.9576\n",
      "Epoch 32/50\n",
      "329/329 [==============================] - 1s 4ms/step - loss: 0.1159 - acc: 0.9675 - val_loss: 0.1438 - val_acc: 0.9567\n",
      "Epoch 33/50\n",
      "329/329 [==============================] - 1s 4ms/step - loss: 0.1127 - acc: 0.9681 - val_loss: 0.1405 - val_acc: 0.9581\n",
      "Epoch 34/50\n",
      "329/329 [==============================] - 1s 4ms/step - loss: 0.1096 - acc: 0.9687 - val_loss: 0.1415 - val_acc: 0.9569\n",
      "Epoch 35/50\n",
      "329/329 [==============================] - 1s 4ms/step - loss: 0.1068 - acc: 0.9696 - val_loss: 0.1377 - val_acc: 0.9582\n",
      "Epoch 36/50\n",
      "329/329 [==============================] - 1s 4ms/step - loss: 0.1042 - acc: 0.9703 - val_loss: 0.1363 - val_acc: 0.9579\n",
      "Epoch 37/50\n",
      "329/329 [==============================] - 1s 4ms/step - loss: 0.1015 - acc: 0.9712 - val_loss: 0.1310 - val_acc: 0.9598\n",
      "Epoch 38/50\n",
      "329/329 [==============================] - 1s 4ms/step - loss: 0.0993 - acc: 0.9716 - val_loss: 0.1280 - val_acc: 0.9612\n",
      "Epoch 39/50\n",
      "329/329 [==============================] - 1s 4ms/step - loss: 0.0968 - acc: 0.9723 - val_loss: 0.1307 - val_acc: 0.9603\n",
      "Epoch 40/50\n",
      "329/329 [==============================] - 1s 4ms/step - loss: 0.0948 - acc: 0.9726 - val_loss: 0.1295 - val_acc: 0.9616\n",
      "Epoch 41/50\n",
      "329/329 [==============================] - 1s 4ms/step - loss: 0.0926 - acc: 0.9734 - val_loss: 0.1247 - val_acc: 0.9623\n",
      "Epoch 42/50\n",
      "329/329 [==============================] - 1s 4ms/step - loss: 0.0903 - acc: 0.9744 - val_loss: 0.1426 - val_acc: 0.9561\n",
      "Epoch 43/50\n",
      "329/329 [==============================] - 1s 4ms/step - loss: 0.0879 - acc: 0.9749 - val_loss: 0.1220 - val_acc: 0.9628\n",
      "Epoch 44/50\n",
      "329/329 [==============================] - 1s 4ms/step - loss: 0.0859 - acc: 0.9755 - val_loss: 0.1199 - val_acc: 0.9638\n",
      "Epoch 45/50\n",
      "329/329 [==============================] - 1s 4ms/step - loss: 0.0841 - acc: 0.9761 - val_loss: 0.1179 - val_acc: 0.9641\n",
      "Epoch 46/50\n",
      "329/329 [==============================] - 1s 4ms/step - loss: 0.0819 - acc: 0.9769 - val_loss: 0.1188 - val_acc: 0.9639\n",
      "Epoch 47/50\n",
      "329/329 [==============================] - 1s 4ms/step - loss: 0.0804 - acc: 0.9771 - val_loss: 0.1197 - val_acc: 0.9634\n",
      "Epoch 48/50\n",
      "329/329 [==============================] - 1s 4ms/step - loss: 0.0784 - acc: 0.9772 - val_loss: 0.1173 - val_acc: 0.9643\n",
      "Epoch 49/50\n",
      "329/329 [==============================] - 1s 4ms/step - loss: 0.0768 - acc: 0.9782 - val_loss: 0.1166 - val_acc: 0.9645\n",
      "Epoch 50/50\n",
      "329/329 [==============================] - 1s 4ms/step - loss: 0.0750 - acc: 0.9786 - val_loss: 0.1201 - val_acc: 0.9635\n"
     ]
    }
   ],
   "source": [
    "history = model.fit(x_train, y_train,\n",
    "                   epochs = 50,\n",
    "                   batch_size = 128,\n",
    "                   validation_data = (x_val, y_val))"
   ]
  },
  {
   "cell_type": "markdown",
   "id": "409ac6a0",
   "metadata": {},
   "source": [
    "### 학습 결과 시각화"
   ]
  },
  {
   "cell_type": "code",
   "execution_count": 73,
   "id": "8ba0930a",
   "metadata": {},
   "outputs": [
    {
     "data": {
      "text/plain": [
       "dict_keys(['loss', 'acc', 'val_loss', 'val_acc'])"
      ]
     },
     "execution_count": 73,
     "metadata": {},
     "output_type": "execute_result"
    }
   ],
   "source": [
    "history.history.keys()"
   ]
  },
  {
   "cell_type": "code",
   "execution_count": 74,
   "id": "799ff2ac",
   "metadata": {},
   "outputs": [
    {
     "data": {
      "text/plain": [
       "<matplotlib.legend.Legend at 0x281c66c4850>"
      ]
     },
     "execution_count": 74,
     "metadata": {},
     "output_type": "execute_result"
    },
    {
     "data": {
      "image/png": "[encoded data removed]",
      "text/plain": [
       "<Figure size 864x432 with 2 Axes>"
      ]
     },
     "metadata": {},
     "output_type": "display_data"
    }
   ],
   "source": [
    "history_dict = history.history\n",
    "\n",
    "loss = history_dict['loss']\n",
    "val_loss = history_dict['val_loss']\n",
    "\n",
    "epochs = range(1, len(loss) + 1)\n",
    "fig = plt.figure(figsize = (12, 6))\n",
    "\n",
    "ax1 = fig.add_subplot(1, 2, 1)\n",
    "ax1.plot(epochs, loss, color = 'blue', label = 'train_loss')\n",
    "ax1.plot(epochs, val_loss, color = 'red', label = 'val_loss')\n",
    "ax1.set_title('Train and Validation Loss')\n",
    "ax1.set_xlabel('Epochs')\n",
    "ax1.set_ylabel('Loss')\n",
    "ax1.grid()\n",
    "ax1.legend()\n",
    "\n",
    "accuracy = history_dict['acc']\n",
    "val_accuracy = history_dict['val_acc']\n",
    "\n",
    "ax2 = fig.add_subplot(1, 2, 2)\n",
    "ax2.plot(epochs, accuracy, color = 'blue', label = 'train_accuracy')\n",
    "ax2.plot(epochs, val_accuracy, color = 'red', label = 'val_accuracy')\n",
    "ax2.set_title('Train and Validation Accuracy')\n",
    "ax2.set_xlabel('Epochs')\n",
    "ax2.set_ylabel('Accuracy')\n",
    "ax2.grid()\n",
    "ax2.legend()"
   ]
  },
  {
   "cell_type": "markdown",
   "id": "a015d731",
   "metadata": {},
   "source": [
    "### 모델 평가 (1)\n",
    "- `evaluate()`"
   ]
  },
  {
   "cell_type": "code",
   "execution_count": 75,
   "id": "04ba01aa",
   "metadata": {},
   "outputs": [
    {
     "name": "stdout",
     "output_type": "stream",
     "text": [
      "313/313 [==============================] - 1s 2ms/step - loss: 0.1219 - acc: 0.9640\n"
     ]
    },
    {
     "data": {
      "text/plain": [
       "[0.12192109227180481, 0.9639999866485596]"
      ]
     },
     "execution_count": 75,
     "metadata": {},
     "output_type": "execute_result"
    }
   ],
   "source": [
    "model.evaluate(x_test, y_test)\n",
    "\n",
    "## [Loss값, Acc값]"
   ]
  },
  {
   "cell_type": "markdown",
   "id": "d8e65913",
   "metadata": {},
   "source": [
    "### 학습된 모델을 통해 값 예측"
   ]
  },
  {
   "cell_type": "code",
   "execution_count": 76,
   "id": "389658ff",
   "metadata": {},
   "outputs": [
    {
     "name": "stdout",
     "output_type": "stream",
     "text": [
      "(10000, 10)\n",
      "[7.5120823e-08 5.6238758e-08 1.4229465e-06 4.3600066e-05 2.3649440e-09\n",
      " 3.2886553e-07 2.5407858e-11 9.9995339e-01 1.0866388e-07 1.0207108e-06]\n"
     ]
    }
   ],
   "source": [
    "pred_ys = model.predict(x_test)\n",
    "print(pred_ys.shape)\n",
    "\n",
    "np.set_printoptions(precision = 7)\n",
    "print(pred_ys[0])"
   ]
  },
  {
   "cell_type": "code",
   "execution_count": 77,
   "id": "0b5eff43",
   "metadata": {},
   "outputs": [
    {
     "data": {
      "image/png": "[encoded data removed]",
      "text/plain": [
       "<Figure size 432x288 with 1 Axes>"
      ]
     },
     "metadata": {},
     "output_type": "display_data"
    }
   ],
   "source": [
    "arg_pred_y = np.argmax(pred_ys, axis = 1)\n",
    "\n",
    "plt.imshow(x_test[0])\n",
    "plt.title('predicted label: {}'.format(arg_pred_y[0]))\n",
    "plt.show()\n",
    "\n",
    "## label 7을 '9.9995577e-01' 확률로 찾음"
   ]
  },
  {
   "cell_type": "markdown",
   "id": "df12eba8",
   "metadata": {},
   "source": [
    "### 모델 평가 (2)\n",
    "- 혼동행렬 (Confusion Maxtrix)"
   ]
  },
  {
   "cell_type": "code",
   "execution_count": 78,
   "id": "7df1d387",
   "metadata": {},
   "outputs": [],
   "source": [
    "from sklearn.metrics import classification_report, confusion_matrix\n",
    "import seaborn as sns\n",
    "sns.set(style = 'white')"
   ]
  },
  {
   "cell_type": "code",
   "execution_count": 79,
   "id": "a224d38b",
   "metadata": {},
   "outputs": [
    {
     "data": {
      "image/png": "[encoded data removed]",
      "text/plain": [
       "<Figure size 576x576 with 2 Axes>"
      ]
     },
     "metadata": {},
     "output_type": "display_data"
    }
   ],
   "source": [
    "plt.figure(figsize = (8, 8))\n",
    "cm = confusion_matrix(np.argmax(y_test, axis = -1), np.argmax(pred_ys, axis = -1))\n",
    "sns.heatmap(cm, annot = True, fmt = 'd', cmap = 'Blues')\n",
    "plt.xlabel('Predicted Label')\n",
    "plt.ylabel('True Label')\n",
    "plt.show()"
   ]
  },
  {
   "cell_type": "markdown",
   "id": "299c3f0f",
   "metadata": {},
   "source": [
    "### 모델 평가 (3)\n",
    "- 분류 보고서"
   ]
  },
  {
   "cell_type": "code",
   "execution_count": 80,
   "id": "31b3c4ef",
   "metadata": {},
   "outputs": [
    {
     "name": "stdout",
     "output_type": "stream",
     "text": [
      "              precision    recall  f1-score   support\n",
      "\n",
      "           0       0.97      0.99      0.98       980\n",
      "           1       0.98      0.99      0.99      1135\n",
      "           2       0.98      0.95      0.96      1032\n",
      "           3       0.93      0.98      0.95      1010\n",
      "           4       0.96      0.97      0.97       982\n",
      "           5       0.99      0.92      0.95       892\n",
      "           6       0.96      0.97      0.97       958\n",
      "           7       0.95      0.98      0.96      1028\n",
      "           8       0.96      0.95      0.95       974\n",
      "           9       0.98      0.93      0.95      1009\n",
      "\n",
      "    accuracy                           0.96     10000\n",
      "   macro avg       0.96      0.96      0.96     10000\n",
      "weighted avg       0.96      0.96      0.96     10000\n",
      "\n"
     ]
    }
   ],
   "source": [
    "print(classification_report(np.argmax(y_test, axis = -1), np.argmax(pred_ys, axis = -1)))"
   ]
  },
  {
   "cell_type": "markdown",
   "id": "3660081b",
   "metadata": {},
   "source": [
    "## 모델 저장과 복원\n",
    "- `save()`\n",
    "\n",
    "- `load_model()`\n",
    "\n",
    "- (주의)  \n",
    "  시퀀셜 API, 함수형 API에서는 **모델**의 저장 및 로드가 가능하지만 서브클래싱 방식으로는 할 수 없음  \n",
    "  \n",
    "  서브클래싱 방식\n",
    "      save_weights()\n",
    "      load_weights()  \n",
    "  위 두가지를 통해 **모델의 파라미터**만 저장 및 로드\n",
    "\n",
    "\n",
    "- JSON 형식\n",
    "  - `model.to_json()` (저장)\n",
    "\n",
    "  - `tf.keras.models.model_from_json(file_path)` (복원)\n",
    "\n",
    "- YAML로 직렬화\n",
    "  - `model.to_yaml()` (저장)\n",
    "\n",
    "  - `tf.keras.models.model_from_yaml(file_path)` (복원)\n"
   ]
  },
  {
   "cell_type": "code",
   "execution_count": 81,
   "id": "3e2ad92f",
   "metadata": {},
   "outputs": [],
   "source": [
    "model.save('mnist_model.h5')"
   ]
  },
  {
   "cell_type": "code",
   "execution_count": 82,
   "id": "0de469b1",
   "metadata": {},
   "outputs": [],
   "source": [
    "loaded_model = models.load_model('mnist_model.h5')"
   ]
  },
  {
   "cell_type": "code",
   "execution_count": 83,
   "id": "022b6172",
   "metadata": {},
   "outputs": [
    {
     "name": "stdout",
     "output_type": "stream",
     "text": [
      "Model: \"sequential_3\"\n",
      "_________________________________________________________________\n",
      "Layer (type)                 Output Shape              Param #   \n",
      "=================================================================\n",
      "flatten (Flatten)            (None, 784)               0         \n",
      "_________________________________________________________________\n",
      "dense1 (Dense)               (None, 100)               78500     \n",
      "_________________________________________________________________\n",
      "dense2 (Dense)               (None, 64)                6464      \n",
      "_________________________________________________________________\n",
      "dense3 (Dense)               (None, 32)                2080      \n",
      "_________________________________________________________________\n",
      "output (Dense)               (None, 10)                330       \n",
      "=================================================================\n",
      "Total params: 87,374\n",
      "Trainable params: 87,374\n",
      "Non-trainable params: 0\n",
      "_________________________________________________________________\n"
     ]
    }
   ],
   "source": [
    "loaded_model.summary()"
   ]
  },
  {
   "cell_type": "code",
   "execution_count": 84,
   "id": "5cd99d37",
   "metadata": {},
   "outputs": [
    {
     "name": "stdout",
     "output_type": "stream",
     "text": [
      "(10000, 10)\n",
      "[7.5120823e-08 5.6238758e-08 1.4229465e-06 4.3600066e-05 2.3649440e-09\n",
      " 3.2886553e-07 2.5407858e-11 9.9995339e-01 1.0866388e-07 1.0207108e-06]\n"
     ]
    }
   ],
   "source": [
    "pred_ys2 = loaded_model.predict(x_test)\n",
    "print(pred_ys2.shape)\n",
    "\n",
    "np.set_printoptions(precision = 7)\n",
    "print(pred_ys2[0])"
   ]
  },
  {
   "cell_type": "code",
   "execution_count": 85,
   "id": "0b74a633",
   "metadata": {},
   "outputs": [
    {
     "data": {
      "image/png": "[encoded data removed]",
      "text/plain": [
       "<Figure size 432x288 with 1 Axes>"
      ]
     },
     "metadata": {},
     "output_type": "display_data"
    }
   ],
   "source": [
    "arg_pred_y2 = np.argmax(pred_ys2, axis = 1)\n",
    "\n",
    "plt.imshow(x_test[0])\n",
    "plt.title('predicted label: {}'.format(arg_pred_y2[0]))\n",
    "plt.show()"
   ]
  },
  {
   "cell_type": "markdown",
   "id": "4c2c4bcb",
   "metadata": {},
   "source": [
    "## 콜백 (Callbacks)\n",
    "\n",
    "- `fit()` 함수의 callbacks 매개변수를 사용하여 케라스가 훈련의 시작이나 끝에 호출할 객체 리스트를 지정할 수 있음\n",
    "\n",
    "- 여러 개 사용 가능\n",
    "\n",
    "- ModelCheckpoint\n",
    "  - `tf.keras.callbacks.ModelCheckpoint`\n",
    "  - 정기적으로 모델의 체크포인트를 저장하고, 문제가 발생할 때 복구하는데 사용\n",
    "\n",
    "- EarlyStopping\n",
    "  - `tf.keras.callbacks.EarlyStopping`\n",
    "  - 검증 성능이 한동안 개선되지 않을 경우 학습을 중단할 때 사용\n",
    "\n",
    "- LearningRateSchduler\n",
    "  - `tf.keras.callbacks.LearningRateSchduler`\n",
    "  - 최적화를 하는 동안 학습률(learning_rate)를 동적으로 변경할 때 사용\n",
    "\n",
    "- TensorBoard\n",
    "  - `tf.keras.callbacks.TensorBoard`\n",
    "  - 모델의 경과를 모니터링할 때 사용\n"
   ]
  },
  {
   "cell_type": "code",
   "execution_count": 86,
   "id": "a36a9265",
   "metadata": {},
   "outputs": [
    {
     "name": "stdout",
     "output_type": "stream",
     "text": [
      "학습 데이터: (60000, 28, 28)\t레이블: (60000,)\n",
      "학습 데이터: (42000, 28, 28)\t레이블: (42000,)\n",
      "검증 데이터: (18000, 28, 28)\t레이블: (18000,)\n",
      "테스트 데이터: (10000, 28, 28)\t레이블: (10000,)\n",
      "Model: \"sequential_4\"\n",
      "_________________________________________________________________\n",
      "Layer (type)                 Output Shape              Param #   \n",
      "=================================================================\n",
      "flatten (Flatten)            (None, 784)               0         \n",
      "_________________________________________________________________\n",
      "dense1 (Dense)               (None, 100)               78500     \n",
      "_________________________________________________________________\n",
      "dense2 (Dense)               (None, 64)                6464      \n",
      "_________________________________________________________________\n",
      "dense3 (Dense)               (None, 32)                2080      \n",
      "_________________________________________________________________\n",
      "output (Dense)               (None, 10)                330       \n",
      "=================================================================\n",
      "Total params: 87,374\n",
      "Trainable params: 87,374\n",
      "Non-trainable params: 0\n",
      "_________________________________________________________________\n"
     ]
    }
   ],
   "source": [
    "(x_train_full, y_train_full), (x_test, y_test) = load_data(path = 'mnist.npz')\n",
    "\n",
    "x_train, x_val, y_train, y_val = train_test_split(x_train_full, y_train_full, \n",
    "                                                 test_size = .3,\n",
    "                                                 random_state = 111)\n",
    "\n",
    "print('학습 데이터: {}\\t레이블: {}'.format(x_train_full.shape, y_train_full.shape))\n",
    "print('학습 데이터: {}\\t레이블: {}'.format(x_train.shape, y_train.shape))\n",
    "print('검증 데이터: {}\\t레이블: {}'.format(x_val.shape, y_val.shape))\n",
    "print('테스트 데이터: {}\\t레이블: {}'.format(x_test.shape, y_test.shape))\n",
    "\n",
    "x_train = x_train / 255.\n",
    "x_val = x_val / 255.\n",
    "x_test = x_test / 255.\n",
    "\n",
    "y_train = to_categorical(y_train)\n",
    "y_val = to_categorical(y_val)\n",
    "y_test = to_categorical(y_test)\n",
    "\n",
    "def build_model():\n",
    "    model = Sequential([Input(shape = (28, 28), name = 'input'),\n",
    "                   Flatten(input_shape = [28, 28], name = 'flatten'),\n",
    "                   Dense(100, activation = 'relu', name = 'dense1'),\n",
    "                   Dense(64, activation = 'relu', name = 'dense2'),\n",
    "                   Dense(32, activation = 'relu', name = 'dense3'),\n",
    "                   Dense(10, activation = 'softmax', name = 'output')])\n",
    "    model.compile(loss = 'categorical_crossentropy',\n",
    "                 optimizer = 'sgd',\n",
    "                 metrics = ['acc'])\n",
    "    \n",
    "    return model\n",
    "\n",
    "model = build_model()\n",
    "\n",
    "model.summary()"
   ]
  },
  {
   "cell_type": "code",
   "execution_count": 91,
   "id": "c04c7770",
   "metadata": {},
   "outputs": [],
   "source": [
    "from tensorflow.keras.models import load_model\n",
    "from tensorflow.keras.callbacks import ModelCheckpoint, EarlyStopping, LearningRateScheduler, TensorBoard"
   ]
  },
  {
   "cell_type": "markdown",
   "id": "d9e96014",
   "metadata": {},
   "source": [
    "### ModelCheckpoint"
   ]
  },
  {
   "cell_type": "code",
   "execution_count": 88,
   "id": "b56ffad0",
   "metadata": {},
   "outputs": [
    {
     "name": "stdout",
     "output_type": "stream",
     "text": [
      "Epoch 1/10\n",
      "1313/1313 [==============================] - 4s 3ms/step - loss: 0.8711 - acc: 0.7496\n",
      "Epoch 2/10\n",
      "1313/1313 [==============================] - 4s 3ms/step - loss: 0.3283 - acc: 0.9065\n",
      "Epoch 3/10\n",
      "1313/1313 [==============================] - 4s 3ms/step - loss: 0.2599 - acc: 0.9252\n",
      "Epoch 4/10\n",
      "1313/1313 [==============================] - 4s 3ms/step - loss: 0.2189 - acc: 0.9379\n",
      "Epoch 5/10\n",
      "1313/1313 [==============================] - 4s 3ms/step - loss: 0.1895 - acc: 0.9458\n",
      "Epoch 6/10\n",
      "1313/1313 [==============================] - 4s 3ms/step - loss: 0.1681 - acc: 0.9511\n",
      "Epoch 7/10\n",
      "1313/1313 [==============================] - 4s 3ms/step - loss: 0.1505 - acc: 0.9565\n",
      "Epoch 8/10\n",
      "1313/1313 [==============================] - 4s 3ms/step - loss: 0.1356 - acc: 0.9612\n",
      "Epoch 9/10\n",
      "1313/1313 [==============================] - 4s 3ms/step - loss: 0.1234 - acc: 0.9643\n",
      "Epoch 10/10\n",
      "1313/1313 [==============================] - 4s 3ms/step - loss: 0.1124 - acc: 0.9670\n"
     ]
    }
   ],
   "source": [
    "check_point_cb = ModelCheckpoint('keras_mnist_model.h5')\n",
    "# fit과정에서의 checkpoint 저장 필요\n",
    "history = model.fit(x_train, y_train, epochs = 10, callbacks = [check_point_cb])"
   ]
  },
  {
   "cell_type": "code",
   "execution_count": 89,
   "id": "94e6484f",
   "metadata": {},
   "outputs": [
    {
     "data": {
      "text/plain": [
       "dict_keys(['loss', 'acc'])"
      ]
     },
     "execution_count": 89,
     "metadata": {},
     "output_type": "execute_result"
    }
   ],
   "source": [
    "history.history.keys()"
   ]
  },
  {
   "cell_type": "code",
   "execution_count": 92,
   "id": "0831ae6e",
   "metadata": {},
   "outputs": [
    {
     "name": "stdout",
     "output_type": "stream",
     "text": [
      "Model: \"sequential_4\"\n",
      "_________________________________________________________________\n",
      "Layer (type)                 Output Shape              Param #   \n",
      "=================================================================\n",
      "flatten (Flatten)            (None, 784)               0         \n",
      "_________________________________________________________________\n",
      "dense1 (Dense)               (None, 100)               78500     \n",
      "_________________________________________________________________\n",
      "dense2 (Dense)               (None, 64)                6464      \n",
      "_________________________________________________________________\n",
      "dense3 (Dense)               (None, 32)                2080      \n",
      "_________________________________________________________________\n",
      "output (Dense)               (None, 10)                330       \n",
      "=================================================================\n",
      "Total params: 87,374\n",
      "Trainable params: 87,374\n",
      "Non-trainable params: 0\n",
      "_________________________________________________________________\n"
     ]
    }
   ],
   "source": [
    "loaded_model = load_model('keras_mnist_model.h5')\n",
    "loaded_model.summary()"
   ]
  },
  {
   "cell_type": "markdown",
   "id": "1505f1a0",
   "metadata": {},
   "source": [
    "최상의 모델만을 저장\n",
    "- save_best_only=True"
   ]
  },
  {
   "cell_type": "code",
   "execution_count": null,
   "id": "2aa4c238",
   "metadata": {},
   "outputs": [],
   "source": [
    "model = build_model()\n",
    "\n",
    "cp = ModelCheckpoint('keras_best_model.h5', save_best_only = True)\n",
    "## epoch이 지날때마다 성능 저장하는데 현재 저장된 모델보다 더 좋은모델이 나오면 해당모델을 저장\n",
    "\n",
    "history = model.fit(x_train, y_train, epochs = 10,\n",
    "                   validation_data = )"
   ]
  },
  {
   "cell_type": "code",
   "execution_count": null,
   "id": "5997f5b1",
   "metadata": {},
   "outputs": [],
   "source": []
  },
  {
   "cell_type": "code",
   "execution_count": null,
   "id": "f5e0a51e",
   "metadata": {},
   "outputs": [],
   "source": []
  },
  {
   "cell_type": "markdown",
   "id": "31652441",
   "metadata": {},
   "source": [
    "### EarlyStopping\n",
    "- 일정 에포크(patience) 동안 검증 세트에 대한 점수가 오르지 않으면 학습을 멈춤\n",
    "\n",
    "- 모델이 향상되지 않으면 학습이 자동으로 중지되므로,  \n",
    "  에포크(epochs) 숫자를 크게 해도 무방\n",
    "\n",
    "- 학습이 끝난 후의 최상의 가중치를 복원하기 때문에 모델을 따로 복원할 필요없음"
   ]
  },
  {
   "cell_type": "code",
   "execution_count": null,
   "id": "6e103287",
   "metadata": {},
   "outputs": [],
   "source": []
  },
  {
   "cell_type": "markdown",
   "id": "03abd13d",
   "metadata": {},
   "source": [
    "### LearningRateScheduler"
   ]
  },
  {
   "cell_type": "code",
   "execution_count": null,
   "id": "e7458bc4",
   "metadata": {},
   "outputs": [],
   "source": []
  },
  {
   "cell_type": "code",
   "execution_count": null,
   "id": "f3958703",
   "metadata": {},
   "outputs": [],
   "source": []
  },
  {
   "cell_type": "code",
   "execution_count": null,
   "id": "db3a10eb",
   "metadata": {},
   "outputs": [],
   "source": []
  },
  {
   "cell_type": "markdown",
   "id": "646e032b",
   "metadata": {},
   "source": [
    "### Tensorboard\n",
    "- 텐서보드를 이용하여 학습과정 모니터링"
   ]
  },
  {
   "cell_type": "markdown",
   "id": "815976a3",
   "metadata": {},
   "source": [
    "텐서보드를 사용하기 위해 logs폴더를 만들고, 학습이 진행되는 동안 로그 파일을 생성"
   ]
  },
  {
   "cell_type": "code",
   "execution_count": null,
   "id": "3a790801",
   "metadata": {},
   "outputs": [],
   "source": []
  },
  {
   "cell_type": "code",
   "execution_count": null,
   "id": "ad58769d",
   "metadata": {},
   "outputs": [],
   "source": []
  },
  {
   "cell_type": "code",
   "execution_count": null,
   "id": "440585d3",
   "metadata": {},
   "outputs": [],
   "source": []
  },
  {
   "cell_type": "markdown",
   "id": "d5e6a9e5",
   "metadata": {},
   "source": [
    "load하는데 시간 소요\n",
    "\n",
    "- load가 안된다면 port번호를 바꿔서 실행!  \n",
    "  ex) %tensorboard --logdir {log_dir} port 8000"
   ]
  },
  {
   "cell_type": "code",
   "execution_count": null,
   "id": "fe46ff8d",
   "metadata": {},
   "outputs": [],
   "source": []
  },
  {
   "cell_type": "code",
   "execution_count": null,
   "id": "3385e249",
   "metadata": {},
   "outputs": [],
   "source": []
  }
 ],
 "metadata": {
  "kernelspec": {
   "display_name": "Python 3",
   "language": "python",
   "name": "python3"
  },
  "language_info": {
   "codemirror_mode": {
    "name": "ipython",
    "version": 3
   },
   "file_extension": ".py",
   "mimetype": "text/x-python",
   "name": "python",
   "nbconvert_exporter": "python",
   "pygments_lexer": "ipython3",
   "version": "3.8.8"
  }
 },
 "nbformat": 4,
 "nbformat_minor": 5
}
