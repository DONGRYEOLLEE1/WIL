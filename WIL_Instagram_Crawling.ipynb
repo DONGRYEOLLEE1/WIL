{
 "cells": [
  {
   "cell_type": "markdown",
   "id": "23b889d2",
   "metadata": {},
   "source": [
    "## Required Packages installation"
   ]
  },
  {
   "cell_type": "code",
   "execution_count": 2,
   "id": "76f4832d",
   "metadata": {},
   "outputs": [
    {
     "name": "stdout",
     "output_type": "stream",
     "text": [
      "Collecting selenium\n",
      "  Downloading selenium-3.141.0-py2.py3-none-any.whl (904 kB)\n",
      "Requirement already satisfied: urllib3 in c:\\users\\cpb06gamen\\anaconda3\\lib\\site-packages (from selenium) (1.26.4)\n",
      "Installing collected packages: selenium\n",
      "Successfully installed selenium-3.141.0\n"
     ]
    }
   ],
   "source": [
    "# !pip install selenium"
   ]
  },
  {
   "cell_type": "code",
   "execution_count": 3,
   "id": "9b38bea8",
   "metadata": {
    "scrolled": true
   },
   "outputs": [
    {
     "name": "stdout",
     "output_type": "stream",
     "text": [
      "Requirement already satisfied: beautifulsoup4 in c:\\users\\cpb06gamen\\anaconda3\\lib\\site-packages (4.6.0)\n"
     ]
    }
   ],
   "source": [
    "# !pip install beautifulsoup4"
   ]
  },
  {
   "cell_type": "markdown",
   "id": "902318c2",
   "metadata": {},
   "source": [
    "### Import Module"
   ]
  },
  {
   "cell_type": "code",
   "execution_count": 4,
   "id": "33d39c86",
   "metadata": {},
   "outputs": [],
   "source": [
    "from urllib.request import urlopen\n",
    "from urllib.parse import quote_plus\n",
    "from bs4 import BeautifulSoup\n",
    "# 대부분 자바스크립트로 되어있기 때문에 bs4로는 불러오기자체가 안됨 그렇기때문에 selenium 사용 \n",
    "from selenium import webdriver        \n",
    "import time\n",
    "import pandas as pd"
   ]
  },
  {
   "cell_type": "code",
   "execution_count": 39,
   "id": "02644c85",
   "metadata": {},
   "outputs": [
    {
     "name": "stdout",
     "output_type": "stream",
     "text": [
      "검색할 태그를 입력하세요 : 아이유\n"
     ]
    }
   ],
   "source": [
    "baseUrl = 'https://www.instagram.com/explore/tags/'\n",
    "plusUrl = input('검색할 태그를 입력하세요 : ')\n",
    "\n",
    "url = baseUrl + quote_plus(plusUrl)\n",
    "\n",
    "driver = webdriver.Chrome()\n",
    "driver.get(url)\n",
    "\n",
    "time.sleep(3)\n",
    "\n",
    "html = driver.page_source\n",
    "soup = BeautifulSoup(html)\n",
    "\n",
    "insta = soup.select('.v1Nh3.kIKUG._bz0w')\n",
    "\n",
    "n = 1\n",
    "for i in insta:\n",
    "    print('https://www.instagram.com' + i.a['href'])\n",
    "    imgUrl = i.select_one('.KL4Bh').img['src']\n",
    "    with urlopen(imgUrl) as f:\n",
    "        with open('./Img/' + plusUrl + str(n) + '.jpg', 'wb') as h:\n",
    "            img = f.read()\n",
    "            h.write(img)\n",
    "    n += 1\n",
    "    print(imgUrl)\n",
    "    print()\n",
    "\n",
    "driver.close()"
   ]
  },
  {
   "cell_type": "code",
   "execution_count": 25,
   "id": "f6f09058",
   "metadata": {},
   "outputs": [],
   "source": [
    "from selenium.webdriver.common.keys import Keys"
   ]
  },
  {
   "cell_type": "code",
   "execution_count": 40,
   "id": "c2b037da",
   "metadata": {},
   "outputs": [
    {
     "name": "stdout",
     "output_type": "stream",
     "text": [
      "https://www.instagram.com/p/CRvVc46tUiV/\n",
      "https://scontent-ssn1-1.cdninstagram.com/v/t51.2885-15/e35/222471097_1034615293951131_9136086835746169302_n.jpg?_nc_ht=scontent-ssn1-1.cdninstagram.com&_nc_cat=103&_nc_ohc=HOf-sAg3S-oAX9BzU8u&edm=ABZsPhsBAAAA&ccb=7-4&oh=9bc1c47a10ddfd5486eb2033f82b1060&oe=6105BE85&_nc_sid=4efc9f&ig_cache_key=MjYyNTQxMTQ0ODU4NTk3MDY1NA%3D%3D.2-ccb7-4\n",
      "\n",
      "https://www.instagram.com/p/CRwAQmUDZ4b/\n",
      "https://scontent-ssn1-1.cdninstagram.com/v/t51.2885-15/e35/c0.90.720.720a/223833481_4914159615277465_5371634498701536803_n.jpg?_nc_ht=scontent-ssn1-1.cdninstagram.com&_nc_cat=101&_nc_ohc=yZPYMiU2JwkAX87kinc&edm=ABZsPhsBAAAA&ccb=7-4&oh=373037b5a1ad1c041c832b28d216542f&oe=6106F989&_nc_sid=4efc9f&ig_cache_key=MjYyNTU5OTcyMzQwNzI1MzAxOQ%3D%3D.2-ccb7-4\n",
      "\n",
      "https://www.instagram.com/p/CRtL9ZZtiNe/\n",
      "https://scontent-ssn1-1.cdninstagram.com/v/t51.2885-15/e35/c7.0.814.814a/221967011_530635051552725_1739551761195381596_n.jpg?_nc_ht=scontent-ssn1-1.cdninstagram.com&_nc_cat=109&_nc_ohc=pICYTEiRauAAX_kPV75&edm=ABZsPhsBAAAA&ccb=7-4&oh=c0aab6fd17957d48da967858616e34d9&oe=61061A00&_nc_sid=4efc9f&ig_cache_key=MjYyNDgwNjc1NTUwMTQ4Mjg0Ng%3D%3D.2-ccb7-4\n",
      "\n",
      "https://www.instagram.com/p/CRtfFhmtNbI/\n",
      "https://scontent-ssn1-1.cdninstagram.com/v/t51.2885-15/e35/222169105_4275059412537772_2682685303833329057_n.jpg?_nc_ht=scontent-ssn1-1.cdninstagram.com&_nc_cat=104&_nc_ohc=rFKKpbEgVfgAX-WV0C4&tn=Qh8kwLJ-FDfbugUW&edm=ABZsPhsBAAAA&ccb=7-4&oh=f08d8fb21fdc9d97bdb28dc7799a3a3d&oe=6106F2F2&_nc_sid=4efc9f&ig_cache_key=MjYyNDg5MDg3Njk0ODk2MDk2OA%3D%3D.2-ccb7-4\n",
      "\n",
      "https://www.instagram.com/p/CRtUPFrt5aA/\n",
      "https://scontent-ssn1-1.cdninstagram.com/v/t51.2885-15/e35/222763717_3885283321576829_8899222621490166118_n.jpg?_nc_ht=scontent-ssn1-1.cdninstagram.com&_nc_cat=105&_nc_ohc=2C7SfsBlIL0AX8DyMJl&tn=Qh8kwLJ-FDfbugUW&edm=ABZsPhsBAAAA&ccb=7-4&oh=2041109108c83c81de79ed5a371d6e29&oe=6105A441&_nc_sid=4efc9f&ig_cache_key=MjYyNDg0MzE1NTY1MTQwMTM0NA%3D%3D.2-ccb7-4\n",
      "\n",
      "https://www.instagram.com/p/CRswquCtKyM/\n",
      "https://scontent-ssn1-1.cdninstagram.com/v/t51.2885-15/e35/223279691_801939390504949_2911120359765656470_n.jpg?_nc_ht=scontent-ssn1-1.cdninstagram.com&_nc_cat=101&_nc_ohc=JXYxz58IKSkAX9CYEw2&edm=ABZsPhsBAAAA&ccb=7-4&oh=ac5127d6d20bc84e00a5734b47923696&oe=6105E574&_nc_sid=4efc9f&ig_cache_key=MjYyNDY4NjcyMDUzNTUyNDMxMQ%3D%3D.2-ccb7-4\n",
      "\n",
      "https://www.instagram.com/p/CRp8dtTnQtM/\n",
      "https://scontent-ssn1-1.cdninstagram.com/v/t51.2885-15/e35/220886963_335043358283614_750505002641059575_n.jpg?_nc_ht=scontent-ssn1-1.cdninstagram.com&_nc_cat=110&_nc_ohc=3uqJOkNrvGkAX9Z9yjl&tn=Qh8kwLJ-FDfbugUW&edm=ABZsPhsBAAAA&ccb=7-4&oh=c3353cf94599aa7f34b2b2e3a621eecd&oe=610680AA&_nc_sid=4efc9f&ig_cache_key=MjYyMzg5NDE4MjIyMjk1NzM4OA%3D%3D.2-ccb7-4\n",
      "\n",
      "https://www.instagram.com/p/CRv510Cn8Be/\n",
      "https://scontent-ssn1-1.cdninstagram.com/v/t51.2885-15/e35/223935101_1150249625456915_7486749278603209516_n.jpg?_nc_ht=scontent-ssn1-1.cdninstagram.com&_nc_cat=111&_nc_ohc=ToXuVY6vfKMAX_L_vZU&edm=ABZsPhsBAAAA&ccb=7-4&oh=dc6196643beda346eb1b7079672c4239&oe=6106F1B1&_nc_sid=4efc9f&ig_cache_key=MjYyNTU3MTQ5NDQ0MjI4NzE5OA%3D%3D.2-ccb7-4\n",
      "\n",
      "https://www.instagram.com/p/CRoafavnOBy/\n",
      "https://scontent-ssn1-1.cdninstagram.com/v/t51.2885-15/e35/221552445_4113202398764076_5015566062410191536_n.jpg?_nc_ht=scontent-ssn1-1.cdninstagram.com&_nc_cat=100&_nc_ohc=cFK6eGvRKtUAX8DKxcC&edm=ABZsPhsBAAAA&ccb=7-4&oh=44485015abc2d1e73982fa76202ec61b&oe=6105888E&_nc_sid=4efc9f&ig_cache_key=MjYyMzQ2MzI4ODgwNjkzMjU4NA%3D%3D.2-ccb7-4\n",
      "\n",
      "https://www.instagram.com/p/CR0NxMVNxnb/\n",
      "https://scontent-ssn1-1.cdninstagram.com/v/t51.2885-15/e35/224977751_1496384757361823_295434548558787960_n.jpg?_nc_ht=scontent-ssn1-1.cdninstagram.com&_nc_cat=111&_nc_ohc=iWt8Ak0sdXcAX-cAodv&tn=Qh8kwLJ-FDfbugUW&edm=ABZsPhsBAAAA&ccb=7-4&oh=c10077742686f1656799006fe0db1de0&oe=610598A6&_nc_sid=4efc9f&ig_cache_key=MjYyNjc4NTAzNzc2MzY4MDczMQ%3D%3D.2-ccb7-4\n",
      "\n",
      "https://www.instagram.com/p/CR0Nkg6HzoD/\n",
      "https://scontent-ssn1-1.cdninstagram.com/v/t51.2885-15/e35/c140.0.360.360a/224175581_377281627080046_5710378126498507586_n.jpg?_nc_ht=scontent-ssn1-1.cdninstagram.com&_nc_cat=110&_nc_ohc=C3AybIU58OQAX8xowpi&tn=Qh8kwLJ-FDfbugUW&edm=ABZsPhsBAAAA&ccb=7-4&oh=71f61092ad8c10d04bf68fa71bd87b08&oe=6106CB8B&_nc_sid=4efc9f&ig_cache_key=MjYyNjc4NDE2NjUwNDUxMjAwMw%3D%3D.2-ccb7-4\n",
      "\n",
      "https://www.instagram.com/p/CR0NJ3YK-WM/\n",
      "https://scontent-ssn1-1.cdninstagram.com/v/t51.2885-15/e35/c0.92.736.736a/225130074_836347170319902_5542807627178894855_n.jpg?_nc_ht=scontent-ssn1-1.cdninstagram.com&_nc_cat=106&_nc_ohc=l1BGdt0jEUMAX8_VYbz&tn=Qh8kwLJ-FDfbugUW&edm=ABZsPhsBAAAA&ccb=7-4&oh=4828ce9fa1dd1ff538cf3324895e63c2&oe=61073576&_nc_sid=4efc9f&ig_cache_key=MjYyNjc4MjMzNTIwNTEwNzA4NA%3D%3D.2-ccb7-4\n",
      "\n",
      "https://www.instagram.com/p/CR0MyKGFsHK/\n",
      "https://scontent-ssn1-1.cdninstagram.com/v/t51.2885-15/e35/c6.0.737.737a/224146311_302782534923985_7408013669868042767_n.jpg?_nc_ht=scontent-ssn1-1.cdninstagram.com&_nc_cat=101&_nc_ohc=DCGFDWwHWx8AX-i09-4&tn=Qh8kwLJ-FDfbugUW&edm=ABZsPhsBAAAA&ccb=7-4&oh=0d8a1da8998b03d89d92f87048bcac00&oe=6105D6A7&_nc_sid=4efc9f&ig_cache_key=MjYyNjc4MDcwNjAzNTM4NDc3OA%3D%3D.2-ccb7-4\n",
      "\n",
      "https://www.instagram.com/p/CR0MjwcBZsQ/\n",
      "https://scontent-ssn1-1.cdninstagram.com/v/t51.2885-15/e35/224175931_367112111475330_1877390045890081823_n.jpg?_nc_ht=scontent-ssn1-1.cdninstagram.com&_nc_cat=106&_nc_ohc=NuBFwluXseoAX8KJeZG&edm=ABZsPhsBAAAA&ccb=7-4&oh=661774fe286048f8297b86fd1449ab8b&oe=61066483&_nc_sid=4efc9f&ig_cache_key=MjYyNjc3OTcxNjQxMzM5Nzc3Ng%3D%3D.2-ccb7-4\n",
      "\n",
      "https://www.instagram.com/p/CR0MGzNN3rt/\n",
      "https://scontent-ssn1-1.cdninstagram.com/v/t51.2885-15/e35/225357769_537908274089163_7347507693578552329_n.jpg?_nc_ht=scontent-ssn1-1.cdninstagram.com&_nc_cat=103&_nc_ohc=pOnVPV-txhIAX-A_GDG&edm=ABZsPhsBAAAA&ccb=7-4&oh=8905e533d547c7eed4a27a6abd104022&oe=6105B54E&_nc_sid=4efc9f&ig_cache_key=MjYyNjc3NzcyNjUyMTQwODIzNw%3D%3D.2-ccb7-4\n",
      "\n",
      "https://www.instagram.com/p/CR0LeTjNRAH/\n",
      "https://scontent-ssn1-1.cdninstagram.com/v/t51.2885-15/e35/c179.0.469.469a/224773410_543834513702322_419579537261984581_n.jpg?_nc_ht=scontent-ssn1-1.cdninstagram.com&_nc_cat=110&_nc_ohc=0F3u8azSmqEAX84zwiM&edm=ABZsPhsBAAAA&ccb=7-4&oh=809ece69534cfff5824277e39faacd90&oe=6106FEAD&_nc_sid=4efc9f&ig_cache_key=MjYyNjc3NDkzOTY4MzE2MzI0Ng%3D%3D.2-ccb7-4\n",
      "\n",
      "https://www.instagram.com/p/CR0K7LinMe6/\n",
      "https://scontent-ssn1-1.cdninstagram.com/v/t51.2885-15/e35/223759079_506330000662998_563180608995217493_n.jpg?_nc_ht=scontent-ssn1-1.cdninstagram.com&_nc_cat=106&_nc_ohc=H8jj9dtJ-94AX_C49Q1&edm=ABZsPhsBAAAA&ccb=7-4&oh=84e6f65c3858b23fea9a5658fb47cced&oe=6106EE09&_nc_sid=4efc9f&ig_cache_key=MjYyNjc3MjUyOTk2OTk0MDQxMA%3D%3D.2-ccb7-4\n",
      "\n",
      "https://www.instagram.com/p/CR0K5JkKLqr/\n",
      "https://scontent-ssn1-1.cdninstagram.com/v/t51.2885-15/e35/225372191_340914130975116_1909250791219357801_n.jpg?_nc_ht=scontent-ssn1-1.cdninstagram.com&_nc_cat=100&_nc_ohc=Jgcsa0PaQckAX-Bzyo0&edm=ABZsPhsBAAAA&ccb=7-4&oh=1b21423db30bfb58fcd011be313c90d2&oe=6106ED88&_nc_sid=4efc9f&ig_cache_key=MjYyNjc3MjM4MDk3MjQzMDY5Mg%3D%3D.2-ccb7-4\n",
      "\n",
      "https://www.instagram.com/p/CR0KqaTtS48/\n",
      "https://scontent-ssn1-1.cdninstagram.com/v/t51.2885-15/e35/224019683_181528487342378_8549207834305731183_n.jpg?_nc_ht=scontent-ssn1-1.cdninstagram.com&_nc_cat=102&_nc_ohc=igAG_tXi5YUAX8e7K8F&edm=ABZsPhsBAAAA&ccb=7-4&oh=f01b97407a195ec37dc7670843bad101&oe=61075485&_nc_sid=4efc9f&ig_cache_key=MjYyNjc3MTM3NzU5NDkwNDEyNA%3D%3D.2-ccb7-4\n",
      "\n",
      "https://www.instagram.com/p/CR0Knwgtzn0/\n",
      "https://scontent-ssn1-1.cdninstagram.com/v/t51.2885-15/e35/223693949_103666681968732_1371451378077853586_n.jpg?_nc_ht=scontent-ssn1-1.cdninstagram.com&_nc_cat=100&_nc_ohc=n9UB_9MIH04AX_mguSN&edm=ABZsPhsBAAAA&ccb=7-4&oh=5862bd6df98c1b4bfb2116b82d73042c&oe=61069AB7&_nc_sid=4efc9f&ig_cache_key=MjYyNjc3MTE5NTI3NzAzMTkyNA%3D%3D.2-ccb7-4\n",
      "\n",
      "https://www.instagram.com/p/CR0KkYANqgb/\n",
      "https://scontent-ssn1-1.cdninstagram.com/v/t51.2885-15/e35/225732713_515318173016461_8302697823693609833_n.jpg?_nc_ht=scontent-ssn1-1.cdninstagram.com&_nc_cat=101&_nc_ohc=hdtyC7WdN7IAX9JrI8z&tn=Qh8kwLJ-FDfbugUW&edm=ABZsPhsBAAAA&ccb=7-4&oh=1d79033c144819981ae12bfdfca0fc2d&oe=61071BE4&_nc_sid=4efc9f&ig_cache_key=MjYyNjc3MDk2MjgwMzUwMTA4Mw%3D%3D.2-ccb7-4\n",
      "\n",
      "https://www.instagram.com/p/CR0KI_ItW22/\n",
      "https://scontent-ssn1-1.cdninstagram.com/v/t51.2885-15/e35/225290546_2862240344025595_7821001435891319444_n.jpg?_nc_ht=scontent-ssn1-1.cdninstagram.com&_nc_cat=107&_nc_ohc=uyOGJ29_rcgAX9nqHV_&edm=ABZsPhsBAAAA&ccb=7-4&oh=47cc533d8407a7167fbb3967c45bb961&oe=61059F2E&_nc_sid=4efc9f&ig_cache_key=MjYyNjc2OTA3NjI4MTA4NTg5Mg%3D%3D.2-ccb7-4\n",
      "\n",
      "https://www.instagram.com/p/CR0Jz5JgyKE/\n",
      "https://scontent-ssn1-1.cdninstagram.com/v/t51.2885-15/e35/c157.0.406.406a/224117013_509691783620118_5313230487792235388_n.jpg?_nc_ht=scontent-ssn1-1.cdninstagram.com&_nc_cat=106&_nc_ohc=53VR_tBL3SkAX_UWPOo&tn=Qh8kwLJ-FDfbugUW&edm=ABZsPhsBAAAA&ccb=7-4&oh=d119c875947850747115487b19166787&oe=61066F6B&_nc_sid=4efc9f&ig_cache_key=MjYyNjc2NzYzMTEzODYyODIyOA%3D%3D.2-ccb7-4\n",
      "\n",
      "https://www.instagram.com/p/CR0J3l8g1i0/\n"
     ]
    },
    {
     "name": "stdout",
     "output_type": "stream",
     "text": [
      "https://scontent-ssn1-1.cdninstagram.com/v/t51.2885-15/e35/223614115_1147085882447277_843999693785657198_n.jpg?_nc_ht=scontent-ssn1-1.cdninstagram.com&_nc_cat=109&_nc_ohc=KExJ953Bzg0AX9JkR9q&edm=ABZsPhsBAAAA&ccb=7-4&oh=d5ea9d8f63c935aacc4d73e543c0ff9c&oe=61072579&_nc_sid=4efc9f&ig_cache_key=MjYyNjc2Nzg4NTM5NzM1MDU4MA%3D%3D.2-ccb7-4\n",
      "\n",
      "https://www.instagram.com/p/CR0JmxWtKgq/\n",
      "https://scontent-ssn1-1.cdninstagram.com/v/t51.2885-15/e35/224226754_900507117484562_7195984378562661804_n.jpg?_nc_ht=scontent-ssn1-1.cdninstagram.com&_nc_cat=102&_nc_ohc=Ak47Uyj847EAX8ZBN0I&edm=ABZsPhsBAAAA&ccb=7-4&oh=e168fe829076efea58ca4531960fe8c3&oe=6106171C&_nc_sid=4efc9f&ig_cache_key=MjYyNjc2NjcyNjAwMjc5NDcwNQ%3D%3D.2-ccb7-4\n",
      "\n",
      "https://www.instagram.com/p/CR0JlpkNb6W/\n",
      "https://scontent-ssn1-1.cdninstagram.com/v/t51.2885-15/e35/224890885_229024045626665_4699427324630627400_n.jpg?_nc_ht=scontent-ssn1-1.cdninstagram.com&_nc_cat=105&_nc_ohc=rKGmi-z49pcAX97smvS&tn=Qh8kwLJ-FDfbugUW&edm=ABZsPhsBAAAA&ccb=7-4&oh=d4f653359e7da40985f23718e5698f38&oe=6105A53B&_nc_sid=4efc9f&ig_cache_key=MjYyNjc2NjQ3OTQwODcwNTYyOA%3D%3D.2-ccb7-4\n",
      "\n",
      "https://www.instagram.com/p/CR0JQ2otI_F/\n",
      "https://scontent-ssn1-1.cdninstagram.com/v/t51.2885-15/e35/224570272_230651948909150_1353617287117006371_n.jpg?_nc_ht=scontent-ssn1-1.cdninstagram.com&_nc_cat=102&_nc_ohc=LVHkZKM32ggAX8pGhPw&edm=ABZsPhsBAAAA&ccb=7-4&oh=d58451278f530167b113d2ef9c603fbb&oe=6107272C&_nc_sid=4efc9f&ig_cache_key=MjYyNjc2NTIyMzI1OTA0OTkyNQ%3D%3D.2-ccb7-4\n",
      "\n",
      "https://www.instagram.com/p/CR0JM6eNXsM/\n",
      "https://scontent-ssn1-1.cdninstagram.com/v/t51.2885-15/e35/224763555_205931821464497_8459970814380294021_n.jpg?_nc_ht=scontent-ssn1-1.cdninstagram.com&_nc_cat=105&_nc_ohc=qeC4CWYtd84AX9mSKCs&edm=ABZsPhsBAAAA&ccb=7-4&oh=c2c71af7d51e52b709cc4022cb3f2d6b&oe=6106FE4D&_nc_sid=4efc9f&ig_cache_key=MjYyNjc2NDk0NjQ2ODU4Mjg1MQ%3D%3D.2-ccb7-4\n",
      "\n",
      "https://www.instagram.com/p/CR0JAtLHFWO/\n",
      "https://scontent-ssn1-1.cdninstagram.com/v/t51.2885-15/e35/225474039_340590597662589_7889752637087046048_n.jpg?_nc_ht=scontent-ssn1-1.cdninstagram.com&_nc_cat=109&_nc_ohc=y0zc3QwfAKkAX_H5IiF&edm=ABZsPhsBAAAA&ccb=7-4&oh=c6e557b619f0c17a170ab51de62893a5&oe=6106891A&_nc_sid=4efc9f&ig_cache_key=MjYyNjc2NDExMDMzMjY1Njk1OQ%3D%3D.2-ccb7-4\n",
      "\n",
      "https://www.instagram.com/p/CR0I_4ltM0-/\n",
      "https://scontent-ssn1-1.cdninstagram.com/v/t51.2885-15/e35/c0.2.720.720a/224742746_286759933224151_5759602920698549620_n.jpg?_nc_ht=scontent-ssn1-1.cdninstagram.com&_nc_cat=107&_nc_ohc=4cenxwqVJZEAX9vy6O0&edm=ABZsPhsBAAAA&ccb=7-4&oh=b43eda1ef8c2d783261523ad29ddc2a4&oe=6105EAA3&_nc_sid=4efc9f&ig_cache_key=MjYyNjc2NDA1NzEyNTExMzE1MA%3D%3D.2-ccb7-4\n",
      "\n",
      "https://www.instagram.com/p/CR0IhehApLs/\n",
      "https://scontent-ssn1-1.cdninstagram.com/v/t51.2885-15/e35/225534824_367485901644825_1479741304833745329_n.jpg?_nc_ht=scontent-ssn1-1.cdninstagram.com&_nc_cat=109&_nc_ohc=9nhwJRPE8igAX_PxeuK&tn=Qh8kwLJ-FDfbugUW&edm=ABZsPhsBAAAA&ccb=7-4&oh=a6aef56e1dc330311985d4b32adf3845&oe=61057E14&_nc_sid=4efc9f&ig_cache_key=MjYyNjc2MTk2NzU0NDczNDQ0NA%3D%3D.2-ccb7-4\n",
      "\n",
      "https://www.instagram.com/p/CR0IMHWNU_f/\n",
      "https://scontent-ssn1-1.cdninstagram.com/v/t51.2885-15/e35/c0.92.736.736a/225283428_352097373092783_3071597179502935654_n.jpg?_nc_ht=scontent-ssn1-1.cdninstagram.com&_nc_cat=111&_nc_ohc=wI0V4TE-vB4AX8oKIUz&tn=Qh8kwLJ-FDfbugUW&edm=ABZsPhsBAAAA&ccb=7-4&oh=92570f5da10ac11cc28df307e6405652&oe=6105D126&_nc_sid=4efc9f&ig_cache_key=MjYyNjc2MDQ5OTU1ODQzNjgzMQ%3D%3D.2-ccb7-4\n",
      "\n",
      "https://www.instagram.com/p/CR0HXytndcB/\n",
      "https://scontent-ssn1-1.cdninstagram.com/v/t51.2885-15/e35/227605984_101205415572485_1229888859548479889_n.jpg?_nc_ht=scontent-ssn1-1.cdninstagram.com&_nc_cat=105&_nc_ohc=bfSFJ3IPpSoAX8mvtrS&edm=ABZsPhsBAAAA&ccb=7-4&oh=d73c2573fb611186763dbdf2c7edf7bc&oe=6106EB19&_nc_sid=4efc9f&ig_cache_key=MjYyNjc1NjkwMzk4OTc5NDU2MQ%3D%3D.2-ccb7-4\n",
      "\n"
     ]
    }
   ],
   "source": [
    "driver = webdriver.Chrome()\n",
    "driver.get('https://instagram.com')\n",
    "\n",
    "time.sleep(4)\n",
    "\n",
    "# 클래스 검색 결과 '_2hvTZ' 두개가 나옴 -> 하나는 id 입력창, 하나는 pw 입력창 -> 구분을 위해 뒤에 '[0]' 인덱싱 처리\n",
    "e = driver.find_elements_by_class_name('_2hvTZ')[0]\n",
    "e.send_keys('id')\n",
    "\n",
    "e = driver.find_elements_by_class_name('_2hvTZ')[1]\n",
    "e.send_keys('pw')\n",
    "e.send_keys(Keys.ENTER)\n",
    "\n",
    "time.sleep(3)\n",
    "\n",
    "driver.get('https://www.instagram.com/explore/tags/%EC%95%84%EC%9D%B4%EC%9C%A0/')\n",
    "\n",
    "time.sleep(3)\n",
    "\n",
    "html = driver.page_source\n",
    "soup = BeautifulSoup(html)\n",
    "\n",
    "insta = soup.select('.v1Nh3.kIKUG._bz0w')\n",
    "\n",
    "n = 1\n",
    "for i in insta:\n",
    "    print('https://www.instagram.com' + i.a['href'])\n",
    "    imgUrl = i.select_one('.KL4Bh').img['src']\n",
    "    with urlopen(imgUrl) as f:\n",
    "        with open('./Img/' + '아이유' + str(n) + '.jpg', 'wb') as h:\n",
    "            img = f.read()\n",
    "            h.write(img)\n",
    "    n += 1\n",
    "    print(imgUrl)\n",
    "    print()\n",
    "    \n",
    "driver.close()"
   ]
  },
  {
   "cell_type": "code",
   "execution_count": null,
   "id": "f8bbd8d2",
   "metadata": {},
   "outputs": [],
   "source": []
  },
  {
   "cell_type": "code",
   "execution_count": null,
   "id": "f692edb2",
   "metadata": {},
   "outputs": [],
   "source": []
  },
  {
   "cell_type": "code",
   "execution_count": null,
   "id": "cbeb85fe",
   "metadata": {},
   "outputs": [],
   "source": []
  },
  {
   "cell_type": "code",
   "execution_count": null,
   "id": "03dd0909",
   "metadata": {},
   "outputs": [],
   "source": []
  }
 ],
 "metadata": {
  "kernelspec": {
   "display_name": "Python 3",
   "language": "python",
   "name": "python3"
  },
  "language_info": {
   "codemirror_mode": {
    "name": "ipython",
    "version": 3
   },
   "file_extension": ".py",
   "mimetype": "text/x-python",
   "name": "python",
   "nbconvert_exporter": "python",
   "pygments_lexer": "ipython3",
   "version": "3.8.8"
  }
 },
 "nbformat": 4,
 "nbformat_minor": 5
}
